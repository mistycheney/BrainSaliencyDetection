{
 "cells": [
  {
   "cell_type": "code",
   "execution_count": 1,
   "metadata": {
    "collapsed": false
   },
   "outputs": [
    {
     "name": "stdout",
     "output_type": "stream",
     "text": [
      "Setting environment for Gordon\n"
     ]
    }
   ],
   "source": [
    "# Also see the executable and distributed versions in the same folder.\n",
    "\n",
    "%reload_ext autoreload\n",
    "%autoreload 2\n",
    "\n",
    "import os\n",
    "import sys\n",
    "sys.path.append(os.path.join(os.environ['REPO_DIR'], 'utilities'))\n",
    "from visualization_utilities import *\n",
    "from metadata import *\n",
    "from utilities2015 import *\n",
    "from data_manager import *"
   ]
  },
  {
   "cell_type": "code",
   "execution_count": 2,
   "metadata": {
    "collapsed": true
   },
   "outputs": [],
   "source": [
    "stack = 'MD589'"
   ]
  },
  {
   "cell_type": "code",
   "execution_count": 3,
   "metadata": {
    "collapsed": true
   },
   "outputs": [],
   "source": [
    "viz_dir = create_if_not_exists(os.path.join(annotation_midbrainIncluded_v2_rootdir, 'viz', stack))"
   ]
  },
  {
   "cell_type": "code",
   "execution_count": 4,
   "metadata": {
    "collapsed": false,
    "scrolled": true
   },
   "outputs": [],
   "source": [
    "# # for stack in all_stacks:\n",
    "# for stack in ['MD589']:\n",
    "#     first_sec, last_sec = metadata_cache['section_limits'][stack]\n",
    "# #     first_sec = 150\n",
    "# #     last_sec = 160\n",
    "\n",
    "#     bar = show_progress_bar(first_sec, last_sec)\n",
    "#     for sec in range(first_sec, last_sec+1):\n",
    "#         bar.value = sec\n",
    "#         _ = annotation_v2_overlay_on(bg='original', stack=stack, section=sec, users=['yuncong'], downscale_factor=8,\n",
    "#                                     annotation_rootdir=annotation_midbrainIncluded_v2_rootdir,\n",
    "#                                     export_filepath_fmt=os.path.join(viz_dir, stack, '%(stack)s_%(sec)04d_%(annofn)s.jpg'))"
   ]
  },
  {
   "cell_type": "code",
   "execution_count": 5,
   "metadata": {
    "collapsed": false
   },
   "outputs": [],
   "source": [
    "# display_image(viz)"
   ]
  },
  {
   "cell_type": "code",
   "execution_count": null,
   "metadata": {
    "collapsed": true
   },
   "outputs": [],
   "source": []
  },
  {
   "cell_type": "code",
   "execution_count": 7,
   "metadata": {
    "collapsed": false
   },
   "outputs": [
    {
     "name": "stdout",
     "output_type": "stream",
     "text": [
      "'No object named structures in the file'\n",
      "crop: 569 1053 140 512\n"
     ]
    },
    {
     "name": "stderr",
     "output_type": "stream",
     "text": [
      "Annotation has no structures.\n"
     ]
    }
   ],
   "source": [
    "contour_df, _ = DataManager.load_annotation_v3(stack=stack, annotation_rootdir=annotation_midbrainIncluded_v2_rootdir)\n",
    "\n",
    "downsample_factor = 8\n",
    "\n",
    "anchor_filename = metadata_cache['anchor_fn'][stack]\n",
    "sections_to_filenames = metadata_cache['sections_to_filenames'][stack]\n",
    "filenames_to_sections = {f: s for s, f in sections_to_filenames.iteritems()\n",
    "                        if f not in ['Placeholder', 'Nonexisting', 'Rescan']}\n",
    "\n",
    "# Load transforms, defined on thumbnails\n",
    "import cPickle as pickle\n",
    "Ts = pickle.load(open(thumbnail_data_dir + '/%(stack)s/%(stack)s_elastix_output/%(stack)s_transformsTo_anchor.pkl' % dict(stack=stack), 'r'))\n",
    "\n",
    "Ts_inv_downsampled = {}\n",
    "for fn, T0 in Ts.iteritems():\n",
    "    T = T0.copy()\n",
    "    T[:2, 2] = T[:2, 2] * 32 / downsample_factor\n",
    "    Tinv = np.linalg.inv(T)\n",
    "    Ts_inv_downsampled[fn] = Tinv\n",
    "\n",
    "# Load bounds\n",
    "crop_xmin, crop_xmax, crop_ymin, crop_ymax = metadata_cache['cropbox'][stack]\n",
    "print 'crop:', crop_xmin, crop_xmax, crop_ymin, crop_ymax\n",
    "\n",
    "# tb_vol_xmin, tb_vol_xmax, tb_vol_ymin, tb_vol_ymax, tb_vol_zmin, tb_vol_zmax = \\\n",
    "# np.loadtxt(os.path.join(VOLUME_ROOTDIR, stack, '%(stack)s_down%(downsample)dVolume_bbox.txt') % \\\n",
    "#            dict(stack=stack, downsample=32), dtype=np.int)\n",
    "# print 'tb_vol:', tb_vol_xmin, tb_vol_xmax, tb_vol_ymin, tb_vol_ymax, tb_vol_zmin, tb_vol_zmax"
   ]
  },
  {
   "cell_type": "code",
   "execution_count": 8,
   "metadata": {
    "collapsed": true
   },
   "outputs": [],
   "source": [
    "paired_structures = ['5N', '6N', '7N', '7n', 'Amb', 'LC', 'LRt', 'Pn', 'Tz', 'VLL', 'RMC', 'SNC', 'SNR', '3N', '4N',\n",
    "                    'Sp5I', 'Sp5O', 'Sp5C', 'PBG', '10N', 'VCA', 'VCP', 'DC']\n",
    "singular_structures = ['AP', '12N', 'RtTg', 'SC', 'IC']\n",
    "structures = paired_structures + singular_structures\n",
    "\n",
    "structure_colors = {n: np.random.randint(0, 255, (3,)) for n in structures}"
   ]
  },
  {
   "cell_type": "code",
   "execution_count": 9,
   "metadata": {
    "collapsed": true
   },
   "outputs": [],
   "source": [
    "first_sec, last_sec = metadata_cache['section_limits'][stack]"
   ]
  },
  {
   "cell_type": "code",
   "execution_count": 10,
   "metadata": {
    "collapsed": false,
    "scrolled": true
   },
   "outputs": [
    {
     "name": "stderr",
     "output_type": "stream",
     "text": [
      "/oasis/projects/nsf/csd395/yuncong/brain_virtualenv/lib/python2.7/site-packages/PIL/Image.py:2246: DecompressionBombWarning: Image size (185246720 pixels) exceeds limit of 89478485 pixels, could be decompression bomb DOS attack.\n",
      "  DecompressionBombWarning)\n",
      "Overlay visualize: 5.52\n",
      "Overlay visualize: 5.31\n",
      "Overlay visualize: 5.45\n",
      "Overlay visualize: 5.50\n",
      "Overlay visualize: 5.50\n",
      "Overlay visualize: 5.54\n",
      "Overlay visualize: 5.46\n",
      "Overlay visualize: 5.51\n",
      "Overlay visualize: 5.45\n",
      "Overlay visualize: 5.51\n",
      "Overlay visualize: 5.55\n",
      "Overlay visualize: 5.55\n",
      "Overlay visualize: 5.47\n",
      "Overlay visualize: 5.53\n",
      "Overlay visualize: 5.51\n",
      "Overlay visualize: 5.49\n",
      "Overlay visualize: 5.57\n",
      "Overlay visualize: 5.57\n",
      "Overlay visualize: 5.54\n",
      "Overlay visualize: 5.51\n",
      "Overlay visualize: 5.47\n",
      "Overlay visualize: 5.50\n",
      "Overlay visualize: 5.56\n",
      "Overlay visualize: 5.55\n",
      "Overlay visualize: 5.56\n",
      "Overlay visualize: 5.53\n",
      "Overlay visualize: 5.55\n",
      "Overlay visualize: 5.51\n",
      "Overlay visualize: 5.69\n",
      "Overlay visualize: 5.93\n",
      "Overlay visualize: 5.90\n",
      "Overlay visualize: 5.94\n",
      "Overlay visualize: 5.88\n",
      "Overlay visualize: 6.00\n",
      "Overlay visualize: 6.00\n",
      "Overlay visualize: 5.95\n",
      "Overlay visualize: 5.89\n",
      "Overlay visualize: 5.86\n",
      "Overlay visualize: 5.94\n",
      "Overlay visualize: 6.04\n",
      "Overlay visualize: 6.01\n",
      "Overlay visualize: 5.99\n",
      "Overlay visualize: 5.92\n",
      "Overlay visualize: 5.92\n",
      "Overlay visualize: 6.13\n",
      "Overlay visualize: 6.03\n",
      "Overlay visualize: 6.07\n",
      "Overlay visualize: 5.98\n",
      "Overlay visualize: 5.96\n",
      "Overlay visualize: 5.81\n",
      "Overlay visualize: 5.88\n",
      "Overlay visualize: 5.98\n",
      "Overlay visualize: 6.09\n",
      "Overlay visualize: 5.94\n",
      "Overlay visualize: 5.99\n",
      "Overlay visualize: 5.85\n",
      "Overlay visualize: 6.02\n",
      "Overlay visualize: 6.02\n",
      "Overlay visualize: 6.13\n",
      "Overlay visualize: 5.90\n",
      "Overlay visualize: 6.03\n",
      "Overlay visualize: 6.07\n",
      "Overlay visualize: 6.13\n",
      "Overlay visualize: 5.96\n",
      "Overlay visualize: 6.10\n",
      "Overlay visualize: 5.99\n",
      "Overlay visualize: 5.97\n",
      "Overlay visualize: 5.99\n",
      "Overlay visualize: 5.97\n",
      "Overlay visualize: 6.07\n",
      "Overlay visualize: 5.97\n",
      "Overlay visualize: 5.94\n",
      "Overlay visualize: 6.05\n",
      "Overlay visualize: 6.23\n",
      "Overlay visualize: 5.98\n",
      "Overlay visualize: 6.13\n",
      "Overlay visualize: 6.11\n",
      "Overlay visualize: 6.04\n",
      "Overlay visualize: 6.01\n",
      "Overlay visualize: 5.98\n",
      "Overlay visualize: 6.04\n",
      "Overlay visualize: 6.03\n",
      "Overlay visualize: 6.14\n",
      "Overlay visualize: 6.00\n",
      "Overlay visualize: 6.06\n",
      "Overlay visualize: 6.22\n",
      "Overlay visualize: 6.12\n",
      "Overlay visualize: 6.07\n",
      "Overlay visualize: 6.13\n",
      "Overlay visualize: 5.97\n",
      "Overlay visualize: 5.66\n",
      "Overlay visualize: 6.09\n",
      "Overlay visualize: 6.15\n",
      "Overlay visualize: 6.05\n",
      "Overlay visualize: 6.04\n",
      "Overlay visualize: 6.01\n",
      "Overlay visualize: 6.06\n",
      "Overlay visualize: 5.97\n",
      "Overlay visualize: 6.05\n",
      "Overlay visualize: 6.11\n",
      "Overlay visualize: 6.02\n",
      "Overlay visualize: 6.04\n",
      "Overlay visualize: 6.05\n",
      "Overlay visualize: 6.18\n",
      "Overlay visualize: 6.08\n",
      "Overlay visualize: 6.00\n",
      "Overlay visualize: 5.96\n",
      "Overlay visualize: 5.65\n",
      "Overlay visualize: 6.21\n",
      "Overlay visualize: 6.00\n",
      "Overlay visualize: 6.02\n",
      "Overlay visualize: 6.02\n",
      "Overlay visualize: 5.98\n",
      "Overlay visualize: 5.99\n",
      "Overlay visualize: 6.10\n",
      "Overlay visualize: 6.10\n",
      "Overlay visualize: 6.10\n",
      "Overlay visualize: 5.92\n",
      "Overlay visualize: 5.91\n",
      "Overlay visualize: 6.01\n",
      "Overlay visualize: 5.94\n",
      "Overlay visualize: 5.93\n",
      "Overlay visualize: 5.96\n",
      "Overlay visualize: 6.10\n",
      "Overlay visualize: 6.01\n",
      "Overlay visualize: 5.96\n",
      "Overlay visualize: 5.88\n",
      "Overlay visualize: 6.14\n",
      "Overlay visualize: 6.03\n",
      "Overlay visualize: 5.98\n",
      "Overlay visualize: 5.96\n",
      "Overlay visualize: 5.92\n",
      "Overlay visualize: 5.92\n",
      "Overlay visualize: 6.09\n",
      "Overlay visualize: 6.04\n",
      "Overlay visualize: 6.07\n",
      "Overlay visualize: 6.08\n",
      "Overlay visualize: 6.04\n",
      "Overlay visualize: 6.09\n",
      "Overlay visualize: 5.96\n",
      "Overlay visualize: 6.02\n",
      "Overlay visualize: 5.99\n",
      "Overlay visualize: 6.08\n",
      "Overlay visualize: 6.05\n",
      "Overlay visualize: 5.94\n",
      "Overlay visualize: 6.02\n",
      "Overlay visualize: 6.13\n",
      "Overlay visualize: 6.15\n",
      "Overlay visualize: 5.96\n",
      "Overlay visualize: 5.98\n",
      "Overlay visualize: 6.13\n",
      "Overlay visualize: 5.97\n",
      "Overlay visualize: 6.01\n",
      "Overlay visualize: 6.06\n",
      "Overlay visualize: 6.18\n",
      "Overlay visualize: 6.04\n",
      "Overlay visualize: 5.65\n",
      "Overlay visualize: 5.99\n",
      "Overlay visualize: 6.06\n",
      "Overlay visualize: 6.01\n",
      "Overlay visualize: 5.88\n",
      "Overlay visualize: 6.07\n",
      "Overlay visualize: 5.89\n",
      "Overlay visualize: 6.04\n",
      "Overlay visualize: 5.91\n",
      "Overlay visualize: 6.08\n",
      "Overlay visualize: 6.11\n",
      "Overlay visualize: 6.14\n",
      "Overlay visualize: 6.08\n",
      "Overlay visualize: 6.13\n",
      "Overlay visualize: 6.04\n",
      "Overlay visualize: 5.97\n",
      "Overlay visualize: 6.03\n",
      "Overlay visualize: 6.18\n",
      "Overlay visualize: 6.00\n",
      "Overlay visualize: 5.97\n",
      "Overlay visualize: 5.65\n",
      "Overlay visualize: 6.15\n",
      "Overlay visualize: 6.01\n",
      "Overlay visualize: 6.01\n",
      "Overlay visualize: 5.94\n",
      "Overlay visualize: 6.00\n",
      "Overlay visualize: 5.96\n",
      "Overlay visualize: 5.95\n",
      "Overlay visualize: 6.05\n",
      "Overlay visualize: 6.15\n",
      "Overlay visualize: 6.03\n",
      "Overlay visualize: 5.93\n",
      "Overlay visualize: 6.08\n",
      "Overlay visualize: 6.01\n",
      "Overlay visualize: 6.09\n",
      "Overlay visualize: 5.94\n",
      "Overlay visualize: 5.96\n",
      "Overlay visualize: 5.90\n",
      "Overlay visualize: 5.99\n",
      "Overlay visualize: 5.96\n",
      "Overlay visualize: 5.98\n",
      "Overlay visualize: 5.94\n",
      "Overlay visualize: 6.09\n",
      "Overlay visualize: 6.04\n"
     ]
    },
    {
     "ename": "KeyboardInterrupt",
     "evalue": "",
     "output_type": "error",
     "traceback": [
      "\u001b[0;31m---------------------------------------------------------------------------\u001b[0m",
      "\u001b[0;31mKeyboardInterrupt\u001b[0m                         Traceback (most recent call last)",
      "\u001b[0;32m<ipython-input-10-91eb95835203>\u001b[0m in \u001b[0;36m<module>\u001b[0;34m()\u001b[0m\n\u001b[1;32m     12\u001b[0m         \u001b[0;32mcontinue\u001b[0m\u001b[0;34m\u001b[0m\u001b[0m\n\u001b[1;32m     13\u001b[0m \u001b[0;34m\u001b[0m\u001b[0m\n\u001b[0;32m---> 14\u001b[0;31m     \u001b[0mimg\u001b[0m \u001b[0;34m=\u001b[0m \u001b[0mimread\u001b[0m\u001b[0;34m(\u001b[0m\u001b[0mDataManager\u001b[0m\u001b[0;34m.\u001b[0m\u001b[0mget_image_filepath\u001b[0m\u001b[0;34m(\u001b[0m\u001b[0mstack\u001b[0m\u001b[0;34m,\u001b[0m \u001b[0mfn\u001b[0m\u001b[0;34m=\u001b[0m\u001b[0mfn\u001b[0m\u001b[0;34m,\u001b[0m \u001b[0mresol\u001b[0m\u001b[0;34m=\u001b[0m\u001b[0;34m'lossless'\u001b[0m\u001b[0;34m,\u001b[0m \u001b[0mversion\u001b[0m\u001b[0;34m=\u001b[0m\u001b[0;34m'compressed'\u001b[0m\u001b[0;34m)\u001b[0m\u001b[0;34m)\u001b[0m\u001b[0;34m\u001b[0m\u001b[0m\n\u001b[0m\u001b[1;32m     15\u001b[0m     \u001b[0mviz\u001b[0m \u001b[0;34m=\u001b[0m \u001b[0mimg\u001b[0m\u001b[0;34m[\u001b[0m\u001b[0;34m:\u001b[0m\u001b[0;34m:\u001b[0m\u001b[0mdownsample_factor\u001b[0m\u001b[0;34m,\u001b[0m \u001b[0;34m:\u001b[0m\u001b[0;34m:\u001b[0m\u001b[0mdownsample_factor\u001b[0m\u001b[0;34m]\u001b[0m\u001b[0;34m.\u001b[0m\u001b[0mcopy\u001b[0m\u001b[0;34m(\u001b[0m\u001b[0;34m)\u001b[0m\u001b[0;34m\u001b[0m\u001b[0m\n\u001b[1;32m     16\u001b[0m \u001b[0;34m\u001b[0m\u001b[0m\n",
      "\u001b[0;32m/oasis/projects/nsf/csd395/yuncong/brain_virtualenv/lib/python2.7/site-packages/skimage/io/_io.pyc\u001b[0m in \u001b[0;36mimread\u001b[0;34m(fname, as_grey, plugin, flatten, **plugin_args)\u001b[0m\n\u001b[1;32m     59\u001b[0m \u001b[0;34m\u001b[0m\u001b[0m\n\u001b[1;32m     60\u001b[0m     \u001b[0;32mwith\u001b[0m \u001b[0mfile_or_url_context\u001b[0m\u001b[0;34m(\u001b[0m\u001b[0mfname\u001b[0m\u001b[0;34m)\u001b[0m \u001b[0;32mas\u001b[0m \u001b[0mfname\u001b[0m\u001b[0;34m:\u001b[0m\u001b[0;34m\u001b[0m\u001b[0m\n\u001b[0;32m---> 61\u001b[0;31m         \u001b[0mimg\u001b[0m \u001b[0;34m=\u001b[0m \u001b[0mcall_plugin\u001b[0m\u001b[0;34m(\u001b[0m\u001b[0;34m'imread'\u001b[0m\u001b[0;34m,\u001b[0m \u001b[0mfname\u001b[0m\u001b[0;34m,\u001b[0m \u001b[0mplugin\u001b[0m\u001b[0;34m=\u001b[0m\u001b[0mplugin\u001b[0m\u001b[0;34m,\u001b[0m \u001b[0;34m**\u001b[0m\u001b[0mplugin_args\u001b[0m\u001b[0;34m)\u001b[0m\u001b[0;34m\u001b[0m\u001b[0m\n\u001b[0m\u001b[1;32m     62\u001b[0m \u001b[0;34m\u001b[0m\u001b[0m\n\u001b[1;32m     63\u001b[0m     \u001b[0;32mif\u001b[0m \u001b[0;32mnot\u001b[0m \u001b[0mhasattr\u001b[0m\u001b[0;34m(\u001b[0m\u001b[0mimg\u001b[0m\u001b[0;34m,\u001b[0m \u001b[0;34m'ndim'\u001b[0m\u001b[0;34m)\u001b[0m\u001b[0;34m:\u001b[0m\u001b[0;34m\u001b[0m\u001b[0m\n",
      "\u001b[0;32m/oasis/projects/nsf/csd395/yuncong/brain_virtualenv/lib/python2.7/site-packages/skimage/io/manage_plugins.pyc\u001b[0m in \u001b[0;36mcall_plugin\u001b[0;34m(kind, *args, **kwargs)\u001b[0m\n\u001b[1;32m    209\u001b[0m                                (plugin, kind))\n\u001b[1;32m    210\u001b[0m \u001b[0;34m\u001b[0m\u001b[0m\n\u001b[0;32m--> 211\u001b[0;31m     \u001b[0;32mreturn\u001b[0m \u001b[0mfunc\u001b[0m\u001b[0;34m(\u001b[0m\u001b[0;34m*\u001b[0m\u001b[0margs\u001b[0m\u001b[0;34m,\u001b[0m \u001b[0;34m**\u001b[0m\u001b[0mkwargs\u001b[0m\u001b[0;34m)\u001b[0m\u001b[0;34m\u001b[0m\u001b[0m\n\u001b[0m\u001b[1;32m    212\u001b[0m \u001b[0;34m\u001b[0m\u001b[0m\n\u001b[1;32m    213\u001b[0m \u001b[0;34m\u001b[0m\u001b[0m\n",
      "\u001b[0;32m/oasis/projects/nsf/csd395/yuncong/brain_virtualenv/lib/python2.7/site-packages/skimage/io/_plugins/pil_plugin.pyc\u001b[0m in \u001b[0;36mimread\u001b[0;34m(fname, dtype, img_num, **kwargs)\u001b[0m\n\u001b[1;32m     35\u001b[0m         \u001b[0;32mwith\u001b[0m \u001b[0mopen\u001b[0m\u001b[0;34m(\u001b[0m\u001b[0mfname\u001b[0m\u001b[0;34m,\u001b[0m \u001b[0;34m'rb'\u001b[0m\u001b[0;34m)\u001b[0m \u001b[0;32mas\u001b[0m \u001b[0mf\u001b[0m\u001b[0;34m:\u001b[0m\u001b[0;34m\u001b[0m\u001b[0m\n\u001b[1;32m     36\u001b[0m             \u001b[0mim\u001b[0m \u001b[0;34m=\u001b[0m \u001b[0mImage\u001b[0m\u001b[0;34m.\u001b[0m\u001b[0mopen\u001b[0m\u001b[0;34m(\u001b[0m\u001b[0mf\u001b[0m\u001b[0;34m)\u001b[0m\u001b[0;34m\u001b[0m\u001b[0m\n\u001b[0;32m---> 37\u001b[0;31m             \u001b[0;32mreturn\u001b[0m \u001b[0mpil_to_ndarray\u001b[0m\u001b[0;34m(\u001b[0m\u001b[0mim\u001b[0m\u001b[0;34m,\u001b[0m \u001b[0mdtype\u001b[0m\u001b[0;34m=\u001b[0m\u001b[0mdtype\u001b[0m\u001b[0;34m,\u001b[0m \u001b[0mimg_num\u001b[0m\u001b[0;34m=\u001b[0m\u001b[0mimg_num\u001b[0m\u001b[0;34m)\u001b[0m\u001b[0;34m\u001b[0m\u001b[0m\n\u001b[0m\u001b[1;32m     38\u001b[0m     \u001b[0;32melse\u001b[0m\u001b[0;34m:\u001b[0m\u001b[0;34m\u001b[0m\u001b[0m\n\u001b[1;32m     39\u001b[0m         \u001b[0mim\u001b[0m \u001b[0;34m=\u001b[0m \u001b[0mImage\u001b[0m\u001b[0;34m.\u001b[0m\u001b[0mopen\u001b[0m\u001b[0;34m(\u001b[0m\u001b[0mfname\u001b[0m\u001b[0;34m)\u001b[0m\u001b[0;34m\u001b[0m\u001b[0m\n",
      "\u001b[0;32m/oasis/projects/nsf/csd395/yuncong/brain_virtualenv/lib/python2.7/site-packages/skimage/io/_plugins/pil_plugin.pyc\u001b[0m in \u001b[0;36mpil_to_ndarray\u001b[0;34m(im, dtype, img_num)\u001b[0m\n\u001b[1;32m     51\u001b[0m     \u001b[0;32mtry\u001b[0m\u001b[0;34m:\u001b[0m\u001b[0;34m\u001b[0m\u001b[0m\n\u001b[1;32m     52\u001b[0m         \u001b[0;31m# this will raise an IOError if the file is not readable\u001b[0m\u001b[0;34m\u001b[0m\u001b[0;34m\u001b[0m\u001b[0m\n\u001b[0;32m---> 53\u001b[0;31m         \u001b[0mim\u001b[0m\u001b[0;34m.\u001b[0m\u001b[0mgetdata\u001b[0m\u001b[0;34m(\u001b[0m\u001b[0;34m)\u001b[0m\u001b[0;34m[\u001b[0m\u001b[0;36m0\u001b[0m\u001b[0;34m]\u001b[0m\u001b[0;34m\u001b[0m\u001b[0m\n\u001b[0m\u001b[1;32m     54\u001b[0m     \u001b[0;32mexcept\u001b[0m \u001b[0mIOError\u001b[0m \u001b[0;32mas\u001b[0m \u001b[0me\u001b[0m\u001b[0;34m:\u001b[0m\u001b[0;34m\u001b[0m\u001b[0m\n\u001b[1;32m     55\u001b[0m         \u001b[0msite\u001b[0m \u001b[0;34m=\u001b[0m \u001b[0;34m\"http://pillow.readthedocs.org/en/latest/installation.html#external-libraries\"\u001b[0m\u001b[0;34m\u001b[0m\u001b[0m\n",
      "\u001b[0;32m/oasis/projects/nsf/csd395/yuncong/brain_virtualenv/lib/python2.7/site-packages/PIL/Image.pyc\u001b[0m in \u001b[0;36mgetdata\u001b[0;34m(self, band)\u001b[0m\n\u001b[1;32m   1144\u001b[0m         \"\"\"\n\u001b[1;32m   1145\u001b[0m \u001b[0;34m\u001b[0m\u001b[0m\n\u001b[0;32m-> 1146\u001b[0;31m         \u001b[0mself\u001b[0m\u001b[0;34m.\u001b[0m\u001b[0mload\u001b[0m\u001b[0;34m(\u001b[0m\u001b[0;34m)\u001b[0m\u001b[0;34m\u001b[0m\u001b[0m\n\u001b[0m\u001b[1;32m   1147\u001b[0m         \u001b[0;32mif\u001b[0m \u001b[0mband\u001b[0m \u001b[0;32mis\u001b[0m \u001b[0;32mnot\u001b[0m \u001b[0mNone\u001b[0m\u001b[0;34m:\u001b[0m\u001b[0;34m\u001b[0m\u001b[0m\n\u001b[1;32m   1148\u001b[0m             \u001b[0;32mreturn\u001b[0m \u001b[0mself\u001b[0m\u001b[0;34m.\u001b[0m\u001b[0mim\u001b[0m\u001b[0;34m.\u001b[0m\u001b[0mgetband\u001b[0m\u001b[0;34m(\u001b[0m\u001b[0mband\u001b[0m\u001b[0;34m)\u001b[0m\u001b[0;34m\u001b[0m\u001b[0m\n",
      "\u001b[0;32m/oasis/projects/nsf/csd395/yuncong/brain_virtualenv/lib/python2.7/site-packages/PIL/ImageFile.pyc\u001b[0m in \u001b[0;36mload\u001b[0;34m(self)\u001b[0m\n\u001b[1;32m    223\u001b[0m \u001b[0;34m\u001b[0m\u001b[0m\n\u001b[1;32m    224\u001b[0m                         \u001b[0mb\u001b[0m \u001b[0;34m=\u001b[0m \u001b[0mb\u001b[0m \u001b[0;34m+\u001b[0m \u001b[0ms\u001b[0m\u001b[0;34m\u001b[0m\u001b[0m\n\u001b[0;32m--> 225\u001b[0;31m                         \u001b[0mn\u001b[0m\u001b[0;34m,\u001b[0m \u001b[0merr_code\u001b[0m \u001b[0;34m=\u001b[0m \u001b[0mdecoder\u001b[0m\u001b[0;34m.\u001b[0m\u001b[0mdecode\u001b[0m\u001b[0;34m(\u001b[0m\u001b[0mb\u001b[0m\u001b[0;34m)\u001b[0m\u001b[0;34m\u001b[0m\u001b[0m\n\u001b[0m\u001b[1;32m    226\u001b[0m                         \u001b[0;32mif\u001b[0m \u001b[0mn\u001b[0m \u001b[0;34m<\u001b[0m \u001b[0;36m0\u001b[0m\u001b[0;34m:\u001b[0m\u001b[0;34m\u001b[0m\u001b[0m\n\u001b[1;32m    227\u001b[0m                             \u001b[0;32mbreak\u001b[0m\u001b[0;34m\u001b[0m\u001b[0m\n",
      "\u001b[0;31mKeyboardInterrupt\u001b[0m: "
     ]
    }
   ],
   "source": [
    "bar = show_progress_bar(first_sec, last_sec)\n",
    "\n",
    "# for section in [270]:\n",
    "for section in range(first_sec, last_sec+1):\n",
    "    \n",
    "    t = time.time()\n",
    "    \n",
    "    bar.value = section\n",
    "    \n",
    "    fn = sections_to_filenames[section]\n",
    "    if fn in ['Nonexisting', 'Rescan', 'Placeholder']:\n",
    "        continue\n",
    "    \n",
    "    img = imread(DataManager.get_image_filepath(stack, fn=fn, resol='lossless', version='compressed'))\n",
    "    viz = img[::downsample_factor, ::downsample_factor].copy()\n",
    "    \n",
    "    for name_u in structures:\n",
    "        matched_contours = contour_df[(contour_df['name'] == name_u) & (contour_df['filename'] == fn)]\n",
    "        for cnt_id, cnt in matched_contours.iterrows():\n",
    "            n = len(cnt['vertices'])\n",
    "            \n",
    "            # Transform points\n",
    "            vertices_on_aligned = np.dot(Ts_inv_downsampled[fn], np.c_[cnt['vertices']/downsample_factor, np.ones((n,))].T).T[:, :2]\n",
    "\n",
    "            xs = vertices_on_aligned[:,0] - crop_xmin * 32 / downsample_factor\n",
    "            ys = vertices_on_aligned[:,1] - crop_ymin * 32 / downsample_factor\n",
    "\n",
    "            vertices_on_aligned_cropped = np.c_[xs, ys].astype(np.int)\n",
    "\n",
    "            cv2.polylines(viz, [vertices_on_aligned_cropped], True, structure_colors[name_u], 2)\n",
    "            \n",
    "    sys.stderr.write('Overlay visualize: %.2f seconds\\n' % (time.time() - t)) # 6 seconds\n",
    "    \n",
    "    viz_fn = os.path.join(viz_dir, '%(fn)s_annotation.jpg' % dict(fn=fn))\n",
    "    imsave(viz_fn, viz)"
   ]
  },
  {
   "cell_type": "code",
   "execution_count": 64,
   "metadata": {
    "collapsed": false
   },
   "outputs": [
    {
     "data": {
      "text/html": [
       "<a href='tmp.jpg' target='_blank'>tmp.jpg</a><br>"
      ],
      "text/plain": [
       "/oasis/projects/nsf/csd395/yuncong/Brain/annotation/tmp.jpg"
      ]
     },
     "execution_count": 64,
     "metadata": {},
     "output_type": "execute_result"
    }
   ],
   "source": [
    "display_image(viz)"
   ]
  }
 ],
 "metadata": {
  "kernelspec": {
   "display_name": "Python 2",
   "language": "python",
   "name": "python2"
  },
  "language_info": {
   "codemirror_mode": {
    "name": "ipython",
    "version": 2
   },
   "file_extension": ".py",
   "mimetype": "text/x-python",
   "name": "python",
   "nbconvert_exporter": "python",
   "pygments_lexer": "ipython2",
   "version": "2.7.3"
  },
  "widgets": {
   "state": {
    "534679980a04404aae496d5c90c07a11": {
     "views": [
      {
       "cell_index": 9
      }
     ]
    }
   },
   "version": "1.2.0"
  }
 },
 "nbformat": 4,
 "nbformat_minor": 0
}
