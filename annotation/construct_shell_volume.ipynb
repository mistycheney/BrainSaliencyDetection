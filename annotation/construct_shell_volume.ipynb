{
 "cells": [
  {
   "cell_type": "code",
   "execution_count": 17,
   "metadata": {
    "collapsed": false
   },
   "outputs": [
    {
     "name": "stdout",
     "output_type": "stream",
     "text": [
      "The autoreload extension is already loaded. To reload it, use:\n",
      "  %reload_ext autoreload\n"
     ]
    }
   ],
   "source": [
    "%load_ext autoreload\n",
    "%autoreload 2\n",
    "\n",
    "import numpy as np\n",
    "\n",
    "import sys\n",
    "import os\n",
    "\n",
    "sys.path.append(os.environ['REPO_DIR'] + '/utilities')\n",
    "from utilities2015 import *\n",
    "from metadata import *\n",
    "from data_manager import *\n",
    "\n",
    "from annotation_utilities import *\n",
    "from registration_utilities import *\n",
    "\n",
    "import matplotlib.pyplot as plt\n",
    "%matplotlib inline\n",
    "\n",
    "import time"
   ]
  },
  {
   "cell_type": "code",
   "execution_count": 18,
   "metadata": {
    "collapsed": true
   },
   "outputs": [],
   "source": [
    "from conversion import *"
   ]
  },
  {
   "cell_type": "code",
   "execution_count": 19,
   "metadata": {
    "collapsed": true
   },
   "outputs": [],
   "source": [
    "stack = 'MD592'"
   ]
  },
  {
   "cell_type": "code",
   "execution_count": 20,
   "metadata": {
    "collapsed": true
   },
   "outputs": [],
   "source": [
    "downsample_factor = 32\n",
    "xy_pixel_distance_downsampled = xy_pixel_distance_lossless * downsample_factor\n",
    "voxel_z_size = section_thickness / xy_pixel_distance_downsampled"
   ]
  },
  {
   "cell_type": "code",
   "execution_count": 21,
   "metadata": {
    "collapsed": false
   },
   "outputs": [],
   "source": [
    "sections_to_filenames = metadata_cache['sections_to_filenames'][stack]\n",
    "filenames_to_sections = {f: s for s, f in sections_to_filenames.iteritems() \n",
    "                        if f not in ['Placeholder', 'Nonexisting', 'Rescan']}"
   ]
  },
  {
   "cell_type": "code",
   "execution_count": 22,
   "metadata": {
    "collapsed": true
   },
   "outputs": [],
   "source": [
    "import cPickle as pickle\n",
    "Ts = pickle.load(open('/home/yuncong/CSHL_data_processed/%(stack)s/%(stack)s_elastix_output/%(stack)s_transformsTo_anchor.pkl' % dict(stack=stack), 'r'))\n",
    "\n",
    "Ts_inv_downsampled = {}\n",
    "for fn, T0 in Ts.iteritems():\n",
    "    T = T0.copy()\n",
    "    T[:2, 2] = T[:2, 2] * 32 / downsample_factor\n",
    "    Tinv = np.linalg.inv(T)\n",
    "    Ts_inv_downsampled[fn] = Tinv"
   ]
  },
  {
   "cell_type": "code",
   "execution_count": 23,
   "metadata": {
    "collapsed": false
   },
   "outputs": [],
   "source": [
    "# Compute vertices of outer shell\n",
    "\n",
    "outer_contours = []\n",
    "\n",
    "for fn, sec in filenames_to_sections.iteritems():\n",
    "    if fn in ['Placeholder', 'Nonexisting', 'Rescan']:\n",
    "        continue\n",
    "        \n",
    "    mask = imread(os.path.join(data_dir, stack, stack+'_mask_unsorted', fn + '_mask.png'))\n",
    "    contours = find_contour_points(mask, sample_every=5)[255]\n",
    "    \n",
    "    if len(contours) > 1:\n",
    "        outer_contour = sorted(contours, key=lambda x: len(x))[-1] # largest contour\n",
    "    else:\n",
    "        outer_contour = contours[0]\n",
    "        \n",
    "#     plt.plot(outer_contour[:,0], outer_contour[:,1]);\n",
    "        \n",
    "    z = voxel_z_size * (sec - 1)\n",
    "    n = len(outer_contour)\n",
    "    \n",
    "    vertices_on_aligned = np.dot(Ts_inv_downsampled[fn], np.c_[outer_contour*32/downsample_factor, np.ones((n,))].T).T[:, :2]\n",
    "    vertices_on_aligned_3d = np.c_[vertices_on_aligned, z*np.ones((n,))]\n",
    "    outer_contours.append(vertices_on_aligned_3d)"
   ]
  },
  {
   "cell_type": "code",
   "execution_count": 24,
   "metadata": {
    "collapsed": true
   },
   "outputs": [],
   "source": [
    "outerContour_volume, (oc_xmin,oc_xmax,oc_ymin,oc_ymax,oc_zmin,oc_zmax) = \\\n",
    "contours_to_volume(contours_grouped_by_label={1: outer_contours}, \n",
    "                   interpolation_direction='z', return_shell=True, len_interval=5)"
   ]
  },
  {
   "cell_type": "code",
   "execution_count": null,
   "metadata": {
    "collapsed": true
   },
   "outputs": [],
   "source": [
    "zs = range(0, outerContour_volume.shape[2], 3)\n",
    "\n",
    "fig, axes = plt.subplots(len(zs)/3+1, 3, figsize=(20,100) , squeeze=True);\n",
    "axes = axes.flatten()\n",
    "for i, z in enumerate(zs):\n",
    "#     print len(find_contour_points(outerContour_volume[..., z])[1])\n",
    "    axes[i].imshow(outerContour_volume[..., z], vmin=0, vmax=1, cmap=plt.cm.gray);\n",
    "    axes[i].set_title('z = %d' % z);\n",
    "plt.tight_layout();\n",
    "plt.show();"
   ]
  },
  {
   "cell_type": "code",
   "execution_count": 25,
   "metadata": {
    "collapsed": true
   },
   "outputs": [],
   "source": [
    "# Output\n",
    "\n",
    "bp.pack_ndarray_file(outerContour_volume, os.path.join(VOLUME_ROOTDIR, '%(stack)s/%(stack)s_down%(down)d_outerContourVolume.bp' % \\\n",
    "                                          dict(down=downsample_factor, stack=stack)))\n",
    "\n",
    "with open(os.path.join(VOLUME_ROOTDIR, '%(stack)s/%(stack)s_down%(down)d_outerContourVolume_bbox.txt' % \\\n",
    "                      dict(down=downsample_factor, stack=stack)), 'w') as f:\n",
    "        f.write((' '.join(['%d']*6)+'\\n') % (oc_xmin, oc_xmax, oc_ymin, oc_ymax, oc_zmin, oc_zmax))"
   ]
  },
  {
   "cell_type": "code",
   "execution_count": null,
   "metadata": {
    "collapsed": true
   },
   "outputs": [],
   "source": []
  }
 ],
 "metadata": {
  "kernelspec": {
   "display_name": "Python 2",
   "language": "python",
   "name": "python2"
  },
  "language_info": {
   "codemirror_mode": {
    "name": "ipython",
    "version": 2
   },
   "file_extension": ".py",
   "mimetype": "text/x-python",
   "name": "python",
   "nbconvert_exporter": "python",
   "pygments_lexer": "ipython2",
   "version": "2.7.3"
  }
 },
 "nbformat": 4,
 "nbformat_minor": 1
}
