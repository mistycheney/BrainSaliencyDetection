{
 "cells": [
  {
   "cell_type": "code",
   "execution_count": 1,
   "metadata": {
    "collapsed": false
   },
   "outputs": [
    {
     "name": "stdout",
     "output_type": "stream",
     "text": [
      "Setting environment for Gordon\n"
     ]
    }
   ],
   "source": [
    "%load_ext autoreload\n",
    "%autoreload 2\n",
    "\n",
    "import numpy as np\n",
    "\n",
    "import sys\n",
    "import os\n",
    "\n",
    "sys.path.append(os.environ['REPO_DIR'] + '/utilities')\n",
    "from utilities2015 import *\n",
    "from registration_utilities import *\n",
    "from metadata import *\n",
    "from data_manager import *\n",
    "\n",
    "import matplotlib.pyplot as plt\n",
    "%matplotlib inline\n",
    "\n",
    "from joblib import Parallel, delayed\n",
    "import time"
   ]
  },
  {
   "cell_type": "code",
   "execution_count": 2,
   "metadata": {
    "collapsed": true
   },
   "outputs": [],
   "source": [
    "stack_fixed = 'MD591'"
   ]
  },
  {
   "cell_type": "code",
   "execution_count": 3,
   "metadata": {
    "collapsed": true
   },
   "outputs": [],
   "source": [
    "train_sample_scheme = 1\n",
    "global_transform_scheme = 1\n",
    "\n",
    "stack_moving = 'atlas_on_MD589'"
   ]
  },
  {
   "cell_type": "code",
   "execution_count": 4,
   "metadata": {
    "collapsed": true
   },
   "outputs": [],
   "source": [
    "paired_structures = ['5N', '6N', '7N', '7n', 'Amb', 'LC', 'LRt', 'Pn', 'Tz', 'VLL', 'RMC', 'SNC', 'SNR', '3N', '4N',\n",
    "                    'Sp5I', 'Sp5O', 'Sp5C', 'PBG', '10N', 'VCA', 'VCP', 'DC']\n",
    "singular_structures = ['AP', '12N', 'RtTg', 'SC', 'IC']\n",
    "structures = paired_structures + singular_structures"
   ]
  },
  {
   "cell_type": "code",
   "execution_count": 5,
   "metadata": {
    "collapsed": false
   },
   "outputs": [],
   "source": [
    "label_to_name_fixed = {i+1: name for i, name in enumerate(sorted(structures))}\n",
    "name_to_label_fixed = {n:l for l, n in label_to_name_fixed.iteritems()}"
   ]
  },
  {
   "cell_type": "code",
   "execution_count": 6,
   "metadata": {
    "collapsed": true
   },
   "outputs": [],
   "source": [
    "label_to_name_moving = {i+1: name for i, name in enumerate(sorted(structures) + sorted([s+'_surround' for s in structures]))}\n",
    "name_to_label_moving = {n:l for l, n in label_to_name_moving.iteritems()}"
   ]
  },
  {
   "cell_type": "code",
   "execution_count": 7,
   "metadata": {
    "collapsed": false
   },
   "outputs": [
    {
     "name": "stdout",
     "output_type": "stream",
     "text": [
      "(410, 500, 375)\n",
      "float16\n"
     ]
    }
   ],
   "source": [
    "volume_fixed = {name_to_label_fixed[name]: DataManager.load_score_volume(stack=stack_fixed, label=name, downscale=32, train_sample_scheme=train_sample_scheme)\n",
    "               for name in structures}\n",
    "\n",
    "print volume_fixed.values()[0].shape\n",
    "print volume_fixed.values()[0].dtype\n",
    "\n",
    "vol_fixed_xmin, vol_fixed_ymin, vol_fixed_zmin = (0,0,0)\n",
    "vol_fixed_ymax, vol_fixed_xmax, vol_fixed_zmax = np.array(volume_fixed.values()[0].shape) - 1"
   ]
  },
  {
   "cell_type": "code",
   "execution_count": 8,
   "metadata": {
    "collapsed": false
   },
   "outputs": [
    {
     "name": "stdout",
     "output_type": "stream",
     "text": [
      "(348, 421, 377)\n",
      "float16\n"
     ]
    }
   ],
   "source": [
    "# volume_moving = {name_to_label_moving[name]: DataManager.load_score_volume(stack_moving, label=name, downscale=32)\n",
    "#                  for name in structures + [s+'_surround' for s in structures]}\n",
    "\n",
    "volume_moving = {name_to_label_moving[name]: DataManager.load_score_volume(stack=stack_moving, label=name, downscale=32, train_sample_scheme=None)\n",
    "               for name in structures}\n",
    "\n",
    "print volume_moving.values()[0].shape\n",
    "print volume_moving.values()[0].dtype\n",
    "\n",
    "vol_moving_xmin, vol_moving_ymin, vol_moving_zmin = (0,0,0)\n",
    "vol_moving_ymax, vol_moving_xmax, vol_moving_zmax = np.array(volume_moving.values()[0].shape) - 1"
   ]
  },
  {
   "cell_type": "code",
   "execution_count": 9,
   "metadata": {
    "collapsed": true
   },
   "outputs": [],
   "source": [
    "volume_moving_structure_sizes = {l: np.count_nonzero(vol > 0) for l, vol in volume_moving.iteritems()}"
   ]
  },
  {
   "cell_type": "code",
   "execution_count": 10,
   "metadata": {
    "collapsed": true
   },
   "outputs": [],
   "source": [
    "def convert_to_original_name(name):\n",
    "    return name.split('_')[0]\n",
    "\n",
    "labelIndexMap_m2f = {}\n",
    "for label_m, name_m in label_to_name_moving.iteritems():\n",
    "    labelIndexMap_m2f[label_m] = name_to_label_fixed[convert_to_original_name(name_m)]\n",
    "\n",
    "label_weights_m = {}\n",
    "for label_m, name_m in label_to_name_moving.iteritems():\n",
    "    if 'surround' in name_m:\n",
    "        label_weights_m[label_m] = 0\n",
    "    else:\n",
    "#         label_weights_m[label_m] = 1\n",
    "        label_weights_m[label_m] = np.minimum(1e5 / volume_moving_structure_sizes[label_m], 1.)"
   ]
  },
  {
   "cell_type": "code",
   "execution_count": null,
   "metadata": {
    "collapsed": true
   },
   "outputs": [],
   "source": []
  },
  {
   "cell_type": "code",
   "execution_count": 12,
   "metadata": {
    "collapsed": false
   },
   "outputs": [],
   "source": [
    "aligner = Aligner4(volume_fixed, volume_moving, labelIndexMap_m2f=labelIndexMap_m2f)"
   ]
  },
  {
   "cell_type": "code",
   "execution_count": 13,
   "metadata": {
    "collapsed": false
   },
   "outputs": [],
   "source": [
    "aligner.set_centroid(centroid_m='volume_centroid', centroid_f='volume_centroid')\n",
    "# aligner.set_centroid(centroid_m='structure_centroid', centroid_f='centroid_m', indices_m=[name_to_label_moving['SNR_R']])"
   ]
  },
  {
   "cell_type": "code",
   "execution_count": 14,
   "metadata": {
    "collapsed": true
   },
   "outputs": [],
   "source": [
    "gradient_filepath_map_f = {ind_f: DataManager.get_score_volume_gradient_filepath_template(stack=stack_fixed, label=label_to_name_fixed[ind_f],\n",
    "                            downscale=32, train_sample_scheme=train_sample_scheme)\n",
    "                            for ind_m, ind_f in labelIndexMap_m2f.iteritems()}"
   ]
  },
  {
   "cell_type": "code",
   "execution_count": 15,
   "metadata": {
    "collapsed": false,
    "scrolled": true
   },
   "outputs": [
    {
     "name": "stdout",
     "output_type": "stream",
     "text": [
      "set([1, 2, 3, 4, 5, 6, 7, 8, 9, 10, 11, 12, 13, 14, 15, 16, 17, 18, 19, 20, 21, 22, 23, 24, 25, 26, 27, 28])\n"
     ]
    },
    {
     "name": "stderr",
     "output_type": "stream",
     "text": [
      "load gradient 1: 1.493399 seconds\n",
      "load gradient 2: 1.811338 seconds\n",
      "load gradient 3: 2.258246 seconds\n",
      "load gradient 4: 1.544926 seconds\n",
      "load gradient 5: 2.080355 seconds\n",
      "load gradient 6: 1.126231 seconds\n",
      "load gradient 7: 2.022228 seconds\n",
      "load gradient 8: 1.383766 seconds\n",
      "load gradient 9: 1.464932 seconds\n",
      "load gradient 10: 1.865901 seconds\n",
      "load gradient 11: 2.302605 seconds\n",
      "load gradient 12: 2.492635 seconds\n",
      "load gradient 13: 1.658402 seconds\n",
      "load gradient 14: 2.766468 seconds\n",
      "load gradient 15: 2.080580 seconds\n",
      "load gradient 16: 3.059513 seconds\n",
      "load gradient 17: 3.129765 seconds\n",
      "load gradient 18: 2.897096 seconds\n",
      "load gradient 19: 2.625509 seconds\n",
      "load gradient 20: 2.657488 seconds\n",
      "load gradient 21: 2.685358 seconds\n",
      "load gradient 22: 2.171030 seconds\n",
      "load gradient 23: 2.592414 seconds\n",
      "load gradient 24: 2.669942 seconds\n",
      "load gradient 25: 1.460866 seconds\n",
      "load gradient 26: 1.772610 seconds\n",
      "load gradient 27: 2.074031 seconds\n",
      "load gradient 28: 2.326803 seconds\n",
      "overall: 60.478691 seconds\n"
     ]
    }
   ],
   "source": [
    "aligner.load_gradient(gradient_filepath_map_f=gradient_filepath_map_f, indices_f=None)"
   ]
  },
  {
   "cell_type": "code",
   "execution_count": 18,
   "metadata": {
    "collapsed": false,
    "scrolled": true
   },
   "outputs": [
    {
     "name": "stderr",
     "output_type": "stream",
     "text": [
      "Regularization weights not set, default to 0.\n",
      "grid search: 5.545859 seconds\n",
      "-inf 0.578705\n",
      "grid search: 3.431956 seconds\n",
      "0.578705 0.585805\n",
      "grid search: 3.125207 seconds\n",
      "grid search: 2.439176 seconds\n",
      "0.585805 0.681889\n",
      "grid search: 1.723273 seconds\n",
      "0.681889 0.694617\n",
      "grid search: 1.326836 seconds\n",
      "grid search: 1.018046 seconds\n",
      "0.694617 0.711307\n",
      "grid search: 1.027550 seconds\n",
      "grid search: 0.718926 seconds\n",
      "0.711307 0.712345\n",
      "grid search: 0.616953 seconds\n",
      "0.712345 0.715369\n",
      "grid search: 0.624349 seconds\n",
      "0.715369 0.715818\n",
      "grid search: 0.625012 seconds\n",
      "grid search: 0.602228 seconds\n",
      "0.715818 0.716395\n",
      "grid search: 0.612138 seconds\n",
      "0.716395 0.717500\n",
      "grid search: 0.612965 seconds\n",
      "grid search: 0.625687 seconds\n",
      "grid search: 0.615799 seconds\n",
      "grid search: 0.614354 seconds\n",
      "grid search: 0.612036 seconds\n",
      "grid search: 0.609570 seconds\n",
      "grid search: 0.624845 seconds\n",
      "grid search: 0.621502 seconds\n",
      "grid search: 0.622832 seconds\n",
      "grid search: 0.613414 seconds\n",
      "grid search: 0.608791 seconds\n",
      "grid search: 0.625234 seconds\n",
      "grid search: 0.622150 seconds\n",
      "grid search: 0.625185 seconds\n",
      "grid search: 0.610710 seconds\n",
      "grid search: 0.624944 seconds\n",
      "iteration 0\n"
     ]
    },
    {
     "name": "stdout",
     "output_type": "stream",
     "text": [
      "params_best_upToNow [-17.73277214  -1.83274607   9.31176434  -0.14247366]\n"
     ]
    },
    {
     "name": "stderr",
     "output_type": "stream",
     "text": [
      "score: 0.717500\n",
      "iteration 1\n",
      "score: 0.535422\n",
      "iteration 2\n",
      "score: 0.682641\n",
      "iteration 3\n",
      "score: 0.705039\n",
      "iteration 4\n",
      "score: 0.756221\n",
      "iteration 5\n",
      "score: 0.793130\n",
      "iteration 6\n",
      "score: 0.795609\n",
      "iteration 7\n",
      "score: 0.788319\n",
      "iteration 8\n",
      "score: 0.807133\n",
      "iteration 9\n",
      "score: 0.847564\n",
      "iteration 10\n",
      "score: 0.836601\n",
      "iteration 11\n",
      "score: 0.800343\n",
      "iteration 12\n",
      "score: 0.837466\n",
      "iteration 13\n",
      "score: 0.837481\n",
      "iteration 14\n",
      "score: 0.853410\n",
      "iteration 15\n",
      "score: 0.856843\n",
      "iteration 16\n",
      "score: 0.857318\n",
      "iteration 17\n",
      "score: 0.870539\n",
      "iteration 18\n",
      "score: 0.867775\n",
      "iteration 19\n",
      "score: 0.879637\n",
      "iteration 20\n",
      "score: 0.874726\n",
      "iteration 21\n",
      "score: 0.885392\n",
      "iteration 22\n",
      "score: 0.881795\n",
      "iteration 23\n",
      "score: 0.887887\n",
      "iteration 24\n",
      "score: 0.885897\n",
      "iteration 25\n",
      "score: 0.892960\n",
      "iteration 26\n",
      "score: 0.889649\n",
      "iteration 27\n",
      "score: 0.892490\n",
      "iteration 28\n",
      "score: 0.890882\n",
      "iteration 29\n",
      "score: 0.893930\n",
      "iteration 30\n",
      "score: 0.894358\n",
      "iteration 31\n",
      "score: 0.895441\n",
      "iteration 32\n",
      "score: 0.894701\n",
      "iteration 33\n",
      "score: 0.896087\n",
      "iteration 34\n",
      "score: 0.894868\n",
      "iteration 35\n",
      "score: 0.896780\n",
      "iteration 36\n",
      "score: 0.896230\n",
      "iteration 37\n",
      "score: 0.897037\n",
      "iteration 38\n",
      "score: 0.896534\n",
      "iteration 39\n",
      "score: 0.897527\n",
      "iteration 40\n",
      "score: 0.897982\n",
      "iteration 41\n",
      "score: 0.898986\n",
      "iteration 42\n",
      "score: 0.899021\n",
      "iteration 43\n",
      "score: 0.900238\n",
      "iteration 44\n",
      "score: 0.900202\n",
      "iteration 45\n",
      "score: 0.901714\n",
      "iteration 46\n",
      "score: 0.901017\n",
      "iteration 47\n",
      "score: 0.902847\n",
      "iteration 48\n",
      "score: 0.901626\n",
      "iteration 49\n",
      "score: 0.902278\n",
      "iteration 50\n",
      "score: 0.901539\n",
      "iteration 51\n",
      "score: 0.902756\n",
      "iteration 52\n",
      "score: 0.901730\n",
      "iteration 53\n",
      "score: 0.902526\n",
      "iteration 54\n",
      "score: 0.901680\n",
      "iteration 55\n",
      "score: 0.902702\n",
      "iteration 56\n",
      "score: 0.901839\n",
      "iteration 57\n",
      "score: 0.902522\n",
      "iteration 58\n",
      "score: 0.901615\n",
      "iteration 59\n",
      "score: 0.902962\n",
      "iteration 60\n",
      "score: 0.901949\n",
      "iteration 61\n",
      "score: 0.902879\n",
      "iteration 62\n",
      "score: 0.901999\n",
      "iteration 63\n",
      "score: 0.902809\n",
      "iteration 64\n",
      "score: 0.901885\n",
      "iteration 65\n",
      "score: 0.902895\n",
      "iteration 66\n",
      "score: 0.902075\n",
      "iteration 67\n",
      "score: 0.902864\n",
      "iteration 68\n",
      "score: 0.902026\n",
      "iteration 69\n",
      "score: 0.903079\n",
      "iteration 70\n",
      "score: 0.902248\n",
      "iteration 71\n",
      "score: 0.903069\n",
      "iteration 72\n",
      "score: 0.902313\n",
      "iteration 73\n",
      "score: 0.903078\n",
      "iteration 74\n",
      "score: 0.902165\n",
      "iteration 75\n",
      "score: 0.903043\n",
      "iteration 76\n",
      "score: 0.902304\n",
      "iteration 77\n",
      "score: 0.903209\n",
      "iteration 78\n",
      "score: 0.902554\n",
      "iteration 79\n",
      "score: 0.903148\n",
      "iteration 80\n",
      "score: 0.902552\n",
      "iteration 81\n",
      "score: 0.903276\n",
      "iteration 82\n",
      "score: 0.902649\n",
      "iteration 83\n",
      "score: 0.903514\n",
      "iteration 84\n",
      "score: 0.902747\n",
      "iteration 85\n",
      "score: 0.903899\n",
      "iteration 86\n",
      "score: 0.903097\n",
      "iteration 87\n",
      "score: 0.904414\n",
      "iteration 88\n",
      "score: 0.903997\n",
      "iteration 89\n",
      "score: 0.904655\n",
      "iteration 90\n",
      "score: 0.904655\n",
      "iteration 91\n",
      "score: 0.904657\n",
      "iteration 92\n",
      "score: 0.904679\n",
      "iteration 93\n",
      "score: 0.904630\n",
      "iteration 94\n",
      "score: 0.904654\n",
      "iteration 95\n",
      "score: 0.904705\n",
      "iteration 96\n",
      "score: 0.904700\n",
      "iteration 97\n",
      "score: 0.904669\n",
      "iteration 98\n",
      "score: 0.904681\n",
      "iteration 99\n",
      "score: 0.904581\n",
      "iteration 100\n",
      "score: 0.904691\n",
      "iteration 101\n",
      "score: 0.904518\n",
      "iteration 102\n",
      "score: 0.904663\n",
      "iteration 103\n",
      "score: 0.904634\n",
      "iteration 104\n",
      "score: 0.904693\n",
      "iteration 105\n",
      "score: 0.904614\n",
      "iteration 106\n",
      "score: 0.904634\n",
      "iteration 107\n",
      "score: 0.904658\n"
     ]
    }
   ],
   "source": [
    "# largely the same optimization path regardless of the starting condition\n",
    "\n",
    "# For rigid, \n",
    "# grad_computation_sample_number = 1e5 is desired\n",
    "# grid_search_iteration_number and grid_search_sample_number seem to be unimportant as well, set to 100\n",
    "# lr1=10, lr2=.1 is best\n",
    "\n",
    "# For affine, \n",
    "# lr2 = .001 is too slow; 0.1 rises faster than 0.01\n",
    "# lr1 does not matter\n",
    "# plateus around iteration 100, but keep rising afterwards.\n",
    "# grad_computation_sample_number does not make a difference\n",
    "\n",
    "while True:\n",
    "\n",
    "    try:\n",
    "\n",
    "        if global_transform_scheme == 1:\n",
    "\n",
    "            T, scores = aligner.optimize(type='affine', max_iter_num=1000, history_len=10, terminate_thresh=1e-4,\n",
    "#                                          indices_m=[name_to_label_moving['SC'], name_to_label_moving['IC'],\n",
    "#                                                    name_to_label_moving['SC_surround'], name_to_label_moving['IC_surround']],\n",
    "                                         indices_m=None,\n",
    "                                        grid_search_iteration_number=30,\n",
    "                                         grid_search_sample_number=100,\n",
    "                                         grad_computation_sample_number=1e5,\n",
    "                                         lr1=10, lr2=0.1,\n",
    "                                         label_weights=label_weights_m,\n",
    "                                        std_tx=50, std_ty=50, std_tz=100, std_theta_xy=np.deg2rad(10))\n",
    "\n",
    "        elif global_transform_scheme == 2:\n",
    "\n",
    "            T, scores = aligner.optimize(type='rigid', max_iter_num=1000, history_len=10, terminate_thresh=1e-4,\n",
    "                                         indices_m=None,\n",
    "                                        grid_search_iteration_number=30,\n",
    "                                         grid_search_sample_number=100,\n",
    "                                         grad_computation_sample_number=1e5,\n",
    "                                         lr1=10, lr2=0.1,\n",
    "                                        label_weights=label_weights_m,\n",
    "                                        std_tx=50, std_ty=50, std_tz=100, std_theta_xy=np.deg2rad(10))\n",
    "        \n",
    "        break\n",
    "        \n",
    "    except Exception as e:\n",
    "        sys.stderr.write(e.message + '\\n')\n"
   ]
  },
  {
   "cell_type": "code",
   "execution_count": 19,
   "metadata": {
    "collapsed": false,
    "scrolled": true
   },
   "outputs": [
    {
     "name": "stdout",
     "output_type": "stream",
     "text": [
      "[[  1.03128554e+00   1.65617998e-01   4.81374869e-02  -1.14661231e+01]\n",
      " [ -1.13813027e-01   1.00588426e+00   2.46397815e-03   3.33518624e+00]\n",
      " [ -1.25397810e-02  -6.05162450e-02   9.14412920e-01   5.12857099e+00]]\n",
      "0.904704561958 0.904658131699\n"
     ]
    },
    {
     "data": {
      "image/png": "[encoded data removed]",
      "text/plain": [
       "<matplotlib.figure.Figure at 0x5036b90>"
      ]
     },
     "metadata": {},
     "output_type": "display_data"
    }
   ],
   "source": [
    "print T.reshape((3,4))\n",
    "plt.plot(scores);\n",
    "print max(scores), scores[-1]"
   ]
  },
  {
   "cell_type": "code",
   "execution_count": 20,
   "metadata": {
    "collapsed": false
   },
   "outputs": [],
   "source": [
    "params_fp = DataManager.get_global_alignment_parameters_filepath(stack_moving=stack_moving,\n",
    "                                                                stack_fixed=stack_fixed,\n",
    "                                                                train_sample_scheme=train_sample_scheme,\n",
    "                                                                global_transform_scheme=global_transform_scheme)\n",
    "\n",
    "\n",
    "DataManager.save_alignment_parameters(params_fp, T, \n",
    "                                      aligner.centroid_m, aligner.centroid_f,\n",
    "                                      aligner.xdim_m, aligner.ydim_m, aligner.zdim_m, \n",
    "                                      aligner.xdim_f, aligner.ydim_f, aligner.zdim_f)"
   ]
  },
  {
   "cell_type": "code",
   "execution_count": 21,
   "metadata": {
    "collapsed": false
   },
   "outputs": [],
   "source": [
    "score_plot_fp = DataManager.get_global_alignment_score_plot_filepath(stack_moving=stack_moving,\n",
    "                                                                    stack_fixed=stack_fixed,\n",
    "                                                                    train_sample_scheme=train_sample_scheme,\n",
    "                                                                    global_transform_scheme=global_transform_scheme)\n",
    "\n",
    "fig = plt.figure();\n",
    "plt.plot(scores);\n",
    "plt.savefig(score_plot_fp, bbox_inches='tight')\n",
    "plt.close(fig)"
   ]
  },
  {
   "cell_type": "code",
   "execution_count": null,
   "metadata": {
    "collapsed": true
   },
   "outputs": [],
   "source": []
  },
  {
   "cell_type": "code",
   "execution_count": 24,
   "metadata": {
    "collapsed": true
   },
   "outputs": [],
   "source": [
    "# READ"
   ]
  },
  {
   "cell_type": "code",
   "execution_count": 16,
   "metadata": {
    "collapsed": true
   },
   "outputs": [],
   "source": [
    "# stack_fixed = 'MD591'\n",
    "stack_moving = 'atlas_on_MD589'"
   ]
  },
  {
   "cell_type": "code",
   "execution_count": 19,
   "metadata": {
    "collapsed": false
   },
   "outputs": [],
   "source": [
    "global_params, centroid_m, centroid_f, xdim_m, ydim_m, zdim_m, xdim_f, ydim_f, zdim_f = \\\n",
    "DataManager.load_global_alignment_parameters(stack_moving=stack_moving,\n",
    "                                                    stack_fixed=stack_fixed,\n",
    "                                                    train_sample_scheme=train_sample_scheme,\n",
    "                                                    global_transform_scheme=global_transform_scheme,\n",
    "                                            trial_idx=1)"
   ]
  },
  {
   "cell_type": "code",
   "execution_count": 15,
   "metadata": {
    "collapsed": false
   },
   "outputs": [],
   "source": [
    "# volumes_annotation = {'MD594':bp.unpack_ndarray_file('/home/yuncong/csd395/CSHL_atlasAlignParams_atlas_v2/MD594_to_MD589/MD594_down32_annotationVolume_alignedTo_MD589_down32_annotationVolume.bp'),\n",
    "#                       'MD589': bp.unpack_ndarray_file(VOLUME_ROOTDIR + '/MD589/MD589_down32_annotationVolume.bp')}"
   ]
  },
  {
   "cell_type": "code",
   "execution_count": 20,
   "metadata": {
    "collapsed": false
   },
   "outputs": [],
   "source": [
    "volumes_annotation = {'MD594': bp.unpack_ndarray_file(DataManager.get_transformed_volume_filepath(stack_m='MD594', type_m='annotation',\n",
    "                                                stack_f='MD589', type_f='annotation',\n",
    "                                                downscale=32, global_transform_scheme=global_transform_scheme)),\n",
    "                      \n",
    "                      'MD589': bp.unpack_ndarray_file(DataManager.get_annotation_volume_filepath(stack='MD589', downscale=32))}"
   ]
  },
  {
   "cell_type": "code",
   "execution_count": 21,
   "metadata": {
    "collapsed": true
   },
   "outputs": [],
   "source": [
    "from registration_utilities import transform_volume"
   ]
  },
  {
   "cell_type": "code",
   "execution_count": 22,
   "metadata": {
    "collapsed": false
   },
   "outputs": [],
   "source": [
    "annotation_volumes_volume_m_aligned_to_f = {}\n",
    "\n",
    "for stack, volume_annotation in volumes_annotation.iteritems():\n",
    "    \n",
    "    annotation_volumes_volume_m_aligned_to_f[stack] = transform_volume(vol=volume_annotation, \n",
    "                                                                       global_params=global_params, \n",
    "                                                                       centroid_m=centroid_m, \n",
    "                                                                       centroid_f=centroid_f,\n",
    "                                                                      xdim_f=xdim_f,\n",
    "                                                                      ydim_f=ydim_f,\n",
    "                                                                      zdim_f=zdim_f)\n",
    "    \n",
    "    output_fn = DataManager.get_transformed_volume_filepath(stack_m=stack, type_m='annotation',\n",
    "                                                stack_f=stack_fixed, type_f='score',\n",
    "                                                downscale=32, train_sample_scheme_f=train_sample_scheme)\n",
    "    \n",
    "    create_if_not_exists(os.path.dirname(output_fn))\n",
    "\n",
    "    bp.pack_ndarray_file(annotation_volumes_volume_m_aligned_to_f[stack], output_fn)"
   ]
  },
  {
   "cell_type": "code",
   "execution_count": 23,
   "metadata": {
    "collapsed": false
   },
   "outputs": [
    {
     "name": "stdout",
     "output_type": "stream",
     "text": [
      "0 499 0 409 131 505\n"
     ]
    }
   ],
   "source": [
    "xmin_vol_f, xmax_vol_f, ymin_vol_f, ymax_vol_f, zmin_vol_f, zmax_vol_f = \\\n",
    "DataManager.load_score_volume_bbox(stack=stack_fixed, label='7N', downscale=32)\n",
    "\n",
    "print xmin_vol_f, xmax_vol_f, ymin_vol_f, ymax_vol_f, zmin_vol_f, zmax_vol_f"
   ]
  },
  {
   "cell_type": "code",
   "execution_count": null,
   "metadata": {
    "collapsed": true
   },
   "outputs": [],
   "source": []
  },
  {
   "cell_type": "code",
   "execution_count": 24,
   "metadata": {
    "collapsed": true
   },
   "outputs": [],
   "source": [
    "from registration_utilities import find_contour_points"
   ]
  },
  {
   "cell_type": "code",
   "execution_count": 25,
   "metadata": {
    "collapsed": true
   },
   "outputs": [],
   "source": [
    "downsample_factor = 32\n",
    "xy_pixel_distance_downsampled = xy_pixel_distance_lossless * downsample_factor\n",
    "voxel_z_size = section_thickness / xy_pixel_distance_downsampled"
   ]
  },
  {
   "cell_type": "code",
   "execution_count": 26,
   "metadata": {
    "collapsed": false
   },
   "outputs": [],
   "source": [
    "viz_dir = create_if_not_exists(DataManager.get_global_alignment_viz_filepath(stack_moving=stack_moving,\n",
    "                                                        stack_fixed=stack_fixed,\n",
    "                                                        train_sample_scheme=train_sample_scheme,\n",
    "                                                        global_transform_scheme=global_transform_scheme))"
   ]
  },
  {
   "cell_type": "code",
   "execution_count": 27,
   "metadata": {
    "collapsed": true
   },
   "outputs": [],
   "source": [
    "first_sec, last_sec = metadata_cache['section_limits'][stack_fixed]"
   ]
  },
  {
   "cell_type": "code",
   "execution_count": 28,
   "metadata": {
    "collapsed": true
   },
   "outputs": [],
   "source": [
    "stack_colors = {'MD589': (255,0,0), 'MD594': (0,255,0)}"
   ]
  },
  {
   "cell_type": "code",
   "execution_count": 29,
   "metadata": {
    "collapsed": false
   },
   "outputs": [
    {
     "name": "stderr",
     "output_type": "stream",
     "text": [
      "/oasis/projects/nsf/csd395/yuncong/brain_virtualenv/lib/python2.7/site-packages/skimage/external/tifffile/tifffile.py:1794: RuntimeWarning: py_decodelzw encountered unexpected end of stream\n",
      "  strip = decompress(strip)\n"
     ]
    }
   ],
   "source": [
    "bar = show_progress_bar(first_sec, last_sec)\n",
    "\n",
    "for sec in range(first_sec, last_sec+1):\n",
    "    \n",
    "    if metadata_cache['sections_to_filenames'][stack_fixed][sec] in ['Placeholder', 'Rescan', 'Nonexisting']:\n",
    "        continue\n",
    "    \n",
    "    bar.value = sec\n",
    "\n",
    "    img_fn = DataManager.get_image_filepath(stack=stack_fixed, section=sec, resol='thumbnail', version='cropped_tif')\n",
    "    img = imread(img_fn)\n",
    "    \n",
    "    viz = img.copy()\n",
    "    \n",
    "    z = voxel_z_size * (sec - 1) - zmin_vol_f\n",
    "    \n",
    "    # Find fixed volume annotation contours\n",
    "#     contours_f_on_volume = find_contour_points(volume_fixed[..., int(z)])\n",
    "#     contours_f_on_cropped = {i: [cnt + (xmin_vol_f, ymin_vol_f) for cnt in cnts] for i, cnts in contours_f_on_volume.iteritems()}\n",
    "\n",
    "    # Find moving volume annotation contours\n",
    "    \n",
    "    for stack, volume_m_aligned_to_f in annotation_volumes_volume_m_aligned_to_f.iteritems():\n",
    "        contours_m_alignedTo_f_on_volume = find_contour_points(volume_m_aligned_to_f[..., int(z)])\n",
    "        contours_m_alignedTo_f_on_cropped = {i: [cnt + (xmin_vol_f, ymin_vol_f) for cnt in cnts] \n",
    "                                             for i, cnts in contours_m_alignedTo_f_on_volume.iteritems()}\n",
    "\n",
    "    #     # Draw fixed volume annotation contours\n",
    "    #     for ind_f, cnts_f in contours_f_on_cropped.iteritems():\n",
    "    #         for cnt_f in cnts_f:\n",
    "    #             cv2.polylines(viz, [cnt_f.astype(np.int)], True, (0,255,0), 2)\n",
    "\n",
    "        # Draw moving volume annotation contours\n",
    "        for ind_m, cnts_m in contours_m_alignedTo_f_on_cropped.iteritems():\n",
    "            for cnt_m in cnts_m:\n",
    "                cv2.polylines(viz, [cnt_m.astype(np.int)], True, stack_colors[stack], 2)\n",
    "\n",
    "    viz_fn = os.path.join(viz_dir, '%(stack_moving)s_to_%(stack_fixed)s_%(sec)04d.jpg' % \\\n",
    "          {'stack_moving': stack_moving, 'stack_fixed': stack_fixed, 'sec': sec})\n",
    "    imsave(viz_fn, viz)"
   ]
  },
  {
   "cell_type": "code",
   "execution_count": null,
   "metadata": {
    "collapsed": true
   },
   "outputs": [],
   "source": []
  },
  {
   "cell_type": "code",
   "execution_count": 19,
   "metadata": {
    "collapsed": true
   },
   "outputs": [],
   "source": [
    "from registration_utilities import transform_volume"
   ]
  },
  {
   "cell_type": "code",
   "execution_count": 24,
   "metadata": {
    "collapsed": false
   },
   "outputs": [],
   "source": [
    "# v = DataManager.load_score_volume(stack='atlas_on_MD589', label='7N_L', downscale=32)\n",
    "\n",
    "# plt.imshow(v[:,:,120]);\n",
    "# plt.colorbar();\n",
    "# plt.show();\n",
    "\n",
    "# plt.imshow(v[:,:,270]);\n",
    "# plt.colorbar();\n",
    "# plt.show();"
   ]
  },
  {
   "cell_type": "code",
   "execution_count": 25,
   "metadata": {
    "collapsed": false,
    "scrolled": true
   },
   "outputs": [
    {
     "name": "stdout",
     "output_type": "stream",
     "text": [
      "5N_L\n",
      "5N_R\n",
      "6N_L\n",
      "6N_R\n",
      "7N_L\n",
      "7N_R\n",
      "7n_L\n",
      "7n_R\n",
      "Amb_L\n",
      "Amb_R\n",
      "LC_L\n",
      "LC_R\n",
      "LRt_L\n",
      "LRt_R\n",
      "Pn_L\n",
      "Pn_R\n",
      "Tz_L\n",
      "Tz_R\n",
      "VLL_L\n",
      "VLL_R\n",
      "RMC_L\n",
      "RMC_R\n",
      "SNC_L\n",
      "SNC_R\n",
      "SNR_L\n",
      "SNR_R\n",
      "3N_L\n",
      "3N_R\n",
      "4N_L\n",
      "4N_R\n",
      "Sp5I_L\n",
      "Sp5I_R\n",
      "Sp5O_L\n",
      "Sp5O_R\n",
      "Sp5C_L\n",
      "Sp5C_R\n",
      "PBG_L\n",
      "PBG_R\n",
      "10N_L\n",
      "10N_R\n",
      "VCA_L\n",
      "VCA_R\n",
      "VCP_L\n",
      "VCP_R\n",
      "DC_L\n",
      "DC_R\n",
      "AP\n",
      "12N\n",
      "RtTg\n",
      "SC\n",
      "IC\n"
     ]
    }
   ],
   "source": [
    "# Transform moving volume, sided\n",
    "\n",
    "structures_sided = sum([[n] if n in singular_structures else [convert_to_left_name(n), convert_to_right_name(n)] \n",
    "                        for n in structures], [])\n",
    "\n",
    "for name_s in structures_sided:\n",
    "    \n",
    "    print name_s\n",
    "    \n",
    "    vol_m = DataManager.load_score_volume(stack=stack_moving, label=name_s, downscale=32)\n",
    "    \n",
    "    volume_m_alignedTo_f = \\\n",
    "    transform_volume(vol=vol_m, global_params=global_params, centroid_m=centroid_m, centroid_f=centroid_f,\n",
    "                      xdim_f=xdim_f, ydim_f=ydim_f, zdim_f=zdim_f)\n",
    "    \n",
    "    volume_m_alignedTo_f_fn = DataManager.get_transformed_volume_filepath(stack_m=stack_moving, type_m='score',\n",
    "                                            stack_f=stack_fixed, type_f='score',\n",
    "                                            label=name_s,\n",
    "                                            downscale=32, \n",
    "                                            train_sample_scheme_f=1)\n",
    "    \n",
    "    create_if_not_exists(os.path.dirname(volume_m_alignedTo_f_fn))\n",
    "    \n",
    "    bp.pack_ndarray_file(volume_m_alignedTo_f, volume_m_alignedTo_f_fn)"
   ]
  },
  {
   "cell_type": "code",
   "execution_count": 20,
   "metadata": {
    "collapsed": false,
    "scrolled": true
   },
   "outputs": [
    {
     "name": "stdout",
     "output_type": "stream",
     "text": [
      "5N_L\n",
      "5N_R\n",
      "6N_L\n",
      "6N_R\n",
      "7N_L\n",
      "7N_R\n",
      "7n_L\n",
      "7n_R\n",
      "Amb_L\n",
      "Amb_R\n",
      "LC_L\n",
      "LC_R\n",
      "LRt_L\n",
      "LRt_R\n",
      "Pn_L\n",
      "Pn_R\n",
      "Tz_L\n",
      "Tz_R\n",
      "VLL_L\n",
      "VLL_R\n",
      "RMC_L\n",
      "RMC_R\n",
      "SNC_L\n",
      "SNC_R\n",
      "SNR_L\n",
      "SNR_R\n",
      "3N_L\n",
      "3N_R\n",
      "4N_L\n",
      "4N_R\n",
      "Sp5I_L\n",
      "Sp5I_R\n",
      "Sp5O_L\n",
      "Sp5O_R\n",
      "Sp5C_L\n",
      "Sp5C_R\n",
      "PBG_L\n",
      "PBG_R\n",
      "10N_L\n",
      "10N_R\n",
      "VCA_L\n",
      "VCA_R\n",
      "VCP_L\n",
      "VCP_R\n",
      "DC_L\n",
      "DC_R\n",
      "AP\n",
      "12N\n",
      "RtTg\n",
      "SC\n",
      "IC\n"
     ]
    }
   ],
   "source": [
    "# Transform moving volume, sided\n",
    "\n",
    "structures_sided = sum([[n] if n in singular_structures else [convert_to_left_name(n), convert_to_right_name(n)] \n",
    "                        for n in structures], [])\n",
    "\n",
    "for name_s in structures_sided:\n",
    "    \n",
    "    print name_s+'_surround'\n",
    "    \n",
    "    vol_m = DataManager.load_score_volume(stack=stack_moving, label=name_s+'_surround', downscale=32)\n",
    "    \n",
    "    volume_m_alignedTo_f = \\\n",
    "    transform_volume(vol=vol_m, global_params=global_params, centroid_m=centroid_m, centroid_f=centroid_f,\n",
    "                      xdim_f=xdim_f, ydim_f=ydim_f, zdim_f=zdim_f)\n",
    "    \n",
    "    volume_m_alignedTo_f_fn = DataManager.get_transformed_volume_filepath(stack_m=stack_moving, type_m='score',\n",
    "                                            stack_f=stack_fixed, type_f='score',\n",
    "                                            label=name_s+'_surround',\n",
    "                                            downscale=32, \n",
    "                                            train_sample_scheme_f=1)\n",
    "    \n",
    "    create_if_not_exists(os.path.dirname(volume_m_alignedTo_f_fn))\n",
    "    \n",
    "    bp.pack_ndarray_file(volume_m_alignedTo_f, volume_m_alignedTo_f_fn)"
   ]
  },
  {
   "cell_type": "code",
   "execution_count": null,
   "metadata": {
    "collapsed": true
   },
   "outputs": [],
   "source": []
  }
 ],
 "metadata": {
  "kernelspec": {
   "display_name": "Python 2",
   "language": "python",
   "name": "python2"
  },
  "language_info": {
   "codemirror_mode": {
    "name": "ipython",
    "version": 2
   },
   "file_extension": ".py",
   "mimetype": "text/x-python",
   "name": "python",
   "nbconvert_exporter": "python",
   "pygments_lexer": "ipython2",
   "version": "2.7.3"
  },
  "widgets": {
   "state": {
    "7985b2b00560413f9a5cb0bfdfb5ffb9": {
     "views": [
      {
       "cell_index": 35
      }
     ]
    }
   },
   "version": "1.2.0"
  }
 },
 "nbformat": 4,
 "nbformat_minor": 0
}
