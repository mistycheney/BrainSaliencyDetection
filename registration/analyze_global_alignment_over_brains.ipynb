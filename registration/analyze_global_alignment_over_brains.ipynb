{
 "cells": [
  {
   "cell_type": "code",
   "execution_count": 1,
   "metadata": {
    "collapsed": true
   },
   "outputs": [],
   "source": [
    "%load_ext autoreload\n",
    "%autoreload 2"
   ]
  },
  {
   "cell_type": "code",
   "execution_count": 2,
   "metadata": {
    "collapsed": true
   },
   "outputs": [],
   "source": [
    "import numpy as np\n",
    "\n",
    "import sys\n",
    "import os\n",
    "\n",
    "sys.path.append(os.environ['REPO_DIR'] + '/utilities')\n",
    "from utilities2015 import *\n",
    "\n",
    "import matplotlib.pyplot as plt\n",
    "%matplotlib inline\n",
    "\n",
    "from joblib import Parallel, delayed\n",
    "import time\n",
    "\n",
    "import logging\n",
    "\n",
    "from registration_utilities import *\n",
    "\n",
    "from collections import defaultdict"
   ]
  },
  {
   "cell_type": "code",
   "execution_count": 3,
   "metadata": {
    "collapsed": true
   },
   "outputs": [],
   "source": [
    "atlasAlignParams_rootdir = '/oasis/projects/nsf/csd395/yuncong/CSHL_atlasAlignParams'"
   ]
  },
  {
   "cell_type": "code",
   "execution_count": 4,
   "metadata": {
    "collapsed": true
   },
   "outputs": [],
   "source": [
    "T_final = {}\n",
    "\n",
    "for i, stack in enumerate(['MD594', 'MD585', 'MD593', 'MD592', 'MD590', 'MD591', 'MD595', 'MD598', 'MD602']):\n",
    "\n",
    "    with open(atlasAlignParams_rootdir + '/%(stack)s/%(stack)s_3dAlignParams.txt' % {'stack': stack}, 'r') as f:\n",
    "        lines = f.readlines()\n",
    "\n",
    "    T_final[stack] = np.array(map(float, lines[1].strip().split()))"
   ]
  },
  {
   "cell_type": "code",
   "execution_count": 7,
   "metadata": {
    "collapsed": true
   },
   "outputs": [],
   "source": [
    "volume_dir = '/oasis/projects/nsf/csd395/yuncong/CSHL_volumes/'"
   ]
  },
  {
   "cell_type": "code",
   "execution_count": 28,
   "metadata": {
    "collapsed": true
   },
   "outputs": [],
   "source": [
    "atlas_vol_xmin, atlas_vol_xmax, atlas_vol_ymin, atlas_vol_ymax, atlas_vol_zmin, atlas_vol_zmax = \\\n",
    "np.loadtxt(os.path.join(volume_dir, 'volume_MD589_annotation_limits.txt'))\n",
    "\n",
    "atlas_xdim = atlas_vol_xmax - atlas_vol_xmin\n",
    "atlas_ydim = atlas_vol_ymax - atlas_vol_ymin\n",
    "atlas_zdim = atlas_vol_zmax - atlas_vol_zmin\n",
    "atlas_centroid = atlas_xdim/2, atlas_ydim/2, atlas_zdim/2"
   ]
  },
  {
   "cell_type": "code",
   "execution_count": 34,
   "metadata": {
    "collapsed": false
   },
   "outputs": [],
   "source": [
    "test_centroid_allStacks = {}\n",
    "\n",
    "for i, stack in enumerate(['MD594', 'MD585', 'MD593', 'MD592', 'MD590', 'MD591', 'MD595', 'MD598', 'MD602']):\n",
    "\n",
    "    (volume_xmin, volume_xmax, volume_ymin, volume_ymax, volume_zmin, volume_zmax) = \\\n",
    "    np.loadtxt(os.path.join(volume_dir, 'volume_%(stack)s_scoreMap_limits.txt' % {'stack': stack}), dtype=np.int)\n",
    "\n",
    "    test_xdim = volume_xmax - volume_xmin\n",
    "    test_ydim = volume_ymax - volume_ymin\n",
    "    test_zdim = volume_zmax - volume_zmin\n",
    "    test_centroid = test_xdim/2., test_ydim/2., test_zdim/2.\n",
    "    \n",
    "    test_centroid_allStacks[stack] = test_centroid"
   ]
  },
  {
   "cell_type": "code",
   "execution_count": 36,
   "metadata": {
    "collapsed": false,
    "scrolled": true
   },
   "outputs": [
    {
     "name": "stdout",
     "output_type": "stream",
     "text": [
      "MD602 0.987734498021\n",
      "MD592 1.03443057141\n",
      "MD593 0.933010229426\n",
      "MD590 0.860119835903\n",
      "MD591 0.890202584096\n",
      "MD585 0.814240973453\n",
      "MD594 0.877898376041\n",
      "MD595 0.943566122321\n",
      "MD598 0.598214943664\n"
     ]
    }
   ],
   "source": [
    "for stack, T in T_final.iteritems():\n",
    "    Tm = np.reshape(T, (3,4))\n",
    "    t = Tm[:, 3]\n",
    "    A = Tm[:, :3]\n",
    "    print stack, np.linalg.det(A)"
   ]
  }
 ],
 "metadata": {
  "kernelspec": {
   "display_name": "Python 2",
   "language": "python",
   "name": "python2"
  },
  "language_info": {
   "codemirror_mode": {
    "name": "ipython",
    "version": 2
   },
   "file_extension": ".py",
   "mimetype": "text/x-python",
   "name": "python",
   "nbconvert_exporter": "python",
   "pygments_lexer": "ipython2",
   "version": "2.7.3"
  }
 },
 "nbformat": 4,
 "nbformat_minor": 0
}
