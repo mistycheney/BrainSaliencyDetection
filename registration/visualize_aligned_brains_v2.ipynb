{
 "cells": [
  {
   "cell_type": "code",
   "execution_count": 27,
   "metadata": {
    "collapsed": false
   },
   "outputs": [
    {
     "name": "stderr",
     "output_type": "stream",
     "text": [
      "No vtk\n"
     ]
    },
    {
     "name": "stdout",
     "output_type": "stream",
     "text": [
      "The autoreload extension is already loaded. To reload it, use:\n",
      "  %reload_ext autoreload\n"
     ]
    }
   ],
   "source": [
    "%load_ext autoreload\n",
    "%autoreload 2\n",
    "\n",
    "import numpy as np\n",
    "\n",
    "import sys\n",
    "import os\n",
    "\n",
    "sys.path.append(os.environ['REPO_DIR'] + '/utilities')\n",
    "from utilities2015 import *\n",
    "from registration_utilities import *\n",
    "from annotation_utilities import *\n",
    "from metadata import *\n",
    "from data_manager import *\n",
    "\n",
    "import matplotlib.pyplot as plt\n",
    "%matplotlib inline\n",
    "\n",
    "from joblib import Parallel, delayed\n",
    "import time"
   ]
  },
  {
   "cell_type": "code",
   "execution_count": 28,
   "metadata": {
    "collapsed": true
   },
   "outputs": [],
   "source": [
    "from registration_utilities import find_contour_points"
   ]
  },
  {
   "cell_type": "code",
   "execution_count": 29,
   "metadata": {
    "collapsed": true
   },
   "outputs": [],
   "source": [
    "stack_fixed = 'MD592'"
   ]
  },
  {
   "cell_type": "code",
   "execution_count": 30,
   "metadata": {
    "collapsed": true
   },
   "outputs": [],
   "source": [
    "train_sample_scheme = 1\n",
    "global_transform_scheme = 1\n",
    "\n",
    "# stack_moving = 'atlas_on_MD589'\n",
    "stack_moving = 'atlasV2'"
   ]
  },
  {
   "cell_type": "code",
   "execution_count": 31,
   "metadata": {
    "collapsed": true
   },
   "outputs": [],
   "source": [
    "paired_structures = ['5N', '6N', '7N', '7n', 'Amb', 'LC', 'LRt', 'Pn', 'Tz', 'VLL', 'RMC', 'SNC', 'SNR', '3N', '4N',\n",
    "                    'Sp5I', 'Sp5O', 'Sp5C', 'PBG', '10N', 'VCA', 'VCP', 'DC']\n",
    "singular_structures = ['AP', '12N', 'RtTg', 'SC', 'IC']\n",
    "structures = paired_structures + singular_structures\n",
    "\n",
    "structures_sided = sum([[n] if n in singular_structures \n",
    "                        else [convert_to_left_name(n), convert_to_right_name(n)] \n",
    "                        for n in structures], [])"
   ]
  },
  {
   "cell_type": "code",
   "execution_count": 32,
   "metadata": {
    "collapsed": true
   },
   "outputs": [],
   "source": [
    "for_local = True\n",
    "local_transform_scheme = 2"
   ]
  },
  {
   "cell_type": "code",
   "execution_count": 33,
   "metadata": {
    "collapsed": false
   },
   "outputs": [
    {
     "name": "stderr",
     "output_type": "stream",
     "text": [
      "No vtk\n"
     ]
    }
   ],
   "source": [
    "# Read transformed volumes\n",
    "\n",
    "if for_local:\n",
    "    vols_m_aligned_to_f = {name_s: DataManager.load_transformed_volume(stack_m=stack_moving, type_m='score',\n",
    "                                         stack_f=stack_fixed, type_f='score',\n",
    "                                         label=name_s, downscale=32,\n",
    "                                         train_sample_scheme_f=train_sample_scheme,\n",
    "                                         global_transform_scheme=global_transform_scheme,\n",
    "                                        local_transform_scheme=local_transform_scheme)\n",
    "                        for name_s in structures_sided}\n",
    "\n",
    "else:\n",
    "    vols_m_aligned_to_f = {name_s: DataManager.load_transformed_volume(stack_m=stack_moving, type_m='score',\n",
    "                                             stack_f=stack_fixed, type_f='score',\n",
    "                                             label=name_s, downscale=32,\n",
    "                                             train_sample_scheme_f=train_sample_scheme,\n",
    "                                             global_transform_scheme=global_transform_scheme)\n",
    "                            for name_s in structures_sided}\n",
    "\n"
   ]
  },
  {
   "cell_type": "code",
   "execution_count": 34,
   "metadata": {
    "collapsed": true
   },
   "outputs": [],
   "source": [
    "# Set colors for different contour level\n",
    "levels = [0.1, 0.25, 0.5, 0.75, .99]\n",
    "level_colors = {level: (int(level*255),0,0) for level in levels}"
   ]
  },
  {
   "cell_type": "code",
   "execution_count": 35,
   "metadata": {
    "collapsed": false
   },
   "outputs": [],
   "source": [
    "# Set output folder\n",
    "\n",
    "if for_local:\n",
    "    viz_dir = create_if_not_exists(DataManager.get_local_alignment_viz_dir(stack_moving=stack_moving,\n",
    "                                                        stack_fixed=stack_fixed,\n",
    "                                                        train_sample_scheme=train_sample_scheme,\n",
    "                                                        global_transform_scheme=global_transform_scheme,\n",
    "                                                        local_transform_scheme=local_transform_scheme))\n",
    "else:\n",
    "    viz_dir = create_if_not_exists(DataManager.get_global_alignment_viz_dir(stack_moving=stack_moving,\n",
    "                                                        stack_fixed=stack_fixed,\n",
    "                                                        train_sample_scheme=train_sample_scheme,\n",
    "                                                        global_transform_scheme=global_transform_scheme))    "
   ]
  },
  {
   "cell_type": "code",
   "execution_count": 36,
   "metadata": {
    "collapsed": false
   },
   "outputs": [
    {
     "name": "stdout",
     "output_type": "stream",
     "text": [
      "0 544 0 386 122 505\n"
     ]
    },
    {
     "name": "stderr",
     "output_type": "stream",
     "text": [
      "/oasis/projects/nsf/csd395/yuncong/brain_virtualenv/lib/python2.7/site-packages/ipykernel/__main__.py:33: VisibleDeprecationWarning: using a non-integer number instead of an integer will result in an error in the future\n"
     ]
    }
   ],
   "source": [
    "# Generate overlay visualization\n",
    "\n",
    "# estimate mapping between z and section\n",
    "downsample_factor = 32\n",
    "xy_pixel_distance_downsampled = xy_pixel_distance_lossless * downsample_factor\n",
    "voxel_z_size = section_thickness / xy_pixel_distance_downsampled\n",
    "\n",
    "# For getting correct contour location\n",
    "xmin_vol_f, xmax_vol_f, ymin_vol_f, ymax_vol_f, zmin_vol_f, zmax_vol_f = \\\n",
    "DataManager.load_volume_bbox(stack=stack_fixed, type='score', label='7N', downscale=32)\n",
    "print xmin_vol_f, xmax_vol_f, ymin_vol_f, ymax_vol_f, zmin_vol_f, zmax_vol_f\n",
    "\n",
    "# Generate atlas overlay image for every section\n",
    "first_sec, last_sec = metadata_cache['section_limits'][stack_fixed]\n",
    "bar = show_progress_bar(first_sec, last_sec)\n",
    "\n",
    "for sec in range(first_sec, last_sec+1):\n",
    "    \n",
    "    if metadata_cache['sections_to_filenames'][stack_fixed][sec] in ['Placeholder', 'Rescan', 'Nonexisting']:\n",
    "        continue\n",
    "    \n",
    "    bar.value = sec\n",
    "\n",
    "    img_fn = DataManager.get_image_filepath(stack=stack_fixed, section=sec, resol='thumbnail', version='cropped_tif')\n",
    "    img = imread(img_fn)\n",
    "    \n",
    "    viz = img.copy()\n",
    "    \n",
    "    z = voxel_z_size * (sec - 1) - zmin_vol_f\n",
    "    \n",
    "    # Find moving volume annotation contours\n",
    "    for name_s, vol in vols_m_aligned_to_f.iteritems():\n",
    "        for level in levels:\n",
    "            cnts = find_contours(vol[..., z], level=level) # rows, cols\n",
    "            for cnt in cnts:\n",
    "                # r,c to x,y\n",
    "                cnt_on_cropped = cnt[:,::-1] + (xmin_vol_f, ymin_vol_f)\n",
    "                cv2.polylines(viz, [cnt_on_cropped.astype(np.int)], True, level_colors[level], 2)\n",
    "                \n",
    "\n",
    "    viz_fn = os.path.join(viz_dir, '%(stack_moving)s_to_%(stack_fixed)s_%(sec)04d.jpg' % \\\n",
    "          {'stack_moving': stack_moving, 'stack_fixed': stack_fixed, 'sec': sec})\n",
    "    imsave(viz_fn, viz)"
   ]
  },
  {
   "cell_type": "code",
   "execution_count": null,
   "metadata": {
    "collapsed": true
   },
   "outputs": [],
   "source": []
  }
 ],
 "metadata": {
  "kernelspec": {
   "display_name": "Python 2",
   "language": "python",
   "name": "python2"
  },
  "language_info": {
   "codemirror_mode": {
    "name": "ipython",
    "version": 2
   },
   "file_extension": ".py",
   "mimetype": "text/x-python",
   "name": "python",
   "nbconvert_exporter": "python",
   "pygments_lexer": "ipython2",
   "version": "2.7.3"
  },
  "widgets": {
   "state": {
    "fa2efb5ccb4f475a8e9eda35a182fb55": {
     "views": [
      {
       "cell_index": 9
      }
     ]
    }
   },
   "version": "1.2.0"
  }
 },
 "nbformat": 4,
 "nbformat_minor": 1
}
