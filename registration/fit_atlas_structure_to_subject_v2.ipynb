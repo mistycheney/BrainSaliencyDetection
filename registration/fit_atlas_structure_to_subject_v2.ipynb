{
 "cells": [
  {
   "cell_type": "code",
   "execution_count": 1,
   "metadata": {
    "collapsed": false
   },
   "outputs": [
    {
     "name": "stdout",
     "output_type": "stream",
     "text": [
      "Setting environment for Gordon\n"
     ]
    }
   ],
   "source": [
    "%load_ext autoreload\n",
    "%autoreload 2\n",
    "\n",
    "import numpy as np\n",
    "\n",
    "import sys\n",
    "import os\n",
    "\n",
    "sys.path.append(os.environ['REPO_DIR'] + '/utilities')\n",
    "from utilities2015 import *\n",
    "from registration_utilities import *\n",
    "from metadata import *\n",
    "from data_manager import *\n",
    "\n",
    "import matplotlib.pyplot as plt\n",
    "%matplotlib inline\n",
    "\n",
    "from joblib import Parallel, delayed\n",
    "import time"
   ]
  },
  {
   "cell_type": "code",
   "execution_count": 2,
   "metadata": {
    "collapsed": true
   },
   "outputs": [],
   "source": [
    "stack_fixed = 'MD590'"
   ]
  },
  {
   "cell_type": "code",
   "execution_count": 36,
   "metadata": {
    "collapsed": false
   },
   "outputs": [],
   "source": [
    "train_sample_scheme = 1\n",
    "global_transform_scheme = 1\n",
    "\n",
    "local_transform_scheme = 2\n",
    "# 1: no regularization, structures weight the same\n",
    "# 2: with regularization, structures weight the same\n",
    "# 3: no regularization, with surround\n",
    "# 4: with regularization, with surround\n",
    "# 5: no regularization, structure weight inversely prop to size\n",
    "# 6: with regularization, structure weight inversely prop to size\n",
    "\n",
    "if local_transform_scheme == 1:\n",
    "    reg_weights = np.array([0.,0.,0.])\n",
    "elif local_transform_scheme == 2:\n",
    "    reg_weights = np.array([1e-6, 1e-6, 1e-6])\n",
    "elif local_transform_scheme == 3:\n",
    "    reg_weights = np.array([0.,0.,0.])\n",
    "elif local_transform_scheme == 4:\n",
    "    reg_weights = np.array([1e-4, 1e-4, 1e-4])\n",
    "    \n",
    "stack_moving = 'atlas_on_MD589'"
   ]
  },
  {
   "cell_type": "code",
   "execution_count": 6,
   "metadata": {
    "collapsed": true
   },
   "outputs": [],
   "source": [
    "paired_structures = ['5N', '6N', '7N', '7n', 'Amb', 'LC', 'LRt', 'Pn', 'Tz', 'VLL', 'RMC', 'SNC', 'SNR', '3N', '4N',\n",
    "                    'Sp5I', 'Sp5O', 'Sp5C', 'PBG', '10N', 'VCA', 'VCP', 'DC']\n",
    "singular_structures = ['AP', '12N', 'RtTg', 'SC', 'IC']\n",
    "structures = paired_structures + singular_structures"
   ]
  },
  {
   "cell_type": "code",
   "execution_count": 7,
   "metadata": {
    "collapsed": true
   },
   "outputs": [],
   "source": [
    "label_to_name_fixed = {i+1: name for i, name in enumerate(sorted(structures))}\n",
    "name_to_label_fixed = {n:l for l, n in label_to_name_fixed.iteritems()}"
   ]
  },
  {
   "cell_type": "code",
   "execution_count": 8,
   "metadata": {
    "collapsed": true
   },
   "outputs": [],
   "source": [
    "# name_to_label_moving = DataManager.load_annotation_volume_nameToLabel(stack='MD589', downscale=32)\n",
    "# label_to_name_moving = {l:n for n, l in name_to_label_moving.iteritems()}"
   ]
  },
  {
   "cell_type": "code",
   "execution_count": 9,
   "metadata": {
    "collapsed": true
   },
   "outputs": [],
   "source": [
    "structures_sided = sum([[n] if n in singular_structures \n",
    "                        else [convert_to_left_name(n), convert_to_right_name(n)] \n",
    "                        for n in structures], [])"
   ]
  },
  {
   "cell_type": "code",
   "execution_count": 10,
   "metadata": {
    "collapsed": false
   },
   "outputs": [],
   "source": [
    "if local_transform_scheme == 1 or local_transform_scheme == 2:\n",
    "    \n",
    "    label_to_name_moving = {i+1: name for i, name in enumerate(structures_sided)}\n",
    "    name_to_label_moving = {n:l for l, n in label_to_name_moving.iteritems()}\n",
    "\n",
    "elif local_transform_scheme == 3 or local_transform_scheme == 4:\n",
    "\n",
    "    structures_sided_plus_surround = sum([[s, s+'_surround'] for s in structures_sided], [])\n",
    "\n",
    "    label_to_name_moving = {i+1: name for i, name in enumerate(structures_sided_plus_surround)}\n",
    "    name_to_label_moving = {n:l for l, n in label_to_name_moving.iteritems()}"
   ]
  },
  {
   "cell_type": "code",
   "execution_count": 11,
   "metadata": {
    "collapsed": false
   },
   "outputs": [
    {
     "name": "stdout",
     "output_type": "stream",
     "text": [
      "(408, 548, 358)\n",
      "float16\n"
     ]
    }
   ],
   "source": [
    "# Load fixed volumes\n",
    "\n",
    "volume_fixed = {name_to_label_fixed[name]: DataManager.load_score_volume(stack=stack_fixed, label=name, downscale=32, train_sample_scheme=train_sample_scheme)\n",
    "               for name in structures}\n",
    "\n",
    "print volume_fixed.values()[0].shape\n",
    "print volume_fixed.values()[0].dtype\n",
    "\n",
    "vol_fixed_xmin, vol_fixed_ymin, vol_fixed_zmin = (0,0,0)\n",
    "vol_fixed_ymax, vol_fixed_xmax, vol_fixed_zmax = np.array(volume_fixed.values()[0].shape) - 1\n",
    "vol_fixed_xdim = vol_fixed_xmax + 1 - vol_fixed_xmin\n",
    "vol_fixed_ydim = vol_fixed_ymax + 1 - vol_fixed_ymin\n",
    "vol_fixed_zdim = vol_fixed_zmax + 1 - vol_fixed_zmin"
   ]
  },
  {
   "cell_type": "code",
   "execution_count": 10,
   "metadata": {
    "collapsed": false
   },
   "outputs": [],
   "source": [
    "# volume_moving = bp.unpack_ndarray_file(DataManager.get_transformed_volume_filepath(stack_m='MD589', type_m='annotation',\n",
    "#                                                            stack_f=stack_fixed, type_f='score',\n",
    "#                                                            downscale=32,\n",
    "#                                                            train_sample_scheme_f=1))\n",
    "\n",
    "# print volume_moving.shape\n",
    "\n",
    "# vol_moving_xmin, vol_moving_ymin, vol_moving_zmin = (0,0,0)\n",
    "# vol_moving_ymax, vol_moving_xmax, vol_moving_zmax = np.array(volume_moving.shape) - 1"
   ]
  },
  {
   "cell_type": "code",
   "execution_count": 11,
   "metadata": {
    "collapsed": false
   },
   "outputs": [],
   "source": [
    "# volume_moving = {name_to_label_moving[name_s]: DataManager.load_transformed_volume(stack_m='atlas_on_MD589',\n",
    "#                                                                                    type_m='score',\n",
    "#                                                                                    stack_f=stack_fixed,\n",
    "#                                                                                    type_f='score',\n",
    "#                                                                                    downscale=32,\n",
    "#                                                                                    train_sample_scheme_f=train_sample_scheme,\n",
    "#                                                                                    label=name_s)\n",
    "#                  for name_s in structures_sided}"
   ]
  },
  {
   "cell_type": "code",
   "execution_count": 12,
   "metadata": {
    "collapsed": true
   },
   "outputs": [],
   "source": [
    "# volume_moving = {name_to_label_moving[name_s]: DataManager.load_transformed_volume(stack_m='atlas_on_MD589',\n",
    "#                                                                                    type_m='score',\n",
    "#                                                                                    stack_f=stack_fixed,\n",
    "#                                                                                    type_f='score',\n",
    "#                                                                                    downscale=32,\n",
    "#                                                                                    train_sample_scheme_f=train_sample_scheme,\n",
    "#                                                                                    label=name_s)\n",
    "#                  for name_s in structures_sided_plus_surround}"
   ]
  },
  {
   "cell_type": "code",
   "execution_count": 12,
   "metadata": {
    "collapsed": false
   },
   "outputs": [
    {
     "name": "stdout",
     "output_type": "stream",
     "text": [
      "(408, 548, 358)\n",
      "float16\n"
     ]
    }
   ],
   "source": [
    "# Load moving volumes\n",
    "\n",
    "if local_transform_scheme == 3 or local_transform_scheme == 4:\n",
    "\n",
    "    volume_moving = {name_to_label_moving[name_s]: DataManager.load_transformed_volume(stack_m='atlas_on_MD589',\n",
    "                                                                                       type_m='score',\n",
    "                                                                                       stack_f=stack_fixed,\n",
    "                                                                                       type_f='score',\n",
    "                                                                                       downscale=32,\n",
    "                                                                                       train_sample_scheme_f=train_sample_scheme,\n",
    "                                                                                       label=name_s)\n",
    "                     for name_s in structures_sided_plus_surround}\n",
    "\n",
    "else:\n",
    "\n",
    "    volume_moving = {name_to_label_moving[name_s]: DataManager.load_transformed_volume(stack_m='atlas_on_MD589',\n",
    "                                                                                       type_m='score',\n",
    "                                                                                       stack_f=stack_fixed,\n",
    "                                                                                       type_f='score',\n",
    "                                                                                       downscale=32,\n",
    "                                                                                       train_sample_scheme_f=train_sample_scheme,\n",
    "                                                                                       label=name_s)\n",
    "                     for name_s in structures_sided}    \n",
    "    \n",
    "print volume_moving.values()[0].shape\n",
    "print volume_moving.values()[0].dtype\n",
    "\n",
    "vol_moving_xmin, vol_moving_ymin, vol_moving_zmin = (0,0,0)\n",
    "vol_moving_ymax, vol_moving_xmax, vol_moving_zmax = np.array(volume_moving.values()[0].shape) - 1"
   ]
  },
  {
   "cell_type": "code",
   "execution_count": 14,
   "metadata": {
    "collapsed": true
   },
   "outputs": [],
   "source": [
    "# volume_moving_structure_sizes = {l: np.count_nonzero(vol > 0) for l, vol in volume_moving.iteritems()}\n",
    "\n",
    "# for lm, s in volume_moving_structure_sizes.iteritems():\n",
    "#     print label_to_name_moving[lm], s, 'voxels'"
   ]
  },
  {
   "cell_type": "code",
   "execution_count": 13,
   "metadata": {
    "collapsed": true
   },
   "outputs": [],
   "source": [
    "def convert_to_original_name(name):\n",
    "    return name.split('_')[0]\n",
    "\n",
    "labelIndexMap_m2f = {}\n",
    "for label_m, name_m in label_to_name_moving.iteritems():\n",
    "    labelIndexMap_m2f[label_m] = name_to_label_fixed[convert_to_original_name(name_m)]\n",
    "    \n",
    "label_weights_m = {}\n",
    "for label_m, name_m in label_to_name_moving.iteritems():\n",
    "    if 'surround' in name_m:\n",
    "        if local_transform_scheme == 3 or local_transform_scheme == 4:\n",
    "            label_weights_m[label_m] = -1\n",
    "        else:\n",
    "            label_weights_m[label_m] = 0\n",
    "    else:\n",
    "        label_weights_m[label_m] = 1"
   ]
  },
  {
   "cell_type": "code",
   "execution_count": 43,
   "metadata": {
    "collapsed": false,
    "scrolled": true
   },
   "outputs": [
    {
     "name": "stdout",
     "output_type": "stream",
     "text": [
      "5N_L\n",
      "set([5])\n"
     ]
    },
    {
     "name": "stderr",
     "output_type": "stream",
     "text": [
      "load gradient 5: 0.644114 seconds\n",
      "overall: 0.644280 seconds\n",
      "grid search: 0.547022 seconds\n",
      "-inf 0.022171\n",
      "grid search: 0.484990 seconds\n",
      "grid search: 0.360979 seconds\n",
      "grid search: 0.365116 seconds\n",
      "grid search: 0.360590 seconds\n",
      "0.022171 0.022582\n",
      "grid search: 0.260342 seconds\n",
      "grid search: 0.262704 seconds\n",
      "0.022582 0.022836\n",
      "grid search: 0.260647 seconds\n",
      "grid search: 0.247639 seconds\n",
      "0.022836 0.022886\n",
      "grid search: 0.269754 seconds\n",
      "0.022886 0.022894\n",
      "iteration 0\n",
      "score: 0.022894\n",
      "iteration 1\n",
      "score: 0.022210\n",
      "iteration 2\n",
      "score: 0.016712\n",
      "iteration 3\n",
      "score: 0.020997\n",
      "iteration 4\n",
      "score: 0.020645\n",
      "iteration 5\n",
      "score: 0.021799\n",
      "iteration 6\n",
      "score: 0.022106\n",
      "iteration 7\n",
      "score: 0.022521\n",
      "iteration 8\n",
      "score: 0.022637\n",
      "iteration 9\n",
      "score: 0.022770\n",
      "iteration 10\n",
      "score: 0.022836\n",
      "iteration 11\n",
      "score: 0.022895\n",
      "iteration 12\n"
     ]
    },
    {
     "name": "stdout",
     "output_type": "stream",
     "text": [
      "params_best_upToNow [ 2.27980306 -0.62013901 -1.4913029   0.06158161]\n"
     ]
    },
    {
     "name": "stderr",
     "output_type": "stream",
     "text": [
      "score: 0.022870\n",
      "iteration 13\n",
      "score: 0.022908\n",
      "iteration 14\n",
      "score: 0.022903\n",
      "iteration 15\n",
      "score: 0.022913\n",
      "iteration 16\n",
      "score: 0.022901\n",
      "iteration 17\n",
      "score: 0.022919\n",
      "iteration 18\n",
      "score: 0.022903\n",
      "iteration 19\n",
      "score: 0.022930\n",
      "iteration 20\n",
      "score: 0.022917\n",
      "iteration 21\n",
      "score: 0.022930\n",
      "iteration 22\n",
      "score: 0.022938\n",
      "iteration 23\n",
      "score: 0.022941\n",
      "iteration 24\n",
      "score: 0.022928\n",
      "iteration 25\n",
      "score: 0.022965\n",
      "iteration 26\n",
      "score: 0.022943\n",
      "iteration 27\n",
      "score: 0.022946\n",
      "iteration 28\n",
      "score: 0.022949\n",
      "iteration 29\n",
      "score: 0.022947\n",
      "iteration 30\n",
      "score: 0.022966\n",
      "iteration 31\n",
      "score: 0.022963\n",
      "iteration 32\n",
      "score: 0.022963\n",
      "iteration 33\n",
      "score: 0.022964\n",
      "iteration 34\n",
      "score: 0.022988\n",
      "iteration 35\n",
      "score: 0.022997\n",
      "iteration 36\n",
      "score: 0.023006\n",
      "iteration 37\n",
      "score: 0.023017\n",
      "iteration 38\n",
      "score: 0.023014\n",
      "iteration 39\n",
      "score: 0.023029\n",
      "iteration 40\n",
      "score: 0.023026\n",
      "iteration 41\n",
      "score: 0.023033\n",
      "iteration 42\n",
      "score: 0.023015\n",
      "iteration 43\n",
      "score: 0.023013\n",
      "iteration 44\n",
      "score: 0.023017\n",
      "iteration 45\n",
      "score: 0.023011\n",
      "iteration 46\n",
      "score: 0.023008\n",
      "iteration 47\n",
      "score: 0.022998\n",
      "iteration 48\n",
      "score: 0.022994\n",
      "iteration 49\n",
      "score: 0.022996\n",
      "iteration 50\n",
      "score: 0.022981\n",
      "iteration 51\n",
      "score: 0.022983\n",
      "iteration 52\n",
      "score: 0.022971\n",
      "iteration 53\n",
      "score: 0.023004\n",
      "iteration 54\n",
      "score: 0.022993\n",
      "iteration 55\n",
      "score: 0.023002\n",
      "iteration 56\n",
      "score: 0.022979\n",
      "iteration 57\n",
      "score: 0.022989\n",
      "iteration 58\n",
      "score: 0.022990\n",
      "iteration 59\n",
      "score: 0.022996\n",
      "iteration 60\n",
      "score: 0.022990\n",
      "iteration 61\n",
      "score: 0.022993\n",
      "iteration 62\n",
      "score: 0.023006\n",
      "iteration 63\n",
      "score: 0.022990\n",
      "iteration 64\n",
      "score: 0.022998\n",
      "iteration 65\n",
      "score: 0.022994\n",
      "iteration 66\n",
      "score: 0.022997\n",
      "iteration 67\n",
      "score: 0.022997\n",
      "iteration 68\n",
      "score: 0.023014\n",
      "iteration 69\n",
      "score: 0.023012\n",
      "iteration 70\n",
      "score: 0.023017\n",
      "iteration 71\n",
      "score: 0.023012\n",
      "iteration 72\n",
      "score: 0.023006\n",
      "iteration 73\n",
      "score: 0.022996\n",
      "iteration 74\n",
      "score: 0.023006\n",
      "iteration 75\n",
      "score: 0.022984\n",
      "iteration 76\n",
      "score: 0.022976\n",
      "iteration 77\n",
      "score: 0.022974\n",
      "iteration 78\n",
      "score: 0.022965\n",
      "iteration 79\n",
      "score: 0.022961\n",
      "iteration 80\n",
      "score: 0.022952\n",
      "iteration 81\n",
      "score: 0.022945\n",
      "iteration 82\n",
      "score: 0.022943\n",
      "iteration 83\n",
      "score: 0.022949\n",
      "iteration 84\n",
      "score: 0.022936\n",
      "iteration 85\n",
      "score: 0.022951\n",
      "iteration 86\n",
      "score: 0.022952\n",
      "iteration 87\n",
      "score: 0.022946\n",
      "iteration 88\n",
      "score: 0.022959\n",
      "iteration 89\n",
      "score: 0.022955\n",
      "iteration 90\n",
      "score: 0.022974\n",
      "iteration 91\n",
      "score: 0.022968\n",
      "iteration 92\n",
      "score: 0.022970\n",
      "iteration 93\n",
      "score: 0.022959\n",
      "iteration 94\n",
      "score: 0.022984\n",
      "iteration 95\n",
      "score: 0.022960\n",
      "iteration 96\n",
      "score: 0.022985\n",
      "iteration 97\n",
      "score: 0.022967\n",
      "iteration 98\n",
      "score: 0.022996\n",
      "iteration 99\n",
      "score: 0.022966\n",
      "iteration 100\n",
      "score: 0.023000\n",
      "iteration 101\n",
      "score: 0.022988\n",
      "iteration 102\n",
      "score: 0.023015\n",
      "iteration 103\n",
      "score: 0.023015\n",
      "iteration 104\n",
      "score: 0.023001\n",
      "iteration 105\n",
      "score: 0.023008\n",
      "iteration 106\n",
      "score: 0.022985\n",
      "iteration 107\n",
      "score: 0.023022\n",
      "iteration 108\n",
      "score: 0.022997\n",
      "iteration 109\n",
      "score: 0.023016\n",
      "iteration 110\n",
      "score: 0.022992\n",
      "iteration 111\n",
      "score: 0.023012\n",
      "iteration 112\n",
      "score: 0.022984\n",
      "iteration 113\n",
      "score: 0.023014\n",
      "5.19 seconds\n"
     ]
    },
    {
     "name": "stdout",
     "output_type": "stream",
     "text": [
      "[[ 0.99817679 -0.04674722 -0.03818117  1.70641947]\n",
      " [ 0.04438211  0.99717467 -0.06060444 -0.52031949]\n",
      " [ 0.04090639  0.05879939  0.99743135 -1.43360475]]\n",
      "0.0230331979473 0.0230138036165\n"
     ]
    },
    {
     "data": {
      "image/png": "[encoded data removed]",
      "text/plain": [
       "<matplotlib.figure.Figure at 0x5321ad0>"
      ]
     },
     "metadata": {},
     "output_type": "display_data"
    }
   ],
   "source": [
    "# for name_s in structures_sided:\n",
    "for name_s in ['5N_L']:\n",
    "# for name_s in ['IC']:\n",
    "    \n",
    "    print name_s\n",
    "\n",
    "#     try:\n",
    "        \n",
    "    if local_transform_scheme == 1 or local_transform_scheme == 2:\n",
    "    \n",
    "        aligner = Aligner4(volume_fixed, {name_to_label_moving[name_s]: \n",
    "                                          volume_moving[name_to_label_moving[name_s]]}, \\\n",
    "                           labelIndexMap_m2f={name_to_label_moving[name_s]:\n",
    "                                              name_to_label_fixed[convert_name_to_unsided(name_s)]})\n",
    "\n",
    "    elif local_transform_scheme == 3 or local_transform_scheme == 4:\n",
    "                \n",
    "        aligner = Aligner4(volume_fixed, {name_to_label_moving[name_s]: volume_moving[name_to_label_moving[name_s]],\n",
    "                                         name_to_label_moving[name_s+'_surround']: volume_moving[name_to_label_moving[name_s+'_surround']]}, \\\n",
    "                        labelIndexMap_m2f={name_to_label_moving[name_s]: name_to_label_fixed[convert_name_to_unsided(name_s)],\n",
    "                                          name_to_label_moving[name_s+'_surround']: name_to_label_fixed[convert_to_original_name(name_s+'_surround')]})\n",
    "\n",
    "    # aligner.set_centroid(centroid_m='volume_centroid', centroid_f='volume_centroid')\n",
    "    aligner.set_centroid(centroid_m='structure_centroid', centroid_f='centroid_m', \n",
    "                         indices_m=[name_to_label_moving[name_s]])\n",
    "\n",
    "    gradient_filepath_map_f = {ind_f: VOLUME_ROOTDIR + '/%(stack)s/score_volume_gradients/%(stack)s_down32_scoreVolume_%(label)s_trainSampleScheme_%(scheme)d_%%(suffix)s.bp' % \\\n",
    "                           {'stack': stack_fixed, 'label': label_to_name_fixed[ind_f], 'scheme':train_sample_scheme}\n",
    "                           for ind_m, ind_f in labelIndexMap_m2f.iteritems()}\n",
    "\n",
    "    aligner.load_gradient(gradient_filepath_map_f=gradient_filepath_map_f, indices_f=None)\n",
    "\n",
    "    t = time.time()\n",
    "    \n",
    "    # SC + SC_surround\n",
    "    # grid_search_sample_number = 100, 6.2s (first iter) x 10 iters (exp. diminishing) ~ 20s\n",
    "    # grid_search_sample_number = 1000, 40s (first iter) x 10 iters ~ 143s\n",
    "    # grid_search_sample_number = 10000, 380s (first iter) x 10 iters ~ 1315s\n",
    "    \n",
    "    # IC + IC_surround\n",
    "    # grid_search_sample_number = 100, 4s (first iter)\n",
    "    # grid_search_sample_number = 1000, 27s (first iter)\n",
    "    # grid_search_sample_number = 10000, 215s (first iter)\n",
    "    T, scores = aligner.optimize(type='rigid', max_iter_num=1000, history_len=50, terminate_thresh=1e-5,\n",
    "                                 indices_m=None,\n",
    "                                grid_search_iteration_number=10,\n",
    "                                 grid_search_sample_number=1000,\n",
    "                                 grad_computation_sample_number=1e5,\n",
    "                                 lr1=10, lr2=0.1,\n",
    "                                label_weights=label_weights_m,\n",
    "                                std_tx=50, std_ty=50, std_tz=100, std_theta_xy=np.deg2rad(10),\n",
    "                                reg_weights=reg_weights,\n",
    "                                epsilon=1e-8)\n",
    "\n",
    "    sys.stderr.write('%.2f seconds\\n' % (time.time() - t))\n",
    "\n",
    "    print T.reshape((3,4))\n",
    "    plt.plot(scores);\n",
    "    print max(scores), scores[-1]\n",
    "\n",
    "    ########################################################\n",
    "\n",
    "#     params_fp = DataManager.get_local_alignment_parameters_filepath(stack_moving=stack_moving,\n",
    "#                                                                 moving_volume_type='score',\n",
    "#                                                                 stack_fixed=stack_fixed,\n",
    "#                                                                 fixed_volume_type='score',\n",
    "#                                                                 train_sample_scheme=train_sample_scheme,\n",
    "#                                                                 global_transform_scheme=global_transform_scheme,\n",
    "#                                                                 local_transform_scheme=local_transform_scheme,\n",
    "#                                                                label=name_s)\n",
    "\n",
    "#     DataManager.save_alignment_parameters(params_fp, \n",
    "#                                           T, aligner.centroid_m, aligner.centroid_f, \n",
    "#                                           aligner.xdim_m, aligner.ydim_m, aligner.zdim_m, \n",
    "#                                           aligner.xdim_f, aligner.ydim_f, aligner.zdim_f)\n",
    "\n",
    "\n",
    "#     score_plot_fp = DataManager.get_local_alignment_score_plot_filepath(stack_moving=stack_moving,\n",
    "#                                                                     moving_volume_type='score',\n",
    "#                                                                     stack_fixed=stack_fixed,\n",
    "#                                                                     fixed_volume_type='score',\n",
    "#                                                                     train_sample_scheme=train_sample_scheme,\n",
    "#                                                                     global_transform_scheme=global_transform_scheme,\n",
    "#                                                                     local_transform_scheme=local_transform_scheme,\n",
    "#                                                                    label=name_s)\n",
    "#     fig = plt.figure();\n",
    "#     plt.plot(scores);\n",
    "#     plt.savefig(score_plot_fp, bbox_inches='tight')\n",
    "#     plt.close(fig)\n",
    "        \n",
    "#     except Exception as e:\n",
    "#         sys.stderr.write(e.message + '\\n')\n",
    "        "
   ]
  },
  {
   "cell_type": "code",
   "execution_count": 20,
   "metadata": {
    "collapsed": false
   },
   "outputs": [
    {
     "data": {
      "text/plain": [
       "0.035221681946676804"
      ]
     },
     "execution_count": 20,
     "metadata": {},
     "output_type": "execute_result"
    }
   ],
   "source": [
    "aligner.compute_score(T)"
   ]
  },
  {
   "cell_type": "code",
   "execution_count": null,
   "metadata": {
    "collapsed": true
   },
   "outputs": [],
   "source": []
  },
  {
   "cell_type": "code",
   "execution_count": 15,
   "metadata": {
    "collapsed": true
   },
   "outputs": [],
   "source": [
    "from registration_utilities import transform_volume, transform_points, find_contour_points"
   ]
  },
  {
   "cell_type": "code",
   "execution_count": 16,
   "metadata": {
    "collapsed": false
   },
   "outputs": [],
   "source": [
    "volumes_annotation = {'MD594': bp.unpack_ndarray_file(DataManager.get_transformed_volume_filepath(stack_m='MD594', type_m='annotation',\n",
    "                                                stack_f=stack_fixed, type_f='score',\n",
    "                                                downscale=32, train_sample_scheme_f=1)),\n",
    "                      \n",
    "                      'MD589': bp.unpack_ndarray_file(DataManager.get_transformed_volume_filepath(stack_m='MD589', type_m='annotation',\n",
    "                                                stack_f=stack_fixed, type_f='score',\n",
    "                                                downscale=32, train_sample_scheme_f=1))}"
   ]
  },
  {
   "cell_type": "code",
   "execution_count": 17,
   "metadata": {
    "collapsed": false,
    "scrolled": true
   },
   "outputs": [],
   "source": [
    "name_to_label_annotation = DataManager.load_annotation_volume_nameToLabel('MD589', downscale=32)\n",
    "label_to_name_annotation = {l: n for n, l in name_to_label_annotation.iteritems()}"
   ]
  },
  {
   "cell_type": "code",
   "execution_count": 18,
   "metadata": {
    "collapsed": true
   },
   "outputs": [],
   "source": [
    "stack_colors = {'MD589': (255,0,0), 'MD594': (0,255,0)}"
   ]
  },
  {
   "cell_type": "code",
   "execution_count": 19,
   "metadata": {
    "collapsed": false
   },
   "outputs": [],
   "source": [
    "structure_colors = {s: np.random.randint(0,255,3) for s in structures}"
   ]
  },
  {
   "cell_type": "code",
   "execution_count": 20,
   "metadata": {
    "collapsed": true
   },
   "outputs": [],
   "source": [
    "first_sec, last_sec = metadata_cache['section_limits'][stack_fixed]"
   ]
  },
  {
   "cell_type": "code",
   "execution_count": 21,
   "metadata": {
    "collapsed": false
   },
   "outputs": [
    {
     "name": "stdout",
     "output_type": "stream",
     "text": [
      "0 547 0 407 110 467\n"
     ]
    }
   ],
   "source": [
    "xmin_vol_f, xmax_vol_f, ymin_vol_f, ymax_vol_f, zmin_vol_f, zmax_vol_f = np.loadtxt('/home/yuncong/csd395/CSHL_volumes2/%(stack_fixed)s/score_volumes/%(stack_fixed)s_down32_scoreVolume_7N_bbox.txt' %\\\n",
    "          dict(stack_fixed=stack_fixed)).astype(np.int)\n",
    "print xmin_vol_f, xmax_vol_f, ymin_vol_f, ymax_vol_f, zmin_vol_f, zmax_vol_f"
   ]
  },
  {
   "cell_type": "code",
   "execution_count": 22,
   "metadata": {
    "collapsed": true
   },
   "outputs": [],
   "source": [
    "downsample_factor = 32\n",
    "xy_pixel_distance_downsampled = xy_pixel_distance_lossless * downsample_factor\n",
    "voxel_z_size = section_thickness / xy_pixel_distance_downsampled"
   ]
  },
  {
   "cell_type": "code",
   "execution_count": 23,
   "metadata": {
    "collapsed": false
   },
   "outputs": [],
   "source": [
    "viz_dir = create_if_not_exists(DataManager.get_local_alignment_viz_dir(stack_moving=stack_moving,\n",
    "                                                        stack_fixed=stack_fixed,\n",
    "                                                        moving_volume_type='score',\n",
    "                                                        fixed_volume_type='score',\n",
    "                                                        train_sample_scheme=train_sample_scheme,\n",
    "                                                        global_transform_scheme=global_transform_scheme,\n",
    "                                                        local_transform_scheme=local_transform_scheme))"
   ]
  },
  {
   "cell_type": "code",
   "execution_count": null,
   "metadata": {
    "collapsed": false
   },
   "outputs": [],
   "source": []
  },
  {
   "cell_type": "code",
   "execution_count": 33,
   "metadata": {
    "collapsed": false
   },
   "outputs": [],
   "source": [
    "# tx_params, centroid_m, centroid_f, xdim_m, ydim_m, zdim_m, xdim_f, ydim_f, zdim_f = \\\n",
    "#     DataManager.load_local_alignment_parameters(stack_moving=stack_moving,\n",
    "#                                                 moving_volume_type='score',\n",
    "#                                                 stack_fixed=stack_fixed,\n",
    "#                                                 fixed_volume_type='score',\n",
    "#                                                 train_sample_scheme=train_sample_scheme,\n",
    "#                                                 global_transform_scheme=global_transform_scheme,\n",
    "#                                                 local_transform_scheme=local_transform_scheme,\n",
    "#                                                label='5N_R')\n",
    "\n",
    "# annotation_volumes_volume_m_aligned_to_f = {}\n",
    "# for stack, volume_annotation in volumes_annotation.iteritems():\n",
    "#     annotation_volumes_volume_m_aligned_to_f[stack] = transform_volume(\\\n",
    "#                                            vol=volume_annotation==name_to_label_annotation['5N_R'], \n",
    "#                                                                        global_params=tx_params, \n",
    "#                                                                        centroid_m=centroid_m, \n",
    "#                                                                        centroid_f=centroid_f,\n",
    "#                                                                       xdim_f=xdim_f,\n",
    "#                                                                       ydim_f=ydim_f,\n",
    "#                                                                       zdim_f=zdim_f).astype(np.uint8)"
   ]
  },
  {
   "cell_type": "code",
   "execution_count": 34,
   "metadata": {
    "collapsed": false
   },
   "outputs": [],
   "source": [
    "# bar = show_progress_bar(first_sec, last_sec)\n",
    "\n",
    "# for sec in range(first_sec, last_sec+1):\n",
    "\n",
    "#     if metadata_cache['sections_to_filenames'][stack_fixed][sec] in ['Placeholder', 'Rescan', 'Nonexisting']:\n",
    "#         continue\n",
    "\n",
    "#     bar.value = sec\n",
    "\n",
    "#     img_fn = DataManager.get_image_filepath(stack=stack_fixed, section=sec, resol='thumbnail', version='cropped_tif')\n",
    "#     img = imread(img_fn)\n",
    "\n",
    "# #         img_fn = DataManager.get_scoremap_viz_filepath(stack=stack_fixed, section=sec, label='7N', train_sample_scheme=train_sample_scheme)\n",
    "# #         img = imread(img_fn)[::4, ::4]\n",
    "\n",
    "#     viz = img.copy()\n",
    "\n",
    "#     z = voxel_z_size * (sec - 1) - zmin_vol_f\n",
    "\n",
    "#     # Find fixed volume annotation contours\n",
    "# #     contours_f_on_volume = find_contour_points(volume_fixed[..., int(z)])\n",
    "# #     contours_f_on_cropped = {i: [cnt + (xmin_vol_f, ymin_vol_f) for cnt in cnts] for i, cnts in contours_f_on_volume.iteritems()}\n",
    "\n",
    "#     # Find moving volume annotation contours\n",
    "\n",
    "#     for stack, volume_m_aligned_to_f in annotation_volumes_volume_m_aligned_to_f.iteritems():\n",
    "\n",
    "#         contours_m_alignedTo_f_on_volume = find_contour_points(volume_m_aligned_to_f[..., int(z)])\n",
    "#         contours_m_alignedTo_f_on_cropped = {i: [cnt + (xmin_vol_f, ymin_vol_f) for cnt in cnts] \n",
    "#                                              for i, cnts in contours_m_alignedTo_f_on_volume.iteritems()}\n",
    "\n",
    "#     #     # Draw fixed volume annotation contours\n",
    "#     #     for ind_f, cnts_f in contours_f_on_cropped.iteritems():\n",
    "#     #         for cnt_f in cnts_f:\n",
    "#     #             cv2.polylines(viz, [cnt_f.astype(np.int)], True, (0,255,0), 2)\n",
    "\n",
    "#         # Draw moving volume annotation contours\n",
    "#         for ind_m, cnts_m in contours_m_alignedTo_f_on_cropped.iteritems():\n",
    "#             for cnt_m in cnts_m:\n",
    "#                 cv2.polylines(viz, [cnt_m.astype(np.int)], True, stack_colors[stack], 2)\n",
    "\n",
    "#     viz_fn = os.path.join(viz_dir, '%(stack_moving)s_over_%(stack_fixed)s_%(sec)04d.jpg' % \\\n",
    "#           {'stack_moving': stack_moving, 'stack_fixed': stack_fixed, 'sec': sec})\n",
    "#     imsave(viz_fn, viz)"
   ]
  },
  {
   "cell_type": "code",
   "execution_count": null,
   "metadata": {
    "collapsed": true
   },
   "outputs": [],
   "source": []
  },
  {
   "cell_type": "code",
   "execution_count": 27,
   "metadata": {
    "collapsed": true
   },
   "outputs": [],
   "source": [
    "annotation_structure_sizes = {s: len(parallel_where_binary(volume_annotation == name_to_label_annotation[s])) \n",
    "                              for s in structures_sided}\n",
    "annotation_structure_sizes_precent = {s: float(size)/sum(annotation_structure_sizes.values()) \n",
    "                                      for s, size in annotation_structure_sizes.iteritems()}"
   ]
  },
  {
   "cell_type": "code",
   "execution_count": 175,
   "metadata": {
    "collapsed": false,
    "scrolled": true
   },
   "outputs": [],
   "source": [
    "annotation_structure_radius = {}\n",
    "# annotation_structure_axes = {}\n",
    "annotation_structure_covars = {}\n",
    "for s in structures_sided:\n",
    "    nzs = parallel_where_binary(volume_annotation == name_to_label_annotation[s])\n",
    "    nzsc = nzs - nzs.mean(axis=0)\n",
    "    C = np.dot(nzsc.T, nzsc)/float(len(nzsc))\n",
    "    S, V = np.linalg.eigh(C)\n",
    "#     annotation_structure_axes[s] = V\n",
    "    annotation_structure_radius[s] = np.sqrt(S)\n",
    "    annotation_structure_covars[s] = C\n",
    "#     alpha = 1.\n",
    "#     scaled_C = np.dot(np.dot(V.T, alpha*S), V)\n",
    "#     annotation_structure_covars[s] = scaled_C"
   ]
  },
  {
   "cell_type": "code",
   "execution_count": 210,
   "metadata": {
    "collapsed": false
   },
   "outputs": [],
   "source": [
    "# Read Transform of each structure, do polyrigid transform\n",
    "\n",
    "volume_m_aligned_to_f_allAnnotatedBrains = {}\n",
    "\n",
    "stack = 'MD589'\n",
    "volume_annotation = volumes_annotation[stack]\n",
    "\n",
    "# for stack, volume_annotation in volumes_annotation.iteritems():\n",
    "\n",
    "rigid_parameters_list = []\n",
    "anchor_points = []\n",
    "# sigmas = [1. for _ in structures_sided]\n",
    "\n",
    "alpha = 1.\n",
    "sigmas = [alpha * annotation_structure_covars[s] for s in structures_sided]\n",
    "\n",
    "# weights = [1. for s in structures_sided]\n",
    "weights = [annotation_structure_sizes_precent[s] for s in structures_sided]\n",
    "\n",
    "for name_s in structures_sided:\n",
    "# for name_s in ['VLL_L']:\n",
    "\n",
    "    try:\n",
    "        tx_params, centroid_m, centroid_f, xdim_m, ydim_m, zdim_m, xdim_f, ydim_f, zdim_f = \\\n",
    "        DataManager.load_local_alignment_parameters(stack_moving=stack_moving,\n",
    "                                                    moving_volume_type='score',\n",
    "                                                    stack_fixed=stack_fixed,\n",
    "                                                    fixed_volume_type='score',\n",
    "                                                    train_sample_scheme=train_sample_scheme,\n",
    "                                                    global_transform_scheme=global_transform_scheme,\n",
    "                                                    local_transform_scheme=local_transform_scheme,\n",
    "                                                   label=name_s,\n",
    "                                                   trial_idx=1)\n",
    "\n",
    "        rigid_parameters_list.append((tx_params, centroid_m, centroid_f, xdim_m, ydim_m, zdim_m, xdim_f, ydim_f, zdim_f))\n",
    "        anchor_points.append(centroid_m)\n",
    "    except:\n",
    "        sys.stderr.write('Cannot load parameters for %s.\\n' % name_s)"
   ]
  },
  {
   "cell_type": "code",
   "execution_count": 211,
   "metadata": {
    "collapsed": false
   },
   "outputs": [],
   "source": [
    "volume_m_aligned_to_f_allAnnotatedBrains[stack] = transform_volume_polyrigid(volume_annotation, \n",
    "                                                                             rigid_parameters_list, \n",
    "                                                                             anchor_points, sigmas, \n",
    "                                                                             weights)"
   ]
  },
  {
   "cell_type": "code",
   "execution_count": 212,
   "metadata": {
    "collapsed": true
   },
   "outputs": [],
   "source": [
    "viz_dir = create_if_not_exists(DataManager.get_local_alignment_viz_dir(stack_moving=stack_moving,\n",
    "                                                        stack_fixed=stack_fixed,\n",
    "                                                        moving_volume_type='score',\n",
    "                                                        fixed_volume_type='score',\n",
    "                                                        train_sample_scheme=train_sample_scheme,\n",
    "                                                        global_transform_scheme=global_transform_scheme,\n",
    "                                                        local_transform_scheme=5))"
   ]
  },
  {
   "cell_type": "code",
   "execution_count": 213,
   "metadata": {
    "collapsed": false
   },
   "outputs": [
    {
     "name": "stderr",
     "output_type": "stream",
     "text": [
      "/oasis/projects/nsf/csd395/yuncong/brain_virtualenv/lib/python2.7/site-packages/skimage/external/tifffile/tifffile.py:1794: RuntimeWarning: py_decodelzw encountered unexpected end of stream\n",
      "  strip = decompress(strip)\n"
     ]
    }
   ],
   "source": [
    "bar = show_progress_bar(first_sec, last_sec)\n",
    "\n",
    "for sec in range(first_sec, last_sec+1):\n",
    "# for sec in range(140, 160):\n",
    "    \n",
    "    if metadata_cache['sections_to_filenames'][stack_fixed][sec] in ['Placeholder', 'Rescan', 'Nonexisting']:\n",
    "            continue\n",
    "\n",
    "    bar.value = sec\n",
    "\n",
    "    img_fn = DataManager.get_image_filepath(stack=stack_fixed, section=sec, resol='thumbnail', version='cropped_tif')\n",
    "    img = imread(img_fn)\n",
    "\n",
    "#         img_fn = DataManager.get_scoremap_viz_filepath(stack=stack_fixed, section=sec, label='7N', train_sample_scheme=train_sample_scheme)\n",
    "#         img = imread(img_fn)[::4, ::4]\n",
    "\n",
    "    viz = img.copy()\n",
    "\n",
    "    z = voxel_z_size * (sec - 1) - zmin_vol_f\n",
    "    \n",
    "    ##############################################\n",
    "    \n",
    "#     for stack, volume_m_aligned_to_f in volume_m_aligned_to_f_allAnnotatedBrains.iteritems():\n",
    "\n",
    "    stack = 'MD589'\n",
    "    volume_m_aligned_to_f = volume_m_aligned_to_f_allAnnotatedBrains[stack]\n",
    "            \n",
    "    contours_m_alignedTo_f_on_volume = find_contour_points(volume_m_aligned_to_f[..., int(z)])\n",
    "    contours_m_alignedTo_f_on_cropped = {i: [cnt + (xmin_vol_f, ymin_vol_f) for cnt in cnts] \n",
    "                                         for i, cnts in contours_m_alignedTo_f_on_volume.iteritems()}\n",
    "\n",
    "#     # Draw fixed volume annotation contours\n",
    "#     for ind_f, cnts_f in contours_f_on_cropped.iteritems():\n",
    "#         for cnt_f in cnts_f:\n",
    "#             cv2.polylines(viz, [cnt_f.astype(np.int)], True, (0,255,0), 2)\n",
    "\n",
    "    # Draw moving volume annotation contours\n",
    "    for ind_m, cnts_m in contours_m_alignedTo_f_on_cropped.iteritems():\n",
    "        for cnt_m in cnts_m:\n",
    "#             cv2.polylines(viz, [cnt_m.astype(np.int)], True, stack_colors[stack], 2)\n",
    "            cv2.polylines(viz, [cnt_m.astype(np.int)], True, structure_colors[convert_name_to_unsided(label_to_name_moving[ind_m])], 1)\n",
    "\n",
    "            # put label texts\n",
    "#             label_pos = cnt_m.mean(axis=0).astype(np.int)\n",
    "#             cv2.putText(viz, convert_name_to_unsided(name_s), tuple(label_pos), \n",
    "#                         cv2.FONT_HERSHEY_DUPLEX, .5, ((0,0,0)), 1)\n",
    "\n",
    "    viz_fn = os.path.join(viz_dir, '%(stack_moving)s_over_%(stack_fixed)s_%(sec)04d.jpg' % \\\n",
    "          {'stack_moving': stack_moving, 'stack_fixed': stack_fixed, 'sec': sec})\n",
    "    imsave(viz_fn, viz)\n",
    "\n",
    "#     plt.figure(figsize=(10, 10));\n",
    "#     plt.imshow(viz);\n",
    "#     plt.show();"
   ]
  },
  {
   "cell_type": "code",
   "execution_count": null,
   "metadata": {
    "collapsed": true
   },
   "outputs": [],
   "source": []
  },
  {
   "cell_type": "code",
   "execution_count": 31,
   "metadata": {
    "collapsed": false,
    "scrolled": true
   },
   "outputs": [
    {
     "name": "stdout",
     "output_type": "stream",
     "text": [
      "5N_L\n"
     ]
    },
    {
     "name": "stderr",
     "output_type": "stream",
     "text": [
      "/oasis/projects/nsf/csd395/yuncong/brain_virtualenv/lib/python2.7/site-packages/ipykernel/__main__.py:22: DeprecationWarning: BaseException.message has been deprecated as of Python 2.6\n",
      "\n"
     ]
    },
    {
     "name": "stdout",
     "output_type": "stream",
     "text": [
      "5N_R\n"
     ]
    },
    {
     "name": "stderr",
     "output_type": "stream",
     "text": [
      "\n"
     ]
    },
    {
     "name": "stdout",
     "output_type": "stream",
     "text": [
      "6N_L\n",
      "6N_R\n"
     ]
    },
    {
     "name": "stderr",
     "output_type": "stream",
     "text": [
      "\n"
     ]
    },
    {
     "name": "stdout",
     "output_type": "stream",
     "text": [
      "7N_L\n"
     ]
    },
    {
     "name": "stderr",
     "output_type": "stream",
     "text": [
      "\n"
     ]
    },
    {
     "name": "stdout",
     "output_type": "stream",
     "text": [
      "7N_R\n"
     ]
    },
    {
     "name": "stderr",
     "output_type": "stream",
     "text": [
      "\n"
     ]
    },
    {
     "name": "stdout",
     "output_type": "stream",
     "text": [
      "7n_L\n"
     ]
    },
    {
     "name": "stderr",
     "output_type": "stream",
     "text": [
      "\n"
     ]
    },
    {
     "name": "stdout",
     "output_type": "stream",
     "text": [
      "7n_R\n"
     ]
    },
    {
     "name": "stderr",
     "output_type": "stream",
     "text": [
      "\n"
     ]
    },
    {
     "name": "stdout",
     "output_type": "stream",
     "text": [
      "Amb_L\n"
     ]
    },
    {
     "name": "stderr",
     "output_type": "stream",
     "text": [
      "\n"
     ]
    },
    {
     "name": "stdout",
     "output_type": "stream",
     "text": [
      "Amb_R\n"
     ]
    },
    {
     "name": "stderr",
     "output_type": "stream",
     "text": [
      "\n"
     ]
    },
    {
     "name": "stdout",
     "output_type": "stream",
     "text": [
      "LC_L\n"
     ]
    },
    {
     "name": "stderr",
     "output_type": "stream",
     "text": [
      "\n"
     ]
    },
    {
     "name": "stdout",
     "output_type": "stream",
     "text": [
      "LC_R\n"
     ]
    },
    {
     "name": "stderr",
     "output_type": "stream",
     "text": [
      "\n"
     ]
    },
    {
     "name": "stdout",
     "output_type": "stream",
     "text": [
      "LRt_L\n"
     ]
    },
    {
     "name": "stderr",
     "output_type": "stream",
     "text": [
      "\n"
     ]
    },
    {
     "name": "stdout",
     "output_type": "stream",
     "text": [
      "LRt_R\n"
     ]
    },
    {
     "name": "stderr",
     "output_type": "stream",
     "text": [
      "\n"
     ]
    },
    {
     "ename": "KeyboardInterrupt",
     "evalue": "",
     "output_type": "error",
     "traceback": [
      "\u001b[0;31m---------------------------------------------------------------------------\u001b[0m",
      "\u001b[0;31mKeyboardInterrupt\u001b[0m                         Traceback (most recent call last)",
      "\u001b[0;32m<ipython-input-31-0d23438d4cde>\u001b[0m in \u001b[0;36m<module>\u001b[0;34m()\u001b[0m\n\u001b[1;32m     35\u001b[0m                           \u001b[0mxdim_f\u001b[0m\u001b[0;34m=\u001b[0m\u001b[0mxdim_f\u001b[0m\u001b[0;34m,\u001b[0m\u001b[0;34m\u001b[0m\u001b[0m\n\u001b[1;32m     36\u001b[0m                           \u001b[0mydim_f\u001b[0m\u001b[0;34m=\u001b[0m\u001b[0mydim_f\u001b[0m\u001b[0;34m,\u001b[0m\u001b[0;34m\u001b[0m\u001b[0m\n\u001b[0;32m---> 37\u001b[0;31m                           zdim_f=zdim_f)\n\u001b[0m",
      "\u001b[0;32m/oasis/projects/nsf/csd395/yuncong/Brain/utilities/registration_utilities.py\u001b[0m in \u001b[0;36mtransform_volume\u001b[0;34m(vol, global_params, centroid_m, centroid_f, xdim_f, ydim_f, zdim_f)\u001b[0m\n\u001b[1;32m   2728\u001b[0m \u001b[0;32mdef\u001b[0m \u001b[0mtransform_volume\u001b[0m\u001b[0;34m(\u001b[0m\u001b[0mvol\u001b[0m\u001b[0;34m,\u001b[0m \u001b[0mglobal_params\u001b[0m\u001b[0;34m,\u001b[0m \u001b[0mcentroid_m\u001b[0m\u001b[0;34m,\u001b[0m \u001b[0mcentroid_f\u001b[0m\u001b[0;34m,\u001b[0m \u001b[0mxdim_f\u001b[0m\u001b[0;34m,\u001b[0m \u001b[0mydim_f\u001b[0m\u001b[0;34m,\u001b[0m \u001b[0mzdim_f\u001b[0m\u001b[0;34m)\u001b[0m\u001b[0;34m:\u001b[0m\u001b[0;34m\u001b[0m\u001b[0m\n\u001b[1;32m   2729\u001b[0m \u001b[0;34m\u001b[0m\u001b[0m\n\u001b[0;32m-> 2730\u001b[0;31m     \u001b[0mnzvoxels_m_temp\u001b[0m \u001b[0;34m=\u001b[0m \u001b[0mparallel_where_binary\u001b[0m\u001b[0;34m(\u001b[0m\u001b[0mvol\u001b[0m \u001b[0;34m>\u001b[0m \u001b[0;36m0\u001b[0m\u001b[0;34m)\u001b[0m\u001b[0;34m\u001b[0m\u001b[0m\n\u001b[0m\u001b[1;32m   2731\u001b[0m     \u001b[0;31m# \"_temp\" is appended to avoid name conflict with module level variable defined in registration.py\u001b[0m\u001b[0;34m\u001b[0m\u001b[0;34m\u001b[0m\u001b[0m\n\u001b[1;32m   2732\u001b[0m \u001b[0;34m\u001b[0m\u001b[0m\n",
      "\u001b[0;32m/oasis/projects/nsf/csd395/yuncong/Brain/utilities/registration_utilities.py\u001b[0m in \u001b[0;36mparallel_where_binary\u001b[0;34m(binary_volume, num_samples)\u001b[0m\n\u001b[1;32m     19\u001b[0m \u001b[0;32mdef\u001b[0m \u001b[0mparallel_where_binary\u001b[0m\u001b[0;34m(\u001b[0m\u001b[0mbinary_volume\u001b[0m\u001b[0;34m,\u001b[0m \u001b[0mnum_samples\u001b[0m\u001b[0;34m=\u001b[0m\u001b[0mNone\u001b[0m\u001b[0;34m)\u001b[0m\u001b[0;34m:\u001b[0m\u001b[0;34m\u001b[0m\u001b[0m\n\u001b[1;32m     20\u001b[0m \u001b[0;34m\u001b[0m\u001b[0m\n\u001b[0;32m---> 21\u001b[0;31m     \u001b[0mw\u001b[0m \u001b[0;34m=\u001b[0m \u001b[0mnp\u001b[0m\u001b[0;34m.\u001b[0m\u001b[0mwhere\u001b[0m\u001b[0;34m(\u001b[0m\u001b[0mbinary_volume\u001b[0m\u001b[0;34m)\u001b[0m\u001b[0;34m\u001b[0m\u001b[0m\n\u001b[0m\u001b[1;32m     22\u001b[0m \u001b[0;34m\u001b[0m\u001b[0m\n\u001b[1;32m     23\u001b[0m     \u001b[0;32mif\u001b[0m \u001b[0mnum_samples\u001b[0m \u001b[0;32mis\u001b[0m \u001b[0;32mnot\u001b[0m \u001b[0mNone\u001b[0m\u001b[0;34m:\u001b[0m\u001b[0;34m\u001b[0m\u001b[0m\n",
      "\u001b[0;31mKeyboardInterrupt\u001b[0m: "
     ]
    }
   ],
   "source": [
    "# Transforming each volume (only relevant structure is activated) according to computed local transforms\n",
    "\n",
    "volume_m_aligned_to_f_allNames = {'MD589': {}, 'MD594': {}}\n",
    "\n",
    "for name_s in structures_sided:\n",
    "# for name_s in ['VLL_L']:\n",
    "        \n",
    "    print name_s\n",
    "\n",
    "    try:\n",
    "        tx_params, centroid_m, centroid_f, xdim_m, ydim_m, zdim_m, xdim_f, ydim_f, zdim_f = \\\n",
    "        DataManager.load_local_alignment_parameters(stack_moving=stack_moving,\n",
    "                                                    moving_volume_type='score',\n",
    "                                                    stack_fixed=stack_fixed,\n",
    "                                                    fixed_volume_type='score',\n",
    "                                                    train_sample_scheme=train_sample_scheme,\n",
    "                                                    global_transform_scheme=global_transform_scheme,\n",
    "                                                    local_transform_scheme=local_transform_scheme,\n",
    "                                                   label=name_s)\n",
    "\n",
    "    except Exception as e:\n",
    "        \n",
    "        sys.stderr.write(e.message + '\\n')\n",
    "        \n",
    "        tx_params = (1,0,0,0,0,1,0,0,0,0,1,0)\n",
    "        centroid_m = (0,0,0)\n",
    "        centroid_f = (0,0,0)\n",
    "        xdim_f, ydim_f, zdim_f = (vol_fixed_xdim, vol_fixed_ydim, vol_fixed_zdim)\n",
    "\n",
    "\n",
    "    for stack, volume_annotation in volumes_annotation.iteritems():\n",
    "        volume_m_aligned_to_f_allNames[stack][name_s] = \\\n",
    "        transform_volume(vol=volume_annotation==name_to_label_annotation[name_s], \n",
    "                           global_params=tx_params, \n",
    "                           centroid_m=centroid_m, \n",
    "                           centroid_f=centroid_f,\n",
    "                          xdim_f=xdim_f,\n",
    "                          ydim_f=ydim_f,\n",
    "                          zdim_f=zdim_f)"
   ]
  },
  {
   "cell_type": "code",
   "execution_count": null,
   "metadata": {
    "collapsed": false
   },
   "outputs": [],
   "source": [
    "bar = show_progress_bar(first_sec, last_sec)\n",
    "\n",
    "# for sec in range(first_sec, last_sec+1):\n",
    "for sec in range(140, 160):\n",
    "    \n",
    "    if metadata_cache['sections_to_filenames'][stack_fixed][sec] in ['Placeholder', 'Rescan', 'Nonexisting']:\n",
    "            continue\n",
    "\n",
    "    bar.value = sec\n",
    "\n",
    "    img_fn = DataManager.get_image_filepath(stack=stack_fixed, section=sec, resol='thumbnail', version='cropped_tif')\n",
    "    img = imread(img_fn)\n",
    "\n",
    "#         img_fn = DataManager.get_scoremap_viz_filepath(stack=stack_fixed, section=sec, label='7N', train_sample_scheme=train_sample_scheme)\n",
    "#         img = imread(img_fn)[::4, ::4]\n",
    "\n",
    "    viz = img.copy()\n",
    "\n",
    "    z = voxel_z_size * (sec - 1) - zmin_vol_f\n",
    "    \n",
    "    ##############################################\n",
    "    \n",
    "    for stack, x in volume_m_aligned_to_f_allNames.iteritems():\n",
    "        for name_s, volume_m_aligned_to_f in x.iteritems():\n",
    "        \n",
    "            contours_m_alignedTo_f_on_volume = find_contour_points(volume_m_aligned_to_f[..., int(z)])\n",
    "            contours_m_alignedTo_f_on_cropped = {i: [cnt + (xmin_vol_f, ymin_vol_f) for cnt in cnts] \n",
    "                                                 for i, cnts in contours_m_alignedTo_f_on_volume.iteritems()}\n",
    "\n",
    "        #     # Draw fixed volume annotation contours\n",
    "        #     for ind_f, cnts_f in contours_f_on_cropped.iteritems():\n",
    "        #         for cnt_f in cnts_f:\n",
    "        #             cv2.polylines(viz, [cnt_f.astype(np.int)], True, (0,255,0), 2)\n",
    "\n",
    "            # Draw moving volume annotation contours\n",
    "            for ind_m, cnts_m in contours_m_alignedTo_f_on_cropped.iteritems():\n",
    "                for cnt_m in cnts_m:\n",
    "                    cv2.polylines(viz, [cnt_m.astype(np.int)], True, stack_colors[stack], 2)\n",
    "                    \n",
    "                    # put label texts\n",
    "                    label_pos = cnt_m.mean(axis=0).astype(np.int)\n",
    "                    cv2.putText(viz, convert_name_to_unsided(name_s), tuple(label_pos), \n",
    "                                cv2.FONT_HERSHEY_DUPLEX, .5, ((0,0,0)), 1)\n",
    "\n",
    "    viz_fn = os.path.join(viz_dir, '%(stack_moving)s_over_%(stack_fixed)s_%(sec)04d.jpg' % \\\n",
    "          {'stack_moving': stack_moving, 'stack_fixed': stack_fixed, 'sec': sec})\n",
    "#     imsave(viz_fn, viz)\n",
    "\n",
    "#     plt.figure(figsize=(10, 10));\n",
    "#     plt.imshow(viz);\n",
    "#     plt.show();"
   ]
  },
  {
   "cell_type": "code",
   "execution_count": null,
   "metadata": {
    "collapsed": true
   },
   "outputs": [],
   "source": []
  }
 ],
 "metadata": {
  "kernelspec": {
   "display_name": "Python 2",
   "language": "python",
   "name": "python2"
  },
  "language_info": {
   "codemirror_mode": {
    "name": "ipython",
    "version": 2
   },
   "file_extension": ".py",
   "mimetype": "text/x-python",
   "name": "python",
   "nbconvert_exporter": "python",
   "pygments_lexer": "ipython2",
   "version": "2.7.3"
  }
 },
 "nbformat": 4,
 "nbformat_minor": 1
}
