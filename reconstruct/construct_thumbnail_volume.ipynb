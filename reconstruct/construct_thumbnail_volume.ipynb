{
 "cells": [
  {
   "cell_type": "code",
   "execution_count": 1,
   "metadata": {
    "collapsed": false
   },
   "outputs": [
    {
     "name": "stdout",
     "output_type": "stream",
     "text": [
      "Setting environment for Gordon\n"
     ]
    },
    {
     "name": "stderr",
     "output_type": "stream",
     "text": [
      "No vtk\n"
     ]
    }
   ],
   "source": [
    "%load_ext autoreload\n",
    "%autoreload 2\n",
    "\n",
    "import numpy as np\n",
    "\n",
    "import sys\n",
    "import os\n",
    "\n",
    "sys.path.append(os.environ['REPO_DIR'] + '/utilities')\n",
    "from utilities2015 import *\n",
    "from data_manager import *\n",
    "from metadata import *\n",
    "\n",
    "from conversion import images_to_volume\n",
    "\n",
    "import matplotlib.pyplot as plt\n",
    "%matplotlib inline\n",
    "\n",
    "import time"
   ]
  },
  {
   "cell_type": "code",
   "execution_count": 3,
   "metadata": {
    "collapsed": false
   },
   "outputs": [],
   "source": [
    "# for stack in ['MD589', 'MD594', 'MD585']:\n",
    "for stack in all_stacks:\n",
    "    if stack in ['MD589', 'MD594', 'MD585', 'MD592']:\n",
    "        continue\n",
    "\n",
    "    first_sec, last_sec = metadata_cache['section_limits'][stack]\n",
    "\n",
    "    bar = show_progress_bar(first_sec, last_sec)\n",
    "\n",
    "    images = {}\n",
    "    for sec in range(first_sec, last_sec):\n",
    "\n",
    "        bar.value = sec\n",
    "\n",
    "        try:\n",
    "            fn = DataManager.get_image_filepath(stack, section=sec, resol='thumbnail', version='cropped_tif')\n",
    "            img = img_as_ubyte(rgb2gray(imread(fn)))\n",
    "\n",
    "            # apply foreground mask\n",
    "            mask = DataManager.load_thumbnail_mask_v2(stack=stack, section=sec, version='aligned_cropped')\n",
    "            img[~mask] = 0\n",
    "\n",
    "            images[sec-1] = img\n",
    "        except:\n",
    "            pass\n",
    "\n",
    "    downsample = 32\n",
    "    voxel_z_size = section_thickness/(xy_pixel_distance_lossless * downsample)\n",
    "    volume, volume_bbox = images_to_volume(images=images, voxel_size=(1, 1, voxel_z_size), first_sec=first_sec-1, last_sec=last_sec-1)\n",
    "\n",
    "    output_dir = create_if_not_exists(os.path.join(VOLUME_ROOTDIR, stack))\n",
    "\n",
    "    bp.pack_ndarray_file(volume, os.path.join(output_dir, '%(stack)s_down%(downsample)dVolume.bp') % \\\n",
    "                         dict(stack=stack, downsample=downsample))\n",
    "\n",
    "    np.savetxt(os.path.join(output_dir, '%(stack)s_down%(downsample)dVolume_bbox.txt') % \\\n",
    "               dict(stack=stack, downsample=downsample),\n",
    "               np.array(volume_bbox, np.int)[None, :], fmt='%d')"
   ]
  },
  {
   "cell_type": "code",
   "execution_count": null,
   "metadata": {
    "collapsed": true
   },
   "outputs": [],
   "source": []
  }
 ],
 "metadata": {
  "kernelspec": {
   "display_name": "Python 2",
   "language": "python",
   "name": "python2"
  },
  "language_info": {
   "codemirror_mode": {
    "name": "ipython",
    "version": 2
   },
   "file_extension": ".py",
   "mimetype": "text/x-python",
   "name": "python",
   "nbconvert_exporter": "python",
   "pygments_lexer": "ipython2",
   "version": "2.7.3"
  },
  "widgets": {
   "state": {
    "22e5f3fb739d4aaf8bdf75c192cdcaab": {
     "views": [
      {
       "cell_index": 1
      }
     ]
    },
    "24bbc1718f16467ca7770ca4095e8e46": {
     "views": [
      {
       "cell_index": 1
      }
     ]
    },
    "29a066b9690a4cd6b1ddfd3e1fbe0f7d": {
     "views": [
      {
       "cell_index": 1
      }
     ]
    },
    "4118f86add894b649ff0d0e269c91979": {
     "views": [
      {
       "cell_index": 1
      }
     ]
    },
    "8f1303e85ad8497eaf389c3d00fd7ae5": {
     "views": [
      {
       "cell_index": 1
      }
     ]
    },
    "aa9cf4ca6bbe4b578de0f4c5b115bbe4": {
     "views": [
      {
       "cell_index": 1
      }
     ]
    },
    "b18fdb953ec44479a5480f51307cbe0f": {
     "views": [
      {
       "cell_index": 1
      }
     ]
    },
    "e57b4934444f4ac4a46ba1b14e8aca24": {
     "views": [
      {
       "cell_index": 1
      }
     ]
    }
   },
   "version": "1.2.0"
  }
 },
 "nbformat": 4,
 "nbformat_minor": 0
}
