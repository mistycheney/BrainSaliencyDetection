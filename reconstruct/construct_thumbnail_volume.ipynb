{
 "cells": [
  {
   "cell_type": "code",
   "execution_count": 1,
   "metadata": {
    "collapsed": false
   },
   "outputs": [
    {
     "name": "stdout",
     "output_type": "stream",
     "text": [
      "Setting environment for Gordon\n"
     ]
    },
    {
     "name": "stderr",
     "output_type": "stream",
     "text": [
      "No vtk\n"
     ]
    }
   ],
   "source": [
    "%load_ext autoreload\n",
    "%autoreload 2\n",
    "\n",
    "import numpy as np\n",
    "\n",
    "import sys\n",
    "import os\n",
    "\n",
    "sys.path.append(os.environ['REPO_DIR'] + '/utilities')\n",
    "from utilities2015 import *\n",
    "from data_manager import *\n",
    "from metadata import *\n",
    "\n",
    "from conversion import images_to_volume\n",
    "\n",
    "import matplotlib.pyplot as plt\n",
    "%matplotlib inline\n",
    "\n",
    "import time"
   ]
  },
  {
   "cell_type": "code",
   "execution_count": 2,
   "metadata": {
    "collapsed": false
   },
   "outputs": [
    {
     "name": "stderr",
     "output_type": "stream",
     "text": [
      "Widget Javascript not detected.  It may not be installed properly. Did you enable the widgetsnbextension? If not, then run \"jupyter nbextension enable --py --sys-prefix widgetsnbextension\"\n",
      "/oasis/projects/nsf/csd395/yuncong/brain_virtualenv/lib/python2.7/site-packages/skimage/util/dtype.py:110: UserWarning: Possible precision loss when converting from float64 to uint8\n",
      "  \"%s to %s\" % (dtypeobj_in, dtypeobj))\n",
      "/oasis/projects/nsf/csd395/yuncong/brain_virtualenv/lib/python2.7/site-packages/skimage/external/tifffile/tifffile.py:1794: RuntimeWarning: py_decodelzw encountered unexpected end of stream\n",
      "  strip = decompress(strip)\n"
     ]
    }
   ],
   "source": [
    "# for stack in ['MD589', 'MD594', 'MD585']:\n",
    "# for stack in all_stacks:\n",
    "#     if stack in ['MD589', 'MD594', 'MD585', 'MD592']:\n",
    "#         continue\n",
    "for stack in ['MD635']:\n",
    "\n",
    "    first_sec, last_sec = metadata_cache['section_limits'][stack]\n",
    "\n",
    "    bar = show_progress_bar(first_sec, last_sec)\n",
    "\n",
    "    images = {}\n",
    "    for sec in range(first_sec, last_sec):\n",
    "\n",
    "        bar.value = sec\n",
    "\n",
    "        try:\n",
    "            fn = DataManager.get_image_filepath(stack, section=sec, resol='thumbnail', version='cropped_tif')\n",
    "            img = img_as_ubyte(rgb2gray(imread(fn)))\n",
    "\n",
    "            # apply foreground mask\n",
    "            mask = DataManager.load_thumbnail_mask_v2(stack=stack, section=sec, version='aligned_cropped')\n",
    "            img[~mask] = 0\n",
    "\n",
    "            images[sec-1] = img\n",
    "        except:\n",
    "            pass\n",
    "\n",
    "    downsample = 32\n",
    "    voxel_z_size = section_thickness/(xy_pixel_distance_lossless * downsample)\n",
    "    volume, volume_bbox = images_to_volume(images=images, voxel_size=(1, 1, voxel_z_size), first_sec=first_sec-1, last_sec=last_sec-1)\n",
    "\n",
    "    output_dir = create_if_not_exists(os.path.join(VOLUME_ROOTDIR, stack))\n",
    "\n",
    "    bp.pack_ndarray_file(volume, os.path.join(output_dir, '%(stack)s_down%(downsample)dVolume.bp') % \\\n",
    "                         dict(stack=stack, downsample=downsample))\n",
    "\n",
    "    np.savetxt(os.path.join(output_dir, '%(stack)s_down%(downsample)dVolume_bbox.txt') % \\\n",
    "               dict(stack=stack, downsample=downsample),\n",
    "               np.array(volume_bbox, np.int)[None, :], fmt='%d')"
   ]
  },
  {
   "cell_type": "code",
   "execution_count": null,
   "metadata": {
    "collapsed": true
   },
   "outputs": [],
   "source": []
  }
 ],
 "metadata": {
  "kernelspec": {
   "display_name": "Python 2",
   "language": "python",
   "name": "python2"
  },
  "language_info": {
   "codemirror_mode": {
    "name": "ipython",
    "version": 2
   },
   "file_extension": ".py",
   "mimetype": "text/x-python",
   "name": "python",
   "nbconvert_exporter": "python",
   "pygments_lexer": "ipython2",
   "version": "2.7.3"
  },
  "widgets": {
   "state": {
    "d4e53ef4a95e4a47af8967c5114f780d": {
     "views": [
      {
       "cell_index": 1
      }
     ]
    }
   },
   "version": "1.2.0"
  }
 },
 "nbformat": 4,
 "nbformat_minor": 0
}
