{
 "cells": [
  {
   "cell_type": "code",
   "execution_count": 1,
   "metadata": {
    "collapsed": false
   },
   "outputs": [
    {
     "name": "stdout",
     "output_type": "stream",
     "text": [
      "Setting environment for Gordon\n"
     ]
    }
   ],
   "source": [
    "%load_ext autoreload\n",
    "%autoreload 2\n",
    "\n",
    "import numpy as np\n",
    "\n",
    "import sys\n",
    "import os\n",
    "\n",
    "sys.path.append(os.environ['REPO_DIR'] + '/utilities')\n",
    "from utilities2015 import *\n",
    "from registration_utilities import Aligner2, parallel_where\n",
    "\n",
    "import matplotlib.pyplot as plt\n",
    "%matplotlib inline\n",
    "\n",
    "from joblib import Parallel, delayed\n",
    "import time"
   ]
  },
  {
   "cell_type": "code",
   "execution_count": 2,
   "metadata": {
    "collapsed": true
   },
   "outputs": [],
   "source": [
    "available_label_indices = sorted(labels_sided_indices.values())"
   ]
  },
  {
   "cell_type": "code",
   "execution_count": 3,
   "metadata": {
    "collapsed": true
   },
   "outputs": [],
   "source": [
    "labelIndexMap_sidedToUnsided = {i: labels_unsided_indices[labelMap_sidedToUnsided[labels_sided[i-1]]] \n",
    "                                for i in available_label_indices}"
   ]
  },
  {
   "cell_type": "code",
   "execution_count": 4,
   "metadata": {
    "collapsed": false
   },
   "outputs": [
    {
     "name": "stdout",
     "output_type": "stream",
     "text": [
      "{1: 1, 2: 2, 3: 2, 4: 3, 5: 3, 6: 4, 7: 4, 8: 5, 9: 5, 10: 6, 11: 7, 12: 7, 13: 8, 14: 8, 15: 9, 16: 9, 17: 10, 18: 10, 19: 11, 20: 11, 21: 12, 22: 13, 23: 13, 24: 14, 25: 14, 26: 15, 27: 16}\n"
     ]
    }
   ],
   "source": [
    "labelIndexMap_m2f = {labels_sided_indices[name_s]: labels_unsided_indices[name_u] \n",
    "                        for name_s, name_u in labelMap_sidedToUnsided.iteritems() \\\n",
    "                        if name_s in [labels_sided[i-1] for i in available_label_indices]}\n",
    "print labelIndexMap_m2f"
   ]
  },
  {
   "cell_type": "code",
   "execution_count": 5,
   "metadata": {
    "collapsed": true
   },
   "outputs": [],
   "source": [
    "# atlas_volume = bp.unpack_ndarray_file(os.path.join(volume_dir, 'MD589/volume_MD589_annotation_withOuterContour.bp'))\n",
    "atlas_volume = bp.unpack_ndarray_file(volume_dir + '/atlasVolume_icp.bp')"
   ]
  },
  {
   "cell_type": "code",
   "execution_count": 6,
   "metadata": {
    "collapsed": false
   },
   "outputs": [],
   "source": [
    "all_indices_m = list(set(labelIndexMap_m2f.keys()) & set(np.unique(atlas_volume)))"
   ]
  },
  {
   "cell_type": "code",
   "execution_count": 7,
   "metadata": {
    "collapsed": false
   },
   "outputs": [],
   "source": [
    "all_indices_f = set([labelIndexMap_m2f[m] for m in all_indices_m])"
   ]
  },
  {
   "cell_type": "code",
   "execution_count": null,
   "metadata": {
    "collapsed": true
   },
   "outputs": [],
   "source": []
  },
  {
   "cell_type": "code",
   "execution_count": 9,
   "metadata": {
    "collapsed": true
   },
   "outputs": [],
   "source": [
    "from collections import defaultdict\n",
    "results = defaultdict(dict)"
   ]
  },
  {
   "cell_type": "code",
   "execution_count": 10,
   "metadata": {
    "collapsed": false,
    "scrolled": true
   },
   "outputs": [
    {
     "name": "stdout",
     "output_type": "stream",
     "text": [
      "1\n",
      "2\n",
      "3\n",
      "4\n",
      "5\n",
      "6\n",
      "7\n",
      "8\n",
      "9\n",
      "10\n",
      "11\n",
      "12\n",
      "13\n",
      "14\n",
      "15\n",
      "16\n"
     ]
    },
    {
     "name": "stderr",
     "output_type": "stream",
     "text": [
      "load gradient 1: 6.254262 seconds\n",
      "load gradient 2: 7.490490 seconds\n",
      "load gradient 3: 8.068458 seconds\n",
      "load gradient 4: 7.372368 seconds\n",
      "load gradient 5: 6.148550 seconds\n",
      "load gradient 6: 6.199468 seconds\n",
      "load gradient 7: 6.065736 seconds\n",
      "load gradient 8: 8.404813 seconds\n",
      "load gradient 9: 10.426805 seconds\n",
      "load gradient 10: 18.284049 seconds\n",
      "load gradient 11: 32.882385 seconds\n",
      "load gradient 12: 21.180019 seconds\n",
      "load gradient 13: 26.481314 seconds\n",
      "load gradient 14: 29.874030 seconds\n",
      "overall: 195.138937 seconds\n",
      "grid search: 72.143770 seconds\n",
      "grid search: 54.583759 seconds\n",
      "grid search: 42.090100 seconds\n",
      "Optimize: 622.272324 seconds\n",
      "Compute hessian: 48.158022 seconds\n",
      "Compute std: 18.393220 seconds\n"
     ]
    }
   ],
   "source": [
    "# for i, stack in enumerate(['MD589', 'MD594', 'MD585', 'MD590', 'MD593', 'MD592', 'MD591', 'MD595', 'MD598', 'MD602', 'MD603']):\n",
    "for i, stack in enumerate(['MD591']):\n",
    "    \n",
    "    subject_volume_allLabels = {}\n",
    "\n",
    "    for ind_f in set(labelIndexMap_sidedToUnsided.values()):\n",
    "        print ind_f\n",
    "\n",
    "        subject_volume_roi = bp.unpack_ndarray_file(os.path.join(volume_dir, '%(stack)s/%(stack)s_scoreVolume_%(label)s.bp' % \\\n",
    "                                                          {'stack': stack, 'label': labels_unsided[ind_f-1]})).astype(np.float16)\n",
    "        subject_volume_allLabels[ind_f] = subject_volume_roi\n",
    "        del subject_volume_roi\n",
    "        \n",
    "    gradient_filepath_map_f = {ind_f: volume_dir + '/%(stack)s/%(stack)s_scoreVolume_%(label)s_%%(suffix)s.bp' % \\\n",
    "                           {'stack': stack, 'label': labels_unsided[ind_f-1]}\n",
    "                           for ind_f in set(labelIndexMap_sidedToUnsided.values())}\n",
    "\n",
    "    nzvoxels_m = Parallel(n_jobs=16)(delayed(parallel_where)(atlas_volume, i, num_samples=int(1e5))\n",
    "                                     for i in all_indices_m)\n",
    "    nzvoxels_m = dict(zip(all_indices_m, nzvoxels_m))\n",
    "    \n",
    "    aligner = Aligner2(volume_f_=subject_volume_allLabels, volume_m_=atlas_volume, \n",
    "                  nzvoxels_m_=nzvoxels_m,\n",
    "                  labelIndexMap_m2f=labelIndexMap_m2f)\n",
    "\n",
    "    aligner.set_centroid(centroid_m='volume_centroid',\n",
    "                         centroid_f='volume_centroid')\n",
    "\n",
    "    # aligner.load_gradient(gradient_filepath_map_f=gradient_filepath_map_f)\n",
    "\n",
    "    # trial_combinations = [['7N_R', '7n_L'], ['7n_R', '7n_L'], ['12N', '7n_L', 'Pn_R']]\n",
    "    trial_combinations = [[labels_sided[i-1] for i in all_indices_m]]\n",
    "\n",
    "    aligner.load_gradient(gradient_filepath_map_f=gradient_filepath_map_f, \n",
    "                          indices_f=set([labels_unsided_indices[labelMap_sidedToUnsided[name_s]] \n",
    "                                         for name_s in set(chain(*trial_combinations))]))\n",
    "\n",
    "    for names_sided_considered in trial_combinations:\n",
    "\n",
    "    #     for _ in range(10):\n",
    "\n",
    "        indices_sided_considered = [labels_sided_indices[name_s] for name_s in names_sided_considered]\n",
    "    #     indices_unsided_considered = set([labels_unsided_indices[labelMap_sidedToUnsided[name_s]] \n",
    "    #                                       for name_s in names_sided_considered])\n",
    "\n",
    "        t = time.time()\n",
    "        T, scores = aligner.optimize(type='rigid', grid_search_iteration_number=3, grid_search_sample_number=5000,\n",
    "                                 max_iter_num=5000, history_len=200, terminate_thresh=1e-3,\n",
    "                                indices_m=indices_sided_considered)\n",
    "\n",
    "    #     T, scores = aligner.optimize(type='rigid', init_T=T0.flatten(),\n",
    "    #                              max_iter_num=5000, history_len=200, terminate_thresh=1e-3,\n",
    "    #                             indices_m=indices_sided_considered)\n",
    "        sys.stderr.write('Optimize: %f seconds\\n' % (time.time() - t))\n",
    "\n",
    "        score0 = aligner.compute_score(T.flatten())\n",
    "\n",
    "    #     trials.append((score0, T)) \n",
    "\n",
    "        # sampling in gradient computation does not bring much variance: \n",
    "        # mean = 0.754, std = 0.002, # mean 0.729692610098 std 0.00407366793653\n",
    "\n",
    "    #     H = None\n",
    "    #     nbr_std = None\n",
    "\n",
    "        t = time.time()\n",
    "        H = aligner.compute_hessian(T, step=np.r_[1e-1, 1e-1, 1e-1, 10,\n",
    "                                              1e-1, 1e-1, 1e-1, 10,\n",
    "                                              1e-1, 1e-1, 1e-1, 10])\n",
    "        sys.stderr.write('Compute hessian: %f seconds\\n' % (time.time() - t))\n",
    "\n",
    "        t = time.time()\n",
    "        # when n = 1000, std is very stable; when n = 100, variation is +/- 0.1\n",
    "        nbr_scores = aligner.compute_scores_neighborhood_random(T.flatten(), n=1000, stds=[0,0,0,10,0,0,0,10,0,0,0,10])\n",
    "        nbr_std = np.std(nbr_scores)\n",
    "        sys.stderr.write('Compute std: %f seconds\\n' % (time.time() - t))\n",
    "\n",
    "\n",
    "        _, invidual_scores = aligner.compute_score(T, return_individual_score=True)\n",
    "\n",
    "        overlap_scores = {labels_sided[ind_s-1]: sc * 1e6 / len(nzvoxels_m[ind_s]) for ind_s, sc in invidual_scores.iteritems()}\n",
    "    #     overlap_scores_sorted = sorted([(sc, name_s) for name_s, sc in overlap_scores.items()], reverse=True)\n",
    "\n",
    "        results[stack][frozenset(names_sided_considered)] = (T, scores, score0, H, nbr_std, overlap_scores)"
   ]
  },
  {
   "cell_type": "code",
   "execution_count": 51,
   "metadata": {
    "collapsed": true
   },
   "outputs": [],
   "source": [
    "# from registration_utilities import Aligner2, parallel_where"
   ]
  },
  {
   "cell_type": "code",
   "execution_count": 69,
   "metadata": {
    "collapsed": false,
    "scrolled": true
   },
   "outputs": [
    {
     "name": "stdout",
     "output_type": "stream",
     "text": [
      "MD602 \n",
      "[(0.49679763615131378, '5N_R'), (0.4375331848859787, '7N_R'), (0.3559565544128418, 'Pn_R'), (0.32744184136390686, 'Pn_L'), (0.25930583477020264, '7n_R'), (0.22632801905274391, 'LRt_R'), (0.20196752622723579, 'Tz_R'), (0.17780011519789696, '5N_L'), (0.15729334205389023, '7n_L'), (0.15499207191169262, 'VLL_R'), (0.14231458306312561, 'RtTg'), (0.13434555381536484, 'VLL_L'), (0.12434851912933104, 'Amb_R'), (0.097973514348268509, '7N_L'), (0.037442747240073314, 'Amb_L'), (0.035934117312055522, 'LC_R'), (0.014998300466686487, 'LRt_L'), (0.0077662518405903986, 'LC_L'), (0.0042626549839042127, '12N'), (0.0035876299840681405, 'AP'), (0.0022404888295568526, 'Tz_L'), (0.00084953716912095371, 'R_L'), (0.0006498168382193971, 'R_R'), (0.00018851821466782354, '6N_L'), (0.0, '6N_R')] \n",
      "\n",
      "MD603 \n",
      "[(0.42793277651071548, 'Pn_R'), (0.38246061652898788, 'RtTg'), (0.32789628952741623, 'Pn_L'), (0.31248394399881363, '7N_R'), (0.30993241816759109, '5N_R'), (0.29598390683531761, 'Tz_R'), (0.23133127018809319, '5N_L'), (0.22292347624897957, '7n_R'), (0.21035369485616684, '7n_L'), (0.17152063548564911, 'VLL_L'), (0.16320304945111275, 'VLL_R'), (0.086563052609562874, '7N_L'), (0.081240935251116753, 'LRt_R'), (0.042985883699041494, 'LC_R'), (0.018921408336609602, 'Tz_L'), (0.0076288633031471442, '6N_L'), (0.007348488512186226, 'R_L'), (0.0072264548299531958, '6N_R'), (0.0038724896023077941, 'AP'), (0.0032575387740507722, 'LRt_L'), (0.0028972431386063684, 'R_R'), (0.0020821124780923128, '12N'), (0.0019718481461796136, 'LC_L'), (0.0, 'Amb_R'), (0.0, 'Amb_L')] \n",
      "\n",
      "MD592 \n",
      "[(0.64953036606311798, '5N_R'), (0.61063777655363083, '7N_R'), (0.46506989747285843, 'RtTg'), (0.40094543248414993, 'Pn_R'), (0.35843156278133392, 'Tz_R'), (0.33900648355484009, '7n_R'), (0.31140880659222603, 'VLL_R'), (0.27929015457630157, 'LRt_R'), (0.20334092900156975, 'Pn_L'), (0.18518131226301193, '5N_L'), (0.16993030905723572, '7N_L'), (0.091647887602448463, '12N'), (0.088622234761714935, 'VLL_L'), (0.084813025464571007, 'LC_L'), (0.082599192407444233, 'Amb_L'), (0.073192852803251954, 'Amb_R'), (0.054307611709218398, 'LC_R'), (0.029199686524917966, 'R_L'), (0.027147969770005619, 'R_R'), (0.023130001500248909, '7n_L'), (0.015045971376821399, 'LRt_L'), (0.0042613243567757308, 'Tz_L'), (0.0011803566461128434, 'AP'), (0.00063581727547533547, '6N_L'), (0.0, '6N_R')] \n",
      "\n",
      "MD593 \n",
      "[(0.48570360988378525, '5N_R'), (0.46766173094511032, '7N_R'), (0.45443490147590637, 'Pn_R'), (0.43737083673477173, '5N_L'), (0.40705062448978424, 'Pn_L'), (0.39988974624997603, 'LC_R'), (0.36862440407276154, '7N_L'), (0.3397078812122345, '12N'), (0.33645190298557281, '7n_R'), (0.33621810376644135, 'RtTg'), (0.32847128808498383, 'LRt_R'), (0.3225310891866684, 'Tz_R'), (0.30755741974653722, 'AP'), (0.29623236631947841, 'Amb_R'), (0.28173395174528448, 'LC_L'), (0.26556216180324554, 'Tz_L'), (0.25651879608631134, '7n_L'), (0.2545425109565258, 'VLL_R'), (0.19934952259063721, 'LRt_L'), (0.1585560105741024, 'VLL_L'), (0.10409082792021752, 'Amb_L'), (0.025704608565914847, 'R_L'), (0.016653361037755623, 'R_R'), (0.0020445785839942865, '6N_R'), (0.0, '6N_L')] \n",
      "\n",
      "MD590 \n",
      "[(0.38701124489307404, 'Tz_L'), (0.38569293916225433, 'Pn_L'), (0.35776928067207336, '7N_L'), (0.35567734390497208, 'Pn_R'), (0.3229285404086113, 'RtTg'), (0.31147060915827751, 'Tz_R'), (0.28985889628529549, '7n_L'), (0.23888198658823967, '5N_L'), (0.21877111867070198, '5N_R'), (0.19667090848088264, '12N'), (0.17302811145782471, '7n_R'), (0.16361614845204153, 'LC_R'), (0.15632325563032243, 'Amb_L'), (0.15332565642893314, '7N_R'), (0.14917562715709209, 'VLL_L'), (0.14228439889848232, 'LRt_L'), (0.077006397768855095, 'VLL_R'), (0.074291734379091021, 'LC_L'), (0.051197052216295925, 'R_L'), (0.048969024792313576, 'LRt_R'), (0.044202428995787288, 'AP'), (0.00079652111201226959, 'R_R'), (4.9908650949377753e-06, 'Amb_R'), (0.0, '6N_R'), (0.0, '6N_L')] \n",
      "\n",
      "MD591 \n",
      "[(0.43603632599115372, 'Pn_L'), (0.41802495718002319, '5N_R'), (0.39773985743522644, 'Pn_R'), (0.39387188851833344, '5N_L'), (0.37475928664207458, '7N_R'), (0.36737766116857529, '7N_L'), (0.36090146750211716, 'RtTg'), (0.29476520812472662, 'LC_L'), (0.24122653529047966, 'Tz_R'), (0.22312039509415627, '12N'), (0.20575907936934648, 'Amb_R'), (0.19115515053272247, 'VLL_L'), (0.1883227750658989, 'VLL_R'), (0.18076078966259956, 'LRt_L'), (0.17767698958514697, 'Amb_L'), (0.17314210534095764, 'Tz_L'), (0.17033806343171118, 'LC_R'), (0.166582390666008, 'LRt_R'), (0.1062577310949564, '7n_R'), (0.1039773054486989, 'AP'), (0.046988041140139103, '7n_L'), (0.011621644502211228, '6N_R'), (0.0071202937430810791, 'R_L'), (0.0065494706392852809, 'R_R'), (0.0054203478130015782, '6N_L')] \n",
      "\n",
      "MD585 \n",
      "[(0.53903281688690186, 'Pn_L'), (0.45218463987112045, '5N_R'), (0.41267011314630508, 'Pn_R'), (0.38696205484621599, 'LC_R'), (0.3706374391913414, 'RtTg'), (0.36463454365730286, '7N_L'), (0.32089438289403915, '5N_L'), (0.31054046054903589, 'LC_L'), (0.29308261349797249, '7n_L'), (0.28332563117146492, '7N_R'), (0.27388637885451317, 'Tz_R'), (0.27357364073395729, 'VLL_L'), (0.19899995997548103, 'LRt_L'), (0.19740093129992406, 'Amb_L'), (0.18674902617931366, '12N'), (0.17193324863910675, '7n_R'), (0.1539272628724575, 'VLL_R'), (0.15222911722958088, 'LRt_R'), (0.11437042616307735, 'Tz_L'), (0.03592903563032461, 'R_L'), (0.01173772174765946, 'AP'), (0.0066192426649457538, '6N_R'), (0.00043486523099130008, 'Amb_R'), (0.00016534209685326688, 'R_R'), (3.1707194042886414e-05, '6N_L')] \n",
      "\n",
      "MD594 \n",
      "[(0.53360383957624435, '7N_R'), (0.46997077763080597, '5N_L'), (0.40327243506908417, 'Pn_R'), (0.38882655104951996, 'Amb_R'), (0.37656824207797679, 'AP'), (0.36137234419584274, 'Tz_R'), (0.3580828383564949, 'Pn_L'), (0.34102223813533783, '12N'), (0.34023866057395935, '5N_R'), (0.33301211893558502, 'Tz_L'), (0.31110674142837524, 'LRt_R'), (0.26660377887504505, 'LC_R'), (0.26643449266130437, 'LC_L'), (0.25042600929737091, '7n_R'), (0.23568160831928253, 'RtTg'), (0.22259041666984558, 'VLL_L'), (0.21766152232885361, 'VLL_R'), (0.19738174974918365, '7n_L'), (0.14987050772503235, '6N_L'), (0.13600820675492287, '7N_L'), (0.12964103383001591, '6N_R'), (0.11582726612687111, 'LRt_L'), (0.0162697717413239, 'R_R'), (0.0028606815460664819, 'R_L'), (0.0025488058036488761, 'Amb_L')] \n",
      "\n",
      "MD595 \n",
      "[(0.46433735638856888, 'Pn_R'), (0.45284934341907501, '7N_R'), (0.40349334478378296, '7N_L'), (0.33804729580879211, '5N_R'), (0.29821526259183884, 'LRt_L'), (0.28581254184246063, 'RtTg'), (0.28544124215841293, 'Tz_L'), (0.2826860174536705, 'Tz_R'), (0.27817179355324739, 'Amb_R'), (0.27624769136309624, 'LRt_R'), (0.26394393295049667, 'Pn_L'), (0.24295367300510406, '5N_L'), (0.2225036577909095, 'AP'), (0.21950254216790199, '12N'), (0.20389765501022339, '7n_R'), (0.19606662914156914, '7n_L'), (0.14760974794626236, 'VLL_R'), (0.11424023658037186, 'VLL_L'), (0.052711336987560309, 'Amb_L'), (0.0081204641092572534, 'LC_R'), (0.006162462034048001, '6N_R'), (0.0049162934601785988, 'R_R'), (0.0039690698591025118, '6N_L'), (0.0030570260688868398, 'LC_L'), (0.00068507992785883653, 'R_L')] \n",
      "\n",
      "MD589 \n",
      "[(0.62388025224208832, 'RtTg'), (0.56476414203643799, '7N_R'), (0.55681493133306503, 'Pn_R'), (0.54744143038988113, 'Pn_L'), (0.5286102369427681, '7N_L'), (0.50928369164466858, '5N_R'), (0.47437887638807297, '5N_L'), (0.47206615293911852, 'AP'), (0.45917008072137833, '12N'), (0.45228263799938861, 'Amb_R'), (0.40198049201750558, 'Amb_L'), (0.38662675768136978, 'Tz_R'), (0.34443289041519165, 'Tz_L'), (0.33049967139959335, '7n_L'), (0.32578969219347498, 'LC_L'), (0.31791601330041885, 'LRt_L'), (0.31738996505737305, '7n_R'), (0.30546054244041443, 'VLL_R'), (0.25530455633997917, 'LRt_R'), (0.24109778925776482, 'VLL_L'), (0.20618321810952542, 'R_L'), (0.18533465859528253, 'LC_R'), (0.13014175033287717, 'R_R'), (0.0019975770079410245, '6N_L'), (0.00080018369243721596, '6N_R')] \n",
      "\n",
      "MD598 \n",
      "[(0.42756468057632446, '5N_R'), (0.38003485649824142, '7N_R'), (0.3640325739979744, '7n_R'), (0.35178929567337036, 'Pn_R'), (0.28245715420029549, 'LC_R'), (0.25200411677360535, '7n_L'), (0.23758098483085632, 'RtTg'), (0.21210441624291204, 'Amb_R'), (0.17844783142209053, 'LRt_R'), (0.17302503809332848, 'VLL_R'), (0.15229247510433197, 'Pn_L'), (0.15212791971862316, '12N'), (0.14801574870944023, 'Tz_R'), (0.12612456455826759, '5N_L'), (0.12546158701966922, 'R_L'), (0.025403320323675871, '7N_L'), (0.019992564339190722, 'Tz_L'), (0.019402497956403333, 'R_R'), (0.017353801795895251, '6N_L'), (0.015874416204401939, 'LC_L'), (0.0080188527895497397, 'AP'), (0.0064104737248271704, 'LRt_L'), (0.0048328426782973111, 'VLL_L'), (0.0021291621476646943, 'Amb_L'), (0.0, '6N_R')] \n",
      "\n"
     ]
    }
   ],
   "source": [
    "z_compiled = defaultdict(dict)\n",
    "\n",
    "for stack, stack_data in results.iteritems():\n",
    "    for names_s, (T, scores, score0, H, nbr_std, overlap_scores) in stack_data.iteritems():\n",
    "        \n",
    "        overlap_scores_sorted = sorted([(sc, name_s) for name_s, sc in overlap_scores.items()], reverse=True)\n",
    "        print stack, '\\n', overlap_scores_sorted, '\\n'\n",
    "        \n",
    "        U, S, VT = np.linalg.svd(H[np.r_[3,7,11], np.r_[3,7,11][:,None]])\n",
    "        z_principle = 1./2. * 10**2 * -S / nbr_std        \n",
    "        z_compiled[stack][names_s] = np.r_[score0, z_principle]"
   ]
  }
 ],
 "metadata": {
  "kernelspec": {
   "display_name": "Python 2",
   "language": "python",
   "name": "python2"
  },
  "language_info": {
   "codemirror_mode": {
    "name": "ipython",
    "version": 2
   },
   "file_extension": ".py",
   "mimetype": "text/x-python",
   "name": "python",
   "nbconvert_exporter": "python",
   "pygments_lexer": "ipython2",
   "version": "2.7.3"
  }
 },
 "nbformat": 4,
 "nbformat_minor": 0
}
