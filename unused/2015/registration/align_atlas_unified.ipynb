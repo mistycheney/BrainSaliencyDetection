{
 "cells": [
  {
   "cell_type": "code",
   "execution_count": 4,
   "metadata": {
    "collapsed": false
   },
   "outputs": [
    {
     "name": "stdout",
     "output_type": "stream",
     "text": [
      "The autoreload extension is already loaded. To reload it, use:\n",
      "  %reload_ext autoreload\n"
     ]
    }
   ],
   "source": [
    "%load_ext autoreload\n",
    "%autoreload 2\n",
    "\n",
    "import numpy as np\n",
    "\n",
    "import sys\n",
    "import os\n",
    "\n",
    "sys.path.append(os.environ['REPO_DIR'] + '/utilities')\n",
    "from utilities2015 import *\n",
    "from registration_utilities import parallel_where, Aligner4\n",
    "\n",
    "import matplotlib.pyplot as plt\n",
    "%matplotlib inline\n",
    "\n",
    "from joblib import Parallel, delayed\n",
    "import time"
   ]
  },
  {
   "cell_type": "code",
   "execution_count": 2,
   "metadata": {
    "collapsed": true
   },
   "outputs": [],
   "source": [
    "available_label_indices = sorted(labels_sided_indices.values())"
   ]
  },
  {
   "cell_type": "code",
   "execution_count": null,
   "metadata": {
    "collapsed": true
   },
   "outputs": [],
   "source": [
    "# available_label_indices = [i for i in np.unique(atlas_volume) if i > 0]"
   ]
  },
  {
   "cell_type": "code",
   "execution_count": 3,
   "metadata": {
    "collapsed": true
   },
   "outputs": [],
   "source": [
    "labelIndexMap_sidedToUnsided = {i: labels_unsided_indices[labelMap_sidedToUnsided[labels_sided[i-1]]] \n",
    "                                for i in available_label_indices}"
   ]
  },
  {
   "cell_type": "code",
   "execution_count": 4,
   "metadata": {
    "collapsed": false
   },
   "outputs": [
    {
     "name": "stdout",
     "output_type": "stream",
     "text": [
      "{1: 1, 2: 2, 3: 2, 4: 3, 5: 3, 6: 4, 7: 4, 8: 5, 9: 5, 10: 6, 11: 7, 12: 7, 13: 8, 14: 8, 15: 9, 16: 9, 17: 10, 18: 10, 19: 11, 20: 11, 21: 12, 22: 13, 23: 13, 24: 14, 25: 14, 26: 15, 27: 16}\n"
     ]
    }
   ],
   "source": [
    "labelIndexMap_m2f = {labels_sided_indices[name_s]: labels_unsided_indices[name_u] \n",
    "                        for name_s, name_u in labelMap_sidedToUnsided.iteritems() \\\n",
    "                        if name_s in [labels_sided[i-1] for i in available_label_indices]}\n",
    "print labelIndexMap_m2f"
   ]
  },
  {
   "cell_type": "code",
   "execution_count": 5,
   "metadata": {
    "collapsed": true
   },
   "outputs": [],
   "source": [
    "stack = 'MD589'"
   ]
  },
  {
   "cell_type": "code",
   "execution_count": 6,
   "metadata": {
    "collapsed": false
   },
   "outputs": [
    {
     "name": "stdout",
     "output_type": "stream",
     "text": [
      "1\n",
      "2\n",
      "3\n",
      "4\n",
      "5\n",
      "6\n",
      "7\n",
      "8\n",
      "9\n",
      "10\n",
      "11\n",
      "12\n",
      "13\n",
      "14\n",
      "15\n",
      "16\n"
     ]
    }
   ],
   "source": [
    "subject_volume_allLabels = {}\n",
    "\n",
    "for ind_f in set(labelIndexMap_sidedToUnsided.values()):\n",
    "    print ind_f\n",
    "\n",
    "    subject_volume_roi = bp.unpack_ndarray_file(os.path.join(volume_dir, '%(stack)s/%(stack)s_scoreVolume_%(label)s.bp' % \\\n",
    "                                                      {'stack': stack, 'label': labels_unsided[ind_f-1]})).astype(np.float16)\n",
    "    subject_volume_allLabels[ind_f] = subject_volume_roi\n",
    "    del subject_volume_roi"
   ]
  },
  {
   "cell_type": "code",
   "execution_count": 7,
   "metadata": {
    "collapsed": false
   },
   "outputs": [],
   "source": [
    "gradient_filepath_map_f = {ind_f: volume_dir + '/%(stack)s/%(stack)s_scoreVolume_%(label)s_%%(suffix)s.bp' % \\\n",
    "                           {'stack': stack, 'label': labels_unsided[ind_f-1]}\n",
    "                           for ind_f in set(labelIndexMap_sidedToUnsided.values())}"
   ]
  },
  {
   "cell_type": "code",
   "execution_count": null,
   "metadata": {
    "collapsed": false
   },
   "outputs": [],
   "source": []
  },
  {
   "cell_type": "code",
   "execution_count": null,
   "metadata": {
    "collapsed": false,
    "scrolled": true
   },
   "outputs": [],
   "source": [
    "# T, scores = align(volume_f=subject_volume_allLabels, \n",
    "#                   volume_m=atlas_volume, \n",
    "#                   type='rigid',\n",
    "# #                   centroid_m='structure_centroid',\n",
    "#                   centroid_m='volume_centroid',\n",
    "# #                   centroid_f='centroid_m',\n",
    "#                   centroid_f='volume_centroid',\n",
    "#                   labelIndexMap_m2f=labelIndexMap_m2f,\n",
    "#                   gradient_filepath_map_f=gradient_filepath_map_f,\n",
    "#                   grid_search_iteration_number=3, max_iter_num=100, history_len=200, terminate_thresh=.1)"
   ]
  },
  {
   "cell_type": "code",
   "execution_count": null,
   "metadata": {
    "collapsed": false
   },
   "outputs": [],
   "source": []
  },
  {
   "cell_type": "code",
   "execution_count": null,
   "metadata": {
    "collapsed": true
   },
   "outputs": [],
   "source": [
    "# individual\n",
    "\n",
    "atlas_volume = bp.unpack_ndarray_file(os.path.join(volume_dir, '%(stack)s/%(stack)s_atlasProjectedVolume.bp' % {'stack': stack}))"
   ]
  },
  {
   "cell_type": "code",
   "execution_count": null,
   "metadata": {
    "collapsed": true
   },
   "outputs": [],
   "source": [
    "all_indices_m = list(set(labelIndexMap_m2f.keys()) & set(np.unique(atlas_volume)))"
   ]
  },
  {
   "cell_type": "code",
   "execution_count": null,
   "metadata": {
    "collapsed": true
   },
   "outputs": [],
   "source": [
    "nzvoxels_m = Parallel(n_jobs=16)(delayed(parallel_where)(atlas_volume, i, num_samples=int(1e5))\n",
    "                                 for i in all_indices_m)\n",
    "nzvoxels_m = dict(zip(all_indices_m, nzvoxels_m))"
   ]
  },
  {
   "cell_type": "code",
   "execution_count": null,
   "metadata": {
    "collapsed": true
   },
   "outputs": [],
   "source": [
    "aligner = Aligner(volume_f=subject_volume_allLabels, volume_m=atlas_volume, \n",
    "                  nzvoxels_m=nzvoxels_m,\n",
    "                  labelIndexMap_m2f=labelIndexMap_m2f)"
   ]
  },
  {
   "cell_type": "code",
   "execution_count": null,
   "metadata": {
    "collapsed": true
   },
   "outputs": [],
   "source": [
    "aligner.set_centroid(centroid_m='structure_centroid',\n",
    "                     centroid_f='centroid_m',\n",
    "                    indices_m=[labels_sided_indices['12N']])"
   ]
  },
  {
   "cell_type": "code",
   "execution_count": null,
   "metadata": {
    "collapsed": false
   },
   "outputs": [],
   "source": [
    "aligner.load_gradient(gradient_filepath_map_f=gradient_filepath_map_f, indices_f=[labels_unsided_indices['12N']])"
   ]
  },
  {
   "cell_type": "code",
   "execution_count": null,
   "metadata": {
    "collapsed": false,
    "scrolled": true
   },
   "outputs": [],
   "source": [
    "# T, scores = aligner.optimize(type='rigid', init_T=T0, max_iter_num=100, history_len=200, terminate_thresh=.1)\n",
    "# T, scores = aligner.optimize(type='rigid', grid_search_iteration_number=3, max_iter_num=100, history_len=200, terminate_thresh=.1)\n",
    "T, scores = aligner.optimize(type='rigid', max_iter_num=100, history_len=500, terminate_thresh=1e-4,\n",
    "                             indices_m=[labels_sided_indices['12N']])"
   ]
  },
  {
   "cell_type": "code",
   "execution_count": null,
   "metadata": {
    "collapsed": false
   },
   "outputs": [],
   "source": [
    "print T.reshape((3,4))\n",
    "plt.plot(scores);"
   ]
  },
  {
   "cell_type": "code",
   "execution_count": null,
   "metadata": {
    "collapsed": false
   },
   "outputs": [],
   "source": [
    "aligner.compute_score(T.flatten(), indices_m=[labels_sided_indices['7n_L']])"
   ]
  },
  {
   "cell_type": "code",
   "execution_count": null,
   "metadata": {
    "collapsed": false,
    "scrolled": false
   },
   "outputs": [],
   "source": [
    "aligner.compute_score(T.flatten(), indices_m=all_indices_m)"
   ]
  },
  {
   "cell_type": "code",
   "execution_count": null,
   "metadata": {
    "collapsed": true
   },
   "outputs": [],
   "source": [
    "aligner.compute_hessian()"
   ]
  },
  {
   "cell_type": "code",
   "execution_count": null,
   "metadata": {
    "collapsed": true
   },
   "outputs": [],
   "source": [
    "del aligner"
   ]
  },
  {
   "cell_type": "code",
   "execution_count": null,
   "metadata": {
    "collapsed": true
   },
   "outputs": [],
   "source": []
  },
  {
   "cell_type": "code",
   "execution_count": null,
   "metadata": {
    "collapsed": true
   },
   "outputs": [],
   "source": [
    "from collections import defaultdict"
   ]
  },
  {
   "cell_type": "code",
   "execution_count": null,
   "metadata": {
    "collapsed": false
   },
   "outputs": [],
   "source": [
    "results = defaultdict(dict)"
   ]
  },
  {
   "cell_type": "code",
   "execution_count": null,
   "metadata": {
    "collapsed": true
   },
   "outputs": [],
   "source": [
    "# global "
   ]
  },
  {
   "cell_type": "code",
   "execution_count": 8,
   "metadata": {
    "collapsed": true
   },
   "outputs": [],
   "source": [
    "# atlas_volume = bp.unpack_ndarray_file(os.path.join(volume_dir, 'MD589/volume_MD589_annotation_withOuterContour.bp'))\n",
    "atlas_volume = bp.unpack_ndarray_file(volume_dir + '/atlasVolume_icp.bp')"
   ]
  },
  {
   "cell_type": "code",
   "execution_count": 9,
   "metadata": {
    "collapsed": true
   },
   "outputs": [],
   "source": [
    "all_indices_m = list(set(labelIndexMap_m2f.keys()) & set(np.unique(atlas_volume)))"
   ]
  },
  {
   "cell_type": "code",
   "execution_count": 10,
   "metadata": {
    "collapsed": false
   },
   "outputs": [],
   "source": [
    "nzvoxels_m = Parallel(n_jobs=16)(delayed(parallel_where)(atlas_volume, i, num_samples=int(1e5))\n",
    "                                 for i in all_indices_m)\n",
    "nzvoxels_m = dict(zip(all_indices_m, nzvoxels_m))"
   ]
  },
  {
   "cell_type": "code",
   "execution_count": 11,
   "metadata": {
    "collapsed": false
   },
   "outputs": [],
   "source": [
    "aligner = Aligner2(volume_f_=subject_volume_allLabels, volume_m_=atlas_volume, \n",
    "                  nzvoxels_m_=nzvoxels_m,\n",
    "                  labelIndexMap_m2f=labelIndexMap_m2f)"
   ]
  },
  {
   "cell_type": "code",
   "execution_count": null,
   "metadata": {
    "collapsed": true
   },
   "outputs": [],
   "source": [
    "# aligner = Aligner(volume_f=subject_volume_allLabels, volume_m=atlas_volume, \n",
    "#                   nzvoxels_m=nzvoxels_m,\n",
    "#                   labelIndexMap_m2f=labelIndexMap_m2f)"
   ]
  },
  {
   "cell_type": "code",
   "execution_count": 12,
   "metadata": {
    "collapsed": true
   },
   "outputs": [],
   "source": [
    "aligner.set_centroid(centroid_m='volume_centroid',\n",
    "                     centroid_f='volume_centroid')"
   ]
  },
  {
   "cell_type": "code",
   "execution_count": 13,
   "metadata": {
    "collapsed": true
   },
   "outputs": [],
   "source": [
    "names_sided_considered = ['7N_R', '7n_L']\n",
    "indices_sided_considered = [labels_sided_indices[name_s] for name_s in names_sided_considered]\n",
    "indices_unsided_considered = set([labels_unsided_indices[labelMap_sidedToUnsided[name_s]] \n",
    "                                  for name_s in names_sided_considered])"
   ]
  },
  {
   "cell_type": "code",
   "execution_count": 14,
   "metadata": {
    "collapsed": false
   },
   "outputs": [
    {
     "name": "stderr",
     "output_type": "stream",
     "text": [
      "load gradient 4: 5.469819 seconds\n",
      "load gradient 5: 5.006631 seconds\n",
      "overall: 10.477239 seconds\n"
     ]
    }
   ],
   "source": [
    "aligner.load_gradient(gradient_filepath_map_f=gradient_filepath_map_f, indices_f=indices_unsided_considered)"
   ]
  },
  {
   "cell_type": "code",
   "execution_count": 15,
   "metadata": {
    "collapsed": false,
    "scrolled": true
   },
   "outputs": [
    {
     "name": "stderr",
     "output_type": "stream",
     "text": [
      "grid search: 1.685704 seconds\n",
      "grid search: 1.299966 seconds\n",
      "grid search: 1.019692 seconds\n"
     ]
    }
   ],
   "source": [
    "T, scores = aligner.optimize(type='rigid', grid_search_iteration_number=3,\n",
    "                             max_iter_num=5000, history_len=200, terminate_thresh=1e-3,\n",
    "                            indices_m=indices_sided_considered)"
   ]
  },
  {
   "cell_type": "code",
   "execution_count": 25,
   "metadata": {
    "collapsed": false
   },
   "outputs": [],
   "source": [
    "from itertools import combinations"
   ]
  },
  {
   "cell_type": "code",
   "execution_count": 34,
   "metadata": {
    "collapsed": false
   },
   "outputs": [
    {
     "name": "stdout",
     "output_type": "stream",
     "text": [
      "2300\n"
     ]
    }
   ],
   "source": [
    "trial_combinations = map(frozenset, list(combinations([name_s for name_s in labels_sided if name_s != 'sp5' and name_s != 'outerContour'], 3)))\n",
    "print len(trial_combinations)"
   ]
  },
  {
   "cell_type": "code",
   "execution_count": 16,
   "metadata": {
    "collapsed": false
   },
   "outputs": [
    {
     "name": "stdout",
     "output_type": "stream",
     "text": [
      "[[  9.96139858e-01   8.74488651e-02  -7.62100901e-03  -8.67785961e+01]\n",
      " [ -8.77782593e-02   9.92949512e-01  -7.96633113e-02   3.74900907e+01]\n",
      " [  6.00811017e-04   8.00247585e-02   9.96792695e-01  -1.48087120e+00]]\n"
     ]
    },
    {
     "data": {
      "image/png": "[encoded data removed]",
      "text/plain": [
       "<matplotlib.figure.Figure at 0x54a2bd0>"
      ]
     },
     "metadata": {},
     "output_type": "display_data"
    }
   ],
   "source": [
    "print T.reshape((3,4))\n",
    "plt.plot(scores);"
   ]
  },
  {
   "cell_type": "code",
   "execution_count": 17,
   "metadata": {
    "collapsed": false
   },
   "outputs": [
    {
     "data": {
      "text/plain": [
       "0.75514953464517021"
      ]
     },
     "execution_count": 17,
     "metadata": {},
     "output_type": "execute_result"
    }
   ],
   "source": [
    "aligner.compute_score(T.flatten())"
   ]
  },
  {
   "cell_type": "code",
   "execution_count": null,
   "metadata": {
    "collapsed": false,
    "scrolled": true
   },
   "outputs": [],
   "source": [
    "aligner.compute_score(T.flatten(), indices_m=[labels_sided_indices['7N_L']])"
   ]
  },
  {
   "cell_type": "code",
   "execution_count": 18,
   "metadata": {
    "collapsed": false
   },
   "outputs": [
    {
     "name": "stderr",
     "output_type": "stream",
     "text": [
      "Compute hessian: 47.843505 seconds\n"
     ]
    }
   ],
   "source": [
    "t = time.time()\n",
    "H = aligner.compute_hessian(T, step=np.r_[1e-1, 1e-1, 1e-1, 10,\n",
    "                                      1e-1, 1e-1, 1e-1, 10,\n",
    "                                      1e-1, 1e-1, 1e-1, 10])\n",
    "sys.stderr.write('Compute hessian: %f seconds\\n' % (time.time() - t))\n",
    "\n",
    "# when n = 1000, std is very stable; when n = 100, variation is +/- 0.1\n",
    "nbr_scores = aligner.compute_scores_neighborhood_random(T.flatten(), n=1000, stds=[0,0,0,10,0,0,0,10,0,0,0,10])\n",
    "nbr_std = np.std(nbr_scores)"
   ]
  },
  {
   "cell_type": "code",
   "execution_count": 21,
   "metadata": {
    "collapsed": false
   },
   "outputs": [
    {
     "ename": "NameError",
     "evalue": "name 'results' is not defined",
     "output_type": "error",
     "traceback": [
      "\u001b[1;31m---------------------------------------------------------------------------\u001b[0m",
      "\u001b[1;31mNameError\u001b[0m                                 Traceback (most recent call last)",
      "\u001b[1;32m<ipython-input-21-9ba7fa34921f>\u001b[0m in \u001b[0;36m<module>\u001b[1;34m()\u001b[0m\n\u001b[1;32m----> 1\u001b[1;33m \u001b[0mresults\u001b[0m\u001b[1;33m[\u001b[0m\u001b[0mstack\u001b[0m\u001b[1;33m]\u001b[0m\u001b[1;33m[\u001b[0m\u001b[0mfrozenset\u001b[0m\u001b[1;33m(\u001b[0m\u001b[0mnames_sided_considered\u001b[0m\u001b[1;33m)\u001b[0m\u001b[1;33m]\u001b[0m \u001b[1;33m=\u001b[0m \u001b[1;33m(\u001b[0m\u001b[0mT\u001b[0m\u001b[1;33m,\u001b[0m \u001b[0mscores\u001b[0m\u001b[1;33m,\u001b[0m \u001b[0mH\u001b[0m\u001b[1;33m,\u001b[0m \u001b[0mnbr_std\u001b[0m\u001b[1;33m)\u001b[0m\u001b[1;33m\u001b[0m\u001b[0m\n\u001b[0m",
      "\u001b[1;31mNameError\u001b[0m: name 'results' is not defined"
     ]
    }
   ],
   "source": [
    "results[stack][frozenset(names_sided_considered)] = (T, scores, H, nbr_std)"
   ]
  },
  {
   "cell_type": "code",
   "execution_count": null,
   "metadata": {
    "collapsed": false
   },
   "outputs": [],
   "source": [
    "U, S, VT = np.linalg.svd(H[np.r_[3,7,11], np.r_[3,7,11][:,None]])\n",
    "z_principle = 1./2. * 10**2 * -S / nbr_std\n",
    "print z_principle"
   ]
  },
  {
   "cell_type": "code",
   "execution_count": null,
   "metadata": {
    "collapsed": true
   },
   "outputs": [],
   "source": [
    "results.default_factory = None"
   ]
  }
 ],
 "metadata": {
  "kernelspec": {
   "display_name": "Python 2",
   "language": "python",
   "name": "python2"
  },
  "language_info": {
   "codemirror_mode": {
    "name": "ipython",
    "version": 2
   },
   "file_extension": ".py",
   "mimetype": "text/x-python",
   "name": "python",
   "nbconvert_exporter": "python",
   "pygments_lexer": "ipython2",
   "version": "2.7.3"
  }
 },
 "nbformat": 4,
 "nbformat_minor": 0
}
