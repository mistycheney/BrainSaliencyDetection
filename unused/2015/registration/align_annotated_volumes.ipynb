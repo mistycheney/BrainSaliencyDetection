{
 "cells": [
  {
   "cell_type": "code",
   "execution_count": 1,
   "metadata": {
    "collapsed": false
   },
   "outputs": [
    {
     "name": "stdout",
     "output_type": "stream",
     "text": [
      "Setting environment for Gordon\n"
     ]
    }
   ],
   "source": [
    "%load_ext autoreload\n",
    "%autoreload 2\n",
    "\n",
    "import numpy as np\n",
    "\n",
    "import sys\n",
    "import os\n",
    "\n",
    "sys.path.append(os.environ['REPO_DIR'] + '/utilities')\n",
    "from utilities2015 import *\n",
    "# from registration_utilities import Aligner3, parallel_where\n",
    "from registration_utilities import *\n",
    "from metadata import *\n",
    "\n",
    "import matplotlib.pyplot as plt\n",
    "%matplotlib inline\n",
    "\n",
    "from joblib import Parallel, delayed\n",
    "import time"
   ]
  },
  {
   "cell_type": "code",
   "execution_count": 13,
   "metadata": {
    "collapsed": false
   },
   "outputs": [],
   "source": [
    "volume1 = bp.unpack_ndarray_file(os.path.join(volume_dir, 'MD589/MD589_annotationVolume.bp'))[::2, ::2, ::2]\n",
    "volume2 = bp.unpack_ndarray_file(os.path.join(volume_dir, 'MD585/MD585_annotationVolume.bp'))[::2, ::2, ::2]"
   ]
  },
  {
   "cell_type": "code",
   "execution_count": 14,
   "metadata": {
    "collapsed": false
   },
   "outputs": [
    {
     "name": "stdout",
     "output_type": "stream",
     "text": [
      "405 203 267\n"
     ]
    }
   ],
   "source": [
    "vol1_ydim, vol1_xdim, vol1_zdim = volume1.shape\n",
    "print vol1_xdim, vol1_ydim, vol1_zdim"
   ]
  },
  {
   "cell_type": "code",
   "execution_count": 15,
   "metadata": {
    "collapsed": false
   },
   "outputs": [
    {
     "name": "stdout",
     "output_type": "stream",
     "text": [
      "410 240 218\n"
     ]
    }
   ],
   "source": [
    "vol2_ydim, vol2_xdim, vol2_zdim = volume2.shape\n",
    "print vol2_xdim, vol2_ydim, vol2_zdim"
   ]
  },
  {
   "cell_type": "code",
   "execution_count": 16,
   "metadata": {
    "collapsed": false
   },
   "outputs": [],
   "source": [
    "aligner = Aligner3(volume1, volume2, labelIndexMap_m2f={i:i for i in set(np.unique(volume2)) - {0}})"
   ]
  },
  {
   "cell_type": "code",
   "execution_count": 17,
   "metadata": {
    "collapsed": true
   },
   "outputs": [],
   "source": [
    "aligner.set_centroid(centroid_m='volume_centroid', centroid_f='volume_centroid')"
   ]
  },
  {
   "cell_type": "code",
   "execution_count": 18,
   "metadata": {
    "collapsed": false
   },
   "outputs": [
    {
     "name": "stderr",
     "output_type": "stream",
     "text": [
      "load gradient 1: 1.595867 seconds\n",
      "load gradient 2: 1.858652 seconds\n",
      "load gradient 3: 0.992560 seconds\n",
      "load gradient 4: 1.018786 seconds\n",
      "load gradient 5: 1.548241 seconds\n",
      "load gradient 6: 4.252622 seconds\n",
      "load gradient 7: 4.256178 seconds\n",
      "load gradient 8: 7.867036 seconds\n",
      "load gradient 9: 10.745667 seconds\n",
      "load gradient 10: 9.930897 seconds\n",
      "load gradient 11: 12.142601 seconds\n",
      "load gradient 12: 7.433263 seconds\n",
      "load gradient 13: 7.692595 seconds\n",
      "load gradient 14: 8.699744 seconds\n",
      "load gradient 15: 8.802439 seconds\n",
      "load gradient 16: 9.810446 seconds\n",
      "load gradient 17: 7.266687 seconds\n",
      "load gradient 18: 8.867838 seconds\n",
      "load gradient 19: 8.855254 seconds\n",
      "load gradient 20: 7.753762 seconds\n",
      "load gradient 21: 7.566433 seconds\n",
      "load gradient 22: 8.743627 seconds\n",
      "load gradient 23: 7.808135 seconds\n",
      "load gradient 24: 7.014604 seconds\n",
      "load gradient 25: 8.729215 seconds\n",
      "load gradient 26: 7.689930 seconds\n",
      "overall: 178.954771 seconds\n"
     ]
    }
   ],
   "source": [
    "aligner.load_gradient()"
   ]
  },
  {
   "cell_type": "code",
   "execution_count": 8,
   "metadata": {
    "collapsed": false
   },
   "outputs": [
    {
     "name": "stderr",
     "output_type": "stream",
     "text": [
      "grid search: 2.600455 seconds\n",
      "grid search: 1.955210 seconds\n",
      "grid search: 1.568913 seconds\n"
     ]
    }
   ],
   "source": [
    "T, scores = aligner.optimize(type='rigid', grid_search_iteration_number=3, grid_search_sample_number=5000,\n",
    "                             max_iter_num=5000, history_len=200, terminate_thresh=1e-3)"
   ]
  },
  {
   "cell_type": "code",
   "execution_count": 11,
   "metadata": {
    "collapsed": false
   },
   "outputs": [
    {
     "data": {
      "image/png": "[encoded data removed]",
      "text/plain": [
       "<matplotlib.figure.Figure at 0x347f090>"
      ]
     },
     "metadata": {},
     "output_type": "display_data"
    }
   ],
   "source": [
    "plt.plot(scores);"
   ]
  }
 ],
 "metadata": {
  "kernelspec": {
   "display_name": "Python 2",
   "language": "python",
   "name": "python2"
  },
  "language_info": {
   "codemirror_mode": {
    "name": "ipython",
    "version": 2
   },
   "file_extension": ".py",
   "mimetype": "text/x-python",
   "name": "python",
   "nbconvert_exporter": "python",
   "pygments_lexer": "ipython2",
   "version": "2.7.3"
  }
 },
 "nbformat": 4,
 "nbformat_minor": 0
}
