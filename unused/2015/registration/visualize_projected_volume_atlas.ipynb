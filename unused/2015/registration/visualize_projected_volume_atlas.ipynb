{
 "cells": [
  {
   "cell_type": "code",
   "execution_count": 1,
   "metadata": {
    "collapsed": false
   },
   "outputs": [],
   "source": [
    "%load_ext autoreload\n",
    "%autoreload 2"
   ]
  },
  {
   "cell_type": "code",
   "execution_count": 2,
   "metadata": {
    "collapsed": true
   },
   "outputs": [],
   "source": [
    "import numpy as np\n",
    "\n",
    "import sys\n",
    "import os\n",
    "\n",
    "sys.path.append(os.environ['REPO_DIR'] + '/utilities')\n",
    "from utilities2015 import *\n",
    "from registration_utilities import *\n",
    "\n",
    "import matplotlib.pyplot as plt\n",
    "%matplotlib inline\n",
    "\n",
    "from joblib import Parallel, delayed\n",
    "import time\n",
    "\n",
    "import logging"
   ]
  },
  {
   "cell_type": "code",
   "execution_count": 3,
   "metadata": {
    "collapsed": true
   },
   "outputs": [],
   "source": [
    "volume_dir = '/oasis/projects/nsf/csd395/yuncong/CSHL_volumes/'\n",
    "atlasAlignParams_dir = create_if_not_exists('/oasis/projects/nsf/csd395/yuncong/CSHL_atlasAlignParams_atlas')"
   ]
  },
  {
   "cell_type": "code",
   "execution_count": 4,
   "metadata": {
    "collapsed": false
   },
   "outputs": [],
   "source": [
    "volume_landmark_names_unsided = ['12N', '5N', '6N', '7N', '7n', 'AP', 'Amb', 'LC',\n",
    "                                 'LRt', 'Pn', 'R', 'RtTg', 'Tz', 'VLL', 'sp5']\n",
    "linear_landmark_names_unsided = ['outerContour']\n",
    "\n",
    "labels_unsided = volume_landmark_names_unsided + linear_landmark_names_unsided\n",
    "labels_unsided_indices = dict((j, i+1) for i, j in enumerate(labels_unsided))  # BackG always 0\n",
    "\n",
    "labelMap_unsidedToSided = {'12N': ['12N'],\n",
    "                            '5N': ['5N_L', '5N_R'],\n",
    "                            '6N': ['6N_L', '6N_R'],\n",
    "                            '7N': ['7N_L', '7N_R'],\n",
    "                            '7n': ['7n_L', '7n_R'],\n",
    "                            'AP': ['AP'],\n",
    "                            'Amb': ['Amb_L', 'Amb_R'],\n",
    "                            'LC': ['LC_L', 'LC_R'],\n",
    "                            'LRt': ['LRt_L', 'LRt_R'],\n",
    "                            'Pn': ['Pn_L', 'Pn_R'],\n",
    "                            'R': ['R_L', 'R_R'],\n",
    "                            'RtTg': ['RtTg'],\n",
    "                            'Tz': ['Tz_L', 'Tz_R'],\n",
    "                            'VLL': ['VLL_L', 'VLL_R'],\n",
    "                            'sp5': ['sp5'],\n",
    "                           'outerContour': ['outerContour']}\n",
    "\n",
    "labelMap_sidedToUnsided = {n: nu for nu, ns in labelMap_unsidedToSided.iteritems() for n in ns}\n",
    "\n",
    "from itertools import chain\n",
    "labels_sided = list(chain(*(labelMap_unsidedToSided[name_u] for name_u in labels_unsided)))\n",
    "labels_sided_indices = dict((j, i+1) for i, j in enumerate(labels_sided)) # BackG always 0\n",
    "labels_sided_indices['BackG'] = 0"
   ]
  },
  {
   "cell_type": "code",
   "execution_count": 5,
   "metadata": {
    "collapsed": false
   },
   "outputs": [
    {
     "name": "stdout",
     "output_type": "stream",
     "text": [
      "[ 303.   200.5  265.5]\n"
     ]
    }
   ],
   "source": [
    "# atlas_volume = bp.unpack_ndarray_file(os.path.join(volume_dir, 'MD589/volume_MD589_annotation_withOuterContour.bp'))\n",
    "atlas_volume = bp.unpack_ndarray_file(volume_dir + '/atlasVolume_icp.bp')\n",
    "\n",
    "atlas_ydim, atlas_xdim, atlas_zdim = atlas_volume.shape\n",
    "atlas_centroid = np.array([.5*atlas_xdim, .5*atlas_ydim, .5*atlas_zdim])\n",
    "print atlas_centroid"
   ]
  },
  {
   "cell_type": "code",
   "execution_count": 6,
   "metadata": {
    "collapsed": false
   },
   "outputs": [],
   "source": [
    "available_labels_sided = [labels_sided[i-1] for i in np.unique(atlas_volume) if i > 0]\n",
    "available_labels_unsided = set([labelMap_sidedToUnsided[name] for name in available_labels_sided ])"
   ]
  },
  {
   "cell_type": "code",
   "execution_count": 7,
   "metadata": {
    "collapsed": false
   },
   "outputs": [
    {
     "name": "stderr",
     "output_type": "stream",
     "text": [
      "load atlas: 1.815564 seconds\n"
     ]
    }
   ],
   "source": [
    "def parallel_where(name, num_samples=None):\n",
    "    \n",
    "    w = np.where(atlas_volume == labels_sided_indices[name])\n",
    "    \n",
    "    if num_samples is not None:\n",
    "        n = len(w[0])\n",
    "        sample_indices = np.random.choice(range(n), min(num_samples, n), replace=False)\n",
    "        return np.c_[w[1][sample_indices].astype(np.int16), \n",
    "                     w[0][sample_indices].astype(np.int16), \n",
    "                     w[2][sample_indices].astype(np.int16)]\n",
    "    else:\n",
    "        return np.c_[w[1].astype(np.int16), w[0].astype(np.int16), w[2].astype(np.int16)]\n",
    "\n",
    "t = time.time()\n",
    "\n",
    "atlas_nzs_full = Parallel(n_jobs=16)(delayed(parallel_where)(name) for name in available_labels_sided)\n",
    "atlas_nzs_full = dict(zip(available_labels_sided, atlas_nzs_full))\n",
    "\n",
    "sys.stderr.write('load atlas: %f seconds\\n' % (time.time() - t)) #~ 7s"
   ]
  },
  {
   "cell_type": "code",
   "execution_count": 8,
   "metadata": {
    "collapsed": true
   },
   "outputs": [],
   "source": [
    "downsample_factor = 16\n",
    "\n",
    "section_thickness = 20 # in um\n",
    "xy_pixel_distance_lossless = 0.46\n",
    "xy_pixel_distance_tb = xy_pixel_distance_lossless * 32 # in um, thumbnail\n",
    "\n",
    "xy_pixel_distance_downsampled = xy_pixel_distance_lossless * downsample_factor\n",
    "z_xy_ratio_downsampled = section_thickness / xy_pixel_distance_downsampled"
   ]
  },
  {
   "cell_type": "code",
   "execution_count": null,
   "metadata": {
    "collapsed": true
   },
   "outputs": [],
   "source": []
  },
  {
   "cell_type": "code",
   "execution_count": 9,
   "metadata": {
    "collapsed": true
   },
   "outputs": [],
   "source": [
    "# single stack\n",
    "\n",
    "stack = 'MD589'\n",
    "\n",
    "with open(atlasAlignParams_dir + '/%(stack)s/%(stack)s_3dAlignParams.txt' % {'stack': stack}, 'r') as f:\n",
    "    lines = f.readlines()\n",
    "    global_params = np.array(map(float, lines[0].strip().split()))\n",
    "#     atlas_xdim, atlas_ydim, atlas_zdim  = np.array(map(float, lines[1].strip().split()))\n",
    "    atlas_centroid = np.array(map(float, lines[2].strip().split()))\n",
    "    test_xdim, test_ydim, test_zdim = np.array(map(float, lines[3].strip().split()), np.int)\n",
    "    test_centroid = np.array(map(float, lines[4].strip().split()))"
   ]
  },
  {
   "cell_type": "code",
   "execution_count": 10,
   "metadata": {
    "collapsed": false
   },
   "outputs": [],
   "source": [
    "# !!!! HERE SHOULD TRANSFORM ONLY THE CONTOURS !!!!\n",
    "\n",
    "atlas_nzs_projected_to_test = {name: transform_points(global_params, pts=nzs, \n",
    "                                                c=atlas_centroid, c_prime=test_centroid).astype(np.int16)\n",
    "                               for name, nzs in atlas_nzs_full.iteritems()}\n",
    "\n",
    "test_volume_atlas_projected = np.zeros((test_ydim, test_xdim, test_zdim), np.int)\n",
    "\n",
    "for name in available_labels_sided:\n",
    "\n",
    "    test_xs, test_ys, test_zs = atlas_nzs_projected_to_test[name].T\n",
    "    \n",
    "    valid = (test_xs >= 0) & (test_ys >= 0) & (test_zs >= 0) & \\\n",
    "    (test_xs < test_xdim) & (test_ys < test_ydim) & (test_zs < test_zdim)\n",
    "\n",
    "    atlas_xs, atlas_ys, atlas_zs = atlas_nzs_full[name].T\n",
    "    \n",
    "    test_volume_atlas_projected[test_ys[valid], test_xs[valid], test_zs[valid]] = \\\n",
    "    atlas_volume[atlas_ys[valid], atlas_xs[valid], atlas_zs[valid]]\n",
    "\n",
    "del atlas_nzs_projected_to_test"
   ]
  },
  {
   "cell_type": "code",
   "execution_count": 11,
   "metadata": {
    "collapsed": true
   },
   "outputs": [],
   "source": [
    "bp.pack_ndarray_file(test_volume_atlas_projected, \n",
    "                     volume_dir + '/%(stack)s/%(stack)s_atlasProjectedVolume.bp'%{'stack':stack})"
   ]
  },
  {
   "cell_type": "code",
   "execution_count": null,
   "metadata": {
    "collapsed": true
   },
   "outputs": [],
   "source": []
  },
  {
   "cell_type": "code",
   "execution_count": 12,
   "metadata": {
    "collapsed": false
   },
   "outputs": [],
   "source": [
    "colors = np.loadtxt(os.environ['REPO_DIR'] + '/visualization/100colors.txt')\n",
    "colors[labels_sided_indices['BackG']] = 1."
   ]
  },
  {
   "cell_type": "code",
   "execution_count": 13,
   "metadata": {
    "collapsed": false
   },
   "outputs": [
    {
     "name": "stdout",
     "output_type": "stream",
     "text": [
      "93 368\n"
     ]
    }
   ],
   "source": [
    "section_bs_begin, section_bs_end = section_range_lookup[stack]\n",
    "print section_bs_begin, section_bs_end\n",
    "\n",
    "(volume_xmin, volume_xmax, volume_ymin, volume_ymax, volume_zmin, volume_zmax) = \\\n",
    "np.loadtxt(os.path.join(volume_dir, '%(stack)s/%(stack)s_scoreVolume_limits.txt' % {'stack': stack}), dtype=np.int)\n",
    "\n",
    "map_z_to_section = {}\n",
    "for s in range(section_bs_begin, section_bs_end+1):\n",
    "    for z in range(int(z_xy_ratio_downsampled*s) - volume_zmin, int(z_xy_ratio_downsampled*(s+1)) - volume_zmin + 1):\n",
    "        map_z_to_section[z] = s"
   ]
  },
  {
   "cell_type": "code",
   "execution_count": 14,
   "metadata": {
    "collapsed": false
   },
   "outputs": [
    {
     "data": {
      "text/plain": [
       "(460, 838, 454)"
      ]
     },
     "execution_count": 14,
     "metadata": {},
     "output_type": "execute_result"
    }
   ],
   "source": [
    "test_volume_atlas_projected.shape"
   ]
  },
  {
   "cell_type": "code",
   "execution_count": 15,
   "metadata": {
    "collapsed": true
   },
   "outputs": [],
   "source": [
    "annotationsViz_rootdir = '/home/yuncong/csd395/CSHL_atlasPojectedVolumeViz/'\n",
    "annotationsViz_dir = create_if_not_exists(annotationsViz_rootdir + '/' + stack)"
   ]
  },
  {
   "cell_type": "code",
   "execution_count": 16,
   "metadata": {
    "collapsed": false,
    "scrolled": true
   },
   "outputs": [
    {
     "name": "stderr",
     "output_type": "stream",
     "text": [
      "/oasis/projects/nsf/csd181/yuncong/virtualenv-1.9.1/yuncongve/lib/python2.7/site-packages/PIL/Image.py:2224: DecompressionBombWarning: Image size (157463552 pixels) exceeds limit of 89478485 pixels, could be decompression bomb DOS attack.\n",
      "  DecompressionBombWarning)\n"
     ]
    }
   ],
   "source": [
    "# vizs = {}\n",
    "\n",
    "dm = DataManager(stack=stack)\n",
    "\n",
    "for z in range(0, test_zdim, 10):\n",
    "        \n",
    "    dm.set_slice(map_z_to_section[z])\n",
    "    dm._load_image(versions=['rgb-jpg'])\n",
    "    viz = dm.image_rgb_jpg[::downsample_factor, ::downsample_factor][volume_ymin:volume_ymax+1, \n",
    "                                                                     volume_xmin:volume_xmax+1].copy()\n",
    "\n",
    "    projected_cnts = find_contour_points(test_volume_atlas_projected[...,z])\n",
    "\n",
    "    for label_ind, cnts in projected_cnts.iteritems():\n",
    "        for cnt in cnts:\n",
    "            cv2.polylines(viz, [cnt.astype(np.int)], True, tuple((colors[label_ind]*255).astype(np.int)), 2)\n",
    "\n",
    "    cv2.imwrite(annotationsViz_dir + '/%(stack)s_%(sec)04d_atlasProjectedVolumeViz_z%(z)04d.jpg' % \\\n",
    "                {'stack': stack, 'sec': map_z_to_section[z], 'z': z}, \n",
    "                img_as_ubyte(viz[..., [2,1,0]]))\n",
    "    \n",
    "#     vizs[z] = viz\n",
    "    \n",
    "#     plt.figure(figsize=(10, 10));\n",
    "#     plt.imshow(viz);\n",
    "#     plt.title('z=%d'%z);\n",
    "#     plt.show();\n",
    "\n",
    "#         del viz\n",
    "\n",
    "#     del test_volume_atlas_projected\n",
    "\n",
    "#     logger.removeHandler(handler)"
   ]
  },
  {
   "cell_type": "code",
   "execution_count": null,
   "metadata": {
    "collapsed": true
   },
   "outputs": [],
   "source": [
    "display_images_in_grids([vizs[z] for z in range(0, test_zdim, 50)], nc=2, \n",
    "                        titles=['z=%d'%z for z in range(0, test_zdim, 50)])"
   ]
  },
  {
   "cell_type": "code",
   "execution_count": null,
   "metadata": {
    "collapsed": true
   },
   "outputs": [],
   "source": []
  },
  {
   "cell_type": "code",
   "execution_count": null,
   "metadata": {
    "collapsed": true
   },
   "outputs": [],
   "source": [
    "# all stacks\n",
    "\n",
    "colors = np.loadtxt(os.environ['REPO_DIR'] + '/visualization/100colors.txt')\n",
    "colors[labels_sided_indices['BackG']] = 1.\n",
    "\n",
    "annotationsViz_rootdir = '/home/yuncong/csd395/CSHL_atlasPojectedVolumeViz/'"
   ]
  },
  {
   "cell_type": "code",
   "execution_count": null,
   "metadata": {
    "collapsed": false
   },
   "outputs": [
    {
     "name": "stdout",
     "output_type": "stream",
     "text": [
      "93 368\n",
      "93"
     ]
    },
    {
     "name": "stderr",
     "output_type": "stream",
     "text": [
      "/oasis/projects/nsf/csd181/yuncong/virtualenv-1.9.1/yuncongve/lib/python2.7/site-packages/PIL/Image.py:2224: DecompressionBombWarning: Image size (157463552 pixels) exceeds limit of 89478485 pixels, could be decompression bomb DOS attack.\n",
      "  DecompressionBombWarning)\n",
      "/oasis/projects/nsf/csd181/yuncong/virtualenv-1.9.1/yuncongve/lib/python2.7/site-packages/PIL/Image.py:2224: DecompressionBombWarning: Image size (167180288 pixels) exceeds limit of 89478485 pixels, could be decompression bomb DOS attack.\n",
      "  DecompressionBombWarning)\n"
     ]
    }
   ],
   "source": [
    "for stack in ['MD589', 'MD594', 'MD585', 'MD593', 'MD592', 'MD590', 'MD591', 'MD595', 'MD598', 'MD602']:\n",
    "    \n",
    "    print stack\n",
    "    \n",
    "    ### construct atlasProjectVolume ###\n",
    "    \n",
    "    with open(atlasAlignParams_dir + '/%(stack)s/%(stack)s_3dAlignParams.txt' % {'stack': stack}, 'r') as f:\n",
    "        lines = f.readlines()\n",
    "        global_params = np.array(map(float, lines[0].strip().split()))\n",
    "    #     atlas_xdim, atlas_ydim, atlas_zdim  = np.array(map(float, lines[1].strip().split()))\n",
    "        atlas_centroid = np.array(map(float, lines[2].strip().split()))\n",
    "        test_xdim, test_ydim, test_zdim = np.array(map(float, lines[3].strip().split()), np.int)\n",
    "        test_centroid = np.array(map(float, lines[4].strip().split()))\n",
    "        \n",
    "    atlas_nzs_projected_to_test = {name: transform_points(global_params, pts=nzs, \n",
    "                                                c=atlas_centroid, c_prime=test_centroid).astype(np.int16)\n",
    "                               for name, nzs in atlas_nzs_full.iteritems()}\n",
    "\n",
    "    test_volume_atlas_projected = np.zeros((test_ydim, test_xdim, test_zdim), np.int)\n",
    "\n",
    "    for name in available_labels_sided:\n",
    "\n",
    "        test_xs, test_ys, test_zs = atlas_nzs_projected_to_test[name].T\n",
    "\n",
    "        valid = (test_xs >= 0) & (test_ys >= 0) & (test_zs >= 0) & \\\n",
    "        (test_xs < test_xdim) & (test_ys < test_ydim) & (test_zs < test_zdim)\n",
    "\n",
    "        atlas_xs, atlas_ys, atlas_zs = atlas_nzs_full[name].T\n",
    "\n",
    "        test_volume_atlas_projected[test_ys[valid], test_xs[valid], test_zs[valid]] = \\\n",
    "        atlas_volume[atlas_ys[valid], atlas_xs[valid], atlas_zs[valid]]\n",
    "\n",
    "    del atlas_nzs_projected_to_test\n",
    "    \n",
    "    bp.pack_ndarray_file(test_volume_atlas_projected, \n",
    "                     volume_dir + '/%(stack)s/%(stack)s_atlasProjectedVolume.bp'%{'stack':stack})\n",
    "    \n",
    "    \n",
    "    ### visualize ###\n",
    "        \n",
    "    section_bs_begin, section_bs_end = section_range_lookup[stack]\n",
    "    print section_bs_begin, section_bs_end\n",
    "\n",
    "    (volume_xmin, volume_xmax, volume_ymin, volume_ymax, volume_zmin, volume_zmax) = \\\n",
    "    np.loadtxt(os.path.join(volume_dir, '%(stack)s/%(stack)s_scoreVolume_limits.txt' % {'stack': stack}), dtype=np.int)\n",
    "\n",
    "    map_z_to_section = {}\n",
    "    for s in range(section_bs_begin, section_bs_end+1):\n",
    "        for z in range(int(z_xy_ratio_downsampled*s) - volume_zmin, int(z_xy_ratio_downsampled*(s+1)) - volume_zmin + 1):\n",
    "            map_z_to_section[z] = s\n",
    "            \n",
    "    annotationsViz_dir = create_if_not_exists(annotationsViz_rootdir + '/' + stack)\n",
    "    \n",
    "    dm = DataManager(stack=stack)\n",
    "\n",
    "    for z in range(0, test_zdim, 10):\n",
    "\n",
    "        dm.set_slice(map_z_to_section[z])\n",
    "        dm._load_image(versions=['rgb-jpg'])\n",
    "        viz = dm.image_rgb_jpg[::downsample_factor, ::downsample_factor][volume_ymin:volume_ymax+1, \n",
    "                                                                         volume_xmin:volume_xmax+1].copy()\n",
    "\n",
    "        projected_cnts = find_contour_points(test_volume_atlas_projected[...,z])\n",
    "\n",
    "        for label_ind, cnts in projected_cnts.iteritems():\n",
    "            for cnt in cnts:\n",
    "                cv2.polylines(viz, [cnt.astype(np.int)], True, tuple((colors[label_ind]*255).astype(np.int)), 2)\n",
    "\n",
    "        cv2.imwrite(annotationsViz_dir + '/%(stack)s_%(sec)04d_atlasProjectedVolumeViz_z%(z)04d.jpg' % \\\n",
    "                    {'stack': stack, 'sec': map_z_to_section[z], 'z': z}, \n",
    "                    img_as_ubyte(viz[..., [2,1,0]]))"
   ]
  },
  {
   "cell_type": "code",
   "execution_count": null,
   "metadata": {
    "collapsed": true
   },
   "outputs": [],
   "source": []
  }
 ],
 "metadata": {
  "kernelspec": {
   "display_name": "Python 2",
   "language": "python",
   "name": "python2"
  },
  "language_info": {
   "codemirror_mode": {
    "name": "ipython",
    "version": 2
   },
   "file_extension": ".py",
   "mimetype": "text/x-python",
   "name": "python",
   "nbconvert_exporter": "python",
   "pygments_lexer": "ipython2",
   "version": "2.7.3"
  }
 },
 "nbformat": 4,
 "nbformat_minor": 0
}
