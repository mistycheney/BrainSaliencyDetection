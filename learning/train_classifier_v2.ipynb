{
 "cells": [
  {
   "cell_type": "code",
   "execution_count": 1,
   "metadata": {
    "collapsed": false
   },
   "outputs": [
    {
     "name": "stdout",
     "output_type": "stream",
     "text": [
      "Setting environment for Gordon\n"
     ]
    },
    {
     "name": "stderr",
     "output_type": "stream",
     "text": [
      "No vtk\n",
      "Cannot import mxnet.\n"
     ]
    }
   ],
   "source": [
    "%reload_ext autoreload\n",
    "%autoreload 2\n",
    "\n",
    "import os\n",
    "import argparse\n",
    "import sys\n",
    "import time\n",
    "import cv2\n",
    "\n",
    "from joblib import Parallel, delayed\n",
    "\n",
    "sys.path.append(os.path.join(os.environ['REPO_DIR'], 'utilities'))\n",
    "from utilities2015 import *\n",
    "from metadata import *\n",
    "from data_manager import *\n",
    "\n",
    "from matplotlib.path import Path\n",
    "%matplotlib inline\n",
    "\n",
    "import numpy as np\n",
    "\n",
    "from learning_utilities import *"
   ]
  },
  {
   "cell_type": "code",
   "execution_count": 2,
   "metadata": {
    "collapsed": true
   },
   "outputs": [],
   "source": [
    "from sklearn.externals import joblib\n",
    "\n",
    "from sklearn.linear_model import LogisticRegression\n",
    "from sklearn.svm import LinearSVC, SVC\n",
    "from sklearn.calibration import CalibratedClassifierCV\n",
    "from sklearn.ensemble import GradientBoostingClassifier \n",
    "\n",
    "sys.path.append('/home/yuncong/csd395/xgboost/python-package')\n",
    "from xgboost.sklearn import XGBClassifier"
   ]
  },
  {
   "cell_type": "code",
   "execution_count": 3,
   "metadata": {
    "collapsed": true
   },
   "outputs": [],
   "source": [
    "paired_structures = ['5N', '6N', '7N', '7n', 'Amb', 'LC', 'LRt', 'Pn', 'Tz', 'VLL', 'RMC', 'SNC', 'SNR', '3N', '4N',\n",
    "                    'Sp5I', 'Sp5O', 'Sp5C', 'PBG', '10N', 'VCA', 'VCP', 'DC']\n",
    "singular_structures = ['AP', '12N', 'RtTg', 'SC', 'IC']\n",
    "structures = paired_structures + singular_structures"
   ]
  },
  {
   "cell_type": "code",
   "execution_count": 4,
   "metadata": {
    "collapsed": false
   },
   "outputs": [],
   "source": [
    "# structures = ['7N', '12N']\n",
    "# labels_to_sample = structures + map(convert_to_surround_name, structures)\n",
    "# labels_to_sample = structures + [convert_to_surround_name(l, surr_l) for l in structures for surr_l in structures + ['noclass'] if surr_l != l]\n",
    "# labels_to_sample = structures + [l + '_negative' for l in structures]\n",
    "labels_to_sample = structures + [l + '_negative' for l in structures] + \\\n",
    "[convert_to_surround_name(l, margin=m, suffix=surr_l) for m in [100,200,300,400,500,600,700,800,900,1000]\n",
    " for l in structures for surr_l in structures + ['noclass'] if surr_l != l] + \\\n",
    "['noclass']"
   ]
  },
  {
   "cell_type": "markdown",
   "metadata": {},
   "source": [
    "# Training"
   ]
  },
  {
   "cell_type": "code",
   "execution_count": 5,
   "metadata": {
    "collapsed": false
   },
   "outputs": [],
   "source": [
    "# Extract training features - random subset\n",
    "\n",
    "training_addresses = defaultdict(list)\n",
    "\n",
    "labels = set([])\n",
    "\n",
    "# for stack in ['MD589', 'MD585', 'MD594']:\n",
    "for stack in ['MD635']:\n",
    "    annotation_grid_indices_fn = '/home/yuncong/csd395/CSHL_labelings_v3/%(stack)s/%(stack)s_annotation_grid_indices.h5' % dict(stack=stack)\n",
    "    label_gridIndices = read_hdf(annotation_grid_indices_fn, 'grid_indices')\n",
    "    \n",
    "    labels_this_stack = set(label_gridIndices.index) & set(labels_to_sample)\n",
    "    labels = labels | labels_this_stack\n",
    "    \n",
    "    training_addresses_sec_idx = sample_locations(label_gridIndices, labels_this_stack, num_samples_per_landmark=1000)\n",
    "    \n",
    "    for name, addresses in training_addresses_sec_idx.iteritems():\n",
    "        training_addresses[name] += [(stack, ) + addr for addr in addresses]\n",
    "        \n",
    "training_addresses.default_factory = None\n",
    "        \n",
    "# sampled_addresses = {name_u: np.array(addresses) for name_u, addresses in sampled_addresses.iteritems()}"
   ]
  },
  {
   "cell_type": "code",
   "execution_count": 6,
   "metadata": {
    "collapsed": true
   },
   "outputs": [],
   "source": [
    "# # Optional, if no need to sample training patches\n",
    "\n",
    "# labels = set([])\n",
    "\n",
    "# # for stack in ['MD589', 'MD585', 'MD594']:\n",
    "# for stack in ['MD635']:\n",
    "#     annotation_grid_indices_fn = '/home/yuncong/csd395/CSHL_labelings_v3/%(stack)s/%(stack)s_annotation_grid_indices.h5' % dict(stack=stack)\n",
    "#     label_gridIndices = read_hdf(annotation_grid_indices_fn, 'grid_indices')\n",
    "    \n",
    "#     labels_this_stack = set(label_gridIndices.index) & set(labels_to_sample)\n",
    "#     labels = labels | labels_this_stack"
   ]
  },
  {
   "cell_type": "code",
   "execution_count": 6,
   "metadata": {
    "collapsed": true
   },
   "outputs": [],
   "source": [
    "existing_names = set([convert_to_original_name(l) for l in labels]) - {'noclass'}"
   ]
  },
  {
   "cell_type": "code",
   "execution_count": 8,
   "metadata": {
    "collapsed": true
   },
   "outputs": [],
   "source": [
    "first_sec, last_sec = metadata_cache['section_limits'][stack]\n",
    "s2f = metadata_cache['sections_to_filenames'][stack]"
   ]
  },
  {
   "cell_type": "code",
   "execution_count": 16,
   "metadata": {
    "collapsed": false,
    "scrolled": true
   },
   "outputs": [
    {
     "name": "stdout",
     "output_type": "stream",
     "text": [
      "('MD635', 75)\n",
      "('MD635', 76)\n",
      "('MD635', 77)\n",
      "('MD635', 78)\n",
      "('MD635', 79)\n",
      "('MD635', 80)\n",
      "('MD635', 81)\n",
      "('MD635', 82)\n"
     ]
    },
    {
     "name": "stderr",
     "output_type": "stream",
     "text": [
      "Patch in annotation but not in mask: MD635 82 MD635-F28-2016.05.18-21.46.26_MD635_1_0082 alignedTo MD635-F63-2016.05.19-08.39.03_MD635_2_0188 @33544\n",
      "Patch in annotation but not in mask: MD635 82 MD635-F28-2016.05.18-21.46.26_MD635_1_0082 alignedTo MD635-F63-2016.05.19-08.39.03_MD635_2_0188 @32038\n",
      "Patch in annotation but not in mask: MD635 82 MD635-F28-2016.05.18-21.46.26_MD635_1_0082 alignedTo MD635-F63-2016.05.19-08.39.03_MD635_2_0188 @30531\n",
      "Patch in annotation but not in mask: MD635 82 MD635-F28-2016.05.18-21.46.26_MD635_1_0082 alignedTo MD635-F63-2016.05.19-08.39.03_MD635_2_0188 @35297\n"
     ]
    },
    {
     "name": "stdout",
     "output_type": "stream",
     "text": [
      "('MD635', 83)\n"
     ]
    },
    {
     "name": "stderr",
     "output_type": "stream",
     "text": [
      "Patch in annotation but not in mask: MD635 83 MD635-F28-2016.05.18-21.46.26_MD635_2_0083 alignedTo MD635-F63-2016.05.19-08.39.03_MD635_2_0188 @206\n"
     ]
    },
    {
     "name": "stdout",
     "output_type": "stream",
     "text": [
      "('MD635', 84)\n",
      "('MD635', 85)\n",
      "('MD635', 86)\n",
      "('MD635', 87)\n",
      "('MD635', 88)\n",
      "('MD635', 89)\n"
     ]
    },
    {
     "name": "stderr",
     "output_type": "stream",
     "text": [
      "Patch in annotation but not in mask: MD635 89 MD635-F30-2016.05.18-22.15.39_MD635_2_0089 alignedTo MD635-F63-2016.05.19-08.39.03_MD635_2_0188 @159\n"
     ]
    },
    {
     "name": "stdout",
     "output_type": "stream",
     "text": [
      "('MD635', 90)\n",
      "('MD635', 91)\n"
     ]
    },
    {
     "name": "stderr",
     "output_type": "stream",
     "text": [
      "Patch in annotation but not in mask: MD635 91 MD635-F31-2016.05.18-22.31.18_MD635_1_0091 alignedTo MD635-F63-2016.05.19-08.39.03_MD635_2_0188 @148\n",
      "Patch in annotation but not in mask: MD635 91 MD635-F31-2016.05.18-22.31.18_MD635_1_0091 alignedTo MD635-F63-2016.05.19-08.39.03_MD635_2_0188 @104\n",
      "Patch in annotation but not in mask: MD635 91 MD635-F31-2016.05.18-22.31.18_MD635_1_0091 alignedTo MD635-F63-2016.05.19-08.39.03_MD635_2_0188 @227\n"
     ]
    },
    {
     "name": "stdout",
     "output_type": "stream",
     "text": [
      "('MD635', 92)\n"
     ]
    },
    {
     "name": "stderr",
     "output_type": "stream",
     "text": [
      "Patch in annotation but not in mask: MD635 92 MD635-F31-2016.05.18-22.31.18_MD635_2_0092 alignedTo MD635-F63-2016.05.19-08.39.03_MD635_2_0188 @196\n"
     ]
    },
    {
     "name": "stdout",
     "output_type": "stream",
     "text": [
      "('MD635', 94)\n"
     ]
    },
    {
     "name": "stderr",
     "output_type": "stream",
     "text": [
      "Patch in annotation but not in mask: MD635 94 MD635-F32-2016.05.18-22.50.16_MD635_1_0094 alignedTo MD635-F63-2016.05.19-08.39.03_MD635_2_0188 @35\n"
     ]
    },
    {
     "name": "stdout",
     "output_type": "stream",
     "text": [
      "('MD635', 95)\n"
     ]
    },
    {
     "name": "stderr",
     "output_type": "stream",
     "text": [
      "Patch in annotation but not in mask: MD635 95 MD635-F32-2016.05.18-22.50.16_MD635_2_0095 alignedTo MD635-F63-2016.05.19-08.39.03_MD635_2_0188 @47\n"
     ]
    },
    {
     "name": "stdout",
     "output_type": "stream",
     "text": [
      "('MD635', 96)\n"
     ]
    },
    {
     "name": "stderr",
     "output_type": "stream",
     "text": [
      "Patch in annotation but not in mask: MD635 96 MD635-F32-2016.05.18-22.50.16_MD635_3_0096 alignedTo MD635-F63-2016.05.19-08.39.03_MD635_2_0188 @216\n"
     ]
    },
    {
     "name": "stdout",
     "output_type": "stream",
     "text": [
      "('MD635', 97)\n",
      "('MD635', 98)\n",
      "('MD635', 99)\n"
     ]
    },
    {
     "name": "stderr",
     "output_type": "stream",
     "text": [
      "Patch in annotation but not in mask: MD635 99 MD635-F33-2016.05.18-23.06.34_MD635_3_0099 alignedTo MD635-F63-2016.05.19-08.39.03_MD635_2_0188 @224\n",
      "Patch in annotation but not in mask: MD635 99 MD635-F33-2016.05.18-23.06.34_MD635_3_0099 alignedTo MD635-F63-2016.05.19-08.39.03_MD635_2_0188 @94\n"
     ]
    },
    {
     "name": "stdout",
     "output_type": "stream",
     "text": [
      "('MD635', 100)\n"
     ]
    },
    {
     "name": "stderr",
     "output_type": "stream",
     "text": [
      "Patch in annotation but not in mask: MD635 100 MD635-F34-2016.05.18-23.23.55_MD635_1_0100 alignedTo MD635-F63-2016.05.19-08.39.03_MD635_2_0188 @167\n"
     ]
    },
    {
     "name": "stdout",
     "output_type": "stream",
     "text": [
      "('MD635', 101)\n",
      "('MD635', 102)\n",
      "('MD635', 103)\n"
     ]
    },
    {
     "name": "stderr",
     "output_type": "stream",
     "text": [
      "Patch in annotation but not in mask: MD635 103 MD635-F35-2016.05.18-23.40.52_MD635_1_0103 alignedTo MD635-F63-2016.05.19-08.39.03_MD635_2_0188 @52\n"
     ]
    },
    {
     "name": "stdout",
     "output_type": "stream",
     "text": [
      "('MD635', 104)\n"
     ]
    },
    {
     "name": "stderr",
     "output_type": "stream",
     "text": [
      "Patch in annotation but not in mask: MD635 104 MD635-F35-2016.05.18-23.40.52_MD635_2_0104 alignedTo MD635-F63-2016.05.19-08.39.03_MD635_2_0188 @55\n",
      "Patch in annotation but not in mask: MD635 104 MD635-F35-2016.05.18-23.40.52_MD635_2_0104 alignedTo MD635-F63-2016.05.19-08.39.03_MD635_2_0188 @77\n"
     ]
    },
    {
     "name": "stdout",
     "output_type": "stream",
     "text": [
      "('MD635', 105)\n",
      "('MD635', 106)\n",
      "('MD635', 107)\n"
     ]
    },
    {
     "name": "stderr",
     "output_type": "stream",
     "text": [
      "Patch in annotation but not in mask: MD635 107 MD635-F36-2016.05.18-23.59.35_MD635_2_0107 alignedTo MD635-F63-2016.05.19-08.39.03_MD635_2_0188 @124\n"
     ]
    },
    {
     "name": "stdout",
     "output_type": "stream",
     "text": [
      "('MD635', 108)\n",
      "('MD635', 109)\n",
      "('MD635', 110)\n",
      "('MD635', 111)\n",
      "('MD635', 112)\n",
      "('MD635', 113)\n",
      "('MD635', 114)\n"
     ]
    },
    {
     "name": "stderr",
     "output_type": "stream",
     "text": [
      "Patch in annotation but not in mask: MD635 114 MD635-F38-2016.05.19-00.34.28_MD635_3_0114 alignedTo MD635-F63-2016.05.19-08.39.03_MD635_2_0188 @196\n",
      "Patch in annotation but not in mask: MD635 114 MD635-F38-2016.05.19-00.34.28_MD635_3_0114 alignedTo MD635-F63-2016.05.19-08.39.03_MD635_2_0188 @217\n"
     ]
    },
    {
     "name": "stdout",
     "output_type": "stream",
     "text": [
      "('MD635', 115)\n"
     ]
    },
    {
     "name": "stderr",
     "output_type": "stream",
     "text": [
      "Patch in annotation but not in mask: MD635 115 MD635-F39-2016.05.19-00.52.10_MD635_1_0115 alignedTo MD635-F63-2016.05.19-08.39.03_MD635_2_0188 @51\n",
      "Patch in annotation but not in mask: MD635 115 MD635-F39-2016.05.19-00.52.10_MD635_1_0115 alignedTo MD635-F63-2016.05.19-08.39.03_MD635_2_0188 @107\n",
      "Patch in annotation but not in mask: MD635 115 MD635-F39-2016.05.19-00.52.10_MD635_1_0115 alignedTo MD635-F63-2016.05.19-08.39.03_MD635_2_0188 @89\n"
     ]
    },
    {
     "name": "stdout",
     "output_type": "stream",
     "text": [
      "('MD635', 116)\n"
     ]
    },
    {
     "name": "stderr",
     "output_type": "stream",
     "text": [
      "Patch in annotation but not in mask: MD635 116 MD635-F39-2016.05.19-00.52.10_MD635_2_0116 alignedTo MD635-F63-2016.05.19-08.39.03_MD635_2_0188 @219\n",
      "Patch in annotation but not in mask: MD635 116 MD635-F39-2016.05.19-00.52.10_MD635_2_0116 alignedTo MD635-F63-2016.05.19-08.39.03_MD635_2_0188 @41\n",
      "Patch in annotation but not in mask: MD635 116 MD635-F39-2016.05.19-00.52.10_MD635_2_0116 alignedTo MD635-F63-2016.05.19-08.39.03_MD635_2_0188 @60\n"
     ]
    },
    {
     "name": "stdout",
     "output_type": "stream",
     "text": [
      "('MD635', 117)\n"
     ]
    },
    {
     "name": "stderr",
     "output_type": "stream",
     "text": [
      "Patch in annotation but not in mask: MD635 117 MD635-F39-2016.05.19-00.52.10_MD635_3_0117 alignedTo MD635-F63-2016.05.19-08.39.03_MD635_2_0188 @111\n"
     ]
    },
    {
     "name": "stdout",
     "output_type": "stream",
     "text": [
      "('MD635', 118)\n",
      "('MD635', 119)\n"
     ]
    },
    {
     "name": "stderr",
     "output_type": "stream",
     "text": [
      "Patch in annotation but not in mask: MD635 119 MD635-F40-2016.05.19-01.08.51_MD635_2_0119 alignedTo MD635-F63-2016.05.19-08.39.03_MD635_2_0188 @167\n"
     ]
    },
    {
     "name": "stdout",
     "output_type": "stream",
     "text": [
      "('MD635', 120)\n",
      "('MD635', 121)\n",
      "('MD635', 122)\n",
      "('MD635', 123)\n",
      "('MD635', 124)\n",
      "('MD635', 125)\n",
      "('MD635', 126)\n",
      "('MD635', 127)\n",
      "('MD635', 128)\n"
     ]
    },
    {
     "name": "stderr",
     "output_type": "stream",
     "text": [
      "Patch in annotation but not in mask: MD635 128 MD635-F43-2016.05.19-02.06.14_MD635_2_0128 alignedTo MD635-F63-2016.05.19-08.39.03_MD635_2_0188 @220\n"
     ]
    },
    {
     "name": "stdout",
     "output_type": "stream",
     "text": [
      "('MD635', 129)\n"
     ]
    },
    {
     "name": "stderr",
     "output_type": "stream",
     "text": [
      "Patch in annotation but not in mask: MD635 129 MD635-F43-2016.05.19-02.06.14_MD635_3_0129 alignedTo MD635-F63-2016.05.19-08.39.03_MD635_2_0188 @161\n"
     ]
    },
    {
     "name": "stdout",
     "output_type": "stream",
     "text": [
      "('MD635', 130)\n"
     ]
    },
    {
     "name": "stderr",
     "output_type": "stream",
     "text": [
      "Patch in annotation but not in mask: MD635 130 MD635-F44-2016.05.19-02.24.57_MD635_1_0130 alignedTo MD635-F63-2016.05.19-08.39.03_MD635_2_0188 @32\n"
     ]
    },
    {
     "name": "stdout",
     "output_type": "stream",
     "text": [
      "('MD635', 131)\n",
      "('MD635', 132)\n",
      "('MD635', 133)\n",
      "('MD635', 134)\n",
      "('MD635', 135)\n",
      "('MD635', 136)\n",
      "('MD635', 137)\n",
      "('MD635', 138)\n",
      "('MD635', 139)\n"
     ]
    },
    {
     "name": "stderr",
     "output_type": "stream",
     "text": [
      "Patch in annotation but not in mask: MD635 139 MD635-F47-2016.05.19-03.19.48_MD635_1_0139 alignedTo MD635-F63-2016.05.19-08.39.03_MD635_2_0188 @48\n"
     ]
    },
    {
     "name": "stdout",
     "output_type": "stream",
     "text": [
      "('MD635', 140)\n"
     ]
    },
    {
     "name": "stderr",
     "output_type": "stream",
     "text": [
      "Patch in annotation but not in mask: MD635 140 MD635-F47-2016.05.19-03.19.48_MD635_2_0140 alignedTo MD635-F63-2016.05.19-08.39.03_MD635_2_0188 @42102\n",
      "Patch in annotation but not in mask: MD635 140 MD635-F47-2016.05.19-03.19.48_MD635_2_0140 alignedTo MD635-F63-2016.05.19-08.39.03_MD635_2_0188 @42603\n",
      "Patch in annotation but not in mask: MD635 140 MD635-F47-2016.05.19-03.19.48_MD635_2_0140 alignedTo MD635-F63-2016.05.19-08.39.03_MD635_2_0188 @126\n"
     ]
    },
    {
     "name": "stdout",
     "output_type": "stream",
     "text": [
      "('MD635', 141)\n"
     ]
    },
    {
     "name": "stderr",
     "output_type": "stream",
     "text": [
      "Patch in annotation but not in mask: MD635 141 MD635-F47-2016.05.19-03.19.48_MD635_3_0141 alignedTo MD635-F63-2016.05.19-08.39.03_MD635_2_0188 @41\n"
     ]
    },
    {
     "name": "stdout",
     "output_type": "stream",
     "text": [
      "('MD635', 142)\n",
      "('MD635', 143)\n",
      "('MD635', 144)\n",
      "('MD635', 145)\n"
     ]
    },
    {
     "name": "stderr",
     "output_type": "stream",
     "text": [
      "Patch in annotation but not in mask: MD635 145 MD635-F49-2016.05.19-03.59.43_MD635_1_0145 alignedTo MD635-F63-2016.05.19-08.39.03_MD635_2_0188 @176\n"
     ]
    },
    {
     "name": "stdout",
     "output_type": "stream",
     "text": [
      "('MD635', 146)\n",
      "('MD635', 147)\n",
      "('MD635', 148)\n"
     ]
    },
    {
     "name": "stderr",
     "output_type": "stream",
     "text": [
      "Patch in annotation but not in mask: MD635 148 MD635-F50-2016.05.23-14.45.07_MD635_1_0148 alignedTo MD635-F63-2016.05.19-08.39.03_MD635_2_0188 @135\n"
     ]
    },
    {
     "name": "stdout",
     "output_type": "stream",
     "text": [
      "('MD635', 149)\n"
     ]
    },
    {
     "name": "stderr",
     "output_type": "stream",
     "text": [
      "Patch in annotation but not in mask: MD635 149 MD635-F50-2016.05.23-14.45.07_MD635_2_0149 alignedTo MD635-F63-2016.05.19-08.39.03_MD635_2_0188 @71\n",
      "Patch in annotation but not in mask: MD635 149 MD635-F50-2016.05.23-14.45.07_MD635_2_0149 alignedTo MD635-F63-2016.05.19-08.39.03_MD635_2_0188 @228\n"
     ]
    },
    {
     "name": "stdout",
     "output_type": "stream",
     "text": [
      "('MD635', 150)\n"
     ]
    },
    {
     "name": "stderr",
     "output_type": "stream",
     "text": [
      "Patch in annotation but not in mask: MD635 150 MD635-F50-2016.05.23-14.45.07_MD635_3_0150 alignedTo MD635-F63-2016.05.19-08.39.03_MD635_2_0188 @56\n"
     ]
    },
    {
     "name": "stdout",
     "output_type": "stream",
     "text": [
      "('MD635', 151)\n"
     ]
    },
    {
     "name": "stderr",
     "output_type": "stream",
     "text": [
      "Patch in annotation but not in mask: MD635 151 MD635-F51-2016.05.23-15.04.39_MD635_1_0151 alignedTo MD635-F63-2016.05.19-08.39.03_MD635_2_0188 @160\n"
     ]
    },
    {
     "name": "stdout",
     "output_type": "stream",
     "text": [
      "('MD635', 152)\n",
      "('MD635', 153)\n"
     ]
    },
    {
     "name": "stderr",
     "output_type": "stream",
     "text": [
      "Patch in annotation but not in mask: MD635 153 MD635-F51-2016.05.23-15.04.39_MD635_3_0153 alignedTo MD635-F63-2016.05.19-08.39.03_MD635_2_0188 @225\n"
     ]
    },
    {
     "name": "stdout",
     "output_type": "stream",
     "text": [
      "('MD635', 154)\n"
     ]
    },
    {
     "name": "stderr",
     "output_type": "stream",
     "text": [
      "Patch in annotation but not in mask: MD635 154 MD635-F52-2016.05.23-15.23.47_MD635_1_0154 alignedTo MD635-F63-2016.05.19-08.39.03_MD635_2_0188 @200\n"
     ]
    },
    {
     "name": "stdout",
     "output_type": "stream",
     "text": [
      "('MD635', 155)\n"
     ]
    },
    {
     "name": "stderr",
     "output_type": "stream",
     "text": [
      "Patch in annotation but not in mask: MD635 155 MD635-F52-2016.05.19-04.56.12_MD635_2_0155 alignedTo MD635-F63-2016.05.19-08.39.03_MD635_2_0188 @172\n"
     ]
    },
    {
     "name": "stdout",
     "output_type": "stream",
     "text": [
      "('MD635', 156)\n"
     ]
    },
    {
     "name": "stderr",
     "output_type": "stream",
     "text": [
      "Patch in annotation but not in mask: MD635 156 MD635-F52-2016.05.23-15.23.47_MD635_3_0156 alignedTo MD635-F63-2016.05.19-08.39.03_MD635_2_0188 @135\n"
     ]
    },
    {
     "name": "stdout",
     "output_type": "stream",
     "text": [
      "('MD635', 157)\n",
      "('MD635', 158)\n",
      "('MD635', 159)\n"
     ]
    },
    {
     "name": "stderr",
     "output_type": "stream",
     "text": [
      "Patch in annotation but not in mask: MD635 159 MD635-F53-2016.05.19-05.14.50_MD635_3_0159 alignedTo MD635-F63-2016.05.19-08.39.03_MD635_2_0188 @156\n"
     ]
    },
    {
     "name": "stdout",
     "output_type": "stream",
     "text": [
      "('MD635', 160)\n",
      "('MD635', 161)\n"
     ]
    },
    {
     "name": "stderr",
     "output_type": "stream",
     "text": [
      "Patch in annotation but not in mask: MD635 161 MD635-F54-2016.05.19-05.34.49_MD635_3_0162 alignedTo MD635-F63-2016.05.19-08.39.03_MD635_2_0188 @204\n"
     ]
    },
    {
     "name": "stdout",
     "output_type": "stream",
     "text": [
      "('MD635', 162)\n",
      "('MD635', 163)\n"
     ]
    },
    {
     "name": "stderr",
     "output_type": "stream",
     "text": [
      "Patch in annotation but not in mask: MD635 163 MD635-F55-2016.05.23-16.24.34_MD635_3_0165 alignedTo MD635-F63-2016.05.19-08.39.03_MD635_2_0188 @20\n",
      "Patch in annotation but not in mask: MD635 163 MD635-F55-2016.05.23-16.24.34_MD635_3_0165 alignedTo MD635-F63-2016.05.19-08.39.03_MD635_2_0188 @90\n"
     ]
    },
    {
     "name": "stdout",
     "output_type": "stream",
     "text": [
      "('MD635', 164)\n",
      "('MD635', 165)\n",
      "('MD635', 166)\n",
      "('MD635', 167)\n"
     ]
    },
    {
     "name": "stderr",
     "output_type": "stream",
     "text": [
      "Patch in annotation but not in mask: MD635 167 MD635-F57-2016.05.19-06.32.00_MD635_2_0170 alignedTo MD635-F63-2016.05.19-08.39.03_MD635_2_0188 @10040\n"
     ]
    },
    {
     "name": "stdout",
     "output_type": "stream",
     "text": [
      "('MD635', 168)\n",
      "('MD635', 169)\n"
     ]
    },
    {
     "name": "stderr",
     "output_type": "stream",
     "text": [
      "Patch in annotation but not in mask: MD635 169 MD635-F58-2016.05.19-06.52.57_MD635_2_0173 alignedTo MD635-F63-2016.05.19-08.39.03_MD635_2_0188 @85\n",
      "Patch in annotation but not in mask: MD635 169 MD635-F58-2016.05.19-06.52.57_MD635_2_0173 alignedTo MD635-F63-2016.05.19-08.39.03_MD635_2_0188 @38\n"
     ]
    },
    {
     "name": "stdout",
     "output_type": "stream",
     "text": [
      "('MD635', 170)\n",
      "('MD635', 171)\n"
     ]
    },
    {
     "name": "stderr",
     "output_type": "stream",
     "text": [
      "Patch in annotation but not in mask: MD635 171 MD635-F59-2016.05.19-07.14.24_MD635_2_0176 alignedTo MD635-F63-2016.05.19-08.39.03_MD635_2_0188 @186\n"
     ]
    },
    {
     "name": "stdout",
     "output_type": "stream",
     "text": [
      "('MD635', 172)\n",
      "('MD635', 173)\n",
      "('MD635', 174)\n",
      "('MD635', 175)\n",
      "('MD635', 176)\n",
      "('MD635', 177)\n",
      "('MD635', 178)\n"
     ]
    },
    {
     "name": "stderr",
     "output_type": "stream",
     "text": [
      "Patch in annotation but not in mask: MD635 178 MD635-F63-2016.05.19-08.39.03_MD635_1_0187 alignedTo MD635-F63-2016.05.19-08.39.03_MD635_2_0188 @57\n"
     ]
    },
    {
     "name": "stdout",
     "output_type": "stream",
     "text": [
      "('MD635', 179)\n"
     ]
    },
    {
     "name": "stderr",
     "output_type": "stream",
     "text": [
      "Patch in annotation but not in mask: MD635 179 MD635-F63-2016.05.19-08.39.03_MD635_2_0188 alignedTo MD635-F63-2016.05.19-08.39.03_MD635_2_0188 @26\n",
      "Patch in annotation but not in mask: MD635 179 MD635-F63-2016.05.19-08.39.03_MD635_2_0188 alignedTo MD635-F63-2016.05.19-08.39.03_MD635_2_0188 @192\n"
     ]
    },
    {
     "name": "stdout",
     "output_type": "stream",
     "text": [
      "('MD635', 180)\n",
      "('MD635', 181)\n"
     ]
    },
    {
     "name": "stderr",
     "output_type": "stream",
     "text": [
      "Patch in annotation but not in mask: MD635 181 MD635-F64-2016.05.19-09.00.59_MD635_2_0191 alignedTo MD635-F63-2016.05.19-08.39.03_MD635_2_0188 @120\n"
     ]
    },
    {
     "name": "stdout",
     "output_type": "stream",
     "text": [
      "('MD635', 182)\n",
      "('MD635', 183)\n",
      "('MD635', 184)\n",
      "('MD635', 185)\n",
      "('MD635', 186)\n"
     ]
    },
    {
     "name": "stderr",
     "output_type": "stream",
     "text": [
      "Patch in annotation but not in mask: MD635 186 MD635-F67-2016.05.19-09.59.06_MD635_1_0199 alignedTo MD635-F63-2016.05.19-08.39.03_MD635_2_0188 @21\n"
     ]
    },
    {
     "name": "stdout",
     "output_type": "stream",
     "text": [
      "('MD635', 187)\n",
      "('MD635', 188)\n"
     ]
    },
    {
     "name": "stderr",
     "output_type": "stream",
     "text": [
      "Patch in annotation but not in mask: MD635 188 MD635-F68-2016.05.19-10.18.40_MD635_1_0202 alignedTo MD635-F63-2016.05.19-08.39.03_MD635_2_0188 @165\n"
     ]
    },
    {
     "name": "stdout",
     "output_type": "stream",
     "text": [
      "('MD635', 189)\n",
      "('MD635', 190)\n",
      "('MD635', 191)\n",
      "('MD635', 192)\n"
     ]
    },
    {
     "name": "stderr",
     "output_type": "stream",
     "text": [
      "Patch in annotation but not in mask: MD635 192 MD635-F70-2016.05.19-10.57.59_MD635_1_0208 alignedTo MD635-F63-2016.05.19-08.39.03_MD635_2_0188 @72\n"
     ]
    },
    {
     "name": "stdout",
     "output_type": "stream",
     "text": [
      "('MD635', 193)\n"
     ]
    },
    {
     "name": "stderr",
     "output_type": "stream",
     "text": [
      "Patch in annotation but not in mask: MD635 193 MD635-F70-2016.05.19-10.57.59_MD635_2_0209 alignedTo MD635-F63-2016.05.19-08.39.03_MD635_2_0188 @136\n"
     ]
    },
    {
     "name": "stdout",
     "output_type": "stream",
     "text": [
      "('MD635', 194)\n"
     ]
    },
    {
     "name": "stderr",
     "output_type": "stream",
     "text": [
      "Patch in annotation but not in mask: MD635 194 MD635-F71-2016.05.19-11.17.07_MD635_1_0211 alignedTo MD635-F63-2016.05.19-08.39.03_MD635_2_0188 @176\n"
     ]
    },
    {
     "name": "stdout",
     "output_type": "stream",
     "text": [
      "('MD635', 195)\n",
      "('MD635', 196)\n"
     ]
    },
    {
     "name": "stderr",
     "output_type": "stream",
     "text": [
      "Patch in annotation but not in mask: MD635 196 MD635-F72-2016.05.19-11.37.07_MD635_1_0214 alignedTo MD635-F63-2016.05.19-08.39.03_MD635_2_0188 @108\n"
     ]
    },
    {
     "name": "stdout",
     "output_type": "stream",
     "text": [
      "('MD635', 197)\n"
     ]
    },
    {
     "name": "stderr",
     "output_type": "stream",
     "text": [
      "Patch in annotation but not in mask: MD635 197 MD635-F72-2016.05.19-11.37.07_MD635_2_0215 alignedTo MD635-F63-2016.05.19-08.39.03_MD635_2_0188 @103\n"
     ]
    },
    {
     "name": "stdout",
     "output_type": "stream",
     "text": [
      "('MD635', 198)\n"
     ]
    },
    {
     "name": "stderr",
     "output_type": "stream",
     "text": [
      "Patch in annotation but not in mask: MD635 198 MD635-F73-2016.05.19-11.56.44_MD635_1_0217 alignedTo MD635-F63-2016.05.19-08.39.03_MD635_2_0188 @231\n"
     ]
    },
    {
     "name": "stdout",
     "output_type": "stream",
     "text": [
      "('MD635', 199)\n"
     ]
    },
    {
     "name": "stderr",
     "output_type": "stream",
     "text": [
      "Patch in annotation but not in mask: MD635 199 MD635-F73-2016.05.19-11.56.44_MD635_2_0218 alignedTo MD635-F63-2016.05.19-08.39.03_MD635_2_0188 @35\n"
     ]
    },
    {
     "name": "stdout",
     "output_type": "stream",
     "text": [
      "('MD635', 200)\n"
     ]
    },
    {
     "name": "stderr",
     "output_type": "stream",
     "text": [
      "Patch in annotation but not in mask: MD635 200 MD635-F74-2016.05.19-12.15.18_MD635_1_0220 alignedTo MD635-F63-2016.05.19-08.39.03_MD635_2_0188 @21533\n",
      "Patch in annotation but not in mask: MD635 200 MD635-F74-2016.05.19-12.15.18_MD635_1_0220 alignedTo MD635-F63-2016.05.19-08.39.03_MD635_2_0188 @23044\n",
      "Patch in annotation but not in mask: MD635 200 MD635-F74-2016.05.19-12.15.18_MD635_1_0220 alignedTo MD635-F63-2016.05.19-08.39.03_MD635_2_0188 @20782\n",
      "Patch in annotation but not in mask: MD635 200 MD635-F74-2016.05.19-12.15.18_MD635_1_0220 alignedTo MD635-F63-2016.05.19-08.39.03_MD635_2_0188 @21032\n",
      "Patch in annotation but not in mask: MD635 200 MD635-F74-2016.05.19-12.15.18_MD635_1_0220 alignedTo MD635-F63-2016.05.19-08.39.03_MD635_2_0188 @22043\n",
      "Patch in annotation but not in mask: MD635 200 MD635-F74-2016.05.19-12.15.18_MD635_1_0220 alignedTo MD635-F63-2016.05.19-08.39.03_MD635_2_0188 @21036\n",
      "Patch in annotation but not in mask: MD635 200 MD635-F74-2016.05.19-12.15.18_MD635_1_0220 alignedTo MD635-F63-2016.05.19-08.39.03_MD635_2_0188 @21030\n",
      "Patch in annotation but not in mask: MD635 200 MD635-F74-2016.05.19-12.15.18_MD635_1_0220 alignedTo MD635-F63-2016.05.19-08.39.03_MD635_2_0188 @21788\n",
      "Patch in annotation but not in mask: MD635 200 MD635-F74-2016.05.19-12.15.18_MD635_1_0220 alignedTo MD635-F63-2016.05.19-08.39.03_MD635_2_0188 @22794\n",
      "Patch in annotation but not in mask: MD635 200 MD635-F74-2016.05.19-12.15.18_MD635_1_0220 alignedTo MD635-F63-2016.05.19-08.39.03_MD635_2_0188 @20533\n",
      "Patch in annotation but not in mask: MD635 200 MD635-F74-2016.05.19-12.15.18_MD635_1_0220 alignedTo MD635-F63-2016.05.19-08.39.03_MD635_2_0188 @23046\n",
      "Patch in annotation but not in mask: MD635 200 MD635-F74-2016.05.19-12.15.18_MD635_1_0220 alignedTo MD635-F63-2016.05.19-08.39.03_MD635_2_0188 @22040\n",
      "Patch in annotation but not in mask: MD635 200 MD635-F74-2016.05.19-12.15.18_MD635_1_0220 alignedTo MD635-F63-2016.05.19-08.39.03_MD635_2_0188 @20779\n",
      "Patch in annotation but not in mask: MD635 200 MD635-F74-2016.05.19-12.15.18_MD635_1_0220 alignedTo MD635-F63-2016.05.19-08.39.03_MD635_2_0188 @21282\n",
      "Patch in annotation but not in mask: MD635 200 MD635-F74-2016.05.19-12.15.18_MD635_1_0220 alignedTo MD635-F63-2016.05.19-08.39.03_MD635_2_0188 @20781\n",
      "Patch in annotation but not in mask: MD635 200 MD635-F74-2016.05.19-12.15.18_MD635_1_0220 alignedTo MD635-F63-2016.05.19-08.39.03_MD635_2_0188 @21537\n",
      "Patch in annotation but not in mask: MD635 200 MD635-F74-2016.05.19-12.15.18_MD635_1_0220 alignedTo MD635-F63-2016.05.19-08.39.03_MD635_2_0188 @21038\n",
      "Patch in annotation but not in mask: MD635 200 MD635-F74-2016.05.19-12.15.18_MD635_1_0220 alignedTo MD635-F63-2016.05.19-08.39.03_MD635_2_0188 @20281\n",
      "Patch in annotation but not in mask: MD635 200 MD635-F74-2016.05.19-12.15.18_MD635_1_0220 alignedTo MD635-F63-2016.05.19-08.39.03_MD635_2_0188 @21030\n",
      "Patch in annotation but not in mask: MD635 200 MD635-F74-2016.05.19-12.15.18_MD635_1_0220 alignedTo MD635-F63-2016.05.19-08.39.03_MD635_2_0188 @23046\n",
      "Patch in annotation but not in mask: MD635 200 MD635-F74-2016.05.19-12.15.18_MD635_1_0220 alignedTo MD635-F63-2016.05.19-08.39.03_MD635_2_0188 @21284\n",
      "Patch in annotation but not in mask: MD635 200 MD635-F74-2016.05.19-12.15.18_MD635_1_0220 alignedTo MD635-F63-2016.05.19-08.39.03_MD635_2_0188 @22542\n",
      "Patch in annotation but not in mask: MD635 200 MD635-F74-2016.05.19-12.15.18_MD635_1_0220 alignedTo MD635-F63-2016.05.19-08.39.03_MD635_2_0188 @20280\n",
      "Patch in annotation but not in mask: MD635 200 MD635-F74-2016.05.19-12.15.18_MD635_1_0220 alignedTo MD635-F63-2016.05.19-08.39.03_MD635_2_0188 @20279\n",
      "Patch in annotation but not in mask: MD635 200 MD635-F74-2016.05.19-12.15.18_MD635_1_0220 alignedTo MD635-F63-2016.05.19-08.39.03_MD635_2_0188 @21287\n",
      "Patch in annotation but not in mask: MD635 200 MD635-F74-2016.05.19-12.15.18_MD635_1_0220 alignedTo MD635-F63-2016.05.19-08.39.03_MD635_2_0188 @22040\n",
      "Patch in annotation but not in mask: MD635 200 MD635-F74-2016.05.19-12.15.18_MD635_1_0220 alignedTo MD635-F63-2016.05.19-08.39.03_MD635_2_0188 @19528\n",
      "Patch in annotation but not in mask: MD635 200 MD635-F74-2016.05.19-12.15.18_MD635_1_0220 alignedTo MD635-F63-2016.05.19-08.39.03_MD635_2_0188 @20778\n",
      "Patch in annotation but not in mask: MD635 200 MD635-F74-2016.05.19-12.15.18_MD635_1_0220 alignedTo MD635-F63-2016.05.19-08.39.03_MD635_2_0188 @21290\n",
      "Patch in annotation but not in mask: MD635 200 MD635-F74-2016.05.19-12.15.18_MD635_1_0220 alignedTo MD635-F63-2016.05.19-08.39.03_MD635_2_0188 @21291\n",
      "Patch in annotation but not in mask: MD635 200 MD635-F74-2016.05.19-12.15.18_MD635_1_0220 alignedTo MD635-F63-2016.05.19-08.39.03_MD635_2_0188 @22038\n"
     ]
    },
    {
     "name": "stdout",
     "output_type": "stream",
     "text": [
      "('MD635', 201)\n",
      "('MD635', 202)\n"
     ]
    },
    {
     "name": "stderr",
     "output_type": "stream",
     "text": [
      "Patch in annotation but not in mask: MD635 202 MD635-F75-2016.05.19-12.32.46_MD635_1_0223 alignedTo MD635-F63-2016.05.19-08.39.03_MD635_2_0188 @120\n",
      "Patch in annotation but not in mask: MD635 202 MD635-F75-2016.05.19-12.32.46_MD635_1_0223 alignedTo MD635-F63-2016.05.19-08.39.03_MD635_2_0188 @198\n",
      "Patch in annotation but not in mask: MD635 202 MD635-F75-2016.05.19-12.32.46_MD635_1_0223 alignedTo MD635-F63-2016.05.19-08.39.03_MD635_2_0188 @174\n"
     ]
    },
    {
     "name": "stdout",
     "output_type": "stream",
     "text": [
      "('MD635', 203)\n"
     ]
    },
    {
     "name": "stderr",
     "output_type": "stream",
     "text": [
      "Patch in annotation but not in mask: MD635 203 MD635-F75-2016.05.19-12.32.46_MD635_2_0224 alignedTo MD635-F63-2016.05.19-08.39.03_MD635_2_0188 @187\n",
      "Patch in annotation but not in mask: MD635 203 MD635-F75-2016.05.19-12.32.46_MD635_2_0224 alignedTo MD635-F63-2016.05.19-08.39.03_MD635_2_0188 @53\n"
     ]
    },
    {
     "name": "stdout",
     "output_type": "stream",
     "text": [
      "('MD635', 204)\n"
     ]
    },
    {
     "name": "stderr",
     "output_type": "stream",
     "text": [
      "Patch in annotation but not in mask: MD635 204 MD635-F76-2016.05.19-12.50.14_MD635_1_0226 alignedTo MD635-F63-2016.05.19-08.39.03_MD635_2_0188 @114\n"
     ]
    },
    {
     "name": "stdout",
     "output_type": "stream",
     "text": [
      "('MD635', 206)\n"
     ]
    },
    {
     "name": "stderr",
     "output_type": "stream",
     "text": [
      "Patch in annotation but not in mask: MD635 206 MD635-F77-2016.05.19-13.07.42_MD635_1_0229 alignedTo MD635-F63-2016.05.19-08.39.03_MD635_2_0188 @230\n",
      "Patch in annotation but not in mask: MD635 206 MD635-F77-2016.05.19-13.07.42_MD635_1_0229 alignedTo MD635-F63-2016.05.19-08.39.03_MD635_2_0188 @155\n"
     ]
    },
    {
     "name": "stdout",
     "output_type": "stream",
     "text": [
      "('MD635', 207)\n"
     ]
    },
    {
     "name": "stderr",
     "output_type": "stream",
     "text": [
      "Patch in annotation but not in mask: MD635 207 MD635-F77-2016.05.19-13.07.42_MD635_2_0230 alignedTo MD635-F63-2016.05.19-08.39.03_MD635_2_0188 @60\n"
     ]
    },
    {
     "name": "stdout",
     "output_type": "stream",
     "text": [
      "('MD635', 208)\n",
      "('MD635', 209)\n",
      "('MD635', 210)\n",
      "('MD635', 211)\n"
     ]
    },
    {
     "name": "stderr",
     "output_type": "stream",
     "text": [
      "Patch in annotation but not in mask: MD635 211 MD635-F79-2016.05.19-13.44.43_MD635_2_0236 alignedTo MD635-F63-2016.05.19-08.39.03_MD635_2_0188 @231\n",
      "Patch in annotation but not in mask: MD635 211 MD635-F79-2016.05.19-13.44.43_MD635_2_0236 alignedTo MD635-F63-2016.05.19-08.39.03_MD635_2_0188 @176\n"
     ]
    },
    {
     "name": "stdout",
     "output_type": "stream",
     "text": [
      "('MD635', 212)\n"
     ]
    },
    {
     "name": "stderr",
     "output_type": "stream",
     "text": [
      "Patch in annotation but not in mask: MD635 212 MD635-F80-2016.05.19-14.03.50_MD635_1_0238 alignedTo MD635-F63-2016.05.19-08.39.03_MD635_2_0188 @186\n",
      "Patch in annotation but not in mask: MD635 212 MD635-F80-2016.05.19-14.03.50_MD635_1_0238 alignedTo MD635-F63-2016.05.19-08.39.03_MD635_2_0188 @140\n"
     ]
    },
    {
     "name": "stdout",
     "output_type": "stream",
     "text": [
      "('MD635', 213)\n",
      "('MD635', 214)\n",
      "('MD635', 216)\n"
     ]
    },
    {
     "name": "stderr",
     "output_type": "stream",
     "text": [
      "Patch in annotation but not in mask: MD635 216 MD635-F82-2016.05.19-14.39.57_MD635_1_0244 alignedTo MD635-F63-2016.05.19-08.39.03_MD635_2_0188 @209\n"
     ]
    },
    {
     "name": "stdout",
     "output_type": "stream",
     "text": [
      "('MD635', 217)\n",
      "('MD635', 218)\n",
      "('MD635', 219)\n",
      "('MD635', 220)\n",
      "('MD635', 221)\n"
     ]
    },
    {
     "name": "stderr",
     "output_type": "stream",
     "text": [
      "Patch in annotation but not in mask: MD635 221 MD635-F84-2016.05.19-15.18.11_MD635_2_0251 alignedTo MD635-F63-2016.05.19-08.39.03_MD635_2_0188 @60\n"
     ]
    },
    {
     "name": "stdout",
     "output_type": "stream",
     "text": [
      "('MD635', 222)\n",
      "('MD635', 223)\n"
     ]
    },
    {
     "name": "stderr",
     "output_type": "stream",
     "text": [
      "Patch in annotation but not in mask: MD635 223 MD635-F85-2016.05.19-15.36.47_MD635_2_0254 alignedTo MD635-F63-2016.05.19-08.39.03_MD635_2_0188 @191\n"
     ]
    },
    {
     "name": "stdout",
     "output_type": "stream",
     "text": [
      "('MD635', 224)\n",
      "('MD635', 225)\n"
     ]
    },
    {
     "name": "stderr",
     "output_type": "stream",
     "text": [
      "Patch in annotation but not in mask: MD635 225 MD635-F86-2016.05.19-15.55.34_MD635_2_0257 alignedTo MD635-F63-2016.05.19-08.39.03_MD635_2_0188 @200\n"
     ]
    },
    {
     "name": "stdout",
     "output_type": "stream",
     "text": [
      "('MD635', 226)\n",
      "('MD635', 227)\n"
     ]
    },
    {
     "name": "stderr",
     "output_type": "stream",
     "text": [
      "Patch in annotation but not in mask: MD635 227 MD635-F87-2016.05.19-16.15.25_MD635_2_0260 alignedTo MD635-F63-2016.05.19-08.39.03_MD635_2_0188 @139\n"
     ]
    },
    {
     "name": "stdout",
     "output_type": "stream",
     "text": [
      "('MD635', 228)\n",
      "('MD635', 229)\n"
     ]
    },
    {
     "name": "stderr",
     "output_type": "stream",
     "text": [
      "Patch in annotation but not in mask: MD635 229 MD635-F88-2016.05.19-16.34.48_MD635_2_0263 alignedTo MD635-F63-2016.05.19-08.39.03_MD635_2_0188 @57\n"
     ]
    },
    {
     "name": "stdout",
     "output_type": "stream",
     "text": [
      "('MD635', 230)\n",
      "('MD635', 231)\n"
     ]
    },
    {
     "name": "stderr",
     "output_type": "stream",
     "text": [
      "Patch in annotation but not in mask: MD635 231 MD635-F89-2016.05.19-16.53.54_MD635_2_0266 alignedTo MD635-F63-2016.05.19-08.39.03_MD635_2_0188 @118\n",
      "Patch in annotation but not in mask: MD635 231 MD635-F89-2016.05.19-16.53.54_MD635_2_0266 alignedTo MD635-F63-2016.05.19-08.39.03_MD635_2_0188 @169\n"
     ]
    },
    {
     "name": "stdout",
     "output_type": "stream",
     "text": [
      "('MD635', 233)\n",
      "('MD635', 234)\n"
     ]
    },
    {
     "name": "stderr",
     "output_type": "stream",
     "text": [
      "Patch in annotation but not in mask: MD635 234 MD635-F91-2016.05.19-17.33.31_MD635_1_0271 alignedTo MD635-F63-2016.05.19-08.39.03_MD635_2_0188 @129\n"
     ]
    },
    {
     "name": "stdout",
     "output_type": "stream",
     "text": [
      "('MD635', 235)\n"
     ]
    },
    {
     "name": "stderr",
     "output_type": "stream",
     "text": [
      "Patch in annotation but not in mask: MD635 235 MD635-F91-2016.05.19-17.33.31_MD635_2_0272 alignedTo MD635-F63-2016.05.19-08.39.03_MD635_2_0188 @57\n"
     ]
    },
    {
     "name": "stdout",
     "output_type": "stream",
     "text": [
      "('MD635', 236)\n"
     ]
    },
    {
     "name": "stderr",
     "output_type": "stream",
     "text": [
      "Patch in annotation but not in mask: MD635 236 MD635-F92-2016.05.19-17.52.45_MD635_1_0274 alignedTo MD635-F63-2016.05.19-08.39.03_MD635_2_0188 @91\n"
     ]
    },
    {
     "name": "stdout",
     "output_type": "stream",
     "text": [
      "('MD635', 237)\n",
      "('MD635', 238)\n",
      "('MD635', 239)\n"
     ]
    },
    {
     "name": "stderr",
     "output_type": "stream",
     "text": [
      "Patch in annotation but not in mask: MD635 239 MD635-F93-2016.05.19-18.12.24_MD635_2_0278 alignedTo MD635-F63-2016.05.19-08.39.03_MD635_2_0188 @175\n"
     ]
    },
    {
     "name": "stdout",
     "output_type": "stream",
     "text": [
      "('MD635', 240)\n"
     ]
    }
   ],
   "source": [
    "training_features = apply_function_to_dict(addresses_to_features, training_addresses)"
   ]
  },
  {
   "cell_type": "code",
   "execution_count": 26,
   "metadata": {
    "collapsed": true
   },
   "outputs": [],
   "source": [
    "# Remove addresses whose features are None\n",
    "for name in labels:\n",
    "    valid = [(ftr, addr) for ftr, addr in zip(training_features[name], training_addresses[name])\n",
    "                if ftr is not None]\n",
    "    res = zip(*valid)\n",
    "    training_features[name] = np.array(res[0])\n",
    "    training_addresses[name] = res[1]"
   ]
  },
  {
   "cell_type": "code",
   "execution_count": 30,
   "metadata": {
    "collapsed": false,
    "scrolled": true
   },
   "outputs": [
    {
     "name": "stdout",
     "output_type": "stream",
     "text": [
      "10N 1000\n",
      "10N_negative 999\n",
      "10N_surround_1000_12N 1000\n",
      "10N_surround_1000_AP 292\n",
      "10N_surround_1000_noclass 1000\n",
      "10N_surround_100_12N 78\n",
      "10N_surround_100_noclass 1000\n",
      "10N_surround_200_12N 1000\n",
      "10N_surround_200_noclass 1000\n",
      "10N_surround_300_12N 1000\n",
      "10N_surround_300_noclass 1000\n",
      "10N_surround_400_12N 1000\n",
      "10N_surround_400_AP 13\n",
      "10N_surround_400_noclass 1000\n",
      "10N_surround_500_12N 1000\n",
      "10N_surround_500_AP 76\n",
      "10N_surround_500_noclass 1000\n",
      "10N_surround_600_12N 1000\n",
      "10N_surround_600_AP 124\n",
      "10N_surround_600_noclass 1000\n",
      "10N_surround_700_12N 1000\n",
      "10N_surround_700_AP 164\n",
      "10N_surround_700_noclass 1000\n",
      "10N_surround_800_12N 1000\n",
      "10N_surround_800_AP 207\n",
      "10N_surround_800_noclass 1000\n",
      "10N_surround_900_12N 1000\n",
      "10N_surround_900_AP 246\n",
      "10N_surround_900_noclass 1000\n",
      "12N 1000\n",
      "12N_negative 995\n",
      "12N_surround_1000_10N 1000\n",
      "12N_surround_1000_AP 923\n",
      "12N_surround_1000_noclass 1000\n",
      "12N_surround_100_10N 89\n",
      "12N_surround_100_noclass 1000\n",
      "12N_surround_200_10N 1000\n",
      "12N_surround_200_noclass 1000\n",
      "12N_surround_300_10N 1000\n",
      "12N_surround_300_noclass 1000\n",
      "12N_surround_400_10N 1000\n",
      "12N_surround_400_AP 2\n",
      "12N_surround_400_noclass 1000\n",
      "12N_surround_500_10N 1000\n",
      "12N_surround_500_AP 106\n",
      "12N_surround_500_noclass 1000\n",
      "12N_surround_600_10N 1000\n",
      "12N_surround_600_AP 426\n",
      "12N_surround_600_noclass 1000\n",
      "12N_surround_700_10N 1000\n",
      "12N_surround_700_AP 728\n",
      "12N_surround_700_noclass 1000\n",
      "12N_surround_800_10N 1000\n",
      "12N_surround_800_AP 884\n",
      "12N_surround_800_noclass 1000\n",
      "12N_surround_900_10N 1000\n",
      "12N_surround_900_AP 920\n",
      "12N_surround_900_noclass 1000\n",
      "5N 1000\n",
      "5N_negative 996\n",
      "5N_surround_1000_7n 218\n",
      "5N_surround_1000_VLL 37\n",
      "5N_surround_1000_noclass 1000\n",
      "5N_surround_100_noclass 1000\n",
      "5N_surround_200_noclass 1000\n",
      "5N_surround_300_noclass 1000\n",
      "5N_surround_400_noclass 1000\n",
      "5N_surround_500_noclass 1000\n",
      "5N_surround_600_7n 8\n",
      "5N_surround_600_noclass 1000\n",
      "5N_surround_700_7n 33\n",
      "5N_surround_700_noclass 1000\n",
      "5N_surround_800_7n 74\n",
      "5N_surround_800_noclass 1000\n",
      "5N_surround_900_7n 135\n",
      "5N_surround_900_VLL 1\n",
      "5N_surround_900_noclass 1000\n",
      "6N 496\n",
      "6N_negative 994\n",
      "6N_surround_1000_7n 101\n",
      "6N_surround_1000_noclass 1000\n",
      "6N_surround_100_7n 11\n",
      "6N_surround_100_noclass 758\n",
      "6N_surround_200_7n 49\n",
      "6N_surround_200_noclass 1000\n",
      "6N_surround_300_7n 79\n",
      "6N_surround_300_noclass 1000\n",
      "6N_surround_400_7n 95\n",
      "6N_surround_400_noclass 1000\n",
      "6N_surround_500_7n 101\n",
      "6N_surround_500_noclass 1000\n",
      "6N_surround_600_7n 101\n",
      "6N_surround_600_noclass 1000\n",
      "6N_surround_700_7n 101\n",
      "6N_surround_700_noclass 1000\n",
      "6N_surround_800_7n 101\n",
      "6N_surround_800_noclass 1000\n",
      "6N_surround_900_7n 101\n",
      "6N_surround_900_noclass 1000\n",
      "7N 998\n",
      "7N_negative 999\n",
      "7N_surround_1000_7n 1000\n",
      "7N_surround_1000_noclass 1000\n",
      "7N_surround_100_noclass 1000\n",
      "7N_surround_200_noclass 1000\n",
      "7N_surround_300_7n 1\n",
      "7N_surround_300_noclass 1000\n",
      "7N_surround_400_7n 29\n",
      "7N_surround_400_noclass 1000\n",
      "7N_surround_500_7n 110\n",
      "7N_surround_500_noclass 1000\n",
      "7N_surround_600_7n 262\n",
      "7N_surround_600_noclass 1000\n",
      "7N_surround_700_7n 465\n",
      "7N_surround_700_noclass 1000\n",
      "7N_surround_800_7n 769\n",
      "7N_surround_800_noclass 1000\n",
      "7N_surround_900_7n 1000\n",
      "7N_surround_900_noclass 1000\n",
      "7n 1000\n",
      "7n_negative 994\n",
      "7n_surround_1000_5N 267\n",
      "7n_surround_1000_6N 125\n",
      "7n_surround_1000_7N 1000\n",
      "7n_surround_1000_LC 50\n",
      "7n_surround_1000_noclass 1000\n",
      "7n_surround_100_6N 16\n",
      "7n_surround_100_noclass 1000\n",
      "7n_surround_200_6N 54\n",
      "7n_surround_200_noclass 1000\n",
      "7n_surround_300_6N 101\n",
      "7n_surround_300_7N 1\n",
      "7n_surround_300_noclass 1000\n",
      "7n_surround_400_6N 122\n",
      "7n_surround_400_7N 26\n",
      "7n_surround_400_noclass 1000\n",
      "7n_surround_500_6N 125\n",
      "7n_surround_500_7N 108\n",
      "7n_surround_500_noclass 1000\n",
      "7n_surround_600_5N 8\n",
      "7n_surround_600_6N 125\n",
      "7n_surround_600_7N 261\n",
      "7n_surround_600_noclass 1000\n",
      "7n_surround_700_5N 27\n",
      "7n_surround_700_6N 125\n",
      "7n_surround_700_7N 490\n",
      "7n_surround_700_noclass 1000\n",
      "7n_surround_800_5N 69\n",
      "7n_surround_800_6N 125\n",
      "7n_surround_800_7N 834\n",
      "7n_surround_800_LC 4\n",
      "7n_surround_800_noclass 1000\n",
      "7n_surround_900_5N 145\n",
      "7n_surround_900_6N 125\n",
      "7n_surround_900_7N 1000\n",
      "7n_surround_900_LC 19\n",
      "7n_surround_900_noclass 1000\n",
      "AP 923\n",
      "AP_negative 999\n",
      "AP_surround_1000_10N 273\n",
      "AP_surround_1000_12N 1000\n",
      "AP_surround_1000_noclass 1000\n",
      "AP_surround_100_noclass 1000\n",
      "AP_surround_200_noclass 1000\n",
      "AP_surround_300_noclass 1000\n",
      "AP_surround_400_10N 16\n",
      "AP_surround_400_12N 2\n",
      "AP_surround_400_noclass 1000\n",
      "AP_surround_500_10N 58\n",
      "AP_surround_500_12N 142\n",
      "AP_surround_500_noclass 1000\n",
      "AP_surround_600_10N 107\n",
      "AP_surround_600_12N 661\n",
      "AP_surround_600_noclass 1000\n",
      "AP_surround_700_10N 151\n",
      "AP_surround_700_12N 1000\n",
      "AP_surround_700_noclass 1000\n",
      "AP_surround_800_10N 190\n",
      "AP_surround_800_12N 1000\n",
      "AP_surround_800_noclass 1000\n",
      "AP_surround_900_10N 230\n",
      "AP_surround_900_12N 1000\n",
      "AP_surround_900_noclass 1000\n",
      "DC 1000\n",
      "DC_negative 994\n",
      "DC_surround_1000_VCA 1000\n",
      "DC_surround_1000_VCP 1000\n",
      "DC_surround_1000_noclass 1000\n",
      "DC_surround_100_noclass 1000\n",
      "DC_surround_200_VCA 5\n",
      "DC_surround_200_VCP 29\n",
      "DC_surround_200_noclass 1000\n",
      "DC_surround_300_VCA 136\n",
      "DC_surround_300_VCP 210\n",
      "DC_surround_300_noclass 1000\n",
      "DC_surround_400_VCA 455\n",
      "DC_surround_400_VCP 569\n",
      "DC_surround_400_noclass 1000\n",
      "DC_surround_500_VCA 888\n",
      "DC_surround_500_VCP 981\n",
      "DC_surround_500_noclass 1000\n",
      "DC_surround_600_VCA 1000\n",
      "DC_surround_600_VCP 1000\n",
      "DC_surround_600_noclass 1000\n",
      "DC_surround_700_VCA 1000\n",
      "DC_surround_700_VCP 1000\n",
      "DC_surround_700_noclass 1000\n",
      "DC_surround_800_VCA 1000\n",
      "DC_surround_800_VCP 1000\n",
      "DC_surround_800_noclass 1000\n",
      "DC_surround_900_VCA 1000\n",
      "DC_surround_900_VCP 1000\n",
      "DC_surround_900_noclass 1000\n",
      "IC 1000\n",
      "IC_negative 995\n",
      "IC_surround_1000_SC 1000\n",
      "IC_surround_1000_noclass 1000\n",
      "IC_surround_100_SC 592\n",
      "IC_surround_100_noclass 1000\n",
      "IC_surround_200_SC 1000\n",
      "IC_surround_200_noclass 1000\n",
      "IC_surround_300_SC 1000\n",
      "IC_surround_300_noclass 1000\n",
      "IC_surround_400_SC 1000\n",
      "IC_surround_400_noclass 1000\n",
      "IC_surround_500_SC 1000\n",
      "IC_surround_500_noclass 1000\n",
      "IC_surround_600_SC 1000\n",
      "IC_surround_600_noclass 1000\n",
      "IC_surround_700_SC 1000\n",
      "IC_surround_700_noclass 1000\n",
      "IC_surround_800_SC 1000\n",
      "IC_surround_800_noclass 1000\n",
      "IC_surround_900_SC 1000\n",
      "IC_surround_900_noclass 1000\n",
      "LC 1000\n",
      "LC_negative 999\n",
      "LC_surround_1000_7n 54\n",
      "LC_surround_1000_noclass 1000\n",
      "LC_surround_100_noclass 862\n",
      "LC_surround_200_noclass 1000\n",
      "LC_surround_300_noclass 1000\n",
      "LC_surround_400_noclass 1000\n",
      "LC_surround_500_noclass 1000\n",
      "LC_surround_600_noclass 1000\n",
      "LC_surround_700_noclass 1000\n",
      "LC_surround_800_7n 1\n",
      "LC_surround_800_noclass 1000\n",
      "LC_surround_900_7n 22\n",
      "LC_surround_900_noclass 1000\n",
      "Pn 996\n",
      "Pn_negative 997\n",
      "Pn_surround_1000_RtTg 1000\n",
      "Pn_surround_1000_SNR 503\n",
      "Pn_surround_1000_Tz 1000\n",
      "Pn_surround_1000_noclass 1000\n",
      "Pn_surround_100_RtTg 6\n",
      "Pn_surround_100_noclass 1000\n",
      "Pn_surround_200_RtTg 449\n",
      "Pn_surround_200_noclass 1000\n",
      "Pn_surround_300_RtTg 1000\n",
      "Pn_surround_300_noclass 1000\n",
      "Pn_surround_400_RtTg 1000\n",
      "Pn_surround_400_noclass 1000\n",
      "Pn_surround_500_RtTg 1000\n",
      "Pn_surround_500_Tz 5\n",
      "Pn_surround_500_noclass 1000\n",
      "Pn_surround_600_RtTg 1000\n",
      "Pn_surround_600_Tz 31\n",
      "Pn_surround_600_noclass 1000\n",
      "Pn_surround_700_RtTg 1000\n",
      "Pn_surround_700_SNR 7\n",
      "Pn_surround_700_Tz 156\n",
      "Pn_surround_700_noclass 1000\n",
      "Pn_surround_800_RtTg 1000\n",
      "Pn_surround_800_SNR 50\n",
      "Pn_surround_800_Tz 397\n",
      "Pn_surround_800_noclass 1000\n",
      "Pn_surround_900_RtTg 1000\n",
      "Pn_surround_900_SNR 199\n",
      "Pn_surround_900_Tz 736\n",
      "Pn_surround_900_noclass 1000\n",
      "RtTg 1000\n",
      "RtTg_negative 996\n",
      "RtTg_surround_1000_Pn 990\n",
      "RtTg_surround_1000_Tz 1000\n",
      "RtTg_surround_1000_noclass 1000\n",
      "RtTg_surround_100_Pn 7\n",
      "RtTg_surround_100_noclass 1000\n",
      "RtTg_surround_200_Pn 482\n",
      "RtTg_surround_200_Tz 3\n",
      "RtTg_surround_200_noclass 1000\n",
      "RtTg_surround_300_Pn 1000\n",
      "RtTg_surround_300_Tz 56\n",
      "RtTg_surround_300_noclass 1000\n",
      "RtTg_surround_400_Pn 1000\n",
      "RtTg_surround_400_Tz 230\n",
      "RtTg_surround_400_noclass 1000\n",
      "RtTg_surround_500_Pn 1000\n",
      "RtTg_surround_500_Tz 470\n",
      "RtTg_surround_500_noclass 1000\n",
      "RtTg_surround_600_Pn 998\n",
      "RtTg_surround_600_Tz 744\n",
      "RtTg_surround_600_noclass 1000\n",
      "RtTg_surround_700_Pn 995\n",
      "RtTg_surround_700_Tz 1000\n",
      "RtTg_surround_700_noclass 1000\n",
      "RtTg_surround_800_Pn 998\n",
      "RtTg_surround_800_Tz 1000\n",
      "RtTg_surround_800_noclass 1000\n",
      "RtTg_surround_900_Pn 992\n",
      "RtTg_surround_900_Tz 1000\n",
      "RtTg_surround_900_noclass 1000\n",
      "SC 1000\n",
      "SC_negative 993\n",
      "SC_surround_1000_IC 1000\n",
      "SC_surround_1000_noclass 1000\n",
      "SC_surround_100_IC 593\n",
      "SC_surround_100_noclass 1000\n",
      "SC_surround_200_IC 1000\n",
      "SC_surround_200_noclass 1000\n",
      "SC_surround_300_IC 1000\n",
      "SC_surround_300_noclass 1000\n",
      "SC_surround_400_IC 1000\n",
      "SC_surround_400_noclass 1000\n",
      "SC_surround_500_IC 1000\n",
      "SC_surround_500_noclass 1000\n",
      "SC_surround_600_IC 1000\n",
      "SC_surround_600_noclass 1000\n",
      "SC_surround_700_IC 1000\n",
      "SC_surround_700_noclass 1000\n",
      "SC_surround_800_IC 1000\n",
      "SC_surround_800_noclass 1000\n",
      "SC_surround_900_IC 1000\n",
      "SC_surround_900_noclass 1000\n",
      "SNC 949\n",
      "SNC_negative 993\n",
      "SNC_surround_1000_SNR 1000\n",
      "SNC_surround_1000_noclass 1000\n",
      "SNC_surround_100_SNR 5\n",
      "SNC_surround_100_noclass 1000\n",
      "SNC_surround_200_SNR 663\n",
      "SNC_surround_200_noclass 1000\n",
      "SNC_surround_300_SNR 1000\n",
      "SNC_surround_300_noclass 1000\n",
      "SNC_surround_400_SNR 1000\n",
      "SNC_surround_400_noclass 1000\n",
      "SNC_surround_500_SNR 1000\n",
      "SNC_surround_500_noclass 1000\n",
      "SNC_surround_600_SNR 1000\n",
      "SNC_surround_600_noclass 1000\n",
      "SNC_surround_700_SNR 1000\n",
      "SNC_surround_700_noclass 1000\n",
      "SNC_surround_800_SNR 1000\n",
      "SNC_surround_800_noclass 1000\n",
      "SNC_surround_900_SNR 1000\n",
      "SNC_surround_900_noclass 1000\n",
      "SNR 1000\n",
      "SNR_negative 999\n",
      "SNR_surround_1000_Pn 292\n",
      "SNR_surround_1000_SNC 949\n",
      "SNR_surround_1000_VLL 1000\n",
      "SNR_surround_1000_noclass 1000\n",
      "SNR_surround_100_SNC 6\n",
      "SNR_surround_100_noclass 1000\n",
      "SNR_surround_200_SNC 490\n",
      "SNR_surround_200_noclass 1000\n",
      "SNR_surround_300_SNC 857\n",
      "SNR_surround_300_noclass 1000\n",
      "SNR_surround_400_SNC 945\n",
      "SNR_surround_400_VLL 12\n",
      "SNR_surround_400_noclass 1000\n",
      "SNR_surround_500_SNC 949\n",
      "SNR_surround_500_VLL 240\n",
      "SNR_surround_500_noclass 1000\n",
      "SNR_surround_600_SNC 949\n",
      "SNR_surround_600_VLL 702\n",
      "SNR_surround_600_noclass 1000\n",
      "SNR_surround_700_Pn 4\n",
      "SNR_surround_700_SNC 949\n",
      "SNR_surround_700_VLL 1000\n",
      "SNR_surround_700_noclass 1000\n",
      "SNR_surround_800_Pn 39\n",
      "SNR_surround_800_SNC 949\n",
      "SNR_surround_800_VLL 1000\n",
      "SNR_surround_800_noclass 1000\n",
      "SNR_surround_900_Pn 136\n",
      "SNR_surround_900_SNC 949\n",
      "SNR_surround_900_VLL 1000\n",
      "SNR_surround_900_noclass 1000\n",
      "Sp5C 1000\n",
      "Sp5C_negative 991\n",
      "Sp5C_surround_1000_noclass 1000\n",
      "Sp5C_surround_100_noclass 936\n",
      "Sp5C_surround_200_noclass 1000\n",
      "Sp5C_surround_300_noclass 1000\n",
      "Sp5C_surround_400_noclass 1000\n",
      "Sp5C_surround_500_noclass 1000\n",
      "Sp5C_surround_600_noclass 1000\n",
      "Sp5C_surround_700_noclass 1000\n",
      "Sp5C_surround_800_noclass 1000\n",
      "Sp5C_surround_900_noclass 1000\n",
      "Tz 1000\n",
      "Tz_negative 996\n",
      "Tz_surround_1000_Pn 1000\n",
      "Tz_surround_1000_RtTg 1000\n",
      "Tz_surround_1000_noclass 1000\n",
      "Tz_surround_100_noclass 1000\n",
      "Tz_surround_200_RtTg 8\n",
      "Tz_surround_200_noclass 1000\n",
      "Tz_surround_300_RtTg 75\n",
      "Tz_surround_300_noclass 1000\n",
      "Tz_surround_400_RtTg 336\n",
      "Tz_surround_400_noclass 1000\n",
      "Tz_surround_500_Pn 7\n",
      "Tz_surround_500_RtTg 771\n",
      "Tz_surround_500_noclass 1000\n",
      "Tz_surround_600_Pn 36\n",
      "Tz_surround_600_RtTg 1000\n",
      "Tz_surround_600_noclass 1000\n",
      "Tz_surround_700_Pn 157\n",
      "Tz_surround_700_RtTg 1000\n",
      "Tz_surround_700_noclass 1000\n",
      "Tz_surround_800_Pn 415\n",
      "Tz_surround_800_RtTg 1000\n",
      "Tz_surround_800_noclass 1000\n",
      "Tz_surround_900_Pn 794\n",
      "Tz_surround_900_RtTg 1000\n",
      "Tz_surround_900_noclass 1000\n",
      "VCA 996\n",
      "VCA_negative 996\n",
      "VCA_surround_1000_DC 1000\n",
      "VCA_surround_1000_VCP 1000\n",
      "VCA_surround_1000_noclass 1000\n",
      "VCA_surround_100_VCP 73\n",
      "VCA_surround_100_noclass 1000\n",
      "VCA_surround_200_DC 5\n",
      "VCA_surround_200_VCP 408\n",
      "VCA_surround_200_noclass 1000\n",
      "VCA_surround_300_DC 149\n",
      "VCA_surround_300_VCP 916\n",
      "VCA_surround_300_noclass 1000\n",
      "VCA_surround_400_DC 493\n",
      "VCA_surround_400_VCP 1000\n",
      "VCA_surround_400_noclass 1000\n",
      "VCA_surround_500_DC 928\n",
      "VCA_surround_500_VCP 1000\n",
      "VCA_surround_500_noclass 1000\n",
      "VCA_surround_600_DC 1000\n",
      "VCA_surround_600_VCP 1000\n",
      "VCA_surround_600_noclass 1000\n",
      "VCA_surround_700_DC 1000\n",
      "VCA_surround_700_VCP 1000\n",
      "VCA_surround_700_noclass 1000\n",
      "VCA_surround_800_DC 1000\n",
      "VCA_surround_800_VCP 1000\n",
      "VCA_surround_800_noclass 1000\n",
      "VCA_surround_900_DC 1000\n",
      "VCA_surround_900_VCP 1000\n",
      "VCA_surround_900_noclass 1000\n",
      "VCP 1000\n",
      "VCP_negative 992\n",
      "VCP_surround_1000_DC 1000\n",
      "VCP_surround_1000_VCA 1000\n",
      "VCP_surround_1000_noclass 1000\n",
      "VCP_surround_100_VCA 78\n",
      "VCP_surround_100_noclass 1000\n",
      "VCP_surround_200_DC 27\n",
      "VCP_surround_200_VCA 455\n",
      "VCP_surround_200_noclass 1000\n",
      "VCP_surround_300_DC 257\n",
      "VCP_surround_300_VCA 1000\n",
      "VCP_surround_300_noclass 1000\n",
      "VCP_surround_400_DC 714\n",
      "VCP_surround_400_VCA 1000\n",
      "VCP_surround_400_noclass 1000\n",
      "VCP_surround_500_DC 1000\n",
      "VCP_surround_500_VCA 1000\n",
      "VCP_surround_500_noclass 1000\n",
      "VCP_surround_600_DC 1000\n",
      "VCP_surround_600_VCA 1000\n",
      "VCP_surround_600_noclass 1000\n",
      "VCP_surround_700_DC 1000\n",
      "VCP_surround_700_VCA 1000\n",
      "VCP_surround_700_noclass 1000\n",
      "VCP_surround_800_DC 1000\n",
      "VCP_surround_800_VCA 1000\n",
      "VCP_surround_800_noclass 1000\n",
      "VCP_surround_900_DC 1000\n",
      "VCP_surround_900_VCA 1000\n",
      "VCP_surround_900_noclass 1000\n",
      "VLL 1000\n",
      "VLL_negative 999\n",
      "VLL_surround_1000_5N 29\n",
      "VLL_surround_1000_SNR 1000\n",
      "VLL_surround_1000_noclass 1000\n",
      "VLL_surround_100_noclass 1000\n",
      "VLL_surround_200_noclass 1000\n",
      "VLL_surround_300_noclass 1000\n",
      "VLL_surround_400_SNR 13\n",
      "VLL_surround_400_noclass 1000\n",
      "VLL_surround_500_SNR 235\n",
      "VLL_surround_500_noclass 1000\n",
      "VLL_surround_600_SNR 720\n",
      "VLL_surround_600_noclass 1000\n",
      "VLL_surround_700_SNR 1000\n",
      "VLL_surround_700_noclass 1000\n",
      "VLL_surround_800_SNR 1000\n",
      "VLL_surround_800_noclass 1000\n",
      "VLL_surround_900_5N 1\n",
      "VLL_surround_900_SNR 1000\n",
      "VLL_surround_900_noclass 1000\n",
      "noclass 996\n"
     ]
    }
   ],
   "source": [
    "for name in sorted(training_addresses.iterkeys()):\n",
    "    print name, len(training_addresses[name])"
   ]
  },
  {
   "cell_type": "code",
   "execution_count": 10,
   "metadata": {
    "collapsed": false
   },
   "outputs": [
    {
     "name": "stdout",
     "output_type": "stream",
     "text": [
      "'No object named structures in the file'\n"
     ]
    },
    {
     "name": "stderr",
     "output_type": "stream",
     "text": [
      "Annotation has no structures.\n"
     ]
    }
   ],
   "source": [
    "contours_original, _ = DataManager.load_annotation_v3(stack=stack, annotation_rootdir=ANNOTATION_ROOTDIR)\n",
    "contours_aligned_cropped = convert_annotation_v3_original_to_aligned_cropped(contours_original, stack=stack)\n",
    "\n",
    "structure_centers_all_secs_all_names = defaultdict(dict)\n",
    "\n",
    "for sec in range(first_sec, last_sec+1):\n",
    "\n",
    "    fn = s2f[sec]\n",
    "    if fn in ['Nonexisting', 'Rescan', 'Placeholder']:\n",
    "        continue\n",
    "        \n",
    "    contours_this_sec = contours_aligned_cropped[contours_aligned_cropped['filename'] == fn]\n",
    "\n",
    "    for name_u in set(contours_this_sec['name']):\n",
    "        matched_contours = contours_this_sec[(contours_this_sec['name'] == name_u)]\n",
    "#         assert len(matched_contours) == 1 # will fail because the bug in GUI that creates multiple duplicate entries for the same contour\n",
    "        cnt = matched_contours.iloc[0]\n",
    "        center = cnt['vertices'].mean(axis=0)\n",
    "        structure_centers_all_secs_all_names[sec][name_u] = center\n",
    "        \n",
    "structure_centers_all_secs_all_names.default_factory = None"
   ]
  },
  {
   "cell_type": "code",
   "execution_count": 29,
   "metadata": {
    "collapsed": false
   },
   "outputs": [],
   "source": [
    "distances_to_structures = apply_function_to_dict(lambda addrs:\\\n",
    "                                                 addresses_to_structure_distances(addrs, structure_centers_all_secs_all_names), \n",
    "                                                training_addresses)\n",
    "\n",
    "import pandas\n",
    "distances_to_structures = {label: pandas.DataFrame(distances) for label, distances in distances_to_structures.iteritems()}"
   ]
  },
  {
   "cell_type": "code",
   "execution_count": 31,
   "metadata": {
    "collapsed": true
   },
   "outputs": [],
   "source": [
    "if stack in ['MD635']:\n",
    "    train_feat_dir = create_if_not_exists(os.path.join(SVM_NTBLUE_ROOTDIR, 'training_features/'))\n",
    "else:\n",
    "    train_feat_dir = create_if_not_exists(os.path.join(SVM_ROOTDIR, 'training_features/'))"
   ]
  },
  {
   "cell_type": "code",
   "execution_count": 32,
   "metadata": {
    "collapsed": false
   },
   "outputs": [],
   "source": [
    "# Save training features\n",
    "for name, feats in training_features.iteritems():\n",
    "    bp.pack_ndarray_file(feats, os.path.join(train_feat_dir, name + '.bp'))"
   ]
  },
  {
   "cell_type": "code",
   "execution_count": 34,
   "metadata": {
    "collapsed": false
   },
   "outputs": [],
   "source": [
    "# Save training addresses\n",
    "if stack in ['MD635']:\n",
    "    save_pickle(training_addresses, os.path.join(SVM_NTBLUE_ROOTDIR, 'training_addresses.pkl'))\n",
    "else:\n",
    "    save_pickle(training_addresses, os.path.join(SVM_ROOTDIR, 'training_addresses.pkl'))"
   ]
  },
  {
   "cell_type": "code",
   "execution_count": null,
   "metadata": {
    "collapsed": false
   },
   "outputs": [],
   "source": [
    "# Load training features\n",
    "training_features = {name: bp.unpack_ndarray_file(os.path.join(train_feat_dir, name + '.bp'))\n",
    "                     for name in labels}"
   ]
  },
  {
   "cell_type": "code",
   "execution_count": 35,
   "metadata": {
    "collapsed": true
   },
   "outputs": [],
   "source": [
    "# load training addresses\n",
    "if stack in ['MD635']:\n",
    "    training_addresses = load_pickle(os.path.join(SVM_NTBLUE_ROOTDIR, 'training_addresses.pkl'))\n",
    "else:\n",
    "    training_addresses = load_pickle(os.path.join(SVM_ROOTDIR, 'training_addresses.pkl'))"
   ]
  },
  {
   "cell_type": "code",
   "execution_count": 101,
   "metadata": {
    "collapsed": true
   },
   "outputs": [],
   "source": [
    "# negatives are surrounding patches that are not of other positive classes\n",
    "# LogisticRegression(penalty='l2')\n",
    "# train_sample_scheme = 1\n",
    "\n",
    "# negatives are surrounding patches (margin=200) that include other positive classes\n",
    "# LogisticRegression(penalty='l2')\n",
    "train_sample_scheme = 2\n",
    "margin = 500\n",
    "\n",
    "# negatives are surrounding patches that are not of other positive classes\n",
    "# SVC(kernel='linear')\n",
    "# train_sample_scheme = 3\n",
    "\n",
    "# negatives are surrounding patches that are not of other positive classes\n",
    "# LinearSVC(kernel='linear') + CalibratedClassifierCV\n",
    "# train_sample_scheme = 4\n",
    "\n",
    "# negatives are surrounding patches that are not of other positive classes\n",
    "# XGBClassifier\n",
    "# train_sample_scheme = 5\n",
    "\n",
    "# negatives are surrounding patches that are not of other positive classes\n",
    "# sklearn.ensemble.GradientBoostingClassifier, max_depth=3, n_estimators=200\n",
    "# train_sample_scheme = 6\n",
    "\n",
    "# negatives are surrounding patches that are not of other positive classes\n",
    "# sklearn.ensemble.GradientBoostingClassifier, max_depth=5, n_estimators=100\n",
    "# train_sample_scheme = 7\n",
    "\n",
    "# negatives are all outside patches, including other positive classes\n",
    "# LogisticRegression(penalty='l2')\n",
    "# train_sample_scheme = 8\n",
    "\n",
    "# negatives are all outside patches, including other positive classes, weighted according to distance to the center of \n",
    "# the structure of interest.\n",
    "# All surrounds are used as negative, other outside patches are randomly sampled to be negative.\n",
    "# LogisticRegression(penalty='l2')\n",
    "# train_sample_scheme = 9\n",
    "# thresh = 1500\n",
    "# def diminishing(x):\n",
    "#     return np.exp(-(x-thresh)/3000.)"
   ]
  },
  {
   "cell_type": "code",
   "execution_count": 102,
   "metadata": {
    "collapsed": false,
    "scrolled": true
   },
   "outputs": [
    {
     "name": "stdout",
     "output_type": "stream",
     "text": [
      "VCA\n"
     ]
    },
    {
     "name": "stderr",
     "output_type": "stream",
     "text": [
      "train classifier: 0.00 seconds\n"
     ]
    },
    {
     "name": "stdout",
     "output_type": "stream",
     "text": [
      "Tz\n"
     ]
    },
    {
     "name": "stderr",
     "output_type": "stream",
     "text": [
      "train classifier: 0.00 seconds\n"
     ]
    },
    {
     "name": "stdout",
     "output_type": "stream",
     "text": [
      "SNC\n"
     ]
    },
    {
     "name": "stderr",
     "output_type": "stream",
     "text": [
      "train classifier: 0.00 seconds\n"
     ]
    },
    {
     "name": "stdout",
     "output_type": "stream",
     "text": [
      "7n\n"
     ]
    },
    {
     "name": "stderr",
     "output_type": "stream",
     "text": [
      "train classifier: 0.00 seconds\n"
     ]
    },
    {
     "name": "stdout",
     "output_type": "stream",
     "text": [
      "DC\n"
     ]
    },
    {
     "name": "stderr",
     "output_type": "stream",
     "text": [
      "train classifier: 0.00 seconds\n"
     ]
    },
    {
     "name": "stdout",
     "output_type": "stream",
     "text": [
      "12N\n"
     ]
    },
    {
     "name": "stderr",
     "output_type": "stream",
     "text": [
      "train classifier: 0.00 seconds\n"
     ]
    },
    {
     "name": "stdout",
     "output_type": "stream",
     "text": [
      "Sp5C\n"
     ]
    },
    {
     "name": "stderr",
     "output_type": "stream",
     "text": [
      "train classifier: 0.00 seconds\n"
     ]
    },
    {
     "name": "stdout",
     "output_type": "stream",
     "text": [
      "VCP\n"
     ]
    },
    {
     "name": "stderr",
     "output_type": "stream",
     "text": [
      "train classifier: 0.00 seconds\n"
     ]
    },
    {
     "name": "stdout",
     "output_type": "stream",
     "text": [
      "AP\n"
     ]
    },
    {
     "name": "stderr",
     "output_type": "stream",
     "text": [
      "train classifier: 0.00 seconds\n"
     ]
    },
    {
     "name": "stdout",
     "output_type": "stream",
     "text": [
      "5N\n"
     ]
    },
    {
     "name": "stderr",
     "output_type": "stream",
     "text": [
      "train classifier: 0.00 seconds\n"
     ]
    },
    {
     "name": "stdout",
     "output_type": "stream",
     "text": [
      "SNR\n"
     ]
    },
    {
     "name": "stderr",
     "output_type": "stream",
     "text": [
      "train classifier: 0.00 seconds\n"
     ]
    },
    {
     "name": "stdout",
     "output_type": "stream",
     "text": [
      "6N\n"
     ]
    },
    {
     "name": "stderr",
     "output_type": "stream",
     "text": [
      "train classifier: 0.00 seconds\n"
     ]
    },
    {
     "name": "stdout",
     "output_type": "stream",
     "text": [
      "7N\n"
     ]
    },
    {
     "name": "stderr",
     "output_type": "stream",
     "text": [
      "train classifier: 0.00 seconds\n"
     ]
    },
    {
     "name": "stdout",
     "output_type": "stream",
     "text": [
      "SC\n"
     ]
    },
    {
     "name": "stderr",
     "output_type": "stream",
     "text": [
      "train classifier: 0.00 seconds\n"
     ]
    },
    {
     "name": "stdout",
     "output_type": "stream",
     "text": [
      "10N\n"
     ]
    },
    {
     "name": "stderr",
     "output_type": "stream",
     "text": [
      "train classifier: 0.00 seconds\n"
     ]
    },
    {
     "name": "stdout",
     "output_type": "stream",
     "text": [
      "IC\n"
     ]
    },
    {
     "name": "stderr",
     "output_type": "stream",
     "text": [
      "train classifier: 0.00 seconds\n"
     ]
    },
    {
     "name": "stdout",
     "output_type": "stream",
     "text": [
      "LC\n"
     ]
    },
    {
     "name": "stderr",
     "output_type": "stream",
     "text": [
      "train classifier: 0.00 seconds\n"
     ]
    },
    {
     "name": "stdout",
     "output_type": "stream",
     "text": [
      "Pn\n"
     ]
    },
    {
     "name": "stderr",
     "output_type": "stream",
     "text": [
      "train classifier: 0.00 seconds\n"
     ]
    },
    {
     "name": "stdout",
     "output_type": "stream",
     "text": [
      "VLL\n"
     ]
    },
    {
     "name": "stderr",
     "output_type": "stream",
     "text": [
      "train classifier: 0.00 seconds\n"
     ]
    },
    {
     "name": "stdout",
     "output_type": "stream",
     "text": [
      "RtTg\n"
     ]
    },
    {
     "name": "stderr",
     "output_type": "stream",
     "text": [
      "train classifier: 0.00 seconds\n"
     ]
    }
   ],
   "source": [
    "# train svm classifiers\n",
    "\n",
    "if stack in ['MD635']:\n",
    "    svm_dir = create_if_not_exists(os.path.join(SVM_NTBLUE_ROOTDIR, 'classifiers'))\n",
    "else:\n",
    "    svm_dir = create_if_not_exists(os.path.join(SVM_ROOTDIR, 'classifiers'))\n",
    "\n",
    "# for label in structures:\n",
    "for label in existing_names:\n",
    "            \n",
    "    print label\n",
    "\n",
    "    t = time.time()\n",
    "\n",
    "    features_pos = training_features[label]\n",
    "    n_pos = len(features_pos)\n",
    "    \n",
    "    if train_sample_scheme in [1, 3, 4, 5, 6, 7]:\n",
    "        neg_classes = [convert_to_surround_name(label, margin=margin, suffix='noclass')]\n",
    "    elif train_sample_scheme == 2:\n",
    "        neg_classes = [convert_to_surround_name(label, margin=margin, suffix='noclass')]        \n",
    "        for surr_l in structures:\n",
    "            c = convert_to_surround_name(label, margin=margin, suffix=surr_l)\n",
    "            if c in labels:\n",
    "                neg_classes.append(c)\n",
    "    elif train_sample_scheme in [8,9]:\n",
    "        neg_classes = [label + '_negative']\n",
    "    else:\n",
    "        sys.stderr.write('training scheme is not recognized.\\n')\n",
    "\n",
    "    features_neg = np.concatenate([training_features[neg_class] for neg_class in neg_classes])\n",
    "    neg_distances = np.concatenate([distances_to_structures[neg_class][label] for neg_class in neg_classes])\n",
    "        \n",
    "    n_neg = len(features_neg)\n",
    "    \n",
    "    ###########################################################################################\n",
    "\n",
    "    train_data0 = np.r_[features_pos, features_neg]\n",
    "    train_labels0 = np.r_[np.ones((features_pos.shape[0], )), \n",
    "                         -np.ones((features_neg.shape[0], ))]\n",
    "    \n",
    "#     n_train = len(train_labels0)\n",
    "#     ri = np.random.choice(range(n_train), size=100, replace=False)\n",
    "#     train_data = train_data0[ri]\n",
    "#     train_labels = train_labels0[ri]\n",
    "\n",
    "    train_data = train_data0\n",
    "    train_labels = train_labels0\n",
    "    \n",
    "#     svc = SVC(C=1.0, kernel='rbf', degree=3, gamma='auto', coef0=0.0, shrinking=True, \n",
    "#           probability=True, tol=0.001, cache_size=1000, class_weight=None, verbose=False, \n",
    "#           max_iter=-1, decision_function_shape=None, random_state=None)\n",
    "\n",
    "    if train_sample_scheme in [1, 8, 9]:\n",
    "        # 1 - L2 penalty - train: 0.88, test acc: 0.84\n",
    "        clf = LogisticRegression(penalty='l2', dual=False, tol=0.0001, C=1.0, \n",
    "                                 fit_intercept=True, intercept_scaling=1, class_weight=None, \n",
    "                                 random_state=None, solver='liblinear', max_iter=100, multi_class='ovr', \n",
    "                                 verbose=0, warm_start=False, n_jobs=1)\n",
    "#         clf.fit(train_data, train_labels)\n",
    "#         joblib.dump(clf, svm_dir + '/%(label)s_svm_trainSampleScheme_%(scheme)d.pkl' % {'label': label, 'scheme':train_sample_scheme})\n",
    "\n",
    "    elif train_sample_scheme == 2:\n",
    "        # L1 penalty - test acc: 0.818\n",
    "        clf = LogisticRegression(penalty='l2', dual=False, tol=0.0001, C=1.0, \n",
    "                                 fit_intercept=True, intercept_scaling=1, class_weight=None, \n",
    "                                 solver='liblinear', max_iter=100, multi_class='ovr', \n",
    "                                 verbose=0, warm_start=False, n_jobs=1)\n",
    "#         clf.fit(train_data, train_labels)\n",
    "#         joblib.dump(clf, svm_dir + '/%(label)s_svm_trainSampleScheme_%(scheme)d.pkl' % {'label': label, 'scheme':train_sample_scheme})\n",
    "\n",
    "            \n",
    "    elif train_sample_scheme == 3:\n",
    "        # Slow - train acc: 0.69, test acc: 0.68\n",
    "        clf = SVC(C=1.0, kernel='linear', degree=3, gamma='auto', coef0=0.0, shrinking=True, \n",
    "                  probability=True, tol=0.001, cache_size=1000, max_iter=-1,\n",
    "              decision_function_shape=None, random_state=None)\n",
    "        \n",
    "#         clf.fit(train_data, train_labels)\n",
    "#         joblib.dump(clf, svm_dir + '/%(label)s_svm_trainSampleScheme_%(scheme)d.pkl' % {'label': label, 'scheme':train_sample_scheme})\n",
    "\n",
    "\n",
    "    elif train_sample_scheme == 4:\n",
    "        # train 0.75, test 0.74\n",
    "        \n",
    "        sv_uncalibrated = LinearSVC(penalty='l2', loss='squared_hinge', dual=True, tol=0.0001, \n",
    "                                C=1.0, multi_class='ovr', \n",
    "                                fit_intercept=True, intercept_scaling=1, max_iter=100)\n",
    "        clf = CalibratedClassifierCV(sv_uncalibrated)\n",
    "        \n",
    "#         clf.fit(train_data, train_labels)\n",
    "#         joblib.dump(clf, svm_dir + '/%(label)s_svm_trainSampleScheme_%(scheme)d.pkl' % {'label': label, 'scheme':train_sample_scheme})\n",
    "\n",
    "        \n",
    "    elif train_sample_scheme == 5:\n",
    "        # train \n",
    "        \n",
    "        # http://xgboost.readthedocs.io/en/latest/python/python_api.html\n",
    "        clf = XGBClassifier(max_depth=3, learning_rate=0.2, n_estimators=200, \n",
    "                            silent=False, objective='binary:logistic', nthread=-1, gamma=0, \n",
    "                            min_child_weight=20, max_delta_step=0, subsample=.8, \n",
    "                            colsample_bytree=.8, colsample_bylevel=1, reg_alpha=0, reg_lambda=1, \n",
    "                            scale_pos_weight=1, base_score=0.5, seed=0, missing=None)\n",
    "        \n",
    "#         clf.fit(train_data, train_labels)\n",
    "#         joblib.dump(svc, svm_dir + '/%(label)s_svm_trainSampleScheme_%(scheme)d.pkl' % {'label': label, 'scheme':train_sample_scheme})\n",
    "\n",
    "    elif train_sample_scheme == 6:\n",
    "        # acc: 0.96/0.85\n",
    "        \n",
    "        # http://scikit-learn.org/stable/modules/generated/sklearn.ensemble.GradientBoostingClassifier.html\n",
    "        clf = GradientBoostingClassifier(loss='deviance', learning_rate=0.3, n_estimators=200, \n",
    "                                         subsample=1., criterion='friedman_mse', \n",
    "                                         min_samples_split=50, min_samples_leaf=20, \n",
    "                                         min_weight_fraction_leaf=0.0, max_depth=3, \n",
    "                                         min_impurity_split=1e-07, init=None, random_state=None, \n",
    "                                         max_features=None, verbose=1, max_leaf_nodes=None, \n",
    "                                         warm_start=False, presort='auto')\n",
    "        \n",
    "    elif train_sample_scheme == 7:\n",
    "        # acc: 0.98/0.87\n",
    "        \n",
    "        # http://scikit-learn.org/stable/modules/generated/sklearn.ensemble.GradientBoostingClassifier.html\n",
    "        clf = GradientBoostingClassifier(loss='deviance', learning_rate=0.3, n_estimators=100, \n",
    "                                         subsample=1., criterion='friedman_mse', \n",
    "                                         min_samples_split=50, min_samples_leaf=20, \n",
    "                                         min_weight_fraction_leaf=0.0, max_depth=5, \n",
    "                                         min_impurity_split=1e-07, init=None, random_state=None, \n",
    "                                         max_features=None, verbose=1, max_leaf_nodes=None, \n",
    "                                         warm_start=False, presort='auto')\n",
    "        \n",
    "    \n",
    "    else:\n",
    "        sys.stderr.write('training scheme is not recognized.\\n')\n",
    " \n",
    "    sys.stderr.write('train classifier: %.2f seconds\\n' % (time.time() - t))\n",
    "    \n",
    "    if train_sample_scheme == 9:\n",
    "            \n",
    "        sample_weights_neg = np.ones((n_neg,))\n",
    "        sample_weights_neg[neg_distances > thresh] = diminishing(neg_distances[neg_distances > thresh])\n",
    "        sample_weights = np.r_[np.ones((n_pos,)), sample_weights_neg]\n",
    "            \n",
    "        clf.fit(train_data, train_labels, sample_weight=sample_weights)\n",
    "    else:\n",
    "        clf.fit(train_data, train_labels)\n",
    "    \n",
    "    joblib.dump(clf, svm_dir + '/%(label)s_svm_trainSampleScheme_%(scheme)d.pkl' % {'label': label, 'scheme':train_sample_scheme})"
   ]
  },
  {
   "cell_type": "markdown",
   "metadata": {},
   "source": [
    "# Load pre-computed svm classifiers"
   ]
  },
  {
   "cell_type": "code",
   "execution_count": 82,
   "metadata": {
    "collapsed": false
   },
   "outputs": [],
   "source": [
    "svc_allClasses = {}\n",
    "# for label in structures:\n",
    "for label in existing_names:\n",
    "    if stack in ['MD635']: # neurotrace blue stacks\n",
    "        svc_allClasses[label] = joblib.load(SVM_NTBLUE_ROOTDIR + '/classifiers/%(label)s_svm_trainSampleScheme_%(scheme)d.pkl' % {'label': label, 'scheme':train_sample_scheme})\n",
    "    else: # regular Nissl\n",
    "        svc_allClasses[label] = joblib.load(SVM_ROOTDIR + '/classifiers/%(label)s_svm_trainSampleScheme_%(scheme)d.pkl' % {'label': label, 'scheme':train_sample_scheme})"
   ]
  },
  {
   "cell_type": "code",
   "execution_count": 83,
   "metadata": {
    "collapsed": false
   },
   "outputs": [
    {
     "data": {
      "image/png": "[encoded data removed]",
      "text/plain": [
       "<matplotlib.figure.Figure at 0x55056410>"
      ]
     },
     "metadata": {},
     "output_type": "display_data"
    }
   ],
   "source": [
    "# Compute training accuracy\n",
    "\n",
    "acc_all_structures = {}\n",
    "\n",
    "ncols = 5\n",
    "nrows = int(np.ceil(len(existing_names)/float(ncols)))\n",
    "\n",
    "fig, axes = plt.subplots(nrows, ncols, figsize=(ncols*2, nrows*2), sharex=True, sharey=True)\n",
    "axes = axes.flatten()\n",
    "\n",
    "# for i, label in enumerate(structures):\n",
    "for i, label in enumerate(existing_names):\n",
    "    \n",
    "    features_pos = training_features[label]\n",
    "    n_pos = len(features_pos)\n",
    "    \n",
    "    if train_sample_scheme in [1, 3, 4, 5, 6, 7]:\n",
    "        neg_classes = [convert_to_surround_name(label, margin=margin, suffix='noclass')]\n",
    "    elif train_sample_scheme == 2:\n",
    "        neg_classes = [convert_to_surround_name(label, margin=margin, suffix='noclass')]            \n",
    "        for surr_l in structures:\n",
    "            c = convert_to_surround_name(label, margin=margin, suffix=surr_l)\n",
    "            if c in labels:\n",
    "                neg_classes.append(c)\n",
    "    elif train_sample_scheme in [8,9]:\n",
    "        neg_classes = [label + '_negative']\n",
    "    else:\n",
    "        sys.stderr.write('training scheme is not recognized.\\n')\n",
    "\n",
    "    features_neg = np.concatenate([training_features[neg_class] for neg_class in neg_classes])\n",
    "#     neg_distances = np.concatenate([distances_to_structures[neg_class][label] for neg_class in neg_classes])\n",
    "        \n",
    "    n_neg = len(features_neg)\n",
    "    \n",
    "    train_data = np.r_[features_pos, features_neg]\n",
    "    train_labels = np.r_[np.ones((features_pos.shape[0], )), \n",
    "                         -np.ones((features_neg.shape[0], ))]\n",
    "    \n",
    "    svc = svc_allClasses[label]\n",
    "    \n",
    "    probs = svc.predict_proba(train_data)[:, svc.classes_.tolist().index(1.)]\n",
    "    cm = compute_confusion_matrix(np.c_[probs, 1-probs], [0 if l==1. else 1 for l in train_labels], soft=True)\n",
    "    \n",
    "    acc_all_structures[label] = (n_pos*cm[0,0] + n_neg*cm[1,1])/(n_pos + n_neg)\n",
    "    \n",
    "    plot_confusion_matrix(cm, title='%(label)s'% {'label':label},\n",
    "                          labels=['',''],\n",
    "#                           labels=[label, convert_to_surround_name(label)],\n",
    "                         axis=axes[i])\n",
    "#     plt.show();\n",
    "\n",
    "plt.tight_layout()"
   ]
  },
  {
   "cell_type": "code",
   "execution_count": 84,
   "metadata": {
    "collapsed": false
   },
   "outputs": [
    {
     "name": "stdout",
     "output_type": "stream",
     "text": [
      "training accuracy: 0.955705138166\n"
     ]
    }
   ],
   "source": [
    "print 'training accuracy:', np.mean(acc_all_structures.values())"
   ]
  },
  {
   "cell_type": "code",
   "execution_count": null,
   "metadata": {
    "collapsed": true
   },
   "outputs": [],
   "source": []
  },
  {
   "cell_type": "code",
   "execution_count": null,
   "metadata": {
    "collapsed": true
   },
   "outputs": [],
   "source": [
    "# visualize training patches\n",
    "\n",
    "patches = extract_patches_given_locations_multiple_sections(sampled_addresses['AP'], 'grid_index')\n",
    "display_images_in_grids(patches, 5)\n",
    "\n",
    "patches = extract_patches_given_locations_multiple_sections(sampled_addresses['AP_surround'], 'grid_index')\n",
    "display_images_in_grids(patches, 5, titles=sampled_addresses['AP_surround'])\n",
    "\n",
    "# Visualize a patch in context\n",
    "\n",
    "patch_size, stride, _, _ = get_default_gridspec('MD589')\n",
    "grid_locations = grid_parameters_to_sample_locations(get_default_gridspec('MD589'))\n",
    "viz = patch_boxes_overlay_on('original', 8, \n",
    "                       [grid_locations[44453]],\n",
    "                      patch_size=patch_size,\n",
    "                      stack='MD589',\n",
    "                       sec=219)\n",
    "display_image(viz)"
   ]
  }
 ],
 "metadata": {
  "kernelspec": {
   "display_name": "Python 2",
   "language": "python",
   "name": "python2"
  },
  "language_info": {
   "codemirror_mode": {
    "name": "ipython",
    "version": 2
   },
   "file_extension": ".py",
   "mimetype": "text/x-python",
   "name": "python",
   "nbconvert_exporter": "python",
   "pygments_lexer": "ipython2",
   "version": "2.7.3"
  }
 },
 "nbformat": 4,
 "nbformat_minor": 0
}
