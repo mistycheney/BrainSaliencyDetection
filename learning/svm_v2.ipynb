{
 "cells": [
  {
   "cell_type": "code",
   "execution_count": 1,
   "metadata": {
    "collapsed": false
   },
   "outputs": [
    {
     "name": "stdout",
     "output_type": "stream",
     "text": [
      "Setting environment for Gordon\n"
     ]
    },
    {
     "name": "stderr",
     "output_type": "stream",
     "text": [
      "No vtk\n",
      "Cannot import mxnet.\n"
     ]
    }
   ],
   "source": [
    "%reload_ext autoreload\n",
    "%autoreload 2\n",
    "\n",
    "import os\n",
    "import argparse\n",
    "import sys\n",
    "import time\n",
    "import cv2\n",
    "\n",
    "from joblib import Parallel, delayed\n",
    "\n",
    "sys.path.append(os.path.join(os.environ['REPO_DIR'], 'utilities'))\n",
    "from utilities2015 import *\n",
    "from metadata import *\n",
    "from data_manager import *\n",
    "\n",
    "from matplotlib.path import Path\n",
    "%matplotlib inline\n",
    "\n",
    "import numpy as np\n",
    "\n",
    "from learning_utilities import *"
   ]
  },
  {
   "cell_type": "code",
   "execution_count": 2,
   "metadata": {
    "collapsed": true
   },
   "outputs": [],
   "source": [
    "from sklearn.externals import joblib"
   ]
  },
  {
   "cell_type": "code",
   "execution_count": 3,
   "metadata": {
    "collapsed": false
   },
   "outputs": [],
   "source": [
    "def convert_to_surround_name(name_u, suffix):\n",
    "    return name_u + '_surround_' + suffix"
   ]
  },
  {
   "cell_type": "code",
   "execution_count": 4,
   "metadata": {
    "collapsed": true
   },
   "outputs": [],
   "source": [
    "paired_structures = ['5N', '6N', '7N', '7n', 'Amb', 'LC', 'LRt', 'Pn', 'Tz', 'VLL', 'RMC', 'SNC', 'SNR', '3N', '4N',\n",
    "                    'Sp5I', 'Sp5O', 'Sp5C', 'PBG', '10N', 'VCA', 'VCP', 'DC']\n",
    "singular_structures = ['AP', '12N', 'RtTg', 'SC', 'IC']\n",
    "structures = paired_structures + singular_structures"
   ]
  },
  {
   "cell_type": "code",
   "execution_count": 5,
   "metadata": {
    "collapsed": false
   },
   "outputs": [],
   "source": [
    "# structures = ['7N', '12N']\n",
    "# labels_to_sample = structures + map(convert_to_surround_name, structures)\n",
    "labels_to_sample = structures + [convert_to_surround_name(l, surr_l) for l in structures for surr_l in structures + ['noclass'] if surr_l not in l]"
   ]
  },
  {
   "cell_type": "code",
   "execution_count": null,
   "metadata": {
    "collapsed": true
   },
   "outputs": [],
   "source": []
  },
  {
   "cell_type": "code",
   "execution_count": 6,
   "metadata": {
    "collapsed": false
   },
   "outputs": [
    {
     "name": "stderr",
     "output_type": "stream",
     "text": [
      "Cell is empty.\n",
      "Cell is empty.\n",
      "Cell is empty.\n",
      "Cell is empty.\n",
      "Cell is empty.\n",
      "Cell is empty.\n",
      "Cell is empty.\n",
      "Cell is empty.\n",
      "Cell is empty.\n",
      "Cell is empty.\n"
     ]
    }
   ],
   "source": [
    "# Extract training features - random subset\n",
    "\n",
    "training_addresses = defaultdict(list)\n",
    "\n",
    "labels = set([])\n",
    "\n",
    "for stack in ['MD589', 'MD585', 'MD594']:\n",
    "    annotation_grid_indices_fn = '/home/yuncong/csd395/CSHL_labelings_v3/%(stack)s/%(stack)s_annotation_grid_indices.h5' % dict(stack=stack)\n",
    "    label_gridIndices = read_hdf(annotation_grid_indices_fn, 'grid_indices')\n",
    "    \n",
    "    labels_this_stack = set(label_gridIndices.index) & set(labels_to_sample)\n",
    "    labels = labels | labels_this_stack\n",
    "    \n",
    "    training_addresses_sec_idx = sample_locations(label_gridIndices, labels_this_stack, num_samples_per_landmark=1000)\n",
    "    \n",
    "    for name_u, addresses in training_addresses_sec_idx.iteritems():\n",
    "        training_addresses[name_u] += [(stack, ) + addr for addr in addresses]\n",
    "        \n",
    "training_addresses.default_factory = None\n",
    "        \n",
    "# sampled_addresses = {name_u: np.array(addresses) for name_u, addresses in sampled_addresses.iteritems()}"
   ]
  },
  {
   "cell_type": "code",
   "execution_count": 65,
   "metadata": {
    "collapsed": true
   },
   "outputs": [],
   "source": [
    "# See if we can use location on image frame as feature\n",
    "\n",
    "# def addresses_to_locations(addresses):\n",
    "    \n",
    "#     key_func = lambda (i, (st, se, idx)): st\n",
    "    \n",
    "#     locations = []\n",
    "    \n",
    "#     for stack, group in groupby(sorted(enumerate(addresses), key=key_func), key=key_func):\n",
    "#         sample_locations = grid_parameters_to_sample_locations(get_default_gridspec(stack))\n",
    "#         for i, (st, se, idx) in group:\n",
    "#             locations.append((i, sample_locations[idx]))\n",
    "    \n",
    "#     return [loc for i, loc in sorted(locations)]"
   ]
  },
  {
   "cell_type": "code",
   "execution_count": 66,
   "metadata": {
    "collapsed": false
   },
   "outputs": [],
   "source": [
    "# locations = np.array(addresses_to_locations(training_addresses['10N']))\n",
    "\n",
    "# plt.scatter(locations[:,0], locations[:,1]);\n",
    "# plt.xlim([0, 15000]);\n",
    "# plt.ylim([0, 12000]);"
   ]
  },
  {
   "cell_type": "code",
   "execution_count": null,
   "metadata": {
    "collapsed": false,
    "scrolled": true
   },
   "outputs": [],
   "source": [
    "training_features = apply_function_to_dict(addresses_to_features, training_addresses)"
   ]
  },
  {
   "cell_type": "code",
   "execution_count": 41,
   "metadata": {
    "collapsed": false
   },
   "outputs": [],
   "source": [
    "training_features = {name: np.array([f for f in feats if f is not None]) \n",
    "                     for name, feats in training_features.iteritems()}"
   ]
  },
  {
   "cell_type": "code",
   "execution_count": 42,
   "metadata": {
    "collapsed": false,
    "scrolled": true
   },
   "outputs": [
    {
     "name": "stdout",
     "output_type": "stream",
     "text": [
      "10N 2609\n",
      "10N_surround_12N 3000\n",
      "10N_surround_AP 367\n",
      "10N_surround_noclass 3000\n",
      "12N 3000\n",
      "12N_surround_10N 2460\n",
      "12N_surround_AP 161\n",
      "12N_surround_noclass 3000\n",
      "3N 3000\n",
      "3N_surround_4N 246\n",
      "3N_surround_noclass 3000\n",
      "4N 474\n",
      "4N_surround_3N 720\n",
      "4N_surround_noclass 3000\n",
      "5N 3000\n",
      "5N_surround_7n 25\n",
      "5N_surround_noclass 3000\n",
      "6N 862\n",
      "6N_surround_7n 353\n",
      "6N_surround_noclass 3000\n",
      "7N 3000\n",
      "7N_surround_Amb 38\n",
      "7N_surround_noclass 3000\n",
      "7n 3000\n",
      "7n_surround_5N 19\n",
      "7n_surround_6N 311\n",
      "7n_surround_noclass 3000\n",
      "AP 3000\n",
      "AP_surround_10N 140\n",
      "AP_surround_12N 204\n",
      "AP_surround_noclass 3000\n",
      "Amb 1570\n",
      "Amb_surround_7N 59\n",
      "Amb_surround_LRt 160\n",
      "Amb_surround_noclass 3000\n",
      "DC 2999\n",
      "DC_surround_VCA 3000\n",
      "DC_surround_VCP 3000\n",
      "DC_surround_noclass 3000\n",
      "IC 3000\n",
      "IC_surround_SC 3000\n",
      "IC_surround_noclass 3000\n",
      "LC 3000\n",
      "LC_surround_noclass 3000\n",
      "LRt 2995\n",
      "LRt_surround_Amb 109\n",
      "LRt_surround_Sp5C 71\n",
      "LRt_surround_noclass 3000\n",
      "PBG 2717\n",
      "PBG_surround_SNR 350\n",
      "PBG_surround_VLL 105\n",
      "PBG_surround_noclass 3000\n",
      "Pn 3000\n",
      "Pn_surround_RtTg 3000\n",
      "Pn_surround_Tz 8\n",
      "Pn_surround_VLL 67\n",
      "Pn_surround_noclass 3000\n",
      "RMC 3000\n",
      "RMC_surround_SNR 1\n",
      "RMC_surround_noclass 3000\n",
      "RtTg 3000\n",
      "RtTg_surround_Pn 3000\n",
      "RtTg_surround_Tz 833\n",
      "RtTg_surround_noclass 3000\n",
      "SC 2998\n",
      "SC_surround_IC 2999\n",
      "SC_surround_noclass 3000\n",
      "SNC 3000\n",
      "SNC_surround_SNR 3000\n",
      "SNC_surround_noclass 3000\n",
      "SNR 3000\n",
      "SNR_surround_PBG 177\n",
      "SNR_surround_RMC 1\n",
      "SNR_surround_SNC 3000\n",
      "SNR_surround_VLL 43\n",
      "SNR_surround_noclass 3000\n",
      "Sp5C 2962\n",
      "Sp5C_surround_LRt 37\n",
      "Sp5C_surround_Sp5I 3000\n",
      "Sp5C_surround_noclass 3000\n",
      "Sp5I 3000\n",
      "Sp5I_surround_Sp5C 3000\n",
      "Sp5I_surround_Sp5O 3000\n",
      "Sp5I_surround_noclass 3000\n",
      "Sp5O 3000\n",
      "Sp5O_surround_Sp5I 3000\n",
      "Sp5O_surround_noclass 3000\n",
      "Tz 3000\n",
      "Tz_surround_Pn 7\n",
      "Tz_surround_RtTg 1602\n",
      "Tz_surround_noclass 3000\n",
      "VCA 3000\n",
      "VCA_surround_DC 3000\n",
      "VCA_surround_VCP 3000\n",
      "VCA_surround_noclass 3000\n",
      "VCP 3000\n",
      "VCP_surround_DC 3000\n",
      "VCP_surround_VCA 3000\n",
      "VCP_surround_noclass 3000\n",
      "VLL 3000\n",
      "VLL_surround_PBG 69\n",
      "VLL_surround_Pn 3\n",
      "VLL_surround_SNR 38\n",
      "VLL_surround_noclass 3000\n"
     ]
    }
   ],
   "source": [
    "for name in sorted(training_features.iterkeys()):\n",
    "    print name, len(training_features[name])"
   ]
  },
  {
   "cell_type": "code",
   "execution_count": null,
   "metadata": {
    "collapsed": true
   },
   "outputs": [],
   "source": [
    "# Save training features\n",
    "\n",
    "train_feat_dir = create_if_not_exists(os.path.join(SVM_ROOTDIR, 'training_features/'))\n",
    "\n",
    "for name_u, feats in training_features.iteritems():\n",
    "    bp.pack_ndarray_file(feats, os.path.join(train_feat_dir, name_u + '_trainSampleScheme_%(scheme)d.bp' % dict(scheme=train_sample_scheme)))"
   ]
  },
  {
   "cell_type": "code",
   "execution_count": null,
   "metadata": {
    "collapsed": true
   },
   "outputs": [],
   "source": [
    "# Load training features\n",
    "\n",
    "training_features = {name_u: bp.unpack_ndarray_file(os.path.join(SVM_ROOTDIR, 'training_features', \\\n",
    "                                 name_u + '_trainSampleScheme_1.bp'))\n",
    "                     for name_u in labels}"
   ]
  },
  {
   "cell_type": "code",
   "execution_count": 41,
   "metadata": {
    "collapsed": false
   },
   "outputs": [],
   "source": [
    "from sklearn.linear_model import LogisticRegression\n",
    "from sklearn.svm import LinearSVC, SVC\n",
    "from sklearn.calibration import CalibratedClassifierCV\n",
    "from sklearn.ensemble import GradientBoostingClassifier \n",
    "\n",
    "sys.path.append('/home/yuncong/csd395/xgboost/python-package')\n",
    "from xgboost.sklearn import XGBClassifier"
   ]
  },
  {
   "cell_type": "code",
   "execution_count": 144,
   "metadata": {
    "collapsed": true
   },
   "outputs": [],
   "source": [
    "# negatives are surrounding patches that are not of other positive classes\n",
    "# LogisticRegression(penalty='l2')\n",
    "train_sample_scheme = 1\n",
    "\n",
    "# negatives are surrounding patches that include other positive classes\n",
    "# LogisticRegression(penalty='l1')\n",
    "# train_sample_scheme = 2\n",
    "\n",
    "# negatives are surrounding patches that are not of other positive classes\n",
    "# SVC(kernel='linear')\n",
    "# train_sample_scheme = 3\n",
    "\n",
    "# negatives are surrounding patches that are not of other positive classes\n",
    "# LinearSVC(kernel='linear') + CalibratedClassifierCV\n",
    "# train_sample_scheme = 4\n",
    "\n",
    "# negatives are surrounding patches that are not of other positive classes\n",
    "# XGBClassifier\n",
    "# train_sample_scheme = 5\n",
    "\n",
    "# negatives are surrounding patches that are not of other positive classes\n",
    "# sklearn.ensemble.GradientBoostingClassifier, max_depth=3, n_estimators=200\n",
    "# train_sample_scheme = 6\n",
    "\n",
    "# negatives are surrounding patches that are not of other positive classes\n",
    "# sklearn.ensemble.GradientBoostingClassifier, max_depth=5, n_estimators=100\n",
    "train_sample_scheme = 7"
   ]
  },
  {
   "cell_type": "code",
   "execution_count": 145,
   "metadata": {
    "collapsed": false,
    "scrolled": true
   },
   "outputs": [
    {
     "name": "stdout",
     "output_type": "stream",
     "text": [
      "5N\n"
     ]
    },
    {
     "name": "stderr",
     "output_type": "stream",
     "text": [
      "train classifier: 0.00 seconds\n"
     ]
    },
    {
     "name": "stdout",
     "output_type": "stream",
     "text": [
      "      Iter       Train Loss   Remaining Time \n",
      "         1           1.0807            2.28m\n",
      "         2           0.9020            2.06m\n",
      "         3           0.7791            1.99m\n",
      "         4           0.6963            1.94m\n",
      "         5           0.6355            1.90m\n",
      "         6           0.5874            1.86m\n",
      "         7           0.5450            1.84m\n",
      "         8           0.5126            1.81m\n",
      "         9           0.4865            1.78m\n",
      "        10           0.4661            1.75m\n",
      "        20           0.3148            1.51m\n",
      "        30           0.2289            1.29m\n",
      "        40           0.1705            1.10m\n",
      "        50           0.1268           54.50s\n",
      "        60           0.0964           43.49s\n",
      "        70           0.0733           32.55s\n",
      "        80           0.0562           21.67s\n",
      "        90           0.0431           10.84s\n",
      "       100           0.0333            0.00s\n",
      "6N\n"
     ]
    },
    {
     "name": "stderr",
     "output_type": "stream",
     "text": [
      "train classifier: 0.00 seconds\n"
     ]
    },
    {
     "name": "stdout",
     "output_type": "stream",
     "text": [
      "      Iter       Train Loss   Remaining Time \n",
      "         1           0.7092           59.52s\n",
      "         2           0.5586           59.84s\n",
      "         3           0.4587            1.00m\n",
      "         4           0.3940           59.14s\n",
      "         5           0.3414           58.78s\n",
      "         6           0.3035           57.96s\n",
      "         7           0.2713           57.58s\n",
      "         8           0.2527           56.32s\n",
      "         9           0.2312           55.77s\n",
      "        10           0.2080           55.54s\n",
      "        20           0.0885           49.72s\n",
      "        30           0.0421           43.58s\n",
      "        40           0.0217           37.52s\n",
      "        50           0.0120           31.19s\n",
      "        60           0.0073           24.89s\n",
      "        70           0.0041           18.67s\n",
      "        80           0.0023           12.48s\n",
      "        90           0.0013            6.24s\n",
      "       100           0.0007            0.00s\n",
      "7N\n"
     ]
    },
    {
     "name": "stderr",
     "output_type": "stream",
     "text": [
      "train classifier: 0.00 seconds\n"
     ]
    },
    {
     "name": "stdout",
     "output_type": "stream",
     "text": [
      "      Iter       Train Loss   Remaining Time \n",
      "         1           1.0804            1.92m\n",
      "         2           0.8972            1.90m\n",
      "         3           0.7740            1.88m\n",
      "         4           0.6836            1.87m\n",
      "         5           0.6216            1.85m\n",
      "         6           0.5701            1.83m\n",
      "         7           0.5303            1.80m\n",
      "         8           0.4957            1.78m\n",
      "         9           0.4687            1.76m\n",
      "        10           0.4434            1.74m\n",
      "        20           0.2811            1.53m\n",
      "        30           0.1976            1.31m\n",
      "        40           0.1363            1.12m\n",
      "        50           0.0987           55.71s\n",
      "        60           0.0714           44.47s\n",
      "        70           0.0511           33.38s\n",
      "        80           0.0382           22.19s\n",
      "        90           0.0287           11.08s\n",
      "       100           0.0216            0.00s\n",
      "7n\n"
     ]
    },
    {
     "name": "stderr",
     "output_type": "stream",
     "text": [
      "train classifier: 0.00 seconds\n"
     ]
    },
    {
     "name": "stdout",
     "output_type": "stream",
     "text": [
      "      Iter       Train Loss   Remaining Time \n",
      "         1           0.9831            1.87m\n",
      "         2           0.7559            1.83m\n",
      "         3           0.6098            1.80m\n",
      "         4           0.5067            1.78m\n",
      "         5           0.4365            1.76m\n",
      "         6           0.3793            1.74m\n",
      "         7           0.3454            1.70m\n",
      "         8           0.3141            1.68m\n",
      "         9           0.2885            1.66m\n",
      "        10           0.2646            1.64m\n",
      "        20           0.1458            1.45m\n",
      "        30           0.0860            1.27m\n",
      "        40           0.0543            1.09m\n",
      "        50           0.0341           54.20s\n",
      "        60           0.0223           43.35s\n",
      "        70           0.0150           32.46s\n",
      "        80           0.0103           21.60s\n",
      "        90           0.0072           10.78s\n",
      "       100           0.0049            0.00s\n",
      "Amb\n"
     ]
    },
    {
     "name": "stderr",
     "output_type": "stream",
     "text": [
      "train classifier: 0.00 seconds\n"
     ]
    },
    {
     "name": "stdout",
     "output_type": "stream",
     "text": [
      "      Iter       Train Loss   Remaining Time \n",
      "         1           0.9040            1.31m\n",
      "         2           0.7029            1.28m\n",
      "         3           0.5715            1.27m\n",
      "         4           0.4808            1.25m\n",
      "         5           0.4096            1.24m\n",
      "         6           0.3587            1.23m\n",
      "         7           0.3245            1.21m\n",
      "         8           0.2913            1.20m\n",
      "         9           0.2615            1.19m\n",
      "        10           0.2397            1.17m\n",
      "        20           0.1128            1.04m\n",
      "        30           0.0654           54.04s\n",
      "        40           0.0376           46.18s\n",
      "        50           0.0224           38.31s\n",
      "        60           0.0134           30.84s\n",
      "        70           0.0085           23.13s\n",
      "        80           0.0050           15.44s\n",
      "        90           0.0031            7.71s\n",
      "       100           0.0021            0.00s\n",
      "LC\n"
     ]
    },
    {
     "name": "stderr",
     "output_type": "stream",
     "text": [
      "train classifier: 0.00 seconds\n"
     ]
    },
    {
     "name": "stdout",
     "output_type": "stream",
     "text": [
      "      Iter       Train Loss   Remaining Time \n",
      "         1           1.0946            1.89m\n",
      "         2           0.9279            1.86m\n",
      "         3           0.8112            1.85m\n",
      "         4           0.7300            1.83m\n",
      "         5           0.6740            1.80m\n",
      "         6           0.6203            1.78m\n",
      "         7           0.5821            1.76m\n",
      "         8           0.5495            1.74m\n",
      "         9           0.5233            1.72m\n",
      "        10           0.4985            1.70m\n",
      "        20           0.3324            1.49m\n",
      "        30           0.2362            1.28m\n",
      "        40           0.1691            1.09m\n",
      "        50           0.1240           54.56s\n",
      "        60           0.0907           43.67s\n",
      "        70           0.0676           32.69s\n",
      "        80           0.0521           21.73s\n",
      "        90           0.0395           10.85s\n",
      "       100           0.0304            0.00s\n",
      "LRt\n"
     ]
    },
    {
     "name": "stderr",
     "output_type": "stream",
     "text": [
      "train classifier: 0.00 seconds\n"
     ]
    },
    {
     "name": "stdout",
     "output_type": "stream",
     "text": [
      "      Iter       Train Loss   Remaining Time \n",
      "         1           1.1496            1.94m\n",
      "         2           1.0050            1.91m\n",
      "         3           0.9013            1.89m\n",
      "         4           0.8260            1.88m\n",
      "         5           0.7720            1.86m\n",
      "         6           0.7263            1.83m\n",
      "         7           0.6861            1.81m\n",
      "         8           0.6506            1.79m\n",
      "         9           0.6182            1.77m\n",
      "        10           0.5913            1.75m\n",
      "        20           0.4288            1.50m\n",
      "        30           0.3298            1.28m\n",
      "        40           0.2550            1.09m\n",
      "        50           0.1958           54.28s\n",
      "        60           0.1487           43.48s\n",
      "        70           0.1108           32.72s\n",
      "        80           0.0846           21.84s\n",
      "        90           0.0658           10.91s\n",
      "       100           0.0528            0.00s\n",
      "Pn\n"
     ]
    },
    {
     "name": "stderr",
     "output_type": "stream",
     "text": [
      "train classifier: 0.00 seconds\n"
     ]
    },
    {
     "name": "stdout",
     "output_type": "stream",
     "text": [
      "      Iter       Train Loss   Remaining Time \n",
      "         1           0.9991            1.84m\n",
      "         2           0.7724            1.83m\n",
      "         3           0.6252            1.82m\n",
      "         4           0.5206            1.80m\n",
      "         5           0.4464            1.79m\n",
      "         6           0.3909            1.77m\n",
      "         7           0.3558            1.73m\n",
      "         8           0.3209            1.71m\n",
      "         9           0.2893            1.70m\n",
      "        10           0.2677            1.68m\n",
      "        20           0.1464            1.47m\n",
      "        30           0.0923            1.27m\n",
      "        40           0.0599            1.09m\n",
      "        50           0.0380           54.49s\n",
      "        60           0.0250           43.54s\n",
      "        70           0.0171           32.60s\n",
      "        80           0.0121           21.71s\n",
      "        90           0.0081           10.86s\n",
      "       100           0.0055            0.00s\n",
      "Tz\n"
     ]
    },
    {
     "name": "stderr",
     "output_type": "stream",
     "text": [
      "train classifier: 0.00 seconds\n"
     ]
    },
    {
     "name": "stdout",
     "output_type": "stream",
     "text": [
      "      Iter       Train Loss   Remaining Time \n",
      "         1           1.0133            1.89m\n",
      "         2           0.8005            1.85m\n",
      "         3           0.6670            1.80m\n",
      "         4           0.5744            1.78m\n",
      "         5           0.5052            1.76m\n",
      "         6           0.4521            1.75m\n",
      "         7           0.4148            1.73m\n",
      "         8           0.3823            1.71m\n",
      "         9           0.3517            1.70m\n",
      "        10           0.3275            1.67m\n",
      "        20           0.1821            1.48m\n",
      "        30           0.1193            1.28m\n",
      "        40           0.0764            1.09m\n",
      "        50           0.0498           54.69s\n",
      "        60           0.0335           43.71s\n",
      "        70           0.0231           32.78s\n",
      "        80           0.0161           21.84s\n",
      "        90           0.0116           10.89s\n",
      "       100           0.0084            0.00s\n",
      "VLL\n"
     ]
    },
    {
     "name": "stderr",
     "output_type": "stream",
     "text": [
      "train classifier: 0.00 seconds\n"
     ]
    },
    {
     "name": "stdout",
     "output_type": "stream",
     "text": [
      "      Iter       Train Loss   Remaining Time \n",
      "         1           1.0768            1.96m\n",
      "         2           0.8908            1.93m\n",
      "         3           0.7739            1.89m\n",
      "         4           0.6870            1.86m\n",
      "         5           0.6256            1.83m\n",
      "         6           0.5809            1.81m\n",
      "         7           0.5415            1.79m\n",
      "         8           0.5060            1.77m\n",
      "         9           0.4788            1.74m\n",
      "        10           0.4567            1.72m\n",
      "        20           0.3244            1.48m\n",
      "        30           0.2385            1.28m\n",
      "        40           0.1743            1.09m\n",
      "        50           0.1265           54.57s\n",
      "        60           0.0908           43.81s\n",
      "        70           0.0701           32.70s\n",
      "        80           0.0536           21.77s\n",
      "        90           0.0396           10.91s\n",
      "       100           0.0305            0.00s\n",
      "RMC\n"
     ]
    },
    {
     "name": "stderr",
     "output_type": "stream",
     "text": [
      "train classifier: 0.00 seconds\n"
     ]
    },
    {
     "name": "stdout",
     "output_type": "stream",
     "text": [
      "      Iter       Train Loss   Remaining Time \n",
      "         1           1.1454            1.93m\n",
      "         2           0.9932            1.93m\n",
      "         3           0.8842            1.90m\n",
      "         4           0.8052            1.89m\n",
      "         5           0.7465            1.87m\n",
      "         6           0.7014            1.84m\n",
      "         7           0.6600            1.82m\n",
      "         8           0.6223            1.80m\n",
      "         9           0.5905            1.78m\n",
      "        10           0.5680            1.75m\n",
      "        20           0.3927            1.52m\n",
      "        30           0.2962            1.31m\n",
      "        40           0.2229            1.11m\n",
      "        50           0.1694           55.08s\n",
      "        60           0.1288           44.02s\n",
      "        70           0.1016           32.89s\n",
      "        80           0.0807           21.84s\n",
      "        90           0.0644           10.88s\n",
      "       100           0.0514            0.00s\n",
      "SNC\n"
     ]
    },
    {
     "name": "stderr",
     "output_type": "stream",
     "text": [
      "train classifier: 0.00 seconds\n"
     ]
    },
    {
     "name": "stdout",
     "output_type": "stream",
     "text": [
      "      Iter       Train Loss   Remaining Time \n",
      "         1           1.1827            1.95m\n",
      "         2           1.0571            1.92m\n",
      "         3           0.9661            1.91m\n",
      "         4           0.9024            1.88m\n",
      "         5           0.8526            1.85m\n",
      "         6           0.8131            1.82m\n",
      "         7           0.7722            1.79m\n",
      "         8           0.7369            1.77m\n",
      "         9           0.7020            1.76m\n",
      "        10           0.6720            1.74m\n",
      "        20           0.4736            1.52m\n",
      "        30           0.3582            1.31m\n",
      "        40           0.2684            1.11m\n",
      "        50           0.2050           55.35s\n",
      "        60           0.1560           44.31s\n",
      "        70           0.1255           33.07s\n",
      "        80           0.0992           22.05s\n",
      "        90           0.0777           11.02s\n",
      "       100           0.0613            0.00s\n",
      "SNR\n"
     ]
    },
    {
     "name": "stderr",
     "output_type": "stream",
     "text": [
      "train classifier: 0.00 seconds\n"
     ]
    },
    {
     "name": "stdout",
     "output_type": "stream",
     "text": [
      "      Iter       Train Loss   Remaining Time \n",
      "         1           1.2373            1.92m\n",
      "         2           1.1314            1.90m\n",
      "         3           1.0486            1.88m\n",
      "         4           0.9706            1.87m\n",
      "         5           0.9166            1.86m\n",
      "         6           0.8698            1.83m\n",
      "         7           0.8276            1.80m\n",
      "         8           0.7902            1.78m\n",
      "         9           0.7528            1.76m\n",
      "        10           0.7254            1.74m\n",
      "        20           0.4889            1.54m\n",
      "        30           0.3624            1.33m\n",
      "        40           0.2770            1.13m\n",
      "        50           0.2156           55.91s\n",
      "        60           0.1648           44.64s\n",
      "        70           0.1282           33.40s\n",
      "        80           0.1004           22.21s\n",
      "        90           0.0791           11.09s\n",
      "       100           0.0622            0.00s\n",
      "3N\n"
     ]
    },
    {
     "name": "stderr",
     "output_type": "stream",
     "text": [
      "train classifier: 0.00 seconds\n"
     ]
    },
    {
     "name": "stdout",
     "output_type": "stream",
     "text": [
      "      Iter       Train Loss   Remaining Time \n",
      "         1           1.0404            1.94m\n",
      "         2           0.8413            1.91m\n",
      "         3           0.7069            1.88m\n",
      "         4           0.6056            1.87m\n",
      "         5           0.5351            1.84m\n",
      "         6           0.4783            1.82m\n",
      "         7           0.4418            1.79m\n",
      "         8           0.4075            1.77m\n",
      "         9           0.3801            1.74m\n",
      "        10           0.3572            1.72m\n",
      "        20           0.2191            1.50m\n",
      "        30           0.1337            1.30m\n",
      "        40           0.0886            1.11m\n",
      "        50           0.0626           55.27s\n",
      "        60           0.0444           44.08s\n",
      "        70           0.0310           33.02s\n",
      "        80           0.0225           21.97s\n",
      "        90           0.0164           10.96s\n",
      "       100           0.0119            0.00s\n",
      "4N\n"
     ]
    },
    {
     "name": "stderr",
     "output_type": "stream",
     "text": [
      "train classifier: 0.00 seconds\n"
     ]
    },
    {
     "name": "stdout",
     "output_type": "stream",
     "text": [
      "      Iter       Train Loss   Remaining Time \n",
      "         1           0.4934           52.01s\n",
      "         2           0.3955           51.59s\n",
      "         3           0.3269           51.47s\n",
      "         4           0.2734           51.13s\n",
      "         5           0.2380           50.46s\n",
      "         6           0.2060           50.49s\n",
      "         7           0.1921           48.98s\n",
      "         8           0.1676           49.09s\n",
      "         9           0.1504           48.48s\n",
      "        10           0.1329           48.26s\n",
      "        20           0.0538           43.01s\n",
      "        30           0.0273           36.99s\n",
      "        40           0.0138           31.57s\n",
      "        50           0.0072           26.25s\n",
      "        60           0.0038           21.04s\n",
      "        70           0.0020           15.82s\n",
      "        80           0.0010           10.53s\n",
      "        90           0.0006            5.26s\n",
      "       100           0.0003            0.00s\n",
      "Sp5I\n"
     ]
    },
    {
     "name": "stderr",
     "output_type": "stream",
     "text": [
      "train classifier: 0.00 seconds\n"
     ]
    },
    {
     "name": "stdout",
     "output_type": "stream",
     "text": [
      "      Iter       Train Loss   Remaining Time \n",
      "         1           1.0795            1.92m\n",
      "         2           0.8957            1.91m\n",
      "         3           0.7720            1.88m\n",
      "         4           0.6852            1.86m\n",
      "         5           0.6253            1.82m\n",
      "         6           0.5756            1.80m\n",
      "         7           0.5385            1.77m\n",
      "         8           0.5074            1.75m\n",
      "         9           0.4758            1.73m\n",
      "        10           0.4518            1.71m\n",
      "        20           0.2929            1.49m\n",
      "        30           0.2060            1.29m\n",
      "        40           0.1401            1.11m\n",
      "        50           0.1023           55.03s\n",
      "        60           0.0770           43.75s\n",
      "        70           0.0563           32.85s\n",
      "        80           0.0425           21.83s\n",
      "        90           0.0318           10.92s\n",
      "       100           0.0243            0.00s\n",
      "Sp5O\n"
     ]
    },
    {
     "name": "stderr",
     "output_type": "stream",
     "text": [
      "train classifier: 0.00 seconds\n"
     ]
    },
    {
     "name": "stdout",
     "output_type": "stream",
     "text": [
      "      Iter       Train Loss   Remaining Time \n",
      "         1           1.1645            1.96m\n",
      "         2           1.0320            1.93m\n",
      "         3           0.9407            1.90m\n",
      "         4           0.8717            1.89m\n",
      "         5           0.8175            1.86m\n",
      "         6           0.7814            1.83m\n",
      "         7           0.7433            1.81m\n",
      "         8           0.7111            1.79m\n",
      "         9           0.6904            1.76m\n",
      "        10           0.6640            1.74m\n",
      "        20           0.4784            1.51m\n",
      "        30           0.3708            1.30m\n",
      "        40           0.2924            1.10m\n",
      "        50           0.2306           54.58s\n",
      "        60           0.1782           43.72s\n",
      "        70           0.1443           32.60s\n",
      "        80           0.1173           21.98s\n",
      "        90           0.0920           11.14s\n",
      "       100           0.0722            0.00s\n",
      "Sp5C\n"
     ]
    },
    {
     "name": "stderr",
     "output_type": "stream",
     "text": [
      "train classifier: 0.00 seconds\n"
     ]
    },
    {
     "name": "stdout",
     "output_type": "stream",
     "text": [
      "      Iter       Train Loss   Remaining Time \n",
      "         1           1.1679            1.90m\n",
      "         2           1.0296            1.88m\n",
      "         3           0.9339            1.86m\n",
      "         4           0.8655            1.83m\n",
      "         5           0.8096            1.82m\n",
      "         6           0.7666            1.79m\n",
      "         7           0.7350            1.75m\n",
      "         8           0.7010            1.74m\n",
      "         9           0.6773            1.71m\n",
      "        10           0.6509            1.70m\n",
      "        20           0.4885            1.47m\n",
      "        30           0.3785            1.27m\n",
      "        40           0.2990            1.08m\n",
      "        50           0.2238           54.09s\n",
      "        60           0.1710           43.31s\n",
      "        70           0.1318           32.50s\n",
      "        80           0.1025           21.68s\n",
      "        90           0.0794           10.86s\n",
      "       100           0.0600            0.00s\n",
      "PBG\n"
     ]
    },
    {
     "name": "stderr",
     "output_type": "stream",
     "text": [
      "train classifier: 0.00 seconds\n"
     ]
    },
    {
     "name": "stdout",
     "output_type": "stream",
     "text": [
      "      Iter       Train Loss   Remaining Time \n",
      "         1           1.0368            1.80m\n",
      "         2           0.8334            1.77m\n",
      "         3           0.6991            1.76m\n",
      "         4           0.6061            1.73m\n",
      "         5           0.5341            1.72m\n",
      "         6           0.4809            1.69m\n",
      "         7           0.4413            1.67m\n",
      "         8           0.4059            1.65m\n",
      "         9           0.3786            1.63m\n",
      "        10           0.3556            1.60m\n",
      "        20           0.2038            1.41m\n",
      "        30           0.1303            1.21m\n",
      "        40           0.0857            1.04m\n",
      "        50           0.0578           51.69s\n",
      "        60           0.0396           41.25s\n",
      "        70           0.0275           30.90s\n",
      "        80           0.0191           20.59s\n",
      "        90           0.0135           10.28s\n",
      "       100           0.0095            0.00s\n",
      "10N\n"
     ]
    },
    {
     "name": "stderr",
     "output_type": "stream",
     "text": [
      "train classifier: 0.00 seconds\n"
     ]
    },
    {
     "name": "stdout",
     "output_type": "stream",
     "text": [
      "      Iter       Train Loss   Remaining Time \n",
      "         1           1.1055            1.81m\n",
      "         2           0.9353            1.76m\n",
      "         3           0.8154            1.74m\n",
      "         4           0.7294            1.73m\n",
      "         5           0.6601            1.71m\n",
      "         6           0.6013            1.69m\n",
      "         7           0.5547            1.68m\n",
      "         8           0.5161            1.66m\n",
      "         9           0.4822            1.63m\n",
      "        10           0.4452            1.62m\n",
      "        20           0.2630            1.41m\n",
      "        30           0.1643            1.23m\n",
      "        40           0.1129            1.04m\n",
      "        50           0.0769           51.59s\n",
      "        60           0.0529           41.19s\n",
      "        70           0.0353           30.95s\n",
      "        80           0.0242           20.63s\n",
      "        90           0.0173           10.30s\n",
      "       100           0.0124            0.00s\n",
      "VCA\n"
     ]
    },
    {
     "name": "stderr",
     "output_type": "stream",
     "text": [
      "train classifier: 0.00 seconds\n"
     ]
    },
    {
     "name": "stdout",
     "output_type": "stream",
     "text": [
      "      Iter       Train Loss   Remaining Time \n",
      "         1           1.0029            1.97m\n",
      "         2           0.7826            1.94m\n",
      "         3           0.6467            1.90m\n",
      "         4           0.5490            1.88m\n",
      "         5           0.4798            1.86m\n",
      "         6           0.4285            1.84m\n",
      "         7           0.3860            1.82m\n",
      "         8           0.3574            1.81m\n",
      "         9           0.3348            1.79m\n",
      "        10           0.3150            1.76m\n",
      "        20           0.1930            1.55m\n",
      "        30           0.1202            1.36m\n",
      "        40           0.0801            1.17m\n",
      "        50           0.0545           58.42s\n",
      "        60           0.0390           46.69s\n",
      "        70           0.0273           34.96s\n",
      "        80           0.0204           23.27s\n",
      "        90           0.0145           11.63s\n",
      "       100           0.0105            0.00s\n",
      "VCP\n"
     ]
    },
    {
     "name": "stderr",
     "output_type": "stream",
     "text": [
      "train classifier: 0.00 seconds\n"
     ]
    },
    {
     "name": "stdout",
     "output_type": "stream",
     "text": [
      "      Iter       Train Loss   Remaining Time \n",
      "         1           1.1197            1.98m\n",
      "         2           0.9623            1.96m\n",
      "         3           0.8630            1.91m\n",
      "         4           0.7862            1.90m\n",
      "         5           0.7262            1.88m\n",
      "         6           0.6839            1.85m\n",
      "         7           0.6458            1.83m\n",
      "         8           0.6138            1.81m\n",
      "         9           0.5832            1.80m\n",
      "        10           0.5593            1.78m\n",
      "        20           0.3884            1.58m\n",
      "        30           0.2835            1.38m\n",
      "        40           0.2066            1.19m\n",
      "        50           0.1565           59.26s\n",
      "        60           0.1184           47.39s\n",
      "        70           0.0894           35.60s\n",
      "        80           0.0672           23.78s\n",
      "        90           0.0515           11.88s\n",
      "       100           0.0405            0.00s\n",
      "DC\n"
     ]
    },
    {
     "name": "stderr",
     "output_type": "stream",
     "text": [
      "train classifier: 0.00 seconds\n"
     ]
    },
    {
     "name": "stdout",
     "output_type": "stream",
     "text": [
      "      Iter       Train Loss   Remaining Time \n",
      "         1           1.1010            2.01m\n",
      "         2           0.9295            1.99m\n",
      "         3           0.8156            1.97m\n",
      "         4           0.7376            1.95m\n",
      "         5           0.6742            1.92m\n",
      "         6           0.6257            1.89m\n",
      "         7           0.5920            1.86m\n",
      "         8           0.5563            1.84m\n",
      "         9           0.5259            1.82m\n",
      "        10           0.4993            1.80m\n",
      "        20           0.3322            1.60m\n",
      "        30           0.2408            1.38m\n",
      "        40           0.1738            1.19m\n",
      "        50           0.1302           59.04s\n",
      "        60           0.0968           47.18s\n",
      "        70           0.0704           35.41s\n",
      "        80           0.0531           23.61s\n",
      "        90           0.0383           11.83s\n",
      "       100           0.0284            0.00s\n",
      "AP\n"
     ]
    },
    {
     "name": "stderr",
     "output_type": "stream",
     "text": [
      "train classifier: 0.00 seconds\n"
     ]
    },
    {
     "name": "stdout",
     "output_type": "stream",
     "text": [
      "      Iter       Train Loss   Remaining Time \n",
      "         1           0.9745            1.90m\n",
      "         2           0.7411            1.86m\n",
      "         3           0.5870            1.84m\n",
      "         4           0.4823            1.81m\n",
      "         5           0.4055            1.79m\n",
      "         6           0.3498            1.78m\n",
      "         7           0.3034            1.76m\n",
      "         8           0.2692            1.74m\n",
      "         9           0.2440            1.71m\n",
      "        10           0.2201            1.69m\n",
      "        20           0.1142            1.48m\n",
      "        30           0.0641            1.29m\n",
      "        40           0.0418            1.10m\n",
      "        50           0.0260           54.91s\n",
      "        60           0.0168           43.87s\n",
      "        70           0.0110           32.88s\n",
      "        80           0.0073           21.89s\n",
      "        90           0.0050           10.93s\n",
      "       100           0.0034            0.00s\n",
      "12N\n"
     ]
    },
    {
     "name": "stderr",
     "output_type": "stream",
     "text": [
      "train classifier: 0.00 seconds\n"
     ]
    },
    {
     "name": "stdout",
     "output_type": "stream",
     "text": [
      "      Iter       Train Loss   Remaining Time \n",
      "         1           1.0368            1.98m\n",
      "         2           0.8311            1.99m\n",
      "         3           0.6939            1.96m\n",
      "         4           0.6033            1.92m\n",
      "         5           0.5364            1.89m\n",
      "         6           0.4807            1.87m\n",
      "         7           0.4405            1.84m\n",
      "         8           0.4041            1.82m\n",
      "         9           0.3748            1.80m\n",
      "        10           0.3530            1.78m\n",
      "        20           0.2057            1.56m\n",
      "        30           0.1306            1.36m\n",
      "        40           0.0865            1.16m\n",
      "        50           0.0612           57.48s\n",
      "        60           0.0417           46.00s\n",
      "        70           0.0288           34.49s\n",
      "        80           0.0195           23.06s\n",
      "        90           0.0133           11.54s\n",
      "       100           0.0094            0.00s\n",
      "RtTg\n"
     ]
    },
    {
     "name": "stderr",
     "output_type": "stream",
     "text": [
      "train classifier: 0.00 seconds\n"
     ]
    },
    {
     "name": "stdout",
     "output_type": "stream",
     "text": [
      "      Iter       Train Loss   Remaining Time \n",
      "         1           1.1534            2.09m\n",
      "         2           1.0063            2.07m\n",
      "         3           0.9104            2.02m\n",
      "         4           0.8378            1.99m\n",
      "         5           0.7780            1.97m\n",
      "         6           0.7324            1.94m\n",
      "         7           0.6909            1.92m\n",
      "         8           0.6526            1.90m\n",
      "         9           0.6166            1.88m\n",
      "        10           0.5937            1.85m\n",
      "        20           0.4184            1.60m\n",
      "        30           0.3209            1.37m\n",
      "        40           0.2412            1.17m\n",
      "        50           0.1844           57.98s\n",
      "        60           0.1448           46.10s\n",
      "        70           0.1129           34.50s\n",
      "        80           0.0880           22.99s\n",
      "        90           0.0679           11.51s\n",
      "       100           0.0527            0.00s\n",
      "SC\n"
     ]
    },
    {
     "name": "stderr",
     "output_type": "stream",
     "text": [
      "train classifier: 0.00 seconds\n"
     ]
    },
    {
     "name": "stdout",
     "output_type": "stream",
     "text": [
      "      Iter       Train Loss   Remaining Time \n",
      "         1           1.2352            1.92m\n",
      "         2           1.1408            1.93m\n",
      "         3           1.0620            1.92m\n",
      "         4           1.0111            1.89m\n",
      "         5           0.9656            1.87m\n",
      "         6           0.9208            1.86m\n",
      "         7           0.8839            1.84m\n",
      "         8           0.8505            1.82m\n",
      "         9           0.8314            1.78m\n",
      "        10           0.8071            1.76m\n",
      "        20           0.6095            1.56m\n",
      "        30           0.4694            1.36m\n",
      "        40           0.3830            1.15m\n",
      "        50           0.3129           57.26s\n",
      "        60           0.2524           45.68s\n",
      "        70           0.2041           34.19s\n",
      "        80           0.1700           22.76s\n",
      "        90           0.1329           11.44s\n",
      "       100           0.1060            0.00s\n",
      "IC\n"
     ]
    },
    {
     "name": "stderr",
     "output_type": "stream",
     "text": [
      "train classifier: 0.00 seconds\n"
     ]
    },
    {
     "name": "stdout",
     "output_type": "stream",
     "text": [
      "      Iter       Train Loss   Remaining Time \n",
      "         1           1.1026            2.06m\n",
      "         2           0.9427            2.01m\n",
      "         3           0.8326            1.99m\n",
      "         4           0.7473            1.98m\n",
      "         5           0.6889            1.95m\n",
      "         6           0.6469            1.90m\n",
      "         7           0.6106            1.88m\n",
      "         8           0.5831            1.85m\n",
      "         9           0.5562            1.83m\n",
      "        10           0.5347            1.80m\n",
      "        20           0.3904            1.55m\n",
      "        30           0.2891            1.34m\n",
      "        40           0.2291            1.13m\n",
      "        50           0.1746           56.66s\n",
      "        60           0.1362           45.16s\n",
      "        70           0.1089           33.75s\n",
      "        80           0.0821           22.58s\n",
      "        90           0.0661           11.25s\n",
      "       100           0.0509            0.00s\n"
     ]
    }
   ],
   "source": [
    "# train svm classifiers\n",
    "\n",
    "svm_dir = create_if_not_exists(os.path.join(SVM_ROOTDIR, 'classifiers'))\n",
    "# svm_dir = create_if_not_exists(os.path.join(SVM_ROOTDIR + '/trainSampleScheme_%(scheme)d' % {'scheme':train_sample_scheme}))\n",
    "\n",
    "for label in structures:\n",
    "            \n",
    "    print label\n",
    "\n",
    "    t = time.time()\n",
    "\n",
    "    features_pos = training_features[label]\n",
    "    \n",
    "    if train_sample_scheme in [1, 3, 4, 5, 6, 7]:\n",
    "        features_neg = training_features[convert_to_surround_name(label, 'noclass')]\n",
    "    elif train_sample_scheme == 2:\n",
    "        features_neg = np.vstack([training_features[convert_to_surround_name(label, 'noclass')]] + \\\n",
    "                                  [training_features[convert_to_surround_name(label, surr_l)] \n",
    "                                  for surr_l in structures if convert_to_surround_name(label, surr_l) in labels])\n",
    "    else:\n",
    "        sys.stderr.write('training scheme is not recognized.\\n')\n",
    "   \n",
    "    train_data0 = np.r_[features_pos, features_neg]\n",
    "    train_labels0 = np.r_[np.ones((features_pos.shape[0], )), \n",
    "                         -np.ones((features_neg.shape[0], ))]\n",
    "    \n",
    "#     n_train = len(train_labels0)\n",
    "#     ri = np.random.choice(range(n_train), size=100, replace=False)\n",
    "#     train_data = train_data0[ri]\n",
    "#     train_labels = train_labels0[ri]\n",
    "\n",
    "    train_data = train_data0\n",
    "    train_labels = train_labels0\n",
    "    \n",
    "#     svc = SVC(C=1.0, kernel='rbf', degree=3, gamma='auto', coef0=0.0, shrinking=True, \n",
    "#           probability=True, tol=0.001, cache_size=1000, class_weight=None, verbose=False, \n",
    "#           max_iter=-1, decision_function_shape=None, random_state=None)\n",
    "\n",
    "    if train_sample_scheme == 1:\n",
    "        # L2 penalty - train: 0.88, test acc: 0.84\n",
    "        clf = LogisticRegression(penalty='l2', dual=False, tol=0.0001, C=1.0, \n",
    "                                 fit_intercept=True, intercept_scaling=1, class_weight=None, \n",
    "                                 random_state=None, solver='liblinear', max_iter=100, multi_class='ovr', \n",
    "                                 verbose=0, warm_start=False, n_jobs=1)\n",
    "#         clf.fit(train_data, train_labels)\n",
    "#         joblib.dump(clf, svm_dir + '/%(label)s_svm_trainSampleScheme_%(scheme)d.pkl' % {'label': label, 'scheme':train_sample_scheme})\n",
    "\n",
    "    elif train_sample_scheme == 2:\n",
    "        # L1 penalty - test acc: 0.818\n",
    "        clf = LogisticRegression(penalty='l1', dual=False, tol=0.0001, C=1.0, \n",
    "                                 fit_intercept=True, intercept_scaling=1, class_weight=None, \n",
    "                                 solver='liblinear', max_iter=100, multi_class='ovr', \n",
    "                                 verbose=0, warm_start=False, n_jobs=1)\n",
    "#         clf.fit(train_data, train_labels)\n",
    "#         joblib.dump(clf, svm_dir + '/%(label)s_svm_trainSampleScheme_%(scheme)d.pkl' % {'label': label, 'scheme':train_sample_scheme})\n",
    "\n",
    "            \n",
    "    elif train_sample_scheme == 3:\n",
    "        # Slow - train acc: 0.69, test acc: 0.68\n",
    "        clf = SVC(C=1.0, kernel='linear', degree=3, gamma='auto', coef0=0.0, shrinking=True, \n",
    "                  probability=True, tol=0.001, cache_size=1000, max_iter=-1,\n",
    "              decision_function_shape=None, random_state=None)\n",
    "        \n",
    "#         clf.fit(train_data, train_labels)\n",
    "#         joblib.dump(clf, svm_dir + '/%(label)s_svm_trainSampleScheme_%(scheme)d.pkl' % {'label': label, 'scheme':train_sample_scheme})\n",
    "\n",
    "\n",
    "    elif train_sample_scheme == 4:\n",
    "        # train 0.75, test 0.74\n",
    "        \n",
    "        sv_uncalibrated = LinearSVC(penalty='l2', loss='squared_hinge', dual=True, tol=0.0001, \n",
    "                                C=1.0, multi_class='ovr', \n",
    "                                fit_intercept=True, intercept_scaling=1, max_iter=100)\n",
    "        clf = CalibratedClassifierCV(sv_uncalibrated)\n",
    "        \n",
    "#         clf.fit(train_data, train_labels)\n",
    "#         joblib.dump(clf, svm_dir + '/%(label)s_svm_trainSampleScheme_%(scheme)d.pkl' % {'label': label, 'scheme':train_sample_scheme})\n",
    "\n",
    "        \n",
    "    elif train_sample_scheme == 5:\n",
    "        # train \n",
    "        \n",
    "        # http://xgboost.readthedocs.io/en/latest/python/python_api.html\n",
    "        clf = XGBClassifier(max_depth=3, learning_rate=0.2, n_estimators=200, \n",
    "                            silent=False, objective='binary:logistic', nthread=-1, gamma=0, \n",
    "                            min_child_weight=20, max_delta_step=0, subsample=.8, \n",
    "                            colsample_bytree=.8, colsample_bylevel=1, reg_alpha=0, reg_lambda=1, \n",
    "                            scale_pos_weight=1, base_score=0.5, seed=0, missing=None)\n",
    "        \n",
    "#         clf.fit(train_data, train_labels)\n",
    "#         joblib.dump(svc, svm_dir + '/%(label)s_svm_trainSampleScheme_%(scheme)d.pkl' % {'label': label, 'scheme':train_sample_scheme})\n",
    "\n",
    "    elif train_sample_scheme == 6:\n",
    "        # acc: 0.96/0.85\n",
    "        \n",
    "        # http://scikit-learn.org/stable/modules/generated/sklearn.ensemble.GradientBoostingClassifier.html\n",
    "        clf = GradientBoostingClassifier(loss='deviance', learning_rate=0.3, n_estimators=200, \n",
    "                                         subsample=1., criterion='friedman_mse', \n",
    "                                         min_samples_split=50, min_samples_leaf=20, \n",
    "                                         min_weight_fraction_leaf=0.0, max_depth=3, \n",
    "                                         min_impurity_split=1e-07, init=None, random_state=None, \n",
    "                                         max_features=None, verbose=1, max_leaf_nodes=None, \n",
    "                                         warm_start=False, presort='auto')\n",
    "        \n",
    "    elif train_sample_scheme == 7:\n",
    "        # acc: 0.98/0.87\n",
    "        \n",
    "        # http://scikit-learn.org/stable/modules/generated/sklearn.ensemble.GradientBoostingClassifier.html\n",
    "        clf = GradientBoostingClassifier(loss='deviance', learning_rate=0.3, n_estimators=100, \n",
    "                                         subsample=1., criterion='friedman_mse', \n",
    "                                         min_samples_split=50, min_samples_leaf=20, \n",
    "                                         min_weight_fraction_leaf=0.0, max_depth=5, \n",
    "                                         min_impurity_split=1e-07, init=None, random_state=None, \n",
    "                                         max_features=None, verbose=1, max_leaf_nodes=None, \n",
    "                                         warm_start=False, presort='auto')\n",
    "        \n",
    "    \n",
    "    else:\n",
    "        sys.stderr.write('training scheme is not recognized.\\n')\n",
    " \n",
    "    sys.stderr.write('train classifier: %.2f seconds\\n' % (time.time() - t))\n",
    "    \n",
    "    clf.fit(train_data, train_labels)\n",
    "    joblib.dump(clf, svm_dir + '/%(label)s_svm_trainSampleScheme_%(scheme)d.pkl' % {'label': label, 'scheme':train_sample_scheme})\n",
    "        \n",
    "#     del features_pos, features_neg, train_data, train_labels, svc"
   ]
  },
  {
   "cell_type": "code",
   "execution_count": null,
   "metadata": {
    "collapsed": true
   },
   "outputs": [],
   "source": []
  },
  {
   "cell_type": "markdown",
   "metadata": {},
   "source": [
    "# Load pre-computed svm classifiers"
   ]
  },
  {
   "cell_type": "code",
   "execution_count": 146,
   "metadata": {
    "collapsed": false
   },
   "outputs": [],
   "source": [
    "svc_allClasses = {}\n",
    "for label in structures:\n",
    "    svc_allClasses[label] = joblib.load(SVM_ROOTDIR + '/classifiers/%(label)s_svm_trainSampleScheme_%(scheme)d.pkl' % {'label': label, 'scheme':train_sample_scheme})"
   ]
  },
  {
   "cell_type": "code",
   "execution_count": 34,
   "metadata": {
    "collapsed": true
   },
   "outputs": [],
   "source": [
    "# visualize training patches"
   ]
  },
  {
   "cell_type": "code",
   "execution_count": null,
   "metadata": {
    "collapsed": false
   },
   "outputs": [],
   "source": [
    "patches = extract_patches_given_locations_multiple_sections(sampled_addresses['AP'], 'grid_index')"
   ]
  },
  {
   "cell_type": "code",
   "execution_count": null,
   "metadata": {
    "collapsed": false,
    "scrolled": true
   },
   "outputs": [],
   "source": [
    "display_images_in_grids(patches, 5)"
   ]
  },
  {
   "cell_type": "code",
   "execution_count": null,
   "metadata": {
    "collapsed": false,
    "scrolled": true
   },
   "outputs": [],
   "source": [
    "patches = extract_patches_given_locations_multiple_sections(sampled_addresses['AP_surround'], 'grid_index')"
   ]
  },
  {
   "cell_type": "code",
   "execution_count": null,
   "metadata": {
    "collapsed": false,
    "scrolled": true
   },
   "outputs": [],
   "source": [
    "display_images_in_grids(patches, 5, titles=sampled_addresses['AP_surround'])"
   ]
  },
  {
   "cell_type": "code",
   "execution_count": null,
   "metadata": {
    "collapsed": true
   },
   "outputs": [],
   "source": [
    "# Visualize a patch in context\n",
    "\n",
    "patch_size, stride, _, _ = get_default_gridspec('MD589')\n",
    "grid_locations = grid_parameters_to_sample_locations(get_default_gridspec('MD589'))\n",
    "viz = patch_boxes_overlay_on('original', 8, \n",
    "                       [grid_locations[44453]],\n",
    "                      patch_size=patch_size,\n",
    "                      stack='MD589',\n",
    "                       sec=219)\n",
    "display_image(viz)"
   ]
  },
  {
   "cell_type": "code",
   "execution_count": 148,
   "metadata": {
    "collapsed": false
   },
   "outputs": [
    {
     "data": {
      "image/png": "[encoded data removed]",
      "text/plain": [
       "<matplotlib.figure.Figure at 0x14bee5d0>"
      ]
     },
     "metadata": {},
     "output_type": "display_data"
    }
   ],
   "source": [
    "# Compute training accuracy\n",
    "\n",
    "acc_all_structures = {}\n",
    "\n",
    "nrows = len(structures)/5 + 1\n",
    "ncols = 5\n",
    "\n",
    "fig, axes = plt.subplots(nrows, ncols, figsize=(ncols*2, nrows*2), sharex=True, sharey=True)\n",
    "axes = axes.flatten()\n",
    "\n",
    "for i, label in enumerate(structures):\n",
    "    \n",
    "    features_pos = training_features[label]\n",
    "    \n",
    "    if train_sample_scheme in [1,3,4,5,6,7]:\n",
    "        features_neg = training_features[convert_to_surround_name(label, 'noclass')]\n",
    "    elif train_sample_scheme == 2:\n",
    "        features_neg = np.vstack([training_features[convert_to_surround_name(label, 'noclass')]] + \\\n",
    "                                  [training_features[convert_to_surround_name(label, surr_l)] \n",
    "                                  for surr_l in structures if convert_to_surround_name(label, surr_l) in labels])\n",
    "    else:\n",
    "        sys.stderr.write('training scheme is not recognized.\\n')\n",
    "\n",
    "    \n",
    "    train_data = np.r_[features_pos, features_neg]\n",
    "    train_labels = np.r_[np.ones((features_pos.shape[0], )), \n",
    "                         -np.ones((features_neg.shape[0], ))]\n",
    "    \n",
    "    svc = svc_allClasses[label]\n",
    "    \n",
    "    probs = svc.predict_proba(train_data)[:, svc.classes_.tolist().index(1.)]\n",
    "    cm = compute_confusion_matrix(np.c_[probs, 1-probs], [0 if l==1. else 1 for l in train_labels], soft=True)\n",
    "    \n",
    "    acc_all_structures[label] = .5 * (cm[0,0] + cm[1,1])\n",
    "    \n",
    "    plot_confusion_matrix(cm, title='%(label)s'% {'label':label},\n",
    "                          labels=['',''],\n",
    "#                           labels=[label, convert_to_surround_name(label)],\n",
    "                         axis=axes[i])\n",
    "#     plt.show();\n",
    "\n",
    "plt.tight_layout()"
   ]
  },
  {
   "cell_type": "code",
   "execution_count": 149,
   "metadata": {
    "collapsed": false
   },
   "outputs": [
    {
     "name": "stdout",
     "output_type": "stream",
     "text": [
      "training accuracy: 0.985115947072\n"
     ]
    }
   ],
   "source": [
    "print 'training accuracy:', np.mean(acc_all_structures.values())"
   ]
  },
  {
   "cell_type": "code",
   "execution_count": null,
   "metadata": {
    "collapsed": true
   },
   "outputs": [],
   "source": []
  },
  {
   "cell_type": "markdown",
   "metadata": {},
   "source": [
    "# Test"
   ]
  },
  {
   "cell_type": "code",
   "execution_count": 24,
   "metadata": {
    "collapsed": false
   },
   "outputs": [
    {
     "name": "stderr",
     "output_type": "stream",
     "text": [
      "Cell is empty.\n",
      "Cell is empty.\n",
      "Cell is empty.\n",
      "Cell is empty.\n",
      "Cell is empty.\n",
      "Cell is empty.\n",
      "Cell is empty.\n",
      "Cell is empty.\n",
      "Cell is empty.\n",
      "Cell is empty.\n"
     ]
    }
   ],
   "source": [
    "# Extract test samples\n",
    "\n",
    "test_addresses = defaultdict(list)\n",
    "\n",
    "for stack in ['MD589', 'MD585', 'MD594']:\n",
    "    annotation_grid_indices_fn = '/home/yuncong/csd395/CSHL_labelings_v3/%(stack)s/%(stack)s_annotation_grid_indices.h5' % dict(stack=stack)\n",
    "    label_gridIndices = read_hdf(annotation_grid_indices_fn, 'grid_indices')\n",
    "    sampled_addresses_sec_idx = sample_locations(label_gridIndices, labels, num_samples_per_landmark=1000)\n",
    "    \n",
    "    for name_u, addresses in sampled_addresses_sec_idx.iteritems():\n",
    "        test_addresses[name_u] += [(stack, ) + addr for addr in addresses]\n",
    "        \n",
    "test_addresses.default_factory = None\n",
    "        \n",
    "# sampled_addresses = {name_u: np.array(addresses) for name_u, addresses in sampled_addresses.iteritems()}"
   ]
  },
  {
   "cell_type": "code",
   "execution_count": 25,
   "metadata": {
    "collapsed": false,
    "scrolled": true
   },
   "outputs": [
    {
     "name": "stdout",
     "output_type": "stream",
     "text": [
      "('MD585', 83)\n",
      "('MD585', 84)\n",
      "('MD585', 85)\n",
      "('MD585', 86)\n",
      "('MD585', 87)\n",
      "('MD585', 88)\n",
      "('MD585', 89)\n",
      "('MD585', 90)\n",
      "('MD585', 91)\n",
      "('MD585', 92)\n",
      "('MD585', 93)\n",
      "('MD585', 94)\n",
      "('MD585', 95)\n",
      "('MD585', 96)\n",
      "('MD585', 97)\n",
      "('MD585', 98)\n",
      "('MD585', 99)\n",
      "('MD585', 100)\n",
      "('MD585', 101)\n",
      "('MD585', 102)\n",
      "('MD585', 103)\n",
      "('MD585', 104)\n",
      "('MD585', 105)\n",
      "('MD585', 106)\n",
      "('MD585', 107)\n",
      "('MD585', 108)\n",
      "('MD585', 109)\n",
      "('MD585', 110)\n",
      "('MD585', 111)\n",
      "('MD585', 112)\n",
      "('MD585', 113)\n",
      "('MD585', 114)\n",
      "('MD585', 115)\n",
      "('MD585', 116)\n",
      "('MD585', 117)\n",
      "('MD585', 119)\n",
      "('MD585', 120)\n",
      "('MD585', 121)\n",
      "('MD585', 122)\n",
      "('MD585', 123)\n",
      "('MD585', 124)\n",
      "('MD585', 125)\n",
      "('MD585', 126)\n",
      "('MD585', 127)\n",
      "('MD585', 128)\n",
      "('MD585', 129)\n",
      "('MD585', 130)\n",
      "('MD585', 131)\n",
      "('MD585', 132)\n",
      "('MD585', 133)\n",
      "('MD585', 134)\n",
      "('MD585', 135)\n",
      "('MD585', 136)\n",
      "('MD585', 137)\n",
      "('MD585', 138)\n",
      "('MD585', 139)\n"
     ]
    },
    {
     "name": "stderr",
     "output_type": "stream",
     "text": [
      "Patch in annotation but not in mask: MD585 139 MD585-N26-2015.08.19-15.37.53_MD585_1_0076 alignedTo MD585-N47-2015.07.16-22.50.52_MD585_3_0141 @53778\n"
     ]
    },
    {
     "name": "stdout",
     "output_type": "stream",
     "text": [
      "('MD585', 140)\n",
      "('MD585', 141)\n",
      "('MD585', 142)\n",
      "('MD585', 143)\n",
      "('MD585', 144)\n",
      "('MD585', 145)\n",
      "('MD585', 146)\n",
      "('MD585', 147)\n",
      "('MD585', 148)\n",
      "('MD585', 149)\n",
      "('MD585', 150)\n",
      "('MD585', 151)\n"
     ]
    },
    {
     "name": "stderr",
     "output_type": "stream",
     "text": [
      "Patch in annotation but not in mask: MD585 151 MD585-N28-2015.08.19-15.47.09_MD585_1_0082 alignedTo MD585-N47-2015.07.16-22.50.52_MD585_3_0141 @55256\n",
      "Patch in annotation but not in mask: MD585 151 MD585-N28-2015.08.19-15.47.09_MD585_1_0082 alignedTo MD585-N47-2015.07.16-22.50.52_MD585_3_0141 @50597\n",
      "Patch in annotation but not in mask: MD585 151 MD585-N28-2015.08.19-15.47.09_MD585_1_0082 alignedTo MD585-N47-2015.07.16-22.50.52_MD585_3_0141 @52706\n",
      "Patch in annotation but not in mask: MD585 151 MD585-N28-2015.08.19-15.47.09_MD585_1_0082 alignedTo MD585-N47-2015.07.16-22.50.52_MD585_3_0141 @50594\n",
      "Patch in annotation but not in mask: MD585 151 MD585-N28-2015.08.19-15.47.09_MD585_1_0082 alignedTo MD585-N47-2015.07.16-22.50.52_MD585_3_0141 @54826\n",
      "Patch in annotation but not in mask: MD585 151 MD585-N28-2015.08.19-15.47.09_MD585_1_0082 alignedTo MD585-N47-2015.07.16-22.50.52_MD585_3_0141 @50624\n",
      "Patch in annotation but not in mask: MD585 151 MD585-N28-2015.08.19-15.47.09_MD585_1_0082 alignedTo MD585-N47-2015.07.16-22.50.52_MD585_3_0141 @50812\n",
      "Patch in annotation but not in mask: MD585 151 MD585-N28-2015.08.19-15.47.09_MD585_1_0082 alignedTo MD585-N47-2015.07.16-22.50.52_MD585_3_0141 @52301\n",
      "Patch in annotation but not in mask: MD585 151 MD585-N28-2015.08.19-15.47.09_MD585_1_0082 alignedTo MD585-N47-2015.07.16-22.50.52_MD585_3_0141 @55689\n",
      "Patch in annotation but not in mask: MD585 151 MD585-N28-2015.08.19-15.47.09_MD585_1_0082 alignedTo MD585-N47-2015.07.16-22.50.52_MD585_3_0141 @51240\n",
      "Patch in annotation but not in mask: MD585 151 MD585-N28-2015.08.19-15.47.09_MD585_1_0082 alignedTo MD585-N47-2015.07.16-22.50.52_MD585_3_0141 @54423\n",
      "Patch in annotation but not in mask: MD585 151 MD585-N28-2015.08.19-15.47.09_MD585_1_0082 alignedTo MD585-N47-2015.07.16-22.50.52_MD585_3_0141 @50839\n",
      "Patch in annotation but not in mask: MD585 151 MD585-N28-2015.08.19-15.47.09_MD585_1_0082 alignedTo MD585-N47-2015.07.16-22.50.52_MD585_3_0141 @51674\n",
      "Patch in annotation but not in mask: MD585 151 MD585-N28-2015.08.19-15.47.09_MD585_1_0082 alignedTo MD585-N47-2015.07.16-22.50.52_MD585_3_0141 @51671\n",
      "Patch in annotation but not in mask: MD585 151 MD585-N28-2015.08.19-15.47.09_MD585_1_0082 alignedTo MD585-N47-2015.07.16-22.50.52_MD585_3_0141 @54211\n",
      "Patch in annotation but not in mask: MD585 151 MD585-N28-2015.08.19-15.47.09_MD585_1_0082 alignedTo MD585-N47-2015.07.16-22.50.52_MD585_3_0141 @52103\n",
      "Patch in annotation but not in mask: MD585 151 MD585-N28-2015.08.19-15.47.09_MD585_1_0082 alignedTo MD585-N47-2015.07.16-22.50.52_MD585_3_0141 @51868\n",
      "Patch in annotation but not in mask: MD585 151 MD585-N28-2015.08.19-15.47.09_MD585_1_0082 alignedTo MD585-N47-2015.07.16-22.50.52_MD585_3_0141 @51232\n",
      "Patch in annotation but not in mask: MD585 151 MD585-N28-2015.08.19-15.47.09_MD585_1_0082 alignedTo MD585-N47-2015.07.16-22.50.52_MD585_3_0141 @54428\n",
      "Patch in annotation but not in mask: MD585 151 MD585-N28-2015.08.19-15.47.09_MD585_1_0082 alignedTo MD585-N47-2015.07.16-22.50.52_MD585_3_0141 @52291\n",
      "Patch in annotation but not in mask: MD585 151 MD585-N28-2015.08.19-15.47.09_MD585_1_0082 alignedTo MD585-N47-2015.07.16-22.50.52_MD585_3_0141 @52929\n",
      "Patch in annotation but not in mask: MD585 151 MD585-N28-2015.08.19-15.47.09_MD585_1_0082 alignedTo MD585-N47-2015.07.16-22.50.52_MD585_3_0141 @50381\n",
      "Patch in annotation but not in mask: MD585 151 MD585-N28-2015.08.19-15.47.09_MD585_1_0082 alignedTo MD585-N47-2015.07.16-22.50.52_MD585_3_0141 @52718\n",
      "Patch in annotation but not in mask: MD585 151 MD585-N28-2015.08.19-15.47.09_MD585_1_0082 alignedTo MD585-N47-2015.07.16-22.50.52_MD585_3_0141 @53570\n",
      "Patch in annotation but not in mask: MD585 151 MD585-N28-2015.08.19-15.47.09_MD585_1_0082 alignedTo MD585-N47-2015.07.16-22.50.52_MD585_3_0141 @50384\n",
      "Patch in annotation but not in mask: MD585 151 MD585-N28-2015.08.19-15.47.09_MD585_1_0082 alignedTo MD585-N47-2015.07.16-22.50.52_MD585_3_0141 @50584\n",
      "Patch in annotation but not in mask: MD585 151 MD585-N28-2015.08.19-15.47.09_MD585_1_0082 alignedTo MD585-N47-2015.07.16-22.50.52_MD585_3_0141 @49314\n",
      "Patch in annotation but not in mask: MD585 151 MD585-N28-2015.08.19-15.47.09_MD585_1_0082 alignedTo MD585-N47-2015.07.16-22.50.52_MD585_3_0141 @52933\n"
     ]
    },
    {
     "name": "stdout",
     "output_type": "stream",
     "text": [
      "('MD585', 152)\n",
      "('MD585', 153)\n",
      "('MD585', 154)\n",
      "('MD585', 155)\n",
      "('MD585', 156)\n",
      "('MD585', 157)\n",
      "('MD585', 158)\n",
      "('MD585', 159)\n",
      "('MD585', 160)\n",
      "('MD585', 161)\n",
      "('MD585', 162)\n",
      "('MD585', 163)\n",
      "('MD585', 164)\n",
      "('MD585', 165)\n",
      "('MD585', 166)\n",
      "('MD585', 167)\n",
      "('MD585', 168)\n",
      "('MD585', 169)\n",
      "('MD585', 170)\n",
      "('MD585', 171)\n",
      "('MD585', 172)\n",
      "('MD585', 173)\n",
      "('MD585', 174)\n",
      "('MD585', 175)\n",
      "('MD585', 176)\n",
      "('MD585', 177)\n",
      "('MD585', 178)\n",
      "('MD585', 179)\n",
      "('MD585', 180)\n",
      "('MD585', 181)\n",
      "('MD585', 182)\n",
      "('MD585', 183)\n",
      "('MD585', 184)\n",
      "('MD585', 185)\n",
      "('MD585', 186)\n",
      "('MD585', 187)\n",
      "('MD585', 188)\n",
      "('MD585', 189)\n",
      "('MD585', 190)\n",
      "('MD585', 191)\n",
      "('MD585', 192)\n",
      "('MD585', 193)\n",
      "('MD585', 194)\n",
      "('MD585', 195)\n",
      "('MD585', 196)\n",
      "('MD585', 197)\n",
      "('MD585', 198)\n",
      "('MD585', 199)\n",
      "('MD585', 200)\n",
      "('MD585', 201)\n",
      "('MD585', 202)\n",
      "('MD585', 203)\n",
      "('MD585', 204)\n",
      "('MD585', 205)\n",
      "('MD585', 206)\n",
      "('MD585', 207)\n",
      "('MD585', 208)\n",
      "('MD585', 209)\n",
      "('MD585', 210)\n",
      "('MD585', 211)\n",
      "('MD585', 212)\n",
      "('MD585', 213)\n",
      "('MD585', 214)\n",
      "('MD585', 215)\n",
      "('MD585', 216)\n",
      "('MD585', 217)\n",
      "('MD585', 218)\n",
      "('MD585', 219)\n",
      "('MD585', 220)\n",
      "('MD585', 221)\n",
      "('MD585', 222)\n",
      "('MD585', 223)\n",
      "('MD585', 224)\n",
      "('MD585', 225)\n"
     ]
    },
    {
     "name": "stderr",
     "output_type": "stream",
     "text": [
      "Patch in annotation but not in mask: MD585 225 MD585-N40-2015.07.16-22.14.28_MD585_2_0119 alignedTo MD585-N47-2015.07.16-22.50.52_MD585_3_0141 @25552\n"
     ]
    },
    {
     "name": "stdout",
     "output_type": "stream",
     "text": [
      "('MD585', 226)\n",
      "('MD585', 227)\n",
      "('MD585', 228)\n",
      "('MD585', 229)\n",
      "('MD585', 230)\n",
      "('MD585', 231)\n",
      "('MD585', 232)\n",
      "('MD585', 233)\n",
      "('MD585', 234)\n",
      "('MD585', 235)\n",
      "('MD585', 236)\n",
      "('MD585', 237)\n",
      "('MD585', 238)\n",
      "('MD585', 239)\n",
      "('MD585', 240)\n",
      "('MD585', 241)\n",
      "('MD585', 242)\n",
      "('MD585', 243)\n",
      "('MD585', 244)\n",
      "('MD585', 245)\n",
      "('MD585', 246)\n",
      "('MD585', 247)\n",
      "('MD585', 248)\n",
      "('MD585', 249)\n",
      "('MD585', 250)\n",
      "('MD585', 251)\n",
      "('MD585', 252)\n",
      "('MD585', 253)\n",
      "('MD585', 254)\n",
      "('MD585', 255)\n",
      "('MD585', 256)\n",
      "('MD585', 257)\n",
      "('MD585', 258)\n",
      "('MD585', 259)\n",
      "('MD585', 260)\n",
      "('MD585', 261)\n",
      "('MD585', 262)\n",
      "('MD585', 263)\n",
      "('MD585', 264)\n",
      "('MD585', 265)\n",
      "('MD585', 266)\n",
      "('MD585', 267)\n",
      "('MD585', 269)\n",
      "('MD585', 270)\n",
      "('MD585', 271)\n",
      "('MD585', 272)\n",
      "('MD585', 273)\n",
      "('MD585', 274)\n",
      "('MD585', 275)\n",
      "('MD585', 276)\n",
      "('MD585', 277)\n",
      "('MD585', 278)\n",
      "('MD585', 279)\n",
      "('MD585', 280)\n",
      "('MD585', 281)\n",
      "('MD585', 282)\n",
      "('MD585', 283)\n",
      "('MD585', 284)\n",
      "('MD585', 285)\n",
      "('MD585', 286)\n",
      "('MD585', 287)\n",
      "('MD585', 288)\n",
      "('MD585', 289)\n",
      "('MD585', 290)\n",
      "('MD585', 291)\n",
      "('MD585', 292)\n",
      "('MD585', 293)\n",
      "('MD585', 294)\n",
      "('MD585', 295)\n",
      "('MD585', 296)\n",
      "('MD585', 297)\n",
      "('MD585', 298)\n",
      "('MD585', 300)\n",
      "('MD585', 301)\n",
      "('MD585', 302)\n",
      "('MD585', 303)\n",
      "('MD585', 304)\n",
      "('MD585', 305)\n",
      "('MD585', 306)\n",
      "('MD585', 307)\n",
      "('MD585', 308)\n",
      "('MD585', 309)\n",
      "('MD585', 310)\n",
      "('MD585', 311)\n",
      "('MD585', 312)\n",
      "('MD585', 313)\n",
      "('MD585', 314)\n",
      "('MD585', 315)\n",
      "('MD585', 316)\n",
      "('MD585', 317)\n",
      "('MD585', 318)\n",
      "('MD585', 319)\n",
      "('MD585', 320)\n",
      "('MD585', 321)\n",
      "('MD585', 322)\n",
      "('MD585', 323)\n",
      "('MD585', 324)\n",
      "('MD585', 325)\n",
      "('MD585', 326)\n",
      "('MD585', 327)\n",
      "('MD585', 328)\n",
      "('MD585', 329)\n",
      "('MD585', 330)\n",
      "('MD585', 331)\n",
      "('MD585', 332)\n"
     ]
    },
    {
     "name": "stderr",
     "output_type": "stream",
     "text": [
      "Patch in annotation but not in mask: MD585 332 MD585-IHC58-2015.07.16-18.38.08_MD585_1_0172 alignedTo MD585-N47-2015.07.16-22.50.52_MD585_3_0141 @36192\n",
      "Patch in annotation but not in mask: MD585 332 MD585-IHC58-2015.07.16-18.38.08_MD585_1_0172 alignedTo MD585-N47-2015.07.16-22.50.52_MD585_3_0141 @35981\n",
      "Patch in annotation but not in mask: MD585 332 MD585-IHC58-2015.07.16-18.38.08_MD585_1_0172 alignedTo MD585-N47-2015.07.16-22.50.52_MD585_3_0141 @34711\n",
      "Patch in annotation but not in mask: MD585 332 MD585-IHC58-2015.07.16-18.38.08_MD585_1_0172 alignedTo MD585-N47-2015.07.16-22.50.52_MD585_3_0141 @35345\n"
     ]
    },
    {
     "name": "stdout",
     "output_type": "stream",
     "text": [
      "('MD585', 333)\n",
      "('MD585', 334)\n",
      "('MD585', 335)\n",
      "('MD585', 336)\n",
      "('MD585', 337)\n",
      "('MD585', 338)\n",
      "('MD585', 339)\n",
      "('MD585', 340)\n",
      "('MD585', 341)\n",
      "('MD585', 342)\n",
      "('MD585', 343)\n",
      "('MD585', 344)\n",
      "('MD585', 345)\n",
      "('MD585', 346)\n",
      "('MD585', 347)\n",
      "('MD585', 348)\n",
      "('MD585', 349)\n",
      "('MD585', 350)\n",
      "('MD589', 94)\n",
      "('MD589', 95)\n",
      "('MD589', 96)\n",
      "('MD589', 97)\n",
      "('MD589', 98)\n",
      "('MD589', 99)\n",
      "('MD589', 100)\n",
      "('MD589', 101)\n",
      "('MD589', 102)\n",
      "('MD589', 103)\n",
      "('MD589', 104)\n",
      "('MD589', 105)\n",
      "('MD589', 106)\n",
      "('MD589', 107)\n",
      "('MD589', 108)\n",
      "('MD589', 109)\n",
      "('MD589', 110)\n",
      "('MD589', 111)\n",
      "('MD589', 112)\n",
      "('MD589', 113)\n",
      "('MD589', 114)\n",
      "('MD589', 115)\n",
      "('MD589', 116)\n",
      "('MD589', 117)\n",
      "('MD589', 119)\n",
      "('MD589', 120)\n",
      "('MD589', 121)\n",
      "('MD589', 122)\n",
      "('MD589', 123)\n",
      "('MD589', 124)\n",
      "('MD589', 125)\n",
      "('MD589', 126)\n",
      "('MD589', 127)\n",
      "('MD589', 128)\n",
      "('MD589', 129)\n",
      "('MD589', 130)\n",
      "('MD589', 131)\n",
      "('MD589', 132)\n",
      "('MD589', 133)\n",
      "('MD589', 134)\n",
      "('MD589', 135)\n",
      "('MD589', 136)\n",
      "('MD589', 137)\n",
      "('MD589', 138)\n",
      "('MD589', 139)\n",
      "('MD589', 140)\n",
      "('MD589', 141)\n",
      "('MD589', 142)\n",
      "('MD589', 143)\n",
      "('MD589', 144)\n",
      "('MD589', 145)\n",
      "('MD589', 146)\n",
      "('MD589', 147)\n",
      "('MD589', 148)\n",
      "('MD589', 149)\n",
      "('MD589', 150)\n",
      "('MD589', 151)\n",
      "('MD589', 152)\n",
      "('MD589', 153)\n",
      "('MD589', 154)\n",
      "('MD589', 155)\n",
      "('MD589', 156)\n",
      "('MD589', 157)\n",
      "('MD589', 158)\n",
      "('MD589', 159)\n",
      "('MD589', 160)\n",
      "('MD589', 161)\n",
      "('MD589', 162)\n",
      "('MD589', 163)\n",
      "('MD589', 164)\n",
      "('MD589', 165)\n",
      "('MD589', 166)\n",
      "('MD589', 167)\n",
      "('MD589', 168)\n",
      "('MD589', 169)\n",
      "('MD589', 170)\n",
      "('MD589', 171)\n",
      "('MD589', 172)\n",
      "('MD589', 173)\n",
      "('MD589', 174)\n",
      "('MD589', 175)\n",
      "('MD589', 176)\n",
      "('MD589', 177)\n",
      "('MD589', 178)\n",
      "('MD589', 179)\n",
      "('MD589', 180)\n",
      "('MD589', 181)\n",
      "('MD589', 182)\n",
      "('MD589', 183)\n",
      "('MD589', 184)\n",
      "('MD589', 185)\n",
      "('MD589', 186)\n",
      "('MD589', 187)\n",
      "('MD589', 188)\n",
      "('MD589', 189)\n",
      "('MD589', 190)\n",
      "('MD589', 191)\n",
      "('MD589', 192)\n",
      "('MD589', 193)\n",
      "('MD589', 194)\n",
      "('MD589', 195)\n",
      "('MD589', 196)\n",
      "('MD589', 197)\n",
      "('MD589', 198)\n",
      "('MD589', 199)\n",
      "('MD589', 200)\n",
      "('MD589', 201)\n",
      "('MD589', 202)\n",
      "('MD589', 203)\n",
      "('MD589', 204)\n",
      "('MD589', 205)\n",
      "('MD589', 206)\n",
      "('MD589', 207)\n",
      "('MD589', 208)\n",
      "('MD589', 209)\n",
      "('MD589', 210)\n",
      "('MD589', 211)\n",
      "('MD589', 212)\n",
      "('MD589', 213)\n",
      "('MD589', 214)\n",
      "('MD589', 215)\n",
      "('MD589', 216)\n",
      "('MD589', 217)\n",
      "('MD589', 218)\n",
      "('MD589', 219)\n",
      "('MD589', 220)\n",
      "('MD589', 222)\n",
      "('MD589', 223)\n",
      "('MD589', 224)\n",
      "('MD589', 225)\n",
      "('MD589', 226)\n",
      "('MD589', 227)\n",
      "('MD589', 228)\n",
      "('MD589', 229)\n",
      "('MD589', 230)\n",
      "('MD589', 231)\n",
      "('MD589', 232)\n",
      "('MD589', 233)\n",
      "('MD589', 234)\n",
      "('MD589', 235)\n",
      "('MD589', 236)\n",
      "('MD589', 237)\n",
      "('MD589', 238)\n",
      "('MD589', 239)\n",
      "('MD589', 240)\n",
      "('MD589', 241)\n",
      "('MD589', 242)\n",
      "('MD589', 243)\n",
      "('MD589', 244)\n",
      "('MD589', 245)\n",
      "('MD589', 246)\n",
      "('MD589', 247)\n",
      "('MD589', 248)\n",
      "('MD589', 249)\n",
      "('MD589', 250)\n",
      "('MD589', 251)\n",
      "('MD589', 252)\n",
      "('MD589', 253)\n",
      "('MD589', 254)\n",
      "('MD589', 255)\n",
      "('MD589', 256)\n",
      "('MD589', 257)\n",
      "('MD589', 258)\n",
      "('MD589', 259)\n",
      "('MD589', 260)\n",
      "('MD589', 261)\n",
      "('MD589', 262)\n",
      "('MD589', 263)\n",
      "('MD589', 264)\n",
      "('MD589', 265)\n",
      "('MD589', 266)\n",
      "('MD589', 267)\n",
      "('MD589', 268)\n",
      "('MD589', 269)\n",
      "('MD589', 270)\n",
      "('MD589', 271)\n",
      "('MD589', 272)\n",
      "('MD589', 273)\n",
      "('MD589', 274)\n",
      "('MD589', 275)\n",
      "('MD589', 276)\n",
      "('MD589', 277)\n",
      "('MD589', 278)\n",
      "('MD589', 279)\n",
      "('MD589', 280)\n",
      "('MD589', 281)\n",
      "('MD589', 282)\n",
      "('MD589', 283)\n",
      "('MD589', 284)\n",
      "('MD589', 285)\n",
      "('MD589', 286)\n",
      "('MD589', 287)\n",
      "('MD589', 288)\n",
      "('MD589', 289)\n",
      "('MD589', 290)\n",
      "('MD589', 291)\n",
      "('MD589', 292)\n",
      "('MD589', 293)\n",
      "('MD589', 294)\n",
      "('MD589', 295)\n",
      "('MD589', 296)\n",
      "('MD589', 297)\n",
      "('MD589', 298)\n",
      "('MD589', 299)\n",
      "('MD589', 301)\n",
      "('MD589', 302)\n",
      "('MD589', 303)\n",
      "('MD589', 304)\n",
      "('MD589', 305)\n",
      "('MD589', 306)\n",
      "('MD589', 307)\n",
      "('MD589', 308)\n",
      "('MD589', 309)\n",
      "('MD589', 310)\n",
      "('MD589', 311)\n",
      "('MD589', 312)\n",
      "('MD589', 313)\n",
      "('MD589', 314)\n",
      "('MD589', 315)\n",
      "('MD589', 316)\n",
      "('MD589', 317)\n",
      "('MD589', 318)\n",
      "('MD589', 319)\n",
      "('MD589', 320)\n",
      "('MD589', 321)\n",
      "('MD589', 322)\n",
      "('MD589', 323)\n",
      "('MD589', 325)\n",
      "('MD589', 326)\n",
      "('MD589', 327)\n",
      "('MD589', 328)\n",
      "('MD589', 329)\n",
      "('MD589', 330)\n",
      "('MD589', 331)\n",
      "('MD589', 332)\n",
      "('MD589', 333)\n",
      "('MD589', 334)\n",
      "('MD589', 335)\n",
      "('MD589', 336)\n",
      "('MD589', 337)\n",
      "('MD589', 338)\n",
      "('MD589', 339)\n",
      "('MD589', 340)\n",
      "('MD589', 341)\n",
      "('MD589', 342)\n",
      "('MD589', 343)\n",
      "('MD589', 344)\n",
      "('MD589', 345)\n",
      "('MD589', 346)\n",
      "('MD589', 347)\n",
      "('MD589', 348)\n",
      "('MD589', 349)\n",
      "('MD589', 350)\n",
      "('MD589', 351)\n",
      "('MD589', 352)\n",
      "('MD589', 353)\n",
      "('MD589', 354)\n",
      "('MD589', 355)\n",
      "('MD589', 356)\n",
      "('MD589', 357)\n",
      "('MD589', 358)\n",
      "('MD589', 359)\n",
      "('MD589', 360)\n",
      "('MD589', 361)\n",
      "('MD589', 362)\n",
      "('MD589', 363)\n",
      "('MD589', 364)\n",
      "('MD589', 365)\n",
      "('MD589', 366)\n",
      "('MD589', 367)\n",
      "('MD589', 368)\n",
      "('MD589', 369)\n",
      "('MD589', 370)\n",
      "('MD594', 94)\n",
      "('MD594', 95)\n",
      "('MD594', 96)\n",
      "('MD594', 97)\n",
      "('MD594', 98)\n",
      "('MD594', 99)\n",
      "('MD594', 100)\n",
      "('MD594', 101)\n",
      "('MD594', 102)\n",
      "('MD594', 103)\n",
      "('MD594', 104)\n",
      "('MD594', 105)\n",
      "('MD594', 106)\n",
      "('MD594', 107)\n",
      "('MD594', 108)\n",
      "('MD594', 109)\n",
      "('MD594', 110)\n",
      "('MD594', 111)\n",
      "('MD594', 112)\n",
      "('MD594', 113)\n",
      "('MD594', 114)\n",
      "('MD594', 115)\n",
      "('MD594', 116)\n",
      "('MD594', 117)\n",
      "('MD594', 118)\n",
      "('MD594', 119)\n",
      "('MD594', 120)\n",
      "('MD594', 121)\n",
      "('MD594', 122)\n",
      "('MD594', 123)\n",
      "('MD594', 124)\n",
      "('MD594', 125)\n",
      "('MD594', 126)\n",
      "('MD594', 127)\n",
      "('MD594', 128)\n",
      "('MD594', 129)\n",
      "('MD594', 130)\n",
      "('MD594', 132)\n",
      "('MD594', 133)\n",
      "('MD594', 134)\n",
      "('MD594', 135)\n",
      "('MD594', 136)\n",
      "('MD594', 137)\n",
      "('MD594', 138)\n",
      "('MD594', 139)\n"
     ]
    },
    {
     "name": "stderr",
     "output_type": "stream",
     "text": [
      "Patch in annotation but not in mask: MD594 139 MD594-N27-2015.08.26-22.22.46_MD594_1_0079 alignedTo MD594-IHC58-2015.08.26-18.48.50_MD594_1_0172 @47322\n"
     ]
    },
    {
     "name": "stdout",
     "output_type": "stream",
     "text": [
      "('MD594', 140)\n",
      "('MD594', 141)\n",
      "('MD594', 142)\n",
      "('MD594', 143)\n",
      "('MD594', 144)\n",
      "('MD594', 145)\n",
      "('MD594', 146)\n",
      "('MD594', 147)\n",
      "('MD594', 148)\n",
      "('MD594', 149)\n",
      "('MD594', 150)\n",
      "('MD594', 151)\n",
      "('MD594', 152)\n",
      "('MD594', 153)\n",
      "('MD594', 154)\n",
      "('MD594', 155)\n",
      "('MD594', 156)\n",
      "('MD594', 157)\n",
      "('MD594', 158)\n",
      "('MD594', 159)\n",
      "('MD594', 160)\n",
      "('MD594', 161)\n",
      "('MD594', 162)\n",
      "('MD594', 163)\n",
      "('MD594', 164)\n",
      "('MD594', 165)\n",
      "('MD594', 166)\n",
      "('MD594', 167)\n",
      "('MD594', 168)\n",
      "('MD594', 169)\n",
      "('MD594', 170)\n",
      "('MD594', 171)\n",
      "('MD594', 172)\n",
      "('MD594', 173)\n",
      "('MD594', 174)\n",
      "('MD594', 175)\n",
      "('MD594', 176)\n",
      "('MD594', 177)\n",
      "('MD594', 178)\n",
      "('MD594', 179)\n",
      "('MD594', 180)\n",
      "('MD594', 181)\n",
      "('MD594', 182)\n",
      "('MD594', 183)\n",
      "('MD594', 184)\n",
      "('MD594', 185)\n",
      "('MD594', 186)\n",
      "('MD594', 188)\n",
      "('MD594', 189)\n",
      "('MD594', 190)\n",
      "('MD594', 191)\n",
      "('MD594', 192)\n",
      "('MD594', 194)\n",
      "('MD594', 195)\n",
      "('MD594', 196)\n",
      "('MD594', 197)\n",
      "('MD594', 198)\n",
      "('MD594', 199)\n",
      "('MD594', 200)\n",
      "('MD594', 201)\n",
      "('MD594', 202)\n",
      "('MD594', 203)\n",
      "('MD594', 204)\n",
      "('MD594', 205)\n",
      "('MD594', 206)\n",
      "('MD594', 207)\n",
      "('MD594', 208)\n",
      "('MD594', 209)\n",
      "('MD594', 210)\n",
      "('MD594', 211)\n",
      "('MD594', 212)\n",
      "('MD594', 213)\n",
      "('MD594', 214)\n",
      "('MD594', 215)\n",
      "('MD594', 216)\n",
      "('MD594', 217)\n",
      "('MD594', 218)\n",
      "('MD594', 219)\n",
      "('MD594', 220)\n",
      "('MD594', 221)\n",
      "('MD594', 222)\n",
      "('MD594', 223)\n",
      "('MD594', 224)\n",
      "('MD594', 225)\n",
      "('MD594', 226)\n",
      "('MD594', 227)\n",
      "('MD594', 228)\n",
      "('MD594', 229)\n",
      "('MD594', 230)\n",
      "('MD594', 231)\n",
      "('MD594', 232)\n",
      "('MD594', 233)\n",
      "('MD594', 234)\n",
      "('MD594', 235)\n",
      "('MD594', 236)\n",
      "('MD594', 237)\n",
      "('MD594', 239)\n",
      "('MD594', 240)\n",
      "('MD594', 241)\n",
      "('MD594', 242)\n",
      "('MD594', 243)\n",
      "('MD594', 244)\n",
      "('MD594', 245)\n",
      "('MD594', 246)\n",
      "('MD594', 247)\n",
      "('MD594', 248)\n",
      "('MD594', 249)\n",
      "('MD594', 250)\n",
      "('MD594', 251)\n",
      "('MD594', 252)\n",
      "('MD594', 253)\n",
      "('MD594', 254)\n",
      "('MD594', 255)\n",
      "('MD594', 256)\n",
      "('MD594', 257)\n",
      "('MD594', 258)\n",
      "('MD594', 259)\n",
      "('MD594', 260)\n",
      "('MD594', 262)\n",
      "('MD594', 263)\n",
      "('MD594', 264)\n",
      "('MD594', 265)\n",
      "('MD594', 266)\n",
      "('MD594', 267)\n",
      "('MD594', 268)\n",
      "('MD594', 269)\n",
      "('MD594', 270)\n",
      "('MD594', 271)\n",
      "('MD594', 272)\n",
      "('MD594', 273)\n"
     ]
    },
    {
     "name": "stderr",
     "output_type": "stream",
     "text": [
      "Patch in annotation but not in mask: MD594 273 MD594-N61-2015.08.27-00.31.50_MD594_1_0181 alignedTo MD594-IHC58-2015.08.26-18.48.50_MD594_1_0172 @44235\n",
      "Patch in annotation but not in mask: MD594 273 MD594-N61-2015.08.27-00.31.50_MD594_1_0181 alignedTo MD594-IHC58-2015.08.26-18.48.50_MD594_1_0172 @44038\n",
      "Patch in annotation but not in mask: MD594 273 MD594-N61-2015.08.27-00.31.50_MD594_1_0181 alignedTo MD594-IHC58-2015.08.26-18.48.50_MD594_1_0172 @45604\n",
      "Patch in annotation but not in mask: MD594 273 MD594-N61-2015.08.27-00.31.50_MD594_1_0181 alignedTo MD594-IHC58-2015.08.26-18.48.50_MD594_1_0172 @45797\n",
      "Patch in annotation but not in mask: MD594 273 MD594-N61-2015.08.27-00.31.50_MD594_1_0181 alignedTo MD594-IHC58-2015.08.26-18.48.50_MD594_1_0172 @44626\n"
     ]
    },
    {
     "name": "stdout",
     "output_type": "stream",
     "text": [
      "('MD594', 274)\n",
      "('MD594', 275)\n",
      "('MD594', 276)\n",
      "('MD594', 277)\n",
      "('MD594', 278)\n",
      "('MD594', 279)\n",
      "('MD594', 280)\n",
      "('MD594', 281)\n",
      "('MD594', 282)\n",
      "('MD594', 283)\n",
      "('MD594', 284)\n",
      "('MD594', 285)\n",
      "('MD594', 286)\n",
      "('MD594', 287)\n",
      "('MD594', 288)\n",
      "('MD594', 289)\n",
      "('MD594', 290)\n",
      "('MD594', 291)\n",
      "('MD594', 292)\n",
      "('MD594', 293)\n",
      "('MD594', 294)\n",
      "('MD594', 295)\n",
      "('MD594', 296)\n",
      "('MD594', 297)\n",
      "('MD594', 298)\n",
      "('MD594', 299)\n",
      "('MD594', 300)\n",
      "('MD594', 301)\n",
      "('MD594', 302)\n",
      "('MD594', 303)\n",
      "('MD594', 304)\n",
      "('MD594', 305)\n",
      "('MD594', 306)\n",
      "('MD594', 307)\n",
      "('MD594', 308)\n",
      "('MD594', 309)\n",
      "('MD594', 310)\n",
      "('MD594', 311)\n",
      "('MD594', 312)\n",
      "('MD594', 313)\n",
      "('MD594', 314)\n",
      "('MD594', 315)\n",
      "('MD594', 316)\n",
      "('MD594', 317)\n",
      "('MD594', 318)\n",
      "('MD594', 319)\n",
      "('MD594', 320)\n",
      "('MD594', 321)\n",
      "('MD594', 322)\n",
      "('MD594', 323)\n",
      "('MD594', 324)\n",
      "('MD594', 325)\n",
      "('MD594', 326)\n",
      "('MD594', 327)\n",
      "('MD594', 328)\n",
      "('MD594', 329)\n",
      "('MD594', 330)\n",
      "('MD594', 331)\n",
      "('MD594', 332)\n",
      "('MD594', 333)\n",
      "('MD594', 334)\n",
      "('MD594', 335)\n",
      "('MD594', 336)\n",
      "('MD594', 337)\n",
      "('MD594', 338)\n",
      "('MD594', 339)\n",
      "('MD594', 340)\n",
      "('MD594', 342)\n",
      "('MD594', 343)\n",
      "('MD594', 344)\n",
      "('MD594', 345)\n",
      "('MD594', 346)\n",
      "('MD594', 347)\n",
      "('MD594', 348)\n",
      "('MD594', 349)\n",
      "('MD594', 350)\n",
      "('MD594', 351)\n",
      "('MD594', 352)\n",
      "('MD594', 353)\n",
      "('MD594', 354)\n",
      "('MD594', 355)\n",
      "('MD594', 356)\n",
      "('MD594', 357)\n",
      "('MD594', 358)\n",
      "('MD594', 359)\n",
      "('MD594', 360)\n",
      "('MD594', 361)\n",
      "('MD594', 362)\n",
      "('MD594', 363)\n"
     ]
    }
   ],
   "source": [
    "test_features = apply_function_to_dict(addresses_to_features, test_addresses)"
   ]
  },
  {
   "cell_type": "code",
   "execution_count": 26,
   "metadata": {
    "collapsed": false
   },
   "outputs": [],
   "source": [
    "test_features = {name: np.array([f for f in feats if f is not None]) for name, feats in test_features.iteritems()}"
   ]
  },
  {
   "cell_type": "code",
   "execution_count": 38,
   "metadata": {
    "collapsed": false
   },
   "outputs": [],
   "source": [
    "# Save test features\n",
    "\n",
    "test_feat_dir = create_if_not_exists(os.path.join(SVM_ROOTDIR, 'test_features'))\n",
    "\n",
    "for name_u, feats in test_features.iteritems():\n",
    "    bp.pack_ndarray_file(feats, os.path.join(test_feat_dir, name_u + '.bp'))"
   ]
  },
  {
   "cell_type": "code",
   "execution_count": null,
   "metadata": {
    "collapsed": true
   },
   "outputs": [],
   "source": [
    "# Load test features\n",
    "\n",
    "test_feat_dir = create_if_not_exists(os.path.join(SVM_ROOTDIR, 'test_features'))\n",
    "\n",
    "test_features = {name_u: bp.unpack_ndarray_file(os.path.join(test_feat_dir, name_u + '.bp'))\n",
    "                     for name_u in labels_to_sample}"
   ]
  },
  {
   "cell_type": "code",
   "execution_count": 150,
   "metadata": {
    "collapsed": false
   },
   "outputs": [
    {
     "data": {
      "image/png": "[encoded data removed]",
      "text/plain": [
       "<matplotlib.figure.Figure at 0x1a87fd10>"
      ]
     },
     "metadata": {},
     "output_type": "display_data"
    }
   ],
   "source": [
    "# Compute test accuracy\n",
    "\n",
    "acc_all_structures = {}\n",
    "\n",
    "nrows = len(structures)/5 + 1\n",
    "ncols = 5\n",
    "\n",
    "fig, axes = plt.subplots(nrows, ncols, figsize=(ncols*2, nrows*2), sharex=True, sharey=True)\n",
    "axes = axes.flatten()\n",
    "\n",
    "for i, label in enumerate(structures):\n",
    "    \n",
    "    features_pos = test_features[label]\n",
    "    \n",
    "#     features_neg = test_features[convert_to_surround_name(label)]\n",
    "    \n",
    "    if train_sample_scheme in [1,3,4,5,6,7]:\n",
    "        features_neg = test_features[convert_to_surround_name(label, 'noclass')]\n",
    "    elif train_sample_scheme == 2:\n",
    "        features_neg = np.vstack([test_features[convert_to_surround_name(label, 'noclass')]] + \\\n",
    "                                  [test_features[convert_to_surround_name(label, surr_l)] \n",
    "                                  for surr_l in structures if convert_to_surround_name(label, surr_l) in labels])\n",
    "    else:\n",
    "        sys.stderr.write('training scheme is not recognized.\\n')\n",
    "        \n",
    "    \n",
    "    test_data = np.r_[features_pos, features_neg]\n",
    "    test_labels = np.r_[np.ones((features_pos.shape[0], )), \n",
    "                         -np.ones((features_neg.shape[0], ))]\n",
    "    \n",
    "    svc = svc_allClasses[label]\n",
    "    \n",
    "    probs = svc.predict_proba(test_data)[:, svc.classes_.tolist().index(1.)]\n",
    "    cm = compute_confusion_matrix(np.c_[probs, 1-probs], [0 if l==1. else 1 for l in test_labels], soft=True)\n",
    "    \n",
    "    acc_all_structures[label] = .5 * (cm[0,0] + cm[1,1])\n",
    "    \n",
    "    plot_confusion_matrix(cm, title='%(label)s'% {'label':label},\n",
    "                          labels=['',''],\n",
    "#                           labels=[label, convert_to_surround_name(label)],\n",
    "                         axis=axes[i])\n",
    "#     plt.show();\n",
    "\n",
    "plt.tight_layout()"
   ]
  },
  {
   "cell_type": "code",
   "execution_count": 151,
   "metadata": {
    "collapsed": false
   },
   "outputs": [
    {
     "name": "stdout",
     "output_type": "stream",
     "text": [
      "test accuracy: 0.868003951425\n"
     ]
    }
   ],
   "source": [
    "print 'test accuracy:', np.mean(acc_all_structures.values())"
   ]
  },
  {
   "cell_type": "code",
   "execution_count": null,
   "metadata": {
    "collapsed": true
   },
   "outputs": [],
   "source": []
  },
  {
   "cell_type": "code",
   "execution_count": null,
   "metadata": {
    "collapsed": true
   },
   "outputs": [],
   "source": [
    "# Predict full frame"
   ]
  },
  {
   "cell_type": "code",
   "execution_count": null,
   "metadata": {
    "collapsed": false
   },
   "outputs": [],
   "source": [
    "stack = 'MD591'\n",
    "\n",
    "filenames_to_sections, sections_to_filenames = DataManager.load_sorted_filenames(stack)\n",
    "first_sec, last_sec = DataManager.load_cropbox(stack)[4:]\n",
    "anchor_fn = DataManager.load_anchor_filename(stack)"
   ]
  },
  {
   "cell_type": "code",
   "execution_count": null,
   "metadata": {
    "collapsed": true
   },
   "outputs": [],
   "source": [
    "def svm_predict(stack, sec):\n",
    "    fn = sections_to_filenames[sec]\n",
    "    if fn in ['Nonexisting', 'Rescan', 'Placeholder']:\n",
    "        return\n",
    "\n",
    "    feature_fn = PATCH_FEATURES_ROOTDIR + '/%(stack)s/%(fn)s_lossless_alignedTo_%(anchor_fn)s_cropped/%(fn)s_lossless_alignedTo_%(anchor_fn)s_cropped_features.hdf' % dict(stack=stack, fn=fn, anchor_fn=anchor_fn)\n",
    "    \n",
    "    try:\n",
    "        features = load_hdf(feature_fn)\n",
    "    except Exception as e:\n",
    "        sys.stderr.write(e.message + '\\n')\n",
    "        return\n",
    "    \n",
    "    output_dir = create_if_not_exists(os.path.join(SPARSE_SCORES_ROOTDIR, stack, '%(fn)s_lossless_alignedTo_%(anchor_fn)s_cropped' % \\\n",
    "                                      {'fn': fn, 'anchor_fn': anchor_fn}))\n",
    "    \n",
    "    for label in structures:\n",
    "        svc = svc_allClasses[label]\n",
    "        probs = svc.predict_proba(features)[:, svc.classes_.tolist().index(1.)]\n",
    "        output_fn = output_dir + '/%(fn)s_lossless_alignedTo_%(anchor_fn)s_cropped_%(label)s_sparseScores.hdf' % \\\n",
    "                    {'fn': fn, 'anchor_fn': anchor_fn, 'label':label}\n",
    "        bp.pack_ndarray_file(probs, output_fn)"
   ]
  },
  {
   "cell_type": "code",
   "execution_count": null,
   "metadata": {
    "collapsed": false
   },
   "outputs": [],
   "source": [
    "t = time.time()\n",
    "# Parallel(n_jobs=8)(delayed(svm_predict)(stack=stack, sec=sec) for sec in range(first_sec, last_sec+1))\n",
    "Parallel(n_jobs=8)(delayed(svm_predict)(stack=stack, sec=sec) for sec in range(200, 201))\n",
    "sys.stderr.write('svm predict: %.2f seconds\\n' % (time.time() - t)) # 35 s / 10 section; 863 seconds /stack"
   ]
  },
  {
   "cell_type": "code",
   "execution_count": null,
   "metadata": {
    "collapsed": true
   },
   "outputs": [],
   "source": []
  }
 ],
 "metadata": {
  "kernelspec": {
   "display_name": "Python 2",
   "language": "python",
   "name": "python2"
  },
  "language_info": {
   "codemirror_mode": {
    "name": "ipython",
    "version": 2
   },
   "file_extension": ".py",
   "mimetype": "text/x-python",
   "name": "python",
   "nbconvert_exporter": "python",
   "pygments_lexer": "ipython2",
   "version": "2.7.3"
  }
 },
 "nbformat": 4,
 "nbformat_minor": 0
}
