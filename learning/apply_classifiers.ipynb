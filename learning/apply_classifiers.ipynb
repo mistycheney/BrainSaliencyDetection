{
 "cells": [
  {
   "cell_type": "code",
   "execution_count": null,
   "metadata": {
    "collapsed": true
   },
   "outputs": [],
   "source": [
    "%reload_ext autoreload\n",
    "%autoreload 2\n",
    "\n",
    "import os\n",
    "import argparse\n",
    "import sys\n",
    "import time\n",
    "import cv2\n",
    "\n",
    "from joblib import Parallel, delayed\n",
    "\n",
    "sys.path.append(os.path.join(os.environ['REPO_DIR'], 'utilities'))\n",
    "from utilities2015 import *\n",
    "from metadata import *\n",
    "from data_manager import *\n",
    "\n",
    "from matplotlib.path import Path\n",
    "%matplotlib inline\n",
    "\n",
    "import numpy as np\n",
    "\n",
    "from learning_utilities import *"
   ]
  },
  {
   "cell_type": "code",
   "execution_count": null,
   "metadata": {
    "collapsed": true
   },
   "outputs": [],
   "source": [
    "stack = 'MD591'\n",
    "\n",
    "filenames_to_sections, sections_to_filenames = DataManager.load_sorted_filenames(stack)\n",
    "first_sec, last_sec = DataManager.load_cropbox(stack)[4:]\n",
    "anchor_fn = DataManager.load_anchor_filename(stack)"
   ]
  },
  {
   "cell_type": "code",
   "execution_count": null,
   "metadata": {
    "collapsed": true
   },
   "outputs": [],
   "source": [
    "def svm_predict(stack, sec):\n",
    "    fn = sections_to_filenames[sec]\n",
    "    if fn in ['Nonexisting', 'Rescan', 'Placeholder']:\n",
    "        return\n",
    "\n",
    "    feature_fn = PATCH_FEATURES_ROOTDIR + '/%(stack)s/%(fn)s_lossless_alignedTo_%(anchor_fn)s_cropped/%(fn)s_lossless_alignedTo_%(anchor_fn)s_cropped_features.hdf' % dict(stack=stack, fn=fn, anchor_fn=anchor_fn)\n",
    "    \n",
    "    try:\n",
    "        features = load_hdf(feature_fn)\n",
    "    except Exception as e:\n",
    "        sys.stderr.write(e.message + '\\n')\n",
    "        return\n",
    "    \n",
    "    output_dir = create_if_not_exists(os.path.join(SPARSE_SCORES_ROOTDIR, stack, '%(fn)s_lossless_alignedTo_%(anchor_fn)s_cropped' % \\\n",
    "                                      {'fn': fn, 'anchor_fn': anchor_fn}))\n",
    "    \n",
    "    for label in structures:\n",
    "        svc = svc_allClasses[label]\n",
    "        probs = svc.predict_proba(features)[:, svc.classes_.tolist().index(1.)]\n",
    "        output_fn = output_dir + '/%(fn)s_lossless_alignedTo_%(anchor_fn)s_cropped_%(label)s_sparseScores.hdf' % \\\n",
    "                    {'fn': fn, 'anchor_fn': anchor_fn, 'label':label}\n",
    "        bp.pack_ndarray_file(probs, output_fn)"
   ]
  },
  {
   "cell_type": "code",
   "execution_count": null,
   "metadata": {
    "collapsed": true
   },
   "outputs": [],
   "source": [
    "t = time.time()\n",
    "# Parallel(n_jobs=8)(delayed(svm_predict)(stack=stack, sec=sec) for sec in range(first_sec, last_sec+1))\n",
    "Parallel(n_jobs=8)(delayed(svm_predict)(stack=stack, sec=sec) for sec in range(200, 201))\n",
    "sys.stderr.write('svm predict: %.2f seconds\\n' % (time.time() - t)) # 35 s / 10 section; 863 seconds /stack"
   ]
  }
 ],
 "metadata": {
  "kernelspec": {
   "display_name": "Python 2",
   "language": "python",
   "name": "python2"
  },
  "language_info": {
   "codemirror_mode": {
    "name": "ipython",
    "version": 2
   },
   "file_extension": ".py",
   "mimetype": "text/x-python",
   "name": "python",
   "nbconvert_exporter": "python",
   "pygments_lexer": "ipython2",
   "version": "2.7.3"
  }
 },
 "nbformat": 4,
 "nbformat_minor": 1
}
