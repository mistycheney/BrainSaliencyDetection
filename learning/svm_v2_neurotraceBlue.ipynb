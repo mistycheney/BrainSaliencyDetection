{
 "cells": [
  {
   "cell_type": "code",
   "execution_count": 1,
   "metadata": {
    "collapsed": false
   },
   "outputs": [
    {
     "name": "stdout",
     "output_type": "stream",
     "text": [
      "Setting environment for Gordon\n"
     ]
    },
    {
     "name": "stderr",
     "output_type": "stream",
     "text": [
      "No vtk\n",
      "Cannot import mxnet.\n"
     ]
    }
   ],
   "source": [
    "%reload_ext autoreload\n",
    "%autoreload 2\n",
    "\n",
    "import os\n",
    "import argparse\n",
    "import sys\n",
    "import time\n",
    "import cv2\n",
    "\n",
    "from joblib import Parallel, delayed\n",
    "\n",
    "sys.path.append(os.path.join(os.environ['REPO_DIR'], 'utilities'))\n",
    "from utilities2015 import *\n",
    "from metadata import *\n",
    "from data_manager import *\n",
    "\n",
    "from matplotlib.path import Path\n",
    "%matplotlib inline\n",
    "\n",
    "import numpy as np\n",
    "\n",
    "from learning_utilities import *"
   ]
  },
  {
   "cell_type": "code",
   "execution_count": 2,
   "metadata": {
    "collapsed": true
   },
   "outputs": [],
   "source": [
    "from sklearn.externals import joblib"
   ]
  },
  {
   "cell_type": "code",
   "execution_count": 3,
   "metadata": {
    "collapsed": false
   },
   "outputs": [],
   "source": [
    "# def convert_to_surround_name(name_u, suffix):\n",
    "#     return name_u + '_surround_' + suffix"
   ]
  },
  {
   "cell_type": "code",
   "execution_count": 92,
   "metadata": {
    "collapsed": true
   },
   "outputs": [],
   "source": [
    "paired_structures = ['5N', '6N', '7N', '7n', 'Amb', 'LC', 'LRt', 'Pn', 'Tz', 'VLL', 'RMC', 'SNC', 'SNR', '3N', '4N',\n",
    "                    'Sp5I', 'Sp5O', 'Sp5C', 'PBG', '10N', 'VCA', 'VCP', 'DC']\n",
    "singular_structures = ['AP', '12N', 'RtTg', 'SC', 'IC']\n",
    "structures = paired_structures + singular_structures"
   ]
  },
  {
   "cell_type": "code",
   "execution_count": 93,
   "metadata": {
    "collapsed": false
   },
   "outputs": [],
   "source": [
    "# structures = ['6N']\n",
    "# labels_to_sample = structures + map(convert_to_surround_name, structures)\n",
    "# labels_to_sample = structures + [convert_to_surround_name(l, surr_l) for l in structures for surr_l in structures + ['noclass'] if surr_l != l]\n",
    "labels_to_sample = structures + [l + '_negative' for l in structures]"
   ]
  },
  {
   "cell_type": "code",
   "execution_count": 95,
   "metadata": {
    "collapsed": false
   },
   "outputs": [],
   "source": [
    "# Extract training features - random subset\n",
    "# 1000 samples per landmark\n",
    "\n",
    "training_addresses = defaultdict(list)\n",
    "\n",
    "labels = set([])\n",
    "\n",
    "# for stack in ['MD589', 'MD585', 'MD594']:\n",
    "for stack in ['MD635']: # Neurotrace stack\n",
    "    annotation_grid_indices_fn = '/home/yuncong/csd395/CSHL_labelings_v3/%(stack)s/%(stack)s_annotation_grid_indices.h5' % dict(stack=stack)\n",
    "    label_gridIndices = read_hdf(annotation_grid_indices_fn, 'grid_indices')\n",
    "    \n",
    "    labels_this_stack = set(label_gridIndices.index) & set(labels_to_sample)\n",
    "    labels = labels | labels_this_stack\n",
    "    \n",
    "    training_addresses_sec_idx = sample_locations(label_gridIndices, labels_this_stack, \n",
    "                                                  num_samples_per_landmark=1000)\n",
    "        \n",
    "    for name_u, addresses in training_addresses_sec_idx.iteritems():\n",
    "        training_addresses[name_u] += [(stack, ) + addr for addr in addresses]\n",
    "        \n",
    "training_addresses.default_factory = None\n",
    "        \n",
    "# sampled_addresses = {name_u: np.array(addresses) for name_u, addresses in sampled_addresses.iteritems()}"
   ]
  },
  {
   "cell_type": "code",
   "execution_count": 96,
   "metadata": {
    "collapsed": true
   },
   "outputs": [],
   "source": [
    "existing_names = set([convert_to_original_name(l) for l in labels])"
   ]
  },
  {
   "cell_type": "code",
   "execution_count": 65,
   "metadata": {
    "collapsed": true
   },
   "outputs": [],
   "source": [
    "# See if we can use location on image frame as feature\n",
    "\n",
    "# def addresses_to_locations(addresses):\n",
    "    \n",
    "#     key_func = lambda (i, (st, se, idx)): st\n",
    "    \n",
    "#     locations = []\n",
    "    \n",
    "#     for stack, group in groupby(sorted(enumerate(addresses), key=key_func), key=key_func):\n",
    "#         sample_locations = grid_parameters_to_sample_locations(get_default_gridspec(stack))\n",
    "#         for i, (st, se, idx) in group:\n",
    "#             locations.append((i, sample_locations[idx]))\n",
    "    \n",
    "#     return [loc for i, loc in sorted(locations)]"
   ]
  },
  {
   "cell_type": "code",
   "execution_count": 66,
   "metadata": {
    "collapsed": false
   },
   "outputs": [],
   "source": [
    "# locations = np.array(addresses_to_locations(training_addresses['10N']))\n",
    "\n",
    "# plt.scatter(locations[:,0], locations[:,1]);\n",
    "# plt.xlim([0, 15000]);\n",
    "# plt.ylim([0, 12000]);"
   ]
  },
  {
   "cell_type": "code",
   "execution_count": 98,
   "metadata": {
    "collapsed": false,
    "scrolled": true
   },
   "outputs": [
    {
     "name": "stdout",
     "output_type": "stream",
     "text": [
      "('MD635', 75)\n",
      "('MD635', 76)\n"
     ]
    },
    {
     "name": "stderr",
     "output_type": "stream",
     "text": [
      "Patch in annotation but not in mask: MD635 76 MD635-F26-2016.05.18-21.16.59_MD635_1_0076 alignedTo MD635-F63-2016.05.19-08.39.03_MD635_2_0188 @192\n"
     ]
    },
    {
     "name": "stdout",
     "output_type": "stream",
     "text": [
      "('MD635', 77)\n",
      "('MD635', 78)\n",
      "('MD635', 79)\n",
      "('MD635', 80)\n",
      "('MD635', 81)\n",
      "('MD635', 82)\n"
     ]
    },
    {
     "name": "stderr",
     "output_type": "stream",
     "text": [
      "Patch in annotation but not in mask: MD635 82 MD635-F28-2016.05.18-21.46.26_MD635_1_0082 alignedTo MD635-F63-2016.05.19-08.39.03_MD635_2_0188 @34795\n",
      "Patch in annotation but not in mask: MD635 82 MD635-F28-2016.05.18-21.46.26_MD635_1_0082 alignedTo MD635-F63-2016.05.19-08.39.03_MD635_2_0188 @31787\n",
      "Patch in annotation but not in mask: MD635 82 MD635-F28-2016.05.18-21.46.26_MD635_1_0082 alignedTo MD635-F63-2016.05.19-08.39.03_MD635_2_0188 @32541\n",
      "Patch in annotation but not in mask: MD635 82 MD635-F28-2016.05.18-21.46.26_MD635_1_0082 alignedTo MD635-F63-2016.05.19-08.39.03_MD635_2_0188 @33040\n",
      "Patch in annotation but not in mask: MD635 82 MD635-F28-2016.05.18-21.46.26_MD635_1_0082 alignedTo MD635-F63-2016.05.19-08.39.03_MD635_2_0188 @34294\n",
      "Patch in annotation but not in mask: MD635 82 MD635-F28-2016.05.18-21.46.26_MD635_1_0082 alignedTo MD635-F63-2016.05.19-08.39.03_MD635_2_0188 @28772\n"
     ]
    },
    {
     "name": "stdout",
     "output_type": "stream",
     "text": [
      "('MD635', 83)\n",
      "('MD635', 84)\n"
     ]
    },
    {
     "name": "stderr",
     "output_type": "stream",
     "text": [
      "Patch in annotation but not in mask: MD635 84 MD635-F28-2016.05.18-21.46.26_MD635_3_0084 alignedTo MD635-F63-2016.05.19-08.39.03_MD635_2_0188 @70\n"
     ]
    },
    {
     "name": "stdout",
     "output_type": "stream",
     "text": [
      "('MD635', 85)\n",
      "('MD635', 86)\n",
      "('MD635', 87)\n"
     ]
    },
    {
     "name": "stderr",
     "output_type": "stream",
     "text": [
      "Patch in annotation but not in mask: MD635 87 MD635-F29-2016.05.18-22.01.14_MD635_3_0087 alignedTo MD635-F63-2016.05.19-08.39.03_MD635_2_0188 @87\n"
     ]
    },
    {
     "name": "stdout",
     "output_type": "stream",
     "text": [
      "('MD635', 88)\n",
      "('MD635', 89)\n"
     ]
    },
    {
     "name": "stderr",
     "output_type": "stream",
     "text": [
      "Patch in annotation but not in mask: MD635 89 MD635-F30-2016.05.18-22.15.39_MD635_2_0089 alignedTo MD635-F63-2016.05.19-08.39.03_MD635_2_0188 @151\n",
      "Patch in annotation but not in mask: MD635 89 MD635-F30-2016.05.18-22.15.39_MD635_2_0089 alignedTo MD635-F63-2016.05.19-08.39.03_MD635_2_0188 @120\n",
      "Patch in annotation but not in mask: MD635 89 MD635-F30-2016.05.18-22.15.39_MD635_2_0089 alignedTo MD635-F63-2016.05.19-08.39.03_MD635_2_0188 @44\n"
     ]
    },
    {
     "name": "stdout",
     "output_type": "stream",
     "text": [
      "('MD635', 90)\n",
      "('MD635', 91)\n"
     ]
    },
    {
     "name": "stderr",
     "output_type": "stream",
     "text": [
      "Patch in annotation but not in mask: MD635 91 MD635-F31-2016.05.18-22.31.18_MD635_1_0091 alignedTo MD635-F63-2016.05.19-08.39.03_MD635_2_0188 @96\n",
      "Patch in annotation but not in mask: MD635 91 MD635-F31-2016.05.18-22.31.18_MD635_1_0091 alignedTo MD635-F63-2016.05.19-08.39.03_MD635_2_0188 @200\n"
     ]
    },
    {
     "name": "stdout",
     "output_type": "stream",
     "text": [
      "('MD635', 92)\n"
     ]
    },
    {
     "name": "stderr",
     "output_type": "stream",
     "text": [
      "Patch in annotation but not in mask: MD635 92 MD635-F31-2016.05.18-22.31.18_MD635_2_0092 alignedTo MD635-F63-2016.05.19-08.39.03_MD635_2_0188 @143\n",
      "Patch in annotation but not in mask: MD635 92 MD635-F31-2016.05.18-22.31.18_MD635_2_0092 alignedTo MD635-F63-2016.05.19-08.39.03_MD635_2_0188 @43\n"
     ]
    },
    {
     "name": "stdout",
     "output_type": "stream",
     "text": [
      "('MD635', 94)\n",
      "('MD635', 95)\n"
     ]
    },
    {
     "name": "stderr",
     "output_type": "stream",
     "text": [
      "Patch in annotation but not in mask: MD635 95 MD635-F32-2016.05.18-22.50.16_MD635_2_0095 alignedTo MD635-F63-2016.05.19-08.39.03_MD635_2_0188 @99\n"
     ]
    },
    {
     "name": "stdout",
     "output_type": "stream",
     "text": [
      "('MD635', 96)\n",
      "('MD635', 97)\n",
      "('MD635', 98)\n",
      "('MD635', 99)\n"
     ]
    },
    {
     "name": "stderr",
     "output_type": "stream",
     "text": [
      "Patch in annotation but not in mask: MD635 99 MD635-F33-2016.05.18-23.06.34_MD635_3_0099 alignedTo MD635-F63-2016.05.19-08.39.03_MD635_2_0188 @95\n"
     ]
    },
    {
     "name": "stdout",
     "output_type": "stream",
     "text": [
      "('MD635', 100)\n"
     ]
    },
    {
     "name": "stderr",
     "output_type": "stream",
     "text": [
      "Patch in annotation but not in mask: MD635 100 MD635-F34-2016.05.18-23.23.55_MD635_1_0100 alignedTo MD635-F63-2016.05.19-08.39.03_MD635_2_0188 @128\n"
     ]
    },
    {
     "name": "stdout",
     "output_type": "stream",
     "text": [
      "('MD635', 101)\n"
     ]
    },
    {
     "name": "stderr",
     "output_type": "stream",
     "text": [
      "Patch in annotation but not in mask: MD635 101 MD635-F34-2016.05.18-23.23.55_MD635_2_0101 alignedTo MD635-F63-2016.05.19-08.39.03_MD635_2_0188 @77\n"
     ]
    },
    {
     "name": "stdout",
     "output_type": "stream",
     "text": [
      "('MD635', 102)\n",
      "('MD635', 103)\n",
      "('MD635', 104)\n"
     ]
    },
    {
     "name": "stderr",
     "output_type": "stream",
     "text": [
      "Patch in annotation but not in mask: MD635 104 MD635-F35-2016.05.18-23.40.52_MD635_2_0104 alignedTo MD635-F63-2016.05.19-08.39.03_MD635_2_0188 @139\n"
     ]
    },
    {
     "name": "stdout",
     "output_type": "stream",
     "text": [
      "('MD635', 105)\n",
      "('MD635', 106)\n",
      "('MD635', 107)\n"
     ]
    },
    {
     "name": "stderr",
     "output_type": "stream",
     "text": [
      "Patch in annotation but not in mask: MD635 107 MD635-F36-2016.05.18-23.59.35_MD635_2_0107 alignedTo MD635-F63-2016.05.19-08.39.03_MD635_2_0188 @181\n",
      "Patch in annotation but not in mask: MD635 107 MD635-F36-2016.05.18-23.59.35_MD635_2_0107 alignedTo MD635-F63-2016.05.19-08.39.03_MD635_2_0188 @129\n",
      "Patch in annotation but not in mask: MD635 107 MD635-F36-2016.05.18-23.59.35_MD635_2_0107 alignedTo MD635-F63-2016.05.19-08.39.03_MD635_2_0188 @154\n"
     ]
    },
    {
     "name": "stdout",
     "output_type": "stream",
     "text": [
      "('MD635', 108)\n",
      "('MD635', 109)\n",
      "('MD635', 110)\n",
      "('MD635', 111)\n"
     ]
    },
    {
     "name": "stderr",
     "output_type": "stream",
     "text": [
      "Patch in annotation but not in mask: MD635 111 MD635-F37-2016.05.23-14.05.18_MD635_3_0111 alignedTo MD635-F63-2016.05.19-08.39.03_MD635_2_0188 @44\n"
     ]
    },
    {
     "name": "stdout",
     "output_type": "stream",
     "text": [
      "('MD635', 112)\n",
      "('MD635', 113)\n",
      "('MD635', 114)\n",
      "('MD635', 115)\n",
      "('MD635', 116)\n"
     ]
    },
    {
     "name": "stderr",
     "output_type": "stream",
     "text": [
      "Patch in annotation but not in mask: MD635 116 MD635-F39-2016.05.19-00.52.10_MD635_2_0116 alignedTo MD635-F63-2016.05.19-08.39.03_MD635_2_0188 @229\n",
      "Patch in annotation but not in mask: MD635 116 MD635-F39-2016.05.19-00.52.10_MD635_2_0116 alignedTo MD635-F63-2016.05.19-08.39.03_MD635_2_0188 @156\n",
      "Patch in annotation but not in mask: MD635 116 MD635-F39-2016.05.19-00.52.10_MD635_2_0116 alignedTo MD635-F63-2016.05.19-08.39.03_MD635_2_0188 @97\n"
     ]
    },
    {
     "name": "stdout",
     "output_type": "stream",
     "text": [
      "('MD635', 117)\n"
     ]
    },
    {
     "name": "stderr",
     "output_type": "stream",
     "text": [
      "Patch in annotation but not in mask: MD635 117 MD635-F39-2016.05.19-00.52.10_MD635_3_0117 alignedTo MD635-F63-2016.05.19-08.39.03_MD635_2_0188 @199\n"
     ]
    },
    {
     "name": "stdout",
     "output_type": "stream",
     "text": [
      "('MD635', 118)\n",
      "('MD635', 119)\n"
     ]
    },
    {
     "name": "stderr",
     "output_type": "stream",
     "text": [
      "Patch in annotation but not in mask: MD635 119 MD635-F40-2016.05.19-01.08.51_MD635_2_0119 alignedTo MD635-F63-2016.05.19-08.39.03_MD635_2_0188 @190\n"
     ]
    },
    {
     "name": "stdout",
     "output_type": "stream",
     "text": [
      "('MD635', 120)\n",
      "('MD635', 121)\n",
      "('MD635', 122)\n",
      "('MD635', 123)\n"
     ]
    },
    {
     "name": "stderr",
     "output_type": "stream",
     "text": [
      "Patch in annotation but not in mask: MD635 123 MD635-F41-2016.05.19-01.28.39_MD635_3_0123 alignedTo MD635-F63-2016.05.19-08.39.03_MD635_2_0188 @88\n"
     ]
    },
    {
     "name": "stdout",
     "output_type": "stream",
     "text": [
      "('MD635', 124)\n"
     ]
    },
    {
     "name": "stderr",
     "output_type": "stream",
     "text": [
      "Patch in annotation but not in mask: MD635 124 MD635-F42-2016.05.19-01.47.04_MD635_1_0124 alignedTo MD635-F63-2016.05.19-08.39.03_MD635_2_0188 @26\n"
     ]
    },
    {
     "name": "stdout",
     "output_type": "stream",
     "text": [
      "('MD635', 125)\n"
     ]
    },
    {
     "name": "stderr",
     "output_type": "stream",
     "text": [
      "Patch in annotation but not in mask: MD635 125 MD635-F42-2016.05.19-01.47.04_MD635_2_0125 alignedTo MD635-F63-2016.05.19-08.39.03_MD635_2_0188 @52\n"
     ]
    },
    {
     "name": "stdout",
     "output_type": "stream",
     "text": [
      "('MD635', 126)\n",
      "('MD635', 127)\n"
     ]
    },
    {
     "name": "stderr",
     "output_type": "stream",
     "text": [
      "Patch in annotation but not in mask: MD635 127 MD635-F43-2016.05.19-02.06.14_MD635_1_0127 alignedTo MD635-F63-2016.05.19-08.39.03_MD635_2_0188 @123\n"
     ]
    },
    {
     "name": "stdout",
     "output_type": "stream",
     "text": [
      "('MD635', 128)\n",
      "('MD635', 129)\n",
      "('MD635', 130)\n",
      "('MD635', 131)\n",
      "('MD635', 132)\n",
      "('MD635', 133)\n",
      "('MD635', 134)\n",
      "('MD635', 135)\n",
      "('MD635', 136)\n",
      "('MD635', 137)\n",
      "('MD635', 138)\n"
     ]
    },
    {
     "name": "stderr",
     "output_type": "stream",
     "text": [
      "Patch in annotation but not in mask: MD635 138 MD635-F46-2016.05.19-03.02.11_MD635_3_0138 alignedTo MD635-F63-2016.05.19-08.39.03_MD635_2_0188 @50\n",
      "Patch in annotation but not in mask: MD635 138 MD635-F46-2016.05.19-03.02.11_MD635_3_0138 alignedTo MD635-F63-2016.05.19-08.39.03_MD635_2_0188 @95\n"
     ]
    },
    {
     "name": "stdout",
     "output_type": "stream",
     "text": [
      "('MD635', 139)\n",
      "('MD635', 140)\n"
     ]
    },
    {
     "name": "stderr",
     "output_type": "stream",
     "text": [
      "Patch in annotation but not in mask: MD635 140 MD635-F47-2016.05.19-03.19.48_MD635_2_0140 alignedTo MD635-F63-2016.05.19-08.39.03_MD635_2_0188 @42100\n"
     ]
    },
    {
     "name": "stdout",
     "output_type": "stream",
     "text": [
      "('MD635', 141)\n",
      "('MD635', 142)\n",
      "('MD635', 143)\n",
      "('MD635', 144)\n"
     ]
    },
    {
     "name": "stderr",
     "output_type": "stream",
     "text": [
      "Patch in annotation but not in mask: MD635 144 MD635-F48-2016.05.19-03.40.12_MD635_3_0144 alignedTo MD635-F63-2016.05.19-08.39.03_MD635_2_0188 @120\n",
      "Patch in annotation but not in mask: MD635 144 MD635-F48-2016.05.19-03.40.12_MD635_3_0144 alignedTo MD635-F63-2016.05.19-08.39.03_MD635_2_0188 @192\n"
     ]
    },
    {
     "name": "stdout",
     "output_type": "stream",
     "text": [
      "('MD635', 145)\n",
      "('MD635', 146)\n"
     ]
    },
    {
     "name": "stderr",
     "output_type": "stream",
     "text": [
      "Patch in annotation but not in mask: MD635 146 MD635-F49-2016.05.19-03.59.43_MD635_2_0146 alignedTo MD635-F63-2016.05.19-08.39.03_MD635_2_0188 @113\n",
      "Patch in annotation but not in mask: MD635 146 MD635-F49-2016.05.19-03.59.43_MD635_2_0146 alignedTo MD635-F63-2016.05.19-08.39.03_MD635_2_0188 @81\n"
     ]
    },
    {
     "name": "stdout",
     "output_type": "stream",
     "text": [
      "('MD635', 147)\n",
      "('MD635', 148)\n",
      "('MD635', 149)\n",
      "('MD635', 150)\n",
      "('MD635', 151)\n"
     ]
    },
    {
     "name": "stderr",
     "output_type": "stream",
     "text": [
      "Patch in annotation but not in mask: MD635 151 MD635-F51-2016.05.23-15.04.39_MD635_1_0151 alignedTo MD635-F63-2016.05.19-08.39.03_MD635_2_0188 @84\n"
     ]
    },
    {
     "name": "stdout",
     "output_type": "stream",
     "text": [
      "('MD635', 152)\n",
      "('MD635', 153)\n"
     ]
    },
    {
     "name": "stderr",
     "output_type": "stream",
     "text": [
      "Patch in annotation but not in mask: MD635 153 MD635-F51-2016.05.23-15.04.39_MD635_3_0153 alignedTo MD635-F63-2016.05.19-08.39.03_MD635_2_0188 @132\n"
     ]
    },
    {
     "name": "stdout",
     "output_type": "stream",
     "text": [
      "('MD635', 154)\n",
      "('MD635', 155)\n"
     ]
    },
    {
     "name": "stderr",
     "output_type": "stream",
     "text": [
      "Patch in annotation but not in mask: MD635 155 MD635-F52-2016.05.19-04.56.12_MD635_2_0155 alignedTo MD635-F63-2016.05.19-08.39.03_MD635_2_0188 @179\n"
     ]
    },
    {
     "name": "stdout",
     "output_type": "stream",
     "text": [
      "('MD635', 156)\n",
      "('MD635', 157)\n",
      "('MD635', 158)\n",
      "('MD635', 159)\n",
      "('MD635', 160)\n",
      "('MD635', 161)\n",
      "('MD635', 162)\n"
     ]
    },
    {
     "name": "stderr",
     "output_type": "stream",
     "text": [
      "Patch in annotation but not in mask: MD635 162 MD635-F55-2016.05.19-05.55.53_MD635_2_0164 alignedTo MD635-F63-2016.05.19-08.39.03_MD635_2_0188 @181\n"
     ]
    },
    {
     "name": "stdout",
     "output_type": "stream",
     "text": [
      "('MD635', 163)\n"
     ]
    },
    {
     "name": "stderr",
     "output_type": "stream",
     "text": [
      "Patch in annotation but not in mask: MD635 163 MD635-F55-2016.05.23-16.24.34_MD635_3_0165 alignedTo MD635-F63-2016.05.19-08.39.03_MD635_2_0188 @41\n"
     ]
    },
    {
     "name": "stdout",
     "output_type": "stream",
     "text": [
      "('MD635', 164)\n",
      "('MD635', 165)\n"
     ]
    },
    {
     "name": "stderr",
     "output_type": "stream",
     "text": [
      "Patch in annotation but not in mask: MD635 165 MD635-F56-2016.05.19-06.13.54_MD635_2_0167 alignedTo MD635-F63-2016.05.19-08.39.03_MD635_2_0188 @92\n",
      "Patch in annotation but not in mask: MD635 165 MD635-F56-2016.05.19-06.13.54_MD635_2_0167 alignedTo MD635-F63-2016.05.19-08.39.03_MD635_2_0188 @85\n",
      "Patch in annotation but not in mask: MD635 165 MD635-F56-2016.05.19-06.13.54_MD635_2_0167 alignedTo MD635-F63-2016.05.19-08.39.03_MD635_2_0188 @84\n"
     ]
    },
    {
     "name": "stdout",
     "output_type": "stream",
     "text": [
      "('MD635', 166)\n",
      "('MD635', 167)\n",
      "('MD635', 168)\n",
      "('MD635', 169)\n",
      "('MD635', 170)\n",
      "('MD635', 171)\n"
     ]
    },
    {
     "name": "stderr",
     "output_type": "stream",
     "text": [
      "Patch in annotation but not in mask: MD635 171 MD635-F59-2016.05.19-07.14.24_MD635_2_0176 alignedTo MD635-F63-2016.05.19-08.39.03_MD635_2_0188 @233\n",
      "Patch in annotation but not in mask: MD635 171 MD635-F59-2016.05.19-07.14.24_MD635_2_0176 alignedTo MD635-F63-2016.05.19-08.39.03_MD635_2_0188 @44\n"
     ]
    },
    {
     "name": "stdout",
     "output_type": "stream",
     "text": [
      "('MD635', 172)\n"
     ]
    },
    {
     "name": "stderr",
     "output_type": "stream",
     "text": [
      "Patch in annotation but not in mask: MD635 172 MD635-F60-2016.05.19-07.35.14_MD635_1_0178 alignedTo MD635-F63-2016.05.19-08.39.03_MD635_2_0188 @99\n"
     ]
    },
    {
     "name": "stdout",
     "output_type": "stream",
     "text": [
      "('MD635', 173)\n"
     ]
    },
    {
     "name": "stderr",
     "output_type": "stream",
     "text": [
      "Patch in annotation but not in mask: MD635 173 MD635-F60-2016.05.19-07.35.14_MD635_2_0179 alignedTo MD635-F63-2016.05.19-08.39.03_MD635_2_0188 @144\n"
     ]
    },
    {
     "name": "stdout",
     "output_type": "stream",
     "text": [
      "('MD635', 174)\n",
      "('MD635', 175)\n",
      "('MD635', 176)\n"
     ]
    },
    {
     "name": "stderr",
     "output_type": "stream",
     "text": [
      "Patch in annotation but not in mask: MD635 176 MD635-F62-2016.05.19-08.18.25_MD635_1_0184 alignedTo MD635-F63-2016.05.19-08.39.03_MD635_2_0188 @232\n"
     ]
    },
    {
     "name": "stdout",
     "output_type": "stream",
     "text": [
      "('MD635', 177)\n",
      "('MD635', 178)\n",
      "('MD635', 179)\n",
      "('MD635', 180)\n",
      "('MD635', 181)\n"
     ]
    },
    {
     "name": "stderr",
     "output_type": "stream",
     "text": [
      "Patch in annotation but not in mask: MD635 181 MD635-F64-2016.05.19-09.00.59_MD635_2_0191 alignedTo MD635-F63-2016.05.19-08.39.03_MD635_2_0188 @26\n"
     ]
    },
    {
     "name": "stdout",
     "output_type": "stream",
     "text": [
      "('MD635', 182)\n",
      "('MD635', 183)\n",
      "('MD635', 184)\n",
      "('MD635', 185)\n",
      "('MD635', 186)\n"
     ]
    },
    {
     "name": "stderr",
     "output_type": "stream",
     "text": [
      "Patch in annotation but not in mask: MD635 186 MD635-F67-2016.05.19-09.59.06_MD635_1_0199 alignedTo MD635-F63-2016.05.19-08.39.03_MD635_2_0188 @15562\n"
     ]
    },
    {
     "name": "stdout",
     "output_type": "stream",
     "text": [
      "('MD635', 187)\n",
      "('MD635', 188)\n"
     ]
    },
    {
     "name": "stderr",
     "output_type": "stream",
     "text": [
      "Patch in annotation but not in mask: MD635 188 MD635-F68-2016.05.19-10.18.40_MD635_1_0202 alignedTo MD635-F63-2016.05.19-08.39.03_MD635_2_0188 @212\n",
      "Patch in annotation but not in mask: MD635 188 MD635-F68-2016.05.19-10.18.40_MD635_1_0202 alignedTo MD635-F63-2016.05.19-08.39.03_MD635_2_0188 @107\n"
     ]
    },
    {
     "name": "stdout",
     "output_type": "stream",
     "text": [
      "('MD635', 189)\n"
     ]
    },
    {
     "name": "stderr",
     "output_type": "stream",
     "text": [
      "Patch in annotation but not in mask: MD635 189 MD635-F68-2016.05.19-10.18.40_MD635_2_0203 alignedTo MD635-F63-2016.05.19-08.39.03_MD635_2_0188 @226\n"
     ]
    },
    {
     "name": "stdout",
     "output_type": "stream",
     "text": [
      "('MD635', 190)\n",
      "('MD635', 191)\n",
      "('MD635', 192)\n"
     ]
    },
    {
     "name": "stderr",
     "output_type": "stream",
     "text": [
      "Patch in annotation but not in mask: MD635 192 MD635-F70-2016.05.19-10.57.59_MD635_1_0208 alignedTo MD635-F63-2016.05.19-08.39.03_MD635_2_0188 @190\n"
     ]
    },
    {
     "name": "stdout",
     "output_type": "stream",
     "text": [
      "('MD635', 193)\n",
      "('MD635', 194)\n"
     ]
    },
    {
     "name": "stderr",
     "output_type": "stream",
     "text": [
      "Patch in annotation but not in mask: MD635 194 MD635-F71-2016.05.19-11.17.07_MD635_1_0211 alignedTo MD635-F63-2016.05.19-08.39.03_MD635_2_0188 @217\n"
     ]
    },
    {
     "name": "stdout",
     "output_type": "stream",
     "text": [
      "('MD635', 195)\n",
      "('MD635', 196)\n",
      "('MD635', 197)\n"
     ]
    },
    {
     "name": "stderr",
     "output_type": "stream",
     "text": [
      "Patch in annotation but not in mask: MD635 197 MD635-F72-2016.05.19-11.37.07_MD635_2_0215 alignedTo MD635-F63-2016.05.19-08.39.03_MD635_2_0188 @225\n"
     ]
    },
    {
     "name": "stdout",
     "output_type": "stream",
     "text": [
      "('MD635', 198)\n"
     ]
    },
    {
     "name": "stderr",
     "output_type": "stream",
     "text": [
      "Patch in annotation but not in mask: MD635 198 MD635-F73-2016.05.19-11.56.44_MD635_1_0217 alignedTo MD635-F63-2016.05.19-08.39.03_MD635_2_0188 @41\n",
      "Patch in annotation but not in mask: MD635 198 MD635-F73-2016.05.19-11.56.44_MD635_1_0217 alignedTo MD635-F63-2016.05.19-08.39.03_MD635_2_0188 @143\n"
     ]
    },
    {
     "name": "stdout",
     "output_type": "stream",
     "text": [
      "('MD635', 199)\n",
      "('MD635', 200)\n"
     ]
    },
    {
     "name": "stderr",
     "output_type": "stream",
     "text": [
      "Patch in annotation but not in mask: MD635 200 MD635-F74-2016.05.19-12.15.18_MD635_1_0220 alignedTo MD635-F63-2016.05.19-08.39.03_MD635_2_0188 @21037\n",
      "Patch in annotation but not in mask: MD635 200 MD635-F74-2016.05.19-12.15.18_MD635_1_0220 alignedTo MD635-F63-2016.05.19-08.39.03_MD635_2_0188 @19781\n",
      "Patch in annotation but not in mask: MD635 200 MD635-F74-2016.05.19-12.15.18_MD635_1_0220 alignedTo MD635-F63-2016.05.19-08.39.03_MD635_2_0188 @22541\n",
      "Patch in annotation but not in mask: MD635 200 MD635-F74-2016.05.19-12.15.18_MD635_1_0220 alignedTo MD635-F63-2016.05.19-08.39.03_MD635_2_0188 @21789\n",
      "Patch in annotation but not in mask: MD635 200 MD635-F74-2016.05.19-12.15.18_MD635_1_0220 alignedTo MD635-F63-2016.05.19-08.39.03_MD635_2_0188 @19529\n",
      "Patch in annotation but not in mask: MD635 200 MD635-F74-2016.05.19-12.15.18_MD635_1_0220 alignedTo MD635-F63-2016.05.19-08.39.03_MD635_2_0188 @19280\n",
      "Patch in annotation but not in mask: MD635 200 MD635-F74-2016.05.19-12.15.18_MD635_1_0220 alignedTo MD635-F63-2016.05.19-08.39.03_MD635_2_0188 @21542\n",
      "Patch in annotation but not in mask: MD635 200 MD635-F74-2016.05.19-12.15.18_MD635_1_0220 alignedTo MD635-F63-2016.05.19-08.39.03_MD635_2_0188 @139\n",
      "Patch in annotation but not in mask: MD635 200 MD635-F74-2016.05.19-12.15.18_MD635_1_0220 alignedTo MD635-F63-2016.05.19-08.39.03_MD635_2_0188 @171\n"
     ]
    },
    {
     "name": "stdout",
     "output_type": "stream",
     "text": [
      "('MD635', 201)\n"
     ]
    },
    {
     "name": "stderr",
     "output_type": "stream",
     "text": [
      "Patch in annotation but not in mask: MD635 201 MD635-F74-2016.05.19-12.15.18_MD635_2_0221 alignedTo MD635-F63-2016.05.19-08.39.03_MD635_2_0188 @211\n"
     ]
    },
    {
     "name": "stdout",
     "output_type": "stream",
     "text": [
      "('MD635', 202)\n",
      "('MD635', 203)\n"
     ]
    },
    {
     "name": "stderr",
     "output_type": "stream",
     "text": [
      "Patch in annotation but not in mask: MD635 203 MD635-F75-2016.05.19-12.32.46_MD635_2_0224 alignedTo MD635-F63-2016.05.19-08.39.03_MD635_2_0188 @41\n"
     ]
    },
    {
     "name": "stdout",
     "output_type": "stream",
     "text": [
      "('MD635', 204)\n"
     ]
    },
    {
     "name": "stderr",
     "output_type": "stream",
     "text": [
      "Patch in annotation but not in mask: MD635 204 MD635-F76-2016.05.19-12.50.14_MD635_1_0226 alignedTo MD635-F63-2016.05.19-08.39.03_MD635_2_0188 @200\n",
      "Patch in annotation but not in mask: MD635 204 MD635-F76-2016.05.19-12.50.14_MD635_1_0226 alignedTo MD635-F63-2016.05.19-08.39.03_MD635_2_0188 @69\n"
     ]
    },
    {
     "name": "stdout",
     "output_type": "stream",
     "text": [
      "('MD635', 206)\n"
     ]
    },
    {
     "name": "stderr",
     "output_type": "stream",
     "text": [
      "Patch in annotation but not in mask: MD635 206 MD635-F77-2016.05.19-13.07.42_MD635_1_0229 alignedTo MD635-F63-2016.05.19-08.39.03_MD635_2_0188 @129\n"
     ]
    },
    {
     "name": "stdout",
     "output_type": "stream",
     "text": [
      "('MD635', 207)\n"
     ]
    },
    {
     "name": "stderr",
     "output_type": "stream",
     "text": [
      "Patch in annotation but not in mask: MD635 207 MD635-F77-2016.05.19-13.07.42_MD635_2_0230 alignedTo MD635-F63-2016.05.19-08.39.03_MD635_2_0188 @166\n"
     ]
    },
    {
     "name": "stdout",
     "output_type": "stream",
     "text": [
      "('MD635', 208)\n"
     ]
    },
    {
     "name": "stderr",
     "output_type": "stream",
     "text": [
      "Patch in annotation but not in mask: MD635 208 MD635-F78-2016.05.19-13.26.25_MD635_1_0232 alignedTo MD635-F63-2016.05.19-08.39.03_MD635_2_0188 @79\n",
      "Patch in annotation but not in mask: MD635 208 MD635-F78-2016.05.19-13.26.25_MD635_1_0232 alignedTo MD635-F63-2016.05.19-08.39.03_MD635_2_0188 @66\n"
     ]
    },
    {
     "name": "stdout",
     "output_type": "stream",
     "text": [
      "('MD635', 209)\n"
     ]
    },
    {
     "name": "stderr",
     "output_type": "stream",
     "text": [
      "Patch in annotation but not in mask: MD635 209 MD635-F78-2016.05.19-13.26.25_MD635_2_0233 alignedTo MD635-F63-2016.05.19-08.39.03_MD635_2_0188 @92\n"
     ]
    },
    {
     "name": "stdout",
     "output_type": "stream",
     "text": [
      "('MD635', 210)\n"
     ]
    },
    {
     "name": "stderr",
     "output_type": "stream",
     "text": [
      "Patch in annotation but not in mask: MD635 210 MD635-F79-2016.05.19-13.44.43_MD635_1_0235 alignedTo MD635-F63-2016.05.19-08.39.03_MD635_2_0188 @42\n",
      "Patch in annotation but not in mask: MD635 210 MD635-F79-2016.05.19-13.44.43_MD635_1_0235 alignedTo MD635-F63-2016.05.19-08.39.03_MD635_2_0188 @150\n",
      "Patch in annotation but not in mask: MD635 210 MD635-F79-2016.05.19-13.44.43_MD635_1_0235 alignedTo MD635-F63-2016.05.19-08.39.03_MD635_2_0188 @188\n"
     ]
    },
    {
     "name": "stdout",
     "output_type": "stream",
     "text": [
      "('MD635', 211)\n",
      "('MD635', 212)\n",
      "('MD635', 213)\n"
     ]
    },
    {
     "name": "stderr",
     "output_type": "stream",
     "text": [
      "Patch in annotation but not in mask: MD635 213 MD635-F80-2016.05.19-14.03.50_MD635_2_0239 alignedTo MD635-F63-2016.05.19-08.39.03_MD635_2_0188 @219\n"
     ]
    },
    {
     "name": "stdout",
     "output_type": "stream",
     "text": [
      "('MD635', 214)\n"
     ]
    },
    {
     "name": "stderr",
     "output_type": "stream",
     "text": [
      "Patch in annotation but not in mask: MD635 214 MD635-F81-2016.05.19-14.21.58_MD635_1_0241 alignedTo MD635-F63-2016.05.19-08.39.03_MD635_2_0188 @126\n",
      "Patch in annotation but not in mask: MD635 214 MD635-F81-2016.05.19-14.21.58_MD635_1_0241 alignedTo MD635-F63-2016.05.19-08.39.03_MD635_2_0188 @31\n",
      "Patch in annotation but not in mask: MD635 214 MD635-F81-2016.05.19-14.21.58_MD635_1_0241 alignedTo MD635-F63-2016.05.19-08.39.03_MD635_2_0188 @156\n"
     ]
    },
    {
     "name": "stdout",
     "output_type": "stream",
     "text": [
      "('MD635', 216)\n"
     ]
    },
    {
     "name": "stderr",
     "output_type": "stream",
     "text": [
      "Patch in annotation but not in mask: MD635 216 MD635-F82-2016.05.19-14.39.57_MD635_1_0244 alignedTo MD635-F63-2016.05.19-08.39.03_MD635_2_0188 @85\n"
     ]
    },
    {
     "name": "stdout",
     "output_type": "stream",
     "text": [
      "('MD635', 217)\n"
     ]
    },
    {
     "name": "stderr",
     "output_type": "stream",
     "text": [
      "Patch in annotation but not in mask: MD635 217 MD635-F82-2016.05.19-14.39.57_MD635_2_0245 alignedTo MD635-F63-2016.05.19-08.39.03_MD635_2_0188 @118\n"
     ]
    },
    {
     "name": "stdout",
     "output_type": "stream",
     "text": [
      "('MD635', 218)\n"
     ]
    },
    {
     "name": "stderr",
     "output_type": "stream",
     "text": [
      "Patch in annotation but not in mask: MD635 218 MD635-F83-2016.05.19-14.59.24_MD635_1_0247 alignedTo MD635-F63-2016.05.19-08.39.03_MD635_2_0188 @98\n"
     ]
    },
    {
     "name": "stdout",
     "output_type": "stream",
     "text": [
      "('MD635', 219)\n",
      "('MD635', 220)\n"
     ]
    },
    {
     "name": "stderr",
     "output_type": "stream",
     "text": [
      "Patch in annotation but not in mask: MD635 220 MD635-F84-2016.05.19-15.18.11_MD635_1_0250 alignedTo MD635-F63-2016.05.19-08.39.03_MD635_2_0188 @240\n",
      "Patch in annotation but not in mask: MD635 220 MD635-F84-2016.05.19-15.18.11_MD635_1_0250 alignedTo MD635-F63-2016.05.19-08.39.03_MD635_2_0188 @57\n"
     ]
    },
    {
     "name": "stdout",
     "output_type": "stream",
     "text": [
      "('MD635', 221)\n"
     ]
    },
    {
     "name": "stderr",
     "output_type": "stream",
     "text": [
      "Patch in annotation but not in mask: MD635 221 MD635-F84-2016.05.19-15.18.11_MD635_2_0251 alignedTo MD635-F63-2016.05.19-08.39.03_MD635_2_0188 @116\n"
     ]
    },
    {
     "name": "stdout",
     "output_type": "stream",
     "text": [
      "('MD635', 222)\n"
     ]
    },
    {
     "name": "stderr",
     "output_type": "stream",
     "text": [
      "Patch in annotation but not in mask: MD635 222 MD635-F85-2016.05.19-15.36.47_MD635_1_0253 alignedTo MD635-F63-2016.05.19-08.39.03_MD635_2_0188 @69\n"
     ]
    },
    {
     "name": "stdout",
     "output_type": "stream",
     "text": [
      "('MD635', 223)\n"
     ]
    },
    {
     "name": "stderr",
     "output_type": "stream",
     "text": [
      "Patch in annotation but not in mask: MD635 223 MD635-F85-2016.05.19-15.36.47_MD635_2_0254 alignedTo MD635-F63-2016.05.19-08.39.03_MD635_2_0188 @83\n",
      "Patch in annotation but not in mask: MD635 223 MD635-F85-2016.05.19-15.36.47_MD635_2_0254 alignedTo MD635-F63-2016.05.19-08.39.03_MD635_2_0188 @113\n"
     ]
    },
    {
     "name": "stdout",
     "output_type": "stream",
     "text": [
      "('MD635', 224)\n"
     ]
    },
    {
     "name": "stderr",
     "output_type": "stream",
     "text": [
      "Patch in annotation but not in mask: MD635 224 MD635-F86-2016.05.19-15.55.34_MD635_1_0256 alignedTo MD635-F63-2016.05.19-08.39.03_MD635_2_0188 @34\n"
     ]
    },
    {
     "name": "stdout",
     "output_type": "stream",
     "text": [
      "('MD635', 225)\n"
     ]
    },
    {
     "name": "stderr",
     "output_type": "stream",
     "text": [
      "Patch in annotation but not in mask: MD635 225 MD635-F86-2016.05.19-15.55.34_MD635_2_0257 alignedTo MD635-F63-2016.05.19-08.39.03_MD635_2_0188 @65\n"
     ]
    },
    {
     "name": "stdout",
     "output_type": "stream",
     "text": [
      "('MD635', 226)\n"
     ]
    },
    {
     "name": "stderr",
     "output_type": "stream",
     "text": [
      "Patch in annotation but not in mask: MD635 226 MD635-F87-2016.05.19-16.15.25_MD635_1_0259 alignedTo MD635-F63-2016.05.19-08.39.03_MD635_2_0188 @205\n",
      "Patch in annotation but not in mask: MD635 226 MD635-F87-2016.05.19-16.15.25_MD635_1_0259 alignedTo MD635-F63-2016.05.19-08.39.03_MD635_2_0188 @242\n"
     ]
    },
    {
     "name": "stdout",
     "output_type": "stream",
     "text": [
      "('MD635', 227)\n",
      "('MD635', 228)\n"
     ]
    },
    {
     "name": "stderr",
     "output_type": "stream",
     "text": [
      "Patch in annotation but not in mask: MD635 228 MD635-F88-2016.05.19-16.34.48_MD635_1_0262 alignedTo MD635-F63-2016.05.19-08.39.03_MD635_2_0188 @118\n"
     ]
    },
    {
     "name": "stdout",
     "output_type": "stream",
     "text": [
      "('MD635', 229)\n",
      "('MD635', 230)\n"
     ]
    },
    {
     "name": "stderr",
     "output_type": "stream",
     "text": [
      "Patch in annotation but not in mask: MD635 230 MD635-F89-2016.05.19-16.53.54_MD635_1_0265 alignedTo MD635-F63-2016.05.19-08.39.03_MD635_2_0188 @153\n"
     ]
    },
    {
     "name": "stdout",
     "output_type": "stream",
     "text": [
      "('MD635', 231)\n"
     ]
    },
    {
     "name": "stderr",
     "output_type": "stream",
     "text": [
      "Patch in annotation but not in mask: MD635 231 MD635-F89-2016.05.19-16.53.54_MD635_2_0266 alignedTo MD635-F63-2016.05.19-08.39.03_MD635_2_0188 @226\n"
     ]
    },
    {
     "name": "stdout",
     "output_type": "stream",
     "text": [
      "('MD635', 233)\n",
      "('MD635', 234)\n"
     ]
    },
    {
     "name": "stderr",
     "output_type": "stream",
     "text": [
      "Patch in annotation but not in mask: MD635 234 MD635-F91-2016.05.19-17.33.31_MD635_1_0271 alignedTo MD635-F63-2016.05.19-08.39.03_MD635_2_0188 @232\n",
      "Patch in annotation but not in mask: MD635 234 MD635-F91-2016.05.19-17.33.31_MD635_1_0271 alignedTo MD635-F63-2016.05.19-08.39.03_MD635_2_0188 @204\n",
      "Patch in annotation but not in mask: MD635 234 MD635-F91-2016.05.19-17.33.31_MD635_1_0271 alignedTo MD635-F63-2016.05.19-08.39.03_MD635_2_0188 @145\n",
      "Patch in annotation but not in mask: MD635 234 MD635-F91-2016.05.19-17.33.31_MD635_1_0271 alignedTo MD635-F63-2016.05.19-08.39.03_MD635_2_0188 @106\n"
     ]
    },
    {
     "name": "stdout",
     "output_type": "stream",
     "text": [
      "('MD635', 235)\n"
     ]
    },
    {
     "name": "stderr",
     "output_type": "stream",
     "text": [
      "Patch in annotation but not in mask: MD635 235 MD635-F91-2016.05.19-17.33.31_MD635_2_0272 alignedTo MD635-F63-2016.05.19-08.39.03_MD635_2_0188 @213\n"
     ]
    },
    {
     "name": "stdout",
     "output_type": "stream",
     "text": [
      "('MD635', 236)\n",
      "('MD635', 237)\n",
      "('MD635', 238)\n"
     ]
    },
    {
     "name": "stderr",
     "output_type": "stream",
     "text": [
      "Patch in annotation but not in mask: MD635 238 MD635-F93-2016.05.19-18.12.24_MD635_1_0277 alignedTo MD635-F63-2016.05.19-08.39.03_MD635_2_0188 @135\n",
      "Patch in annotation but not in mask: MD635 238 MD635-F93-2016.05.19-18.12.24_MD635_1_0277 alignedTo MD635-F63-2016.05.19-08.39.03_MD635_2_0188 @124\n"
     ]
    },
    {
     "name": "stdout",
     "output_type": "stream",
     "text": [
      "('MD635', 239)\n",
      "('MD635', 240)\n"
     ]
    },
    {
     "name": "stderr",
     "output_type": "stream",
     "text": [
      "Patch in annotation but not in mask: MD635 240 MD635-F94-2016.05.19-18.31.07_MD635_1_0280 alignedTo MD635-F63-2016.05.19-08.39.03_MD635_2_0188 @241\n",
      "Patch in annotation but not in mask: MD635 240 MD635-F94-2016.05.19-18.31.07_MD635_1_0280 alignedTo MD635-F63-2016.05.19-08.39.03_MD635_2_0188 @231\n"
     ]
    }
   ],
   "source": [
    "training_features = apply_function_to_dict(addresses_to_features, training_addresses)"
   ]
  },
  {
   "cell_type": "code",
   "execution_count": 99,
   "metadata": {
    "collapsed": false
   },
   "outputs": [],
   "source": [
    "training_features = {name: np.array([f for f in feats if f is not None]) \n",
    "                     for name, feats in training_features.iteritems()}"
   ]
  },
  {
   "cell_type": "code",
   "execution_count": 100,
   "metadata": {
    "collapsed": false,
    "scrolled": true
   },
   "outputs": [
    {
     "name": "stdout",
     "output_type": "stream",
     "text": [
      "10N 1000\n",
      "10N_negative 991\n",
      "12N 1000\n",
      "12N_negative 996\n",
      "5N 1000\n",
      "5N_negative 998\n",
      "6N 496\n",
      "6N_negative 997\n",
      "7N 999\n",
      "7N_negative 999\n",
      "7n 1000\n",
      "7n_negative 996\n",
      "AP 923\n",
      "AP_negative 994\n",
      "DC 1000\n",
      "DC_negative 993\n",
      "IC 1000\n",
      "IC_negative 991\n",
      "LC 1000\n",
      "LC_negative 999\n",
      "Pn 993\n",
      "Pn_negative 994\n",
      "RtTg 1000\n",
      "RtTg_negative 993\n",
      "SC 1000\n",
      "SC_negative 992\n",
      "SNC 949\n",
      "SNC_negative 996\n",
      "SNR 1000\n",
      "SNR_negative 998\n",
      "Sp5C 1000\n",
      "Sp5C_negative 996\n",
      "Tz 1000\n",
      "Tz_negative 996\n",
      "VCA 994\n",
      "VCA_negative 994\n",
      "VCP 1000\n",
      "VCP_negative 990\n",
      "VLL 1000\n",
      "VLL_negative 997\n"
     ]
    }
   ],
   "source": [
    "for name in sorted(training_features.iterkeys()):\n",
    "    print name, len(training_features[name])"
   ]
  },
  {
   "cell_type": "code",
   "execution_count": 68,
   "metadata": {
    "collapsed": true
   },
   "outputs": [],
   "source": [
    "# negatives are surrounding patches that are not of other positive classes\n",
    "# LogisticRegression(penalty='l2')\n",
    "# train_sample_scheme = 1\n",
    "\n",
    "# negatives are surrounding patches that include other positive classes\n",
    "# LogisticRegression(penalty='l1')\n",
    "# train_sample_scheme = 2\n",
    "\n",
    "# negatives are surrounding patches that are not of other positive classes\n",
    "# SVC(kernel='linear')\n",
    "# train_sample_scheme = 3\n",
    "\n",
    "# negatives are surrounding patches that are not of other positive classes\n",
    "# LinearSVC(kernel='linear') + CalibratedClassifierCV\n",
    "# train_sample_scheme = 4\n",
    "\n",
    "# negatives are surrounding patches that are not of other positive classes\n",
    "# XGBClassifier\n",
    "# train_sample_scheme = 5\n",
    "\n",
    "# negatives are surrounding patches that are not of other positive classes\n",
    "# sklearn.ensemble.GradientBoostingClassifier, max_depth=3, n_estimators=200\n",
    "# train_sample_scheme = 6\n",
    "\n",
    "# negatives are surrounding patches that are not of other positive classes\n",
    "# sklearn.ensemble.GradientBoostingClassifier, max_depth=5, n_estimators=100\n",
    "# train_sample_scheme = 7\n",
    "\n",
    "train_sample_scheme = 8"
   ]
  },
  {
   "cell_type": "code",
   "execution_count": 101,
   "metadata": {
    "collapsed": false
   },
   "outputs": [],
   "source": [
    "# Save training features\n",
    "\n",
    "train_feat_dir = create_if_not_exists(os.path.join(SVM_NTBLUE_ROOTDIR, 'training_features/'))\n",
    "\n",
    "for name_u, feats in training_features.iteritems():\n",
    "    bp.pack_ndarray_file(feats, os.path.join(train_feat_dir, name_u + '_trainSampleScheme_%d.bp' % train_sample_scheme))"
   ]
  },
  {
   "cell_type": "code",
   "execution_count": 102,
   "metadata": {
    "collapsed": true
   },
   "outputs": [],
   "source": [
    "# Load training features\n",
    "\n",
    "training_features = {name_u: bp.unpack_ndarray_file(os.path.join(SVM_NTBLUE_ROOTDIR, 'training_features', \\\n",
    "                                 name_u + '_trainSampleScheme_%d.bp' % train_sample_scheme))\n",
    "                     for name_u in labels}"
   ]
  },
  {
   "cell_type": "code",
   "execution_count": 104,
   "metadata": {
    "collapsed": false
   },
   "outputs": [],
   "source": [
    "from sklearn.linear_model import LogisticRegression\n",
    "from sklearn.svm import LinearSVC, SVC\n",
    "from sklearn.calibration import CalibratedClassifierCV\n",
    "from sklearn.ensemble import GradientBoostingClassifier \n",
    "\n",
    "sys.path.append('/home/yuncong/csd395/xgboost/python-package')\n",
    "from xgboost.sklearn import XGBClassifier"
   ]
  },
  {
   "cell_type": "code",
   "execution_count": 105,
   "metadata": {
    "collapsed": false,
    "scrolled": true
   },
   "outputs": [
    {
     "name": "stdout",
     "output_type": "stream",
     "text": [
      "VCA\n"
     ]
    },
    {
     "name": "stderr",
     "output_type": "stream",
     "text": [
      "train classifier: 0.00 seconds\n"
     ]
    },
    {
     "name": "stdout",
     "output_type": "stream",
     "text": [
      "Tz\n"
     ]
    },
    {
     "name": "stderr",
     "output_type": "stream",
     "text": [
      "train classifier: 0.00 seconds\n"
     ]
    },
    {
     "name": "stdout",
     "output_type": "stream",
     "text": [
      "SNC\n"
     ]
    },
    {
     "name": "stderr",
     "output_type": "stream",
     "text": [
      "train classifier: 0.00 seconds\n"
     ]
    },
    {
     "name": "stdout",
     "output_type": "stream",
     "text": [
      "7n\n"
     ]
    },
    {
     "name": "stderr",
     "output_type": "stream",
     "text": [
      "train classifier: 0.00 seconds\n"
     ]
    },
    {
     "name": "stdout",
     "output_type": "stream",
     "text": [
      "DC\n"
     ]
    },
    {
     "name": "stderr",
     "output_type": "stream",
     "text": [
      "train classifier: 0.00 seconds\n"
     ]
    },
    {
     "name": "stdout",
     "output_type": "stream",
     "text": [
      "12N\n"
     ]
    },
    {
     "name": "stderr",
     "output_type": "stream",
     "text": [
      "train classifier: 0.00 seconds\n"
     ]
    },
    {
     "name": "stdout",
     "output_type": "stream",
     "text": [
      "Sp5C\n"
     ]
    },
    {
     "name": "stderr",
     "output_type": "stream",
     "text": [
      "train classifier: 0.00 seconds\n"
     ]
    },
    {
     "name": "stdout",
     "output_type": "stream",
     "text": [
      "VCP\n"
     ]
    },
    {
     "name": "stderr",
     "output_type": "stream",
     "text": [
      "train classifier: 0.00 seconds\n"
     ]
    },
    {
     "name": "stdout",
     "output_type": "stream",
     "text": [
      "AP\n"
     ]
    },
    {
     "name": "stderr",
     "output_type": "stream",
     "text": [
      "train classifier: 0.00 seconds\n"
     ]
    },
    {
     "name": "stdout",
     "output_type": "stream",
     "text": [
      "6N\n"
     ]
    },
    {
     "name": "stderr",
     "output_type": "stream",
     "text": [
      "train classifier: 0.00 seconds\n"
     ]
    },
    {
     "name": "stdout",
     "output_type": "stream",
     "text": [
      "5N\n"
     ]
    },
    {
     "name": "stderr",
     "output_type": "stream",
     "text": [
      "train classifier: 0.00 seconds\n"
     ]
    },
    {
     "name": "stdout",
     "output_type": "stream",
     "text": [
      "SNR\n"
     ]
    },
    {
     "name": "stderr",
     "output_type": "stream",
     "text": [
      "train classifier: 0.00 seconds\n"
     ]
    },
    {
     "name": "stdout",
     "output_type": "stream",
     "text": [
      "RtTg\n"
     ]
    },
    {
     "name": "stderr",
     "output_type": "stream",
     "text": [
      "train classifier: 0.00 seconds\n"
     ]
    },
    {
     "name": "stdout",
     "output_type": "stream",
     "text": [
      "7N\n"
     ]
    },
    {
     "name": "stderr",
     "output_type": "stream",
     "text": [
      "train classifier: 0.00 seconds\n"
     ]
    },
    {
     "name": "stdout",
     "output_type": "stream",
     "text": [
      "SC\n"
     ]
    },
    {
     "name": "stderr",
     "output_type": "stream",
     "text": [
      "train classifier: 0.00 seconds\n"
     ]
    },
    {
     "name": "stdout",
     "output_type": "stream",
     "text": [
      "10N\n"
     ]
    },
    {
     "name": "stderr",
     "output_type": "stream",
     "text": [
      "train classifier: 0.00 seconds\n"
     ]
    },
    {
     "name": "stdout",
     "output_type": "stream",
     "text": [
      "IC\n"
     ]
    },
    {
     "name": "stderr",
     "output_type": "stream",
     "text": [
      "train classifier: 0.00 seconds\n"
     ]
    },
    {
     "name": "stdout",
     "output_type": "stream",
     "text": [
      "Pn\n"
     ]
    },
    {
     "name": "stderr",
     "output_type": "stream",
     "text": [
      "train classifier: 0.00 seconds\n"
     ]
    },
    {
     "name": "stdout",
     "output_type": "stream",
     "text": [
      "VLL\n"
     ]
    },
    {
     "name": "stderr",
     "output_type": "stream",
     "text": [
      "train classifier: 0.00 seconds\n"
     ]
    },
    {
     "name": "stdout",
     "output_type": "stream",
     "text": [
      "LC\n"
     ]
    },
    {
     "name": "stderr",
     "output_type": "stream",
     "text": [
      "train classifier: 0.00 seconds\n"
     ]
    }
   ],
   "source": [
    "# train svm classifiers\n",
    "\n",
    "svm_dir = create_if_not_exists(os.path.join(SVM_NTBLUE_ROOTDIR, 'classifiers'))\n",
    "# svm_dir = create_if_not_exists(os.path.join(SVM_ROOTDIR + '/trainSampleScheme_%(scheme)d' % {'scheme':train_sample_scheme}))\n",
    "\n",
    "# for label in structures:\n",
    "for label in existing_names:\n",
    "            \n",
    "    print label\n",
    "\n",
    "    t = time.time()\n",
    "\n",
    "    features_pos = training_features[label]\n",
    "    \n",
    "    if train_sample_scheme in [1, 3, 4, 5, 6, 7]:\n",
    "        features_neg = training_features[convert_to_surround_name(label, 'noclass')]\n",
    "    elif train_sample_scheme == 2:\n",
    "        features_neg = np.vstack([training_features[convert_to_surround_name(label, 'noclass')]] + \\\n",
    "                                  [training_features[convert_to_surround_name(label, surr_l)] \n",
    "                                  for surr_l in structures if convert_to_surround_name(label, surr_l) in labels])\n",
    "    elif train_sample_scheme == 8:\n",
    "        features_neg = training_features[label + '_negative']\n",
    "    else:\n",
    "        sys.stderr.write('training scheme is not recognized.\\n')\n",
    "   \n",
    "    train_data0 = np.r_[features_pos, features_neg]\n",
    "    train_labels0 = np.r_[np.ones((features_pos.shape[0], )), \n",
    "                         -np.ones((features_neg.shape[0], ))]\n",
    "    \n",
    "#     n_train = len(train_labels0)\n",
    "#     ri = np.random.choice(range(n_train), size=100, replace=False)\n",
    "#     train_data = train_data0[ri]\n",
    "#     train_labels = train_labels0[ri]\n",
    "\n",
    "    train_data = train_data0\n",
    "    train_labels = train_labels0\n",
    "    \n",
    "#     svc = SVC(C=1.0, kernel='rbf', degree=3, gamma='auto', coef0=0.0, shrinking=True, \n",
    "#           probability=True, tol=0.001, cache_size=1000, class_weight=None, verbose=False, \n",
    "#           max_iter=-1, decision_function_shape=None, random_state=None)\n",
    "\n",
    "    if train_sample_scheme in [1, 8]:\n",
    "        # L2 penalty - train: 0.88, test acc: 0.84\n",
    "        clf = LogisticRegression(penalty='l2', dual=False, tol=0.0001, C=1.0, \n",
    "                                 fit_intercept=True, intercept_scaling=1, class_weight=None, \n",
    "                                 random_state=None, solver='liblinear', max_iter=100, multi_class='ovr', \n",
    "                                 verbose=0, warm_start=False, n_jobs=1)\n",
    "#         clf.fit(train_data, train_labels)\n",
    "#         joblib.dump(clf, svm_dir + '/%(label)s_svm_trainSampleScheme_%(scheme)d.pkl' % {'label': label, 'scheme':train_sample_scheme})\n",
    "\n",
    "    elif train_sample_scheme == 2:\n",
    "        # L1 penalty - test acc: 0.818\n",
    "        clf = LogisticRegression(penalty='l1', dual=False, tol=0.0001, C=1.0, \n",
    "                                 fit_intercept=True, intercept_scaling=1, class_weight=None, \n",
    "                                 solver='liblinear', max_iter=100, multi_class='ovr', \n",
    "                                 verbose=0, warm_start=False, n_jobs=1)\n",
    "#         clf.fit(train_data, train_labels)\n",
    "#         joblib.dump(clf, svm_dir + '/%(label)s_svm_trainSampleScheme_%(scheme)d.pkl' % {'label': label, 'scheme':train_sample_scheme})\n",
    "\n",
    "            \n",
    "    elif train_sample_scheme == 3:\n",
    "        # Slow - train acc: 0.69, test acc: 0.68\n",
    "        clf = SVC(C=1.0, kernel='linear', degree=3, gamma='auto', coef0=0.0, shrinking=True, \n",
    "                  probability=True, tol=0.001, cache_size=1000, max_iter=-1,\n",
    "              decision_function_shape=None, random_state=None)\n",
    "        \n",
    "#         clf.fit(train_data, train_labels)\n",
    "#         joblib.dump(clf, svm_dir + '/%(label)s_svm_trainSampleScheme_%(scheme)d.pkl' % {'label': label, 'scheme':train_sample_scheme})\n",
    "\n",
    "\n",
    "    elif train_sample_scheme == 4:\n",
    "        # train 0.75, test 0.74\n",
    "        \n",
    "        sv_uncalibrated = LinearSVC(penalty='l2', loss='squared_hinge', dual=True, tol=0.0001, \n",
    "                                C=1.0, multi_class='ovr', \n",
    "                                fit_intercept=True, intercept_scaling=1, max_iter=100)\n",
    "        clf = CalibratedClassifierCV(sv_uncalibrated)\n",
    "        \n",
    "#         clf.fit(train_data, train_labels)\n",
    "#         joblib.dump(clf, svm_dir + '/%(label)s_svm_trainSampleScheme_%(scheme)d.pkl' % {'label': label, 'scheme':train_sample_scheme})\n",
    "\n",
    "        \n",
    "    elif train_sample_scheme == 5:\n",
    "        # train \n",
    "        \n",
    "        # http://xgboost.readthedocs.io/en/latest/python/python_api.html\n",
    "        clf = XGBClassifier(max_depth=3, learning_rate=0.2, n_estimators=200, \n",
    "                            silent=False, objective='binary:logistic', nthread=-1, gamma=0, \n",
    "                            min_child_weight=20, max_delta_step=0, subsample=.8, \n",
    "                            colsample_bytree=.8, colsample_bylevel=1, reg_alpha=0, reg_lambda=1, \n",
    "                            scale_pos_weight=1, base_score=0.5, seed=0, missing=None)\n",
    "        \n",
    "#         clf.fit(train_data, train_labels)\n",
    "#         joblib.dump(svc, svm_dir + '/%(label)s_svm_trainSampleScheme_%(scheme)d.pkl' % {'label': label, 'scheme':train_sample_scheme})\n",
    "\n",
    "    elif train_sample_scheme == 6:\n",
    "        # acc: 0.96/0.85\n",
    "        \n",
    "        # http://scikit-learn.org/stable/modules/generated/sklearn.ensemble.GradientBoostingClassifier.html\n",
    "        clf = GradientBoostingClassifier(loss='deviance', learning_rate=0.3, n_estimators=200, \n",
    "                                         subsample=1., criterion='friedman_mse', \n",
    "                                         min_samples_split=50, min_samples_leaf=20, \n",
    "                                         min_weight_fraction_leaf=0.0, max_depth=3, \n",
    "                                         min_impurity_split=1e-07, init=None, random_state=None, \n",
    "                                         max_features=None, verbose=1, max_leaf_nodes=None, \n",
    "                                         warm_start=False, presort='auto')\n",
    "        \n",
    "    elif train_sample_scheme == 7:\n",
    "        # acc: 0.98/0.87\n",
    "        \n",
    "        # http://scikit-learn.org/stable/modules/generated/sklearn.ensemble.GradientBoostingClassifier.html\n",
    "        clf = GradientBoostingClassifier(loss='deviance', learning_rate=0.3, n_estimators=100, \n",
    "                                         subsample=1., criterion='friedman_mse', \n",
    "                                         min_samples_split=50, min_samples_leaf=20, \n",
    "                                         min_weight_fraction_leaf=0.0, max_depth=5, \n",
    "                                         min_impurity_split=1e-07, init=None, random_state=None, \n",
    "                                         max_features=None, verbose=1, max_leaf_nodes=None, \n",
    "                                         warm_start=False, presort='auto')\n",
    "        \n",
    "    \n",
    "    else:\n",
    "        sys.stderr.write('training scheme is not recognized.\\n')\n",
    " \n",
    "    sys.stderr.write('train classifier: %.2f seconds\\n' % (time.time() - t))\n",
    "    \n",
    "    clf.fit(train_data, train_labels)\n",
    "    joblib.dump(clf, svm_dir + '/%(label)s_svm_trainSampleScheme_%(scheme)d.pkl' % {'label': label, 'scheme':train_sample_scheme})\n",
    "        \n",
    "#     del features_pos, features_neg, train_data, train_labels, svc"
   ]
  },
  {
   "cell_type": "markdown",
   "metadata": {},
   "source": [
    "# Load pre-computed svm classifiers"
   ]
  },
  {
   "cell_type": "code",
   "execution_count": 106,
   "metadata": {
    "collapsed": false
   },
   "outputs": [],
   "source": [
    "svc_allClasses = {}\n",
    "# for label in structures:\n",
    "for label in existing_names:\n",
    "    svc_allClasses[label] = joblib.load(SVM_NTBLUE_ROOTDIR + '/classifiers/%(label)s_svm_trainSampleScheme_%(scheme)d.pkl' % {'label': label, 'scheme':train_sample_scheme})"
   ]
  },
  {
   "cell_type": "code",
   "execution_count": 72,
   "metadata": {
    "collapsed": true
   },
   "outputs": [],
   "source": [
    "# visualize training patches"
   ]
  },
  {
   "cell_type": "code",
   "execution_count": 73,
   "metadata": {
    "collapsed": false
   },
   "outputs": [
    {
     "ename": "NameError",
     "evalue": "name 'sampled_addresses' is not defined",
     "output_type": "error",
     "traceback": [
      "\u001b[0;31m---------------------------------------------------------------------------\u001b[0m",
      "\u001b[0;31mNameError\u001b[0m                                 Traceback (most recent call last)",
      "\u001b[0;32m<ipython-input-73-c19a8ed1a863>\u001b[0m in \u001b[0;36m<module>\u001b[0;34m()\u001b[0m\n\u001b[0;32m----> 1\u001b[0;31m \u001b[0mpatches\u001b[0m \u001b[0;34m=\u001b[0m \u001b[0mextract_patches_given_locations_multiple_sections\u001b[0m\u001b[0;34m(\u001b[0m\u001b[0msampled_addresses\u001b[0m\u001b[0;34m[\u001b[0m\u001b[0;34m'AP'\u001b[0m\u001b[0;34m]\u001b[0m\u001b[0;34m,\u001b[0m \u001b[0;34m'grid_index'\u001b[0m\u001b[0;34m)\u001b[0m\u001b[0;34m\u001b[0m\u001b[0m\n\u001b[0m",
      "\u001b[0;31mNameError\u001b[0m: name 'sampled_addresses' is not defined"
     ]
    }
   ],
   "source": [
    "patches = extract_patches_given_locations_multiple_sections(sampled_addresses['AP'], 'grid_index')"
   ]
  },
  {
   "cell_type": "code",
   "execution_count": null,
   "metadata": {
    "collapsed": false,
    "scrolled": true
   },
   "outputs": [],
   "source": [
    "display_images_in_grids(patches, 5)"
   ]
  },
  {
   "cell_type": "code",
   "execution_count": null,
   "metadata": {
    "collapsed": false,
    "scrolled": true
   },
   "outputs": [],
   "source": [
    "patches = extract_patches_given_locations_multiple_sections(sampled_addresses['AP_surround'], 'grid_index')"
   ]
  },
  {
   "cell_type": "code",
   "execution_count": null,
   "metadata": {
    "collapsed": false,
    "scrolled": true
   },
   "outputs": [],
   "source": [
    "display_images_in_grids(patches, 5, titles=sampled_addresses['AP_surround'])"
   ]
  },
  {
   "cell_type": "code",
   "execution_count": 83,
   "metadata": {
    "collapsed": false
   },
   "outputs": [
    {
     "data": {
      "text/html": [
       "<a href='tmp.jpg' target='_blank'>tmp.jpg</a><br>"
      ],
      "text/plain": [
       "/oasis/projects/nsf/csd395/yuncong/Brain/learning/tmp.jpg"
      ]
     },
     "execution_count": 83,
     "metadata": {},
     "output_type": "execute_result"
    }
   ],
   "source": [
    "# Visualize a patch in context\n",
    "\n",
    "patch_size, stride, _, _ = get_default_gridspec('MD635')\n",
    "grid_locations = grid_parameters_to_sample_locations(get_default_gridspec('MD635'))\n",
    "viz = patch_boxes_overlay_on('original', 8, \n",
    "                       [grid_locations[44453]],\n",
    "                      patch_size=patch_size,\n",
    "                      stack='MD635',\n",
    "                       sec=219)\n",
    "display_image(viz)"
   ]
  },
  {
   "cell_type": "code",
   "execution_count": 107,
   "metadata": {
    "collapsed": false
   },
   "outputs": [
    {
     "data": {
      "image/png": "[encoded data removed]",
      "text/plain": [
       "<matplotlib.figure.Figure at 0x10d036d0>"
      ]
     },
     "metadata": {},
     "output_type": "display_data"
    }
   ],
   "source": [
    "# Compute training accuracy\n",
    "\n",
    "acc_all_structures = {}\n",
    "\n",
    "nrows = int(np.ceil(len(existing_names)/5.))\n",
    "ncols = 5\n",
    "\n",
    "fig, axes = plt.subplots(nrows, ncols, figsize=(ncols*2, nrows*2), sharex=True, sharey=True)\n",
    "axes = axes.flatten()\n",
    "\n",
    "# for i, label in enumerate(structures):\n",
    "for i, label in enumerate(existing_names):\n",
    "    \n",
    "    features_pos = training_features[label]\n",
    "    \n",
    "    if train_sample_scheme in [1,3,4,5,6,7]:\n",
    "        features_neg = training_features[convert_to_surround_name(label, 'noclass')]\n",
    "    elif train_sample_scheme == 2:\n",
    "        features_neg = np.vstack([training_features[convert_to_surround_name(label, 'noclass')]] + \\\n",
    "                                  [training_features[convert_to_surround_name(label, surr_l)] \n",
    "                                  for surr_l in structures if convert_to_surround_name(label, surr_l) in labels])\n",
    "    elif train_sample_scheme == 8:\n",
    "        features_neg = training_features[label + '_negative']\n",
    "    else:\n",
    "        sys.stderr.write('training scheme is not recognized.\\n')\n",
    "\n",
    "    \n",
    "    train_data = np.r_[features_pos, features_neg]\n",
    "    train_labels = np.r_[np.ones((features_pos.shape[0], )), \n",
    "                         -np.ones((features_neg.shape[0], ))]\n",
    "    \n",
    "    svc = svc_allClasses[label]\n",
    "    \n",
    "    probs = svc.predict_proba(train_data)[:, svc.classes_.tolist().index(1.)]\n",
    "    cm = compute_confusion_matrix(np.c_[probs, 1-probs], [0 if l==1. else 1 for l in train_labels], soft=True)\n",
    "    \n",
    "    acc_all_structures[label] = .5 * (cm[0,0] + cm[1,1])\n",
    "    \n",
    "    plot_confusion_matrix(cm, title='%(label)s'% {'label':label},\n",
    "                          labels=['',''],\n",
    "#                           labels=[label, convert_to_surround_name(label)],\n",
    "                         axis=axes[i])\n",
    "#     plt.show();\n",
    "\n",
    "plt.tight_layout()"
   ]
  },
  {
   "cell_type": "code",
   "execution_count": 108,
   "metadata": {
    "collapsed": false
   },
   "outputs": [
    {
     "name": "stdout",
     "output_type": "stream",
     "text": [
      "training accuracy: 0.977588369254\n"
     ]
    }
   ],
   "source": [
    "print 'training accuracy:', np.mean(acc_all_structures.values())"
   ]
  },
  {
   "cell_type": "code",
   "execution_count": null,
   "metadata": {
    "collapsed": true
   },
   "outputs": [],
   "source": []
  },
  {
   "cell_type": "markdown",
   "metadata": {},
   "source": [
    "# Test"
   ]
  },
  {
   "cell_type": "code",
   "execution_count": 109,
   "metadata": {
    "collapsed": false
   },
   "outputs": [],
   "source": [
    "# Extract test samples\n",
    "# 1000 test samples per unsided name\n",
    "\n",
    "test_addresses = defaultdict(list)\n",
    "\n",
    "# for stack in ['MD589', 'MD585', 'MD594']:\n",
    "for stack in ['MD635']:\n",
    "    annotation_grid_indices_fn = '/home/yuncong/csd395/CSHL_labelings_v3/%(stack)s/%(stack)s_annotation_grid_indices.h5' % dict(stack=stack)\n",
    "    label_gridIndices = read_hdf(annotation_grid_indices_fn, 'grid_indices')\n",
    "    sampled_addresses_sec_idx = sample_locations(label_gridIndices, labels, num_samples_per_landmark=1000)\n",
    "    \n",
    "    for name_u, addresses in sampled_addresses_sec_idx.iteritems():\n",
    "        test_addresses[name_u] += [(stack, ) + addr for addr in addresses]\n",
    "        \n",
    "test_addresses.default_factory = None\n",
    "        \n",
    "# sampled_addresses = {name_u: np.array(addresses) for name_u, addresses in sampled_addresses.iteritems()}"
   ]
  },
  {
   "cell_type": "code",
   "execution_count": 110,
   "metadata": {
    "collapsed": false,
    "scrolled": true
   },
   "outputs": [
    {
     "name": "stdout",
     "output_type": "stream",
     "text": [
      "('MD635', 75)\n",
      "('MD635', 76)\n",
      "('MD635', 77)\n",
      "('MD635', 78)\n",
      "('MD635', 79)\n",
      "('MD635', 80)\n",
      "('MD635', 81)\n",
      "('MD635', 82)\n"
     ]
    },
    {
     "name": "stderr",
     "output_type": "stream",
     "text": [
      "Patch in annotation but not in mask: MD635 82 MD635-F28-2016.05.18-21.46.26_MD635_1_0082 alignedTo MD635-F63-2016.05.19-08.39.03_MD635_2_0188 @31786\n",
      "Patch in annotation but not in mask: MD635 82 MD635-F28-2016.05.18-21.46.26_MD635_1_0082 alignedTo MD635-F63-2016.05.19-08.39.03_MD635_2_0188 @31286\n",
      "Patch in annotation but not in mask: MD635 82 MD635-F28-2016.05.18-21.46.26_MD635_1_0082 alignedTo MD635-F63-2016.05.19-08.39.03_MD635_2_0188 @31536\n",
      "Patch in annotation but not in mask: MD635 82 MD635-F28-2016.05.18-21.46.26_MD635_1_0082 alignedTo MD635-F63-2016.05.19-08.39.03_MD635_2_0188 @34045\n",
      "Patch in annotation but not in mask: MD635 82 MD635-F28-2016.05.18-21.46.26_MD635_1_0082 alignedTo MD635-F63-2016.05.19-08.39.03_MD635_2_0188 @32037\n",
      "Patch in annotation but not in mask: MD635 82 MD635-F28-2016.05.18-21.46.26_MD635_1_0082 alignedTo MD635-F63-2016.05.19-08.39.03_MD635_2_0188 @32288\n"
     ]
    },
    {
     "name": "stdout",
     "output_type": "stream",
     "text": [
      "('MD635', 83)\n",
      "('MD635', 84)\n",
      "('MD635', 85)\n",
      "('MD635', 86)\n"
     ]
    },
    {
     "name": "stderr",
     "output_type": "stream",
     "text": [
      "Patch in annotation but not in mask: MD635 86 MD635-F29-2016.05.18-22.01.14_MD635_2_0086 alignedTo MD635-F63-2016.05.19-08.39.03_MD635_2_0188 @56\n"
     ]
    },
    {
     "name": "stdout",
     "output_type": "stream",
     "text": [
      "('MD635', 87)\n",
      "('MD635', 88)\n"
     ]
    },
    {
     "name": "stderr",
     "output_type": "stream",
     "text": [
      "Patch in annotation but not in mask: MD635 88 MD635-F30-2016.05.18-22.15.39_MD635_1_0088 alignedTo MD635-F63-2016.05.19-08.39.03_MD635_2_0188 @124\n"
     ]
    },
    {
     "name": "stdout",
     "output_type": "stream",
     "text": [
      "('MD635', 89)\n",
      "('MD635', 90)\n",
      "('MD635', 91)\n"
     ]
    },
    {
     "name": "stderr",
     "output_type": "stream",
     "text": [
      "Patch in annotation but not in mask: MD635 91 MD635-F31-2016.05.18-22.31.18_MD635_1_0091 alignedTo MD635-F63-2016.05.19-08.39.03_MD635_2_0188 @186\n",
      "Patch in annotation but not in mask: MD635 91 MD635-F31-2016.05.18-22.31.18_MD635_1_0091 alignedTo MD635-F63-2016.05.19-08.39.03_MD635_2_0188 @227\n"
     ]
    },
    {
     "name": "stdout",
     "output_type": "stream",
     "text": [
      "('MD635', 92)\n",
      "('MD635', 94)\n"
     ]
    },
    {
     "name": "stderr",
     "output_type": "stream",
     "text": [
      "Patch in annotation but not in mask: MD635 94 MD635-F32-2016.05.18-22.50.16_MD635_1_0094 alignedTo MD635-F63-2016.05.19-08.39.03_MD635_2_0188 @175\n",
      "Patch in annotation but not in mask: MD635 94 MD635-F32-2016.05.18-22.50.16_MD635_1_0094 alignedTo MD635-F63-2016.05.19-08.39.03_MD635_2_0188 @130\n",
      "Patch in annotation but not in mask: MD635 95 MD635-F32-2016.05.18-22.50.16_MD635_2_0095 alignedTo MD635-F63-2016.05.19-08.39.03_MD635_2_0188 @219\n"
     ]
    },
    {
     "name": "stdout",
     "output_type": "stream",
     "text": [
      "('MD635', 95)\n",
      "('MD635', 96)\n"
     ]
    },
    {
     "name": "stderr",
     "output_type": "stream",
     "text": [
      "Patch in annotation but not in mask: MD635 96 MD635-F32-2016.05.18-22.50.16_MD635_3_0096 alignedTo MD635-F63-2016.05.19-08.39.03_MD635_2_0188 @80\n",
      "Patch in annotation but not in mask: MD635 96 MD635-F32-2016.05.18-22.50.16_MD635_3_0096 alignedTo MD635-F63-2016.05.19-08.39.03_MD635_2_0188 @221\n"
     ]
    },
    {
     "name": "stdout",
     "output_type": "stream",
     "text": [
      "('MD635', 97)\n",
      "('MD635', 98)\n",
      "('MD635', 99)\n"
     ]
    },
    {
     "name": "stderr",
     "output_type": "stream",
     "text": [
      "Patch in annotation but not in mask: MD635 99 MD635-F33-2016.05.18-23.06.34_MD635_3_0099 alignedTo MD635-F63-2016.05.19-08.39.03_MD635_2_0188 @69\n",
      "Patch in annotation but not in mask: MD635 99 MD635-F33-2016.05.18-23.06.34_MD635_3_0099 alignedTo MD635-F63-2016.05.19-08.39.03_MD635_2_0188 @125\n",
      "Patch in annotation but not in mask: MD635 100 MD635-F34-2016.05.18-23.23.55_MD635_1_0100 alignedTo MD635-F63-2016.05.19-08.39.03_MD635_2_0188 @46\n"
     ]
    },
    {
     "name": "stdout",
     "output_type": "stream",
     "text": [
      "('MD635', 100)\n",
      "('MD635', 101)\n"
     ]
    },
    {
     "name": "stderr",
     "output_type": "stream",
     "text": [
      "Patch in annotation but not in mask: MD635 101 MD635-F34-2016.05.18-23.23.55_MD635_2_0101 alignedTo MD635-F63-2016.05.19-08.39.03_MD635_2_0188 @211\n"
     ]
    },
    {
     "name": "stdout",
     "output_type": "stream",
     "text": [
      "('MD635', 102)\n",
      "('MD635', 103)\n"
     ]
    },
    {
     "name": "stderr",
     "output_type": "stream",
     "text": [
      "Patch in annotation but not in mask: MD635 103 MD635-F35-2016.05.18-23.40.52_MD635_1_0103 alignedTo MD635-F63-2016.05.19-08.39.03_MD635_2_0188 @79\n"
     ]
    },
    {
     "name": "stdout",
     "output_type": "stream",
     "text": [
      "('MD635', 104)\n",
      "('MD635', 105)\n"
     ]
    },
    {
     "name": "stderr",
     "output_type": "stream",
     "text": [
      "Patch in annotation but not in mask: MD635 105 MD635-F35-2016.05.18-23.40.52_MD635_3_0105 alignedTo MD635-F63-2016.05.19-08.39.03_MD635_2_0188 @140\n",
      "Patch in annotation but not in mask: MD635 105 MD635-F35-2016.05.18-23.40.52_MD635_3_0105 alignedTo MD635-F63-2016.05.19-08.39.03_MD635_2_0188 @28\n"
     ]
    },
    {
     "name": "stdout",
     "output_type": "stream",
     "text": [
      "('MD635', 106)\n",
      "('MD635', 107)\n",
      "('MD635', 108)\n",
      "('MD635', 109)\n"
     ]
    },
    {
     "name": "stderr",
     "output_type": "stream",
     "text": [
      "Patch in annotation but not in mask: MD635 109 MD635-F37-2016.05.23-14.05.18_MD635_1_0109 alignedTo MD635-F63-2016.05.19-08.39.03_MD635_2_0188 @84\n"
     ]
    },
    {
     "name": "stdout",
     "output_type": "stream",
     "text": [
      "('MD635', 110)\n",
      "('MD635', 111)\n",
      "('MD635', 112)\n",
      "('MD635', 113)\n",
      "('MD635', 114)\n",
      "('MD635', 115)\n",
      "('MD635', 116)\n"
     ]
    },
    {
     "name": "stderr",
     "output_type": "stream",
     "text": [
      "Patch in annotation but not in mask: MD635 116 MD635-F39-2016.05.19-00.52.10_MD635_2_0116 alignedTo MD635-F63-2016.05.19-08.39.03_MD635_2_0188 @142\n",
      "Patch in annotation but not in mask: MD635 117 MD635-F39-2016.05.19-00.52.10_MD635_3_0117 alignedTo MD635-F63-2016.05.19-08.39.03_MD635_2_0188 @183\n",
      "Patch in annotation but not in mask: MD635 117 MD635-F39-2016.05.19-00.52.10_MD635_3_0117 alignedTo MD635-F63-2016.05.19-08.39.03_MD635_2_0188 @194\n"
     ]
    },
    {
     "name": "stdout",
     "output_type": "stream",
     "text": [
      "('MD635', 117)\n",
      "('MD635', 118)\n"
     ]
    },
    {
     "name": "stderr",
     "output_type": "stream",
     "text": [
      "Patch in annotation but not in mask: MD635 118 MD635-F40-2016.05.19-01.08.51_MD635_1_0118 alignedTo MD635-F63-2016.05.19-08.39.03_MD635_2_0188 @84\n",
      "Patch in annotation but not in mask: MD635 118 MD635-F40-2016.05.19-01.08.51_MD635_1_0118 alignedTo MD635-F63-2016.05.19-08.39.03_MD635_2_0188 @141\n",
      "Patch in annotation but not in mask: MD635 119 MD635-F40-2016.05.19-01.08.51_MD635_2_0119 alignedTo MD635-F63-2016.05.19-08.39.03_MD635_2_0188 @119\n"
     ]
    },
    {
     "name": "stdout",
     "output_type": "stream",
     "text": [
      "('MD635', 119)\n",
      "('MD635', 120)\n",
      "('MD635', 121)\n"
     ]
    },
    {
     "name": "stderr",
     "output_type": "stream",
     "text": [
      "Patch in annotation but not in mask: MD635 121 MD635-F41-2016.05.19-01.28.39_MD635_1_0121 alignedTo MD635-F63-2016.05.19-08.39.03_MD635_2_0188 @127\n",
      "Patch in annotation but not in mask: MD635 121 MD635-F41-2016.05.19-01.28.39_MD635_1_0121 alignedTo MD635-F63-2016.05.19-08.39.03_MD635_2_0188 @205\n"
     ]
    },
    {
     "name": "stdout",
     "output_type": "stream",
     "text": [
      "('MD635', 122)\n",
      "('MD635', 123)\n",
      "('MD635', 124)\n",
      "('MD635', 125)\n"
     ]
    },
    {
     "name": "stderr",
     "output_type": "stream",
     "text": [
      "Patch in annotation but not in mask: MD635 125 MD635-F42-2016.05.19-01.47.04_MD635_2_0125 alignedTo MD635-F63-2016.05.19-08.39.03_MD635_2_0188 @186\n"
     ]
    },
    {
     "name": "stdout",
     "output_type": "stream",
     "text": [
      "('MD635', 126)\n",
      "('MD635', 127)\n",
      "('MD635', 128)\n",
      "('MD635', 129)\n",
      "('MD635', 130)\n",
      "('MD635', 131)\n",
      "('MD635', 132)\n",
      "('MD635', 133)\n",
      "('MD635', 134)\n",
      "('MD635', 135)\n",
      "('MD635', 136)\n",
      "('MD635', 137)\n",
      "('MD635', 138)\n",
      "('MD635', 139)\n"
     ]
    },
    {
     "name": "stderr",
     "output_type": "stream",
     "text": [
      "Patch in annotation but not in mask: MD635 139 MD635-F47-2016.05.19-03.19.48_MD635_1_0139 alignedTo MD635-F63-2016.05.19-08.39.03_MD635_2_0188 @167\n",
      "Patch in annotation but not in mask: MD635 140 MD635-F47-2016.05.19-03.19.48_MD635_2_0140 alignedTo MD635-F63-2016.05.19-08.39.03_MD635_2_0188 @41100\n",
      "Patch in annotation but not in mask: MD635 140 MD635-F47-2016.05.19-03.19.48_MD635_2_0140 alignedTo MD635-F63-2016.05.19-08.39.03_MD635_2_0188 @121\n",
      "Patch in annotation but not in mask: MD635 140 MD635-F47-2016.05.19-03.19.48_MD635_2_0140 alignedTo MD635-F63-2016.05.19-08.39.03_MD635_2_0188 @218\n"
     ]
    },
    {
     "name": "stdout",
     "output_type": "stream",
     "text": [
      "('MD635', 140)\n",
      "('MD635', 141)\n"
     ]
    },
    {
     "name": "stderr",
     "output_type": "stream",
     "text": [
      "Patch in annotation but not in mask: MD635 141 MD635-F47-2016.05.19-03.19.48_MD635_3_0141 alignedTo MD635-F63-2016.05.19-08.39.03_MD635_2_0188 @130\n",
      "Patch in annotation but not in mask: MD635 141 MD635-F47-2016.05.19-03.19.48_MD635_3_0141 alignedTo MD635-F63-2016.05.19-08.39.03_MD635_2_0188 @193\n"
     ]
    },
    {
     "name": "stdout",
     "output_type": "stream",
     "text": [
      "('MD635', 142)\n"
     ]
    },
    {
     "name": "stderr",
     "output_type": "stream",
     "text": [
      "Patch in annotation but not in mask: MD635 142 MD635-F48-2016.05.19-03.40.12_MD635_1_0142 alignedTo MD635-F63-2016.05.19-08.39.03_MD635_2_0188 @122\n"
     ]
    },
    {
     "name": "stdout",
     "output_type": "stream",
     "text": [
      "('MD635', 143)\n"
     ]
    },
    {
     "name": "stderr",
     "output_type": "stream",
     "text": [
      "Patch in annotation but not in mask: MD635 143 MD635-F48-2016.05.19-03.40.12_MD635_2_0143 alignedTo MD635-F63-2016.05.19-08.39.03_MD635_2_0188 @201\n",
      "Patch in annotation but not in mask: MD635 143 MD635-F48-2016.05.19-03.40.12_MD635_2_0143 alignedTo MD635-F63-2016.05.19-08.39.03_MD635_2_0188 @37\n",
      "Patch in annotation but not in mask: MD635 143 MD635-F48-2016.05.19-03.40.12_MD635_2_0143 alignedTo MD635-F63-2016.05.19-08.39.03_MD635_2_0188 @88\n"
     ]
    },
    {
     "name": "stdout",
     "output_type": "stream",
     "text": [
      "('MD635', 144)\n"
     ]
    },
    {
     "name": "stderr",
     "output_type": "stream",
     "text": [
      "Patch in annotation but not in mask: MD635 144 MD635-F48-2016.05.19-03.40.12_MD635_3_0144 alignedTo MD635-F63-2016.05.19-08.39.03_MD635_2_0188 @66\n",
      "Patch in annotation but not in mask: MD635 144 MD635-F48-2016.05.19-03.40.12_MD635_3_0144 alignedTo MD635-F63-2016.05.19-08.39.03_MD635_2_0188 @147\n",
      "Patch in annotation but not in mask: MD635 144 MD635-F48-2016.05.19-03.40.12_MD635_3_0144 alignedTo MD635-F63-2016.05.19-08.39.03_MD635_2_0188 @209\n"
     ]
    },
    {
     "name": "stdout",
     "output_type": "stream",
     "text": [
      "('MD635', 145)\n"
     ]
    },
    {
     "name": "stderr",
     "output_type": "stream",
     "text": [
      "Patch in annotation but not in mask: MD635 145 MD635-F49-2016.05.19-03.59.43_MD635_1_0145 alignedTo MD635-F63-2016.05.19-08.39.03_MD635_2_0188 @55\n",
      "Patch in annotation but not in mask: MD635 145 MD635-F49-2016.05.19-03.59.43_MD635_1_0145 alignedTo MD635-F63-2016.05.19-08.39.03_MD635_2_0188 @205\n",
      "Patch in annotation but not in mask: MD635 146 MD635-F49-2016.05.19-03.59.43_MD635_2_0146 alignedTo MD635-F63-2016.05.19-08.39.03_MD635_2_0188 @71\n"
     ]
    },
    {
     "name": "stdout",
     "output_type": "stream",
     "text": [
      "('MD635', 146)\n",
      "('MD635', 147)\n",
      "('MD635', 148)\n"
     ]
    },
    {
     "name": "stderr",
     "output_type": "stream",
     "text": [
      "Patch in annotation but not in mask: MD635 148 MD635-F50-2016.05.23-14.45.07_MD635_1_0148 alignedTo MD635-F63-2016.05.19-08.39.03_MD635_2_0188 @125\n"
     ]
    },
    {
     "name": "stdout",
     "output_type": "stream",
     "text": [
      "('MD635', 149)\n"
     ]
    },
    {
     "name": "stderr",
     "output_type": "stream",
     "text": [
      "Patch in annotation but not in mask: MD635 149 MD635-F50-2016.05.23-14.45.07_MD635_2_0149 alignedTo MD635-F63-2016.05.19-08.39.03_MD635_2_0188 @177\n",
      "Patch in annotation but not in mask: MD635 149 MD635-F50-2016.05.23-14.45.07_MD635_2_0149 alignedTo MD635-F63-2016.05.19-08.39.03_MD635_2_0188 @146\n"
     ]
    },
    {
     "name": "stdout",
     "output_type": "stream",
     "text": [
      "('MD635', 150)\n",
      "('MD635', 151)\n",
      "('MD635', 152)\n",
      "('MD635', 153)\n",
      "('MD635', 154)\n"
     ]
    },
    {
     "name": "stderr",
     "output_type": "stream",
     "text": [
      "Patch in annotation but not in mask: MD635 154 MD635-F52-2016.05.23-15.23.47_MD635_1_0154 alignedTo MD635-F63-2016.05.19-08.39.03_MD635_2_0188 @115\n"
     ]
    },
    {
     "name": "stdout",
     "output_type": "stream",
     "text": [
      "('MD635', 155)\n",
      "('MD635', 156)\n",
      "('MD635', 157)\n"
     ]
    },
    {
     "name": "stderr",
     "output_type": "stream",
     "text": [
      "Patch in annotation but not in mask: MD635 157 MD635-F53-2016.05.23-15.42.22_MD635_1_0157 alignedTo MD635-F63-2016.05.19-08.39.03_MD635_2_0188 @42\n"
     ]
    },
    {
     "name": "stdout",
     "output_type": "stream",
     "text": [
      "('MD635', 158)\n",
      "('MD635', 159)\n",
      "('MD635', 160)\n",
      "('MD635', 161)\n",
      "('MD635', 162)\n",
      "('MD635', 163)\n",
      "('MD635', 164)\n",
      "('MD635', 165)\n"
     ]
    },
    {
     "name": "stderr",
     "output_type": "stream",
     "text": [
      "Patch in annotation but not in mask: MD635 165 MD635-F56-2016.05.19-06.13.54_MD635_2_0167 alignedTo MD635-F63-2016.05.19-08.39.03_MD635_2_0188 @86\n",
      "Patch in annotation but not in mask: MD635 165 MD635-F56-2016.05.19-06.13.54_MD635_2_0167 alignedTo MD635-F63-2016.05.19-08.39.03_MD635_2_0188 @133\n",
      "Patch in annotation but not in mask: MD635 165 MD635-F56-2016.05.19-06.13.54_MD635_2_0167 alignedTo MD635-F63-2016.05.19-08.39.03_MD635_2_0188 @185\n"
     ]
    },
    {
     "name": "stdout",
     "output_type": "stream",
     "text": [
      "('MD635', 166)\n",
      "('MD635', 167)\n",
      "('MD635', 168)\n",
      "('MD635', 169)\n"
     ]
    },
    {
     "name": "stderr",
     "output_type": "stream",
     "text": [
      "Patch in annotation but not in mask: MD635 169 MD635-F58-2016.05.19-06.52.57_MD635_2_0173 alignedTo MD635-F63-2016.05.19-08.39.03_MD635_2_0188 @102\n"
     ]
    },
    {
     "name": "stdout",
     "output_type": "stream",
     "text": [
      "('MD635', 170)\n",
      "('MD635', 171)\n",
      "('MD635', 172)\n"
     ]
    },
    {
     "name": "stderr",
     "output_type": "stream",
     "text": [
      "Patch in annotation but not in mask: MD635 172 MD635-F60-2016.05.19-07.35.14_MD635_1_0178 alignedTo MD635-F63-2016.05.19-08.39.03_MD635_2_0188 @202\n"
     ]
    },
    {
     "name": "stdout",
     "output_type": "stream",
     "text": [
      "('MD635', 173)\n",
      "('MD635', 174)\n"
     ]
    },
    {
     "name": "stderr",
     "output_type": "stream",
     "text": [
      "Patch in annotation but not in mask: MD635 174 MD635-F61-2016.05.19-07.56.43_MD635_1_0181 alignedTo MD635-F63-2016.05.19-08.39.03_MD635_2_0188 @9287\n"
     ]
    },
    {
     "name": "stdout",
     "output_type": "stream",
     "text": [
      "('MD635', 175)\n"
     ]
    },
    {
     "name": "stderr",
     "output_type": "stream",
     "text": [
      "Patch in annotation but not in mask: MD635 175 MD635-F61-2016.05.19-07.56.43_MD635_2_0182 alignedTo MD635-F63-2016.05.19-08.39.03_MD635_2_0188 @128\n"
     ]
    },
    {
     "name": "stdout",
     "output_type": "stream",
     "text": [
      "('MD635', 176)\n",
      "('MD635', 177)\n",
      "('MD635', 178)\n"
     ]
    },
    {
     "name": "stderr",
     "output_type": "stream",
     "text": [
      "Patch in annotation but not in mask: MD635 178 MD635-F63-2016.05.19-08.39.03_MD635_1_0187 alignedTo MD635-F63-2016.05.19-08.39.03_MD635_2_0188 @171\n"
     ]
    },
    {
     "name": "stdout",
     "output_type": "stream",
     "text": [
      "('MD635', 179)\n",
      "('MD635', 180)\n",
      "('MD635', 181)\n",
      "('MD635', 182)\n",
      "('MD635', 183)\n",
      "('MD635', 184)\n",
      "('MD635', 185)\n",
      "('MD635', 186)\n",
      "('MD635', 187)\n",
      "('MD635', 188)\n",
      "('MD635', 189)\n"
     ]
    },
    {
     "name": "stderr",
     "output_type": "stream",
     "text": [
      "Patch in annotation but not in mask: MD635 189 MD635-F68-2016.05.19-10.18.40_MD635_2_0203 alignedTo MD635-F63-2016.05.19-08.39.03_MD635_2_0188 @15562\n"
     ]
    },
    {
     "name": "stdout",
     "output_type": "stream",
     "text": [
      "('MD635', 190)\n",
      "('MD635', 191)\n",
      "('MD635', 192)\n",
      "('MD635', 193)\n"
     ]
    },
    {
     "name": "stderr",
     "output_type": "stream",
     "text": [
      "Patch in annotation but not in mask: MD635 193 MD635-F70-2016.05.19-10.57.59_MD635_2_0209 alignedTo MD635-F63-2016.05.19-08.39.03_MD635_2_0188 @166\n"
     ]
    },
    {
     "name": "stdout",
     "output_type": "stream",
     "text": [
      "('MD635', 194)\n",
      "('MD635', 195)\n",
      "('MD635', 196)\n",
      "('MD635', 197)\n"
     ]
    },
    {
     "name": "stderr",
     "output_type": "stream",
     "text": [
      "Patch in annotation but not in mask: MD635 197 MD635-F72-2016.05.19-11.37.07_MD635_2_0215 alignedTo MD635-F63-2016.05.19-08.39.03_MD635_2_0188 @197\n"
     ]
    },
    {
     "name": "stdout",
     "output_type": "stream",
     "text": [
      "('MD635', 198)\n"
     ]
    },
    {
     "name": "stderr",
     "output_type": "stream",
     "text": [
      "Patch in annotation but not in mask: MD635 198 MD635-F73-2016.05.19-11.56.44_MD635_1_0217 alignedTo MD635-F63-2016.05.19-08.39.03_MD635_2_0188 @178\n"
     ]
    },
    {
     "name": "stdout",
     "output_type": "stream",
     "text": [
      "('MD635', 199)\n"
     ]
    },
    {
     "name": "stderr",
     "output_type": "stream",
     "text": [
      "Patch in annotation but not in mask: MD635 199 MD635-F73-2016.05.19-11.56.44_MD635_2_0218 alignedTo MD635-F63-2016.05.19-08.39.03_MD635_2_0188 @125\n"
     ]
    },
    {
     "name": "stdout",
     "output_type": "stream",
     "text": [
      "('MD635', 200)\n"
     ]
    },
    {
     "name": "stderr",
     "output_type": "stream",
     "text": [
      "Patch in annotation but not in mask: MD635 200 MD635-F74-2016.05.19-12.15.18_MD635_1_0220 alignedTo MD635-F63-2016.05.19-08.39.03_MD635_2_0188 @23044\n",
      "Patch in annotation but not in mask: MD635 200 MD635-F74-2016.05.19-12.15.18_MD635_1_0220 alignedTo MD635-F63-2016.05.19-08.39.03_MD635_2_0188 @22296\n",
      "Patch in annotation but not in mask: MD635 200 MD635-F74-2016.05.19-12.15.18_MD635_1_0220 alignedTo MD635-F63-2016.05.19-08.39.03_MD635_2_0188 @18525\n",
      "Patch in annotation but not in mask: MD635 200 MD635-F74-2016.05.19-12.15.18_MD635_1_0220 alignedTo MD635-F63-2016.05.19-08.39.03_MD635_2_0188 @22798\n",
      "Patch in annotation but not in mask: MD635 200 MD635-F74-2016.05.19-12.15.18_MD635_1_0220 alignedTo MD635-F63-2016.05.19-08.39.03_MD635_2_0188 @20277\n",
      "Patch in annotation but not in mask: MD635 200 MD635-F74-2016.05.19-12.15.18_MD635_1_0220 alignedTo MD635-F63-2016.05.19-08.39.03_MD635_2_0188 @94\n"
     ]
    },
    {
     "name": "stdout",
     "output_type": "stream",
     "text": [
      "('MD635', 201)\n"
     ]
    },
    {
     "name": "stderr",
     "output_type": "stream",
     "text": [
      "Patch in annotation but not in mask: MD635 201 MD635-F74-2016.05.19-12.15.18_MD635_2_0221 alignedTo MD635-F63-2016.05.19-08.39.03_MD635_2_0188 @120\n"
     ]
    },
    {
     "name": "stdout",
     "output_type": "stream",
     "text": [
      "('MD635', 202)\n"
     ]
    },
    {
     "name": "stderr",
     "output_type": "stream",
     "text": [
      "Patch in annotation but not in mask: MD635 202 MD635-F75-2016.05.19-12.32.46_MD635_1_0223 alignedTo MD635-F63-2016.05.19-08.39.03_MD635_2_0188 @185\n",
      "Patch in annotation but not in mask: MD635 202 MD635-F75-2016.05.19-12.32.46_MD635_1_0223 alignedTo MD635-F63-2016.05.19-08.39.03_MD635_2_0188 @180\n"
     ]
    },
    {
     "name": "stdout",
     "output_type": "stream",
     "text": [
      "('MD635', 203)\n"
     ]
    },
    {
     "name": "stderr",
     "output_type": "stream",
     "text": [
      "Patch in annotation but not in mask: MD635 203 MD635-F75-2016.05.19-12.32.46_MD635_2_0224 alignedTo MD635-F63-2016.05.19-08.39.03_MD635_2_0188 @90\n"
     ]
    },
    {
     "name": "stdout",
     "output_type": "stream",
     "text": [
      "('MD635', 204)\n"
     ]
    },
    {
     "name": "stderr",
     "output_type": "stream",
     "text": [
      "Patch in annotation but not in mask: MD635 204 MD635-F76-2016.05.19-12.50.14_MD635_1_0226 alignedTo MD635-F63-2016.05.19-08.39.03_MD635_2_0188 @65\n",
      "Patch in annotation but not in mask: MD635 204 MD635-F76-2016.05.19-12.50.14_MD635_1_0226 alignedTo MD635-F63-2016.05.19-08.39.03_MD635_2_0188 @234\n"
     ]
    },
    {
     "name": "stdout",
     "output_type": "stream",
     "text": [
      "('MD635', 206)\n"
     ]
    },
    {
     "name": "stderr",
     "output_type": "stream",
     "text": [
      "Patch in annotation but not in mask: MD635 206 MD635-F77-2016.05.19-13.07.42_MD635_1_0229 alignedTo MD635-F63-2016.05.19-08.39.03_MD635_2_0188 @23\n"
     ]
    },
    {
     "name": "stdout",
     "output_type": "stream",
     "text": [
      "('MD635', 207)\n"
     ]
    },
    {
     "name": "stderr",
     "output_type": "stream",
     "text": [
      "Patch in annotation but not in mask: MD635 207 MD635-F77-2016.05.19-13.07.42_MD635_2_0230 alignedTo MD635-F63-2016.05.19-08.39.03_MD635_2_0188 @184\n",
      "Patch in annotation but not in mask: MD635 207 MD635-F77-2016.05.19-13.07.42_MD635_2_0230 alignedTo MD635-F63-2016.05.19-08.39.03_MD635_2_0188 @33\n",
      "Patch in annotation but not in mask: MD635 207 MD635-F77-2016.05.19-13.07.42_MD635_2_0230 alignedTo MD635-F63-2016.05.19-08.39.03_MD635_2_0188 @70\n",
      "Patch in annotation but not in mask: MD635 207 MD635-F77-2016.05.19-13.07.42_MD635_2_0230 alignedTo MD635-F63-2016.05.19-08.39.03_MD635_2_0188 @157\n",
      "Patch in annotation but not in mask: MD635 207 MD635-F77-2016.05.19-13.07.42_MD635_2_0230 alignedTo MD635-F63-2016.05.19-08.39.03_MD635_2_0188 @39\n"
     ]
    },
    {
     "name": "stdout",
     "output_type": "stream",
     "text": [
      "('MD635', 208)\n",
      "('MD635', 209)\n"
     ]
    },
    {
     "name": "stderr",
     "output_type": "stream",
     "text": [
      "Patch in annotation but not in mask: MD635 209 MD635-F78-2016.05.19-13.26.25_MD635_2_0233 alignedTo MD635-F63-2016.05.19-08.39.03_MD635_2_0188 @73\n"
     ]
    },
    {
     "name": "stdout",
     "output_type": "stream",
     "text": [
      "('MD635', 210)\n"
     ]
    },
    {
     "name": "stderr",
     "output_type": "stream",
     "text": [
      "Patch in annotation but not in mask: MD635 210 MD635-F79-2016.05.19-13.44.43_MD635_1_0235 alignedTo MD635-F63-2016.05.19-08.39.03_MD635_2_0188 @92\n"
     ]
    },
    {
     "name": "stdout",
     "output_type": "stream",
     "text": [
      "('MD635', 211)\n",
      "('MD635', 212)\n",
      "('MD635', 213)\n"
     ]
    },
    {
     "name": "stderr",
     "output_type": "stream",
     "text": [
      "Patch in annotation but not in mask: MD635 213 MD635-F80-2016.05.19-14.03.50_MD635_2_0239 alignedTo MD635-F63-2016.05.19-08.39.03_MD635_2_0188 @72\n"
     ]
    },
    {
     "name": "stdout",
     "output_type": "stream",
     "text": [
      "('MD635', 214)\n",
      "('MD635', 216)\n"
     ]
    },
    {
     "name": "stderr",
     "output_type": "stream",
     "text": [
      "Patch in annotation but not in mask: MD635 216 MD635-F82-2016.05.19-14.39.57_MD635_1_0244 alignedTo MD635-F63-2016.05.19-08.39.03_MD635_2_0188 @70\n"
     ]
    },
    {
     "name": "stdout",
     "output_type": "stream",
     "text": [
      "('MD635', 217)\n",
      "('MD635', 218)\n"
     ]
    },
    {
     "name": "stderr",
     "output_type": "stream",
     "text": [
      "Patch in annotation but not in mask: MD635 218 MD635-F83-2016.05.19-14.59.24_MD635_1_0247 alignedTo MD635-F63-2016.05.19-08.39.03_MD635_2_0188 @55\n",
      "Patch in annotation but not in mask: MD635 218 MD635-F83-2016.05.19-14.59.24_MD635_1_0247 alignedTo MD635-F63-2016.05.19-08.39.03_MD635_2_0188 @194\n"
     ]
    },
    {
     "name": "stdout",
     "output_type": "stream",
     "text": [
      "('MD635', 219)\n"
     ]
    },
    {
     "name": "stderr",
     "output_type": "stream",
     "text": [
      "Patch in annotation but not in mask: MD635 219 MD635-F83-2016.05.19-14.59.24_MD635_2_0248 alignedTo MD635-F63-2016.05.19-08.39.03_MD635_2_0188 @36\n",
      "Patch in annotation but not in mask: MD635 219 MD635-F83-2016.05.19-14.59.24_MD635_2_0248 alignedTo MD635-F63-2016.05.19-08.39.03_MD635_2_0188 @82\n"
     ]
    },
    {
     "name": "stdout",
     "output_type": "stream",
     "text": [
      "('MD635', 220)\n",
      "('MD635', 221)\n",
      "('MD635', 222)\n"
     ]
    },
    {
     "name": "stderr",
     "output_type": "stream",
     "text": [
      "Patch in annotation but not in mask: MD635 222 MD635-F85-2016.05.19-15.36.47_MD635_1_0253 alignedTo MD635-F63-2016.05.19-08.39.03_MD635_2_0188 @125\n"
     ]
    },
    {
     "name": "stdout",
     "output_type": "stream",
     "text": [
      "('MD635', 223)\n",
      "('MD635', 224)\n",
      "('MD635', 225)\n"
     ]
    },
    {
     "name": "stderr",
     "output_type": "stream",
     "text": [
      "Patch in annotation but not in mask: MD635 225 MD635-F86-2016.05.19-15.55.34_MD635_2_0257 alignedTo MD635-F63-2016.05.19-08.39.03_MD635_2_0188 @16\n",
      "Patch in annotation but not in mask: MD635 225 MD635-F86-2016.05.19-15.55.34_MD635_2_0257 alignedTo MD635-F63-2016.05.19-08.39.03_MD635_2_0188 @197\n"
     ]
    },
    {
     "name": "stdout",
     "output_type": "stream",
     "text": [
      "('MD635', 226)\n"
     ]
    },
    {
     "name": "stderr",
     "output_type": "stream",
     "text": [
      "Patch in annotation but not in mask: MD635 226 MD635-F87-2016.05.19-16.15.25_MD635_1_0259 alignedTo MD635-F63-2016.05.19-08.39.03_MD635_2_0188 @99\n"
     ]
    },
    {
     "name": "stdout",
     "output_type": "stream",
     "text": [
      "('MD635', 227)\n"
     ]
    },
    {
     "name": "stderr",
     "output_type": "stream",
     "text": [
      "Patch in annotation but not in mask: MD635 227 MD635-F87-2016.05.19-16.15.25_MD635_2_0260 alignedTo MD635-F63-2016.05.19-08.39.03_MD635_2_0188 @15060\n"
     ]
    },
    {
     "name": "stdout",
     "output_type": "stream",
     "text": [
      "('MD635', 228)\n"
     ]
    },
    {
     "name": "stderr",
     "output_type": "stream",
     "text": [
      "Patch in annotation but not in mask: MD635 228 MD635-F88-2016.05.19-16.34.48_MD635_1_0262 alignedTo MD635-F63-2016.05.19-08.39.03_MD635_2_0188 @144\n",
      "Patch in annotation but not in mask: MD635 228 MD635-F88-2016.05.19-16.34.48_MD635_1_0262 alignedTo MD635-F63-2016.05.19-08.39.03_MD635_2_0188 @133\n"
     ]
    },
    {
     "name": "stdout",
     "output_type": "stream",
     "text": [
      "('MD635', 229)\n"
     ]
    },
    {
     "name": "stderr",
     "output_type": "stream",
     "text": [
      "Patch in annotation but not in mask: MD635 229 MD635-F88-2016.05.19-16.34.48_MD635_2_0263 alignedTo MD635-F63-2016.05.19-08.39.03_MD635_2_0188 @153\n"
     ]
    },
    {
     "name": "stdout",
     "output_type": "stream",
     "text": [
      "('MD635', 230)\n",
      "('MD635', 231)\n",
      "('MD635', 233)\n",
      "('MD635', 234)\n"
     ]
    },
    {
     "name": "stderr",
     "output_type": "stream",
     "text": [
      "Patch in annotation but not in mask: MD635 234 MD635-F91-2016.05.19-17.33.31_MD635_1_0271 alignedTo MD635-F63-2016.05.19-08.39.03_MD635_2_0188 @191\n"
     ]
    },
    {
     "name": "stdout",
     "output_type": "stream",
     "text": [
      "('MD635', 235)\n",
      "('MD635', 236)\n"
     ]
    },
    {
     "name": "stderr",
     "output_type": "stream",
     "text": [
      "Patch in annotation but not in mask: MD635 236 MD635-F92-2016.05.19-17.52.45_MD635_1_0274 alignedTo MD635-F63-2016.05.19-08.39.03_MD635_2_0188 @22\n"
     ]
    },
    {
     "name": "stdout",
     "output_type": "stream",
     "text": [
      "('MD635', 237)\n",
      "('MD635', 238)\n"
     ]
    },
    {
     "name": "stderr",
     "output_type": "stream",
     "text": [
      "Patch in annotation but not in mask: MD635 238 MD635-F93-2016.05.19-18.12.24_MD635_1_0277 alignedTo MD635-F63-2016.05.19-08.39.03_MD635_2_0188 @9\n"
     ]
    },
    {
     "name": "stdout",
     "output_type": "stream",
     "text": [
      "('MD635', 239)\n",
      "('MD635', 240)\n"
     ]
    }
   ],
   "source": [
    "test_features = apply_function_to_dict(addresses_to_features, test_addresses)"
   ]
  },
  {
   "cell_type": "code",
   "execution_count": 111,
   "metadata": {
    "collapsed": false
   },
   "outputs": [],
   "source": [
    "test_features = {name: np.array([f for f in feats if f is not None]) for name, feats in test_features.iteritems()}"
   ]
  },
  {
   "cell_type": "code",
   "execution_count": 112,
   "metadata": {
    "collapsed": false
   },
   "outputs": [],
   "source": [
    "# Save test features\n",
    "\n",
    "test_feat_dir = create_if_not_exists(os.path.join(SVM_NTBLUE_ROOTDIR, 'test_features'))\n",
    "\n",
    "for name_u, feats in test_features.iteritems():\n",
    "    bp.pack_ndarray_file(feats, os.path.join(test_feat_dir, name_u + '_trainSampleScheme_%d.bp' % train_sample_scheme))"
   ]
  },
  {
   "cell_type": "code",
   "execution_count": 113,
   "metadata": {
    "collapsed": false
   },
   "outputs": [],
   "source": [
    "# Load test features\n",
    "\n",
    "test_feat_dir = create_if_not_exists(os.path.join(SVM_NTBLUE_ROOTDIR, 'test_features'))\n",
    "\n",
    "test_features = {name: bp.unpack_ndarray_file(os.path.join(test_feat_dir, name + '_trainSampleScheme_%d.bp' % train_sample_scheme)) for name in labels}"
   ]
  },
  {
   "cell_type": "code",
   "execution_count": 114,
   "metadata": {
    "collapsed": false
   },
   "outputs": [
    {
     "data": {
      "image/png": "[encoded data removed]",
      "text/plain": [
       "<matplotlib.figure.Figure at 0xefade10>"
      ]
     },
     "metadata": {},
     "output_type": "display_data"
    }
   ],
   "source": [
    "# Compute test accuracy\n",
    "\n",
    "acc_all_structures = {}\n",
    "\n",
    "# nrows = len(structures)/5 + 1\n",
    "nrows = int(np.ceil(len(existing_names)/5.))\n",
    "ncols = 5\n",
    "\n",
    "fig, axes = plt.subplots(nrows, ncols, figsize=(ncols*2, nrows*2), sharex=True, sharey=True)\n",
    "axes = axes.flatten()\n",
    "\n",
    "# for i, label in enumerate(structures):\n",
    "for i, label in enumerate(existing_names):\n",
    "    \n",
    "    features_pos = test_features[label]\n",
    "    \n",
    "#     features_neg = test_features[convert_to_surround_name(label)]\n",
    "    \n",
    "    if train_sample_scheme in [1,3,4,5,6,7]:\n",
    "        features_neg = test_features[convert_to_surround_name(label, 'noclass')]\n",
    "    elif train_sample_scheme == 2:\n",
    "        features_neg = np.vstack([test_features[convert_to_surround_name(label, 'noclass')]] + \\\n",
    "                                  [test_features[convert_to_surround_name(label, surr_l)] \n",
    "                                  for surr_l in structures if convert_to_surround_name(label, surr_l) in labels])\n",
    "    elif train_sample_scheme == 8:\n",
    "        features_neg = training_features[label + '_negative']\n",
    "    else:\n",
    "        sys.stderr.write('training scheme is not recognized.\\n')\n",
    "        \n",
    "    \n",
    "    test_data = np.r_[features_pos, features_neg]\n",
    "    test_labels = np.r_[np.ones((features_pos.shape[0], )), \n",
    "                         -np.ones((features_neg.shape[0], ))]\n",
    "    \n",
    "    svc = svc_allClasses[label]\n",
    "    \n",
    "    probs = svc.predict_proba(test_data)[:, svc.classes_.tolist().index(1.)]\n",
    "    cm = compute_confusion_matrix(np.c_[probs, 1-probs], [0 if l==1. else 1 for l in test_labels], soft=True)\n",
    "    \n",
    "    acc_all_structures[label] = .5 * (cm[0,0] + cm[1,1])\n",
    "    \n",
    "    plot_confusion_matrix(cm, title='%(label)s'% {'label':label},\n",
    "                          labels=['',''],\n",
    "#                           labels=[label, convert_to_surround_name(label)],\n",
    "                         axis=axes[i])\n",
    "#     plt.show();\n",
    "\n",
    "plt.tight_layout()"
   ]
  },
  {
   "cell_type": "code",
   "execution_count": 115,
   "metadata": {
    "collapsed": false
   },
   "outputs": [
    {
     "name": "stdout",
     "output_type": "stream",
     "text": [
      "test accuracy: 0.957087655884\n"
     ]
    }
   ],
   "source": [
    "print 'test accuracy:', np.mean(acc_all_structures.values())"
   ]
  },
  {
   "cell_type": "code",
   "execution_count": null,
   "metadata": {
    "collapsed": true
   },
   "outputs": [],
   "source": []
  }
 ],
 "metadata": {
  "kernelspec": {
   "display_name": "Python 2",
   "language": "python",
   "name": "python2"
  },
  "language_info": {
   "codemirror_mode": {
    "name": "ipython",
    "version": 2
   },
   "file_extension": ".py",
   "mimetype": "text/x-python",
   "name": "python",
   "nbconvert_exporter": "python",
   "pygments_lexer": "ipython2",
   "version": "2.7.3"
  }
 },
 "nbformat": 4,
 "nbformat_minor": 0
}
