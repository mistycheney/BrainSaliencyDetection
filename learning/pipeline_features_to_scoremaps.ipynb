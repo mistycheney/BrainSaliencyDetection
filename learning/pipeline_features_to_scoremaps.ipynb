{
 "cells": [
  {
   "cell_type": "code",
   "execution_count": 1,
   "metadata": {
    "collapsed": false
   },
   "outputs": [
    {
     "name": "stdout",
     "output_type": "stream",
     "text": [
      "Setting environment for Gordon\n"
     ]
    },
    {
     "name": "stderr",
     "output_type": "stream",
     "text": [
      "No vtk\n"
     ]
    }
   ],
   "source": [
    "import os\n",
    "import sys\n",
    "import time\n",
    "\n",
    "sys.path.append(os.path.join(os.environ['REPO_DIR'], 'utilities'))\n",
    "from preprocess_utility import *\n",
    "from data_manager import *\n",
    "from metadata import *"
   ]
  },
  {
   "cell_type": "code",
   "execution_count": null,
   "metadata": {
    "collapsed": false,
    "scrolled": true
   },
   "outputs": [
    {
     "name": "stderr",
     "output_type": "stream",
     "text": [
      "interpolating scoremaps ..."
     ]
    },
    {
     "name": "stdout",
     "output_type": "stream",
     "text": [
      "['gcn-20-33.sdsc.edu'] are excluded\n",
      "Using nodes: ['gcn-20-31.sdsc.edu', 'gcn-20-32.sdsc.edu', 'gcn-20-34.sdsc.edu', 'gcn-20-35.sdsc.edu', 'gcn-20-36.sdsc.edu', 'gcn-20-37.sdsc.edu', 'gcn-20-38.sdsc.edu', 'gcn-20-41.sdsc.edu', 'gcn-20-42.sdsc.edu', 'gcn-20-43.sdsc.edu', 'gcn-20-44.sdsc.edu', 'gcn-20-45.sdsc.edu', 'gcn-20-46.sdsc.edu', 'gcn-20-47.sdsc.edu', 'gcn-20-48.sdsc.edu']\n"
     ]
    }
   ],
   "source": [
    "for stack in all_stacks:\n",
    "    \n",
    "# for stack in ['MD603']:\n",
    "        \n",
    "    first_sec, last_sec = metadata_cache['section_limits'][stack]\n",
    "\n",
    "    #################################\n",
    "\n",
    "#     t = time.time()\n",
    "#     sys.stderr.write('running svm classifier ...')\n",
    "\n",
    "#     exclude_nodes = [33]\n",
    "\n",
    "#     run_distributed4(command='%(script_path)s %(stack)s %%(first_sec)d %%(last_sec)d' % \\\n",
    "#                     {'script_path': os.path.join(os.environ['REPO_DIR'], 'learning') + '/svm_predict.py',\n",
    "#                     'stack': stack},\n",
    "#                     kwargs_list=dict(sections=range(first_sec, last_sec+1)),\n",
    "#                     exclude_nodes=exclude_nodes,\n",
    "#                     argument_type='partition')\n",
    "\n",
    "#     sys.stderr.write('done in %f seconds\\n' % (time.time() - t)) \n",
    "\n",
    "#     #################################\n",
    "\n",
    "    t = time.time()\n",
    "    sys.stderr.write('interpolating scoremaps ...')\n",
    "\n",
    "    exclude_nodes = [33]\n",
    "\n",
    "    run_distributed4(command='%(script_path)s %(stack)s %%(first_sec)d %%(last_sec)d' % \\\n",
    "                    {'script_path': os.path.join(os.environ['REPO_DIR'], 'learning') + '/interpolate_scoremaps_v2.py',\n",
    "                    'stack': stack},\n",
    "                    kwargs_list=dict(sections=range(first_sec, last_sec+1)),\n",
    "                    exclude_nodes=exclude_nodes,\n",
    "                    argument_type='partition')\n",
    "\n",
    "    sys.stderr.write('done in %f seconds\\n' % (time.time() - t)) # ~240 seconds \n",
    "\n",
    "    #################################\n",
    "\n",
    "    t = time.time()\n",
    "    sys.stderr.write('visualize scoremaps ...')\n",
    "\n",
    "    add_annotation = False\n",
    "\n",
    "    exclude_nodes = [33]\n",
    "    # first_sec, last_sec = DataManager.load_cropbox(stack)[4:]\n",
    "\n",
    "    run_distributed4(command='%(script_path)s %(stack)s -b %%(first_sec)d -e %%(last_sec)d %(add_annotation)s' % \\\n",
    "                    {'script_path': os.path.join(os.environ['REPO_DIR'], 'learning') + '/visualize_scoremaps_v2.py',\n",
    "                    'stack': stack,\n",
    "                    'add_annotation': '-a' if add_annotation else ''},\n",
    "                    kwargs_list=dict(sections=range(first_sec, last_sec+1)),\n",
    "                    exclude_nodes=exclude_nodes,\n",
    "                    argument_type='partition')\n",
    "\n",
    "    sys.stderr.write('done in %f seconds\\n' % (time.time() - t)) # 464 seconds / stack\n",
    "\n",
    "    #################################\n",
    "\n",
    "    paired_structures = ['5N', '6N', '7N', '7n', 'Amb', 'LC', 'LRt', 'Pn', 'Tz', 'VLL', 'RMC', 'SNC', 'SNR', '3N', '4N',\n",
    "                        'Sp5I', 'Sp5O', 'Sp5C', 'PBG', '10N', 'VCA', 'VCP', 'DC']\n",
    "    singular_structures = ['AP', '12N', 'RtTg', 'SC', 'IC']\n",
    "    structures = paired_structures + singular_structures\n",
    "\n",
    "    #################################\n",
    "\n",
    "    t = time.time()\n",
    "    sys.stderr.write('constructing score volumes ...')\n",
    "\n",
    "    exclude_nodes = [33]\n",
    "\n",
    "    run_distributed4(command='%(script_path)s %(stack)s %%(label)s' % \\\n",
    "                    {'script_path': os.path.join(os.environ['REPO_DIR'], 'reconstruct') + '/construct_score_volume_v2.py',\n",
    "                    'stack': stack},\n",
    "                    kwargs_list=dict(label=structures),\n",
    "                    exclude_nodes=exclude_nodes,\n",
    "                    argument_type='single')\n",
    "\n",
    "    sys.stderr.write('done in %f seconds\\n' % (time.time() - t))\n",
    "\n",
    "    #################################\n",
    "\n",
    "    downscale_factor = 32\n",
    "\n",
    "    #################################\n",
    "\n",
    "    print stack\n",
    "\n",
    "    volume_allLabels = {}\n",
    "\n",
    "    for name_u in structures:\n",
    "        volume = DataManager.load_score_volume(stack, label=name_u, downscale=downscale_factor, train_sample_scheme=1)\n",
    "        volume_allLabels[name_u] = volume\n",
    "#         del volume\n",
    "\n",
    "    t1 = time.time()\n",
    "\n",
    "    gradient_dir = create_if_not_exists(os.path.join(VOLUME_ROOTDIR, stack, 'score_volume_gradients'))\n",
    "\n",
    "    for name_u in structures:\n",
    "\n",
    "        t = time.time()\n",
    "\n",
    "        gy_gx_gz = np.gradient(volume_allLabels[name_u].astype(np.float16), 3, 3, 3) \n",
    "        # 3.3 second - re-computing is much faster than loading\n",
    "\n",
    "        sys.stderr.write('Gradient %s: %f seconds\\n' % (name_u, time.time() - t))\n",
    "\n",
    "        t = time.time()\n",
    "\n",
    "        bp.pack_ndarray_file(gy_gx_gz[0], os.path.join(gradient_dir, '%(stack)s_down%(ds)d_scoreVolume_%(label)s_trainSampleScheme_1_gy.bp' % {'stack':stack, 'label':name_u, 'ds': downscale_factor}))\n",
    "        bp.pack_ndarray_file(gy_gx_gz[1], os.path.join(gradient_dir, '%(stack)s_down%(ds)d_scoreVolume_%(label)s_trainSampleScheme_1_gx.bp' % {'stack':stack, 'label':name_u, 'ds': downscale_factor}))\n",
    "        bp.pack_ndarray_file(gy_gx_gz[2], os.path.join(gradient_dir, '%(stack)s_down%(ds)d_scoreVolume_%(label)s_trainSampleScheme_1_gz.bp' % {'stack':stack, 'label':name_u, 'ds': downscale_factor}))\n",
    "\n",
    "        del gy_gx_gz\n",
    "\n",
    "        sys.stderr.write('save %s: %f seconds\\n' % (name_u, time.time() - t))\n",
    "\n",
    "\n",
    "    sys.stderr.write('overall: %f seconds\\n' % (time.time() - t1))"
   ]
  },
  {
   "cell_type": "code",
   "execution_count": null,
   "metadata": {
    "collapsed": true
   },
   "outputs": [],
   "source": []
  },
  {
   "cell_type": "code",
   "execution_count": 4,
   "metadata": {
    "collapsed": true
   },
   "outputs": [],
   "source": [
    "paired_structures = ['5N', '6N', '7N', '7n', 'Amb', 'LC', 'LRt', 'Pn', 'Tz', 'VLL', 'RMC', 'SNC', 'SNR', '3N', '4N',\n",
    "                    'Sp5I', 'Sp5O', 'Sp5C', 'PBG', '10N', 'VCA', 'VCP', 'DC']\n",
    "singular_structures = ['AP', '12N', 'RtTg', 'SC', 'IC']\n",
    "structures = paired_structures + singular_structures"
   ]
  },
  {
   "cell_type": "code",
   "execution_count": 10,
   "metadata": {
    "collapsed": true
   },
   "outputs": [
    {
     "name": "stdout",
     "output_type": "stream",
     "text": [
      "MD589\n"
     ]
    },
    {
     "name": "stderr",
     "output_type": "stream",
     "text": [
      "Gradient 5N: 1.736946 seconds\n",
      "save 5N: 2.792673 seconds\n",
      "Gradient 6N: 1.709873 seconds\n",
      "save 6N: 2.062216 seconds\n",
      "Gradient 7N: 1.774315 seconds\n",
      "save 7N: 2.879442 seconds\n",
      "Gradient 7n: 1.726864 seconds\n",
      "save 7n: 2.451032 seconds\n",
      "Gradient Amb: 1.731376 seconds\n",
      "save Amb: 2.724903 seconds\n",
      "Gradient LC: 1.722921 seconds\n",
      "save LC: 2.446536 seconds\n",
      "Gradient LRt: 1.778243 seconds\n",
      "save LRt: 2.939850 seconds\n",
      "Gradient Pn: 1.759767 seconds\n",
      "save Pn: 2.811315 seconds\n",
      "Gradient Tz: 1.727292 seconds\n",
      "save Tz: 2.288719 seconds\n",
      "Gradient VLL: 1.771286 seconds\n",
      "save VLL: 2.863430 seconds\n",
      "Gradient RMC: 1.803575 seconds\n",
      "save RMC: 3.050235 seconds\n",
      "Gradient SNC: 1.756067 seconds\n",
      "save SNC: 2.922825 seconds\n",
      "Gradient SNR: 1.762315 seconds\n",
      "save SNR: 2.801711 seconds\n",
      "Gradient 3N: 1.781714 seconds\n",
      "save 3N: 2.915415 seconds\n",
      "Gradient 4N: 1.732980 seconds\n",
      "save 4N: 2.405576 seconds\n",
      "Gradient Sp5I: 1.769540 seconds\n",
      "save Sp5I: 2.833300 seconds\n",
      "Gradient Sp5O: 1.747406 seconds\n",
      "save Sp5O: 2.884168 seconds\n",
      "Gradient Sp5C: 1.765377 seconds\n",
      "save Sp5C: 2.887348 seconds\n",
      "Gradient PBG: 1.769174 seconds\n",
      "save PBG: 2.758929 seconds\n",
      "Gradient 10N: 1.706012 seconds\n",
      "save 10N: 2.144013 seconds\n",
      "Gradient VCA: 1.732495 seconds\n",
      "save VCA: 2.667887 seconds\n",
      "Gradient VCP: 1.761183 seconds\n",
      "save VCP: 2.796673 seconds\n",
      "Gradient DC: 1.765164 seconds\n",
      "save DC: 2.878019 seconds\n",
      "Gradient AP: 1.733042 seconds\n",
      "save AP: 2.498328 seconds\n",
      "Gradient 12N: 1.715331 seconds\n",
      "save 12N: 2.514591 seconds\n",
      "Gradient RtTg: 1.776946 seconds\n",
      "save RtTg: 2.868394 seconds\n",
      "Gradient SC: 1.783181 seconds\n",
      "save SC: 2.896050 seconds\n",
      "Gradient IC: 1.756484 seconds\n",
      "save IC: 2.766434 seconds\n",
      "overall: 124.815054 seconds\n"
     ]
    },
    {
     "name": "stdout",
     "output_type": "stream",
     "text": [
      "MD594\n"
     ]
    },
    {
     "name": "stderr",
     "output_type": "stream",
     "text": [
      "Gradient 5N: 1.761571 seconds\n",
      "save 5N: 2.859894 seconds\n",
      "Gradient 6N: 1.721962 seconds\n",
      "save 6N: 2.254084 seconds\n",
      "Gradient 7N: 1.772419 seconds\n",
      "save 7N: 2.949624 seconds\n",
      "Gradient 7n: 1.724967 seconds\n",
      "save 7n: 2.403525 seconds\n",
      "Gradient Amb: 1.763838 seconds\n",
      "save Amb: 2.852284 seconds\n",
      "Gradient LC: 1.736353 seconds\n",
      "save LC: 2.623500 seconds\n",
      "Gradient LRt: 1.797878 seconds\n",
      "save LRt: 3.060683 seconds\n",
      "Gradient Pn: 1.771339 seconds\n",
      "save Pn: 2.885558 seconds\n",
      "Gradient Tz: 1.744933 seconds\n",
      "save Tz: 2.496955 seconds\n",
      "Gradient VLL: 1.767515 seconds\n",
      "save VLL: 2.888929 seconds\n",
      "Gradient RMC: 1.785297 seconds\n",
      "save RMC: 3.087179 seconds\n",
      "Gradient SNC: 1.768346 seconds\n",
      "save SNC: 3.105579 seconds\n",
      "Gradient SNR: 1.777976 seconds\n",
      "save SNR: 2.889912 seconds\n",
      "Gradient 3N: 1.771332 seconds\n",
      "save 3N: 2.845661 seconds\n",
      "Gradient 4N: 1.731234 seconds\n",
      "save 4N: 2.479955 seconds\n",
      "Gradient Sp5I: 1.759675 seconds\n",
      "save Sp5I: 2.904405 seconds\n",
      "Gradient Sp5O: 1.778940 seconds\n",
      "save Sp5O: 2.930579 seconds\n",
      "Gradient Sp5C: 1.760503 seconds\n",
      "save Sp5C: 2.887690 seconds\n",
      "Gradient PBG: 1.794872 seconds\n",
      "save PBG: 2.948071 seconds\n",
      "Gradient 10N: 1.732903 seconds\n",
      "save 10N: 2.506826 seconds\n",
      "Gradient VCA: 1.750909 seconds\n",
      "save VCA: 2.675692 seconds\n",
      "Gradient VCP: 1.753466 seconds\n",
      "save VCP: 2.766284 seconds\n",
      "Gradient DC: 1.771192 seconds\n",
      "save DC: 2.891273 seconds\n",
      "Gradient AP: 1.724158 seconds\n",
      "save AP: 2.455553 seconds\n",
      "Gradient 12N: 1.746458 seconds\n",
      "save 12N: 2.636281 seconds\n",
      "Gradient RtTg: 1.793470 seconds\n",
      "save RtTg: 3.072270 seconds\n",
      "Gradient SC: 1.786628 seconds\n",
      "save SC: 2.962947 seconds\n",
      "Gradient IC: 1.757011 seconds\n",
      "save IC: 2.874777 seconds\n",
      "overall: 127.511365 seconds\n"
     ]
    },
    {
     "name": "stdout",
     "output_type": "stream",
     "text": [
      "MD593\n"
     ]
    },
    {
     "name": "stderr",
     "output_type": "stream",
     "text": [
      "Gradient 5N: 1.920582 seconds\n",
      "save 5N: 3.196497 seconds\n",
      "Gradient 6N: 1.877192 seconds\n",
      "save 6N: 2.516444 seconds\n",
      "Gradient 7N: 1.938150 seconds\n",
      "save 7N: 3.197680 seconds\n",
      "Gradient 7n: 1.893346 seconds\n",
      "save 7n: 2.742292 seconds\n",
      "Gradient Amb: 1.926111 seconds\n",
      "save Amb: 3.020722 seconds\n",
      "Gradient LC: 1.901118 seconds\n",
      "save LC: 2.821440 seconds\n",
      "Gradient LRt: 1.947217 seconds\n",
      "save LRt: 3.292807 seconds\n",
      "Gradient Pn: 1.918792 seconds\n",
      "save Pn: 3.096589 seconds\n",
      "Gradient Tz: 1.890710 seconds\n",
      "save Tz: 2.697634 seconds\n",
      "Gradient VLL: 1.929758 seconds\n",
      "save VLL: 3.173444 seconds\n",
      "Gradient RMC: 1.964938 seconds\n",
      "save RMC: 3.347117 seconds\n",
      "Gradient SNC: 1.962660 seconds\n",
      "save SNC: 3.384132 seconds\n",
      "Gradient SNR: 1.925950 seconds\n",
      "save SNR: 3.086470 seconds\n",
      "Gradient 3N: 1.940141 seconds\n",
      "save 3N: 3.185814 seconds\n",
      "Gradient 4N: 1.885807 seconds\n",
      "save 4N: 2.757407 seconds\n",
      "Gradient Sp5I: 1.914960 seconds\n",
      "save Sp5I: 3.127546 seconds\n",
      "Gradient Sp5O: 1.924329 seconds\n",
      "save Sp5O: 3.172044 seconds\n",
      "Gradient Sp5C: 1.924395 seconds\n",
      "save Sp5C: 3.106746 seconds\n",
      "Gradient PBG: 1.934180 seconds\n",
      "save PBG: 3.095393 seconds\n",
      "Gradient 10N: 1.887998 seconds\n",
      "save 10N: 2.608324 seconds\n",
      "Gradient VCA: 1.917651 seconds\n",
      "save VCA: 2.929835 seconds\n",
      "Gradient VCP: 1.921038 seconds\n",
      "save VCP: 3.007615 seconds\n",
      "Gradient DC: 1.933742 seconds\n",
      "save DC: 3.180629 seconds\n",
      "Gradient AP: 1.864197 seconds\n",
      "save AP: 2.739393 seconds\n",
      "Gradient 12N: 1.911019 seconds\n",
      "save 12N: 2.838248 seconds\n",
      "Gradient RtTg: 1.940824 seconds\n",
      "save RtTg: 3.265873 seconds\n",
      "Gradient SC: 1.940110 seconds\n",
      "save SC: 3.209657 seconds\n",
      "Gradient IC: 1.914231 seconds\n",
      "save IC: 3.105415 seconds\n",
      "overall: 138.662636 seconds\n"
     ]
    },
    {
     "name": "stdout",
     "output_type": "stream",
     "text": [
      "MD585\n"
     ]
    },
    {
     "name": "stderr",
     "output_type": "stream",
     "text": [
      "Gradient 5N: 1.807007 seconds\n",
      "save 5N: 2.930493 seconds\n",
      "Gradient 6N: 1.736284 seconds\n",
      "save 6N: 2.268025 seconds\n",
      "Gradient 7N: 1.792122 seconds\n",
      "save 7N: 2.938055 seconds\n",
      "Gradient 7n: 1.767254 seconds\n",
      "save 7n: 2.484315 seconds\n",
      "Gradient Amb: 1.787259 seconds\n",
      "save Amb: 2.830563 seconds\n",
      "Gradient LC: 1.768163 seconds\n",
      "save LC: 2.680677 seconds\n",
      "Gradient LRt: 1.811987 seconds\n",
      "save LRt: 3.076198 seconds\n",
      "Gradient Pn: 1.802898 seconds\n",
      "save Pn: 2.905140 seconds\n",
      "Gradient Tz: 1.759609 seconds\n",
      "save Tz: 2.504996 seconds\n",
      "Gradient VLL: 1.782080 seconds\n",
      "save VLL: 2.913927 seconds\n",
      "Gradient RMC: 1.813128 seconds\n",
      "save RMC: 3.055142 seconds\n",
      "Gradient SNC: 1.826018 seconds\n",
      "save SNC: 3.097782 seconds\n",
      "Gradient SNR: 1.793979 seconds\n",
      "save SNR: 2.849382 seconds\n",
      "Gradient 3N: 1.802335 seconds\n",
      "save 3N: 2.928987 seconds\n",
      "Gradient 4N: 1.747261 seconds\n",
      "save 4N: 2.449520 seconds\n",
      "Gradient Sp5I: 1.791981 seconds\n",
      "save Sp5I: 2.922160 seconds\n",
      "Gradient Sp5O: 1.800689 seconds\n",
      "save Sp5O: 2.917999 seconds\n",
      "Gradient Sp5C: 1.800622 seconds\n",
      "save Sp5C: 2.926708 seconds\n",
      "Gradient PBG: 1.797621 seconds\n",
      "save PBG: 2.921215 seconds\n",
      "Gradient 10N: 1.757145 seconds\n",
      "save 10N: 2.426795 seconds\n",
      "Gradient VCA: 1.791379 seconds\n",
      "save VCA: 2.754993 seconds\n",
      "Gradient VCP: 1.796046 seconds\n",
      "save VCP: 2.843989 seconds\n",
      "Gradient DC: 1.808657 seconds\n",
      "save DC: 2.971483 seconds\n",
      "Gradient AP: 1.762161 seconds\n",
      "save AP: 2.644584 seconds\n",
      "Gradient 12N: 1.746944 seconds\n",
      "save 12N: 2.429896 seconds\n",
      "Gradient RtTg: 1.806238 seconds\n",
      "save RtTg: 3.006397 seconds\n",
      "Gradient SC: 1.813833 seconds\n",
      "save SC: 2.964998 seconds\n",
      "Gradient IC: 1.786060 seconds\n",
      "save IC: 2.864647 seconds\n",
      "overall: 128.574006 seconds\n"
     ]
    },
    {
     "name": "stdout",
     "output_type": "stream",
     "text": [
      "MD592\n"
     ]
    },
    {
     "name": "stderr",
     "output_type": "stream",
     "text": [
      "Gradient 5N: 2.048311 seconds\n",
      "save 5N: 3.338059 seconds\n",
      "Gradient 6N: 1.999155 seconds\n",
      "save 6N: 2.673030 seconds\n",
      "Gradient 7N: 2.056191 seconds\n",
      "save 7N: 3.328497 seconds\n",
      "Gradient 7n: 2.013686 seconds\n",
      "save 7n: 2.841742 seconds\n",
      "Gradient Amb: 2.043228 seconds\n",
      "save Amb: 3.173400 seconds\n",
      "Gradient LC: 2.004515 seconds\n",
      "save LC: 2.837783 seconds\n",
      "Gradient LRt: 2.071431 seconds\n",
      "save LRt: 3.374140 seconds\n",
      "Gradient Pn: 2.023130 seconds\n",
      "save Pn: 3.237644 seconds\n",
      "Gradient Tz: 1.987306 seconds\n",
      "save Tz: 2.656543 seconds\n",
      "Gradient VLL: 2.039323 seconds\n",
      "save VLL: 3.260727 seconds\n",
      "Gradient RMC: 2.079333 seconds\n",
      "save RMC: 3.406667 seconds\n",
      "Gradient SNC: 2.057870 seconds\n",
      "save SNC: 3.442499 seconds\n",
      "Gradient SNR: 2.037128 seconds\n",
      "save SNR: 3.129943 seconds\n",
      "Gradient 3N: 2.054279 seconds\n",
      "save 3N: 3.328117 seconds\n",
      "Gradient 4N: 2.007974 seconds\n",
      "save 4N: 2.955351 seconds\n",
      "Gradient Sp5I: 2.043684 seconds\n",
      "save Sp5I: 3.255504 seconds\n",
      "Gradient Sp5O: 2.044102 seconds\n",
      "save Sp5O: 3.256916 seconds\n",
      "Gradient Sp5C: 2.039704 seconds\n",
      "save Sp5C: 3.237379 seconds\n",
      "Gradient PBG: 2.023993 seconds\n",
      "save PBG: 3.243769 seconds\n",
      "Gradient 10N: 1.990393 seconds\n",
      "save 10N: 2.715506 seconds\n",
      "Gradient VCA: 2.032032 seconds\n",
      "save VCA: 3.043986 seconds\n",
      "Gradient VCP: 2.031279 seconds\n",
      "save VCP: 3.144103 seconds\n",
      "Gradient DC: 2.045405 seconds\n",
      "save DC: 3.224605 seconds\n",
      "Gradient AP: 2.035336 seconds\n",
      "save AP: 3.087526 seconds\n",
      "Gradient 12N: 2.006755 seconds\n",
      "save 12N: 2.812893 seconds\n",
      "Gradient RtTg: 2.053432 seconds\n",
      "save RtTg: 3.361054 seconds\n",
      "Gradient SC: 2.046097 seconds\n",
      "save SC: 3.312117 seconds\n",
      "Gradient IC: 2.025020 seconds\n",
      "save IC: 3.172267 seconds\n",
      "overall: 144.799983 seconds\n"
     ]
    },
    {
     "name": "stdout",
     "output_type": "stream",
     "text": [
      "MD590\n"
     ]
    },
    {
     "name": "stderr",
     "output_type": "stream",
     "text": [
      "Gradient 5N: 2.001342 seconds\n",
      "save 5N: 3.167454 seconds\n",
      "Gradient 6N: 1.936110 seconds\n",
      "save 6N: 2.446551 seconds\n",
      "Gradient 7N: 2.007530 seconds\n",
      "save 7N: 3.297879 seconds\n",
      "Gradient 7n: 1.972290 seconds\n",
      "save 7n: 2.862194 seconds\n",
      "Gradient Amb: 1.993164 seconds\n",
      "save Amb: 3.051680 seconds\n",
      "Gradient LC: 1.970700 seconds\n",
      "save LC: 2.852074 seconds\n",
      "Gradient LRt: 2.012584 seconds\n",
      "save LRt: 3.317020 seconds\n",
      "Gradient Pn: 1.999544 seconds\n",
      "save Pn: 3.094433 seconds\n",
      "Gradient Tz: 1.960978 seconds\n",
      "save Tz: 2.701285 seconds\n",
      "Gradient VLL: 2.007802 seconds\n",
      "save VLL: 3.197394 seconds\n",
      "Gradient RMC: 2.030260 seconds\n",
      "save RMC: 3.423363 seconds\n",
      "Gradient SNC: 2.019644 seconds\n",
      "save SNC: 3.356196 seconds\n",
      "Gradient SNR: 2.004594 seconds\n",
      "save SNR: 3.121205 seconds\n",
      "Gradient 3N: 2.013429 seconds\n",
      "save 3N: 3.198561 seconds\n",
      "Gradient 4N: 1.971842 seconds\n",
      "save 4N: 2.804317 seconds\n",
      "Gradient Sp5I: 2.001896 seconds\n",
      "save Sp5I: 3.182582 seconds\n",
      "Gradient Sp5O: 2.012131 seconds\n",
      "save Sp5O: 3.232906 seconds\n",
      "Gradient Sp5C: 1.996893 seconds\n",
      "save Sp5C: 3.196575 seconds\n",
      "Gradient PBG: 2.009318 seconds\n",
      "save PBG: 3.185252 seconds\n",
      "Gradient 10N: 1.912375 seconds\n",
      "save 10N: 2.406386 seconds\n",
      "Gradient VCA: 1.984372 seconds\n",
      "save VCA: 2.963386 seconds\n",
      "Gradient VCP: 1.992258 seconds\n",
      "save VCP: 3.074844 seconds\n",
      "Gradient DC: 2.004853 seconds\n",
      "save DC: 3.218016 seconds\n",
      "Gradient AP: 1.968799 seconds\n",
      "save AP: 2.777844 seconds\n",
      "Gradient 12N: 1.960980 seconds\n",
      "save 12N: 2.786207 seconds\n",
      "Gradient RtTg: 2.025882 seconds\n",
      "save RtTg: 3.352068 seconds\n",
      "Gradient SC: 2.006837 seconds\n",
      "save SC: 3.235367 seconds\n",
      "Gradient IC: 2.000338 seconds\n",
      "save IC: 3.137423 seconds\n",
      "overall: 141.427504 seconds\n"
     ]
    },
    {
     "name": "stdout",
     "output_type": "stream",
     "text": [
      "MD591\n"
     ]
    },
    {
     "name": "stderr",
     "output_type": "stream",
     "text": [
      "Gradient 5N: 1.960669 seconds\n",
      "save 5N: 3.236517 seconds\n",
      "Gradient 6N: 1.909256 seconds\n",
      "save 6N: 2.600266 seconds\n",
      "Gradient 7N: 1.928124 seconds\n",
      "save 7N: 3.156245 seconds\n",
      "Gradient 7n: 1.918132 seconds\n",
      "save 7n: 2.765636 seconds\n",
      "Gradient Amb: 1.940172 seconds\n",
      "save Amb: 3.060295 seconds\n",
      "Gradient LC: 1.917078 seconds\n",
      "save LC: 2.921471 seconds\n",
      "Gradient LRt: 1.974207 seconds\n",
      "save LRt: 3.343914 seconds\n",
      "Gradient Pn: 1.950096 seconds\n",
      "save Pn: 3.204275 seconds\n",
      "Gradient Tz: 1.909840 seconds\n",
      "save Tz: 2.838836 seconds\n",
      "Gradient VLL: 1.945592 seconds\n",
      "save VLL: 3.179104 seconds\n",
      "Gradient RMC: 1.978358 seconds\n",
      "save RMC: 3.369191 seconds\n",
      "Gradient SNC: 1.978517 seconds\n",
      "save SNC: 3.403741 seconds\n",
      "Gradient SNR: 1.953806 seconds\n",
      "save SNR: 3.150807 seconds\n",
      "Gradient 3N: 1.955368 seconds\n",
      "save 3N: 3.207291 seconds\n",
      "Gradient 4N: 1.933953 seconds\n",
      "save 4N: 2.918714 seconds\n",
      "Gradient Sp5I: 1.951288 seconds\n",
      "save Sp5I: 3.158735 seconds\n",
      "Gradient Sp5O: 1.962053 seconds\n",
      "save Sp5O: 3.213112 seconds\n",
      "Gradient Sp5C: 1.944106 seconds\n",
      "save Sp5C: 3.166156 seconds\n",
      "Gradient PBG: 1.994383 seconds\n",
      "save PBG: 3.221446 seconds\n",
      "Gradient 10N: 1.907609 seconds\n",
      "save 10N: 2.744704 seconds\n",
      "Gradient VCA: 1.921268 seconds\n",
      "save VCA: 2.944704 seconds\n",
      "Gradient VCP: 1.946704 seconds\n",
      "save VCP: 3.052413 seconds\n",
      "Gradient DC: 1.966391 seconds\n",
      "save DC: 3.254568 seconds\n",
      "Gradient AP: 1.886773 seconds\n",
      "save AP: 2.507708 seconds\n",
      "Gradient 12N: 1.953125 seconds\n",
      "save 12N: 3.163510 seconds\n",
      "Gradient RtTg: 1.981298 seconds\n",
      "save RtTg: 3.357674 seconds\n",
      "Gradient SC: 1.948542 seconds\n",
      "save SC: 3.253226 seconds\n",
      "Gradient IC: 1.955748 seconds\n",
      "save IC: 3.184866 seconds\n",
      "overall: 141.059717 seconds\n"
     ]
    },
    {
     "name": "stdout",
     "output_type": "stream",
     "text": [
      "MD595\n"
     ]
    },
    {
     "name": "stderr",
     "output_type": "stream",
     "text": [
      "Gradient 5N: 2.132697 seconds\n",
      "save 5N: 3.238924 seconds\n",
      "Gradient 6N: 2.079341 seconds\n",
      "save 6N: 2.623144 seconds\n",
      "Gradient 7N: 2.135993 seconds\n",
      "save 7N: 3.328205 seconds\n",
      "Gradient 7n: 2.113923 seconds\n",
      "save 7n: 2.913405 seconds\n",
      "Gradient Amb: 2.141802 seconds\n",
      "save Amb: 3.200449 seconds\n",
      "Gradient LC: 2.091866 seconds\n",
      "save LC: 2.951888 seconds\n",
      "Gradient LRt: 2.164666 seconds\n",
      "save LRt: 3.449881 seconds\n",
      "Gradient Pn: 2.148188 seconds\n",
      "save Pn: 3.259798 seconds\n",
      "Gradient Tz: 2.114913 seconds\n",
      "save Tz: 2.898546 seconds\n",
      "Gradient VLL: 2.147327 seconds\n",
      "save VLL: 3.334083 seconds\n",
      "Gradient RMC: 2.176128 seconds\n",
      "save RMC: 3.537520 seconds\n",
      "Gradient SNC: 2.149520 seconds\n",
      "save SNC: 3.412202 seconds\n",
      "Gradient SNR: 2.133534 seconds\n",
      "save SNR: 3.271762 seconds\n",
      "Gradient 3N: 2.149839 seconds\n",
      "save 3N: 3.389630 seconds\n",
      "Gradient 4N: 2.119718 seconds\n",
      "save 4N: 2.976753 seconds\n",
      "Gradient Sp5I: 2.141198 seconds\n",
      "save Sp5I: 3.288997 seconds\n",
      "Gradient Sp5O: 2.149844 seconds\n",
      "save Sp5O: 3.366746 seconds\n",
      "Gradient Sp5C: 2.145251 seconds\n",
      "save Sp5C: 3.340626 seconds\n",
      "Gradient PBG: 2.157448 seconds\n",
      "save PBG: 3.392179 seconds\n",
      "Gradient 10N: 2.085460 seconds\n",
      "save 10N: 2.686106 seconds\n",
      "Gradient VCA: 2.123190 seconds\n",
      "save VCA: 3.097958 seconds\n",
      "Gradient VCP: 2.128835 seconds\n",
      "save VCP: 3.186048 seconds\n",
      "Gradient DC: 2.140708 seconds\n",
      "save DC: 3.365753 seconds\n",
      "Gradient AP: 2.113641 seconds\n",
      "save AP: 3.152299 seconds\n",
      "Gradient 12N: 2.092726 seconds\n",
      "save 12N: 2.715419 seconds\n",
      "Gradient RtTg: 2.162571 seconds\n",
      "save RtTg: 3.425975 seconds\n",
      "Gradient SC: 2.163197 seconds\n",
      "save SC: 3.423522 seconds\n",
      "Gradient IC: 2.092591 seconds\n",
      "save IC: 3.254416 seconds\n",
      "overall: 149.186855 seconds\n"
     ]
    },
    {
     "name": "stdout",
     "output_type": "stream",
     "text": [
      "MD598\n"
     ]
    },
    {
     "name": "stderr",
     "output_type": "stream",
     "text": [
      "Gradient 5N: 2.097546 seconds\n",
      "save 5N: 3.331379 seconds\n",
      "Gradient 6N: 2.040432 seconds\n",
      "save 6N: 2.639172 seconds\n",
      "Gradient 7N: 2.106739 seconds\n",
      "save 7N: 3.419191 seconds\n",
      "Gradient 7n: 2.053916 seconds\n",
      "save 7n: 2.869873 seconds\n",
      "Gradient Amb: 2.085711 seconds\n",
      "save Amb: 3.198125 seconds\n",
      "Gradient LC: 2.146933 seconds\n",
      "save LC: 2.914095 seconds\n",
      "Gradient LRt: 2.089697 seconds\n",
      "save LRt: 3.422379 seconds\n",
      "Gradient Pn: 2.068197 seconds\n",
      "save Pn: 3.209191 seconds\n",
      "Gradient Tz: 2.062727 seconds\n",
      "save Tz: 2.867733 seconds\n",
      "Gradient VLL: 2.077053 seconds\n",
      "save VLL: 3.306936 seconds\n",
      "Gradient RMC: 2.110876 seconds\n",
      "save RMC: 3.523192 seconds\n",
      "Gradient SNC: 2.118955 seconds\n",
      "save SNC: 3.517887 seconds\n",
      "Gradient SNR: 2.080115 seconds\n",
      "save SNR: 3.237268 seconds\n",
      "Gradient 3N: 2.075340 seconds\n",
      "save 3N: 3.252962 seconds\n",
      "Gradient 4N: 2.042962 seconds\n",
      "save 4N: 2.835818 seconds\n",
      "Gradient Sp5I: 2.061053 seconds\n",
      "save Sp5I: 3.249442 seconds\n",
      "Gradient Sp5O: 2.086471 seconds\n",
      "save Sp5O: 3.308735 seconds\n",
      "Gradient Sp5C: 2.074225 seconds\n",
      "save Sp5C: 3.247312 seconds\n",
      "Gradient PBG: 2.075724 seconds\n",
      "save PBG: 3.209943 seconds\n",
      "Gradient 10N: 2.044623 seconds\n",
      "save 10N: 2.704204 seconds\n",
      "Gradient VCA: 2.080349 seconds\n",
      "save VCA: 3.095561 seconds\n",
      "Gradient VCP: 2.091650 seconds\n",
      "save VCP: 3.192169 seconds\n",
      "Gradient DC: 2.093818 seconds\n",
      "save DC: 3.268958 seconds\n",
      "Gradient AP: 2.022864 seconds\n",
      "save AP: 2.687082 seconds\n",
      "Gradient 12N: 2.063239 seconds\n",
      "save 12N: 3.048667 seconds\n",
      "Gradient RtTg: 2.097990 seconds\n",
      "save RtTg: 3.438929 seconds\n",
      "Gradient SC: 2.089362 seconds\n",
      "save SC: 3.373134 seconds\n",
      "Gradient IC: 2.092492 seconds\n",
      "save IC: 3.298865 seconds\n",
      "overall: 146.907437 seconds\n"
     ]
    },
    {
     "name": "stdout",
     "output_type": "stream",
     "text": [
      "MD599\n"
     ]
    },
    {
     "name": "stderr",
     "output_type": "stream",
     "text": [
      "Gradient 5N: 2.103974 seconds\n",
      "save 5N: 3.395426 seconds\n",
      "Gradient 6N: 2.029707 seconds\n",
      "save 6N: 2.672484 seconds\n",
      "Gradient 7N: 2.095262 seconds\n",
      "save 7N: 3.449002 seconds\n",
      "Gradient 7n: 2.030564 seconds\n",
      "save 7n: 2.891300 seconds\n",
      "Gradient Amb: 2.080706 seconds\n",
      "save Amb: 3.224901 seconds\n",
      "Gradient LC: 2.066066 seconds\n",
      "save LC: 3.037190 seconds\n",
      "Gradient LRt: 2.124397 seconds\n",
      "save LRt: 3.583338 seconds\n",
      "Gradient Pn: 2.068641 seconds\n",
      "save Pn: 3.365857 seconds\n",
      "Gradient Tz: 2.060656 seconds\n",
      "save Tz: 2.920608 seconds\n",
      "Gradient VLL: 2.085238 seconds\n",
      "save VLL: 3.386102 seconds\n",
      "Gradient RMC: 2.113681 seconds\n",
      "save RMC: 3.604349 seconds\n",
      "Gradient SNC: 2.132623 seconds\n",
      "save SNC: 3.621465 seconds\n",
      "Gradient SNR: 2.091290 seconds\n",
      "save SNR: 3.348930 seconds\n",
      "Gradient 3N: 2.106267 seconds\n",
      "save 3N: 3.426158 seconds\n",
      "Gradient 4N: 2.060007 seconds\n",
      "save 4N: 2.928766 seconds\n",
      "Gradient Sp5I: 2.100080 seconds\n",
      "save Sp5I: 3.357200 seconds\n",
      "Gradient Sp5O: 2.073799 seconds\n",
      "save Sp5O: 3.383887 seconds\n",
      "Gradient Sp5C: 2.063627 seconds\n",
      "save Sp5C: 3.367602 seconds\n",
      "Gradient PBG: 2.095088 seconds\n",
      "save PBG: 3.267094 seconds\n",
      "Gradient 10N: 2.024244 seconds\n",
      "save 10N: 2.680707 seconds\n",
      "Gradient VCA: 2.087391 seconds\n",
      "save VCA: 3.184089 seconds\n",
      "Gradient VCP: 2.078554 seconds\n",
      "save VCP: 3.284879 seconds\n",
      "Gradient DC: 2.091651 seconds\n",
      "save DC: 3.431665 seconds\n",
      "Gradient AP: 2.057745 seconds\n",
      "save AP: 2.956391 seconds\n",
      "Gradient 12N: 2.067715 seconds\n",
      "save 12N: 3.116806 seconds\n",
      "Gradient RtTg: 2.083497 seconds\n",
      "save RtTg: 3.486635 seconds\n",
      "Gradient SC: 2.092397 seconds\n",
      "save SC: 3.438522 seconds\n",
      "Gradient IC: 2.090548 seconds\n",
      "save IC: 3.343932 seconds\n",
      "overall: 149.419055 seconds\n"
     ]
    },
    {
     "name": "stdout",
     "output_type": "stream",
     "text": [
      "MD602\n"
     ]
    },
    {
     "name": "stderr",
     "output_type": "stream",
     "text": [
      "Gradient 5N: 2.429364 seconds\n",
      "save 5N: 3.559368 seconds\n",
      "Gradient 6N: 2.325621 seconds\n",
      "save 6N: 2.891843 seconds\n",
      "Gradient 7N: 2.394951 seconds\n",
      "save 7N: 3.674492 seconds\n",
      "Gradient 7n: 2.365790 seconds\n",
      "save 7n: 3.173763 seconds\n",
      "Gradient Amb: 2.403849 seconds\n",
      "save Amb: 3.658761 seconds\n",
      "Gradient LC: 2.364408 seconds\n",
      "save LC: 3.361756 seconds\n",
      "Gradient LRt: 2.405932 seconds\n",
      "save LRt: 3.814688 seconds\n",
      "Gradient Pn: 2.382398 seconds\n",
      "save Pn: 3.674933 seconds\n",
      "Gradient Tz: 2.355418 seconds\n",
      "save Tz: 3.218896 seconds\n",
      "Gradient VLL: 2.366723 seconds\n",
      "save VLL: 3.710066 seconds\n",
      "Gradient RMC: 2.408611 seconds\n",
      "save RMC: 3.836341 seconds\n",
      "Gradient SNC: 2.413864 seconds\n",
      "save SNC: 3.792380 seconds\n",
      "Gradient SNR: 2.399139 seconds\n",
      "save SNR: 3.543487 seconds\n",
      "Gradient 3N: 2.418092 seconds\n",
      "save 3N: 3.775618 seconds\n",
      "Gradient 4N: 2.342564 seconds\n",
      "save 4N: 3.152490 seconds\n",
      "Gradient Sp5I: 2.377887 seconds\n",
      "save Sp5I: 3.688663 seconds\n",
      "Gradient Sp5O: 2.400057 seconds\n",
      "save Sp5O: 3.692232 seconds\n",
      "Gradient Sp5C: 2.397406 seconds\n",
      "save Sp5C: 3.674690 seconds\n",
      "Gradient PBG: 2.419449 seconds\n",
      "save PBG: 3.810208 seconds\n",
      "Gradient 10N: 2.350571 seconds\n",
      "save 10N: 3.074048 seconds\n",
      "Gradient VCA: 2.383692 seconds\n",
      "save VCA: 3.526654 seconds\n",
      "Gradient VCP: 2.387169 seconds\n",
      "save VCP: 3.580266 seconds\n",
      "Gradient DC: 2.386470 seconds\n",
      "save DC: 3.697100 seconds\n",
      "Gradient AP: 2.348875 seconds\n",
      "save AP: 3.333700 seconds\n",
      "Gradient 12N: 2.348400 seconds\n",
      "save 12N: 3.150576 seconds\n",
      "Gradient RtTg: 2.409952 seconds\n",
      "save RtTg: 3.796639 seconds\n",
      "Gradient SC: 2.418192 seconds\n",
      "save SC: 3.735395 seconds\n",
      "Gradient IC: 2.381993 seconds\n",
      "save IC: 3.689942 seconds\n",
      "overall: 166.084278 seconds\n"
     ]
    },
    {
     "name": "stdout",
     "output_type": "stream",
     "text": [
      "MD603\n"
     ]
    },
    {
     "name": "stderr",
     "output_type": "stream",
     "text": [
      "Gradient 5N: 2.742858 seconds\n",
      "save 5N: 4.049058 seconds\n",
      "Gradient 6N: 2.688832 seconds\n",
      "save 6N: 3.305243 seconds\n",
      "Gradient 7N: 2.752258 seconds\n",
      "save 7N: 4.172722 seconds\n",
      "Gradient 7n: 2.725478 seconds\n",
      "save 7n: 3.817498 seconds\n",
      "Gradient Amb: 2.739412 seconds\n",
      "save Amb: 3.975930 seconds\n",
      "Gradient LC: 2.712381 seconds\n",
      "save LC: 3.698589 seconds\n",
      "Gradient LRt: 2.767523 seconds\n",
      "save LRt: 4.228984 seconds\n",
      "Gradient Pn: 2.760741 seconds\n",
      "save Pn: 4.092969 seconds\n",
      "Gradient Tz: 2.691181 seconds\n",
      "save Tz: 3.508600 seconds\n",
      "Gradient VLL: 2.741633 seconds\n",
      "save VLL: 4.124942 seconds\n",
      "Gradient RMC: 2.785208 seconds\n",
      "save RMC: 4.305143 seconds\n",
      "Gradient SNC: 2.762551 seconds\n",
      "save SNC: 4.220144 seconds\n",
      "Gradient SNR: 2.735227 seconds\n",
      "save SNR: 3.960894 seconds\n",
      "Gradient 3N: 2.772699 seconds\n",
      "save 3N: 4.264593 seconds\n",
      "Gradient 4N: 2.734383 seconds\n",
      "save 4N: 3.794864 seconds\n",
      "Gradient Sp5I: 2.745808 seconds\n",
      "save Sp5I: 4.157872 seconds\n",
      "Gradient Sp5O: 2.755927 seconds\n",
      "save Sp5O: 4.160333 seconds\n",
      "Gradient Sp5C: 2.761328 seconds\n",
      "save Sp5C: 4.140310 seconds\n",
      "Gradient PBG: 2.769310 seconds\n",
      "save PBG: 4.326819 seconds\n",
      "Gradient 10N: 2.689446 seconds\n",
      "save 10N: 3.489224 seconds\n",
      "Gradient VCA: 2.749365 seconds\n",
      "save VCA: 3.880188 seconds\n",
      "Gradient VCP: 2.762473 seconds\n",
      "save VCP: 4.049936 seconds\n",
      "Gradient DC: 2.768347 seconds\n",
      "save DC: 4.221178 seconds\n",
      "Gradient AP: 2.738490 seconds\n",
      "save AP: 3.981381 seconds\n",
      "Gradient 12N: 2.664612 seconds\n",
      "save 12N: 3.445298 seconds\n",
      "Gradient RtTg: 2.773489 seconds\n",
      "save RtTg: 4.308605 seconds\n",
      "Gradient SC: 2.760008 seconds\n",
      "save SC: 4.224793 seconds\n",
      "Gradient IC: 2.757087 seconds\n",
      "save IC: 4.141722 seconds\n",
      "overall: 188.864450 seconds\n"
     ]
    }
   ],
   "source": [
    "for stack in all_stacks:    \n",
    "# for stack in ['MD603']:\n",
    "        \n",
    "    first_sec, last_sec = metadata_cache['section_limits'][stack]\n",
    "\n",
    "\n",
    "    downscale_factor = 32\n",
    "\n",
    "    #################################\n",
    "\n",
    "    print stack\n",
    "\n",
    "    volume_allLabels = {}\n",
    "\n",
    "    for name_u in structures:\n",
    "        volume = DataManager.load_score_volume(stack, label=name_u, downscale=downscale_factor, train_sample_scheme=1)\n",
    "        volume_allLabels[name_u] = volume\n",
    "#         del volume\n",
    "\n",
    "    t1 = time.time()\n",
    "\n",
    "    gradient_dir = create_if_not_exists(os.path.join(VOLUME_ROOTDIR, stack, 'score_volume_gradients'))\n",
    "\n",
    "    for name_u in structures:\n",
    "\n",
    "        t = time.time()\n",
    "\n",
    "        gy_gx_gz = np.gradient(volume_allLabels[name_u].astype(np.float32), 3, 3, 3) \n",
    "        # .astype(np.float32) is important; \n",
    "        # Otherwise the score volume is type np.float16, np.gradient requires np.float32 and will have to convert which is very slow\n",
    "        # 20s (float32) vs. 2s (float16)\n",
    "        # 3.3 second - re-computing is much faster than loading\n",
    "\n",
    "        sys.stderr.write('Gradient %s: %f seconds\\n' % (name_u, time.time() - t))\n",
    "\n",
    "        t = time.time()\n",
    "\n",
    "        bp.pack_ndarray_file(gy_gx_gz[0].astype(np.float16), os.path.join(gradient_dir, '%(stack)s_down%(ds)d_scoreVolume_%(label)s_trainSampleScheme_1_gy.bp' % {'stack':stack, 'label':name_u, 'ds': downscale_factor}))\n",
    "        bp.pack_ndarray_file(gy_gx_gz[1].astype(np.float16), os.path.join(gradient_dir, '%(stack)s_down%(ds)d_scoreVolume_%(label)s_trainSampleScheme_1_gx.bp' % {'stack':stack, 'label':name_u, 'ds': downscale_factor}))\n",
    "        bp.pack_ndarray_file(gy_gx_gz[2].astype(np.float16), os.path.join(gradient_dir, '%(stack)s_down%(ds)d_scoreVolume_%(label)s_trainSampleScheme_1_gz.bp' % {'stack':stack, 'label':name_u, 'ds': downscale_factor}))\n",
    "#         bp.pack_ndarray_file(gy_gx_gz[0], os.path.join(gradient_dir, '%(stack)s_down%(ds)d_scoreVolume_%(label)s_trainSampleScheme_1_gy.bp' % {'stack':stack, 'label':name_u, 'ds': downscale_factor}))\n",
    "#         bp.pack_ndarray_file(gy_gx_gz[1], os.path.join(gradient_dir, '%(stack)s_down%(ds)d_scoreVolume_%(label)s_trainSampleScheme_1_gx.bp' % {'stack':stack, 'label':name_u, 'ds': downscale_factor}))\n",
    "#         bp.pack_ndarray_file(gy_gx_gz[2], os.path.join(gradient_dir, '%(stack)s_down%(ds)d_scoreVolume_%(label)s_trainSampleScheme_1_gz.bp' % {'stack':stack, 'label':name_u, 'ds': downscale_factor}))\n",
    "        # output of gradient is float32; if convert from float32 to float16, 4s; if save as float32, 2s\n",
    "\n",
    "        del gy_gx_gz\n",
    "\n",
    "        sys.stderr.write('save %s: %f seconds\\n' % (name_u, time.time() - t))\n",
    "\n",
    "\n",
    "    sys.stderr.write('overall: %f seconds\\n' % (time.time() - t1))"
   ]
  },
  {
   "cell_type": "code",
   "execution_count": null,
   "metadata": {
    "collapsed": false
   },
   "outputs": [
    {
     "name": "stderr",
     "output_type": "stream",
     "text": [
      "visualize scoremaps ..."
     ]
    },
    {
     "name": "stdout",
     "output_type": "stream",
     "text": [
      "['gcn-20-33.sdsc.edu'] are excluded\n"
     ]
    }
   ],
   "source": [
    "for stack in all_stacks:\n",
    "    first_sec, last_sec = metadata_cache['section_limits'][stack]\n",
    "    \n",
    "    t = time.time()\n",
    "    sys.stderr.write('visualize scoremaps ...')\n",
    "\n",
    "    add_annotation = False\n",
    "\n",
    "    exclude_nodes = [33]\n",
    "\n",
    "    run_distributed4(command='%(script_path)s %(stack)s -b %%(first_sec)d -e %%(last_sec)d %(add_annotation)s' % \\\n",
    "                    {'script_path': os.path.join(os.environ['REPO_DIR'], 'learning') + '/visualize_scoremaps_v2.py',\n",
    "                    'stack': stack,\n",
    "                    'add_annotation': '-a' if add_annotation else ''},\n",
    "                    kwargs_list=dict(sections=range(first_sec, last_sec+1)),\n",
    "                    exclude_nodes=exclude_nodes,\n",
    "                    argument_type='partition')\n",
    "\n",
    "    sys.stderr.write('done in %f seconds\\n' % (time.time() - t)) # 464 seconds / stack"
   ]
  },
  {
   "cell_type": "code",
   "execution_count": null,
   "metadata": {
    "collapsed": true
   },
   "outputs": [],
   "source": []
  },
  {
   "cell_type": "markdown",
   "metadata": {},
   "source": [
    "# Global align"
   ]
  },
  {
   "cell_type": "code",
   "execution_count": 4,
   "metadata": {
    "collapsed": false
   },
   "outputs": [
    {
     "name": "stderr",
     "output_type": "stream",
     "text": [
      "align all subjects to atlas ..."
     ]
    },
    {
     "name": "stdout",
     "output_type": "stream",
     "text": [
      "['gcn-20-33.sdsc.edu'] are excluded\n",
      "Using nodes: ['gcn-20-31.sdsc.edu', 'gcn-20-32.sdsc.edu', 'gcn-20-34.sdsc.edu', 'gcn-20-35.sdsc.edu', 'gcn-20-36.sdsc.edu', 'gcn-20-37.sdsc.edu', 'gcn-20-38.sdsc.edu', 'gcn-20-41.sdsc.edu', 'gcn-20-42.sdsc.edu', 'gcn-20-43.sdsc.edu', 'gcn-20-44.sdsc.edu', 'gcn-20-45.sdsc.edu', 'gcn-20-46.sdsc.edu', 'gcn-20-47.sdsc.edu', 'gcn-20-48.sdsc.edu']\n"
     ]
    },
    {
     "name": "stderr",
     "output_type": "stream",
     "text": [
      "done in 526.264969 seconds\n"
     ]
    }
   ],
   "source": [
    "# Align\n",
    "\n",
    "t = time.time()\n",
    "sys.stderr.write('align all subjects to atlas ...')\n",
    "\n",
    "exclude_nodes = [33]\n",
    "\n",
    "run_distributed4(command='%(script_path)s %%(stack)s 1 1 atlasV2' % \\\n",
    "                {'script_path': os.path.join(os.environ['REPO_DIR'], 'registration') + '/align_subject_brain_to_atlas_v2.py'},\n",
    "                kwargs_list=dict(stack=all_stacks),\n",
    "                exclude_nodes=exclude_nodes,\n",
    "                argument_type='single')\n",
    "\n",
    "sys.stderr.write('done in %f seconds\\n' % (time.time() - t))  # 526 seconds"
   ]
  },
  {
   "cell_type": "code",
   "execution_count": 6,
   "metadata": {
    "collapsed": false
   },
   "outputs": [
    {
     "name": "stderr",
     "output_type": "stream",
     "text": [
      "transform atlas ..."
     ]
    },
    {
     "name": "stdout",
     "output_type": "stream",
     "text": [
      "['gcn-20-33.sdsc.edu'] are excluded\n",
      "Using nodes: ['gcn-20-31.sdsc.edu', 'gcn-20-32.sdsc.edu', 'gcn-20-34.sdsc.edu', 'gcn-20-35.sdsc.edu', 'gcn-20-36.sdsc.edu', 'gcn-20-37.sdsc.edu', 'gcn-20-38.sdsc.edu', 'gcn-20-41.sdsc.edu', 'gcn-20-42.sdsc.edu', 'gcn-20-43.sdsc.edu', 'gcn-20-44.sdsc.edu', 'gcn-20-45.sdsc.edu', 'gcn-20-46.sdsc.edu', 'gcn-20-47.sdsc.edu', 'gcn-20-48.sdsc.edu']\n"
     ]
    },
    {
     "name": "stderr",
     "output_type": "stream",
     "text": [
      "done in 270.454302 seconds\n"
     ]
    }
   ],
   "source": [
    "# Transform\n",
    "\n",
    "t = time.time()\n",
    "sys.stderr.write('transform atlas ...')\n",
    "\n",
    "exclude_nodes = [33]\n",
    "\n",
    "run_distributed4(command='%(script_path)s %%(stack)s 1 1 0 atlasV2' % \\\n",
    "                {'script_path': os.path.join(os.environ['REPO_DIR'], 'registration') + '/transform_brains.py'},\n",
    "                kwargs_list=dict(stack=all_stacks),\n",
    "                exclude_nodes=exclude_nodes,\n",
    "                argument_type='single')\n",
    "\n",
    "sys.stderr.write('done in %f seconds\\n' % (time.time() - t)) # 310 seconds"
   ]
  },
  {
   "cell_type": "code",
   "execution_count": 8,
   "metadata": {
    "collapsed": false
   },
   "outputs": [
    {
     "name": "stderr",
     "output_type": "stream",
     "text": [
      "visualize aligned atlas overlay ..."
     ]
    },
    {
     "name": "stdout",
     "output_type": "stream",
     "text": [
      "['gcn-20-33.sdsc.edu'] are excluded\n",
      "Using nodes: ['gcn-20-31.sdsc.edu', 'gcn-20-32.sdsc.edu', 'gcn-20-34.sdsc.edu', 'gcn-20-35.sdsc.edu', 'gcn-20-36.sdsc.edu', 'gcn-20-37.sdsc.edu', 'gcn-20-38.sdsc.edu', 'gcn-20-41.sdsc.edu', 'gcn-20-42.sdsc.edu', 'gcn-20-43.sdsc.edu', 'gcn-20-44.sdsc.edu', 'gcn-20-45.sdsc.edu', 'gcn-20-46.sdsc.edu', 'gcn-20-47.sdsc.edu', 'gcn-20-48.sdsc.edu']\n"
     ]
    },
    {
     "name": "stderr",
     "output_type": "stream",
     "text": [
      "done in 624.721753 seconds\n"
     ]
    }
   ],
   "source": [
    "# Visualize\n",
    "\n",
    "t = time.time()\n",
    "sys.stderr.write('visualize aligned atlas overlay ...')\n",
    "\n",
    "exclude_nodes = [33]\n",
    "\n",
    "run_distributed4(command='%(script_path)s %%(stack)s 1 1 0 atlasV2' % \\\n",
    "                {'script_path': os.path.join(os.environ['REPO_DIR'], 'registration') + '/visualize_aligned_brains_v2.py'},\n",
    "                kwargs_list=dict(stack=all_stacks),\n",
    "                exclude_nodes=exclude_nodes,\n",
    "                argument_type='single')\n",
    "\n",
    "sys.stderr.write('done in %f seconds\\n' % (time.time() - t)) # 625 seconds"
   ]
  },
  {
   "cell_type": "code",
   "execution_count": null,
   "metadata": {
    "collapsed": true
   },
   "outputs": [],
   "source": []
  },
  {
   "cell_type": "markdown",
   "metadata": {},
   "source": [
    "# Local align"
   ]
  },
  {
   "cell_type": "code",
   "execution_count": 10,
   "metadata": {
    "collapsed": false
   },
   "outputs": [
    {
     "name": "stderr",
     "output_type": "stream",
     "text": [
      "LOCAL align ..."
     ]
    },
    {
     "name": "stdout",
     "output_type": "stream",
     "text": [
      "['gcn-20-33.sdsc.edu'] are excluded\n",
      "Using nodes: ['gcn-20-31.sdsc.edu', 'gcn-20-32.sdsc.edu', 'gcn-20-34.sdsc.edu', 'gcn-20-35.sdsc.edu', 'gcn-20-36.sdsc.edu', 'gcn-20-37.sdsc.edu', 'gcn-20-38.sdsc.edu', 'gcn-20-41.sdsc.edu', 'gcn-20-42.sdsc.edu', 'gcn-20-43.sdsc.edu', 'gcn-20-44.sdsc.edu', 'gcn-20-45.sdsc.edu', 'gcn-20-46.sdsc.edu', 'gcn-20-47.sdsc.edu', 'gcn-20-48.sdsc.edu']\n"
     ]
    },
    {
     "name": "stderr",
     "output_type": "stream",
     "text": [
      "done in 6807.340681 seconds\n"
     ]
    }
   ],
   "source": [
    "t = time.time()\n",
    "sys.stderr.write('LOCAL align ...')\n",
    "\n",
    "exclude_nodes = [33]\n",
    "\n",
    "run_distributed4(command='%(script_path)s %%(stack)s 1 1 2 atlasV2' % \\\n",
    "                {'script_path': os.path.join(os.environ['REPO_DIR'], 'registration') + '/fit_atlas_structure_to_subject_v2.py'},\n",
    "                kwargs_list=dict(stack=all_stacks),\n",
    "                exclude_nodes=exclude_nodes,\n",
    "                argument_type='single')\n",
    "\n",
    "sys.stderr.write('done in %f seconds\\n' % (time.time() - t)) # 6807 seconds"
   ]
  },
  {
   "cell_type": "code",
   "execution_count": 11,
   "metadata": {
    "collapsed": false
   },
   "outputs": [
    {
     "name": "stderr",
     "output_type": "stream",
     "text": [
      "transform atlas ..."
     ]
    },
    {
     "name": "stdout",
     "output_type": "stream",
     "text": [
      "['gcn-20-33.sdsc.edu'] are excluded\n",
      "Using nodes: ['gcn-20-31.sdsc.edu', 'gcn-20-32.sdsc.edu', 'gcn-20-34.sdsc.edu', 'gcn-20-35.sdsc.edu', 'gcn-20-36.sdsc.edu', 'gcn-20-37.sdsc.edu', 'gcn-20-38.sdsc.edu', 'gcn-20-41.sdsc.edu', 'gcn-20-42.sdsc.edu', 'gcn-20-43.sdsc.edu', 'gcn-20-44.sdsc.edu', 'gcn-20-45.sdsc.edu', 'gcn-20-46.sdsc.edu', 'gcn-20-47.sdsc.edu', 'gcn-20-48.sdsc.edu']\n"
     ]
    },
    {
     "name": "stderr",
     "output_type": "stream",
     "text": [
      "done in 257.636058 seconds\n"
     ]
    }
   ],
   "source": [
    "# Transform\n",
    "\n",
    "t = time.time()\n",
    "sys.stderr.write('transform atlas ...')\n",
    "\n",
    "exclude_nodes = [33]\n",
    "\n",
    "run_distributed4(command='%(script_path)s %%(stack)s 1 1 2 0 atlasV2' % \\\n",
    "                {'script_path': os.path.join(os.environ['REPO_DIR'], 'registration') + '/transform_brains_global_to_local.py'},\n",
    "                kwargs_list=dict(stack=all_stacks),\n",
    "                exclude_nodes=exclude_nodes,\n",
    "                argument_type='single')\n",
    "\n",
    "sys.stderr.write('done in %f seconds\\n' % (time.time() - t)) # 310 seconds"
   ]
  },
  {
   "cell_type": "code",
   "execution_count": 12,
   "metadata": {
    "collapsed": false
   },
   "outputs": [
    {
     "name": "stderr",
     "output_type": "stream",
     "text": [
      "visualize aligned atlas overlay ..."
     ]
    },
    {
     "name": "stdout",
     "output_type": "stream",
     "text": [
      "['gcn-20-33.sdsc.edu'] are excluded\n",
      "Using nodes: ['gcn-20-31.sdsc.edu', 'gcn-20-32.sdsc.edu', 'gcn-20-34.sdsc.edu', 'gcn-20-35.sdsc.edu', 'gcn-20-36.sdsc.edu', 'gcn-20-37.sdsc.edu', 'gcn-20-38.sdsc.edu', 'gcn-20-41.sdsc.edu', 'gcn-20-42.sdsc.edu', 'gcn-20-43.sdsc.edu', 'gcn-20-44.sdsc.edu', 'gcn-20-45.sdsc.edu', 'gcn-20-46.sdsc.edu', 'gcn-20-47.sdsc.edu', 'gcn-20-48.sdsc.edu']\n"
     ]
    },
    {
     "name": "stderr",
     "output_type": "stream",
     "text": [
      "done in 190.024241 seconds\n"
     ]
    }
   ],
   "source": [
    "# Visualize\n",
    "\n",
    "t = time.time()\n",
    "sys.stderr.write('visualize aligned atlas overlay ...')\n",
    "\n",
    "exclude_nodes = [33]\n",
    "\n",
    "run_distributed4(command='%(script_path)s %%(stack)s 1 1 2 0 atlasV2' % \\\n",
    "                {'script_path': os.path.join(os.environ['REPO_DIR'], 'registration') + '/visualize_aligned_brains_v2_local.py'},\n",
    "                kwargs_list=dict(stack=all_stacks),\n",
    "                exclude_nodes=exclude_nodes,\n",
    "                argument_type='single')\n",
    "\n",
    "sys.stderr.write('done in %f seconds\\n' % (time.time() - t)) # 625 seconds"
   ]
  },
  {
   "cell_type": "code",
   "execution_count": null,
   "metadata": {
    "collapsed": true
   },
   "outputs": [],
   "source": []
  },
  {
   "cell_type": "code",
   "execution_count": 13,
   "metadata": {
    "collapsed": false
   },
   "outputs": [
    {
     "name": "stderr",
     "output_type": "stream",
     "text": [
      "transform atlas ..."
     ]
    },
    {
     "name": "stdout",
     "output_type": "stream",
     "text": [
      "['gcn-20-33.sdsc.edu'] are excluded\n",
      "Using nodes: ['gcn-20-31.sdsc.edu', 'gcn-20-32.sdsc.edu', 'gcn-20-34.sdsc.edu', 'gcn-20-35.sdsc.edu', 'gcn-20-36.sdsc.edu', 'gcn-20-37.sdsc.edu', 'gcn-20-38.sdsc.edu', 'gcn-20-41.sdsc.edu', 'gcn-20-42.sdsc.edu', 'gcn-20-43.sdsc.edu', 'gcn-20-44.sdsc.edu', 'gcn-20-45.sdsc.edu', 'gcn-20-46.sdsc.edu', 'gcn-20-47.sdsc.edu', 'gcn-20-48.sdsc.edu']\n"
     ]
    },
    {
     "name": "stderr",
     "output_type": "stream",
     "text": [
      "done in 220.844733 seconds\n"
     ]
    }
   ],
   "source": [
    "# Transform locally transformed volumes back to atlas space\n",
    "\n",
    "t = time.time()\n",
    "sys.stderr.write('transform atlas ...')\n",
    "\n",
    "exclude_nodes = [33]\n",
    "\n",
    "run_distributed4(command='%(script_path)s %%(stack)s 1 1 2 0 atlasV2' % \\\n",
    "                {'script_path': os.path.join(os.environ['REPO_DIR'], 'registration') + '/transform_brains_reverse_global.py'},\n",
    "                kwargs_list=dict(stack=all_stacks),\n",
    "                exclude_nodes=exclude_nodes,\n",
    "                argument_type='single')\n",
    "\n",
    "sys.stderr.write('done in %f seconds\\n' % (time.time() - t)) # 310 seconds"
   ]
  }
 ],
 "metadata": {
  "kernelspec": {
   "display_name": "Python 2",
   "language": "python",
   "name": "python2"
  },
  "language_info": {
   "codemirror_mode": {
    "name": "ipython",
    "version": 2
   },
   "file_extension": ".py",
   "mimetype": "text/x-python",
   "name": "python",
   "nbconvert_exporter": "python",
   "pygments_lexer": "ipython2",
   "version": "2.7.3"
  }
 },
 "nbformat": 4,
 "nbformat_minor": 1
}
