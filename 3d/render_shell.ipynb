{
 "cells": [
  {
   "cell_type": "code",
   "execution_count": 1,
   "metadata": {
    "collapsed": false
   },
   "outputs": [
    {
     "name": "stdout",
     "output_type": "stream",
     "text": [
      "Setting environment for Local Macbook Pro\n"
     ]
    }
   ],
   "source": [
    "%reload_ext autoreload\n",
    "%autoreload 2\n",
    "\n",
    "import numpy as np\n",
    "import bloscpack as bp\n",
    "\n",
    "import sys\n",
    "import os\n",
    "sys.path.append(os.path.join(os.environ['REPO_DIR'], 'utilities'))\n",
    "from utilities2015 import *\n",
    "from annotation_utilities import *\n",
    "from metadata import *\n",
    "\n",
    "import time\n",
    "\n",
    "import matplotlib.pyplot as plt\n",
    "%matplotlib inline\n",
    "\n",
    "from vis3d_utilities import *"
   ]
  },
  {
   "cell_type": "code",
   "execution_count": 2,
   "metadata": {
    "collapsed": true
   },
   "outputs": [],
   "source": [
    "stack = 'MD592'"
   ]
  },
  {
   "cell_type": "code",
   "execution_count": 3,
   "metadata": {
    "collapsed": true
   },
   "outputs": [],
   "source": [
    "outerContour_volume = bp.unpack_ndarray_file(os.path.join(volume_dir, '%(stack)s/%(stack)s_down32_outerContourVolume.bp' % {'stack':stack})).astype(np.int8)\n",
    "\n",
    "# with open(os.path.join(volume_dir, stack, stack+'_down32_outerContourVolume_bbox.txt'), 'r') as f:\n",
    "#     oc_xmin, oc_xmax, oc_ymin, oc_ymax, oc_zmin, oc_zmax = map(int, f.readline().strip().split())\n",
    "\n",
    "oc_xmin, oc_xmax, oc_ymin, oc_ymax, oc_zmin, oc_zmax = DataManager.load_volume_bbox(stack=stack, type='shell', downscale=32)\n",
    "origin = (oc_xmin, oc_ymin, oc_zmin)"
   ]
  },
  {
   "cell_type": "code",
   "execution_count": 4,
   "metadata": {
    "collapsed": false
   },
   "outputs": [
    {
     "name": "stdout",
     "output_type": "stream",
     "text": [
      "Total vertices 319294\n",
      "meshlabserver -i /tmp/input.ply -o /tmp/output.stl -s /home/yuncong/Brain/3d/outerContour_poisson_reconstruct.mlx -om vc vn\n"
     ]
    },
    {
     "name": "stderr",
     "output_type": "stream",
     "text": [
      "mesh_to_polydata: No faces are provided, so skip simplification.\n",
      "Child returned 0\n",
      "time: 3.75\n"
     ]
    }
   ],
   "source": [
    "t = time.time()\n",
    "\n",
    "# Use Meshlab to 1. compute normal at every point; 2. Poisson reconstruction\n",
    "# http://www.andrewhazelden.com/blog/2012/04/automate-your-meshlab-workflow-with-mlx-filter-scripts/\n",
    "\n",
    "vertices = np.array(np.where(outerContour_volume)).T[:, [1,0,2]] + origin\n",
    "print 'Total vertices', len(vertices)\n",
    "vertices = vertices[np.random.choice(np.arange(len(vertices)), 10000, replace=False)]\n",
    "\n",
    "outer_sparse_polydata = mesh_to_polydata(vertices, [])\n",
    "# save_mesh(polydata, os.path.join(MESH_ROOTDIR, stack, \"%(stack)s_down32_outerContourVolume_sparse.ply\" % {'stack': stack}))\n",
    "\n",
    "# poisson_reconstruct_meshlab(input_fn=os.path.join(MESH_ROOTDIR, stack, \"%(stack)s_down32_outerContourVolume_sparse.ply\" % {'stack': stack}),\n",
    "#                            output_fn=os.path.join(MESH_ROOTDIR, stack, \"%(stack)s_down32_outerContourVolume_smoothed.stl\" % {'stack': stack}))\n",
    "\n",
    "outer_smooth_polydata = poisson_reconstruct_meshlab(polydata=outer_sparse_polydata)\n",
    "\n",
    "mesh_fn = os.path.join(MESH_ROOTDIR, stack, \"%(stack)s_down32_outerContourVolume_smoothed.stl\" % {'stack': stack})\n",
    "\n",
    "save_mesh(outer_smooth_polydata, mesh_fn)\n",
    "\n",
    "# VTK SurfaceReconstructFilter - likely program bug, distance function is wrong outside the contour.\n",
    "# polydata = vertices_to_surface(vertices, num_simplify_iter=0, smooth=True)\n",
    "\n",
    "# VTK marching cube - if applied to points rather than volume, results in separate vertices, not contiguous surface.\n",
    "# polydata = volume_to_polydata(outerContour_volume, origin=origin, num_simplify_iter=1, smooth=True)\n",
    "\n",
    "# save_mesh_stl(polydata, os.path.join(MESH_ROOTDIR, stack, \"%(stack)s_down32_outerContourVolume_smoothed.stl\" % {'stack': stack}))\n",
    "\n",
    "sys.stderr.write('time: %.2f\\n' % (time.time() - t) ) # ~ 150s for outerContour; 93s for sp5"
   ]
  },
  {
   "cell_type": "code",
   "execution_count": null,
   "metadata": {
    "collapsed": true
   },
   "outputs": [],
   "source": []
  },
  {
   "cell_type": "code",
   "execution_count": 5,
   "metadata": {
    "collapsed": true
   },
   "outputs": [],
   "source": [
    "# Load"
   ]
  },
  {
   "cell_type": "code",
   "execution_count": 6,
   "metadata": {
    "collapsed": false,
    "scrolled": true
   },
   "outputs": [
    {
     "name": "stderr",
     "output_type": "stream",
     "text": [
      "fill point array: 0.01 seconds\n",
      "fill cell array: 0.00 seconds\n"
     ]
    }
   ],
   "source": [
    "mesh_fn = os.path.join(MESH_ROOTDIR, stack, \"%(stack)s_down32_outerContourVolume_smoothed.stl\" % {'stack': stack})\n",
    "\n",
    "outerContour_polydata = load_mesh_stl(mesh_fn, return_polydata_only=True)\n",
    "\n",
    "outerContour_actor = actor_mesh(outerContour_polydata, (1,1,1), opacity=.1, wireframe=False)"
   ]
  },
  {
   "cell_type": "code",
   "execution_count": 7,
   "metadata": {
    "collapsed": false
   },
   "outputs": [],
   "source": [
    "launch_vtk([outerContour_actor], init_angle='30', background_color=(0,0,0))"
   ]
  },
  {
   "cell_type": "code",
   "execution_count": null,
   "metadata": {
    "collapsed": true
   },
   "outputs": [],
   "source": []
  }
 ],
 "metadata": {
  "kernelspec": {
   "display_name": "Python 2",
   "language": "python",
   "name": "python2"
  },
  "language_info": {
   "codemirror_mode": {
    "name": "ipython",
    "version": 2
   },
   "file_extension": ".py",
   "mimetype": "text/x-python",
   "name": "python",
   "nbconvert_exporter": "python",
   "pygments_lexer": "ipython2",
   "version": "2.7.12"
  }
 },
 "nbformat": 4,
 "nbformat_minor": 1
}
