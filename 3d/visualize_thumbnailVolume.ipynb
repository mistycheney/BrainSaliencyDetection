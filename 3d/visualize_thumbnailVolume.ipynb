{
 "cells": [
  {
   "cell_type": "code",
   "execution_count": 1,
   "metadata": {
    "collapsed": false
   },
   "outputs": [
    {
     "name": "stdout",
     "output_type": "stream",
     "text": [
      "Setting environment for Local Macbook Pro\n"
     ]
    }
   ],
   "source": [
    "%reload_ext autoreload\n",
    "%autoreload 2\n",
    "\n",
    "import vtk\n",
    "from vtk.util import numpy_support\n",
    "\n",
    "import numpy as np\n",
    "import bloscpack as bp\n",
    "import time\n",
    "import sys\n",
    "import os\n",
    "sys.path.append(os.path.join(os.environ['REPO_DIR'], 'utilities'))\n",
    "\n",
    "from utilities2015 import *\n",
    "from annotation_utilities import *\n",
    "from metadata import *\n",
    "from data_manager import *\n",
    "\n",
    "import matplotlib.pyplot as plt\n",
    "%matplotlib inline\n",
    "\n",
    "from vis3d_utilities import *"
   ]
  },
  {
   "cell_type": "code",
   "execution_count": 2,
   "metadata": {
    "collapsed": true
   },
   "outputs": [],
   "source": [
    "stack = 'MD589'"
   ]
  },
  {
   "cell_type": "code",
   "execution_count": null,
   "metadata": {
    "collapsed": true
   },
   "outputs": [],
   "source": []
  },
  {
   "cell_type": "code",
   "execution_count": 3,
   "metadata": {
    "collapsed": true
   },
   "outputs": [],
   "source": [
    "# visualize thumbnail volume itself\n",
    "\n",
    "tb_volume = load_thumbnail_volume(stack)\n",
    "\n",
    "launch_vtk([actor_volume(tb_volume[:,:,tb_volume.shape[2]/2:], 'tb')], \n",
    "           window_name='Thumbnail Volume %(stack)s' % {'stack': stack})"
   ]
  },
  {
   "cell_type": "code",
   "execution_count": null,
   "metadata": {
    "collapsed": true
   },
   "outputs": [],
   "source": []
  },
  {
   "cell_type": "code",
   "execution_count": 24,
   "metadata": {
    "collapsed": true
   },
   "outputs": [],
   "source": [
    "# visualize thumbnail volume with annotation"
   ]
  },
  {
   "cell_type": "code",
   "execution_count": 4,
   "metadata": {
    "collapsed": false
   },
   "outputs": [
    {
     "name": "stdout",
     "output_type": "stream",
     "text": [
      "'No object named structures in the file'\n"
     ]
    },
    {
     "name": "stderr",
     "output_type": "stream",
     "text": [
      "Annotation has no structures.\n"
     ]
    }
   ],
   "source": [
    "contour_df, _ = DataManager.load_annotation_v3(stack=stack, annotation_rootdir=annotation_midbrainIncluded_v2_rootdir)"
   ]
  },
  {
   "cell_type": "code",
   "execution_count": 5,
   "metadata": {
    "collapsed": true
   },
   "outputs": [],
   "source": [
    "downsample_factor = 32\n",
    "xy_pixel_distance_downsampled = xy_pixel_distance_lossless * downsample_factor\n",
    "voxel_z_size = section_thickness / xy_pixel_distance_downsampled"
   ]
  },
  {
   "cell_type": "code",
   "execution_count": 6,
   "metadata": {
    "collapsed": true
   },
   "outputs": [],
   "source": [
    "anchor_filename = metadata_cache['anchor_fn'][stack]\n",
    "sections_to_filenames = metadata_cache['sections_to_filenames'][stack]\n",
    "filenames_to_sections = {f: s for s, f in sections_to_filenames.iteritems() \n",
    "                        if f not in ['Placeholder', 'Nonexisting', 'Rescan']}"
   ]
  },
  {
   "cell_type": "code",
   "execution_count": 7,
   "metadata": {
    "collapsed": true
   },
   "outputs": [],
   "source": [
    "import cPickle as pickle\n",
    "Ts = pickle.load(open(thumbnail_data_dir + '/%(stack)s/%(stack)s_elastix_output/%(stack)s_transformsTo_anchor.pkl' % dict(stack=stack), 'r'))\n",
    "\n",
    "Ts_inv_downsampled = {}\n",
    "for fn, T0 in Ts.iteritems():\n",
    "    T = T0.copy()\n",
    "    T[:2, 2] = T[:2, 2] * 32 / downsample_factor\n",
    "    Tinv = np.linalg.inv(T)\n",
    "    Ts_inv_downsampled[fn] = Tinv"
   ]
  },
  {
   "cell_type": "code",
   "execution_count": 8,
   "metadata": {
    "collapsed": true
   },
   "outputs": [],
   "source": [
    "def collect(matched_contours, convert_to='aligned'):\n",
    "    \"\"\"\n",
    "    Convert matched annotation dataframe entries to contours as a list of 3d array.\n",
    "    \"\"\"\n",
    "    \n",
    "    contours_3d = []\n",
    "    \n",
    "    for cnt_id, cnt in matched_contours.iterrows():\n",
    "\n",
    "        fn = cnt['filename']\n",
    "        \n",
    "        if fn not in filenames_to_sections:\n",
    "            continue\n",
    "            \n",
    "        section = filenames_to_sections[fn]\n",
    "        z = voxel_z_size * (section-1)\n",
    "\n",
    "        if convert_to == 'aligned':\n",
    "        \n",
    "            n = len(cnt['vertices'])\n",
    "            vertices_on_aligned = np.dot(Ts_inv_downsampled[fn], np.c_[cnt['vertices']/downsample_factor, np.ones((n,))].T).T[:, :2]\n",
    "\n",
    "            vertices_on_aligned_3d = np.c_[vertices_on_aligned, z*np.ones((n,))]\n",
    "            contours_3d.append(vertices_on_aligned_3d)\n",
    "        \n",
    "    return contours_3d"
   ]
  },
  {
   "cell_type": "code",
   "execution_count": 9,
   "metadata": {
    "collapsed": true
   },
   "outputs": [],
   "source": [
    "from skimage.draw import polygon_perimeter"
   ]
  },
  {
   "cell_type": "code",
   "execution_count": 10,
   "metadata": {
    "collapsed": false
   },
   "outputs": [
    {
     "name": "stdout",
     "output_type": "stream",
     "text": [
      "crop: 569 1053 140 512\n",
      "tb_vol: 0 484 0 372 123 503\n"
     ]
    }
   ],
   "source": [
    "crop_xmin, crop_xmax, crop_ymin, crop_ymax = metadata_cache['cropbox'][stack]\n",
    "print 'crop:', crop_xmin, crop_xmax, crop_ymin, crop_ymax\n",
    "\n",
    "tb_vol_xmin, tb_vol_xmax, tb_vol_ymin, tb_vol_ymax, tb_vol_zmin, tb_vol_zmax = \\\n",
    "np.loadtxt(os.path.join(VOLUME_ROOTDIR, stack, '%(stack)s_down%(downsample)dVolume_bbox.txt') % \\\n",
    "           dict(stack=stack, downsample=32), dtype=np.int)\n",
    "print 'tb_vol:', tb_vol_xmin, tb_vol_xmax, tb_vol_ymin, tb_vol_ymax, tb_vol_zmin, tb_vol_zmax"
   ]
  },
  {
   "cell_type": "code",
   "execution_count": 11,
   "metadata": {
    "collapsed": true
   },
   "outputs": [],
   "source": [
    "# structures = set(contour_df['name'])\n",
    "\n",
    "paired_structures = ['5N', '6N', '7N', '7n', 'Amb', 'LC', 'LRt', 'Pn', 'Tz', 'VLL', 'RMC', 'SNC', 'SNR', '3N', '4N',\n",
    "                    'Sp5I', 'Sp5O', 'Sp5C', 'PBG', '10N', 'VCA', 'VCP', 'DC']\n",
    "singular_structures = ['AP', '12N', 'RtTg', 'SC', 'IC']\n",
    "structures = paired_structures + singular_structures\n"
   ]
  },
  {
   "cell_type": "code",
   "execution_count": 12,
   "metadata": {
    "collapsed": true
   },
   "outputs": [],
   "source": [
    "tb_volume = load_thumbnail_volume(stack)\n",
    "tb_vol_ydim, tb_vol_xdim, tb_vol_zdim = tb_volume.shape"
   ]
  },
  {
   "cell_type": "code",
   "execution_count": 13,
   "metadata": {
    "collapsed": false
   },
   "outputs": [],
   "source": [
    "tb_volume = tb_volume.astype(np.float32)"
   ]
  },
  {
   "cell_type": "code",
   "execution_count": 14,
   "metadata": {
    "collapsed": true
   },
   "outputs": [],
   "source": [
    "# Make contours have value x.5 (between integers)\n",
    "structure_to_value = {name_u: i % len(structures) + 1.5 for i, name_u in enumerate(structures)}"
   ]
  },
  {
   "cell_type": "code",
   "execution_count": 15,
   "metadata": {
    "collapsed": false
   },
   "outputs": [],
   "source": [
    "for i, name_u in enumerate(structures):\n",
    "\n",
    "    matched_contours = contour_df[(contour_df['name'] == name_u)]\n",
    "    contours_3d = collect(matched_contours)\n",
    "\n",
    "    for cnt in contours_3d:\n",
    "\n",
    "        vs = cnt.astype(np.int)\n",
    "\n",
    "        polygon_ys, polygon_xs = polygon_perimeter(vs[:,1], vs[:,0])\n",
    "\n",
    "        ys = polygon_ys - crop_ymin - tb_vol_ymin\n",
    "        xs = polygon_xs - crop_xmin - tb_vol_xmin\n",
    "\n",
    "        valid = (ys >= 0) & (ys < tb_vol_ydim) & (xs >= 0) & (xs < tb_vol_xdim)\n",
    "\n",
    "        z = int(np.floor(vs[0,2])) - tb_vol_zmin\n",
    "\n",
    "        tb_volume[ys[valid], xs[valid], z] = structure_to_value[name_u]"
   ]
  },
  {
   "cell_type": "code",
   "execution_count": 42,
   "metadata": {
    "collapsed": false
   },
   "outputs": [
    {
     "name": "stderr",
     "output_type": "stream",
     "text": [
      "/usr/local/lib/python2.7/dist-packages/ipykernel/__main__.py:6: VisibleDeprecationWarning: converting an array with ndim > 0 to an index will result in an error in the future\n"
     ]
    }
   ],
   "source": [
    "# All contours in red\n",
    "# tb_colors = {i % len(structures) + 1.5: (1.,0,0) for i, name_u in enumerate(structures)}\n",
    "\n",
    "# Different structures in different color\n",
    "# tb_colors = {i % len(structures) + 1.5: np.random.randint(0, 255, (3,))/255. for i, name_u in enumerate(structures)}\n",
    "tb_colors = {i % len(structures) + 1.5: np.array(high_contrast_colors[np.random.randint(0, len(high_contrast_colors), 1)])/255. for i, name_u in enumerate(structures)}"
   ]
  },
  {
   "cell_type": "code",
   "execution_count": 17,
   "metadata": {
    "collapsed": false
   },
   "outputs": [],
   "source": [
    "launch_vtk([actor_volume(tb_volume, 'tb', tb_colors=tb_colors)])"
   ]
  },
  {
   "cell_type": "code",
   "execution_count": 18,
   "metadata": {
    "collapsed": true
   },
   "outputs": [],
   "source": [
    "cut_z = 100\n",
    "cut_xmin = 50\n",
    "cut_xmax = 500"
   ]
  },
  {
   "cell_type": "code",
   "execution_count": 19,
   "metadata": {
    "collapsed": false
   },
   "outputs": [],
   "source": [
    "tb_volume_half = tb_volume.copy()\n",
    "tb_volume_half[:, :, :cut_z] = 0\n",
    "tb_volume_half[:, :cut_xmin, :] = 0\n",
    "tb_volume_half[:, cut_xmax:, :] = 0\n",
    "\n",
    "launch_vtk([actor_volume(tb_volume_half, 'tb', tb_colors=tb_colors)])"
   ]
  },
  {
   "cell_type": "code",
   "execution_count": 31,
   "metadata": {
    "collapsed": true
   },
   "outputs": [],
   "source": [
    "tb_volume_sectioned = np.zeros_like(tb_volume)\n",
    "interval = 10\n",
    "# for z in range(tb_volume_sectioned.shape[2]/2, tb_volume_sectioned.shape[2], interval):\n",
    "for z in range(cut_z, tb_volume_sectioned.shape[2], interval):\n",
    "    tb_volume_sectioned[:, :, z:z+3] = tb_volume[:,:,z:z+3]"
   ]
  },
  {
   "cell_type": "code",
   "execution_count": 21,
   "metadata": {
    "collapsed": true
   },
   "outputs": [],
   "source": [
    "launch_vtk([actor_volume(tb_volume_sectioned, 'tb', tb_colors=tb_colors)])"
   ]
  },
  {
   "cell_type": "code",
   "execution_count": 43,
   "metadata": {
    "collapsed": false
   },
   "outputs": [],
   "source": [
    "tb_volume_piece = tb_volume[:,cut_xmin:cut_xmax+1,:cut_z+5].copy()\n",
    "tb_volume_piece[:, :, :cut_z] = 0\n",
    "\n",
    "launch_vtk([actor_volume(tb_volume_piece, 'tb', tb_colors=tb_colors, origin=(50,0,0), tb_opacity=.4),\n",
    "           actor_volume(tb_volume_sectioned, 'tb', tb_colors=tb_colors, tb_opacity=.01)])"
   ]
  },
  {
   "cell_type": "code",
   "execution_count": null,
   "metadata": {
    "collapsed": true
   },
   "outputs": [],
   "source": []
  },
  {
   "cell_type": "code",
   "execution_count": 260,
   "metadata": {
    "collapsed": false
   },
   "outputs": [],
   "source": [
    "# Plot VTK transfer function\n",
    "\n",
    "# compositeOpacity = vtk.vtkPiecewiseFunction()\n",
    "# compositeOpacity.AddPoint(0.0, 0.)\n",
    "# for v, c in sorted(tb_colors.items()):\n",
    "#     vl = v - .5\n",
    "#     vr = v + .5\n",
    "#     cp1 = vl-.25\n",
    "#     cp2 = vr-.25\n",
    "#     compositeOpacity.AddPoint(cp1, .5*cp1/200., .5, 1.)\n",
    "#     compositeOpacity.AddPoint(v, 1., .5, 1.)\n",
    "#     compositeOpacity.AddPoint(cp2, .5*cp2/200., .5, 1.)\n",
    "# compositeOpacity.AddPoint(vr, .5*vr/200.)\n",
    "# compositeOpacity.AddPoint(240., 0.05)\n",
    "# compositeOpacity.AddPoint(255.0, 0.05)\n",
    "\n",
    "# q = np.array([compositeOpacity.GetValue(v) for v in np.arange(0, 255, .1)])\n",
    "\n",
    "# plt.figure(figsize=(20,5));\n",
    "# plt.plot(np.arange(0, 255, .1), q);"
   ]
  }
 ],
 "metadata": {
  "kernelspec": {
   "display_name": "Python 2",
   "language": "python",
   "name": "python2"
  },
  "language_info": {
   "codemirror_mode": {
    "name": "ipython",
    "version": 2
   },
   "file_extension": ".py",
   "mimetype": "text/x-python",
   "name": "python",
   "nbconvert_exporter": "python",
   "pygments_lexer": "ipython2",
   "version": "2.7.12"
  }
 },
 "nbformat": 4,
 "nbformat_minor": 0
}
