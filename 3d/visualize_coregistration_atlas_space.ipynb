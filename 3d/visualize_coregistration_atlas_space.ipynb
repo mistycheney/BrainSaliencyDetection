{
 "cells": [
  {
   "cell_type": "code",
   "execution_count": 17,
   "metadata": {
    "collapsed": false
   },
   "outputs": [],
   "source": [
    "%reload_ext autoreload\n",
    "%autoreload 2\n",
    "\n",
    "import numpy as np\n",
    "import bloscpack as bp\n",
    "\n",
    "import sys\n",
    "import os\n",
    "sys.path.append(os.path.join(os.environ['REPO_DIR'], 'utilities'))\n",
    "from utilities2015 import *\n",
    "from annotation_utilities import *\n",
    "from registration_utilities import *\n",
    "from vis3d_utilities import *\n",
    "from metadata import *\n",
    "from data_manager import *\n",
    "\n",
    "import time\n",
    "\n",
    "import matplotlib.pyplot as plt\n",
    "%matplotlib inline"
   ]
  },
  {
   "cell_type": "code",
   "execution_count": 2,
   "metadata": {
    "collapsed": true
   },
   "outputs": [],
   "source": [
    "with open('colors.txt', 'r') as f:\n",
    "    colors = {l[0]: np.r_[float(l[1]), float(l[2]), float(l[3])] for l in map(lambda x: x.split(), f.readlines())}"
   ]
  },
  {
   "cell_type": "code",
   "execution_count": 3,
   "metadata": {
    "collapsed": true
   },
   "outputs": [],
   "source": [
    "train_sample_scheme = 1\n",
    "global_transform_scheme = 1\n",
    "local_transform_scheme = 2"
   ]
  },
  {
   "cell_type": "code",
   "execution_count": 4,
   "metadata": {
    "collapsed": true
   },
   "outputs": [],
   "source": [
    "atlas_name = 'atlasV2'"
   ]
  },
  {
   "cell_type": "code",
   "execution_count": 5,
   "metadata": {
    "collapsed": true
   },
   "outputs": [],
   "source": [
    "paired_structures = ['5N', '6N', '7N', '7n', 'Amb', 'LC', 'LRt', 'Pn', 'Tz', 'VLL', 'RMC', 'SNC', 'SNR', '3N', '4N',\n",
    "                    'Sp5I', 'Sp5O', 'Sp5C', 'PBG', '10N', 'VCA', 'VCP', 'DC']\n",
    "singular_structures = ['AP', '12N', 'RtTg', 'SC', 'IC']\n",
    "structures = paired_structures + singular_structures\n",
    "\n",
    "structure_colors = {n: np.random.randint(0, 255, (3,)) for n in structures}\n",
    "# with open('colors.txt', 'r') as f:\n",
    "#     colors = {l[0]: np.r_[float(l[1]), float(l[2]), float(l[3])] for l in map(lambda x: x.split(), f.readlines())}"
   ]
  },
  {
   "cell_type": "code",
   "execution_count": 6,
   "metadata": {
    "collapsed": true
   },
   "outputs": [],
   "source": [
    "structures_sided = sum([[n] if n in singular_structures else [convert_to_left_name(n), convert_to_right_name(n)]\n",
    "                        for n in structures], [])"
   ]
  },
  {
   "cell_type": "code",
   "execution_count": 24,
   "metadata": {
    "collapsed": false
   },
   "outputs": [],
   "source": [
    "stack_colors = {n: np.array(high_contrast_colors[i%len(high_contrast_colors)]) for i, n in enumerate(all_stacks)}"
   ]
  },
  {
   "cell_type": "markdown",
   "metadata": {},
   "source": [
    "# Genrate mesh for subject volume mapped back to atlas space"
   ]
  },
  {
   "cell_type": "code",
   "execution_count": 34,
   "metadata": {
    "collapsed": false,
    "scrolled": true
   },
   "outputs": [
    {
     "name": "stdout",
     "output_type": "stream",
     "text": [
      "5N_L\n"
     ]
    },
    {
     "name": "stderr",
     "output_type": "stream",
     "text": [
      "marching cube: 5.82 seconds\n",
      "mesh_to_polydata: 0.01 seconds\n",
      "simplify 0 @ 7311: 0.06 seconds\n",
      "simplify 1 @ 1464: 0.05 seconds\n",
      "simplify 2 @ 294: 0.01 seconds\n",
      "time: 6.48\n"
     ]
    },
    {
     "name": "stdout",
     "output_type": "stream",
     "text": [
      "5N_R\n"
     ]
    },
    {
     "name": "stderr",
     "output_type": "stream",
     "text": [
      "marching cube: 8.19 seconds\n",
      "mesh_to_polydata: 0.01 seconds\n",
      "simplify 0 @ 7424: 0.06 seconds\n",
      "simplify 1 @ 1486: 0.06 seconds\n",
      "simplify 2 @ 299: 0.01 seconds\n",
      "time: 8.90\n"
     ]
    },
    {
     "name": "stdout",
     "output_type": "stream",
     "text": [
      "6N_L\n"
     ]
    },
    {
     "name": "stderr",
     "output_type": "stream",
     "text": [
      "marching cube: 8.61 seconds\n",
      "mesh_to_polydata: 0.00 seconds\n",
      "simplify 0 @ 713: 0.01 seconds\n",
      "time: 9.29\n"
     ]
    },
    {
     "name": "stdout",
     "output_type": "stream",
     "text": [
      "6N_R\n"
     ]
    },
    {
     "name": "stderr",
     "output_type": "stream",
     "text": [
      "marching cube: 7.46 seconds\n",
      "mesh_to_polydata: 0.00 seconds\n",
      "simplify 0 @ 729: 0.01 seconds\n",
      "time: 8.58\n"
     ]
    },
    {
     "name": "stdout",
     "output_type": "stream",
     "text": [
      "7N_L\n"
     ]
    },
    {
     "name": "stderr",
     "output_type": "stream",
     "text": [
      "marching cube: 6.31 seconds\n",
      "mesh_to_polydata: 0.01 seconds\n",
      "simplify 0 @ 12963: 0.09 seconds\n",
      "simplify 1 @ 2593: 0.10 seconds\n",
      "simplify 2 @ 520: 0.02 seconds\n",
      "time: 7.15\n"
     ]
    },
    {
     "name": "stdout",
     "output_type": "stream",
     "text": [
      "7N_R\n"
     ]
    },
    {
     "name": "stderr",
     "output_type": "stream",
     "text": [
      "marching cube: 6.28 seconds\n",
      "mesh_to_polydata: 0.02 seconds\n",
      "simplify 0 @ 12950: 0.11 seconds\n",
      "simplify 1 @ 2592: 0.11 seconds\n",
      "simplify 2 @ 519: 0.02 seconds\n",
      "time: 7.14\n"
     ]
    },
    {
     "name": "stdout",
     "output_type": "stream",
     "text": [
      "7n_L\n"
     ]
    },
    {
     "name": "stderr",
     "output_type": "stream",
     "text": [
      "marching cube: 10.05 seconds\n",
      "mesh_to_polydata: 0.01 seconds\n",
      "simplify 0 @ 9640: 0.08 seconds\n",
      "simplify 1 @ 1929: 0.08 seconds\n",
      "simplify 2 @ 387: 0.02 seconds\n",
      "time: 11.32\n"
     ]
    },
    {
     "name": "stdout",
     "output_type": "stream",
     "text": [
      "7n_R\n"
     ]
    },
    {
     "name": "stderr",
     "output_type": "stream",
     "text": [
      "marching cube: 6.23 seconds\n",
      "mesh_to_polydata: 0.01 seconds\n",
      "simplify 0 @ 9901: 0.08 seconds\n",
      "simplify 1 @ 1979: 0.08 seconds\n",
      "simplify 2 @ 396: 0.02 seconds\n",
      "time: 7.05\n"
     ]
    },
    {
     "name": "stdout",
     "output_type": "stream",
     "text": [
      "Amb_L\n"
     ]
    },
    {
     "name": "stderr",
     "output_type": "stream",
     "text": [
      "marching cube: 10.73 seconds\n",
      "mesh_to_polydata: 0.00 seconds\n",
      "simplify 0 @ 933: 0.01 seconds\n",
      "time: 11.50\n"
     ]
    },
    {
     "name": "stdout",
     "output_type": "stream",
     "text": [
      "Amb_R\n"
     ]
    },
    {
     "name": "stderr",
     "output_type": "stream",
     "text": [
      "marching cube: 8.32 seconds\n",
      "mesh_to_polydata: 0.00 seconds\n",
      "simplify 0 @ 926: 0.01 seconds\n",
      "time: 9.01\n"
     ]
    },
    {
     "name": "stdout",
     "output_type": "stream",
     "text": [
      "LC_L\n"
     ]
    },
    {
     "name": "stderr",
     "output_type": "stream",
     "text": [
      "marching cube: 8.37 seconds\n",
      "mesh_to_polydata: 0.01 seconds\n",
      "simplify 0 @ 3827: 0.03 seconds\n",
      "simplify 1 @ 767: 0.03 seconds\n",
      "time: 9.20\n"
     ]
    },
    {
     "name": "stdout",
     "output_type": "stream",
     "text": [
      "LC_R\n"
     ]
    },
    {
     "name": "stderr",
     "output_type": "stream",
     "text": [
      "marching cube: 7.79 seconds\n",
      "mesh_to_polydata: 0.00 seconds\n",
      "simplify 0 @ 3813: 0.03 seconds\n",
      "simplify 1 @ 764: 0.03 seconds\n",
      "time: 8.96\n"
     ]
    },
    {
     "name": "stdout",
     "output_type": "stream",
     "text": [
      "LRt_L\n"
     ]
    },
    {
     "name": "stderr",
     "output_type": "stream",
     "text": [
      "marching cube: 6.25 seconds\n",
      "mesh_to_polydata: 0.01 seconds\n",
      "simplify 0 @ 9010: 0.08 seconds\n",
      "simplify 1 @ 1804: 0.10 seconds\n",
      "simplify 2 @ 362: 0.04 seconds\n",
      "time: 7.05\n"
     ]
    },
    {
     "name": "stdout",
     "output_type": "stream",
     "text": [
      "LRt_R\n"
     ]
    },
    {
     "name": "stderr",
     "output_type": "stream",
     "text": [
      "marching cube: 9.81 seconds\n",
      "mesh_to_polydata: 0.01 seconds\n",
      "simplify 0 @ 11503: 0.09 seconds\n",
      "simplify 1 @ 2302: 0.09 seconds\n",
      "simplify 2 @ 461: 0.02 seconds\n",
      "time: 11.41\n"
     ]
    },
    {
     "name": "stdout",
     "output_type": "stream",
     "text": [
      "Pn_L\n"
     ]
    },
    {
     "name": "stderr",
     "output_type": "stream",
     "text": [
      "marching cube: 8.10 seconds\n",
      "mesh_to_polydata: 0.02 seconds\n",
      "simplify 0 @ 17195: 0.12 seconds\n",
      "simplify 1 @ 3442: 0.14 seconds\n",
      "simplify 2 @ 689: 0.03 seconds\n",
      "time: 9.16\n"
     ]
    },
    {
     "name": "stdout",
     "output_type": "stream",
     "text": [
      "Pn_R\n"
     ]
    },
    {
     "name": "stderr",
     "output_type": "stream",
     "text": [
      "marching cube: 6.21 seconds\n",
      "mesh_to_polydata: 0.02 seconds\n",
      "simplify 0 @ 17549: 0.14 seconds\n",
      "simplify 1 @ 3511: 0.16 seconds\n",
      "simplify 2 @ 703: 0.03 seconds\n",
      "time: 7.14\n"
     ]
    },
    {
     "name": "stdout",
     "output_type": "stream",
     "text": [
      "Tz_L\n"
     ]
    },
    {
     "name": "stderr",
     "output_type": "stream",
     "text": [
      "marching cube: 6.17 seconds\n",
      "mesh_to_polydata: 0.01 seconds\n",
      "simplify 0 @ 5210: 0.04 seconds\n",
      "simplify 1 @ 1043: 0.04 seconds\n",
      "simplify 2 @ 210: 0.01 seconds\n",
      "time: 6.84\n"
     ]
    },
    {
     "name": "stdout",
     "output_type": "stream",
     "text": [
      "Tz_R\n"
     ]
    },
    {
     "name": "stderr",
     "output_type": "stream",
     "text": [
      "marching cube: 6.28 seconds\n",
      "mesh_to_polydata: 0.01 seconds\n",
      "simplify 0 @ 5357: 0.04 seconds\n",
      "simplify 1 @ 1074: 0.04 seconds\n",
      "simplify 2 @ 216: 0.01 seconds\n",
      "time: 7.06\n"
     ]
    },
    {
     "name": "stdout",
     "output_type": "stream",
     "text": [
      "VLL_L\n"
     ]
    },
    {
     "name": "stderr",
     "output_type": "stream",
     "text": [
      "marching cube: 10.74 seconds\n",
      "mesh_to_polydata: 0.02 seconds\n",
      "simplify 0 @ 11256: 0.10 seconds\n",
      "simplify 1 @ 2253: 0.11 seconds\n",
      "simplify 2 @ 452: 0.02 seconds\n",
      "time: 11.66\n"
     ]
    },
    {
     "name": "stdout",
     "output_type": "stream",
     "text": [
      "VLL_R\n"
     ]
    },
    {
     "name": "stderr",
     "output_type": "stream",
     "text": [
      "marching cube: 8.14 seconds\n",
      "mesh_to_polydata: 0.01 seconds\n",
      "simplify 0 @ 11645: 0.10 seconds\n",
      "simplify 1 @ 2330: 0.10 seconds\n",
      "simplify 2 @ 467: 0.02 seconds\n",
      "time: 9.02\n"
     ]
    },
    {
     "name": "stdout",
     "output_type": "stream",
     "text": [
      "RMC_L\n"
     ]
    },
    {
     "name": "stderr",
     "output_type": "stream",
     "text": [
      "marching cube: 6.05 seconds\n",
      "mesh_to_polydata: 0.01 seconds\n",
      "simplify 0 @ 6175: 0.05 seconds\n",
      "simplify 1 @ 1237: 0.05 seconds\n",
      "simplify 2 @ 248: 0.01 seconds\n",
      "time: 6.81\n"
     ]
    },
    {
     "name": "stdout",
     "output_type": "stream",
     "text": [
      "RMC_R\n"
     ]
    },
    {
     "name": "stderr",
     "output_type": "stream",
     "text": [
      "marching cube: 6.08 seconds\n",
      "mesh_to_polydata: 0.01 seconds\n",
      "simplify 0 @ 6084: 0.05 seconds\n",
      "simplify 1 @ 1218: 0.05 seconds\n",
      "simplify 2 @ 245: 0.01 seconds\n",
      "time: 6.84\n"
     ]
    },
    {
     "name": "stdout",
     "output_type": "stream",
     "text": [
      "SNC_L\n"
     ]
    },
    {
     "name": "stderr",
     "output_type": "stream",
     "text": [
      "marching cube: 10.34 seconds\n",
      "mesh_to_polydata: 0.01 seconds\n",
      "simplify 0 @ 6797: 0.08 seconds\n",
      "simplify 1 @ 1361: 0.09 seconds\n",
      "simplify 2 @ 273: 0.02 seconds\n",
      "time: 11.25\n"
     ]
    },
    {
     "name": "stdout",
     "output_type": "stream",
     "text": [
      "SNC_R\n"
     ]
    },
    {
     "name": "stderr",
     "output_type": "stream",
     "text": [
      "marching cube: 8.57 seconds\n",
      "mesh_to_polydata: 0.01 seconds\n",
      "simplify 0 @ 6346: 0.05 seconds\n",
      "simplify 1 @ 1271: 0.05 seconds\n",
      "simplify 2 @ 255: 0.02 seconds\n",
      "time: 9.54\n"
     ]
    },
    {
     "name": "stdout",
     "output_type": "stream",
     "text": [
      "SNR_L\n"
     ]
    },
    {
     "name": "stderr",
     "output_type": "stream",
     "text": [
      "marching cube: 8.53 seconds\n",
      "mesh_to_polydata: 0.04 seconds\n",
      "simplify 0 @ 29654: 0.25 seconds\n",
      "simplify 1 @ 5931: 0.29 seconds\n",
      "simplify 2 @ 1187: 0.06 seconds\n",
      "time: 9.84\n"
     ]
    },
    {
     "name": "stdout",
     "output_type": "stream",
     "text": [
      "SNR_R\n"
     ]
    },
    {
     "name": "stderr",
     "output_type": "stream",
     "text": [
      "marching cube: 6.25 seconds\n",
      "mesh_to_polydata: 0.04 seconds\n",
      "simplify 0 @ 27915: 0.25 seconds\n",
      "simplify 1 @ 5586: 0.26 seconds\n",
      "simplify 2 @ 1118: 0.05 seconds\n",
      "time: 7.51\n"
     ]
    },
    {
     "name": "stdout",
     "output_type": "stream",
     "text": [
      "3N_L\n"
     ]
    },
    {
     "name": "stderr",
     "output_type": "stream",
     "text": [
      "marching cube: 10.63 seconds\n",
      "mesh_to_polydata: 0.00 seconds\n",
      "simplify 0 @ 2671: 0.02 seconds\n",
      "simplify 1 @ 535: 0.02 seconds\n",
      "time: 11.35\n"
     ]
    },
    {
     "name": "stdout",
     "output_type": "stream",
     "text": [
      "3N_R\n"
     ]
    },
    {
     "name": "stderr",
     "output_type": "stream",
     "text": [
      "marching cube: 6.11 seconds\n",
      "mesh_to_polydata: 0.00 seconds\n",
      "simplify 0 @ 2546: 0.02 seconds\n",
      "simplify 1 @ 510: 0.02 seconds\n",
      "time: 6.81\n"
     ]
    },
    {
     "name": "stdout",
     "output_type": "stream",
     "text": [
      "4N_L\n"
     ]
    },
    {
     "name": "stderr",
     "output_type": "stream",
     "text": [
      "marching cube: 10.38 seconds\n",
      "mesh_to_polydata: 0.00 seconds\n",
      "simplify 0 @ 345: 0.00 seconds\n",
      "time: 11.13\n"
     ]
    },
    {
     "name": "stdout",
     "output_type": "stream",
     "text": [
      "4N_R\n"
     ]
    },
    {
     "name": "stderr",
     "output_type": "stream",
     "text": [
      "marching cube: 6.45 seconds\n",
      "mesh_to_polydata: 0.00 seconds\n",
      "simplify 0 @ 348: 0.00 seconds\n",
      "time: 7.12\n"
     ]
    },
    {
     "name": "stdout",
     "output_type": "stream",
     "text": [
      "Sp5I_L\n"
     ]
    },
    {
     "name": "stderr",
     "output_type": "stream",
     "text": [
      "marching cube: 9.44 seconds\n",
      "mesh_to_polydata: 0.03 seconds\n",
      "simplify 0 @ 11022: 0.18 seconds\n",
      "simplify 1 @ 2205: 0.15 seconds\n",
      "simplify 2 @ 442: 0.03 seconds\n",
      "time: 10.51\n"
     ]
    },
    {
     "name": "stdout",
     "output_type": "stream",
     "text": [
      "Sp5I_R\n"
     ]
    },
    {
     "name": "stderr",
     "output_type": "stream",
     "text": [
      "marching cube: 6.99 seconds\n",
      "mesh_to_polydata: 0.01 seconds\n",
      "simplify 0 @ 11936: 0.10 seconds\n",
      "simplify 1 @ 2387: 0.09 seconds\n",
      "simplify 2 @ 478: 0.02 seconds\n",
      "time: 8.30\n"
     ]
    },
    {
     "name": "stdout",
     "output_type": "stream",
     "text": [
      "Sp5O_L\n"
     ]
    },
    {
     "name": "stderr",
     "output_type": "stream",
     "text": [
      "marching cube: 6.31 seconds\n",
      "mesh_to_polydata: 0.02 seconds\n",
      "simplify 0 @ 12380: 0.13 seconds\n",
      "simplify 1 @ 2476: 0.10 seconds\n",
      "simplify 2 @ 496: 0.02 seconds\n",
      "time: 7.14\n"
     ]
    },
    {
     "name": "stdout",
     "output_type": "stream",
     "text": [
      "Sp5O_R\n"
     ]
    },
    {
     "name": "stderr",
     "output_type": "stream",
     "text": [
      "marching cube: 6.40 seconds\n",
      "mesh_to_polydata: 0.02 seconds\n",
      "simplify 0 @ 12531: 0.13 seconds\n",
      "simplify 1 @ 2506: 0.09 seconds\n",
      "simplify 2 @ 503: 0.02 seconds\n",
      "time: 7.24\n"
     ]
    },
    {
     "name": "stdout",
     "output_type": "stream",
     "text": [
      "Sp5C_L\n"
     ]
    },
    {
     "name": "stderr",
     "output_type": "stream",
     "text": [
      "marching cube: 6.35 seconds\n",
      "mesh_to_polydata: 0.04 seconds\n",
      "simplify 0 @ 30261: 0.29 seconds\n",
      "simplify 1 @ 6055: 0.46 seconds\n",
      "simplify 2 @ 1212: 0.12 seconds\n",
      "time: 7.85\n"
     ]
    },
    {
     "name": "stdout",
     "output_type": "stream",
     "text": [
      "Sp5C_R\n"
     ]
    },
    {
     "name": "stderr",
     "output_type": "stream",
     "text": [
      "marching cube: 9.62 seconds\n",
      "mesh_to_polydata: 0.04 seconds\n",
      "simplify 0 @ 29254: 0.29 seconds\n",
      "simplify 1 @ 5850: 0.39 seconds\n",
      "simplify 2 @ 1171: 0.10 seconds\n",
      "time: 11.96\n"
     ]
    },
    {
     "name": "stdout",
     "output_type": "stream",
     "text": [
      "PBG_L\n"
     ]
    },
    {
     "name": "stderr",
     "output_type": "stream",
     "text": [
      "marching cube: 7.39 seconds\n",
      "mesh_to_polydata: 0.00 seconds\n",
      "simplify 0 @ 1818: 0.01 seconds\n",
      "simplify 1 @ 365: 0.01 seconds\n",
      "time: 8.56\n"
     ]
    },
    {
     "name": "stdout",
     "output_type": "stream",
     "text": [
      "PBG_R\n"
     ]
    },
    {
     "name": "stderr",
     "output_type": "stream",
     "text": [
      "marching cube: 7.06 seconds\n",
      "mesh_to_polydata: 0.00 seconds\n",
      "simplify 0 @ 1786: 0.03 seconds\n",
      "simplify 1 @ 358: 0.03 seconds\n",
      "time: 7.71\n"
     ]
    },
    {
     "name": "stdout",
     "output_type": "stream",
     "text": [
      "10N_L\n"
     ]
    },
    {
     "name": "stderr",
     "output_type": "stream",
     "text": [
      "marching cube: 9.28 seconds\n",
      "mesh_to_polydata: 0.00 seconds\n",
      "simplify 0 @ 3021: 0.02 seconds\n",
      "simplify 1 @ 605: 0.02 seconds\n",
      "time: 10.77\n"
     ]
    },
    {
     "name": "stdout",
     "output_type": "stream",
     "text": [
      "10N_R\n"
     ]
    },
    {
     "name": "stderr",
     "output_type": "stream",
     "text": [
      "marching cube: 6.20 seconds\n",
      "mesh_to_polydata: 0.00 seconds\n",
      "simplify 0 @ 3050: 0.02 seconds\n",
      "simplify 1 @ 611: 0.02 seconds\n",
      "time: 6.87\n"
     ]
    },
    {
     "name": "stdout",
     "output_type": "stream",
     "text": [
      "VCA_L\n"
     ]
    },
    {
     "name": "stderr",
     "output_type": "stream",
     "text": [
      "marching cube: 6.10 seconds\n",
      "mesh_to_polydata: 0.02 seconds\n",
      "simplify 0 @ 12917: 0.10 seconds\n",
      "simplify 1 @ 2585: 0.11 seconds\n",
      "simplify 2 @ 518: 0.02 seconds\n",
      "time: 7.03\n"
     ]
    },
    {
     "name": "stdout",
     "output_type": "stream",
     "text": [
      "VCA_R\n"
     ]
    },
    {
     "name": "stderr",
     "output_type": "stream",
     "text": [
      "marching cube: 10.51 seconds\n",
      "mesh_to_polydata: 0.02 seconds\n",
      "simplify 0 @ 12323: 0.12 seconds\n",
      "simplify 1 @ 2466: 0.11 seconds\n",
      "simplify 2 @ 494: 0.03 seconds\n",
      "time: 11.44\n"
     ]
    },
    {
     "name": "stdout",
     "output_type": "stream",
     "text": [
      "VCP_L\n"
     ]
    },
    {
     "name": "stderr",
     "output_type": "stream",
     "text": [
      "marching cube: 6.06 seconds\n",
      "mesh_to_polydata: 0.01 seconds\n",
      "simplify 0 @ 7002: 0.05 seconds\n",
      "simplify 1 @ 1402: 0.05 seconds\n",
      "simplify 2 @ 282: 0.01 seconds\n",
      "time: 6.87\n"
     ]
    },
    {
     "name": "stdout",
     "output_type": "stream",
     "text": [
      "VCP_R\n"
     ]
    },
    {
     "name": "stderr",
     "output_type": "stream",
     "text": [
      "marching cube: 9.63 seconds\n",
      "mesh_to_polydata: 0.02 seconds\n",
      "simplify 0 @ 7033: 0.10 seconds\n",
      "simplify 1 @ 1408: 0.10 seconds\n",
      "simplify 2 @ 283: 0.02 seconds\n",
      "time: 10.51\n"
     ]
    },
    {
     "name": "stdout",
     "output_type": "stream",
     "text": [
      "DC_L\n"
     ]
    },
    {
     "name": "stderr",
     "output_type": "stream",
     "text": [
      "marching cube: 8.56 seconds\n",
      "mesh_to_polydata: 0.02 seconds\n",
      "simplify 0 @ 10693: 0.10 seconds\n",
      "simplify 1 @ 2140: 0.10 seconds\n",
      "simplify 2 @ 429: 0.02 seconds\n",
      "time: 9.88\n"
     ]
    },
    {
     "name": "stdout",
     "output_type": "stream",
     "text": [
      "DC_R\n"
     ]
    },
    {
     "name": "stderr",
     "output_type": "stream",
     "text": [
      "marching cube: 6.28 seconds\n",
      "mesh_to_polydata: 0.01 seconds\n",
      "simplify 0 @ 10761: 0.08 seconds\n",
      "simplify 1 @ 2150: 0.08 seconds\n",
      "simplify 2 @ 431: 0.02 seconds\n",
      "time: 7.12\n"
     ]
    },
    {
     "name": "stdout",
     "output_type": "stream",
     "text": [
      "AP\n"
     ]
    },
    {
     "name": "stderr",
     "output_type": "stream",
     "text": [
      "marching cube: 6.24 seconds\n",
      "mesh_to_polydata: 0.00 seconds\n",
      "simplify 0 @ 3541: 0.05 seconds\n",
      "simplify 1 @ 709: 0.03 seconds\n",
      "time: 6.90\n"
     ]
    },
    {
     "name": "stdout",
     "output_type": "stream",
     "text": [
      "12N\n"
     ]
    },
    {
     "name": "stderr",
     "output_type": "stream",
     "text": [
      "marching cube: 6.48 seconds\n",
      "mesh_to_polydata: 0.01 seconds\n",
      "simplify 0 @ 13463: 0.10 seconds\n",
      "simplify 1 @ 2695: 0.10 seconds\n",
      "simplify 2 @ 540: 0.02 seconds\n",
      "time: 7.34\n"
     ]
    },
    {
     "name": "stdout",
     "output_type": "stream",
     "text": [
      "RtTg\n"
     ]
    },
    {
     "name": "stderr",
     "output_type": "stream",
     "text": [
      "marching cube: 7.71 seconds\n",
      "mesh_to_polydata: 0.07 seconds\n",
      "simplify 0 @ 26307: 0.53 seconds\n",
      "simplify 1 @ 5256: 0.49 seconds\n",
      "simplify 2 @ 1052: 0.10 seconds\n",
      "time: 9.50\n"
     ]
    },
    {
     "name": "stdout",
     "output_type": "stream",
     "text": [
      "SC\n"
     ]
    },
    {
     "name": "stderr",
     "output_type": "stream",
     "text": [
      "marching cube: 8.22 seconds\n",
      "mesh_to_polydata: 0.14 seconds\n",
      "simplify 0 @ 125331: 1.08 seconds\n",
      "simplify 1 @ 25075: 1.36 seconds\n",
      "simplify 2 @ 5015: 0.28 seconds\n",
      "time: 12.24\n"
     ]
    },
    {
     "name": "stdout",
     "output_type": "stream",
     "text": [
      "IC\n"
     ]
    },
    {
     "name": "stderr",
     "output_type": "stream",
     "text": [
      "marching cube: 9.66 seconds\n",
      "mesh_to_polydata: 0.19 seconds\n",
      "simplify 0 @ 78981: 1.42 seconds\n",
      "simplify 1 @ 15807: 1.03 seconds\n",
      "simplify 2 @ 3161: 0.18 seconds\n",
      "time: 13.09\n"
     ]
    },
    {
     "name": "stdout",
     "output_type": "stream",
     "text": [
      "5N_L\n"
     ]
    },
    {
     "name": "stderr",
     "output_type": "stream",
     "text": [
      "marching cube: 8.45 seconds\n",
      "mesh_to_polydata: 0.01 seconds\n",
      "simplify 0 @ 6738: 0.06 seconds\n",
      "simplify 1 @ 1349: 0.07 seconds\n",
      "simplify 2 @ 271: 0.01 seconds\n",
      "time: 9.26\n"
     ]
    },
    {
     "name": "stdout",
     "output_type": "stream",
     "text": [
      "5N_R\n"
     ]
    },
    {
     "name": "stderr",
     "output_type": "stream",
     "text": [
      "marching cube: 8.46 seconds\n",
      "mesh_to_polydata: 0.01 seconds\n",
      "simplify 0 @ 7064: 0.06 seconds\n",
      "simplify 1 @ 1414: 0.06 seconds\n",
      "simplify 2 @ 284: 0.01 seconds\n",
      "time: 9.25\n"
     ]
    },
    {
     "name": "stdout",
     "output_type": "stream",
     "text": [
      "6N_L\n"
     ]
    },
    {
     "name": "stderr",
     "output_type": "stream",
     "text": [
      "marching cube: 6.15 seconds\n",
      "mesh_to_polydata: 0.00 seconds\n",
      "simplify 0 @ 737: 0.01 seconds\n",
      "time: 6.79\n"
     ]
    },
    {
     "name": "stdout",
     "output_type": "stream",
     "text": [
      "6N_R\n"
     ]
    },
    {
     "name": "stderr",
     "output_type": "stream",
     "text": [
      "marching cube: 10.46 seconds\n",
      "mesh_to_polydata: 0.00 seconds\n",
      "simplify 0 @ 657: 0.01 seconds\n",
      "time: 11.17\n"
     ]
    },
    {
     "name": "stdout",
     "output_type": "stream",
     "text": [
      "7N_L\n"
     ]
    },
    {
     "name": "stderr",
     "output_type": "stream",
     "text": [
      "marching cube: 6.00 seconds\n",
      "mesh_to_polydata: 0.02 seconds\n",
      "simplify 0 @ 12022: 0.10 seconds\n",
      "simplify 1 @ 2406: 0.10 seconds\n",
      "simplify 2 @ 482: 0.02 seconds\n",
      "time: 6.91\n"
     ]
    },
    {
     "name": "stdout",
     "output_type": "stream",
     "text": [
      "7N_R\n"
     ]
    },
    {
     "name": "stderr",
     "output_type": "stream",
     "text": [
      "marching cube: 10.24 seconds\n",
      "mesh_to_polydata: 0.03 seconds\n",
      "simplify 0 @ 11360: 0.17 seconds\n",
      "simplify 1 @ 2275: 0.16 seconds\n",
      "simplify 2 @ 456: 0.03 seconds\n",
      "time: 11.28\n"
     ]
    },
    {
     "name": "stdout",
     "output_type": "stream",
     "text": [
      "7n_L\n"
     ]
    },
    {
     "name": "stderr",
     "output_type": "stream",
     "text": [
      "marching cube: 6.25 seconds\n",
      "mesh_to_polydata: 0.01 seconds\n",
      "simplify 0 @ 8931: 0.06 seconds\n",
      "simplify 1 @ 1788: 0.06 seconds\n",
      "simplify 2 @ 359: 0.01 seconds\n",
      "time: 7.15\n"
     ]
    },
    {
     "name": "stdout",
     "output_type": "stream",
     "text": [
      "7n_R\n"
     ]
    },
    {
     "name": "stderr",
     "output_type": "stream",
     "text": [
      "marching cube: 6.24 seconds\n",
      "mesh_to_polydata: 0.01 seconds\n",
      "simplify 0 @ 8694: 0.06 seconds\n",
      "simplify 1 @ 1740: 0.06 seconds\n",
      "simplify 2 @ 350: 0.01 seconds\n",
      "time: 6.96\n"
     ]
    },
    {
     "name": "stdout",
     "output_type": "stream",
     "text": [
      "Amb_L\n"
     ]
    },
    {
     "name": "stderr",
     "output_type": "stream",
     "text": [
      "marching cube: 7.52 seconds\n",
      "mesh_to_polydata: 0.00 seconds\n",
      "simplify 0 @ 953: 0.02 seconds\n",
      "time: 8.14\n"
     ]
    },
    {
     "name": "stdout",
     "output_type": "stream",
     "text": [
      "Amb_R\n"
     ]
    },
    {
     "name": "stderr",
     "output_type": "stream",
     "text": [
      "marching cube: 8.50 seconds\n",
      "mesh_to_polydata: 0.00 seconds\n",
      "simplify 0 @ 917: 0.01 seconds\n",
      "time: 9.88\n"
     ]
    },
    {
     "name": "stdout",
     "output_type": "stream",
     "text": [
      "LC_L\n"
     ]
    },
    {
     "name": "stderr",
     "output_type": "stream",
     "text": [
      "marching cube: 6.30 seconds\n",
      "mesh_to_polydata: 0.01 seconds\n",
      "simplify 0 @ 4014: 0.03 seconds\n",
      "simplify 1 @ 804: 0.03 seconds\n",
      "time: 6.95\n"
     ]
    },
    {
     "name": "stdout",
     "output_type": "stream",
     "text": [
      "LC_R\n"
     ]
    },
    {
     "name": "stderr",
     "output_type": "stream",
     "text": [
      "marching cube: 10.35 seconds\n",
      "mesh_to_polydata: 0.00 seconds\n",
      "simplify 0 @ 3563: 0.03 seconds\n",
      "simplify 1 @ 715: 0.03 seconds\n",
      "time: 11.08\n"
     ]
    },
    {
     "name": "stdout",
     "output_type": "stream",
     "text": [
      "LRt_L\n"
     ]
    },
    {
     "name": "stderr",
     "output_type": "stream",
     "text": [
      "marching cube: 5.97 seconds\n",
      "mesh_to_polydata: 0.01 seconds\n",
      "simplify 0 @ 11204: 0.09 seconds\n",
      "simplify 1 @ 2242: 0.10 seconds\n",
      "simplify 2 @ 450: 0.02 seconds\n",
      "time: 6.84\n"
     ]
    },
    {
     "name": "stdout",
     "output_type": "stream",
     "text": [
      "LRt_R\n"
     ]
    },
    {
     "name": "stderr",
     "output_type": "stream",
     "text": [
      "marching cube: 10.71 seconds\n",
      "mesh_to_polydata: 0.01 seconds\n",
      "simplify 0 @ 10885: 0.10 seconds\n",
      "simplify 1 @ 2179: 0.09 seconds\n",
      "simplify 2 @ 437: 0.02 seconds\n",
      "time: 11.58\n"
     ]
    },
    {
     "name": "stdout",
     "output_type": "stream",
     "text": [
      "Pn_L\n"
     ]
    },
    {
     "name": "stderr",
     "output_type": "stream",
     "text": [
      "marching cube: 6.21 seconds\n",
      "mesh_to_polydata: 0.02 seconds\n",
      "simplify 0 @ 16218: 0.13 seconds\n",
      "simplify 1 @ 3246: 0.14 seconds\n",
      "simplify 2 @ 650: 0.03 seconds\n",
      "time: 7.19\n"
     ]
    },
    {
     "name": "stdout",
     "output_type": "stream",
     "text": [
      "Pn_R\n"
     ]
    },
    {
     "name": "stderr",
     "output_type": "stream",
     "text": [
      "marching cube: 9.60 seconds\n",
      "mesh_to_polydata: 0.05 seconds\n",
      "simplify 0 @ 16780: 0.26 seconds\n",
      "simplify 1 @ 3358: 0.24 seconds\n",
      "simplify 2 @ 673: 0.05 seconds\n",
      "time: 10.84\n"
     ]
    },
    {
     "name": "stdout",
     "output_type": "stream",
     "text": [
      "Tz_L\n"
     ]
    },
    {
     "name": "stderr",
     "output_type": "stream",
     "text": [
      "marching cube: 6.50 seconds\n",
      "mesh_to_polydata: 0.01 seconds\n",
      "simplify 0 @ 4847: 0.04 seconds\n",
      "simplify 1 @ 971: 0.03 seconds\n",
      "time: 7.66\n"
     ]
    },
    {
     "name": "stdout",
     "output_type": "stream",
     "text": [
      "Tz_R\n"
     ]
    },
    {
     "name": "stderr",
     "output_type": "stream",
     "text": [
      "marching cube: 8.18 seconds\n",
      "mesh_to_polydata: 0.01 seconds\n",
      "simplify 0 @ 4775: 0.09 seconds\n",
      "simplify 1 @ 956: 0.08 seconds\n",
      "time: 8.96\n"
     ]
    },
    {
     "name": "stdout",
     "output_type": "stream",
     "text": [
      "VLL_L\n"
     ]
    },
    {
     "name": "stderr",
     "output_type": "stream",
     "text": [
      "marching cube: 7.98 seconds\n",
      "mesh_to_polydata: 0.01 seconds\n",
      "simplify 0 @ 11018: 0.08 seconds\n",
      "simplify 1 @ 2205: 0.08 seconds\n",
      "simplify 2 @ 442: 0.02 seconds\n",
      "time: 9.32\n"
     ]
    },
    {
     "name": "stdout",
     "output_type": "stream",
     "text": [
      "VLL_R\n"
     ]
    },
    {
     "name": "stderr",
     "output_type": "stream",
     "text": [
      "marching cube: 6.26 seconds\n",
      "mesh_to_polydata: 0.01 seconds\n",
      "simplify 0 @ 11060: 0.09 seconds\n",
      "simplify 1 @ 2213: 0.09 seconds\n",
      "simplify 2 @ 444: 0.02 seconds\n",
      "time: 7.04\n"
     ]
    },
    {
     "name": "stdout",
     "output_type": "stream",
     "text": [
      "RMC_L\n"
     ]
    },
    {
     "name": "stderr",
     "output_type": "stream",
     "text": [
      "marching cube: 6.16 seconds\n",
      "mesh_to_polydata: 0.01 seconds\n",
      "simplify 0 @ 5987: 0.04 seconds\n",
      "simplify 1 @ 1199: 0.04 seconds\n",
      "simplify 2 @ 241: 0.01 seconds\n",
      "time: 6.83\n"
     ]
    },
    {
     "name": "stdout",
     "output_type": "stream",
     "text": [
      "RMC_R\n"
     ]
    },
    {
     "name": "stderr",
     "output_type": "stream",
     "text": [
      "marching cube: 10.51 seconds\n",
      "mesh_to_polydata: 0.01 seconds\n",
      "simplify 0 @ 5647: 0.04 seconds\n",
      "simplify 1 @ 1131: 0.04 seconds\n",
      "simplify 2 @ 227: 0.01 seconds\n",
      "time: 11.26\n"
     ]
    },
    {
     "name": "stdout",
     "output_type": "stream",
     "text": [
      "SNC_L\n"
     ]
    },
    {
     "name": "stderr",
     "output_type": "stream",
     "text": [
      "marching cube: 6.01 seconds\n",
      "mesh_to_polydata: 0.01 seconds\n",
      "simplify 0 @ 6645: 0.05 seconds\n",
      "simplify 1 @ 1330: 0.05 seconds\n",
      "simplify 2 @ 267: 0.01 seconds\n",
      "time: 6.77\n"
     ]
    },
    {
     "name": "stdout",
     "output_type": "stream",
     "text": [
      "SNC_R\n"
     ]
    },
    {
     "name": "stderr",
     "output_type": "stream",
     "text": [
      "marching cube: 6.13 seconds\n",
      "mesh_to_polydata: 0.01 seconds\n",
      "simplify 0 @ 6325: 0.04 seconds\n",
      "simplify 1 @ 1266: 0.04 seconds\n",
      "simplify 2 @ 254: 0.01 seconds\n",
      "time: 6.88\n"
     ]
    },
    {
     "name": "stdout",
     "output_type": "stream",
     "text": [
      "SNR_L\n"
     ]
    },
    {
     "name": "stderr",
     "output_type": "stream",
     "text": [
      "marching cube: 6.29 seconds\n",
      "mesh_to_polydata: 0.03 seconds\n",
      "simplify 0 @ 28162: 0.21 seconds\n",
      "simplify 1 @ 5634: 0.24 seconds\n",
      "simplify 2 @ 1128: 0.05 seconds\n",
      "time: 7.46\n"
     ]
    },
    {
     "name": "stdout",
     "output_type": "stream",
     "text": [
      "SNR_R\n"
     ]
    },
    {
     "name": "stderr",
     "output_type": "stream",
     "text": [
      "marching cube: 9.11 seconds\n",
      "mesh_to_polydata: 0.06 seconds\n",
      "simplify 0 @ 28113: 0.38 seconds\n",
      "simplify 1 @ 5625: 0.42 seconds\n",
      "simplify 2 @ 1126: 0.09 seconds\n",
      "time: 10.64\n"
     ]
    },
    {
     "name": "stdout",
     "output_type": "stream",
     "text": [
      "3N_L\n"
     ]
    },
    {
     "name": "stderr",
     "output_type": "stream",
     "text": [
      "marching cube: 6.76 seconds\n",
      "mesh_to_polydata: 0.00 seconds\n",
      "simplify 0 @ 2501: 0.02 seconds\n",
      "simplify 1 @ 501: 0.02 seconds\n",
      "time: 7.88\n"
     ]
    },
    {
     "name": "stdout",
     "output_type": "stream",
     "text": [
      "3N_R\n"
     ]
    },
    {
     "name": "stderr",
     "output_type": "stream",
     "text": [
      "marching cube: 6.47 seconds\n",
      "mesh_to_polydata: 0.00 seconds\n",
      "simplify 0 @ 2480: 0.02 seconds\n",
      "simplify 1 @ 498: 0.02 seconds\n",
      "time: 7.09\n"
     ]
    },
    {
     "name": "stdout",
     "output_type": "stream",
     "text": [
      "4N_L\n"
     ]
    },
    {
     "name": "stderr",
     "output_type": "stream",
     "text": [
      "marching cube: 6.33 seconds\n",
      "mesh_to_polydata: 0.00 seconds\n",
      "simplify 0 @ 394: 0.00 seconds\n",
      "time: 6.91\n"
     ]
    },
    {
     "name": "stdout",
     "output_type": "stream",
     "text": [
      "4N_R\n"
     ]
    },
    {
     "name": "stderr",
     "output_type": "stream",
     "text": [
      "marching cube: 9.75 seconds\n",
      "mesh_to_polydata: 0.00 seconds\n",
      "simplify 0 @ 341: 0.00 seconds\n",
      "time: 11.09\n"
     ]
    },
    {
     "name": "stdout",
     "output_type": "stream",
     "text": [
      "Sp5I_L\n"
     ]
    },
    {
     "name": "stderr",
     "output_type": "stream",
     "text": [
      "marching cube: 6.06 seconds\n",
      "mesh_to_polydata: 0.02 seconds\n",
      "simplify 0 @ 13963: 0.11 seconds\n",
      "simplify 1 @ 2792: 0.12 seconds\n",
      "simplify 2 @ 559: 0.03 seconds\n",
      "time: 6.98\n"
     ]
    },
    {
     "name": "stdout",
     "output_type": "stream",
     "text": [
      "Sp5I_R\n"
     ]
    },
    {
     "name": "stderr",
     "output_type": "stream",
     "text": [
      "marching cube: 6.04 seconds\n",
      "mesh_to_polydata: 0.02 seconds\n",
      "simplify 0 @ 11706: 0.11 seconds\n",
      "simplify 1 @ 2342: 0.10 seconds\n",
      "simplify 2 @ 470: 0.02 seconds\n",
      "time: 6.93\n"
     ]
    },
    {
     "name": "stdout",
     "output_type": "stream",
     "text": [
      "Sp5O_L\n"
     ]
    },
    {
     "name": "stderr",
     "output_type": "stream",
     "text": [
      "marching cube: 6.09 seconds\n",
      "mesh_to_polydata: 0.02 seconds\n",
      "simplify 0 @ 16380: 0.13 seconds\n",
      "simplify 1 @ 3265: 0.14 seconds\n",
      "simplify 2 @ 649: 0.03 seconds\n",
      "time: 7.06\n"
     ]
    },
    {
     "name": "stdout",
     "output_type": "stream",
     "text": [
      "Sp5O_R\n"
     ]
    },
    {
     "name": "stderr",
     "output_type": "stream",
     "text": [
      "marching cube: 6.24 seconds\n",
      "mesh_to_polydata: 0.02 seconds\n",
      "simplify 0 @ 14211: 0.13 seconds\n",
      "simplify 1 @ 2843: 0.11 seconds\n",
      "simplify 2 @ 570: 0.02 seconds\n",
      "time: 7.17\n"
     ]
    },
    {
     "name": "stdout",
     "output_type": "stream",
     "text": [
      "Sp5C_L\n"
     ]
    },
    {
     "name": "stderr",
     "output_type": "stream",
     "text": [
      "marching cube: 9.57 seconds\n",
      "mesh_to_polydata: 0.06 seconds\n",
      "simplify 0 @ 30207: 0.42 seconds\n",
      "simplify 1 @ 6045: 0.45 seconds\n",
      "simplify 2 @ 1210: 0.10 seconds\n",
      "time: 11.17\n"
     ]
    },
    {
     "name": "stdout",
     "output_type": "stream",
     "text": [
      "Sp5C_R\n"
     ]
    },
    {
     "name": "stderr",
     "output_type": "stream",
     "text": [
      "marching cube: 6.56 seconds\n",
      "mesh_to_polydata: 0.04 seconds\n",
      "simplify 0 @ 31437: 0.24 seconds\n",
      "simplify 1 @ 6288: 0.28 seconds\n",
      "simplify 2 @ 1258: 0.06 seconds\n",
      "time: 8.28\n"
     ]
    },
    {
     "name": "stdout",
     "output_type": "stream",
     "text": [
      "PBG_L\n"
     ]
    },
    {
     "name": "stderr",
     "output_type": "stream",
     "text": [
      "marching cube: 8.70 seconds\n",
      "mesh_to_polydata: 0.00 seconds\n",
      "simplify 0 @ 1589: 0.02 seconds\n",
      "simplify 1 @ 319: 0.02 seconds\n",
      "time: 9.32\n"
     ]
    },
    {
     "name": "stdout",
     "output_type": "stream",
     "text": [
      "PBG_R\n"
     ]
    },
    {
     "name": "stderr",
     "output_type": "stream",
     "text": [
      "marching cube: 7.64 seconds\n",
      "mesh_to_polydata: 0.00 seconds\n",
      "simplify 0 @ 1627: 0.01 seconds\n",
      "simplify 1 @ 327: 0.01 seconds\n",
      "time: 8.77\n"
     ]
    },
    {
     "name": "stdout",
     "output_type": "stream",
     "text": [
      "10N_L\n"
     ]
    },
    {
     "name": "stderr",
     "output_type": "stream",
     "text": [
      "marching cube: 6.22 seconds\n",
      "mesh_to_polydata: 0.00 seconds\n",
      "simplify 0 @ 2825: 0.02 seconds\n",
      "simplify 1 @ 566: 0.02 seconds\n",
      "time: 6.85\n"
     ]
    },
    {
     "name": "stdout",
     "output_type": "stream",
     "text": [
      "10N_R\n"
     ]
    },
    {
     "name": "stderr",
     "output_type": "stream",
     "text": [
      "marching cube: 9.87 seconds\n",
      "mesh_to_polydata: 0.00 seconds\n",
      "simplify 0 @ 2795: 0.02 seconds\n",
      "simplify 1 @ 560: 0.02 seconds\n",
      "time: 11.11\n"
     ]
    },
    {
     "name": "stdout",
     "output_type": "stream",
     "text": [
      "VCA_L\n"
     ]
    },
    {
     "name": "stderr",
     "output_type": "stream",
     "text": [
      "marching cube: 6.08 seconds\n",
      "mesh_to_polydata: 0.02 seconds\n",
      "simplify 0 @ 12116: 0.10 seconds\n",
      "simplify 1 @ 2424: 0.10 seconds\n",
      "simplify 2 @ 486: 0.02 seconds\n",
      "time: 6.99\n"
     ]
    },
    {
     "name": "stdout",
     "output_type": "stream",
     "text": [
      "VCA_R\n"
     ]
    },
    {
     "name": "stderr",
     "output_type": "stream",
     "text": [
      "marching cube: 6.19 seconds\n",
      "mesh_to_polydata: 0.02 seconds\n",
      "simplify 0 @ 11349: 0.11 seconds\n",
      "simplify 1 @ 2272: 0.10 seconds\n",
      "simplify 2 @ 455: 0.02 seconds\n",
      "time: 7.07\n"
     ]
    },
    {
     "name": "stdout",
     "output_type": "stream",
     "text": [
      "VCP_L\n"
     ]
    },
    {
     "name": "stderr",
     "output_type": "stream",
     "text": [
      "marching cube: 6.22 seconds\n",
      "mesh_to_polydata: 0.01 seconds\n",
      "simplify 0 @ 6954: 0.06 seconds\n",
      "simplify 1 @ 1392: 0.06 seconds\n",
      "simplify 2 @ 280: 0.01 seconds\n",
      "time: 7.04\n"
     ]
    },
    {
     "name": "stdout",
     "output_type": "stream",
     "text": [
      "VCP_R\n"
     ]
    },
    {
     "name": "stderr",
     "output_type": "stream",
     "text": [
      "marching cube: 9.69 seconds\n",
      "mesh_to_polydata: 0.02 seconds\n",
      "simplify 0 @ 8196: 0.10 seconds\n",
      "simplify 1 @ 1641: 0.11 seconds\n",
      "simplify 2 @ 328: 0.03 seconds\n",
      "time: 10.58\n"
     ]
    },
    {
     "name": "stdout",
     "output_type": "stream",
     "text": [
      "DC_L\n"
     ]
    },
    {
     "name": "stderr",
     "output_type": "stream",
     "text": [
      "marching cube: 6.43 seconds\n",
      "mesh_to_polydata: 0.01 seconds\n",
      "simplify 0 @ 10389: 0.08 seconds\n",
      "simplify 1 @ 2078: 0.07 seconds\n",
      "simplify 2 @ 416: 0.02 seconds\n",
      "time: 7.71\n"
     ]
    },
    {
     "name": "stdout",
     "output_type": "stream",
     "text": [
      "DC_R\n"
     ]
    },
    {
     "name": "stderr",
     "output_type": "stream",
     "text": [
      "marching cube: 8.52 seconds\n",
      "mesh_to_polydata: 0.03 seconds\n",
      "simplify 0 @ 10205: 0.19 seconds\n",
      "simplify 1 @ 2041: 0.15 seconds\n",
      "simplify 2 @ 409: 0.03 seconds\n",
      "time: 9.50\n"
     ]
    },
    {
     "name": "stdout",
     "output_type": "stream",
     "text": [
      "AP\n"
     ]
    },
    {
     "name": "stderr",
     "output_type": "stream",
     "text": [
      "marching cube: 8.79 seconds\n",
      "mesh_to_polydata: 0.01 seconds\n",
      "simplify 0 @ 3194: 0.04 seconds\n",
      "simplify 1 @ 640: 0.04 seconds\n",
      "time: 10.03\n"
     ]
    },
    {
     "name": "stdout",
     "output_type": "stream",
     "text": [
      "12N\n"
     ]
    },
    {
     "name": "stderr",
     "output_type": "stream",
     "text": [
      "marching cube: 8.79 seconds\n",
      "mesh_to_polydata: 0.02 seconds\n",
      "simplify 0 @ 12327: 0.12 seconds\n",
      "simplify 1 @ 2467: 0.11 seconds\n",
      "simplify 2 @ 495: 0.02 seconds\n",
      "time: 10.20\n"
     ]
    },
    {
     "name": "stdout",
     "output_type": "stream",
     "text": [
      "RtTg\n"
     ]
    },
    {
     "name": "stderr",
     "output_type": "stream",
     "text": [
      "marching cube: 6.37 seconds\n",
      "mesh_to_polydata: 0.03 seconds\n",
      "simplify 0 @ 24854: 0.22 seconds\n",
      "simplify 1 @ 4968: 0.21 seconds\n",
      "simplify 2 @ 993: 0.04 seconds\n",
      "time: 7.53\n"
     ]
    },
    {
     "name": "stdout",
     "output_type": "stream",
     "text": [
      "SC\n"
     ]
    },
    {
     "name": "stderr",
     "output_type": "stream",
     "text": [
      "marching cube: 5.75 seconds\n",
      "mesh_to_polydata: 0.14 seconds\n",
      "simplify 0 @ 125069: 1.09 seconds\n",
      "simplify 1 @ 25023: 1.79 seconds\n",
      "simplify 2 @ 5004: 0.48 seconds\n",
      "time: 9.83\n"
     ]
    },
    {
     "name": "stdout",
     "output_type": "stream",
     "text": [
      "IC\n"
     ]
    },
    {
     "name": "stderr",
     "output_type": "stream",
     "text": [
      "marching cube: 7.21 seconds\n",
      "mesh_to_polydata: 0.09 seconds\n",
      "simplify 0 @ 74448: 0.71 seconds\n",
      "simplify 1 @ 14898: 0.76 seconds\n",
      "simplify 2 @ 2979: 0.15 seconds\n",
      "time: 10.01\n"
     ]
    },
    {
     "name": "stdout",
     "output_type": "stream",
     "text": [
      "5N_L\n"
     ]
    },
    {
     "name": "stderr",
     "output_type": "stream",
     "text": [
      "marching cube: 5.54 seconds\n",
      "mesh_to_polydata: 0.01 seconds\n",
      "simplify 0 @ 12186: 0.09 seconds\n",
      "simplify 1 @ 2416: 0.10 seconds\n",
      "simplify 2 @ 488: 0.02 seconds\n",
      "time: 6.29\n"
     ]
    },
    {
     "name": "stdout",
     "output_type": "stream",
     "text": [
      "5N_R\n"
     ]
    },
    {
     "name": "stderr",
     "output_type": "stream",
     "text": [
      "marching cube: 8.14 seconds\n",
      "mesh_to_polydata: 0.02 seconds\n",
      "simplify 0 @ 11684: 0.10 seconds\n",
      "simplify 1 @ 2313: 0.11 seconds\n",
      "simplify 2 @ 474: 0.02 seconds\n",
      "time: 8.96\n"
     ]
    },
    {
     "name": "stdout",
     "output_type": "stream",
     "text": [
      "6N_L\n"
     ]
    },
    {
     "name": "stderr",
     "output_type": "stream",
     "text": [
      "marching cube: 6.02 seconds\n",
      "mesh_to_polydata: 0.00 seconds\n",
      "simplify 0 @ 768: 0.01 seconds\n",
      "time: 6.68\n"
     ]
    },
    {
     "name": "stdout",
     "output_type": "stream",
     "text": [
      "6N_R\n"
     ]
    },
    {
     "name": "stderr",
     "output_type": "stream",
     "text": [
      "marching cube: 6.15 seconds\n",
      "mesh_to_polydata: 0.00 seconds\n",
      "simplify 0 @ 893: 0.01 seconds\n",
      "time: 6.81\n"
     ]
    },
    {
     "name": "stdout",
     "output_type": "stream",
     "text": [
      "7N_L\n"
     ]
    },
    {
     "name": "stderr",
     "output_type": "stream",
     "text": [
      "marching cube: 6.29 seconds\n",
      "mesh_to_polydata: 0.03 seconds\n",
      "simplify 0 @ 23516: 0.17 seconds\n",
      "simplify 1 @ 4684: 0.19 seconds\n",
      "simplify 2 @ 954: 0.04 seconds\n",
      "time: 7.39\n"
     ]
    },
    {
     "name": "stdout",
     "output_type": "stream",
     "text": [
      "7N_R\n"
     ]
    },
    {
     "name": "stderr",
     "output_type": "stream",
     "text": [
      "marching cube: 5.62 seconds\n",
      "mesh_to_polydata: 0.03 seconds\n",
      "simplify 0 @ 23522: 0.17 seconds\n",
      "simplify 1 @ 4684: 0.20 seconds\n",
      "simplify 2 @ 962: 0.04 seconds\n",
      "time: 6.60\n"
     ]
    },
    {
     "name": "stdout",
     "output_type": "stream",
     "text": [
      "7n_L\n"
     ]
    },
    {
     "name": "stderr",
     "output_type": "stream",
     "text": [
      "marching cube: 8.43 seconds\n",
      "mesh_to_polydata: 0.02 seconds\n",
      "simplify 0 @ 12677: 0.09 seconds\n",
      "simplify 1 @ 2519: 0.10 seconds\n",
      "simplify 2 @ 508: 0.02 seconds\n",
      "time: 9.23\n"
     ]
    },
    {
     "name": "stdout",
     "output_type": "stream",
     "text": [
      "7n_R\n"
     ]
    },
    {
     "name": "stderr",
     "output_type": "stream",
     "text": [
      "marching cube: 6.19 seconds\n",
      "mesh_to_polydata: 0.02 seconds\n",
      "simplify 0 @ 12874: 0.10 seconds\n",
      "simplify 1 @ 2558: 0.11 seconds\n",
      "simplify 2 @ 521: 0.02 seconds\n",
      "time: 7.06\n"
     ]
    },
    {
     "name": "stdout",
     "output_type": "stream",
     "text": [
      "Amb_L\n"
     ]
    },
    {
     "name": "stderr",
     "output_type": "stream",
     "text": [
      "marching cube: 6.03 seconds\n",
      "mesh_to_polydata: 0.00 seconds\n",
      "simplify 0 @ 897: 0.01 seconds\n",
      "time: 6.70\n"
     ]
    },
    {
     "name": "stdout",
     "output_type": "stream",
     "text": [
      "Amb_R\n"
     ]
    },
    {
     "name": "stderr",
     "output_type": "stream",
     "text": [
      "marching cube: 6.06 seconds\n",
      "mesh_to_polydata: 0.00 seconds\n",
      "simplify 0 @ 825: 0.01 seconds\n",
      "time: 6.73\n"
     ]
    },
    {
     "name": "stdout",
     "output_type": "stream",
     "text": [
      "LC_L\n"
     ]
    },
    {
     "name": "stderr",
     "output_type": "stream",
     "text": [
      "marching cube: 6.39 seconds\n",
      "mesh_to_polydata: 0.01 seconds\n",
      "simplify 0 @ 5270: 0.04 seconds\n",
      "simplify 1 @ 1051: 0.04 seconds\n",
      "simplify 2 @ 210: 0.01 seconds\n",
      "time: 7.17\n"
     ]
    },
    {
     "name": "stdout",
     "output_type": "stream",
     "text": [
      "LC_R\n"
     ]
    },
    {
     "name": "stderr",
     "output_type": "stream",
     "text": [
      "marching cube: 9.69 seconds\n",
      "mesh_to_polydata: 0.01 seconds\n",
      "simplify 0 @ 5140: 0.08 seconds\n",
      "simplify 1 @ 1028: 0.07 seconds\n",
      "simplify 2 @ 207: 0.02 seconds\n",
      "time: 10.53\n"
     ]
    },
    {
     "name": "stdout",
     "output_type": "stream",
     "text": [
      "LRt_L\n"
     ]
    },
    {
     "name": "stderr",
     "output_type": "stream",
     "text": [
      "marching cube: 6.73 seconds\n",
      "mesh_to_polydata: 0.02 seconds\n",
      "simplify 0 @ 15862: 0.13 seconds\n",
      "simplify 1 @ 3159: 0.13 seconds\n",
      "simplify 2 @ 642: 0.03 seconds\n",
      "time: 8.11\n"
     ]
    },
    {
     "name": "stdout",
     "output_type": "stream",
     "text": [
      "LRt_R\n"
     ]
    },
    {
     "name": "stderr",
     "output_type": "stream",
     "text": [
      "marching cube: 6.35 seconds\n",
      "mesh_to_polydata: 0.02 seconds\n",
      "simplify 0 @ 18048: 0.14 seconds\n",
      "simplify 1 @ 3588: 0.14 seconds\n",
      "simplify 2 @ 727: 0.03 seconds\n",
      "time: 7.46\n"
     ]
    },
    {
     "name": "stdout",
     "output_type": "stream",
     "text": [
      "Pn_L\n"
     ]
    },
    {
     "name": "stderr",
     "output_type": "stream",
     "text": [
      "marching cube: 6.42 seconds\n",
      "mesh_to_polydata: 0.03 seconds\n",
      "simplify 0 @ 29573: 0.21 seconds\n",
      "simplify 1 @ 5883: 0.27 seconds\n",
      "simplify 2 @ 1197: 0.05 seconds\n",
      "time: 7.58\n"
     ]
    },
    {
     "name": "stdout",
     "output_type": "stream",
     "text": [
      "Pn_R\n"
     ]
    },
    {
     "name": "stderr",
     "output_type": "stream",
     "text": [
      "marching cube: 6.28 seconds\n",
      "mesh_to_polydata: 0.03 seconds\n",
      "simplify 0 @ 29607: 0.21 seconds\n",
      "simplify 1 @ 5863: 0.28 seconds\n",
      "simplify 2 @ 1182: 0.05 seconds\n",
      "time: 7.45\n"
     ]
    },
    {
     "name": "stdout",
     "output_type": "stream",
     "text": [
      "Tz_L\n"
     ]
    },
    {
     "name": "stderr",
     "output_type": "stream",
     "text": [
      "marching cube: 6.32 seconds\n",
      "mesh_to_polydata: 0.02 seconds\n",
      "simplify 0 @ 7316: 0.12 seconds\n",
      "simplify 1 @ 1461: 0.12 seconds\n",
      "simplify 2 @ 297: 0.03 seconds\n",
      "time: 7.17\n"
     ]
    },
    {
     "name": "stdout",
     "output_type": "stream",
     "text": [
      "Tz_R\n"
     ]
    },
    {
     "name": "stderr",
     "output_type": "stream",
     "text": [
      "marching cube: 9.50 seconds\n",
      "mesh_to_polydata: 0.01 seconds\n",
      "simplify 0 @ 7033: 0.06 seconds\n",
      "simplify 1 @ 1400: 0.06 seconds\n",
      "simplify 2 @ 288: 0.01 seconds\n",
      "time: 10.95\n"
     ]
    },
    {
     "name": "stdout",
     "output_type": "stream",
     "text": [
      "VLL_L\n"
     ]
    },
    {
     "name": "stderr",
     "output_type": "stream",
     "text": [
      "marching cube: 6.11 seconds\n",
      "mesh_to_polydata: 0.02 seconds\n",
      "simplify 0 @ 16159: 0.14 seconds\n",
      "simplify 1 @ 3215: 0.14 seconds\n",
      "simplify 2 @ 653: 0.03 seconds\n",
      "time: 7.06\n"
     ]
    },
    {
     "name": "stdout",
     "output_type": "stream",
     "text": [
      "VLL_R\n"
     ]
    },
    {
     "name": "stderr",
     "output_type": "stream",
     "text": [
      "marching cube: 6.15 seconds\n",
      "mesh_to_polydata: 0.02 seconds\n",
      "simplify 0 @ 15986: 0.14 seconds\n",
      "simplify 1 @ 3181: 0.14 seconds\n",
      "simplify 2 @ 647: 0.03 seconds\n",
      "time: 7.12\n"
     ]
    },
    {
     "name": "stdout",
     "output_type": "stream",
     "text": [
      "RMC_L\n"
     ]
    },
    {
     "name": "stderr",
     "output_type": "stream",
     "text": [
      "marching cube: 10.69 seconds\n",
      "mesh_to_polydata: 0.01 seconds\n",
      "simplify 0 @ 9095: 0.08 seconds\n",
      "simplify 1 @ 1813: 0.08 seconds\n",
      "simplify 2 @ 367: 0.02 seconds\n",
      "time: 11.62\n"
     ]
    },
    {
     "name": "stdout",
     "output_type": "stream",
     "text": [
      "RMC_R\n"
     ]
    },
    {
     "name": "stderr",
     "output_type": "stream",
     "text": [
      "marching cube: 6.22 seconds\n",
      "mesh_to_polydata: 0.01 seconds\n",
      "simplify 0 @ 9481: 0.07 seconds\n",
      "simplify 1 @ 1884: 0.07 seconds\n",
      "simplify 2 @ 381: 0.02 seconds\n",
      "time: 7.13\n"
     ]
    },
    {
     "name": "stdout",
     "output_type": "stream",
     "text": [
      "SNC_L\n"
     ]
    },
    {
     "name": "stderr",
     "output_type": "stream",
     "text": [
      "marching cube: 6.11 seconds\n",
      "mesh_to_polydata: 0.01 seconds\n",
      "simplify 0 @ 7721: 0.05 seconds\n",
      "simplify 1 @ 1493: 0.05 seconds\n",
      "simplify 2 @ 301: 0.01 seconds\n",
      "time: 6.88\n"
     ]
    },
    {
     "name": "stdout",
     "output_type": "stream",
     "text": [
      "SNC_R\n"
     ]
    },
    {
     "name": "stderr",
     "output_type": "stream",
     "text": [
      "marching cube: 6.45 seconds\n",
      "mesh_to_polydata: 0.01 seconds\n",
      "simplify 0 @ 7758: 0.05 seconds\n",
      "simplify 1 @ 1503: 0.05 seconds\n",
      "simplify 2 @ 305: 0.01 seconds\n",
      "time: 7.16\n"
     ]
    },
    {
     "name": "stdout",
     "output_type": "stream",
     "text": [
      "SNR_L\n"
     ]
    },
    {
     "name": "stderr",
     "output_type": "stream",
     "text": [
      "marching cube: 8.33 seconds\n",
      "mesh_to_polydata: 0.15 seconds\n",
      "simplify 0 @ 59144: 0.86 seconds\n",
      "simplify 1 @ 11785: 0.98 seconds\n",
      "simplify 2 @ 2392: 0.20 seconds\n",
      "time: 11.11\n"
     ]
    },
    {
     "name": "stdout",
     "output_type": "stream",
     "text": [
      "SNR_R\n"
     ]
    },
    {
     "name": "stderr",
     "output_type": "stream",
     "text": [
      "marching cube: 6.95 seconds\n",
      "mesh_to_polydata: 0.06 seconds\n",
      "simplify 0 @ 60063: 0.43 seconds\n",
      "simplify 1 @ 11975: 0.58 seconds\n",
      "simplify 2 @ 2458: 0.11 seconds\n",
      "time: 9.22\n"
     ]
    },
    {
     "name": "stdout",
     "output_type": "stream",
     "text": [
      "3N_L\n"
     ]
    },
    {
     "name": "stderr",
     "output_type": "stream",
     "text": [
      "marching cube: 6.36 seconds\n",
      "mesh_to_polydata: 0.00 seconds\n",
      "simplify 0 @ 3350: 0.02 seconds\n",
      "simplify 1 @ 671: 0.02 seconds\n",
      "time: 6.98\n"
     ]
    },
    {
     "name": "stdout",
     "output_type": "stream",
     "text": [
      "3N_R\n"
     ]
    },
    {
     "name": "stderr",
     "output_type": "stream",
     "text": [
      "marching cube: 6.52 seconds\n",
      "mesh_to_polydata: 0.00 seconds\n",
      "simplify 0 @ 3580: 0.03 seconds\n",
      "simplify 1 @ 705: 0.02 seconds\n",
      "time: 7.15\n"
     ]
    },
    {
     "name": "stdout",
     "output_type": "stream",
     "text": [
      "4N_L\n"
     ]
    },
    {
     "name": "stderr",
     "output_type": "stream",
     "text": [
      "marching cube: 6.71 seconds\n",
      "mesh_to_polydata: 0.00 seconds\n",
      "simplify 0 @ 413: 0.01 seconds\n",
      "time: 7.31\n"
     ]
    },
    {
     "name": "stdout",
     "output_type": "stream",
     "text": [
      "4N_R\n"
     ]
    },
    {
     "name": "stderr",
     "output_type": "stream",
     "text": [
      "marching cube: 9.54 seconds\n",
      "mesh_to_polydata: 0.00 seconds\n",
      "simplify 0 @ 425: 0.00 seconds\n",
      "time: 10.87\n"
     ]
    },
    {
     "name": "stdout",
     "output_type": "stream",
     "text": [
      "Sp5I_L\n"
     ]
    },
    {
     "name": "stderr",
     "output_type": "stream",
     "text": [
      "marching cube: 8.95 seconds\n",
      "mesh_to_polydata: 0.05 seconds\n",
      "simplify 0 @ 22448: 0.30 seconds\n",
      "simplify 1 @ 4420: 0.34 seconds\n",
      "simplify 2 @ 872: 0.07 seconds\n",
      "time: 10.63\n"
     ]
    },
    {
     "name": "stdout",
     "output_type": "stream",
     "text": [
      "Sp5I_R\n"
     ]
    },
    {
     "name": "stderr",
     "output_type": "stream",
     "text": [
      "marching cube: 6.80 seconds\n",
      "mesh_to_polydata: 0.02 seconds\n",
      "simplify 0 @ 18615: 0.16 seconds\n",
      "simplify 1 @ 3694: 0.16 seconds\n",
      "simplify 2 @ 744: 0.03 seconds\n",
      "time: 8.27\n"
     ]
    },
    {
     "name": "stdout",
     "output_type": "stream",
     "text": [
      "Sp5O_L\n"
     ]
    },
    {
     "name": "stderr",
     "output_type": "stream",
     "text": [
      "marching cube: 6.37 seconds\n",
      "mesh_to_polydata: 0.03 seconds\n",
      "simplify 0 @ 24159: 0.18 seconds\n",
      "simplify 1 @ 4773: 0.21 seconds\n",
      "simplify 2 @ 956: 0.05 seconds\n",
      "time: 7.50\n"
     ]
    },
    {
     "name": "stdout",
     "output_type": "stream",
     "text": [
      "Sp5O_R\n"
     ]
    },
    {
     "name": "stderr",
     "output_type": "stream",
     "text": [
      "marching cube: 6.32 seconds\n",
      "mesh_to_polydata: 0.03 seconds\n",
      "simplify 0 @ 24034: 0.18 seconds\n",
      "simplify 1 @ 4758: 0.20 seconds\n",
      "simplify 2 @ 945: 0.04 seconds\n",
      "time: 7.36\n"
     ]
    },
    {
     "name": "stdout",
     "output_type": "stream",
     "text": [
      "Sp5C_L\n"
     ]
    },
    {
     "name": "stderr",
     "output_type": "stream",
     "text": [
      "marching cube: 8.06 seconds\n",
      "mesh_to_polydata: 0.15 seconds\n",
      "simplify 0 @ 55598: 0.97 seconds\n",
      "simplify 1 @ 11044: 1.12 seconds\n",
      "simplify 2 @ 2238: 0.19 seconds\n",
      "time: 11.09\n"
     ]
    },
    {
     "name": "stdout",
     "output_type": "stream",
     "text": [
      "Sp5C_R\n"
     ]
    },
    {
     "name": "stderr",
     "output_type": "stream",
     "text": [
      "marching cube: 7.51 seconds\n",
      "mesh_to_polydata: 0.06 seconds\n",
      "simplify 0 @ 58138: 0.44 seconds\n",
      "simplify 1 @ 11528: 0.62 seconds\n",
      "simplify 2 @ 2337: 0.11 seconds\n",
      "time: 9.85\n"
     ]
    },
    {
     "name": "stdout",
     "output_type": "stream",
     "text": [
      "PBG_L\n"
     ]
    },
    {
     "name": "stderr",
     "output_type": "stream",
     "text": [
      "marching cube: 6.38 seconds\n",
      "mesh_to_polydata: 0.00 seconds\n",
      "simplify 0 @ 2198: 0.02 seconds\n",
      "simplify 1 @ 434: 0.01 seconds\n",
      "time: 6.99\n"
     ]
    },
    {
     "name": "stdout",
     "output_type": "stream",
     "text": [
      "PBG_R\n"
     ]
    },
    {
     "name": "stderr",
     "output_type": "stream",
     "text": [
      "marching cube: 6.36 seconds\n",
      "mesh_to_polydata: 0.00 seconds\n",
      "simplify 0 @ 1958: 0.01 seconds\n",
      "simplify 1 @ 387: 0.01 seconds\n",
      "time: 6.97\n"
     ]
    },
    {
     "name": "stdout",
     "output_type": "stream",
     "text": [
      "10N_L\n"
     ]
    },
    {
     "name": "stderr",
     "output_type": "stream",
     "text": [
      "marching cube: 6.27 seconds\n",
      "mesh_to_polydata: 0.00 seconds\n",
      "simplify 0 @ 3298: 0.03 seconds\n",
      "simplify 1 @ 653: 0.02 seconds\n",
      "time: 6.90\n"
     ]
    },
    {
     "name": "stdout",
     "output_type": "stream",
     "text": [
      "10N_R\n"
     ]
    },
    {
     "name": "stderr",
     "output_type": "stream",
     "text": [
      "marching cube: 6.15 seconds\n",
      "mesh_to_polydata: 0.00 seconds\n",
      "simplify 0 @ 3523: 0.03 seconds\n",
      "simplify 1 @ 694: 0.03 seconds\n",
      "time: 6.85\n"
     ]
    },
    {
     "name": "stdout",
     "output_type": "stream",
     "text": [
      "VCA_L\n"
     ]
    },
    {
     "name": "stderr",
     "output_type": "stream",
     "text": [
      "marching cube: 6.60 seconds\n",
      "mesh_to_polydata: 0.03 seconds\n",
      "simplify 0 @ 19765: 0.20 seconds\n",
      "simplify 1 @ 3933: 0.19 seconds\n",
      "simplify 2 @ 797: 0.04 seconds\n",
      "time: 7.71\n"
     ]
    },
    {
     "name": "stdout",
     "output_type": "stream",
     "text": [
      "VCA_R\n"
     ]
    },
    {
     "name": "stderr",
     "output_type": "stream",
     "text": [
      "marching cube: 10.65 seconds\n",
      "mesh_to_polydata: 0.03 seconds\n",
      "simplify 0 @ 20224: 0.18 seconds\n",
      "simplify 1 @ 4020: 0.19 seconds\n",
      "simplify 2 @ 822: 0.04 seconds\n",
      "time: 11.75\n"
     ]
    },
    {
     "name": "stdout",
     "output_type": "stream",
     "text": [
      "VCP_L\n"
     ]
    },
    {
     "name": "stderr",
     "output_type": "stream",
     "text": [
      "marching cube: 8.42 seconds\n",
      "mesh_to_polydata: 0.01 seconds\n",
      "simplify 0 @ 10583: 0.09 seconds\n",
      "simplify 1 @ 2089: 0.09 seconds\n",
      "simplify 2 @ 425: 0.02 seconds\n",
      "time: 9.29\n"
     ]
    },
    {
     "name": "stdout",
     "output_type": "stream",
     "text": [
      "VCP_R\n"
     ]
    },
    {
     "name": "stderr",
     "output_type": "stream",
     "text": [
      "marching cube: 5.99 seconds\n",
      "mesh_to_polydata: 0.01 seconds\n",
      "simplify 0 @ 10668: 0.09 seconds\n",
      "simplify 1 @ 2112: 0.09 seconds\n",
      "simplify 2 @ 422: 0.02 seconds\n",
      "time: 6.86\n"
     ]
    },
    {
     "name": "stdout",
     "output_type": "stream",
     "text": [
      "DC_L\n"
     ]
    },
    {
     "name": "stderr",
     "output_type": "stream",
     "text": [
      "marching cube: 6.54 seconds\n",
      "mesh_to_polydata: 0.02 seconds\n",
      "simplify 0 @ 15842: 0.16 seconds\n",
      "simplify 1 @ 3157: 0.15 seconds\n",
      "simplify 2 @ 635: 0.03 seconds\n",
      "time: 7.58\n"
     ]
    },
    {
     "name": "stdout",
     "output_type": "stream",
     "text": [
      "DC_R\n"
     ]
    },
    {
     "name": "stderr",
     "output_type": "stream",
     "text": [
      "marching cube: 10.48 seconds\n",
      "mesh_to_polydata: 0.02 seconds\n",
      "simplify 0 @ 16359: 0.13 seconds\n",
      "simplify 1 @ 3246: 0.15 seconds\n",
      "simplify 2 @ 661: 0.03 seconds\n",
      "time: 11.47\n"
     ]
    },
    {
     "name": "stdout",
     "output_type": "stream",
     "text": [
      "AP\n"
     ]
    },
    {
     "name": "stderr",
     "output_type": "stream",
     "text": [
      "marching cube: 8.70 seconds\n",
      "mesh_to_polydata: 0.01 seconds\n",
      "simplify 0 @ 3776: 0.03 seconds\n",
      "simplify 1 @ 755: 0.03 seconds\n",
      "time: 9.42\n"
     ]
    },
    {
     "name": "stdout",
     "output_type": "stream",
     "text": [
      "12N\n"
     ]
    },
    {
     "name": "stderr",
     "output_type": "stream",
     "text": [
      "marching cube: 8.67 seconds\n",
      "mesh_to_polydata: 0.05 seconds\n",
      "simplify 0 @ 21313: 0.31 seconds\n",
      "simplify 1 @ 4251: 0.32 seconds\n",
      "simplify 2 @ 874: 0.07 seconds\n",
      "time: 10.07\n"
     ]
    },
    {
     "name": "stdout",
     "output_type": "stream",
     "text": [
      "RtTg\n"
     ]
    },
    {
     "name": "stderr",
     "output_type": "stream",
     "text": [
      "marching cube: 7.46 seconds\n",
      "mesh_to_polydata: 0.05 seconds\n",
      "simplify 0 @ 41163: 0.35 seconds\n",
      "simplify 1 @ 8176: 0.38 seconds\n",
      "simplify 2 @ 1641: 0.07 seconds\n",
      "time: 9.47\n"
     ]
    },
    {
     "name": "stdout",
     "output_type": "stream",
     "text": [
      "SC\n"
     ]
    },
    {
     "name": "stderr",
     "output_type": "stream",
     "text": [
      "marching cube: 8.62 seconds\n",
      "mesh_to_polydata: 1.04 seconds\n",
      "simplify 0 @ 411437: 4.95 seconds\n",
      "simplify 1 @ 81619: 5.66 seconds\n",
      "simplify 2 @ 16851: 1.10 seconds\n",
      "time: 22.01\n"
     ]
    },
    {
     "name": "stdout",
     "output_type": "stream",
     "text": [
      "IC\n"
     ]
    },
    {
     "name": "stderr",
     "output_type": "stream",
     "text": [
      "marching cube: 10.39 seconds\n",
      "mesh_to_polydata: 0.48 seconds\n",
      "simplify 0 @ 226199: 2.11 seconds\n",
      "simplify 1 @ 44863: 3.03 seconds\n",
      "simplify 2 @ 9214: 0.56 seconds\n",
      "time: 17.20\n"
     ]
    },
    {
     "name": "stdout",
     "output_type": "stream",
     "text": [
      "5N_L\n"
     ]
    },
    {
     "name": "stderr",
     "output_type": "stream",
     "text": [
      "marching cube: 7.19 seconds\n",
      "mesh_to_polydata: 0.02 seconds\n",
      "simplify 0 @ 7537: 0.12 seconds\n",
      "simplify 1 @ 1510: 0.12 seconds\n",
      "simplify 2 @ 303: 0.03 seconds\n",
      "time: 8.02\n"
     ]
    },
    {
     "name": "stdout",
     "output_type": "stream",
     "text": [
      "5N_R\n"
     ]
    },
    {
     "name": "stderr",
     "output_type": "stream",
     "text": [
      "marching cube: 8.95 seconds\n",
      "mesh_to_polydata: 0.01 seconds\n",
      "simplify 0 @ 7574: 0.05 seconds\n",
      "simplify 1 @ 1516: 0.05 seconds\n",
      "simplify 2 @ 304: 0.01 seconds\n",
      "time: 10.39\n"
     ]
    },
    {
     "name": "stdout",
     "output_type": "stream",
     "text": [
      "6N_L\n"
     ]
    },
    {
     "name": "stderr",
     "output_type": "stream",
     "text": [
      "marching cube: 6.18 seconds\n",
      "mesh_to_polydata: 0.00 seconds\n",
      "simplify 0 @ 749: 0.01 seconds\n",
      "time: 6.76\n"
     ]
    },
    {
     "name": "stdout",
     "output_type": "stream",
     "text": [
      "6N_R\n"
     ]
    },
    {
     "name": "stderr",
     "output_type": "stream",
     "text": [
      "marching cube: 6.08 seconds\n",
      "mesh_to_polydata: 0.00 seconds\n",
      "simplify 0 @ 755: 0.01 seconds\n",
      "time: 6.74\n"
     ]
    },
    {
     "name": "stdout",
     "output_type": "stream",
     "text": [
      "7N_L\n"
     ]
    },
    {
     "name": "stderr",
     "output_type": "stream",
     "text": [
      "marching cube: 10.59 seconds\n",
      "mesh_to_polydata: 0.02 seconds\n",
      "simplify 0 @ 12930: 0.12 seconds\n",
      "simplify 1 @ 2587: 0.12 seconds\n",
      "simplify 2 @ 519: 0.03 seconds\n",
      "time: 11.54\n"
     ]
    },
    {
     "name": "stdout",
     "output_type": "stream",
     "text": [
      "7N_R\n"
     ]
    },
    {
     "name": "stderr",
     "output_type": "stream",
     "text": [
      "marching cube: 6.04 seconds\n",
      "mesh_to_polydata: 0.01 seconds\n",
      "simplify 0 @ 12841: 0.09 seconds\n",
      "simplify 1 @ 2569: 0.09 seconds\n",
      "simplify 2 @ 515: 0.02 seconds\n",
      "time: 6.94\n"
     ]
    },
    {
     "name": "stdout",
     "output_type": "stream",
     "text": [
      "7n_L\n"
     ]
    },
    {
     "name": "stderr",
     "output_type": "stream",
     "text": [
      "marching cube: 9.82 seconds\n",
      "mesh_to_polydata: 0.02 seconds\n",
      "simplify 0 @ 9233: 0.13 seconds\n",
      "simplify 1 @ 1848: 0.13 seconds\n",
      "simplify 2 @ 371: 0.03 seconds\n",
      "time: 10.78\n"
     ]
    },
    {
     "name": "stdout",
     "output_type": "stream",
     "text": [
      "7n_R\n"
     ]
    },
    {
     "name": "stderr",
     "output_type": "stream",
     "text": [
      "marching cube: 6.64 seconds\n",
      "mesh_to_polydata: 0.01 seconds\n",
      "simplify 0 @ 9420: 0.07 seconds\n",
      "simplify 1 @ 1885: 0.08 seconds\n",
      "simplify 2 @ 378: 0.02 seconds\n",
      "time: 7.80\n"
     ]
    },
    {
     "name": "stdout",
     "output_type": "stream",
     "text": [
      "Amb_L\n"
     ]
    },
    {
     "name": "stderr",
     "output_type": "stream",
     "text": [
      "marching cube: 6.37 seconds\n",
      "mesh_to_polydata: 0.00 seconds\n",
      "simplify 0 @ 985: 0.01 seconds\n",
      "time: 6.98\n"
     ]
    },
    {
     "name": "stdout",
     "output_type": "stream",
     "text": [
      "Amb_R\n"
     ]
    },
    {
     "name": "stderr",
     "output_type": "stream",
     "text": [
      "marching cube: 8.10 seconds\n",
      "mesh_to_polydata: 0.00 seconds\n",
      "simplify 0 @ 918: 0.02 seconds\n",
      "time: 8.72\n"
     ]
    },
    {
     "name": "stdout",
     "output_type": "stream",
     "text": [
      "LC_L\n"
     ]
    },
    {
     "name": "stderr",
     "output_type": "stream",
     "text": [
      "marching cube: 8.48 seconds\n",
      "mesh_to_polydata: 0.01 seconds\n",
      "simplify 0 @ 3700: 0.06 seconds\n",
      "simplify 1 @ 741: 0.05 seconds\n",
      "time: 9.90\n"
     ]
    },
    {
     "name": "stdout",
     "output_type": "stream",
     "text": [
      "LC_R\n"
     ]
    },
    {
     "name": "stderr",
     "output_type": "stream",
     "text": [
      "marching cube: 7.37 seconds\n",
      "mesh_to_polydata: 0.00 seconds\n",
      "simplify 0 @ 3783: 0.03 seconds\n",
      "simplify 1 @ 758: 0.02 seconds\n",
      "time: 8.53\n"
     ]
    },
    {
     "name": "stdout",
     "output_type": "stream",
     "text": [
      "LRt_L\n"
     ]
    },
    {
     "name": "stderr",
     "output_type": "stream",
     "text": [
      "marching cube: 6.59 seconds\n",
      "mesh_to_polydata: 0.03 seconds\n",
      "simplify 0 @ 11929: 0.19 seconds\n",
      "simplify 1 @ 2387: 0.20 seconds\n",
      "simplify 2 @ 479: 0.05 seconds\n",
      "time: 7.63\n"
     ]
    },
    {
     "name": "stdout",
     "output_type": "stream",
     "text": [
      "LRt_R\n"
     ]
    },
    {
     "name": "stderr",
     "output_type": "stream",
     "text": [
      "marching cube: 9.51 seconds\n",
      "mesh_to_polydata: 0.01 seconds\n",
      "simplify 0 @ 11435: 0.10 seconds\n",
      "simplify 1 @ 2288: 0.09 seconds\n",
      "simplify 2 @ 459: 0.02 seconds\n",
      "time: 11.04\n"
     ]
    },
    {
     "name": "stdout",
     "output_type": "stream",
     "text": [
      "Pn_L\n"
     ]
    },
    {
     "name": "stderr",
     "output_type": "stream",
     "text": [
      "marching cube: 6.16 seconds\n",
      "mesh_to_polydata: 0.02 seconds\n",
      "simplify 0 @ 17525: 0.14 seconds\n",
      "simplify 1 @ 3508: 0.16 seconds\n",
      "simplify 2 @ 702: 0.03 seconds\n",
      "time: 7.09\n"
     ]
    },
    {
     "name": "stdout",
     "output_type": "stream",
     "text": [
      "Pn_R\n"
     ]
    },
    {
     "name": "stderr",
     "output_type": "stream",
     "text": [
      "marching cube: 6.18 seconds\n",
      "mesh_to_polydata: 0.02 seconds\n",
      "simplify 0 @ 16742: 0.15 seconds\n",
      "simplify 1 @ 3351: 0.15 seconds\n",
      "simplify 2 @ 671: 0.03 seconds\n",
      "time: 7.18\n"
     ]
    },
    {
     "name": "stdout",
     "output_type": "stream",
     "text": [
      "Tz_L\n"
     ]
    },
    {
     "name": "stderr",
     "output_type": "stream",
     "text": [
      "marching cube: 10.67 seconds\n",
      "mesh_to_polydata: 0.01 seconds\n",
      "simplify 0 @ 5325: 0.04 seconds\n",
      "simplify 1 @ 1066: 0.04 seconds\n",
      "simplify 2 @ 214: 0.01 seconds\n",
      "time: 11.46\n"
     ]
    },
    {
     "name": "stdout",
     "output_type": "stream",
     "text": [
      "Tz_R\n"
     ]
    },
    {
     "name": "stderr",
     "output_type": "stream",
     "text": [
      "marching cube: 6.02 seconds\n",
      "mesh_to_polydata: 0.01 seconds\n",
      "simplify 0 @ 5416: 0.08 seconds\n",
      "simplify 1 @ 1084: 0.04 seconds\n",
      "simplify 2 @ 218: 0.01 seconds\n",
      "time: 6.83\n"
     ]
    },
    {
     "name": "stdout",
     "output_type": "stream",
     "text": [
      "VLL_L\n"
     ]
    },
    {
     "name": "stderr",
     "output_type": "stream",
     "text": [
      "marching cube: 10.67 seconds\n",
      "mesh_to_polydata: 0.02 seconds\n",
      "simplify 0 @ 11219: 0.11 seconds\n",
      "simplify 1 @ 2244: 0.11 seconds\n",
      "simplify 2 @ 450: 0.02 seconds\n",
      "time: 11.60\n"
     ]
    },
    {
     "name": "stdout",
     "output_type": "stream",
     "text": [
      "VLL_R\n"
     ]
    },
    {
     "name": "stderr",
     "output_type": "stream",
     "text": [
      "marching cube: 6.27 seconds\n",
      "mesh_to_polydata: 0.01 seconds\n",
      "simplify 0 @ 11594: 0.09 seconds\n",
      "simplify 1 @ 2320: 0.08 seconds\n",
      "simplify 2 @ 465: 0.02 seconds\n",
      "time: 7.13\n"
     ]
    },
    {
     "name": "stdout",
     "output_type": "stream",
     "text": [
      "RMC_L\n"
     ]
    },
    {
     "name": "stderr",
     "output_type": "stream",
     "text": [
      "marching cube: 6.30 seconds\n",
      "mesh_to_polydata: 0.01 seconds\n",
      "simplify 0 @ 6247: 0.04 seconds\n",
      "simplify 1 @ 1251: 0.04 seconds\n",
      "simplify 2 @ 251: 0.01 seconds\n",
      "time: 6.98\n"
     ]
    },
    {
     "name": "stdout",
     "output_type": "stream",
     "text": [
      "RMC_R\n"
     ]
    },
    {
     "name": "stderr",
     "output_type": "stream",
     "text": [
      "marching cube: 6.42 seconds\n",
      "mesh_to_polydata: 0.01 seconds\n",
      "simplify 0 @ 6300: 0.05 seconds\n",
      "simplify 1 @ 1262: 0.04 seconds\n",
      "simplify 2 @ 253: 0.01 seconds\n",
      "time: 7.14\n"
     ]
    },
    {
     "name": "stdout",
     "output_type": "stream",
     "text": [
      "SNC_L\n"
     ]
    },
    {
     "name": "stderr",
     "output_type": "stream",
     "text": [
      "marching cube: 8.10 seconds\n",
      "mesh_to_polydata: 0.02 seconds\n",
      "simplify 0 @ 6694: 0.11 seconds\n",
      "simplify 1 @ 1340: 0.10 seconds\n",
      "simplify 2 @ 269: 0.02 seconds\n",
      "time: 8.99\n"
     ]
    },
    {
     "name": "stdout",
     "output_type": "stream",
     "text": [
      "SNC_R\n"
     ]
    },
    {
     "name": "stderr",
     "output_type": "stream",
     "text": [
      "marching cube: 9.24 seconds\n",
      "mesh_to_polydata: 0.01 seconds\n",
      "simplify 0 @ 6868: 0.10 seconds\n",
      "simplify 1 @ 1375: 0.10 seconds\n",
      "simplify 2 @ 276: 0.02 seconds\n",
      "time: 10.78\n"
     ]
    },
    {
     "name": "stdout",
     "output_type": "stream",
     "text": [
      "SNR_L\n"
     ]
    },
    {
     "name": "stderr",
     "output_type": "stream",
     "text": [
      "marching cube: 8.91 seconds\n",
      "mesh_to_polydata: 0.06 seconds\n",
      "simplify 0 @ 30771: 0.37 seconds\n",
      "simplify 1 @ 6155: 0.35 seconds\n",
      "simplify 2 @ 1232: 0.07 seconds\n",
      "time: 10.91\n"
     ]
    },
    {
     "name": "stdout",
     "output_type": "stream",
     "text": [
      "SNR_R\n"
     ]
    },
    {
     "name": "stderr",
     "output_type": "stream",
     "text": [
      "marching cube: 8.48 seconds\n",
      "mesh_to_polydata: 0.04 seconds\n",
      "simplify 0 @ 30366: 0.25 seconds\n",
      "simplify 1 @ 6076: 0.28 seconds\n",
      "simplify 2 @ 1216: 0.06 seconds\n",
      "time: 9.77\n"
     ]
    },
    {
     "name": "stdout",
     "output_type": "stream",
     "text": [
      "3N_L\n"
     ]
    },
    {
     "name": "stderr",
     "output_type": "stream",
     "text": [
      "marching cube: 6.04 seconds\n",
      "mesh_to_polydata: 0.00 seconds\n",
      "simplify 0 @ 2586: 0.02 seconds\n",
      "simplify 1 @ 518: 0.02 seconds\n",
      "time: 6.73\n"
     ]
    },
    {
     "name": "stdout",
     "output_type": "stream",
     "text": [
      "3N_R\n"
     ]
    },
    {
     "name": "stderr",
     "output_type": "stream",
     "text": [
      "marching cube: 10.42 seconds\n",
      "mesh_to_polydata: 0.00 seconds\n",
      "simplify 0 @ 2327: 0.02 seconds\n",
      "simplify 1 @ 467: 0.02 seconds\n",
      "time: 11.12\n"
     ]
    },
    {
     "name": "stdout",
     "output_type": "stream",
     "text": [
      "4N_L\n"
     ]
    },
    {
     "name": "stderr",
     "output_type": "stream",
     "text": [
      "marching cube: 6.17 seconds\n",
      "mesh_to_polydata: 0.00 seconds\n",
      "simplify 0 @ 368: 0.00 seconds\n",
      "time: 6.85\n"
     ]
    },
    {
     "name": "stdout",
     "output_type": "stream",
     "text": [
      "4N_R\n"
     ]
    },
    {
     "name": "stderr",
     "output_type": "stream",
     "text": [
      "marching cube: 6.24 seconds\n",
      "mesh_to_polydata: 0.00 seconds\n",
      "simplify 0 @ 363: 0.00 seconds\n",
      "time: 6.82\n"
     ]
    },
    {
     "name": "stdout",
     "output_type": "stream",
     "text": [
      "Sp5I_L\n"
     ]
    },
    {
     "name": "stderr",
     "output_type": "stream",
     "text": [
      "marching cube: 7.49 seconds\n",
      "mesh_to_polydata: 0.03 seconds\n",
      "simplify 0 @ 12206: 0.22 seconds\n",
      "simplify 1 @ 2444: 0.21 seconds\n",
      "simplify 2 @ 490: 0.05 seconds\n",
      "time: 8.58\n"
     ]
    },
    {
     "name": "stdout",
     "output_type": "stream",
     "text": [
      "Sp5I_R\n"
     ]
    },
    {
     "name": "stderr",
     "output_type": "stream",
     "text": [
      "marching cube: 8.61 seconds\n",
      "mesh_to_polydata: 0.03 seconds\n",
      "simplify 0 @ 13234: 0.20 seconds\n",
      "simplify 1 @ 2648: 0.19 seconds\n",
      "simplify 2 @ 531: 0.04 seconds\n",
      "time: 10.38\n"
     ]
    },
    {
     "name": "stdout",
     "output_type": "stream",
     "text": [
      "Sp5O_L\n"
     ]
    },
    {
     "name": "stderr",
     "output_type": "stream",
     "text": [
      "marching cube: 7.28 seconds\n",
      "mesh_to_polydata: 0.03 seconds\n",
      "simplify 0 @ 16291: 0.13 seconds\n",
      "simplify 1 @ 3252: 0.13 seconds\n",
      "simplify 2 @ 648: 0.03 seconds\n",
      "time: 8.70\n"
     ]
    },
    {
     "name": "stdout",
     "output_type": "stream",
     "text": [
      "Sp5O_R\n"
     ]
    },
    {
     "name": "stderr",
     "output_type": "stream",
     "text": [
      "marching cube: 7.77 seconds\n",
      "mesh_to_polydata: 0.04 seconds\n",
      "simplify 0 @ 13748: 0.32 seconds\n",
      "simplify 1 @ 2747: 0.27 seconds\n",
      "simplify 2 @ 550: 0.05 seconds\n",
      "time: 9.04\n"
     ]
    },
    {
     "name": "stdout",
     "output_type": "stream",
     "text": [
      "Sp5C_L\n"
     ]
    },
    {
     "name": "stderr",
     "output_type": "stream",
     "text": [
      "marching cube: 8.99 seconds\n",
      "mesh_to_polydata: 0.07 seconds\n",
      "simplify 0 @ 30084: 0.44 seconds\n",
      "simplify 1 @ 6013: 0.59 seconds\n",
      "simplify 2 @ 1204: 0.11 seconds\n",
      "time: 11.49\n"
     ]
    },
    {
     "name": "stdout",
     "output_type": "stream",
     "text": [
      "Sp5C_R\n"
     ]
    },
    {
     "name": "stderr",
     "output_type": "stream",
     "text": [
      "marching cube: 8.83 seconds\n",
      "mesh_to_polydata: 0.09 seconds\n",
      "simplify 0 @ 31783: 0.27 seconds\n",
      "simplify 1 @ 6361: 0.32 seconds\n",
      "simplify 2 @ 1272: 0.07 seconds\n",
      "time: 10.70\n"
     ]
    },
    {
     "name": "stdout",
     "output_type": "stream",
     "text": [
      "PBG_L\n"
     ]
    },
    {
     "name": "stderr",
     "output_type": "stream",
     "text": [
      "marching cube: 8.40 seconds\n",
      "mesh_to_polydata: 0.00 seconds\n",
      "simplify 0 @ 1987: 0.02 seconds\n",
      "simplify 1 @ 398: 0.02 seconds\n",
      "time: 9.09\n"
     ]
    },
    {
     "name": "stdout",
     "output_type": "stream",
     "text": [
      "PBG_R\n"
     ]
    },
    {
     "name": "stderr",
     "output_type": "stream",
     "text": [
      "marching cube: 8.68 seconds\n",
      "mesh_to_polydata: 0.00 seconds\n",
      "simplify 0 @ 1717: 0.01 seconds\n",
      "simplify 1 @ 345: 0.01 seconds\n",
      "time: 9.41\n"
     ]
    },
    {
     "name": "stdout",
     "output_type": "stream",
     "text": [
      "10N_L\n"
     ]
    },
    {
     "name": "stderr",
     "output_type": "stream",
     "text": [
      "marching cube: 6.21 seconds\n",
      "mesh_to_polydata: 0.00 seconds\n",
      "simplify 0 @ 3127: 0.02 seconds\n",
      "simplify 1 @ 627: 0.03 seconds\n",
      "time: 6.88\n"
     ]
    },
    {
     "name": "stdout",
     "output_type": "stream",
     "text": [
      "10N_R\n"
     ]
    },
    {
     "name": "stderr",
     "output_type": "stream",
     "text": [
      "marching cube: 6.06 seconds\n",
      "mesh_to_polydata: 0.00 seconds\n",
      "simplify 0 @ 3111: 0.02 seconds\n",
      "simplify 1 @ 623: 0.02 seconds\n",
      "time: 6.75\n"
     ]
    },
    {
     "name": "stdout",
     "output_type": "stream",
     "text": [
      "VCA_L\n"
     ]
    },
    {
     "name": "stderr",
     "output_type": "stream",
     "text": [
      "marching cube: 10.50 seconds\n",
      "mesh_to_polydata: 0.02 seconds\n",
      "simplify 0 @ 12773: 0.11 seconds\n",
      "simplify 1 @ 2556: 0.11 seconds\n",
      "simplify 2 @ 512: 0.03 seconds\n",
      "time: 11.42\n"
     ]
    },
    {
     "name": "stdout",
     "output_type": "stream",
     "text": [
      "VCA_R\n"
     ]
    },
    {
     "name": "stderr",
     "output_type": "stream",
     "text": [
      "marching cube: 8.69 seconds\n",
      "mesh_to_polydata: 0.02 seconds\n",
      "simplify 0 @ 12038: 0.11 seconds\n",
      "simplify 1 @ 2409: 0.12 seconds\n",
      "simplify 2 @ 483: 0.03 seconds\n",
      "time: 9.62\n"
     ]
    },
    {
     "name": "stdout",
     "output_type": "stream",
     "text": [
      "VCP_L\n"
     ]
    },
    {
     "name": "stderr",
     "output_type": "stream",
     "text": [
      "marching cube: 8.40 seconds\n",
      "mesh_to_polydata: 0.01 seconds\n",
      "simplify 0 @ 7399: 0.06 seconds\n",
      "simplify 1 @ 1481: 0.06 seconds\n",
      "simplify 2 @ 297: 0.01 seconds\n",
      "time: 9.21\n"
     ]
    },
    {
     "name": "stdout",
     "output_type": "stream",
     "text": [
      "VCP_R\n"
     ]
    },
    {
     "name": "stderr",
     "output_type": "stream",
     "text": [
      "marching cube: 8.25 seconds\n",
      "mesh_to_polydata: 0.01 seconds\n",
      "simplify 0 @ 7759: 0.06 seconds\n",
      "simplify 1 @ 1554: 0.06 seconds\n",
      "simplify 2 @ 312: 0.01 seconds\n",
      "time: 9.28\n"
     ]
    },
    {
     "name": "stdout",
     "output_type": "stream",
     "text": [
      "DC_L\n"
     ]
    },
    {
     "name": "stderr",
     "output_type": "stream",
     "text": [
      "marching cube: 6.24 seconds\n",
      "mesh_to_polydata: 0.01 seconds\n",
      "simplify 0 @ 10886: 0.09 seconds\n",
      "simplify 1 @ 2175: 0.09 seconds\n",
      "simplify 2 @ 435: 0.02 seconds\n",
      "time: 7.02\n"
     ]
    },
    {
     "name": "stdout",
     "output_type": "stream",
     "text": [
      "DC_R\n"
     ]
    },
    {
     "name": "stderr",
     "output_type": "stream",
     "text": [
      "marching cube: 10.01 seconds\n",
      "mesh_to_polydata: 0.01 seconds\n",
      "simplify 0 @ 10751: 0.09 seconds\n",
      "simplify 1 @ 2149: 0.08 seconds\n",
      "simplify 2 @ 429: 0.02 seconds\n",
      "time: 11.55\n"
     ]
    },
    {
     "name": "stdout",
     "output_type": "stream",
     "text": [
      "AP\n"
     ]
    },
    {
     "name": "stderr",
     "output_type": "stream",
     "text": [
      "marching cube: 8.80 seconds\n",
      "mesh_to_polydata: 0.01 seconds\n",
      "simplify 0 @ 3071: 0.05 seconds\n",
      "simplify 1 @ 615: 0.04 seconds\n",
      "time: 9.79\n"
     ]
    },
    {
     "name": "stdout",
     "output_type": "stream",
     "text": [
      "12N\n"
     ]
    },
    {
     "name": "stderr",
     "output_type": "stream",
     "text": [
      "marching cube: 8.58 seconds\n",
      "mesh_to_polydata: 0.03 seconds\n",
      "simplify 0 @ 13839: 0.19 seconds\n",
      "simplify 1 @ 2770: 0.19 seconds\n",
      "simplify 2 @ 555: 0.04 seconds\n",
      "time: 10.33\n"
     ]
    },
    {
     "name": "stdout",
     "output_type": "stream",
     "text": [
      "RtTg\n"
     ]
    },
    {
     "name": "stderr",
     "output_type": "stream",
     "text": [
      "marching cube: 6.33 seconds\n",
      "mesh_to_polydata: 0.03 seconds\n",
      "simplify 0 @ 27270: 0.23 seconds\n",
      "simplify 1 @ 5442: 0.24 seconds\n",
      "simplify 2 @ 1087: 0.05 seconds\n",
      "time: 7.67\n"
     ]
    },
    {
     "name": "stdout",
     "output_type": "stream",
     "text": [
      "SC\n"
     ]
    },
    {
     "name": "stderr",
     "output_type": "stream",
     "text": [
      "marching cube: 6.48 seconds\n",
      "mesh_to_polydata: 0.14 seconds\n",
      "simplify 0 @ 128176: 1.09 seconds\n",
      "simplify 1 @ 25633: 1.49 seconds\n",
      "simplify 2 @ 5133: 0.31 seconds\n",
      "time: 10.12\n"
     ]
    },
    {
     "name": "stdout",
     "output_type": "stream",
     "text": [
      "IC\n"
     ]
    },
    {
     "name": "stderr",
     "output_type": "stream",
     "text": [
      "marching cube: 10.62 seconds\n",
      "mesh_to_polydata: 0.11 seconds\n",
      "simplify 0 @ 85340: 0.84 seconds\n",
      "simplify 1 @ 17071: 0.94 seconds\n",
      "simplify 2 @ 3413: 0.20 seconds\n",
      "time: 13.37\n"
     ]
    },
    {
     "name": "stdout",
     "output_type": "stream",
     "text": [
      "5N_L\n"
     ]
    },
    {
     "name": "stderr",
     "output_type": "stream",
     "text": [
      "marching cube: 8.57 seconds\n",
      "mesh_to_polydata: 0.02 seconds\n",
      "simplify 0 @ 7156: 0.12 seconds\n",
      "simplify 1 @ 1432: 0.11 seconds\n",
      "simplify 2 @ 288: 0.02 seconds\n",
      "time: 9.48\n"
     ]
    },
    {
     "name": "stdout",
     "output_type": "stream",
     "text": [
      "5N_R\n"
     ]
    },
    {
     "name": "stderr",
     "output_type": "stream",
     "text": [
      "marching cube: 8.96 seconds\n",
      "mesh_to_polydata: 0.02 seconds\n",
      "simplify 0 @ 7827: 0.11 seconds\n",
      "simplify 1 @ 1567: 0.11 seconds\n",
      "simplify 2 @ 315: 0.03 seconds\n",
      "time: 10.31\n"
     ]
    },
    {
     "name": "stdout",
     "output_type": "stream",
     "text": [
      "6N_L\n"
     ]
    },
    {
     "name": "stderr",
     "output_type": "stream",
     "text": [
      "marching cube: 8.42 seconds\n",
      "mesh_to_polydata: 0.00 seconds\n",
      "simplify 0 @ 715: 0.01 seconds\n",
      "time: 9.45\n"
     ]
    },
    {
     "name": "stdout",
     "output_type": "stream",
     "text": [
      "6N_R\n"
     ]
    },
    {
     "name": "stderr",
     "output_type": "stream",
     "text": [
      "marching cube: 6.15 seconds\n",
      "mesh_to_polydata: 0.00 seconds\n",
      "simplify 0 @ 772: 0.01 seconds\n",
      "time: 6.81\n"
     ]
    },
    {
     "name": "stdout",
     "output_type": "stream",
     "text": [
      "7N_L\n"
     ]
    },
    {
     "name": "stderr",
     "output_type": "stream",
     "text": [
      "marching cube: 5.40 seconds\n",
      "mesh_to_polydata: 0.01 seconds\n",
      "simplify 0 @ 13439: 0.10 seconds\n",
      "simplify 1 @ 2690: 0.11 seconds\n",
      "simplify 2 @ 539: 0.02 seconds\n",
      "time: 6.21\n"
     ]
    },
    {
     "name": "stdout",
     "output_type": "stream",
     "text": [
      "7N_R\n"
     ]
    },
    {
     "name": "stderr",
     "output_type": "stream",
     "text": [
      "marching cube: 8.07 seconds\n",
      "mesh_to_polydata: 0.02 seconds\n",
      "simplify 0 @ 13418: 0.11 seconds\n",
      "simplify 1 @ 2685: 0.12 seconds\n",
      "simplify 2 @ 538: 0.02 seconds\n",
      "time: 8.92\n"
     ]
    },
    {
     "name": "stdout",
     "output_type": "stream",
     "text": [
      "7n_L\n"
     ]
    },
    {
     "name": "stderr",
     "output_type": "stream",
     "text": [
      "marching cube: 8.31 seconds\n",
      "mesh_to_polydata: 0.01 seconds\n",
      "simplify 0 @ 9745: 0.08 seconds\n",
      "simplify 1 @ 1951: 0.08 seconds\n",
      "simplify 2 @ 391: 0.02 seconds\n",
      "time: 9.15\n"
     ]
    },
    {
     "name": "stdout",
     "output_type": "stream",
     "text": [
      "7n_R\n"
     ]
    },
    {
     "name": "stderr",
     "output_type": "stream",
     "text": [
      "marching cube: 8.76 seconds\n",
      "mesh_to_polydata: 0.04 seconds\n",
      "simplify 0 @ 10188: 0.13 seconds\n",
      "simplify 1 @ 2039: 0.13 seconds\n",
      "simplify 2 @ 409: 0.03 seconds\n",
      "time: 10.03\n"
     ]
    },
    {
     "name": "stdout",
     "output_type": "stream",
     "text": [
      "Amb_L\n"
     ]
    },
    {
     "name": "stderr",
     "output_type": "stream",
     "text": [
      "marching cube: 8.76 seconds\n",
      "mesh_to_polydata: 0.00 seconds\n",
      "simplify 0 @ 1001: 0.01 seconds\n",
      "simplify 1 @ 202: 0.01 seconds\n",
      "time: 9.90\n"
     ]
    },
    {
     "name": "stdout",
     "output_type": "stream",
     "text": [
      "Amb_R\n"
     ]
    },
    {
     "name": "stderr",
     "output_type": "stream",
     "text": [
      "marching cube: 8.48 seconds\n",
      "mesh_to_polydata: 0.00 seconds\n",
      "simplify 0 @ 944: 0.01 seconds\n",
      "time: 9.28\n"
     ]
    },
    {
     "name": "stdout",
     "output_type": "stream",
     "text": [
      "LC_L\n"
     ]
    },
    {
     "name": "stderr",
     "output_type": "stream",
     "text": [
      "marching cube: 8.28 seconds\n",
      "mesh_to_polydata: 0.01 seconds\n",
      "simplify 0 @ 4070: 0.03 seconds\n",
      "simplify 1 @ 815: 0.03 seconds\n",
      "time: 9.04\n"
     ]
    },
    {
     "name": "stdout",
     "output_type": "stream",
     "text": [
      "LC_R\n"
     ]
    },
    {
     "name": "stderr",
     "output_type": "stream",
     "text": [
      "marching cube: 8.84 seconds\n",
      "mesh_to_polydata: 0.01 seconds\n",
      "simplify 0 @ 3799: 0.03 seconds\n",
      "simplify 1 @ 761: 0.03 seconds\n",
      "time: 9.58\n"
     ]
    },
    {
     "name": "stdout",
     "output_type": "stream",
     "text": [
      "LRt_L\n"
     ]
    },
    {
     "name": "stderr",
     "output_type": "stream",
     "text": [
      "marching cube: 8.51 seconds\n",
      "mesh_to_polydata: 0.03 seconds\n",
      "simplify 0 @ 11765: 0.17 seconds\n",
      "simplify 1 @ 2353: 0.17 seconds\n",
      "simplify 2 @ 471: 0.04 seconds\n",
      "time: 9.87\n"
     ]
    },
    {
     "name": "stdout",
     "output_type": "stream",
     "text": [
      "LRt_R\n"
     ]
    },
    {
     "name": "stderr",
     "output_type": "stream",
     "text": [
      "marching cube: 8.56 seconds\n",
      "mesh_to_polydata: 0.03 seconds\n",
      "simplify 0 @ 11988: 0.16 seconds\n",
      "simplify 1 @ 2399: 0.16 seconds\n",
      "simplify 2 @ 481: 0.04 seconds\n",
      "time: 10.05\n"
     ]
    },
    {
     "name": "stdout",
     "output_type": "stream",
     "text": [
      "Pn_L\n"
     ]
    },
    {
     "name": "stderr",
     "output_type": "stream",
     "text": [
      "marching cube: 6.33 seconds\n",
      "mesh_to_polydata: 0.02 seconds\n",
      "simplify 0 @ 17298: 0.13 seconds\n",
      "simplify 1 @ 3461: 0.15 seconds\n",
      "simplify 2 @ 693: 0.03 seconds\n",
      "time: 7.38\n"
     ]
    },
    {
     "name": "stdout",
     "output_type": "stream",
     "text": [
      "Pn_R\n"
     ]
    },
    {
     "name": "stderr",
     "output_type": "stream",
     "text": [
      "marching cube: 10.21 seconds\n",
      "mesh_to_polydata: 0.05 seconds\n",
      "simplify 0 @ 16112: 0.26 seconds\n",
      "simplify 1 @ 3226: 0.28 seconds\n",
      "simplify 2 @ 646: 0.06 seconds\n",
      "time: 11.43\n"
     ]
    },
    {
     "name": "stdout",
     "output_type": "stream",
     "text": [
      "Tz_L\n"
     ]
    },
    {
     "name": "stderr",
     "output_type": "stream",
     "text": [
      "marching cube: 8.57 seconds\n",
      "mesh_to_polydata: 0.01 seconds\n",
      "simplify 0 @ 5220: 0.05 seconds\n",
      "simplify 1 @ 1045: 0.05 seconds\n",
      "simplify 2 @ 210: 0.01 seconds\n",
      "time: 9.79\n"
     ]
    },
    {
     "name": "stdout",
     "output_type": "stream",
     "text": [
      "Tz_R\n"
     ]
    },
    {
     "name": "stderr",
     "output_type": "stream",
     "text": [
      "marching cube: 6.16 seconds\n",
      "mesh_to_polydata: 0.01 seconds\n",
      "simplify 0 @ 5155: 0.04 seconds\n",
      "simplify 1 @ 1033: 0.03 seconds\n",
      "simplify 2 @ 208: 0.01 seconds\n",
      "time: 6.89\n"
     ]
    },
    {
     "name": "stdout",
     "output_type": "stream",
     "text": [
      "VLL_L\n"
     ]
    },
    {
     "name": "stderr",
     "output_type": "stream",
     "text": [
      "marching cube: 9.24 seconds\n",
      "mesh_to_polydata: 0.03 seconds\n",
      "simplify 0 @ 11423: 0.16 seconds\n",
      "simplify 1 @ 2286: 0.16 seconds\n",
      "simplify 2 @ 458: 0.04 seconds\n",
      "time: 10.19\n"
     ]
    },
    {
     "name": "stdout",
     "output_type": "stream",
     "text": [
      "VLL_R\n"
     ]
    },
    {
     "name": "stderr",
     "output_type": "stream",
     "text": [
      "marching cube: 8.74 seconds\n",
      "mesh_to_polydata: 0.03 seconds\n",
      "simplify 0 @ 11597: 0.17 seconds\n",
      "simplify 1 @ 2321: 0.16 seconds\n",
      "simplify 2 @ 465: 0.04 seconds\n",
      "time: 10.24\n"
     ]
    },
    {
     "name": "stdout",
     "output_type": "stream",
     "text": [
      "RMC_L\n"
     ]
    },
    {
     "name": "stderr",
     "output_type": "stream",
     "text": [
      "marching cube: 8.41 seconds\n",
      "mesh_to_polydata: 0.01 seconds\n",
      "simplify 0 @ 6310: 0.05 seconds\n",
      "simplify 1 @ 1263: 0.05 seconds\n",
      "simplify 2 @ 254: 0.01 seconds\n",
      "time: 9.22\n"
     ]
    },
    {
     "name": "stdout",
     "output_type": "stream",
     "text": [
      "RMC_R\n"
     ]
    },
    {
     "name": "stderr",
     "output_type": "stream",
     "text": [
      "marching cube: 8.77 seconds\n",
      "mesh_to_polydata: 0.01 seconds\n",
      "simplify 0 @ 6424: 0.06 seconds\n",
      "simplify 1 @ 1287: 0.06 seconds\n",
      "simplify 2 @ 258: 0.01 seconds\n",
      "time: 9.56\n"
     ]
    },
    {
     "name": "stdout",
     "output_type": "stream",
     "text": [
      "SNC_L\n"
     ]
    },
    {
     "name": "stderr",
     "output_type": "stream",
     "text": [
      "marching cube: 6.29 seconds\n",
      "mesh_to_polydata: 0.01 seconds\n",
      "simplify 0 @ 6783: 0.05 seconds\n",
      "simplify 1 @ 1358: 0.06 seconds\n",
      "simplify 2 @ 273: 0.01 seconds\n",
      "time: 7.16\n"
     ]
    },
    {
     "name": "stdout",
     "output_type": "stream",
     "text": [
      "SNC_R\n"
     ]
    },
    {
     "name": "stderr",
     "output_type": "stream",
     "text": [
      "marching cube: 10.57 seconds\n",
      "mesh_to_polydata: 0.01 seconds\n",
      "simplify 0 @ 6785: 0.06 seconds\n",
      "simplify 1 @ 1358: 0.07 seconds\n",
      "simplify 2 @ 273: 0.01 seconds\n",
      "time: 11.36\n"
     ]
    },
    {
     "name": "stdout",
     "output_type": "stream",
     "text": [
      "SNR_L\n"
     ]
    },
    {
     "name": "stderr",
     "output_type": "stream",
     "text": [
      "marching cube: 9.27 seconds\n",
      "mesh_to_polydata: 0.04 seconds\n",
      "simplify 0 @ 30016: 0.25 seconds\n",
      "simplify 1 @ 6005: 0.30 seconds\n",
      "simplify 2 @ 1202: 0.06 seconds\n",
      "time: 10.57\n"
     ]
    },
    {
     "name": "stdout",
     "output_type": "stream",
     "text": [
      "SNR_R\n"
     ]
    },
    {
     "name": "stderr",
     "output_type": "stream",
     "text": [
      "marching cube: 6.15 seconds\n",
      "mesh_to_polydata: 0.04 seconds\n",
      "simplify 0 @ 30386: 0.25 seconds\n",
      "simplify 1 @ 6080: 0.29 seconds\n",
      "simplify 2 @ 1217: 0.06 seconds\n",
      "time: 7.36\n"
     ]
    },
    {
     "name": "stdout",
     "output_type": "stream",
     "text": [
      "3N_L\n"
     ]
    },
    {
     "name": "stderr",
     "output_type": "stream",
     "text": [
      "marching cube: 10.37 seconds\n",
      "mesh_to_polydata: 0.00 seconds\n",
      "simplify 0 @ 2756: 0.02 seconds\n",
      "simplify 1 @ 553: 0.02 seconds\n",
      "time: 11.15\n"
     ]
    },
    {
     "name": "stdout",
     "output_type": "stream",
     "text": [
      "3N_R\n"
     ]
    },
    {
     "name": "stderr",
     "output_type": "stream",
     "text": [
      "marching cube: 8.49 seconds\n",
      "mesh_to_polydata: 0.00 seconds\n",
      "simplify 0 @ 2636: 0.02 seconds\n",
      "simplify 1 @ 528: 0.02 seconds\n",
      "time: 9.18\n"
     ]
    },
    {
     "name": "stdout",
     "output_type": "stream",
     "text": [
      "4N_L\n"
     ]
    },
    {
     "name": "stderr",
     "output_type": "stream",
     "text": [
      "marching cube: 6.08 seconds\n",
      "mesh_to_polydata: 0.00 seconds\n",
      "simplify 0 @ 413: 0.00 seconds\n",
      "time: 6.68\n"
     ]
    },
    {
     "name": "stdout",
     "output_type": "stream",
     "text": [
      "4N_R\n"
     ]
    },
    {
     "name": "stderr",
     "output_type": "stream",
     "text": [
      "marching cube: 10.43 seconds\n",
      "mesh_to_polydata: 0.00 seconds\n",
      "simplify 0 @ 402: 0.00 seconds\n",
      "time: 11.08\n"
     ]
    },
    {
     "name": "stdout",
     "output_type": "stream",
     "text": [
      "Sp5I_L\n"
     ]
    },
    {
     "name": "stderr",
     "output_type": "stream",
     "text": [
      "marching cube: 8.46 seconds\n",
      "mesh_to_polydata: 0.02 seconds\n",
      "simplify 0 @ 11915: 0.11 seconds\n",
      "simplify 1 @ 2382: 0.10 seconds\n",
      "simplify 2 @ 477: 0.02 seconds\n",
      "time: 9.35\n"
     ]
    },
    {
     "name": "stdout",
     "output_type": "stream",
     "text": [
      "Sp5I_R\n"
     ]
    },
    {
     "name": "stderr",
     "output_type": "stream",
     "text": [
      "marching cube: 6.10 seconds\n",
      "mesh_to_polydata: 0.02 seconds\n",
      "simplify 0 @ 12223: 0.11 seconds\n",
      "simplify 1 @ 2444: 0.11 seconds\n",
      "simplify 2 @ 490: 0.02 seconds\n",
      "time: 7.05\n"
     ]
    },
    {
     "name": "stdout",
     "output_type": "stream",
     "text": [
      "Sp5O_L\n"
     ]
    },
    {
     "name": "stderr",
     "output_type": "stream",
     "text": [
      "marching cube: 10.47 seconds\n",
      "mesh_to_polydata: 0.03 seconds\n",
      "simplify 0 @ 17871: 0.18 seconds\n",
      "simplify 1 @ 3567: 0.16 seconds\n",
      "simplify 2 @ 711: 0.03 seconds\n",
      "time: 11.56\n"
     ]
    },
    {
     "name": "stdout",
     "output_type": "stream",
     "text": [
      "Sp5O_R\n"
     ]
    },
    {
     "name": "stderr",
     "output_type": "stream",
     "text": [
      "marching cube: 6.14 seconds\n",
      "mesh_to_polydata: 0.02 seconds\n",
      "simplify 0 @ 18902: 0.15 seconds\n",
      "simplify 1 @ 3769: 0.17 seconds\n",
      "simplify 2 @ 752: 0.04 seconds\n",
      "time: 7.18\n"
     ]
    },
    {
     "name": "stdout",
     "output_type": "stream",
     "text": [
      "Sp5C_L\n"
     ]
    },
    {
     "name": "stderr",
     "output_type": "stream",
     "text": [
      "marching cube: 10.29 seconds\n",
      "mesh_to_polydata: 0.07 seconds\n",
      "simplify 0 @ 33653: 0.35 seconds\n",
      "simplify 1 @ 6733: 0.33 seconds\n",
      "simplify 2 @ 1348: 0.07 seconds\n",
      "time: 11.79\n"
     ]
    },
    {
     "name": "stdout",
     "output_type": "stream",
     "text": [
      "Sp5C_R\n"
     ]
    },
    {
     "name": "stderr",
     "output_type": "stream",
     "text": [
      "marching cube: 8.42 seconds\n",
      "mesh_to_polydata: 0.04 seconds\n",
      "simplify 0 @ 35844: 0.29 seconds\n",
      "simplify 1 @ 7170: 0.34 seconds\n",
      "simplify 2 @ 1435: 0.08 seconds\n",
      "time: 9.84\n"
     ]
    },
    {
     "name": "stdout",
     "output_type": "stream",
     "text": [
      "PBG_L\n"
     ]
    },
    {
     "name": "stderr",
     "output_type": "stream",
     "text": [
      "marching cube: 8.73 seconds\n",
      "mesh_to_polydata: 0.00 seconds\n",
      "simplify 0 @ 1808: 0.01 seconds\n",
      "simplify 1 @ 363: 0.01 seconds\n",
      "time: 9.41\n"
     ]
    },
    {
     "name": "stdout",
     "output_type": "stream",
     "text": [
      "PBG_R\n"
     ]
    },
    {
     "name": "stderr",
     "output_type": "stream",
     "text": [
      "marching cube: 8.62 seconds\n",
      "mesh_to_polydata: 0.00 seconds\n",
      "simplify 0 @ 1627: 0.02 seconds\n",
      "simplify 1 @ 327: 0.02 seconds\n",
      "time: 9.76\n"
     ]
    },
    {
     "name": "stdout",
     "output_type": "stream",
     "text": [
      "10N_L\n"
     ]
    },
    {
     "name": "stderr",
     "output_type": "stream",
     "text": [
      "marching cube: 8.70 seconds\n",
      "mesh_to_polydata: 0.01 seconds\n",
      "simplify 0 @ 3058: 0.04 seconds\n",
      "simplify 1 @ 613: 0.04 seconds\n",
      "time: 9.90\n"
     ]
    },
    {
     "name": "stdout",
     "output_type": "stream",
     "text": [
      "10N_R\n"
     ]
    },
    {
     "name": "stderr",
     "output_type": "stream",
     "text": [
      "marching cube: 6.39 seconds\n",
      "mesh_to_polydata: 0.00 seconds\n",
      "simplify 0 @ 3063: 0.02 seconds\n",
      "simplify 1 @ 614: 0.02 seconds\n",
      "time: 7.31\n"
     ]
    },
    {
     "name": "stdout",
     "output_type": "stream",
     "text": [
      "VCA_L\n"
     ]
    },
    {
     "name": "stderr",
     "output_type": "stream",
     "text": [
      "marching cube: 6.34 seconds\n",
      "mesh_to_polydata: 0.01 seconds\n",
      "simplify 0 @ 12649: 0.10 seconds\n",
      "simplify 1 @ 2532: 0.10 seconds\n",
      "simplify 2 @ 507: 0.02 seconds\n",
      "time: 7.18\n"
     ]
    },
    {
     "name": "stdout",
     "output_type": "stream",
     "text": [
      "VCA_R\n"
     ]
    },
    {
     "name": "stderr",
     "output_type": "stream",
     "text": [
      "marching cube: 7.59 seconds\n",
      "mesh_to_polydata: 0.03 seconds\n",
      "simplify 0 @ 12295: 0.21 seconds\n",
      "simplify 1 @ 2460: 0.20 seconds\n",
      "simplify 2 @ 493: 0.05 seconds\n",
      "time: 8.70\n"
     ]
    },
    {
     "name": "stdout",
     "output_type": "stream",
     "text": [
      "VCP_L\n"
     ]
    },
    {
     "name": "stderr",
     "output_type": "stream",
     "text": [
      "marching cube: 8.34 seconds\n",
      "mesh_to_polydata: 0.01 seconds\n",
      "simplify 0 @ 6836: 0.05 seconds\n",
      "simplify 1 @ 1368: 0.05 seconds\n",
      "simplify 2 @ 275: 0.01 seconds\n",
      "time: 9.80\n"
     ]
    },
    {
     "name": "stdout",
     "output_type": "stream",
     "text": [
      "VCP_R\n"
     ]
    },
    {
     "name": "stderr",
     "output_type": "stream",
     "text": [
      "marching cube: 6.27 seconds\n",
      "mesh_to_polydata: 0.01 seconds\n",
      "simplify 0 @ 6983: 0.06 seconds\n",
      "simplify 1 @ 1396: 0.05 seconds\n",
      "simplify 2 @ 280: 0.01 seconds\n",
      "time: 7.02\n"
     ]
    },
    {
     "name": "stdout",
     "output_type": "stream",
     "text": [
      "DC_L\n"
     ]
    },
    {
     "name": "stderr",
     "output_type": "stream",
     "text": [
      "marching cube: 6.12 seconds\n",
      "mesh_to_polydata: 0.01 seconds\n",
      "simplify 0 @ 11004: 0.09 seconds\n",
      "simplify 1 @ 2202: 0.09 seconds\n",
      "simplify 2 @ 440: 0.02 seconds\n",
      "time: 6.97\n"
     ]
    },
    {
     "name": "stdout",
     "output_type": "stream",
     "text": [
      "DC_R\n"
     ]
    },
    {
     "name": "stderr",
     "output_type": "stream",
     "text": [
      "marching cube: 6.05 seconds\n",
      "mesh_to_polydata: 0.01 seconds\n",
      "simplify 0 @ 11204: 0.09 seconds\n",
      "simplify 1 @ 2242: 0.09 seconds\n",
      "simplify 2 @ 450: 0.02 seconds\n",
      "time: 6.95\n"
     ]
    },
    {
     "name": "stdout",
     "output_type": "stream",
     "text": [
      "AP\n"
     ]
    },
    {
     "name": "stderr",
     "output_type": "stream",
     "text": [
      "marching cube: 10.48 seconds\n",
      "mesh_to_polydata: 0.00 seconds\n",
      "simplify 0 @ 3290: 0.02 seconds\n",
      "simplify 1 @ 659: 0.02 seconds\n",
      "time: 11.24\n"
     ]
    },
    {
     "name": "stdout",
     "output_type": "stream",
     "text": [
      "12N\n"
     ]
    },
    {
     "name": "stderr",
     "output_type": "stream",
     "text": [
      "marching cube: 8.60 seconds\n",
      "mesh_to_polydata: 0.02 seconds\n",
      "simplify 0 @ 13748: 0.12 seconds\n",
      "simplify 1 @ 2751: 0.13 seconds\n",
      "simplify 2 @ 551: 0.03 seconds\n",
      "time: 9.59\n"
     ]
    },
    {
     "name": "stdout",
     "output_type": "stream",
     "text": [
      "RtTg\n"
     ]
    },
    {
     "name": "stderr",
     "output_type": "stream",
     "text": [
      "marching cube: 6.20 seconds\n",
      "mesh_to_polydata: 0.04 seconds\n",
      "simplify 0 @ 26879: 0.28 seconds\n",
      "simplify 1 @ 5367: 0.27 seconds\n",
      "simplify 2 @ 1071: 0.06 seconds\n",
      "time: 7.55\n"
     ]
    },
    {
     "name": "stdout",
     "output_type": "stream",
     "text": [
      "SC\n"
     ]
    },
    {
     "name": "stderr",
     "output_type": "stream",
     "text": [
      "marching cube: 6.23 seconds\n",
      "mesh_to_polydata: 0.16 seconds\n",
      "simplify 0 @ 128877: 1.22 seconds\n",
      "simplify 1 @ 25790: 1.52 seconds\n",
      "simplify 2 @ 5156: 0.28 seconds\n",
      "time: 10.16\n"
     ]
    },
    {
     "name": "stdout",
     "output_type": "stream",
     "text": [
      "IC\n"
     ]
    },
    {
     "name": "stderr",
     "output_type": "stream",
     "text": [
      "marching cube: 6.28 seconds\n",
      "mesh_to_polydata: 0.11 seconds\n",
      "simplify 0 @ 85035: 0.78 seconds\n",
      "simplify 1 @ 17016: 0.89 seconds\n",
      "simplify 2 @ 3403: 0.17 seconds\n",
      "time: 8.82\n"
     ]
    },
    {
     "name": "stdout",
     "output_type": "stream",
     "text": [
      "5N_L\n"
     ]
    },
    {
     "name": "stderr",
     "output_type": "stream",
     "text": [
      "marching cube: 6.32 seconds\n",
      "mesh_to_polydata: 0.01 seconds\n",
      "simplify 0 @ 7237: 0.05 seconds\n",
      "simplify 1 @ 1447: 0.05 seconds\n",
      "simplify 2 @ 290: 0.01 seconds\n",
      "time: 7.06\n"
     ]
    },
    {
     "name": "stdout",
     "output_type": "stream",
     "text": [
      "5N_R\n"
     ]
    },
    {
     "name": "stderr",
     "output_type": "stream",
     "text": [
      "marching cube: 6.27 seconds\n",
      "mesh_to_polydata: 0.01 seconds\n",
      "simplify 0 @ 7178: 0.06 seconds\n",
      "simplify 1 @ 1437: 0.06 seconds\n",
      "simplify 2 @ 289: 0.01 seconds\n",
      "time: 7.07\n"
     ]
    },
    {
     "name": "stdout",
     "output_type": "stream",
     "text": [
      "6N_L\n"
     ]
    },
    {
     "name": "stderr",
     "output_type": "stream",
     "text": [
      "marching cube: 6.12 seconds\n",
      "mesh_to_polydata: 0.00 seconds\n",
      "simplify 0 @ 769: 0.01 seconds\n",
      "time: 6.83\n"
     ]
    },
    {
     "name": "stdout",
     "output_type": "stream",
     "text": [
      "6N_R\n"
     ]
    },
    {
     "name": "stderr",
     "output_type": "stream",
     "text": [
      "marching cube: 10.64 seconds\n",
      "mesh_to_polydata: 0.00 seconds\n",
      "simplify 0 @ 777: 0.01 seconds\n",
      "time: 11.39\n"
     ]
    },
    {
     "name": "stdout",
     "output_type": "stream",
     "text": [
      "7N_L\n"
     ]
    },
    {
     "name": "stderr",
     "output_type": "stream",
     "text": [
      "marching cube: 8.45 seconds\n",
      "mesh_to_polydata: 0.02 seconds\n",
      "simplify 0 @ 13279: 0.11 seconds\n",
      "simplify 1 @ 2657: 0.12 seconds\n",
      "simplify 2 @ 532: 0.03 seconds\n",
      "time: 9.46\n"
     ]
    },
    {
     "name": "stdout",
     "output_type": "stream",
     "text": [
      "7N_R\n"
     ]
    },
    {
     "name": "stderr",
     "output_type": "stream",
     "text": [
      "marching cube: 6.16 seconds\n",
      "mesh_to_polydata: 0.02 seconds\n",
      "simplify 0 @ 13005: 0.11 seconds\n",
      "simplify 1 @ 2603: 0.11 seconds\n",
      "simplify 2 @ 522: 0.02 seconds\n",
      "time: 7.17\n"
     ]
    },
    {
     "name": "stdout",
     "output_type": "stream",
     "text": [
      "7n_L\n"
     ]
    },
    {
     "name": "stderr",
     "output_type": "stream",
     "text": [
      "marching cube: 6.03 seconds\n",
      "mesh_to_polydata: 0.01 seconds\n",
      "simplify 0 @ 10686: 0.08 seconds\n",
      "simplify 1 @ 2139: 0.09 seconds\n",
      "simplify 2 @ 429: 0.02 seconds\n",
      "time: 6.97\n"
     ]
    },
    {
     "name": "stdout",
     "output_type": "stream",
     "text": [
      "7n_R\n"
     ]
    },
    {
     "name": "stderr",
     "output_type": "stream",
     "text": [
      "marching cube: 6.13 seconds\n",
      "mesh_to_polydata: 0.01 seconds\n",
      "simplify 0 @ 9189: 0.08 seconds\n",
      "simplify 1 @ 1839: 0.07 seconds\n",
      "simplify 2 @ 369: 0.02 seconds\n",
      "time: 7.06\n"
     ]
    },
    {
     "name": "stdout",
     "output_type": "stream",
     "text": [
      "Amb_L\n"
     ]
    },
    {
     "name": "stderr",
     "output_type": "stream",
     "text": [
      "marching cube: 6.16 seconds\n",
      "mesh_to_polydata: 0.00 seconds\n",
      "simplify 0 @ 948: 0.01 seconds\n",
      "time: 6.93\n"
     ]
    },
    {
     "name": "stdout",
     "output_type": "stream",
     "text": [
      "Amb_R\n"
     ]
    },
    {
     "name": "stderr",
     "output_type": "stream",
     "text": [
      "marching cube: 9.29 seconds\n",
      "mesh_to_polydata: 0.00 seconds\n",
      "simplify 0 @ 982: 0.01 seconds\n",
      "time: 10.01\n"
     ]
    },
    {
     "name": "stdout",
     "output_type": "stream",
     "text": [
      "LC_L\n"
     ]
    },
    {
     "name": "stderr",
     "output_type": "stream",
     "text": [
      "marching cube: 8.88 seconds\n",
      "mesh_to_polydata: 0.01 seconds\n",
      "simplify 0 @ 3910: 0.06 seconds\n",
      "simplify 1 @ 783: 0.05 seconds\n",
      "time: 10.26\n"
     ]
    },
    {
     "name": "stdout",
     "output_type": "stream",
     "text": [
      "LC_R\n"
     ]
    },
    {
     "name": "stderr",
     "output_type": "stream",
     "text": [
      "marching cube: 6.25 seconds\n",
      "mesh_to_polydata: 0.00 seconds\n",
      "simplify 0 @ 3291: 0.03 seconds\n",
      "simplify 1 @ 659: 0.02 seconds\n",
      "time: 7.16\n"
     ]
    },
    {
     "name": "stdout",
     "output_type": "stream",
     "text": [
      "LRt_L\n"
     ]
    },
    {
     "name": "stderr",
     "output_type": "stream",
     "text": [
      "marching cube: 9.28 seconds\n",
      "mesh_to_polydata: 0.03 seconds\n",
      "simplify 0 @ 11925: 0.16 seconds\n",
      "simplify 1 @ 2386: 0.16 seconds\n",
      "simplify 2 @ 478: 0.04 seconds\n",
      "time: 10.33\n"
     ]
    },
    {
     "name": "stdout",
     "output_type": "stream",
     "text": [
      "LRt_R\n"
     ]
    },
    {
     "name": "stderr",
     "output_type": "stream",
     "text": [
      "marching cube: 7.24 seconds\n",
      "mesh_to_polydata: 0.01 seconds\n",
      "simplify 0 @ 11716: 0.08 seconds\n",
      "simplify 1 @ 2345: 0.09 seconds\n",
      "simplify 2 @ 470: 0.02 seconds\n",
      "time: 8.72\n"
     ]
    },
    {
     "name": "stdout",
     "output_type": "stream",
     "text": [
      "Pn_L\n"
     ]
    },
    {
     "name": "stderr",
     "output_type": "stream",
     "text": [
      "marching cube: 6.32 seconds\n",
      "mesh_to_polydata: 0.02 seconds\n",
      "simplify 0 @ 17380: 0.13 seconds\n",
      "simplify 1 @ 3478: 0.14 seconds\n",
      "simplify 2 @ 697: 0.03 seconds\n",
      "time: 7.30\n"
     ]
    },
    {
     "name": "stdout",
     "output_type": "stream",
     "text": [
      "Pn_R\n"
     ]
    },
    {
     "name": "stderr",
     "output_type": "stream",
     "text": [
      "marching cube: 6.41 seconds\n",
      "mesh_to_polydata: 0.02 seconds\n",
      "simplify 0 @ 17017: 0.13 seconds\n",
      "simplify 1 @ 3405: 0.13 seconds\n",
      "simplify 2 @ 682: 0.03 seconds\n",
      "time: 7.41\n"
     ]
    },
    {
     "name": "stdout",
     "output_type": "stream",
     "text": [
      "Tz_L\n"
     ]
    },
    {
     "name": "stderr",
     "output_type": "stream",
     "text": [
      "marching cube: 6.31 seconds\n",
      "mesh_to_polydata: 0.01 seconds\n",
      "simplify 0 @ 5171: 0.04 seconds\n",
      "simplify 1 @ 1035: 0.04 seconds\n",
      "simplify 2 @ 208: 0.01 seconds\n",
      "time: 7.07\n"
     ]
    },
    {
     "name": "stdout",
     "output_type": "stream",
     "text": [
      "Tz_R\n"
     ]
    },
    {
     "name": "stderr",
     "output_type": "stream",
     "text": [
      "marching cube: 6.13 seconds\n",
      "mesh_to_polydata: 0.01 seconds\n",
      "simplify 0 @ 5359: 0.04 seconds\n",
      "simplify 1 @ 1073: 0.04 seconds\n",
      "simplify 2 @ 216: 0.01 seconds\n",
      "time: 6.90\n"
     ]
    },
    {
     "name": "stdout",
     "output_type": "stream",
     "text": [
      "VLL_L\n"
     ]
    },
    {
     "name": "stderr",
     "output_type": "stream",
     "text": [
      "marching cube: 10.69 seconds\n",
      "mesh_to_polydata: 0.02 seconds\n",
      "simplify 0 @ 11226: 0.11 seconds\n",
      "simplify 1 @ 2246: 0.10 seconds\n",
      "simplify 2 @ 450: 0.02 seconds\n",
      "time: 11.69\n"
     ]
    },
    {
     "name": "stdout",
     "output_type": "stream",
     "text": [
      "VLL_R\n"
     ]
    },
    {
     "name": "stderr",
     "output_type": "stream",
     "text": [
      "marching cube: 6.11 seconds\n",
      "mesh_to_polydata: 0.01 seconds\n",
      "simplify 0 @ 11274: 0.09 seconds\n",
      "simplify 1 @ 2257: 0.09 seconds\n",
      "simplify 2 @ 452: 0.02 seconds\n",
      "time: 7.14\n"
     ]
    },
    {
     "name": "stdout",
     "output_type": "stream",
     "text": [
      "RMC_L\n"
     ]
    },
    {
     "name": "stderr",
     "output_type": "stream",
     "text": [
      "marching cube: 6.13 seconds\n",
      "mesh_to_polydata: 0.01 seconds\n",
      "simplify 0 @ 6208: 0.05 seconds\n",
      "simplify 1 @ 1243: 0.05 seconds\n",
      "simplify 2 @ 250: 0.01 seconds\n",
      "time: 6.99\n"
     ]
    },
    {
     "name": "stdout",
     "output_type": "stream",
     "text": [
      "RMC_R\n"
     ]
    },
    {
     "name": "stderr",
     "output_type": "stream",
     "text": [
      "marching cube: 6.17 seconds\n",
      "mesh_to_polydata: 0.01 seconds\n",
      "simplify 0 @ 6362: 0.04 seconds\n",
      "simplify 1 @ 1274: 0.05 seconds\n",
      "simplify 2 @ 256: 0.01 seconds\n",
      "time: 7.04\n"
     ]
    },
    {
     "name": "stdout",
     "output_type": "stream",
     "text": [
      "SNC_L\n"
     ]
    },
    {
     "name": "stderr",
     "output_type": "stream",
     "text": [
      "marching cube: 6.21 seconds\n",
      "mesh_to_polydata: 0.01 seconds\n",
      "simplify 0 @ 6766: 0.04 seconds\n",
      "simplify 1 @ 1353: 0.05 seconds\n",
      "simplify 2 @ 272: 0.01 seconds\n",
      "time: 7.09\n"
     ]
    },
    {
     "name": "stdout",
     "output_type": "stream",
     "text": [
      "SNC_R\n"
     ]
    },
    {
     "name": "stderr",
     "output_type": "stream",
     "text": [
      "marching cube: 8.87 seconds\n",
      "mesh_to_polydata: 0.01 seconds\n",
      "simplify 0 @ 6528: 0.08 seconds\n",
      "simplify 1 @ 1307: 0.09 seconds\n",
      "simplify 2 @ 263: 0.02 seconds\n",
      "time: 9.74\n"
     ]
    },
    {
     "name": "stdout",
     "output_type": "stream",
     "text": [
      "SNR_L\n"
     ]
    },
    {
     "name": "stderr",
     "output_type": "stream",
     "text": [
      "marching cube: 7.54 seconds\n",
      "mesh_to_polydata: 0.03 seconds\n",
      "simplify 0 @ 29523: 0.22 seconds\n",
      "simplify 1 @ 5908: 0.26 seconds\n",
      "simplify 2 @ 1182: 0.05 seconds\n",
      "time: 9.34\n"
     ]
    },
    {
     "name": "stdout",
     "output_type": "stream",
     "text": [
      "SNR_R\n"
     ]
    },
    {
     "name": "stderr",
     "output_type": "stream",
     "text": [
      "marching cube: 6.29 seconds\n",
      "mesh_to_polydata: 0.03 seconds\n",
      "simplify 0 @ 29833: 0.22 seconds\n",
      "simplify 1 @ 5968: 0.27 seconds\n",
      "simplify 2 @ 1195: 0.06 seconds\n",
      "time: 7.56\n"
     ]
    },
    {
     "name": "stdout",
     "output_type": "stream",
     "text": [
      "3N_L\n"
     ]
    },
    {
     "name": "stderr",
     "output_type": "stream",
     "text": [
      "marching cube: 7.96 seconds\n",
      "mesh_to_polydata: 0.01 seconds\n",
      "simplify 0 @ 2641: 0.04 seconds\n",
      "simplify 1 @ 529: 0.05 seconds\n",
      "time: 8.76\n"
     ]
    },
    {
     "name": "stdout",
     "output_type": "stream",
     "text": [
      "3N_R\n"
     ]
    },
    {
     "name": "stderr",
     "output_type": "stream",
     "text": [
      "marching cube: 8.28 seconds\n",
      "mesh_to_polydata: 0.00 seconds\n",
      "simplify 0 @ 2698: 0.02 seconds\n",
      "simplify 1 @ 541: 0.02 seconds\n",
      "time: 9.81\n"
     ]
    },
    {
     "name": "stdout",
     "output_type": "stream",
     "text": [
      "4N_L\n"
     ]
    },
    {
     "name": "stderr",
     "output_type": "stream",
     "text": [
      "marching cube: 6.22 seconds\n",
      "mesh_to_polydata: 0.00 seconds\n",
      "simplify 0 @ 403: 0.00 seconds\n",
      "time: 6.90\n"
     ]
    },
    {
     "name": "stdout",
     "output_type": "stream",
     "text": [
      "4N_R\n"
     ]
    },
    {
     "name": "stderr",
     "output_type": "stream",
     "text": [
      "marching cube: 6.06 seconds\n",
      "mesh_to_polydata: 0.00 seconds\n",
      "simplify 0 @ 343: 0.00 seconds\n",
      "time: 6.78\n"
     ]
    },
    {
     "name": "stdout",
     "output_type": "stream",
     "text": [
      "Sp5I_L\n"
     ]
    },
    {
     "name": "stderr",
     "output_type": "stream",
     "text": [
      "marching cube: 10.49 seconds\n",
      "mesh_to_polydata: 0.02 seconds\n",
      "simplify 0 @ 15139: 0.11 seconds\n",
      "simplify 1 @ 3022: 0.13 seconds\n",
      "simplify 2 @ 606: 0.03 seconds\n",
      "time: 11.53\n"
     ]
    },
    {
     "name": "stdout",
     "output_type": "stream",
     "text": [
      "Sp5I_R\n"
     ]
    },
    {
     "name": "stderr",
     "output_type": "stream",
     "text": [
      "marching cube: 8.46 seconds\n",
      "mesh_to_polydata: 0.02 seconds\n",
      "simplify 0 @ 13645: 0.11 seconds\n",
      "simplify 1 @ 2729: 0.11 seconds\n",
      "simplify 2 @ 547: 0.03 seconds\n",
      "time: 9.48\n"
     ]
    },
    {
     "name": "stdout",
     "output_type": "stream",
     "text": [
      "Sp5O_L\n"
     ]
    },
    {
     "name": "stderr",
     "output_type": "stream",
     "text": [
      "marching cube: 6.19 seconds\n",
      "mesh_to_polydata: 0.02 seconds\n",
      "simplify 0 @ 18176: 0.15 seconds\n",
      "simplify 1 @ 3625: 0.17 seconds\n",
      "simplify 2 @ 720: 0.03 seconds\n",
      "time: 7.30\n"
     ]
    },
    {
     "name": "stdout",
     "output_type": "stream",
     "text": [
      "Sp5O_R\n"
     ]
    },
    {
     "name": "stderr",
     "output_type": "stream",
     "text": [
      "marching cube: 6.09 seconds\n",
      "mesh_to_polydata: 0.02 seconds\n",
      "simplify 0 @ 13097: 0.14 seconds\n",
      "simplify 1 @ 2618: 0.11 seconds\n",
      "simplify 2 @ 525: 0.03 seconds\n",
      "time: 7.15\n"
     ]
    },
    {
     "name": "stdout",
     "output_type": "stream",
     "text": [
      "Sp5C_L\n"
     ]
    },
    {
     "name": "stderr",
     "output_type": "stream",
     "text": [
      "marching cube: 10.58 seconds\n",
      "mesh_to_polydata: 0.05 seconds\n",
      "simplify 0 @ 34075: 0.32 seconds\n",
      "simplify 1 @ 6817: 0.38 seconds\n",
      "simplify 2 @ 1364: 0.08 seconds\n",
      "time: 12.18\n"
     ]
    },
    {
     "name": "stdout",
     "output_type": "stream",
     "text": [
      "Sp5C_R\n"
     ]
    },
    {
     "name": "stderr",
     "output_type": "stream",
     "text": [
      "marching cube: 8.30 seconds\n",
      "mesh_to_polydata: 0.04 seconds\n",
      "simplify 0 @ 30844: 0.27 seconds\n",
      "simplify 1 @ 6171: 0.30 seconds\n",
      "simplify 2 @ 1235: 0.06 seconds\n",
      "time: 9.79\n"
     ]
    },
    {
     "name": "stdout",
     "output_type": "stream",
     "text": [
      "PBG_L\n"
     ]
    },
    {
     "name": "stderr",
     "output_type": "stream",
     "text": [
      "marching cube: 6.39 seconds\n",
      "mesh_to_polydata: 0.00 seconds\n",
      "simplify 0 @ 1639: 0.01 seconds\n",
      "simplify 1 @ 329: 0.01 seconds\n",
      "time: 7.11\n"
     ]
    },
    {
     "name": "stdout",
     "output_type": "stream",
     "text": [
      "PBG_R\n"
     ]
    },
    {
     "name": "stderr",
     "output_type": "stream",
     "text": [
      "marching cube: 6.07 seconds\n",
      "mesh_to_polydata: 0.00 seconds\n",
      "simplify 0 @ 1770: 0.01 seconds\n",
      "simplify 1 @ 355: 0.01 seconds\n",
      "time: 6.88\n"
     ]
    },
    {
     "name": "stdout",
     "output_type": "stream",
     "text": [
      "10N_L\n"
     ]
    },
    {
     "name": "stderr",
     "output_type": "stream",
     "text": [
      "marching cube: 10.58 seconds\n",
      "mesh_to_polydata: 0.00 seconds\n",
      "simplify 0 @ 2938: 0.03 seconds\n",
      "simplify 1 @ 589: 0.03 seconds\n",
      "time: 11.42\n"
     ]
    },
    {
     "name": "stdout",
     "output_type": "stream",
     "text": [
      "10N_R\n"
     ]
    },
    {
     "name": "stderr",
     "output_type": "stream",
     "text": [
      "marching cube: 8.28 seconds\n",
      "mesh_to_polydata: 0.00 seconds\n",
      "simplify 0 @ 3023: 0.02 seconds\n",
      "simplify 1 @ 606: 0.02 seconds\n",
      "time: 9.12\n"
     ]
    },
    {
     "name": "stdout",
     "output_type": "stream",
     "text": [
      "VCA_L\n"
     ]
    },
    {
     "name": "stderr",
     "output_type": "stream",
     "text": [
      "marching cube: 9.20 seconds\n",
      "mesh_to_polydata: 0.02 seconds\n",
      "simplify 0 @ 12120: 0.14 seconds\n",
      "simplify 1 @ 2426: 0.09 seconds\n",
      "simplify 2 @ 486: 0.02 seconds\n",
      "time: 10.26\n"
     ]
    },
    {
     "name": "stdout",
     "output_type": "stream",
     "text": [
      "VCA_R\n"
     ]
    },
    {
     "name": "stderr",
     "output_type": "stream",
     "text": [
      "marching cube: 6.37 seconds\n",
      "mesh_to_polydata: 0.03 seconds\n",
      "simplify 0 @ 12367: 0.22 seconds\n",
      "simplify 1 @ 2475: 0.20 seconds\n",
      "simplify 2 @ 496: 0.04 seconds\n",
      "time: 7.56\n"
     ]
    },
    {
     "name": "stdout",
     "output_type": "stream",
     "text": [
      "VCP_L\n"
     ]
    },
    {
     "name": "stderr",
     "output_type": "stream",
     "text": [
      "marching cube: 9.44 seconds\n",
      "mesh_to_polydata: 0.01 seconds\n",
      "simplify 0 @ 6981: 0.06 seconds\n",
      "simplify 1 @ 1397: 0.06 seconds\n",
      "simplify 2 @ 281: 0.01 seconds\n",
      "time: 11.09\n"
     ]
    },
    {
     "name": "stdout",
     "output_type": "stream",
     "text": [
      "VCP_R\n"
     ]
    },
    {
     "name": "stderr",
     "output_type": "stream",
     "text": [
      "marching cube: 6.14 seconds\n",
      "mesh_to_polydata: 0.01 seconds\n",
      "simplify 0 @ 6997: 0.06 seconds\n",
      "simplify 1 @ 1401: 0.05 seconds\n",
      "simplify 2 @ 281: 0.01 seconds\n",
      "time: 7.00\n"
     ]
    },
    {
     "name": "stdout",
     "output_type": "stream",
     "text": [
      "DC_L\n"
     ]
    },
    {
     "name": "stderr",
     "output_type": "stream",
     "text": [
      "marching cube: 10.41 seconds\n",
      "mesh_to_polydata: 0.01 seconds\n",
      "simplify 0 @ 11221: 0.10 seconds\n",
      "simplify 1 @ 2242: 0.09 seconds\n",
      "simplify 2 @ 450: 0.02 seconds\n",
      "time: 11.41\n"
     ]
    },
    {
     "name": "stdout",
     "output_type": "stream",
     "text": [
      "DC_R\n"
     ]
    },
    {
     "name": "stderr",
     "output_type": "stream",
     "text": [
      "marching cube: 6.14 seconds\n",
      "mesh_to_polydata: 0.02 seconds\n",
      "simplify 0 @ 12263: 0.10 seconds\n",
      "simplify 1 @ 2451: 0.11 seconds\n",
      "simplify 2 @ 492: 0.02 seconds\n",
      "time: 7.18\n"
     ]
    },
    {
     "name": "stdout",
     "output_type": "stream",
     "text": [
      "AP\n"
     ]
    },
    {
     "name": "stderr",
     "output_type": "stream",
     "text": [
      "marching cube: 6.05 seconds\n",
      "mesh_to_polydata: 0.00 seconds\n",
      "simplify 0 @ 3455: 0.03 seconds\n",
      "simplify 1 @ 692: 0.03 seconds\n",
      "time: 6.86\n"
     ]
    },
    {
     "name": "stdout",
     "output_type": "stream",
     "text": [
      "12N\n"
     ]
    },
    {
     "name": "stderr",
     "output_type": "stream",
     "text": [
      "marching cube: 10.03 seconds\n",
      "mesh_to_polydata: 0.03 seconds\n",
      "simplify 0 @ 13550: 0.19 seconds\n",
      "simplify 1 @ 2712: 0.19 seconds\n",
      "simplify 2 @ 543: 0.05 seconds\n",
      "time: 11.32\n"
     ]
    },
    {
     "name": "stdout",
     "output_type": "stream",
     "text": [
      "RtTg\n"
     ]
    },
    {
     "name": "stderr",
     "output_type": "stream",
     "text": [
      "marching cube: 6.33 seconds\n",
      "mesh_to_polydata: 0.03 seconds\n",
      "simplify 0 @ 25929: 0.22 seconds\n",
      "simplify 1 @ 5178: 0.22 seconds\n",
      "simplify 2 @ 1036: 0.05 seconds\n",
      "time: 7.78\n"
     ]
    },
    {
     "name": "stdout",
     "output_type": "stream",
     "text": [
      "SC\n"
     ]
    },
    {
     "name": "stderr",
     "output_type": "stream",
     "text": [
      "marching cube: 6.36 seconds\n",
      "mesh_to_polydata: 0.14 seconds\n",
      "simplify 0 @ 126589: 1.14 seconds\n",
      "simplify 1 @ 25330: 1.33 seconds\n",
      "simplify 2 @ 5065: 0.27 seconds\n",
      "time: 9.99\n"
     ]
    },
    {
     "name": "stdout",
     "output_type": "stream",
     "text": [
      "IC\n"
     ]
    },
    {
     "name": "stderr",
     "output_type": "stream",
     "text": [
      "marching cube: 5.70 seconds\n",
      "mesh_to_polydata: 0.09 seconds\n",
      "simplify 0 @ 80552: 1.26 seconds\n",
      "simplify 1 @ 16118: 1.33 seconds\n",
      "simplify 2 @ 3224: 0.29 seconds\n",
      "time: 9.22\n"
     ]
    },
    {
     "name": "stdout",
     "output_type": "stream",
     "text": [
      "5N_L\n"
     ]
    },
    {
     "name": "stderr",
     "output_type": "stream",
     "text": [
      "marching cube: 6.43 seconds\n",
      "mesh_to_polydata: 0.01 seconds\n",
      "simplify 0 @ 7847: 0.06 seconds\n",
      "simplify 1 @ 1571: 0.05 seconds\n",
      "simplify 2 @ 315: 0.01 seconds\n",
      "time: 7.83\n"
     ]
    },
    {
     "name": "stdout",
     "output_type": "stream",
     "text": [
      "5N_R\n"
     ]
    },
    {
     "name": "stderr",
     "output_type": "stream",
     "text": [
      "marching cube: 8.57 seconds\n",
      "mesh_to_polydata: 0.02 seconds\n",
      "simplify 0 @ 7757: 0.11 seconds\n",
      "simplify 1 @ 1551: 0.10 seconds\n",
      "simplify 2 @ 312: 0.02 seconds\n",
      "time: 9.47\n"
     ]
    },
    {
     "name": "stdout",
     "output_type": "stream",
     "text": [
      "6N_L\n"
     ]
    },
    {
     "name": "stderr",
     "output_type": "stream",
     "text": [
      "marching cube: 7.81 seconds\n",
      "mesh_to_polydata: 0.00 seconds\n",
      "simplify 0 @ 702: 0.01 seconds\n",
      "time: 9.14\n"
     ]
    },
    {
     "name": "stdout",
     "output_type": "stream",
     "text": [
      "6N_R\n"
     ]
    },
    {
     "name": "stderr",
     "output_type": "stream",
     "text": [
      "marching cube: 6.92 seconds\n",
      "mesh_to_polydata: 0.00 seconds\n",
      "simplify 0 @ 831: 0.01 seconds\n",
      "time: 7.61\n"
     ]
    },
    {
     "name": "stdout",
     "output_type": "stream",
     "text": [
      "7N_L\n"
     ]
    },
    {
     "name": "stderr",
     "output_type": "stream",
     "text": [
      "marching cube: 9.32 seconds\n",
      "mesh_to_polydata: 0.03 seconds\n",
      "simplify 0 @ 14280: 0.19 seconds\n",
      "simplify 1 @ 2849: 0.20 seconds\n",
      "simplify 2 @ 571: 0.04 seconds\n",
      "time: 11.38\n"
     ]
    },
    {
     "name": "stdout",
     "output_type": "stream",
     "text": [
      "7N_R\n"
     ]
    },
    {
     "name": "stderr",
     "output_type": "stream",
     "text": [
      "marching cube: 7.38 seconds\n",
      "mesh_to_polydata: 0.02 seconds\n",
      "simplify 0 @ 14173: 0.10 seconds\n",
      "simplify 1 @ 2831: 0.11 seconds\n",
      "simplify 2 @ 567: 0.02 seconds\n",
      "time: 8.86\n"
     ]
    },
    {
     "name": "stdout",
     "output_type": "stream",
     "text": [
      "7n_L\n"
     ]
    },
    {
     "name": "stderr",
     "output_type": "stream",
     "text": [
      "marching cube: 6.36 seconds\n",
      "mesh_to_polydata: 0.01 seconds\n",
      "simplify 0 @ 9901: 0.07 seconds\n",
      "simplify 1 @ 1977: 0.07 seconds\n",
      "simplify 2 @ 397: 0.02 seconds\n",
      "time: 7.23\n"
     ]
    },
    {
     "name": "stdout",
     "output_type": "stream",
     "text": [
      "7n_R\n"
     ]
    },
    {
     "name": "stderr",
     "output_type": "stream",
     "text": [
      "marching cube: 6.27 seconds\n",
      "mesh_to_polydata: 0.01 seconds\n",
      "simplify 0 @ 9702: 0.07 seconds\n",
      "simplify 1 @ 1942: 0.08 seconds\n",
      "simplify 2 @ 389: 0.02 seconds\n",
      "time: 7.11\n"
     ]
    },
    {
     "name": "stdout",
     "output_type": "stream",
     "text": [
      "Amb_L\n"
     ]
    },
    {
     "name": "stderr",
     "output_type": "stream",
     "text": [
      "marching cube: 6.11 seconds\n",
      "mesh_to_polydata: 0.00 seconds\n",
      "simplify 0 @ 965: 0.01 seconds\n",
      "time: 6.83\n"
     ]
    },
    {
     "name": "stdout",
     "output_type": "stream",
     "text": [
      "Amb_R\n"
     ]
    },
    {
     "name": "stderr",
     "output_type": "stream",
     "text": [
      "marching cube: 10.27 seconds\n",
      "mesh_to_polydata: 0.00 seconds\n",
      "simplify 0 @ 963: 0.01 seconds\n",
      "time: 11.02\n"
     ]
    },
    {
     "name": "stdout",
     "output_type": "stream",
     "text": [
      "LC_L\n"
     ]
    },
    {
     "name": "stderr",
     "output_type": "stream",
     "text": [
      "marching cube: 5.97 seconds\n",
      "mesh_to_polydata: 0.01 seconds\n",
      "simplify 0 @ 3658: 0.03 seconds\n",
      "simplify 1 @ 733: 0.03 seconds\n",
      "time: 6.85\n"
     ]
    },
    {
     "name": "stdout",
     "output_type": "stream",
     "text": [
      "LC_R\n"
     ]
    },
    {
     "name": "stderr",
     "output_type": "stream",
     "text": [
      "marching cube: 10.18 seconds\n",
      "mesh_to_polydata: 0.01 seconds\n",
      "simplify 0 @ 3718: 0.06 seconds\n",
      "simplify 1 @ 744: 0.05 seconds\n",
      "time: 11.04\n"
     ]
    },
    {
     "name": "stdout",
     "output_type": "stream",
     "text": [
      "LRt_L\n"
     ]
    },
    {
     "name": "stderr",
     "output_type": "stream",
     "text": [
      "marching cube: 6.22 seconds\n",
      "mesh_to_polydata: 0.01 seconds\n",
      "simplify 0 @ 10569: 0.08 seconds\n",
      "simplify 1 @ 2110: 0.08 seconds\n",
      "simplify 2 @ 423: 0.02 seconds\n",
      "time: 7.25\n"
     ]
    },
    {
     "name": "stdout",
     "output_type": "stream",
     "text": [
      "LRt_R\n"
     ]
    },
    {
     "name": "stderr",
     "output_type": "stream",
     "text": [
      "marching cube: 9.30 seconds\n",
      "mesh_to_polydata: 0.02 seconds\n",
      "simplify 0 @ 10705: 0.16 seconds\n",
      "simplify 1 @ 2137: 0.15 seconds\n",
      "simplify 2 @ 429: 0.03 seconds\n",
      "time: 10.35\n"
     ]
    },
    {
     "name": "stdout",
     "output_type": "stream",
     "text": [
      "Pn_L\n"
     ]
    },
    {
     "name": "stderr",
     "output_type": "stream",
     "text": [
      "marching cube: 6.84 seconds\n",
      "mesh_to_polydata: 0.02 seconds\n",
      "simplify 0 @ 18425: 0.14 seconds\n",
      "simplify 1 @ 3671: 0.15 seconds\n",
      "simplify 2 @ 735: 0.03 seconds\n",
      "time: 8.47\n"
     ]
    },
    {
     "name": "stdout",
     "output_type": "stream",
     "text": [
      "Pn_R\n"
     ]
    },
    {
     "name": "stderr",
     "output_type": "stream",
     "text": [
      "marching cube: 7.94 seconds\n",
      "mesh_to_polydata: 0.05 seconds\n",
      "simplify 0 @ 17736: 0.30 seconds\n",
      "simplify 1 @ 3543: 0.30 seconds\n",
      "simplify 2 @ 710: 0.07 seconds\n",
      "time: 9.32\n"
     ]
    },
    {
     "name": "stdout",
     "output_type": "stream",
     "text": [
      "Tz_L\n"
     ]
    },
    {
     "name": "stderr",
     "output_type": "stream",
     "text": [
      "marching cube: 8.60 seconds\n",
      "mesh_to_polydata: 0.01 seconds\n",
      "simplify 0 @ 5615: 0.07 seconds\n",
      "simplify 1 @ 1124: 0.07 seconds\n",
      "simplify 2 @ 226: 0.02 seconds\n",
      "time: 10.15\n"
     ]
    },
    {
     "name": "stdout",
     "output_type": "stream",
     "text": [
      "Tz_R\n"
     ]
    },
    {
     "name": "stderr",
     "output_type": "stream",
     "text": [
      "marching cube: 6.89 seconds\n",
      "mesh_to_polydata: 0.01 seconds\n",
      "simplify 0 @ 5495: 0.04 seconds\n",
      "simplify 1 @ 1100: 0.04 seconds\n",
      "simplify 2 @ 221: 0.01 seconds\n",
      "time: 8.22\n"
     ]
    },
    {
     "name": "stdout",
     "output_type": "stream",
     "text": [
      "VLL_L\n"
     ]
    },
    {
     "name": "stderr",
     "output_type": "stream",
     "text": [
      "marching cube: 6.34 seconds\n",
      "mesh_to_polydata: 0.01 seconds\n",
      "simplify 0 @ 11680: 0.08 seconds\n",
      "simplify 1 @ 2332: 0.08 seconds\n",
      "simplify 2 @ 468: 0.02 seconds\n",
      "time: 7.22\n"
     ]
    },
    {
     "name": "stdout",
     "output_type": "stream",
     "text": [
      "VLL_R\n"
     ]
    },
    {
     "name": "stderr",
     "output_type": "stream",
     "text": [
      "marching cube: 6.75 seconds\n",
      "mesh_to_polydata: 0.03 seconds\n",
      "simplify 0 @ 11613: 0.19 seconds\n",
      "simplify 1 @ 2321: 0.18 seconds\n",
      "simplify 2 @ 466: 0.04 seconds\n",
      "time: 7.87\n"
     ]
    },
    {
     "name": "stdout",
     "output_type": "stream",
     "text": [
      "RMC_L\n"
     ]
    },
    {
     "name": "stderr",
     "output_type": "stream",
     "text": [
      "marching cube: 9.10 seconds\n",
      "mesh_to_polydata: 0.01 seconds\n",
      "simplify 0 @ 6424: 0.05 seconds\n",
      "simplify 1 @ 1280: 0.05 seconds\n",
      "simplify 2 @ 258: 0.01 seconds\n",
      "time: 10.78\n"
     ]
    },
    {
     "name": "stdout",
     "output_type": "stream",
     "text": [
      "RMC_R\n"
     ]
    },
    {
     "name": "stderr",
     "output_type": "stream",
     "text": [
      "marching cube: 6.18 seconds\n",
      "mesh_to_polydata: 0.01 seconds\n",
      "simplify 0 @ 6480: 0.05 seconds\n",
      "simplify 1 @ 1294: 0.05 seconds\n",
      "simplify 2 @ 260: 0.01 seconds\n",
      "time: 6.96\n"
     ]
    },
    {
     "name": "stdout",
     "output_type": "stream",
     "text": [
      "SNC_L\n"
     ]
    },
    {
     "name": "stderr",
     "output_type": "stream",
     "text": [
      "marching cube: 6.06 seconds\n",
      "mesh_to_polydata: 0.01 seconds\n",
      "simplify 0 @ 7099: 0.05 seconds\n",
      "simplify 1 @ 1420: 0.06 seconds\n",
      "simplify 2 @ 285: 0.01 seconds\n",
      "time: 6.97\n"
     ]
    },
    {
     "name": "stdout",
     "output_type": "stream",
     "text": [
      "SNC_R\n"
     ]
    },
    {
     "name": "stderr",
     "output_type": "stream",
     "text": [
      "marching cube: 10.70 seconds\n",
      "mesh_to_polydata: 0.01 seconds\n",
      "simplify 0 @ 6952: 0.07 seconds\n",
      "simplify 1 @ 1392: 0.07 seconds\n",
      "simplify 2 @ 279: 0.02 seconds\n",
      "time: 11.79\n"
     ]
    },
    {
     "name": "stdout",
     "output_type": "stream",
     "text": [
      "SNR_L\n"
     ]
    },
    {
     "name": "stderr",
     "output_type": "stream",
     "text": [
      "marching cube: 6.14 seconds\n",
      "mesh_to_polydata: 0.04 seconds\n",
      "simplify 0 @ 31871: 0.26 seconds\n",
      "simplify 1 @ 6366: 0.32 seconds\n",
      "simplify 2 @ 1275: 0.06 seconds\n",
      "time: 7.48\n"
     ]
    },
    {
     "name": "stdout",
     "output_type": "stream",
     "text": [
      "SNR_R\n"
     ]
    },
    {
     "name": "stderr",
     "output_type": "stream",
     "text": [
      "marching cube: 10.42 seconds\n",
      "mesh_to_polydata: 0.04 seconds\n",
      "simplify 0 @ 33042: 0.28 seconds\n",
      "simplify 1 @ 6588: 0.33 seconds\n",
      "simplify 2 @ 1318: 0.07 seconds\n",
      "time: 11.79\n"
     ]
    },
    {
     "name": "stdout",
     "output_type": "stream",
     "text": [
      "3N_L\n"
     ]
    },
    {
     "name": "stderr",
     "output_type": "stream",
     "text": [
      "marching cube: 6.03 seconds\n",
      "mesh_to_polydata: 0.00 seconds\n",
      "simplify 0 @ 2638: 0.02 seconds\n",
      "simplify 1 @ 529: 0.02 seconds\n",
      "time: 6.71\n"
     ]
    },
    {
     "name": "stdout",
     "output_type": "stream",
     "text": [
      "3N_R\n"
     ]
    },
    {
     "name": "stderr",
     "output_type": "stream",
     "text": [
      "marching cube: 6.17 seconds\n",
      "mesh_to_polydata: 0.00 seconds\n",
      "simplify 0 @ 2655: 0.02 seconds\n",
      "simplify 1 @ 530: 0.02 seconds\n",
      "time: 6.87\n"
     ]
    },
    {
     "name": "stdout",
     "output_type": "stream",
     "text": [
      "4N_L\n"
     ]
    },
    {
     "name": "stderr",
     "output_type": "stream",
     "text": [
      "marching cube: 6.34 seconds\n",
      "mesh_to_polydata: 0.00 seconds\n",
      "simplify 0 @ 416: 0.00 seconds\n",
      "time: 6.93\n"
     ]
    },
    {
     "name": "stdout",
     "output_type": "stream",
     "text": [
      "4N_R\n"
     ]
    },
    {
     "name": "stderr",
     "output_type": "stream",
     "text": [
      "marching cube: 6.41 seconds\n",
      "mesh_to_polydata: 0.00 seconds\n",
      "simplify 0 @ 367: 0.00 seconds\n",
      "time: 6.98\n"
     ]
    },
    {
     "name": "stdout",
     "output_type": "stream",
     "text": [
      "Sp5I_L\n"
     ]
    },
    {
     "name": "stderr",
     "output_type": "stream",
     "text": [
      "marching cube: 6.64 seconds\n",
      "mesh_to_polydata: 0.02 seconds\n",
      "simplify 0 @ 12496: 0.23 seconds\n",
      "simplify 1 @ 2495: 0.22 seconds\n",
      "simplify 2 @ 499: 0.06 seconds\n",
      "time: 7.75\n"
     ]
    },
    {
     "name": "stdout",
     "output_type": "stream",
     "text": [
      "Sp5I_R\n"
     ]
    },
    {
     "name": "stderr",
     "output_type": "stream",
     "text": [
      "marching cube: 9.52 seconds\n",
      "mesh_to_polydata: 0.02 seconds\n",
      "simplify 0 @ 15002: 0.12 seconds\n",
      "simplify 1 @ 2988: 0.13 seconds\n",
      "simplify 2 @ 600: 0.03 seconds\n",
      "time: 11.11\n"
     ]
    },
    {
     "name": "stdout",
     "output_type": "stream",
     "text": [
      "Sp5O_L\n"
     ]
    },
    {
     "name": "stderr",
     "output_type": "stream",
     "text": [
      "marching cube: 8.67 seconds\n",
      "mesh_to_polydata: 0.04 seconds\n",
      "simplify 0 @ 18466: 0.25 seconds\n",
      "simplify 1 @ 3688: 0.27 seconds\n",
      "simplify 2 @ 735: 0.06 seconds\n",
      "time: 10.41\n"
     ]
    },
    {
     "name": "stdout",
     "output_type": "stream",
     "text": [
      "Sp5O_R\n"
     ]
    },
    {
     "name": "stderr",
     "output_type": "stream",
     "text": [
      "marching cube: 6.64 seconds\n",
      "mesh_to_polydata: 0.02 seconds\n",
      "simplify 0 @ 12808: 0.13 seconds\n",
      "simplify 1 @ 2559: 0.11 seconds\n",
      "simplify 2 @ 513: 0.02 seconds\n",
      "time: 8.02\n"
     ]
    },
    {
     "name": "stdout",
     "output_type": "stream",
     "text": [
      "Sp5C_L\n"
     ]
    },
    {
     "name": "stderr",
     "output_type": "stream",
     "text": [
      "marching cube: 6.31 seconds\n",
      "mesh_to_polydata: 0.04 seconds\n",
      "simplify 0 @ 32326: 0.25 seconds\n",
      "simplify 1 @ 6451: 0.28 seconds\n",
      "simplify 2 @ 1291: 0.06 seconds\n",
      "time: 7.51\n"
     ]
    },
    {
     "name": "stdout",
     "output_type": "stream",
     "text": [
      "Sp5C_R\n"
     ]
    },
    {
     "name": "stderr",
     "output_type": "stream",
     "text": [
      "marching cube: 7.51 seconds\n",
      "mesh_to_polydata: 0.09 seconds\n",
      "simplify 0 @ 35985: 0.70 seconds\n",
      "simplify 1 @ 7182: 0.71 seconds\n",
      "simplify 2 @ 1436: 0.14 seconds\n",
      "time: 9.75\n"
     ]
    },
    {
     "name": "stdout",
     "output_type": "stream",
     "text": [
      "PBG_L\n"
     ]
    },
    {
     "name": "stderr",
     "output_type": "stream",
     "text": [
      "marching cube: 9.13 seconds\n",
      "mesh_to_polydata: 0.00 seconds\n",
      "simplify 0 @ 1752: 0.02 seconds\n",
      "simplify 1 @ 352: 0.02 seconds\n",
      "time: 10.31\n"
     ]
    },
    {
     "name": "stdout",
     "output_type": "stream",
     "text": [
      "PBG_R\n"
     ]
    },
    {
     "name": "stderr",
     "output_type": "stream",
     "text": [
      "marching cube: 8.92 seconds\n",
      "mesh_to_polydata: 0.00 seconds\n",
      "simplify 0 @ 1799: 0.02 seconds\n",
      "simplify 1 @ 361: 0.02 seconds\n",
      "time: 10.06\n"
     ]
    },
    {
     "name": "stdout",
     "output_type": "stream",
     "text": [
      "10N_L\n"
     ]
    },
    {
     "name": "stderr",
     "output_type": "stream",
     "text": [
      "marching cube: 8.52 seconds\n",
      "mesh_to_polydata: 0.00 seconds\n",
      "simplify 0 @ 3152: 0.02 seconds\n",
      "simplify 1 @ 631: 0.03 seconds\n",
      "time: 9.25\n"
     ]
    },
    {
     "name": "stdout",
     "output_type": "stream",
     "text": [
      "10N_R\n"
     ]
    },
    {
     "name": "stderr",
     "output_type": "stream",
     "text": [
      "marching cube: 8.67 seconds\n",
      "mesh_to_polydata: 0.00 seconds\n",
      "simplify 0 @ 3192: 0.03 seconds\n",
      "simplify 1 @ 636: 0.02 seconds\n",
      "time: 9.40\n"
     ]
    },
    {
     "name": "stdout",
     "output_type": "stream",
     "text": [
      "VCA_L\n"
     ]
    },
    {
     "name": "stderr",
     "output_type": "stream",
     "text": [
      "marching cube: 9.07 seconds\n",
      "mesh_to_polydata: 0.04 seconds\n",
      "simplify 0 @ 12945: 0.20 seconds\n",
      "simplify 1 @ 2583: 0.17 seconds\n",
      "simplify 2 @ 518: 0.04 seconds\n",
      "time: 10.28\n"
     ]
    },
    {
     "name": "stdout",
     "output_type": "stream",
     "text": [
      "VCA_R\n"
     ]
    },
    {
     "name": "stderr",
     "output_type": "stream",
     "text": [
      "marching cube: 8.67 seconds\n",
      "mesh_to_polydata: 0.03 seconds\n",
      "simplify 0 @ 11530: 0.18 seconds\n",
      "simplify 1 @ 2305: 0.16 seconds\n",
      "simplify 2 @ 462: 0.04 seconds\n",
      "time: 10.19\n"
     ]
    },
    {
     "name": "stdout",
     "output_type": "stream",
     "text": [
      "VCP_L\n"
     ]
    },
    {
     "name": "stderr",
     "output_type": "stream",
     "text": [
      "marching cube: 6.30 seconds\n",
      "mesh_to_polydata: 0.01 seconds\n",
      "simplify 0 @ 8698: 0.06 seconds\n",
      "simplify 1 @ 1739: 0.07 seconds\n",
      "simplify 2 @ 349: 0.02 seconds\n",
      "time: 7.32\n"
     ]
    },
    {
     "name": "stdout",
     "output_type": "stream",
     "text": [
      "VCP_R\n"
     ]
    },
    {
     "name": "stderr",
     "output_type": "stream",
     "text": [
      "marching cube: 9.61 seconds\n",
      "mesh_to_polydata: 0.02 seconds\n",
      "simplify 0 @ 7224: 0.11 seconds\n",
      "simplify 1 @ 1440: 0.10 seconds\n",
      "simplify 2 @ 290: 0.02 seconds\n",
      "time: 10.46\n"
     ]
    },
    {
     "name": "stdout",
     "output_type": "stream",
     "text": [
      "DC_L\n"
     ]
    },
    {
     "name": "stderr",
     "output_type": "stream",
     "text": [
      "marching cube: 8.86 seconds\n",
      "mesh_to_polydata: 0.02 seconds\n",
      "simplify 0 @ 11127: 0.16 seconds\n",
      "simplify 1 @ 2223: 0.16 seconds\n",
      "simplify 2 @ 446: 0.04 seconds\n",
      "time: 10.33\n"
     ]
    },
    {
     "name": "stdout",
     "output_type": "stream",
     "text": [
      "DC_R\n"
     ]
    },
    {
     "name": "stderr",
     "output_type": "stream",
     "text": [
      "marching cube: 8.49 seconds\n",
      "mesh_to_polydata: 0.02 seconds\n",
      "simplify 0 @ 11709: 0.10 seconds\n",
      "simplify 1 @ 2340: 0.10 seconds\n",
      "simplify 2 @ 468: 0.02 seconds\n",
      "time: 9.49\n"
     ]
    },
    {
     "name": "stdout",
     "output_type": "stream",
     "text": [
      "AP\n"
     ]
    },
    {
     "name": "stderr",
     "output_type": "stream",
     "text": [
      "marching cube: 8.66 seconds\n",
      "mesh_to_polydata: 0.00 seconds\n",
      "simplify 0 @ 3011: 0.03 seconds\n",
      "simplify 1 @ 603: 0.03 seconds\n",
      "time: 9.37\n"
     ]
    },
    {
     "name": "stdout",
     "output_type": "stream",
     "text": [
      "12N\n"
     ]
    },
    {
     "name": "stderr",
     "output_type": "stream",
     "text": [
      "marching cube: 6.08 seconds\n",
      "mesh_to_polydata: 0.02 seconds\n",
      "simplify 0 @ 14269: 0.12 seconds\n",
      "simplify 1 @ 2850: 0.13 seconds\n",
      "simplify 2 @ 571: 0.03 seconds\n",
      "time: 7.07\n"
     ]
    },
    {
     "name": "stdout",
     "output_type": "stream",
     "text": [
      "RtTg\n"
     ]
    },
    {
     "name": "stderr",
     "output_type": "stream",
     "text": [
      "marching cube: 6.18 seconds\n",
      "mesh_to_polydata: 0.04 seconds\n",
      "simplify 0 @ 26941: 0.28 seconds\n",
      "simplify 1 @ 5374: 0.27 seconds\n",
      "simplify 2 @ 1073: 0.05 seconds\n",
      "time: 7.48\n"
     ]
    },
    {
     "name": "stdout",
     "output_type": "stream",
     "text": [
      "SC\n"
     ]
    },
    {
     "name": "stderr",
     "output_type": "stream",
     "text": [
      "marching cube: 10.36 seconds\n",
      "mesh_to_polydata: 0.21 seconds\n",
      "simplify 0 @ 145620: 1.47 seconds\n",
      "simplify 1 @ 28941: 1.68 seconds\n",
      "simplify 2 @ 5789: 0.37 seconds\n",
      "time: 14.75\n"
     ]
    },
    {
     "name": "stdout",
     "output_type": "stream",
     "text": [
      "IC\n"
     ]
    },
    {
     "name": "stderr",
     "output_type": "stream",
     "text": [
      "marching cube: 6.20 seconds\n",
      "mesh_to_polydata: 0.12 seconds\n",
      "simplify 0 @ 91676: 0.91 seconds\n",
      "simplify 1 @ 18246: 1.66 seconds\n",
      "simplify 2 @ 3648: 0.40 seconds\n",
      "time: 9.88\n"
     ]
    },
    {
     "name": "stdout",
     "output_type": "stream",
     "text": [
      "5N_L\n"
     ]
    },
    {
     "name": "stderr",
     "output_type": "stream",
     "text": [
      "marching cube: 8.66 seconds\n",
      "mesh_to_polydata: 0.01 seconds\n",
      "simplify 0 @ 8089: 0.06 seconds\n",
      "simplify 1 @ 1619: 0.06 seconds\n",
      "simplify 2 @ 325: 0.01 seconds\n",
      "time: 10.16\n"
     ]
    },
    {
     "name": "stdout",
     "output_type": "stream",
     "text": [
      "5N_R\n"
     ]
    },
    {
     "name": "stderr",
     "output_type": "stream",
     "text": [
      "marching cube: 6.33 seconds\n",
      "mesh_to_polydata: 0.01 seconds\n",
      "simplify 0 @ 8443: 0.07 seconds\n",
      "simplify 1 @ 1690: 0.07 seconds\n",
      "simplify 2 @ 339: 0.02 seconds\n",
      "time: 7.09\n"
     ]
    },
    {
     "name": "stdout",
     "output_type": "stream",
     "text": [
      "6N_L\n"
     ]
    },
    {
     "name": "stderr",
     "output_type": "stream",
     "text": [
      "marching cube: 10.43 seconds\n",
      "mesh_to_polydata: 0.00 seconds\n",
      "simplify 0 @ 758: 0.01 seconds\n",
      "time: 11.14\n"
     ]
    },
    {
     "name": "stdout",
     "output_type": "stream",
     "text": [
      "6N_R\n"
     ]
    },
    {
     "name": "stderr",
     "output_type": "stream",
     "text": [
      "marching cube: 8.28 seconds\n",
      "mesh_to_polydata: 0.00 seconds\n",
      "simplify 0 @ 800: 0.01 seconds\n",
      "time: 8.94\n"
     ]
    },
    {
     "name": "stdout",
     "output_type": "stream",
     "text": [
      "7N_L\n"
     ]
    },
    {
     "name": "stderr",
     "output_type": "stream",
     "text": [
      "marching cube: 8.31 seconds\n",
      "mesh_to_polydata: 0.02 seconds\n",
      "simplify 0 @ 14089: 0.10 seconds\n",
      "simplify 1 @ 2822: 0.11 seconds\n",
      "simplify 2 @ 565: 0.02 seconds\n",
      "time: 9.29\n"
     ]
    },
    {
     "name": "stdout",
     "output_type": "stream",
     "text": [
      "7N_R\n"
     ]
    },
    {
     "name": "stderr",
     "output_type": "stream",
     "text": [
      "marching cube: 6.27 seconds\n",
      "mesh_to_polydata: 0.02 seconds\n",
      "simplify 0 @ 14162: 0.11 seconds\n",
      "simplify 1 @ 2834: 0.12 seconds\n",
      "simplify 2 @ 568: 0.03 seconds\n",
      "time: 7.11\n"
     ]
    },
    {
     "name": "stdout",
     "output_type": "stream",
     "text": [
      "7n_L\n"
     ]
    },
    {
     "name": "stderr",
     "output_type": "stream",
     "text": [
      "marching cube: 6.16 seconds\n",
      "mesh_to_polydata: 0.01 seconds\n",
      "simplify 0 @ 10473: 0.08 seconds\n",
      "simplify 1 @ 2095: 0.09 seconds\n",
      "simplify 2 @ 420: 0.02 seconds\n",
      "time: 6.93\n"
     ]
    },
    {
     "name": "stdout",
     "output_type": "stream",
     "text": [
      "7n_R\n"
     ]
    },
    {
     "name": "stderr",
     "output_type": "stream",
     "text": [
      "marching cube: 6.12 seconds\n",
      "mesh_to_polydata: 0.01 seconds\n",
      "simplify 0 @ 10090: 0.08 seconds\n",
      "simplify 1 @ 2019: 0.08 seconds\n",
      "simplify 2 @ 405: 0.02 seconds\n",
      "time: 6.97\n"
     ]
    },
    {
     "name": "stdout",
     "output_type": "stream",
     "text": [
      "Amb_L\n"
     ]
    },
    {
     "name": "stderr",
     "output_type": "stream",
     "text": [
      "marching cube: 10.53 seconds\n",
      "mesh_to_polydata: 0.00 seconds\n",
      "simplify 0 @ 1136: 0.01 seconds\n",
      "simplify 1 @ 228: 0.01 seconds\n",
      "time: 11.23\n"
     ]
    },
    {
     "name": "stdout",
     "output_type": "stream",
     "text": [
      "Amb_R\n"
     ]
    },
    {
     "name": "stderr",
     "output_type": "stream",
     "text": [
      "marching cube: 8.47 seconds\n",
      "mesh_to_polydata: 0.00 seconds\n",
      "simplify 0 @ 1074: 0.01 seconds\n",
      "simplify 1 @ 216: 0.01 seconds\n",
      "time: 9.14\n"
     ]
    },
    {
     "name": "stdout",
     "output_type": "stream",
     "text": [
      "LC_L\n"
     ]
    },
    {
     "name": "stderr",
     "output_type": "stream",
     "text": [
      "marching cube: 8.41 seconds\n",
      "mesh_to_polydata: 0.01 seconds\n",
      "simplify 0 @ 4324: 0.03 seconds\n",
      "simplify 1 @ 866: 0.03 seconds\n",
      "time: 9.13\n"
     ]
    },
    {
     "name": "stdout",
     "output_type": "stream",
     "text": [
      "LC_R\n"
     ]
    },
    {
     "name": "stderr",
     "output_type": "stream",
     "text": [
      "marching cube: 8.65 seconds\n",
      "mesh_to_polydata: 0.01 seconds\n",
      "simplify 0 @ 4488: 0.07 seconds\n",
      "simplify 1 @ 899: 0.06 seconds\n",
      "time: 9.62\n"
     ]
    },
    {
     "name": "stdout",
     "output_type": "stream",
     "text": [
      "LRt_L\n"
     ]
    },
    {
     "name": "stderr",
     "output_type": "stream",
     "text": [
      "marching cube: 9.61 seconds\n",
      "mesh_to_polydata: 0.03 seconds\n",
      "simplify 0 @ 13060: 0.15 seconds\n",
      "simplify 1 @ 2614: 0.12 seconds\n",
      "simplify 2 @ 524: 0.03 seconds\n",
      "time: 11.03\n"
     ]
    },
    {
     "name": "stdout",
     "output_type": "stream",
     "text": [
      "LRt_R\n"
     ]
    },
    {
     "name": "stderr",
     "output_type": "stream",
     "text": [
      "marching cube: 6.24 seconds\n",
      "mesh_to_polydata: 0.01 seconds\n",
      "simplify 0 @ 12769: 0.09 seconds\n",
      "simplify 1 @ 2555: 0.09 seconds\n",
      "simplify 2 @ 512: 0.02 seconds\n",
      "time: 7.11\n"
     ]
    },
    {
     "name": "stdout",
     "output_type": "stream",
     "text": [
      "Pn_L\n"
     ]
    },
    {
     "name": "stderr",
     "output_type": "stream",
     "text": [
      "marching cube: 9.20 seconds\n",
      "mesh_to_polydata: 0.04 seconds\n",
      "simplify 0 @ 18251: 0.25 seconds\n",
      "simplify 1 @ 3652: 0.29 seconds\n",
      "simplify 2 @ 731: 0.06 seconds\n",
      "time: 10.41\n"
     ]
    },
    {
     "name": "stdout",
     "output_type": "stream",
     "text": [
      "Pn_R\n"
     ]
    },
    {
     "name": "stderr",
     "output_type": "stream",
     "text": [
      "marching cube: 6.89 seconds\n",
      "mesh_to_polydata: 0.02 seconds\n",
      "simplify 0 @ 19105: 0.14 seconds\n",
      "simplify 1 @ 3823: 0.15 seconds\n",
      "simplify 2 @ 766: 0.03 seconds\n",
      "time: 8.36\n"
     ]
    },
    {
     "name": "stdout",
     "output_type": "stream",
     "text": [
      "Tz_L\n"
     ]
    },
    {
     "name": "stderr",
     "output_type": "stream",
     "text": [
      "marching cube: 8.03 seconds\n",
      "mesh_to_polydata: 0.02 seconds\n",
      "simplify 0 @ 5839: 0.10 seconds\n",
      "simplify 1 @ 1167: 0.10 seconds\n",
      "simplify 2 @ 234: 0.02 seconds\n",
      "time: 8.85\n"
     ]
    },
    {
     "name": "stdout",
     "output_type": "stream",
     "text": [
      "Tz_R\n"
     ]
    },
    {
     "name": "stderr",
     "output_type": "stream",
     "text": [
      "marching cube: 8.30 seconds\n",
      "mesh_to_polydata: 0.01 seconds\n",
      "simplify 0 @ 5936: 0.05 seconds\n",
      "simplify 1 @ 1188: 0.05 seconds\n",
      "simplify 2 @ 239: 0.01 seconds\n",
      "time: 9.66\n"
     ]
    },
    {
     "name": "stdout",
     "output_type": "stream",
     "text": [
      "VLL_L\n"
     ]
    },
    {
     "name": "stderr",
     "output_type": "stream",
     "text": [
      "marching cube: 6.34 seconds\n",
      "mesh_to_polydata: 0.02 seconds\n",
      "simplify 0 @ 11917: 0.10 seconds\n",
      "simplify 1 @ 2385: 0.11 seconds\n",
      "simplify 2 @ 478: 0.02 seconds\n",
      "time: 7.19\n"
     ]
    },
    {
     "name": "stdout",
     "output_type": "stream",
     "text": [
      "VLL_R\n"
     ]
    },
    {
     "name": "stderr",
     "output_type": "stream",
     "text": [
      "marching cube: 9.72 seconds\n",
      "mesh_to_polydata: 0.02 seconds\n",
      "simplify 0 @ 12468: 0.10 seconds\n",
      "simplify 1 @ 2495: 0.11 seconds\n",
      "simplify 2 @ 500: 0.02 seconds\n",
      "time: 11.30\n"
     ]
    },
    {
     "name": "stdout",
     "output_type": "stream",
     "text": [
      "RMC_L\n"
     ]
    },
    {
     "name": "stderr",
     "output_type": "stream",
     "text": [
      "marching cube: 6.05 seconds\n",
      "mesh_to_polydata: 0.01 seconds\n",
      "simplify 0 @ 6421: 0.05 seconds\n",
      "simplify 1 @ 1286: 0.05 seconds\n",
      "simplify 2 @ 258: 0.01 seconds\n",
      "time: 6.82\n"
     ]
    },
    {
     "name": "stdout",
     "output_type": "stream",
     "text": [
      "RMC_R\n"
     ]
    },
    {
     "name": "stderr",
     "output_type": "stream",
     "text": [
      "marching cube: 6.12 seconds\n",
      "mesh_to_polydata: 0.01 seconds\n",
      "simplify 0 @ 6674: 0.05 seconds\n",
      "simplify 1 @ 1337: 0.05 seconds\n",
      "simplify 2 @ 268: 0.01 seconds\n",
      "time: 6.90\n"
     ]
    },
    {
     "name": "stdout",
     "output_type": "stream",
     "text": [
      "SNC_L\n"
     ]
    },
    {
     "name": "stderr",
     "output_type": "stream",
     "text": [
      "marching cube: 10.35 seconds\n",
      "mesh_to_polydata: 0.01 seconds\n",
      "simplify 0 @ 7200: 0.06 seconds\n",
      "simplify 1 @ 1442: 0.06 seconds\n",
      "simplify 2 @ 289: 0.02 seconds\n",
      "time: 11.15\n"
     ]
    },
    {
     "name": "stdout",
     "output_type": "stream",
     "text": [
      "SNC_R\n"
     ]
    },
    {
     "name": "stderr",
     "output_type": "stream",
     "text": [
      "marching cube: 6.17 seconds\n",
      "mesh_to_polydata: 0.01 seconds\n",
      "simplify 0 @ 7441: 0.05 seconds\n",
      "simplify 1 @ 1490: 0.05 seconds\n",
      "simplify 2 @ 299: 0.01 seconds\n",
      "time: 6.96\n"
     ]
    },
    {
     "name": "stdout",
     "output_type": "stream",
     "text": [
      "SNR_L\n"
     ]
    },
    {
     "name": "stderr",
     "output_type": "stream",
     "text": [
      "marching cube: 8.68 seconds\n",
      "mesh_to_polydata: 0.06 seconds\n",
      "simplify 0 @ 31078: 0.43 seconds\n",
      "simplify 1 @ 6219: 0.48 seconds\n",
      "simplify 2 @ 1245: 0.10 seconds\n",
      "time: 10.34\n"
     ]
    },
    {
     "name": "stdout",
     "output_type": "stream",
     "text": [
      "SNR_R\n"
     ]
    },
    {
     "name": "stderr",
     "output_type": "stream",
     "text": [
      "marching cube: 8.87 seconds\n",
      "mesh_to_polydata: 0.07 seconds\n",
      "simplify 0 @ 33799: 0.32 seconds\n",
      "simplify 1 @ 6763: 0.35 seconds\n",
      "simplify 2 @ 1353: 0.07 seconds\n",
      "time: 10.91\n"
     ]
    },
    {
     "name": "stdout",
     "output_type": "stream",
     "text": [
      "3N_L\n"
     ]
    },
    {
     "name": "stderr",
     "output_type": "stream",
     "text": [
      "marching cube: 6.35 seconds\n",
      "mesh_to_polydata: 0.00 seconds\n",
      "simplify 0 @ 2850: 0.02 seconds\n",
      "simplify 1 @ 571: 0.02 seconds\n",
      "time: 7.04\n"
     ]
    },
    {
     "name": "stdout",
     "output_type": "stream",
     "text": [
      "3N_R\n"
     ]
    },
    {
     "name": "stderr",
     "output_type": "stream",
     "text": [
      "marching cube: 9.44 seconds\n",
      "mesh_to_polydata: 0.01 seconds\n",
      "simplify 0 @ 2858: 0.04 seconds\n",
      "simplify 1 @ 573: 0.04 seconds\n",
      "time: 10.16\n"
     ]
    },
    {
     "name": "stdout",
     "output_type": "stream",
     "text": [
      "4N_L\n"
     ]
    },
    {
     "name": "stderr",
     "output_type": "stream",
     "text": [
      "marching cube: 8.47 seconds\n",
      "mesh_to_polydata: 0.00 seconds\n",
      "simplify 0 @ 385: 0.01 seconds\n",
      "time: 9.57\n"
     ]
    },
    {
     "name": "stdout",
     "output_type": "stream",
     "text": [
      "4N_R\n"
     ]
    },
    {
     "name": "stderr",
     "output_type": "stream",
     "text": [
      "marching cube: 6.30 seconds\n",
      "mesh_to_polydata: 0.00 seconds\n",
      "simplify 0 @ 350: 0.00 seconds\n",
      "time: 7.20\n"
     ]
    },
    {
     "name": "stdout",
     "output_type": "stream",
     "text": [
      "Sp5I_L\n"
     ]
    },
    {
     "name": "stderr",
     "output_type": "stream",
     "text": [
      "marching cube: 8.47 seconds\n",
      "mesh_to_polydata: 0.03 seconds\n",
      "simplify 0 @ 13126: 0.22 seconds\n",
      "simplify 1 @ 2629: 0.19 seconds\n",
      "simplify 2 @ 529: 0.04 seconds\n",
      "time: 9.53\n"
     ]
    },
    {
     "name": "stdout",
     "output_type": "stream",
     "text": [
      "Sp5I_R\n"
     ]
    },
    {
     "name": "stderr",
     "output_type": "stream",
     "text": [
      "marching cube: 7.91 seconds\n",
      "mesh_to_polydata: 0.02 seconds\n",
      "simplify 0 @ 13265: 0.10 seconds\n",
      "simplify 1 @ 2653: 0.10 seconds\n",
      "simplify 2 @ 532: 0.02 seconds\n",
      "time: 9.23\n"
     ]
    },
    {
     "name": "stdout",
     "output_type": "stream",
     "text": [
      "Sp5O_L\n"
     ]
    },
    {
     "name": "stderr",
     "output_type": "stream",
     "text": [
      "marching cube: 7.22 seconds\n",
      "mesh_to_polydata: 0.04 seconds\n",
      "simplify 0 @ 14411: 0.30 seconds\n",
      "simplify 1 @ 2882: 0.24 seconds\n",
      "simplify 2 @ 578: 0.05 seconds\n",
      "time: 8.44\n"
     ]
    },
    {
     "name": "stdout",
     "output_type": "stream",
     "text": [
      "Sp5O_R\n"
     ]
    },
    {
     "name": "stderr",
     "output_type": "stream",
     "text": [
      "marching cube: 8.71 seconds\n",
      "mesh_to_polydata: 0.04 seconds\n",
      "simplify 0 @ 15590: 0.26 seconds\n",
      "simplify 1 @ 3119: 0.22 seconds\n",
      "simplify 2 @ 625: 0.05 seconds\n",
      "time: 10.61\n"
     ]
    },
    {
     "name": "stdout",
     "output_type": "stream",
     "text": [
      "Sp5C_L\n"
     ]
    },
    {
     "name": "stderr",
     "output_type": "stream",
     "text": [
      "marching cube: 7.61 seconds\n",
      "mesh_to_polydata: 0.04 seconds\n",
      "simplify 0 @ 35460: 0.26 seconds\n",
      "simplify 1 @ 7095: 0.32 seconds\n",
      "simplify 2 @ 1420: 0.06 seconds\n",
      "time: 9.38\n"
     ]
    },
    {
     "name": "stdout",
     "output_type": "stream",
     "text": [
      "Sp5C_R\n"
     ]
    },
    {
     "name": "stderr",
     "output_type": "stream",
     "text": [
      "marching cube: 7.17 seconds\n",
      "mesh_to_polydata: 0.08 seconds\n",
      "simplify 0 @ 31805: 0.55 seconds\n",
      "simplify 1 @ 6364: 0.58 seconds\n",
      "simplify 2 @ 1274: 0.14 seconds\n",
      "time: 9.09\n"
     ]
    },
    {
     "name": "stdout",
     "output_type": "stream",
     "text": [
      "PBG_L\n"
     ]
    },
    {
     "name": "stderr",
     "output_type": "stream",
     "text": [
      "marching cube: 8.72 seconds\n",
      "mesh_to_polydata: 0.00 seconds\n",
      "simplify 0 @ 1928: 0.02 seconds\n",
      "simplify 1 @ 387: 0.02 seconds\n",
      "time: 9.96\n"
     ]
    },
    {
     "name": "stdout",
     "output_type": "stream",
     "text": [
      "PBG_R\n"
     ]
    },
    {
     "name": "stderr",
     "output_type": "stream",
     "text": [
      "marching cube: 6.56 seconds\n",
      "mesh_to_polydata: 0.01 seconds\n",
      "simplify 0 @ 1774: 0.03 seconds\n",
      "simplify 1 @ 356: 0.03 seconds\n",
      "time: 7.22\n"
     ]
    },
    {
     "name": "stdout",
     "output_type": "stream",
     "text": [
      "10N_L\n"
     ]
    },
    {
     "name": "stderr",
     "output_type": "stream",
     "text": [
      "marching cube: 9.53 seconds\n",
      "mesh_to_polydata: 0.00 seconds\n",
      "simplify 0 @ 3236: 0.02 seconds\n",
      "simplify 1 @ 648: 0.03 seconds\n",
      "time: 10.92\n"
     ]
    },
    {
     "name": "stdout",
     "output_type": "stream",
     "text": [
      "10N_R\n"
     ]
    },
    {
     "name": "stderr",
     "output_type": "stream",
     "text": [
      "marching cube: 6.12 seconds\n",
      "mesh_to_polydata: 0.00 seconds\n",
      "simplify 0 @ 3208: 0.02 seconds\n",
      "simplify 1 @ 641: 0.02 seconds\n",
      "time: 6.81\n"
     ]
    },
    {
     "name": "stdout",
     "output_type": "stream",
     "text": [
      "VCA_L\n"
     ]
    },
    {
     "name": "stderr",
     "output_type": "stream",
     "text": [
      "marching cube: 10.54 seconds\n",
      "mesh_to_polydata: 0.02 seconds\n",
      "simplify 0 @ 14204: 0.11 seconds\n",
      "simplify 1 @ 2842: 0.12 seconds\n",
      "simplify 2 @ 569: 0.03 seconds\n",
      "time: 11.50\n"
     ]
    },
    {
     "name": "stdout",
     "output_type": "stream",
     "text": [
      "VCA_R\n"
     ]
    },
    {
     "name": "stderr",
     "output_type": "stream",
     "text": [
      "marching cube: 6.06 seconds\n",
      "mesh_to_polydata: 0.02 seconds\n",
      "simplify 0 @ 12778: 0.11 seconds\n",
      "simplify 1 @ 2557: 0.11 seconds\n",
      "simplify 2 @ 512: 0.02 seconds\n",
      "time: 6.97\n"
     ]
    },
    {
     "name": "stdout",
     "output_type": "stream",
     "text": [
      "VCP_L\n"
     ]
    },
    {
     "name": "stderr",
     "output_type": "stream",
     "text": [
      "marching cube: 10.27 seconds\n",
      "mesh_to_polydata: 0.02 seconds\n",
      "simplify 0 @ 8655: 0.11 seconds\n",
      "simplify 1 @ 1733: 0.10 seconds\n",
      "simplify 2 @ 348: 0.02 seconds\n",
      "time: 11.17\n"
     ]
    },
    {
     "name": "stdout",
     "output_type": "stream",
     "text": [
      "VCP_R\n"
     ]
    },
    {
     "name": "stderr",
     "output_type": "stream",
     "text": [
      "marching cube: 6.33 seconds\n",
      "mesh_to_polydata: 0.01 seconds\n",
      "simplify 0 @ 7304: 0.06 seconds\n",
      "simplify 1 @ 1462: 0.05 seconds\n",
      "simplify 2 @ 294: 0.01 seconds\n",
      "time: 7.12\n"
     ]
    },
    {
     "name": "stdout",
     "output_type": "stream",
     "text": [
      "DC_L\n"
     ]
    },
    {
     "name": "stderr",
     "output_type": "stream",
     "text": [
      "marching cube: 6.50 seconds\n",
      "mesh_to_polydata: 0.01 seconds\n",
      "simplify 0 @ 11498: 0.08 seconds\n",
      "simplify 1 @ 2298: 0.09 seconds\n",
      "simplify 2 @ 460: 0.02 seconds\n",
      "time: 7.28\n"
     ]
    },
    {
     "name": "stdout",
     "output_type": "stream",
     "text": [
      "DC_R\n"
     ]
    },
    {
     "name": "stderr",
     "output_type": "stream",
     "text": [
      "marching cube: 8.28 seconds\n",
      "mesh_to_polydata: 0.03 seconds\n",
      "simplify 0 @ 11287: 0.20 seconds\n",
      "simplify 1 @ 2258: 0.20 seconds\n",
      "simplify 2 @ 452: 0.05 seconds\n",
      "time: 9.34\n"
     ]
    },
    {
     "name": "stdout",
     "output_type": "stream",
     "text": [
      "AP\n"
     ]
    },
    {
     "name": "stderr",
     "output_type": "stream",
     "text": [
      "marching cube: 8.68 seconds\n",
      "mesh_to_polydata: 0.01 seconds\n",
      "simplify 0 @ 3244: 0.04 seconds\n",
      "simplify 1 @ 650: 0.04 seconds\n",
      "time: 9.89\n"
     ]
    },
    {
     "name": "stdout",
     "output_type": "stream",
     "text": [
      "12N\n"
     ]
    },
    {
     "name": "stderr",
     "output_type": "stream",
     "text": [
      "marching cube: 8.87 seconds\n",
      "mesh_to_polydata: 0.03 seconds\n",
      "simplify 0 @ 15151: 0.16 seconds\n",
      "simplify 1 @ 3032: 0.15 seconds\n",
      "simplify 2 @ 607: 0.03 seconds\n",
      "time: 10.35\n"
     ]
    },
    {
     "name": "stdout",
     "output_type": "stream",
     "text": [
      "RtTg\n"
     ]
    },
    {
     "name": "stderr",
     "output_type": "stream",
     "text": [
      "marching cube: 8.43 seconds\n",
      "mesh_to_polydata: 0.05 seconds\n",
      "simplify 0 @ 28701: 0.27 seconds\n",
      "simplify 1 @ 5737: 0.29 seconds\n",
      "simplify 2 @ 1150: 0.06 seconds\n",
      "time: 9.75\n"
     ]
    },
    {
     "name": "stdout",
     "output_type": "stream",
     "text": [
      "SC\n"
     ]
    },
    {
     "name": "stderr",
     "output_type": "stream",
     "text": [
      "marching cube: 6.22 seconds\n",
      "mesh_to_polydata: 0.17 seconds\n",
      "simplify 0 @ 136042: 1.45 seconds\n",
      "simplify 1 @ 27218: 1.60 seconds\n",
      "simplify 2 @ 5442: 0.67 seconds\n",
      "time: 10.79\n"
     ]
    },
    {
     "name": "stdout",
     "output_type": "stream",
     "text": [
      "IC\n"
     ]
    },
    {
     "name": "stderr",
     "output_type": "stream",
     "text": [
      "marching cube: 9.24 seconds\n",
      "mesh_to_polydata: 0.11 seconds\n",
      "simplify 0 @ 90025: 0.93 seconds\n",
      "simplify 1 @ 18013: 0.91 seconds\n",
      "simplify 2 @ 3602: 0.19 seconds\n",
      "time: 12.74\n"
     ]
    },
    {
     "name": "stdout",
     "output_type": "stream",
     "text": [
      "5N_L\n"
     ]
    },
    {
     "name": "stderr",
     "output_type": "stream",
     "text": [
      "marching cube: 6.79 seconds\n",
      "mesh_to_polydata: 0.02 seconds\n",
      "simplify 0 @ 8101: 0.13 seconds\n",
      "simplify 1 @ 1622: 0.14 seconds\n",
      "simplify 2 @ 325: 0.03 seconds\n",
      "time: 7.69\n"
     ]
    },
    {
     "name": "stdout",
     "output_type": "stream",
     "text": [
      "5N_R\n"
     ]
    },
    {
     "name": "stderr",
     "output_type": "stream",
     "text": [
      "marching cube: 9.49 seconds\n",
      "mesh_to_polydata: 0.02 seconds\n",
      "simplify 0 @ 8109: 0.12 seconds\n",
      "simplify 1 @ 1623: 0.11 seconds\n",
      "simplify 2 @ 326: 0.03 seconds\n",
      "time: 11.15\n"
     ]
    },
    {
     "name": "stdout",
     "output_type": "stream",
     "text": [
      "6N_L\n"
     ]
    },
    {
     "name": "stderr",
     "output_type": "stream",
     "text": [
      "marching cube: 8.57 seconds\n",
      "mesh_to_polydata: 0.00 seconds\n",
      "simplify 0 @ 834: 0.01 seconds\n",
      "time: 9.75\n"
     ]
    },
    {
     "name": "stdout",
     "output_type": "stream",
     "text": [
      "6N_R\n"
     ]
    },
    {
     "name": "stderr",
     "output_type": "stream",
     "text": [
      "marching cube: 8.68 seconds\n",
      "mesh_to_polydata: 0.00 seconds\n",
      "simplify 0 @ 773: 0.01 seconds\n",
      "time: 9.79\n"
     ]
    },
    {
     "name": "stdout",
     "output_type": "stream",
     "text": [
      "7N_L\n"
     ]
    },
    {
     "name": "stderr",
     "output_type": "stream",
     "text": [
      "marching cube: 6.27 seconds\n",
      "mesh_to_polydata: 0.02 seconds\n",
      "simplify 0 @ 14681: 0.10 seconds\n",
      "simplify 1 @ 2939: 0.11 seconds\n",
      "simplify 2 @ 589: 0.02 seconds\n",
      "time: 7.18\n"
     ]
    },
    {
     "name": "stdout",
     "output_type": "stream",
     "text": [
      "7N_R\n"
     ]
    },
    {
     "name": "stderr",
     "output_type": "stream",
     "text": [
      "marching cube: 6.38 seconds\n",
      "mesh_to_polydata: 0.02 seconds\n",
      "simplify 0 @ 14936: 0.10 seconds\n",
      "simplify 1 @ 2990: 0.12 seconds\n",
      "simplify 2 @ 599: 0.02 seconds\n",
      "time: 7.20\n"
     ]
    },
    {
     "name": "stdout",
     "output_type": "stream",
     "text": [
      "7n_L\n"
     ]
    },
    {
     "name": "stderr",
     "output_type": "stream",
     "text": [
      "marching cube: 9.45 seconds\n",
      "mesh_to_polydata: 0.03 seconds\n",
      "simplify 0 @ 11322: 0.16 seconds\n",
      "simplify 1 @ 2267: 0.16 seconds\n",
      "simplify 2 @ 455: 0.05 seconds\n",
      "time: 10.41\n"
     ]
    },
    {
     "name": "stdout",
     "output_type": "stream",
     "text": [
      "7n_R\n"
     ]
    },
    {
     "name": "stderr",
     "output_type": "stream",
     "text": [
      "marching cube: 7.21 seconds\n",
      "mesh_to_polydata: 0.01 seconds\n",
      "simplify 0 @ 10460: 0.07 seconds\n",
      "simplify 1 @ 2095: 0.08 seconds\n",
      "simplify 2 @ 420: 0.02 seconds\n",
      "time: 8.62\n"
     ]
    },
    {
     "name": "stdout",
     "output_type": "stream",
     "text": [
      "Amb_L\n"
     ]
    },
    {
     "name": "stderr",
     "output_type": "stream",
     "text": [
      "marching cube: 8.24 seconds\n",
      "mesh_to_polydata: 0.00 seconds\n",
      "simplify 0 @ 1138: 0.02 seconds\n",
      "simplify 1 @ 229: 0.02 seconds\n",
      "time: 8.85\n"
     ]
    },
    {
     "name": "stdout",
     "output_type": "stream",
     "text": [
      "Amb_R\n"
     ]
    },
    {
     "name": "stderr",
     "output_type": "stream",
     "text": [
      "marching cube: 8.75 seconds\n",
      "mesh_to_polydata: 0.00 seconds\n",
      "simplify 0 @ 1107: 0.02 seconds\n",
      "simplify 1 @ 222: 0.01 seconds\n",
      "time: 10.09\n"
     ]
    },
    {
     "name": "stdout",
     "output_type": "stream",
     "text": [
      "LC_L\n"
     ]
    },
    {
     "name": "stderr",
     "output_type": "stream",
     "text": [
      "marching cube: 8.59 seconds\n",
      "mesh_to_polydata: 0.01 seconds\n",
      "simplify 0 @ 4069: 0.06 seconds\n",
      "simplify 1 @ 815: 0.05 seconds\n",
      "time: 9.80\n"
     ]
    },
    {
     "name": "stdout",
     "output_type": "stream",
     "text": [
      "LC_R\n"
     ]
    },
    {
     "name": "stderr",
     "output_type": "stream",
     "text": [
      "marching cube: 6.43 seconds\n",
      "mesh_to_polydata: 0.00 seconds\n",
      "simplify 0 @ 3976: 0.03 seconds\n",
      "simplify 1 @ 796: 0.03 seconds\n",
      "time: 7.59\n"
     ]
    },
    {
     "name": "stdout",
     "output_type": "stream",
     "text": [
      "LRt_L\n"
     ]
    },
    {
     "name": "stderr",
     "output_type": "stream",
     "text": [
      "marching cube: 8.26 seconds\n",
      "mesh_to_polydata: 0.04 seconds\n",
      "simplify 0 @ 13516: 0.21 seconds\n",
      "simplify 1 @ 2706: 0.23 seconds\n",
      "simplify 2 @ 542: 0.05 seconds\n",
      "time: 9.38\n"
     ]
    },
    {
     "name": "stdout",
     "output_type": "stream",
     "text": [
      "LRt_R\n"
     ]
    },
    {
     "name": "stderr",
     "output_type": "stream",
     "text": [
      "marching cube: 7.88 seconds\n",
      "mesh_to_polydata: 0.01 seconds\n",
      "simplify 0 @ 12721: 0.10 seconds\n",
      "simplify 1 @ 2545: 0.10 seconds\n",
      "simplify 2 @ 510: 0.02 seconds\n",
      "time: 9.19\n"
     ]
    },
    {
     "name": "stdout",
     "output_type": "stream",
     "text": [
      "Pn_L\n"
     ]
    },
    {
     "name": "stderr",
     "output_type": "stream",
     "text": [
      "marching cube: 6.39 seconds\n",
      "mesh_to_polydata: 0.02 seconds\n",
      "simplify 0 @ 19053: 0.13 seconds\n",
      "simplify 1 @ 3813: 0.15 seconds\n",
      "simplify 2 @ 764: 0.03 seconds\n",
      "time: 7.30\n"
     ]
    },
    {
     "name": "stdout",
     "output_type": "stream",
     "text": [
      "Pn_R\n"
     ]
    },
    {
     "name": "stderr",
     "output_type": "stream",
     "text": [
      "marching cube: 6.33 seconds\n",
      "mesh_to_polydata: 0.02 seconds\n",
      "simplify 0 @ 18743: 0.15 seconds\n",
      "simplify 1 @ 3751: 0.17 seconds\n",
      "simplify 2 @ 751: 0.04 seconds\n",
      "time: 7.28\n"
     ]
    },
    {
     "name": "stdout",
     "output_type": "stream",
     "text": [
      "Tz_L\n"
     ]
    },
    {
     "name": "stderr",
     "output_type": "stream",
     "text": [
      "marching cube: 9.93 seconds\n",
      "mesh_to_polydata: 0.01 seconds\n",
      "simplify 0 @ 5890: 0.05 seconds\n",
      "simplify 1 @ 1180: 0.05 seconds\n",
      "simplify 2 @ 237: 0.01 seconds\n",
      "time: 11.22\n"
     ]
    },
    {
     "name": "stdout",
     "output_type": "stream",
     "text": [
      "Tz_R\n"
     ]
    },
    {
     "name": "stderr",
     "output_type": "stream",
     "text": [
      "marching cube: 6.48 seconds\n",
      "mesh_to_polydata: 0.01 seconds\n",
      "simplify 0 @ 6144: 0.05 seconds\n",
      "simplify 1 @ 1230: 0.05 seconds\n",
      "simplify 2 @ 247: 0.01 seconds\n",
      "time: 7.25\n"
     ]
    },
    {
     "name": "stdout",
     "output_type": "stream",
     "text": [
      "VLL_L\n"
     ]
    },
    {
     "name": "stderr",
     "output_type": "stream",
     "text": [
      "marching cube: 10.63 seconds\n",
      "mesh_to_polydata: 0.02 seconds\n",
      "simplify 0 @ 12270: 0.10 seconds\n",
      "simplify 1 @ 2456: 0.11 seconds\n",
      "simplify 2 @ 492: 0.02 seconds\n",
      "time: 11.52\n"
     ]
    },
    {
     "name": "stdout",
     "output_type": "stream",
     "text": [
      "VLL_R\n"
     ]
    },
    {
     "name": "stderr",
     "output_type": "stream",
     "text": [
      "marching cube: 6.43 seconds\n",
      "mesh_to_polydata: 0.02 seconds\n",
      "simplify 0 @ 13315: 0.11 seconds\n",
      "simplify 1 @ 2664: 0.11 seconds\n",
      "simplify 2 @ 534: 0.02 seconds\n",
      "time: 7.33\n"
     ]
    },
    {
     "name": "stdout",
     "output_type": "stream",
     "text": [
      "RMC_L\n"
     ]
    },
    {
     "name": "stderr",
     "output_type": "stream",
     "text": [
      "marching cube: 10.35 seconds\n",
      "mesh_to_polydata: 0.01 seconds\n",
      "simplify 0 @ 6805: 0.06 seconds\n",
      "simplify 1 @ 1363: 0.06 seconds\n",
      "simplify 2 @ 274: 0.01 seconds\n",
      "time: 11.15\n"
     ]
    },
    {
     "name": "stdout",
     "output_type": "stream",
     "text": [
      "RMC_R\n"
     ]
    },
    {
     "name": "stderr",
     "output_type": "stream",
     "text": [
      "marching cube: 6.11 seconds\n",
      "mesh_to_polydata: 0.01 seconds\n",
      "simplify 0 @ 6652: 0.04 seconds\n",
      "simplify 1 @ 1331: 0.05 seconds\n",
      "simplify 2 @ 268: 0.01 seconds\n",
      "time: 6.86\n"
     ]
    },
    {
     "name": "stdout",
     "output_type": "stream",
     "text": [
      "SNC_L\n"
     ]
    },
    {
     "name": "stderr",
     "output_type": "stream",
     "text": [
      "marching cube: 6.30 seconds\n",
      "mesh_to_polydata: 0.01 seconds\n",
      "simplify 0 @ 7270: 0.05 seconds\n",
      "simplify 1 @ 1455: 0.05 seconds\n",
      "simplify 2 @ 292: 0.01 seconds\n",
      "time: 7.00\n"
     ]
    },
    {
     "name": "stdout",
     "output_type": "stream",
     "text": [
      "SNC_R\n"
     ]
    },
    {
     "name": "stderr",
     "output_type": "stream",
     "text": [
      "marching cube: 6.34 seconds\n",
      "mesh_to_polydata: 0.01 seconds\n",
      "simplify 0 @ 7486: 0.05 seconds\n",
      "simplify 1 @ 1499: 0.06 seconds\n",
      "simplify 2 @ 301: 0.01 seconds\n",
      "time: 7.04\n"
     ]
    },
    {
     "name": "stdout",
     "output_type": "stream",
     "text": [
      "SNR_L\n"
     ]
    },
    {
     "name": "stderr",
     "output_type": "stream",
     "text": [
      "marching cube: 7.17 seconds\n",
      "mesh_to_polydata: 0.08 seconds\n",
      "simplify 0 @ 33312: 0.54 seconds\n",
      "simplify 1 @ 6668: 0.62 seconds\n",
      "simplify 2 @ 1334: 0.13 seconds\n",
      "time: 9.13\n"
     ]
    },
    {
     "name": "stdout",
     "output_type": "stream",
     "text": [
      "SNR_R\n"
     ]
    },
    {
     "name": "stderr",
     "output_type": "stream",
     "text": [
      "marching cube: 8.84 seconds\n",
      "mesh_to_polydata: 0.07 seconds\n",
      "simplify 0 @ 33291: 0.45 seconds\n",
      "simplify 1 @ 6660: 0.51 seconds\n",
      "simplify 2 @ 1334: 0.11 seconds\n",
      "time: 11.33\n"
     ]
    },
    {
     "name": "stdout",
     "output_type": "stream",
     "text": [
      "3N_L\n"
     ]
    },
    {
     "name": "stderr",
     "output_type": "stream",
     "text": [
      "marching cube: 6.72 seconds\n",
      "mesh_to_polydata: 0.00 seconds\n",
      "simplify 0 @ 2969: 0.02 seconds\n",
      "simplify 1 @ 595: 0.02 seconds\n",
      "time: 7.89\n"
     ]
    },
    {
     "name": "stdout",
     "output_type": "stream",
     "text": [
      "3N_R\n"
     ]
    },
    {
     "name": "stderr",
     "output_type": "stream",
     "text": [
      "marching cube: 7.55 seconds\n",
      "mesh_to_polydata: 0.01 seconds\n",
      "simplify 0 @ 3017: 0.05 seconds\n",
      "simplify 1 @ 605: 0.05 seconds\n",
      "time: 8.24\n"
     ]
    },
    {
     "name": "stdout",
     "output_type": "stream",
     "text": [
      "4N_L\n"
     ]
    },
    {
     "name": "stderr",
     "output_type": "stream",
     "text": [
      "marching cube: 8.60 seconds\n",
      "mesh_to_polydata: 0.00 seconds\n",
      "simplify 0 @ 360: 0.00 seconds\n",
      "time: 9.94\n"
     ]
    },
    {
     "name": "stdout",
     "output_type": "stream",
     "text": [
      "4N_R\n"
     ]
    },
    {
     "name": "stderr",
     "output_type": "stream",
     "text": [
      "marching cube: 6.72 seconds\n",
      "mesh_to_polydata: 0.00 seconds\n",
      "simplify 0 @ 387: 0.00 seconds\n",
      "time: 7.32\n"
     ]
    },
    {
     "name": "stdout",
     "output_type": "stream",
     "text": [
      "Sp5I_L\n"
     ]
    },
    {
     "name": "stderr",
     "output_type": "stream",
     "text": [
      "marching cube: 10.30 seconds\n",
      "mesh_to_polydata: 0.02 seconds\n",
      "simplify 0 @ 16671: 0.13 seconds\n",
      "simplify 1 @ 3325: 0.14 seconds\n",
      "simplify 2 @ 658: 0.03 seconds\n",
      "time: 11.55\n"
     ]
    },
    {
     "name": "stdout",
     "output_type": "stream",
     "text": [
      "Sp5I_R\n"
     ]
    },
    {
     "name": "stderr",
     "output_type": "stream",
     "text": [
      "marching cube: 6.30 seconds\n",
      "mesh_to_polydata: 0.02 seconds\n",
      "simplify 0 @ 16640: 0.13 seconds\n",
      "simplify 1 @ 3322: 0.17 seconds\n",
      "simplify 2 @ 661: 0.03 seconds\n",
      "time: 7.30\n"
     ]
    },
    {
     "name": "stdout",
     "output_type": "stream",
     "text": [
      "Sp5O_L\n"
     ]
    },
    {
     "name": "stderr",
     "output_type": "stream",
     "text": [
      "marching cube: 10.74 seconds\n",
      "mesh_to_polydata: 0.03 seconds\n",
      "simplify 0 @ 19153: 0.17 seconds\n",
      "simplify 1 @ 3825: 0.21 seconds\n",
      "simplify 2 @ 764: 0.05 seconds\n",
      "time: 11.87\n"
     ]
    },
    {
     "name": "stdout",
     "output_type": "stream",
     "text": [
      "Sp5O_R\n"
     ]
    },
    {
     "name": "stderr",
     "output_type": "stream",
     "text": [
      "marching cube: 8.78 seconds\n",
      "mesh_to_polydata: 0.02 seconds\n",
      "simplify 0 @ 18509: 0.20 seconds\n",
      "simplify 1 @ 3696: 0.27 seconds\n",
      "simplify 2 @ 735: 0.06 seconds\n",
      "time: 10.00\n"
     ]
    },
    {
     "name": "stdout",
     "output_type": "stream",
     "text": [
      "Sp5C_L\n"
     ]
    },
    {
     "name": "stderr",
     "output_type": "stream",
     "text": [
      "marching cube: 7.67 seconds\n",
      "mesh_to_polydata: 0.04 seconds\n",
      "simplify 0 @ 33952: 0.27 seconds\n",
      "simplify 1 @ 6794: 0.31 seconds\n",
      "simplify 2 @ 1359: 0.06 seconds\n",
      "time: 9.44\n"
     ]
    },
    {
     "name": "stdout",
     "output_type": "stream",
     "text": [
      "Sp5C_R\n"
     ]
    },
    {
     "name": "stderr",
     "output_type": "stream",
     "text": [
      "marching cube: 6.51 seconds\n",
      "mesh_to_polydata: 0.04 seconds\n",
      "simplify 0 @ 33429: 0.27 seconds\n",
      "simplify 1 @ 6686: 0.31 seconds\n",
      "simplify 2 @ 1337: 0.06 seconds\n",
      "time: 7.77\n"
     ]
    },
    {
     "name": "stdout",
     "output_type": "stream",
     "text": [
      "PBG_L\n"
     ]
    },
    {
     "name": "stderr",
     "output_type": "stream",
     "text": [
      "marching cube: 7.25 seconds\n",
      "mesh_to_polydata: 0.01 seconds\n",
      "simplify 0 @ 1780: 0.03 seconds\n",
      "simplify 1 @ 357: 0.03 seconds\n",
      "time: 7.89\n"
     ]
    },
    {
     "name": "stdout",
     "output_type": "stream",
     "text": [
      "PBG_R\n"
     ]
    },
    {
     "name": "stderr",
     "output_type": "stream",
     "text": [
      "marching cube: 9.01 seconds\n",
      "mesh_to_polydata: 0.00 seconds\n",
      "simplify 0 @ 1784: 0.02 seconds\n",
      "simplify 1 @ 358: 0.02 seconds\n",
      "time: 10.37\n"
     ]
    },
    {
     "name": "stdout",
     "output_type": "stream",
     "text": [
      "10N_L\n"
     ]
    },
    {
     "name": "stderr",
     "output_type": "stream",
     "text": [
      "marching cube: 8.71 seconds\n",
      "mesh_to_polydata: 0.01 seconds\n",
      "simplify 0 @ 3282: 0.04 seconds\n",
      "simplify 1 @ 656: 0.04 seconds\n",
      "time: 9.92\n"
     ]
    },
    {
     "name": "stdout",
     "output_type": "stream",
     "text": [
      "10N_R\n"
     ]
    },
    {
     "name": "stderr",
     "output_type": "stream",
     "text": [
      "marching cube: 8.68 seconds\n",
      "mesh_to_polydata: 0.01 seconds\n",
      "simplify 0 @ 3393: 0.04 seconds\n",
      "simplify 1 @ 680: 0.04 seconds\n",
      "time: 9.87\n"
     ]
    },
    {
     "name": "stdout",
     "output_type": "stream",
     "text": [
      "VCA_L\n"
     ]
    },
    {
     "name": "stderr",
     "output_type": "stream",
     "text": [
      "marching cube: 8.32 seconds\n",
      "mesh_to_polydata: 0.02 seconds\n",
      "simplify 0 @ 13489: 0.11 seconds\n",
      "simplify 1 @ 2700: 0.12 seconds\n",
      "simplify 2 @ 542: 0.03 seconds\n",
      "time: 9.26\n"
     ]
    },
    {
     "name": "stdout",
     "output_type": "stream",
     "text": [
      "VCA_R\n"
     ]
    },
    {
     "name": "stderr",
     "output_type": "stream",
     "text": [
      "marching cube: 6.20 seconds\n",
      "mesh_to_polydata: 0.01 seconds\n",
      "simplify 0 @ 13126: 0.10 seconds\n",
      "simplify 1 @ 2626: 0.10 seconds\n",
      "simplify 2 @ 526: 0.02 seconds\n",
      "time: 7.08\n"
     ]
    },
    {
     "name": "stdout",
     "output_type": "stream",
     "text": [
      "VCP_L\n"
     ]
    },
    {
     "name": "stderr",
     "output_type": "stream",
     "text": [
      "marching cube: 9.96 seconds\n",
      "mesh_to_polydata: 0.02 seconds\n",
      "simplify 0 @ 7733: 0.10 seconds\n",
      "simplify 1 @ 1549: 0.10 seconds\n",
      "simplify 2 @ 311: 0.02 seconds\n",
      "time: 10.85\n"
     ]
    },
    {
     "name": "stdout",
     "output_type": "stream",
     "text": [
      "VCP_R\n"
     ]
    },
    {
     "name": "stderr",
     "output_type": "stream",
     "text": [
      "marching cube: 6.36 seconds\n",
      "mesh_to_polydata: 0.01 seconds\n",
      "simplify 0 @ 7774: 0.06 seconds\n",
      "simplify 1 @ 1555: 0.06 seconds\n",
      "simplify 2 @ 312: 0.01 seconds\n",
      "time: 7.45\n"
     ]
    },
    {
     "name": "stdout",
     "output_type": "stream",
     "text": [
      "DC_L\n"
     ]
    },
    {
     "name": "stderr",
     "output_type": "stream",
     "text": [
      "marching cube: 8.78 seconds\n",
      "mesh_to_polydata: 0.02 seconds\n",
      "simplify 0 @ 9909: 0.17 seconds\n",
      "simplify 1 @ 1980: 0.14 seconds\n",
      "simplify 2 @ 396: 0.03 seconds\n",
      "time: 9.70\n"
     ]
    },
    {
     "name": "stdout",
     "output_type": "stream",
     "text": [
      "DC_R\n"
     ]
    },
    {
     "name": "stderr",
     "output_type": "stream",
     "text": [
      "marching cube: 7.88 seconds\n",
      "mesh_to_polydata: 0.01 seconds\n",
      "simplify 0 @ 11373: 0.09 seconds\n",
      "simplify 1 @ 2275: 0.09 seconds\n",
      "simplify 2 @ 456: 0.02 seconds\n",
      "time: 9.21\n"
     ]
    },
    {
     "name": "stdout",
     "output_type": "stream",
     "text": [
      "AP\n"
     ]
    },
    {
     "name": "stderr",
     "output_type": "stream",
     "text": [
      "marching cube: 7.39 seconds\n",
      "mesh_to_polydata: 0.01 seconds\n",
      "simplify 0 @ 3275: 0.05 seconds\n",
      "simplify 1 @ 656: 0.05 seconds\n",
      "time: 8.12\n"
     ]
    },
    {
     "name": "stdout",
     "output_type": "stream",
     "text": [
      "12N\n"
     ]
    },
    {
     "name": "stderr",
     "output_type": "stream",
     "text": [
      "marching cube: 9.02 seconds\n",
      "mesh_to_polydata: 0.02 seconds\n",
      "simplify 0 @ 14963: 0.11 seconds\n",
      "simplify 1 @ 2994: 0.11 seconds\n",
      "simplify 2 @ 600: 0.02 seconds\n",
      "time: 10.57\n"
     ]
    },
    {
     "name": "stdout",
     "output_type": "stream",
     "text": [
      "RtTg\n"
     ]
    },
    {
     "name": "stderr",
     "output_type": "stream",
     "text": [
      "marching cube: 6.19 seconds\n",
      "mesh_to_polydata: 0.04 seconds\n",
      "simplify 0 @ 30046: 0.27 seconds\n",
      "simplify 1 @ 6001: 0.29 seconds\n",
      "simplify 2 @ 1198: 0.06 seconds\n",
      "time: 7.42\n"
     ]
    },
    {
     "name": "stdout",
     "output_type": "stream",
     "text": [
      "SC\n"
     ]
    },
    {
     "name": "stderr",
     "output_type": "stream",
     "text": [
      "marching cube: 6.24 seconds\n",
      "mesh_to_polydata: 0.18 seconds\n",
      "simplify 0 @ 146073: 1.59 seconds\n",
      "simplify 1 @ 29233: 2.99 seconds\n",
      "simplify 2 @ 5845: 0.63 seconds\n",
      "time: 12.21\n"
     ]
    },
    {
     "name": "stdout",
     "output_type": "stream",
     "text": [
      "IC\n"
     ]
    },
    {
     "name": "stderr",
     "output_type": "stream",
     "text": [
      "marching cube: 7.71 seconds\n",
      "mesh_to_polydata: 0.11 seconds\n",
      "simplify 0 @ 97614: 0.83 seconds\n",
      "simplify 1 @ 19530: 1.00 seconds\n",
      "simplify 2 @ 3906: 0.20 seconds\n",
      "time: 11.00\n"
     ]
    },
    {
     "name": "stdout",
     "output_type": "stream",
     "text": [
      "5N_L\n"
     ]
    },
    {
     "name": "stderr",
     "output_type": "stream",
     "text": [
      "marching cube: 5.48 seconds\n",
      "mesh_to_polydata: 0.01 seconds\n",
      "simplify 0 @ 7926: 0.06 seconds\n",
      "simplify 1 @ 1586: 0.05 seconds\n",
      "simplify 2 @ 318: 0.01 seconds\n",
      "time: 6.18\n"
     ]
    },
    {
     "name": "stdout",
     "output_type": "stream",
     "text": [
      "5N_R\n"
     ]
    },
    {
     "name": "stderr",
     "output_type": "stream",
     "text": [
      "marching cube: 8.17 seconds\n",
      "mesh_to_polydata: 0.01 seconds\n",
      "simplify 0 @ 7696: 0.06 seconds\n",
      "simplify 1 @ 1540: 0.06 seconds\n",
      "simplify 2 @ 309: 0.01 seconds\n",
      "time: 8.88\n"
     ]
    },
    {
     "name": "stdout",
     "output_type": "stream",
     "text": [
      "6N_L\n"
     ]
    },
    {
     "name": "stderr",
     "output_type": "stream",
     "text": [
      "marching cube: 8.35 seconds\n",
      "mesh_to_polydata: 0.00 seconds\n",
      "simplify 0 @ 725: 0.01 seconds\n",
      "time: 9.01\n"
     ]
    },
    {
     "name": "stdout",
     "output_type": "stream",
     "text": [
      "6N_R\n"
     ]
    },
    {
     "name": "stderr",
     "output_type": "stream",
     "text": [
      "marching cube: 6.02 seconds\n",
      "mesh_to_polydata: 0.00 seconds\n",
      "simplify 0 @ 788: 0.01 seconds\n",
      "time: 6.67\n"
     ]
    },
    {
     "name": "stdout",
     "output_type": "stream",
     "text": [
      "7N_L\n"
     ]
    },
    {
     "name": "stderr",
     "output_type": "stream",
     "text": [
      "marching cube: 10.69 seconds\n",
      "mesh_to_polydata: 0.02 seconds\n",
      "simplify 0 @ 13890: 0.13 seconds\n",
      "simplify 1 @ 2781: 0.14 seconds\n",
      "simplify 2 @ 557: 0.03 seconds\n",
      "time: 11.64\n"
     ]
    },
    {
     "name": "stdout",
     "output_type": "stream",
     "text": [
      "7N_R\n"
     ]
    },
    {
     "name": "stderr",
     "output_type": "stream",
     "text": [
      "marching cube: 6.08 seconds\n",
      "mesh_to_polydata: 0.02 seconds\n",
      "simplify 0 @ 14084: 0.11 seconds\n",
      "simplify 1 @ 2819: 0.12 seconds\n",
      "simplify 2 @ 565: 0.03 seconds\n",
      "time: 7.01\n"
     ]
    },
    {
     "name": "stdout",
     "output_type": "stream",
     "text": [
      "7n_L\n"
     ]
    },
    {
     "name": "stderr",
     "output_type": "stream",
     "text": [
      "marching cube: 10.42 seconds\n",
      "mesh_to_polydata: 0.01 seconds\n",
      "simplify 0 @ 9883: 0.08 seconds\n",
      "simplify 1 @ 1978: 0.08 seconds\n",
      "simplify 2 @ 397: 0.02 seconds\n",
      "time: 11.27\n"
     ]
    },
    {
     "name": "stdout",
     "output_type": "stream",
     "text": [
      "7n_R\n"
     ]
    },
    {
     "name": "stderr",
     "output_type": "stream",
     "text": [
      "marching cube: 8.63 seconds\n",
      "mesh_to_polydata: 0.01 seconds\n",
      "simplify 0 @ 10464: 0.08 seconds\n",
      "simplify 1 @ 2095: 0.09 seconds\n",
      "simplify 2 @ 420: 0.02 seconds\n",
      "time: 9.49\n"
     ]
    },
    {
     "name": "stdout",
     "output_type": "stream",
     "text": [
      "Amb_L\n"
     ]
    },
    {
     "name": "stderr",
     "output_type": "stream",
     "text": [
      "marching cube: 6.11 seconds\n",
      "mesh_to_polydata: 0.00 seconds\n",
      "simplify 0 @ 994: 0.01 seconds\n",
      "simplify 1 @ 200: 0.01 seconds\n",
      "time: 6.81\n"
     ]
    },
    {
     "name": "stdout",
     "output_type": "stream",
     "text": [
      "Amb_R\n"
     ]
    },
    {
     "name": "stderr",
     "output_type": "stream",
     "text": [
      "marching cube: 9.92 seconds\n",
      "mesh_to_polydata: 0.00 seconds\n",
      "simplify 0 @ 918: 0.01 seconds\n",
      "time: 10.59\n"
     ]
    },
    {
     "name": "stdout",
     "output_type": "stream",
     "text": [
      "LC_L\n"
     ]
    },
    {
     "name": "stderr",
     "output_type": "stream",
     "text": [
      "marching cube: 6.37 seconds\n",
      "mesh_to_polydata: 0.01 seconds\n",
      "simplify 0 @ 3823: 0.03 seconds\n",
      "simplify 1 @ 766: 0.03 seconds\n",
      "time: 7.40\n"
     ]
    },
    {
     "name": "stdout",
     "output_type": "stream",
     "text": [
      "LC_R\n"
     ]
    },
    {
     "name": "stderr",
     "output_type": "stream",
     "text": [
      "marching cube: 8.73 seconds\n",
      "mesh_to_polydata: 0.01 seconds\n",
      "simplify 0 @ 3700: 0.06 seconds\n",
      "simplify 1 @ 741: 0.05 seconds\n",
      "time: 9.42\n"
     ]
    },
    {
     "name": "stdout",
     "output_type": "stream",
     "text": [
      "LRt_L\n"
     ]
    },
    {
     "name": "stderr",
     "output_type": "stream",
     "text": [
      "marching cube: 8.93 seconds\n",
      "mesh_to_polydata: 0.03 seconds\n",
      "simplify 0 @ 12675: 0.20 seconds\n",
      "simplify 1 @ 2536: 0.21 seconds\n",
      "simplify 2 @ 508: 0.04 seconds\n",
      "time: 10.49\n"
     ]
    },
    {
     "name": "stdout",
     "output_type": "stream",
     "text": [
      "LRt_R\n"
     ]
    },
    {
     "name": "stderr",
     "output_type": "stream",
     "text": [
      "marching cube: 6.54 seconds\n",
      "mesh_to_polydata: 0.01 seconds\n",
      "simplify 0 @ 12532: 0.09 seconds\n",
      "simplify 1 @ 2508: 0.10 seconds\n",
      "simplify 2 @ 503: 0.02 seconds\n",
      "time: 7.87\n"
     ]
    },
    {
     "name": "stdout",
     "output_type": "stream",
     "text": [
      "Pn_L\n"
     ]
    },
    {
     "name": "stderr",
     "output_type": "stream",
     "text": [
      "marching cube: 8.47 seconds\n",
      "mesh_to_polydata: 0.07 seconds\n",
      "simplify 0 @ 18528: 0.39 seconds\n",
      "simplify 1 @ 3709: 0.26 seconds\n",
      "simplify 2 @ 743: 0.07 seconds\n",
      "time: 9.83\n"
     ]
    },
    {
     "name": "stdout",
     "output_type": "stream",
     "text": [
      "Pn_R\n"
     ]
    },
    {
     "name": "stderr",
     "output_type": "stream",
     "text": [
      "marching cube: 8.60 seconds\n",
      "mesh_to_polydata: 0.04 seconds\n",
      "simplify 0 @ 17899: 0.24 seconds\n",
      "simplify 1 @ 3582: 0.25 seconds\n",
      "simplify 2 @ 717: 0.05 seconds\n",
      "time: 10.30\n"
     ]
    },
    {
     "name": "stdout",
     "output_type": "stream",
     "text": [
      "Tz_L\n"
     ]
    },
    {
     "name": "stderr",
     "output_type": "stream",
     "text": [
      "marching cube: 8.20 seconds\n",
      "mesh_to_polydata: 0.01 seconds\n",
      "simplify 0 @ 5716: 0.05 seconds\n",
      "simplify 1 @ 1144: 0.04 seconds\n",
      "simplify 2 @ 230: 0.01 seconds\n",
      "time: 9.37\n"
     ]
    },
    {
     "name": "stdout",
     "output_type": "stream",
     "text": [
      "Tz_R\n"
     ]
    },
    {
     "name": "stderr",
     "output_type": "stream",
     "text": [
      "marching cube: 6.13 seconds\n",
      "mesh_to_polydata: 0.01 seconds\n",
      "simplify 0 @ 5568: 0.04 seconds\n",
      "simplify 1 @ 1115: 0.04 seconds\n",
      "simplify 2 @ 224: 0.01 seconds\n",
      "time: 6.87\n"
     ]
    },
    {
     "name": "stdout",
     "output_type": "stream",
     "text": [
      "VLL_L\n"
     ]
    },
    {
     "name": "stderr",
     "output_type": "stream",
     "text": [
      "marching cube: 6.28 seconds\n",
      "mesh_to_polydata: 0.01 seconds\n",
      "simplify 0 @ 12006: 0.09 seconds\n",
      "simplify 1 @ 2402: 0.09 seconds\n",
      "simplify 2 @ 482: 0.02 seconds\n",
      "time: 7.06\n"
     ]
    },
    {
     "name": "stdout",
     "output_type": "stream",
     "text": [
      "VLL_R\n"
     ]
    },
    {
     "name": "stderr",
     "output_type": "stream",
     "text": [
      "marching cube: 6.37 seconds\n",
      "mesh_to_polydata: 0.02 seconds\n",
      "simplify 0 @ 11664: 0.10 seconds\n",
      "simplify 1 @ 2334: 0.09 seconds\n",
      "simplify 2 @ 468: 0.02 seconds\n",
      "time: 7.17\n"
     ]
    },
    {
     "name": "stdout",
     "output_type": "stream",
     "text": [
      "RMC_L\n"
     ]
    },
    {
     "name": "stderr",
     "output_type": "stream",
     "text": [
      "marching cube: 6.87 seconds\n",
      "mesh_to_polydata: 0.02 seconds\n",
      "simplify 0 @ 6458: 0.10 seconds\n",
      "simplify 1 @ 1293: 0.10 seconds\n",
      "simplify 2 @ 260: 0.02 seconds\n",
      "time: 7.68\n"
     ]
    },
    {
     "name": "stdout",
     "output_type": "stream",
     "text": [
      "RMC_R\n"
     ]
    },
    {
     "name": "stderr",
     "output_type": "stream",
     "text": [
      "marching cube: 9.31 seconds\n",
      "mesh_to_polydata: 0.01 seconds\n",
      "simplify 0 @ 6439: 0.04 seconds\n",
      "simplify 1 @ 1289: 0.05 seconds\n",
      "simplify 2 @ 259: 0.01 seconds\n",
      "time: 10.74\n"
     ]
    },
    {
     "name": "stdout",
     "output_type": "stream",
     "text": [
      "SNC_L\n"
     ]
    },
    {
     "name": "stderr",
     "output_type": "stream",
     "text": [
      "marching cube: 6.24 seconds\n",
      "mesh_to_polydata: 0.01 seconds\n",
      "simplify 0 @ 7049: 0.05 seconds\n",
      "simplify 1 @ 1411: 0.06 seconds\n",
      "simplify 2 @ 283: 0.01 seconds\n",
      "time: 6.96\n"
     ]
    },
    {
     "name": "stdout",
     "output_type": "stream",
     "text": [
      "SNC_R\n"
     ]
    },
    {
     "name": "stderr",
     "output_type": "stream",
     "text": [
      "marching cube: 6.10 seconds\n",
      "mesh_to_polydata: 0.02 seconds\n",
      "simplify 0 @ 7056: 0.07 seconds\n",
      "simplify 1 @ 1411: 0.07 seconds\n",
      "simplify 2 @ 283: 0.01 seconds\n",
      "time: 6.92\n"
     ]
    },
    {
     "name": "stdout",
     "output_type": "stream",
     "text": [
      "SNR_L\n"
     ]
    },
    {
     "name": "stderr",
     "output_type": "stream",
     "text": [
      "marching cube: 10.52 seconds\n",
      "mesh_to_polydata: 0.04 seconds\n",
      "simplify 0 @ 30663: 0.25 seconds\n",
      "simplify 1 @ 6135: 0.30 seconds\n",
      "simplify 2 @ 1228: 0.06 seconds\n",
      "time: 11.82\n"
     ]
    },
    {
     "name": "stdout",
     "output_type": "stream",
     "text": [
      "SNR_R\n"
     ]
    },
    {
     "name": "stderr",
     "output_type": "stream",
     "text": [
      "marching cube: 6.34 seconds\n",
      "mesh_to_polydata: 0.04 seconds\n",
      "simplify 0 @ 31104: 0.25 seconds\n",
      "simplify 1 @ 6223: 0.31 seconds\n",
      "simplify 2 @ 1245: 0.06 seconds\n",
      "time: 7.65\n"
     ]
    },
    {
     "name": "stdout",
     "output_type": "stream",
     "text": [
      "3N_L\n"
     ]
    },
    {
     "name": "stderr",
     "output_type": "stream",
     "text": [
      "marching cube: 10.54 seconds\n",
      "mesh_to_polydata: 0.00 seconds\n",
      "simplify 0 @ 2616: 0.02 seconds\n",
      "simplify 1 @ 524: 0.02 seconds\n",
      "time: 11.26\n"
     ]
    },
    {
     "name": "stdout",
     "output_type": "stream",
     "text": [
      "3N_R\n"
     ]
    },
    {
     "name": "stderr",
     "output_type": "stream",
     "text": [
      "marching cube: 8.71 seconds\n",
      "mesh_to_polydata: 0.00 seconds\n",
      "simplify 0 @ 2792: 0.02 seconds\n",
      "simplify 1 @ 560: 0.02 seconds\n",
      "time: 9.41\n"
     ]
    },
    {
     "name": "stdout",
     "output_type": "stream",
     "text": [
      "4N_L\n"
     ]
    },
    {
     "name": "stderr",
     "output_type": "stream",
     "text": [
      "marching cube: 6.08 seconds\n",
      "mesh_to_polydata: 0.00 seconds\n",
      "simplify 0 @ 347: 0.00 seconds\n",
      "time: 6.75\n"
     ]
    },
    {
     "name": "stdout",
     "output_type": "stream",
     "text": [
      "4N_R\n"
     ]
    },
    {
     "name": "stderr",
     "output_type": "stream",
     "text": [
      "marching cube: 6.04 seconds\n",
      "mesh_to_polydata: 0.00 seconds\n",
      "simplify 0 @ 390: 0.00 seconds\n",
      "time: 6.69\n"
     ]
    },
    {
     "name": "stdout",
     "output_type": "stream",
     "text": [
      "Sp5I_L\n"
     ]
    },
    {
     "name": "stderr",
     "output_type": "stream",
     "text": [
      "marching cube: 9.52 seconds\n",
      "mesh_to_polydata: 0.03 seconds\n",
      "simplify 0 @ 13251: 0.19 seconds\n",
      "simplify 1 @ 2650: 0.19 seconds\n",
      "simplify 2 @ 530: 0.04 seconds\n",
      "time: 10.60\n"
     ]
    },
    {
     "name": "stdout",
     "output_type": "stream",
     "text": [
      "Sp5I_R\n"
     ]
    },
    {
     "name": "stderr",
     "output_type": "stream",
     "text": [
      "marching cube: 6.73 seconds\n",
      "mesh_to_polydata: 0.02 seconds\n",
      "simplify 0 @ 12625: 0.10 seconds\n",
      "simplify 1 @ 2523: 0.10 seconds\n",
      "simplify 2 @ 506: 0.02 seconds\n",
      "time: 8.07\n"
     ]
    },
    {
     "name": "stdout",
     "output_type": "stream",
     "text": [
      "Sp5O_L\n"
     ]
    },
    {
     "name": "stderr",
     "output_type": "stream",
     "text": [
      "marching cube: 8.59 seconds\n",
      "mesh_to_polydata: 0.05 seconds\n",
      "simplify 0 @ 20041: 0.28 seconds\n",
      "simplify 1 @ 3988: 0.29 seconds\n",
      "simplify 2 @ 788: 0.06 seconds\n",
      "time: 9.86\n"
     ]
    },
    {
     "name": "stdout",
     "output_type": "stream",
     "text": [
      "Sp5O_R\n"
     ]
    },
    {
     "name": "stderr",
     "output_type": "stream",
     "text": [
      "marching cube: 7.48 seconds\n",
      "mesh_to_polydata: 0.02 seconds\n",
      "simplify 0 @ 16404: 0.14 seconds\n",
      "simplify 1 @ 3276: 0.13 seconds\n",
      "simplify 2 @ 655: 0.03 seconds\n",
      "time: 8.87\n"
     ]
    },
    {
     "name": "stdout",
     "output_type": "stream",
     "text": [
      "Sp5C_L\n"
     ]
    },
    {
     "name": "stderr",
     "output_type": "stream",
     "text": [
      "marching cube: 6.37 seconds\n",
      "mesh_to_polydata: 0.03 seconds\n",
      "simplify 0 @ 31342: 0.24 seconds\n",
      "simplify 1 @ 6271: 0.26 seconds\n",
      "simplify 2 @ 1255: 0.06 seconds\n",
      "time: 7.53\n"
     ]
    },
    {
     "name": "stdout",
     "output_type": "stream",
     "text": [
      "Sp5C_R\n"
     ]
    },
    {
     "name": "stderr",
     "output_type": "stream",
     "text": [
      "marching cube: 6.97 seconds\n",
      "mesh_to_polydata: 0.09 seconds\n",
      "simplify 0 @ 37171: 0.58 seconds\n",
      "simplify 1 @ 7438: 0.68 seconds\n",
      "simplify 2 @ 1489: 0.15 seconds\n",
      "time: 9.05\n"
     ]
    },
    {
     "name": "stdout",
     "output_type": "stream",
     "text": [
      "PBG_L\n"
     ]
    },
    {
     "name": "stderr",
     "output_type": "stream",
     "text": [
      "marching cube: 8.74 seconds\n",
      "mesh_to_polydata: 0.00 seconds\n",
      "simplify 0 @ 1789: 0.01 seconds\n",
      "simplify 1 @ 359: 0.01 seconds\n",
      "time: 10.08\n"
     ]
    },
    {
     "name": "stdout",
     "output_type": "stream",
     "text": [
      "PBG_R\n"
     ]
    },
    {
     "name": "stderr",
     "output_type": "stream",
     "text": [
      "marching cube: 6.35 seconds\n",
      "mesh_to_polydata: 0.00 seconds\n",
      "simplify 0 @ 1762: 0.01 seconds\n",
      "simplify 1 @ 354: 0.01 seconds\n",
      "time: 6.96\n"
     ]
    },
    {
     "name": "stdout",
     "output_type": "stream",
     "text": [
      "10N_L\n"
     ]
    },
    {
     "name": "stderr",
     "output_type": "stream",
     "text": [
      "marching cube: 10.36 seconds\n",
      "mesh_to_polydata: 0.00 seconds\n",
      "simplify 0 @ 3044: 0.02 seconds\n",
      "simplify 1 @ 610: 0.02 seconds\n",
      "time: 11.08\n"
     ]
    },
    {
     "name": "stdout",
     "output_type": "stream",
     "text": [
      "10N_R\n"
     ]
    },
    {
     "name": "stderr",
     "output_type": "stream",
     "text": [
      "marching cube: 5.99 seconds\n",
      "mesh_to_polydata: 0.00 seconds\n",
      "simplify 0 @ 3265: 0.02 seconds\n",
      "simplify 1 @ 654: 0.02 seconds\n",
      "time: 6.68\n"
     ]
    },
    {
     "name": "stdout",
     "output_type": "stream",
     "text": [
      "VCA_L\n"
     ]
    },
    {
     "name": "stderr",
     "output_type": "stream",
     "text": [
      "marching cube: 6.07 seconds\n",
      "mesh_to_polydata: 0.01 seconds\n",
      "simplify 0 @ 12202: 0.10 seconds\n",
      "simplify 1 @ 2442: 0.09 seconds\n",
      "simplify 2 @ 490: 0.02 seconds\n",
      "time: 6.95\n"
     ]
    },
    {
     "name": "stdout",
     "output_type": "stream",
     "text": [
      "VCA_R\n"
     ]
    },
    {
     "name": "stderr",
     "output_type": "stream",
     "text": [
      "marching cube: 6.17 seconds\n",
      "mesh_to_polydata: 0.01 seconds\n",
      "simplify 0 @ 10657: 0.09 seconds\n",
      "simplify 1 @ 2133: 0.08 seconds\n",
      "simplify 2 @ 428: 0.02 seconds\n",
      "time: 7.01\n"
     ]
    },
    {
     "name": "stdout",
     "output_type": "stream",
     "text": [
      "VCP_L\n"
     ]
    },
    {
     "name": "stderr",
     "output_type": "stream",
     "text": [
      "marching cube: 6.23 seconds\n",
      "mesh_to_polydata: 0.01 seconds\n",
      "simplify 0 @ 7296: 0.05 seconds\n",
      "simplify 1 @ 1460: 0.05 seconds\n",
      "simplify 2 @ 293: 0.01 seconds\n",
      "time: 6.93\n"
     ]
    },
    {
     "name": "stdout",
     "output_type": "stream",
     "text": [
      "VCP_R\n"
     ]
    },
    {
     "name": "stderr",
     "output_type": "stream",
     "text": [
      "marching cube: 6.41 seconds\n",
      "mesh_to_polydata: 0.01 seconds\n",
      "simplify 0 @ 7471: 0.05 seconds\n",
      "simplify 1 @ 1495: 0.06 seconds\n",
      "simplify 2 @ 300: 0.01 seconds\n",
      "time: 7.12\n"
     ]
    },
    {
     "name": "stdout",
     "output_type": "stream",
     "text": [
      "DC_L\n"
     ]
    },
    {
     "name": "stderr",
     "output_type": "stream",
     "text": [
      "marching cube: 6.32 seconds\n",
      "mesh_to_polydata: 0.03 seconds\n",
      "simplify 0 @ 12322: 0.19 seconds\n",
      "simplify 1 @ 2458: 0.20 seconds\n",
      "simplify 2 @ 492: 0.05 seconds\n",
      "time: 7.36\n"
     ]
    },
    {
     "name": "stdout",
     "output_type": "stream",
     "text": [
      "DC_R\n"
     ]
    },
    {
     "name": "stderr",
     "output_type": "stream",
     "text": [
      "marching cube: 9.35 seconds\n",
      "mesh_to_polydata: 0.01 seconds\n",
      "simplify 0 @ 11584: 0.09 seconds\n",
      "simplify 1 @ 2316: 0.10 seconds\n",
      "simplify 2 @ 465: 0.02 seconds\n",
      "time: 10.89\n"
     ]
    },
    {
     "name": "stdout",
     "output_type": "stream",
     "text": [
      "AP\n"
     ]
    },
    {
     "name": "stderr",
     "output_type": "stream",
     "text": [
      "marching cube: 6.22 seconds\n",
      "mesh_to_polydata: 0.00 seconds\n",
      "simplify 0 @ 3441: 0.03 seconds\n",
      "simplify 1 @ 690: 0.03 seconds\n",
      "time: 6.91\n"
     ]
    },
    {
     "name": "stdout",
     "output_type": "stream",
     "text": [
      "12N\n"
     ]
    },
    {
     "name": "stderr",
     "output_type": "stream",
     "text": [
      "marching cube: 10.55 seconds\n",
      "mesh_to_polydata: 0.02 seconds\n",
      "simplify 0 @ 14326: 0.12 seconds\n",
      "simplify 1 @ 2868: 0.13 seconds\n",
      "simplify 2 @ 574: 0.03 seconds\n",
      "time: 11.49\n"
     ]
    },
    {
     "name": "stdout",
     "output_type": "stream",
     "text": [
      "RtTg\n"
     ]
    },
    {
     "name": "stderr",
     "output_type": "stream",
     "text": [
      "marching cube: 8.34 seconds\n",
      "mesh_to_polydata: 0.04 seconds\n",
      "simplify 0 @ 28616: 0.26 seconds\n",
      "simplify 1 @ 5712: 0.28 seconds\n",
      "simplify 2 @ 1141: 0.06 seconds\n",
      "time: 9.64\n"
     ]
    },
    {
     "name": "stdout",
     "output_type": "stream",
     "text": [
      "SC\n"
     ]
    },
    {
     "name": "stderr",
     "output_type": "stream",
     "text": [
      "marching cube: 6.46 seconds\n",
      "mesh_to_polydata: 0.17 seconds\n",
      "simplify 0 @ 139857: 1.52 seconds\n",
      "simplify 1 @ 27988: 3.13 seconds\n",
      "simplify 2 @ 5596: 0.64 seconds\n",
      "time: 12.57\n"
     ]
    },
    {
     "name": "stdout",
     "output_type": "stream",
     "text": [
      "IC\n"
     ]
    },
    {
     "name": "stderr",
     "output_type": "stream",
     "text": [
      "marching cube: 7.58 seconds\n",
      "mesh_to_polydata: 0.10 seconds\n",
      "simplify 0 @ 88710: 0.80 seconds\n",
      "simplify 1 @ 17753: 0.85 seconds\n",
      "simplify 2 @ 3550: 0.18 seconds\n",
      "time: 10.69\n"
     ]
    },
    {
     "name": "stdout",
     "output_type": "stream",
     "text": [
      "5N_L\n"
     ]
    },
    {
     "name": "stderr",
     "output_type": "stream",
     "text": [
      "marching cube: 6.29 seconds\n",
      "mesh_to_polydata: 0.01 seconds\n",
      "simplify 0 @ 7876: 0.06 seconds\n",
      "simplify 1 @ 1577: 0.06 seconds\n",
      "simplify 2 @ 317: 0.01 seconds\n",
      "time: 7.00\n"
     ]
    },
    {
     "name": "stdout",
     "output_type": "stream",
     "text": [
      "5N_R\n"
     ]
    },
    {
     "name": "stderr",
     "output_type": "stream",
     "text": [
      "marching cube: 7.67 seconds\n",
      "mesh_to_polydata: 0.02 seconds\n",
      "simplify 0 @ 7780: 0.13 seconds\n",
      "simplify 1 @ 1557: 0.12 seconds\n",
      "simplify 2 @ 313: 0.03 seconds\n",
      "time: 8.55\n"
     ]
    },
    {
     "name": "stdout",
     "output_type": "stream",
     "text": [
      "6N_L\n"
     ]
    },
    {
     "name": "stderr",
     "output_type": "stream",
     "text": [
      "marching cube: 8.95 seconds\n",
      "mesh_to_polydata: 0.00 seconds\n",
      "simplify 0 @ 786: 0.01 seconds\n",
      "time: 10.27\n"
     ]
    },
    {
     "name": "stdout",
     "output_type": "stream",
     "text": [
      "6N_R\n"
     ]
    },
    {
     "name": "stderr",
     "output_type": "stream",
     "text": [
      "marching cube: 8.58 seconds\n",
      "mesh_to_polydata: 0.00 seconds\n",
      "simplify 0 @ 772: 0.01 seconds\n",
      "time: 9.81\n"
     ]
    },
    {
     "name": "stdout",
     "output_type": "stream",
     "text": [
      "7N_L\n"
     ]
    },
    {
     "name": "stderr",
     "output_type": "stream",
     "text": [
      "marching cube: 8.30 seconds\n",
      "mesh_to_polydata: 0.02 seconds\n",
      "simplify 0 @ 14319: 0.12 seconds\n",
      "simplify 1 @ 2866: 0.13 seconds\n",
      "simplify 2 @ 575: 0.03 seconds\n",
      "time: 9.67\n"
     ]
    },
    {
     "name": "stdout",
     "output_type": "stream",
     "text": [
      "7N_R\n"
     ]
    },
    {
     "name": "stderr",
     "output_type": "stream",
     "text": [
      "marching cube: 8.49 seconds\n",
      "mesh_to_polydata: 0.02 seconds\n",
      "simplify 0 @ 14102: 0.12 seconds\n",
      "simplify 1 @ 2822: 0.12 seconds\n",
      "simplify 2 @ 565: 0.03 seconds\n",
      "time: 9.43\n"
     ]
    },
    {
     "name": "stdout",
     "output_type": "stream",
     "text": [
      "7n_L\n"
     ]
    },
    {
     "name": "stderr",
     "output_type": "stream",
     "text": [
      "marching cube: 6.13 seconds\n",
      "mesh_to_polydata: 0.01 seconds\n",
      "simplify 0 @ 10067: 0.08 seconds\n",
      "simplify 1 @ 2016: 0.08 seconds\n",
      "simplify 2 @ 404: 0.02 seconds\n",
      "time: 6.97\n"
     ]
    },
    {
     "name": "stdout",
     "output_type": "stream",
     "text": [
      "7n_R\n"
     ]
    },
    {
     "name": "stderr",
     "output_type": "stream",
     "text": [
      "marching cube: 10.55 seconds\n",
      "mesh_to_polydata: 0.01 seconds\n",
      "simplify 0 @ 10011: 0.08 seconds\n",
      "simplify 1 @ 2003: 0.08 seconds\n",
      "simplify 2 @ 402: 0.02 seconds\n",
      "time: 11.49\n"
     ]
    },
    {
     "name": "stdout",
     "output_type": "stream",
     "text": [
      "Amb_L\n"
     ]
    },
    {
     "name": "stderr",
     "output_type": "stream",
     "text": [
      "marching cube: 6.23 seconds\n",
      "mesh_to_polydata: 0.00 seconds\n",
      "simplify 0 @ 1013: 0.01 seconds\n",
      "simplify 1 @ 204: 0.01 seconds\n",
      "time: 6.90\n"
     ]
    },
    {
     "name": "stdout",
     "output_type": "stream",
     "text": [
      "Amb_R\n"
     ]
    },
    {
     "name": "stderr",
     "output_type": "stream",
     "text": [
      "marching cube: 6.37 seconds\n",
      "mesh_to_polydata: 0.00 seconds\n",
      "simplify 0 @ 969: 0.01 seconds\n",
      "time: 7.05\n"
     ]
    },
    {
     "name": "stdout",
     "output_type": "stream",
     "text": [
      "LC_L\n"
     ]
    },
    {
     "name": "stderr",
     "output_type": "stream",
     "text": [
      "marching cube: 8.69 seconds\n",
      "mesh_to_polydata: 0.01 seconds\n",
      "simplify 0 @ 3670: 0.07 seconds\n",
      "simplify 1 @ 735: 0.05 seconds\n",
      "time: 9.43\n"
     ]
    },
    {
     "name": "stdout",
     "output_type": "stream",
     "text": [
      "LC_R\n"
     ]
    },
    {
     "name": "stderr",
     "output_type": "stream",
     "text": [
      "marching cube: 7.92 seconds\n",
      "mesh_to_polydata: 0.00 seconds\n",
      "simplify 0 @ 3622: 0.03 seconds\n",
      "simplify 1 @ 726: 0.02 seconds\n",
      "time: 9.05\n"
     ]
    },
    {
     "name": "stdout",
     "output_type": "stream",
     "text": [
      "LRt_L\n"
     ]
    },
    {
     "name": "stderr",
     "output_type": "stream",
     "text": [
      "marching cube: 6.27 seconds\n",
      "mesh_to_polydata: 0.02 seconds\n",
      "simplify 0 @ 12934: 0.11 seconds\n",
      "simplify 1 @ 2588: 0.12 seconds\n",
      "simplify 2 @ 519: 0.03 seconds\n",
      "time: 7.13\n"
     ]
    },
    {
     "name": "stdout",
     "output_type": "stream",
     "text": [
      "LRt_R\n"
     ]
    },
    {
     "name": "stderr",
     "output_type": "stream",
     "text": [
      "marching cube: 9.52 seconds\n",
      "mesh_to_polydata: 0.03 seconds\n",
      "simplify 0 @ 10308: 0.10 seconds\n",
      "simplify 1 @ 2063: 0.08 seconds\n",
      "simplify 2 @ 414: 0.02 seconds\n",
      "time: 11.04\n"
     ]
    },
    {
     "name": "stdout",
     "output_type": "stream",
     "text": [
      "Pn_L\n"
     ]
    },
    {
     "name": "stderr",
     "output_type": "stream",
     "text": [
      "marching cube: 6.11 seconds\n",
      "mesh_to_polydata: 0.02 seconds\n",
      "simplify 0 @ 17309: 0.14 seconds\n",
      "simplify 1 @ 3464: 0.15 seconds\n",
      "simplify 2 @ 694: 0.03 seconds\n",
      "time: 7.11\n"
     ]
    },
    {
     "name": "stdout",
     "output_type": "stream",
     "text": [
      "Pn_R\n"
     ]
    },
    {
     "name": "stderr",
     "output_type": "stream",
     "text": [
      "marching cube: 10.46 seconds\n",
      "mesh_to_polydata: 0.02 seconds\n",
      "simplify 0 @ 18522: 0.15 seconds\n",
      "simplify 1 @ 3705: 0.17 seconds\n",
      "simplify 2 @ 742: 0.03 seconds\n",
      "time: 11.49\n"
     ]
    },
    {
     "name": "stdout",
     "output_type": "stream",
     "text": [
      "Tz_L\n"
     ]
    },
    {
     "name": "stderr",
     "output_type": "stream",
     "text": [
      "marching cube: 8.44 seconds\n",
      "mesh_to_polydata: 0.01 seconds\n",
      "simplify 0 @ 5974: 0.05 seconds\n",
      "simplify 1 @ 1196: 0.05 seconds\n",
      "simplify 2 @ 240: 0.01 seconds\n",
      "time: 9.22\n"
     ]
    },
    {
     "name": "stdout",
     "output_type": "stream",
     "text": [
      "Tz_R\n"
     ]
    },
    {
     "name": "stderr",
     "output_type": "stream",
     "text": [
      "marching cube: 6.05 seconds\n",
      "mesh_to_polydata: 0.01 seconds\n",
      "simplify 0 @ 5794: 0.05 seconds\n",
      "simplify 1 @ 1161: 0.04 seconds\n",
      "simplify 2 @ 233: 0.01 seconds\n",
      "time: 6.81\n"
     ]
    },
    {
     "name": "stdout",
     "output_type": "stream",
     "text": [
      "VLL_L\n"
     ]
    },
    {
     "name": "stderr",
     "output_type": "stream",
     "text": [
      "marching cube: 10.65 seconds\n",
      "mesh_to_polydata: 0.02 seconds\n",
      "simplify 0 @ 11676: 0.12 seconds\n",
      "simplify 1 @ 2336: 0.11 seconds\n",
      "simplify 2 @ 469: 0.02 seconds\n",
      "time: 11.56\n"
     ]
    },
    {
     "name": "stdout",
     "output_type": "stream",
     "text": [
      "VLL_R\n"
     ]
    },
    {
     "name": "stderr",
     "output_type": "stream",
     "text": [
      "marching cube: 6.27 seconds\n",
      "mesh_to_polydata: 0.01 seconds\n",
      "simplify 0 @ 11425: 0.10 seconds\n",
      "simplify 1 @ 2286: 0.10 seconds\n",
      "simplify 2 @ 458: 0.02 seconds\n",
      "time: 7.16\n"
     ]
    },
    {
     "name": "stdout",
     "output_type": "stream",
     "text": [
      "RMC_L\n"
     ]
    },
    {
     "name": "stderr",
     "output_type": "stream",
     "text": [
      "marching cube: 6.09 seconds\n",
      "mesh_to_polydata: 0.01 seconds\n",
      "simplify 0 @ 6587: 0.05 seconds\n",
      "simplify 1 @ 1319: 0.05 seconds\n",
      "simplify 2 @ 265: 0.01 seconds\n",
      "time: 6.92\n"
     ]
    },
    {
     "name": "stdout",
     "output_type": "stream",
     "text": [
      "RMC_R\n"
     ]
    },
    {
     "name": "stderr",
     "output_type": "stream",
     "text": [
      "marching cube: 9.48 seconds\n",
      "mesh_to_polydata: 0.01 seconds\n",
      "simplify 0 @ 6449: 0.08 seconds\n",
      "simplify 1 @ 1291: 0.08 seconds\n",
      "simplify 2 @ 259: 0.02 seconds\n",
      "time: 10.28\n"
     ]
    },
    {
     "name": "stdout",
     "output_type": "stream",
     "text": [
      "SNC_L\n"
     ]
    },
    {
     "name": "stderr",
     "output_type": "stream",
     "text": [
      "marching cube: 8.91 seconds\n",
      "mesh_to_polydata: 0.01 seconds\n",
      "simplify 0 @ 6995: 0.06 seconds\n",
      "simplify 1 @ 1399: 0.06 seconds\n",
      "simplify 2 @ 281: 0.01 seconds\n",
      "time: 10.15\n"
     ]
    },
    {
     "name": "stdout",
     "output_type": "stream",
     "text": [
      "SNC_R\n"
     ]
    },
    {
     "name": "stderr",
     "output_type": "stream",
     "text": [
      "marching cube: 6.31 seconds\n",
      "mesh_to_polydata: 0.01 seconds\n",
      "simplify 0 @ 7030: 0.05 seconds\n",
      "simplify 1 @ 1404: 0.05 seconds\n",
      "simplify 2 @ 281: 0.01 seconds\n",
      "time: 7.08\n"
     ]
    },
    {
     "name": "stdout",
     "output_type": "stream",
     "text": [
      "SNR_L\n"
     ]
    },
    {
     "name": "stderr",
     "output_type": "stream",
     "text": [
      "marching cube: 6.37 seconds\n",
      "mesh_to_polydata: 0.03 seconds\n",
      "simplify 0 @ 32014: 0.23 seconds\n",
      "simplify 1 @ 6405: 0.29 seconds\n",
      "simplify 2 @ 1282: 0.06 seconds\n",
      "time: 7.59\n"
     ]
    },
    {
     "name": "stdout",
     "output_type": "stream",
     "text": [
      "SNR_R\n"
     ]
    },
    {
     "name": "stderr",
     "output_type": "stream",
     "text": [
      "marching cube: 9.27 seconds\n",
      "mesh_to_polydata: 0.07 seconds\n",
      "simplify 0 @ 31561: 0.43 seconds\n",
      "simplify 1 @ 6314: 0.48 seconds\n",
      "simplify 2 @ 1264: 0.10 seconds\n",
      "time: 10.99\n"
     ]
    },
    {
     "name": "stdout",
     "output_type": "stream",
     "text": [
      "3N_L\n"
     ]
    },
    {
     "name": "stderr",
     "output_type": "stream",
     "text": [
      "marching cube: 7.36 seconds\n",
      "mesh_to_polydata: 0.00 seconds\n",
      "simplify 0 @ 2919: 0.02 seconds\n",
      "simplify 1 @ 585: 0.02 seconds\n",
      "time: 8.50\n"
     ]
    },
    {
     "name": "stdout",
     "output_type": "stream",
     "text": [
      "3N_R\n"
     ]
    },
    {
     "name": "stderr",
     "output_type": "stream",
     "text": [
      "marching cube: 8.83 seconds\n",
      "mesh_to_polydata: 0.01 seconds\n",
      "simplify 0 @ 2810: 0.04 seconds\n",
      "simplify 1 @ 563: 0.04 seconds\n",
      "time: 9.52\n"
     ]
    },
    {
     "name": "stdout",
     "output_type": "stream",
     "text": [
      "4N_L\n"
     ]
    },
    {
     "name": "stderr",
     "output_type": "stream",
     "text": [
      "marching cube: 9.02 seconds\n",
      "mesh_to_polydata: 0.00 seconds\n",
      "simplify 0 @ 368: 0.01 seconds\n",
      "time: 10.11\n"
     ]
    },
    {
     "name": "stdout",
     "output_type": "stream",
     "text": [
      "4N_R\n"
     ]
    },
    {
     "name": "stderr",
     "output_type": "stream",
     "text": [
      "marching cube: 8.72 seconds\n",
      "mesh_to_polydata: 0.00 seconds\n",
      "simplify 0 @ 419: 0.00 seconds\n",
      "time: 9.81\n"
     ]
    },
    {
     "name": "stdout",
     "output_type": "stream",
     "text": [
      "Sp5I_L\n"
     ]
    },
    {
     "name": "stderr",
     "output_type": "stream",
     "text": [
      "marching cube: 6.25 seconds\n",
      "mesh_to_polydata: 0.01 seconds\n",
      "simplify 0 @ 12724: 0.10 seconds\n",
      "simplify 1 @ 2542: 0.09 seconds\n",
      "simplify 2 @ 506: 0.02 seconds\n",
      "time: 7.16\n"
     ]
    },
    {
     "name": "stdout",
     "output_type": "stream",
     "text": [
      "Sp5I_R\n"
     ]
    },
    {
     "name": "stderr",
     "output_type": "stream",
     "text": [
      "marching cube: 9.10 seconds\n",
      "mesh_to_polydata: 0.03 seconds\n",
      "simplify 0 @ 15884: 0.21 seconds\n",
      "simplify 1 @ 3174: 0.23 seconds\n",
      "simplify 2 @ 634: 0.05 seconds\n",
      "time: 10.20\n"
     ]
    },
    {
     "name": "stdout",
     "output_type": "stream",
     "text": [
      "Sp5O_L\n"
     ]
    },
    {
     "name": "stderr",
     "output_type": "stream",
     "text": [
      "marching cube: 7.09 seconds\n",
      "mesh_to_polydata: 0.02 seconds\n",
      "simplify 0 @ 13474: 0.14 seconds\n",
      "simplify 1 @ 2694: 0.11 seconds\n",
      "simplify 2 @ 541: 0.02 seconds\n",
      "time: 8.46\n"
     ]
    },
    {
     "name": "stdout",
     "output_type": "stream",
     "text": [
      "Sp5O_R\n"
     ]
    },
    {
     "name": "stderr",
     "output_type": "stream",
     "text": [
      "marching cube: 6.29 seconds\n",
      "mesh_to_polydata: 0.02 seconds\n",
      "simplify 0 @ 13252: 0.14 seconds\n",
      "simplify 1 @ 2649: 0.10 seconds\n",
      "simplify 2 @ 532: 0.02 seconds\n",
      "time: 7.18\n"
     ]
    },
    {
     "name": "stdout",
     "output_type": "stream",
     "text": [
      "Sp5C_L\n"
     ]
    },
    {
     "name": "stderr",
     "output_type": "stream",
     "text": [
      "marching cube: 6.58 seconds\n",
      "mesh_to_polydata: 0.08 seconds\n",
      "simplify 0 @ 33251: 0.57 seconds\n",
      "simplify 1 @ 6653: 0.61 seconds\n",
      "simplify 2 @ 1331: 0.13 seconds\n",
      "time: 8.54\n"
     ]
    },
    {
     "name": "stdout",
     "output_type": "stream",
     "text": [
      "Sp5C_R\n"
     ]
    },
    {
     "name": "stderr",
     "output_type": "stream",
     "text": [
      "marching cube: 9.19 seconds\n",
      "mesh_to_polydata: 0.04 seconds\n",
      "simplify 0 @ 33719: 0.26 seconds\n",
      "simplify 1 @ 6746: 0.30 seconds\n",
      "simplify 2 @ 1350: 0.06 seconds\n",
      "time: 11.16\n"
     ]
    },
    {
     "name": "stdout",
     "output_type": "stream",
     "text": [
      "PBG_L\n"
     ]
    },
    {
     "name": "stderr",
     "output_type": "stream",
     "text": [
      "marching cube: 6.29 seconds\n",
      "mesh_to_polydata: 0.00 seconds\n",
      "simplify 0 @ 1757: 0.02 seconds\n",
      "simplify 1 @ 353: 0.03 seconds\n",
      "time: 6.92\n"
     ]
    },
    {
     "name": "stdout",
     "output_type": "stream",
     "text": [
      "PBG_R\n"
     ]
    },
    {
     "name": "stderr",
     "output_type": "stream",
     "text": [
      "marching cube: 9.68 seconds\n",
      "mesh_to_polydata: 0.00 seconds\n",
      "simplify 0 @ 1761: 0.01 seconds\n",
      "simplify 1 @ 353: 0.01 seconds\n",
      "time: 11.03\n"
     ]
    },
    {
     "name": "stdout",
     "output_type": "stream",
     "text": [
      "10N_L\n"
     ]
    },
    {
     "name": "stderr",
     "output_type": "stream",
     "text": [
      "marching cube: 6.18 seconds\n",
      "mesh_to_polydata: 0.00 seconds\n",
      "simplify 0 @ 3258: 0.02 seconds\n",
      "simplify 1 @ 653: 0.02 seconds\n",
      "time: 6.92\n"
     ]
    },
    {
     "name": "stdout",
     "output_type": "stream",
     "text": [
      "10N_R\n"
     ]
    },
    {
     "name": "stderr",
     "output_type": "stream",
     "text": [
      "marching cube: 10.75 seconds\n",
      "mesh_to_polydata: 0.00 seconds\n",
      "simplify 0 @ 3226: 0.02 seconds\n",
      "simplify 1 @ 647: 0.02 seconds\n",
      "time: 11.46\n"
     ]
    },
    {
     "name": "stdout",
     "output_type": "stream",
     "text": [
      "VCA_L\n"
     ]
    },
    {
     "name": "stderr",
     "output_type": "stream",
     "text": [
      "marching cube: 8.44 seconds\n",
      "mesh_to_polydata: 0.02 seconds\n",
      "simplify 0 @ 12987: 0.11 seconds\n",
      "simplify 1 @ 2599: 0.11 seconds\n",
      "simplify 2 @ 521: 0.02 seconds\n",
      "time: 9.46\n"
     ]
    },
    {
     "name": "stdout",
     "output_type": "stream",
     "text": [
      "VCA_R\n"
     ]
    },
    {
     "name": "stderr",
     "output_type": "stream",
     "text": [
      "marching cube: 8.66 seconds\n",
      "mesh_to_polydata: 0.03 seconds\n",
      "simplify 0 @ 12897: 0.18 seconds\n",
      "simplify 1 @ 2581: 0.18 seconds\n",
      "simplify 2 @ 517: 0.04 seconds\n",
      "time: 9.74\n"
     ]
    },
    {
     "name": "stdout",
     "output_type": "stream",
     "text": [
      "VCP_L\n"
     ]
    },
    {
     "name": "stderr",
     "output_type": "stream",
     "text": [
      "marching cube: 8.80 seconds\n",
      "mesh_to_polydata: 0.02 seconds\n",
      "simplify 0 @ 7136: 0.10 seconds\n",
      "simplify 1 @ 1428: 0.09 seconds\n",
      "simplify 2 @ 287: 0.02 seconds\n",
      "time: 10.14\n"
     ]
    },
    {
     "name": "stdout",
     "output_type": "stream",
     "text": [
      "VCP_R\n"
     ]
    },
    {
     "name": "stderr",
     "output_type": "stream",
     "text": [
      "marching cube: 8.27 seconds\n",
      "mesh_to_polydata: 0.01 seconds\n",
      "simplify 0 @ 8745: 0.07 seconds\n",
      "simplify 1 @ 1750: 0.08 seconds\n",
      "simplify 2 @ 351: 0.02 seconds\n",
      "time: 9.47\n"
     ]
    },
    {
     "name": "stdout",
     "output_type": "stream",
     "text": [
      "DC_L\n"
     ]
    },
    {
     "name": "stderr",
     "output_type": "stream",
     "text": [
      "marching cube: 6.19 seconds\n",
      "mesh_to_polydata: 0.01 seconds\n",
      "simplify 0 @ 10858: 0.08 seconds\n",
      "simplify 1 @ 2172: 0.08 seconds\n",
      "simplify 2 @ 435: 0.02 seconds\n",
      "time: 7.02\n"
     ]
    },
    {
     "name": "stdout",
     "output_type": "stream",
     "text": [
      "DC_R\n"
     ]
    },
    {
     "name": "stderr",
     "output_type": "stream",
     "text": [
      "marching cube: 6.28 seconds\n",
      "mesh_to_polydata: 0.01 seconds\n",
      "simplify 0 @ 11555: 0.09 seconds\n",
      "simplify 1 @ 2310: 0.09 seconds\n",
      "simplify 2 @ 463: 0.02 seconds\n",
      "time: 7.08\n"
     ]
    },
    {
     "name": "stdout",
     "output_type": "stream",
     "text": [
      "AP\n"
     ]
    },
    {
     "name": "stderr",
     "output_type": "stream",
     "text": [
      "marching cube: 6.31 seconds\n",
      "mesh_to_polydata: 0.00 seconds\n",
      "simplify 0 @ 3613: 0.02 seconds\n",
      "simplify 1 @ 724: 0.02 seconds\n",
      "time: 6.95\n"
     ]
    },
    {
     "name": "stdout",
     "output_type": "stream",
     "text": [
      "12N\n"
     ]
    },
    {
     "name": "stderr",
     "output_type": "stream",
     "text": [
      "marching cube: 7.36 seconds\n",
      "mesh_to_polydata: 0.04 seconds\n",
      "simplify 0 @ 14232: 0.24 seconds\n",
      "simplify 1 @ 2848: 0.24 seconds\n",
      "simplify 2 @ 571: 0.05 seconds\n",
      "time: 8.52\n"
     ]
    },
    {
     "name": "stdout",
     "output_type": "stream",
     "text": [
      "RtTg\n"
     ]
    },
    {
     "name": "stderr",
     "output_type": "stream",
     "text": [
      "marching cube: 8.66 seconds\n",
      "mesh_to_polydata: 0.06 seconds\n",
      "simplify 0 @ 28762: 0.43 seconds\n",
      "simplify 1 @ 5754: 0.43 seconds\n",
      "simplify 2 @ 1151: 0.10 seconds\n",
      "time: 11.00\n"
     ]
    },
    {
     "name": "stdout",
     "output_type": "stream",
     "text": [
      "SC\n"
     ]
    },
    {
     "name": "stderr",
     "output_type": "stream",
     "text": [
      "marching cube: 7.08 seconds\n",
      "mesh_to_polydata: 0.15 seconds\n",
      "simplify 0 @ 138996: 1.17 seconds\n",
      "simplify 1 @ 27807: 1.58 seconds\n",
      "simplify 2 @ 5561: 0.29 seconds\n",
      "time: 11.39\n"
     ]
    },
    {
     "name": "stdout",
     "output_type": "stream",
     "text": [
      "IC\n"
     ]
    },
    {
     "name": "stderr",
     "output_type": "stream",
     "text": [
      "marching cube: 5.56 seconds\n",
      "mesh_to_polydata: 0.10 seconds\n",
      "simplify 0 @ 92222: 0.78 seconds\n",
      "simplify 1 @ 18452: 1.34 seconds\n",
      "simplify 2 @ 3689: 0.33 seconds\n",
      "time: 8.65\n"
     ]
    },
    {
     "name": "stdout",
     "output_type": "stream",
     "text": [
      "5N_L\n"
     ]
    },
    {
     "name": "stderr",
     "output_type": "stream",
     "text": [
      "marching cube: 7.12 seconds\n",
      "mesh_to_polydata: 0.01 seconds\n",
      "simplify 0 @ 7321: 0.05 seconds\n",
      "simplify 1 @ 1465: 0.05 seconds\n",
      "simplify 2 @ 294: 0.01 seconds\n",
      "time: 8.33\n"
     ]
    },
    {
     "name": "stdout",
     "output_type": "stream",
     "text": [
      "5N_R\n"
     ]
    },
    {
     "name": "stderr",
     "output_type": "stream",
     "text": [
      "marching cube: 7.02 seconds\n",
      "mesh_to_polydata: 0.02 seconds\n",
      "simplify 0 @ 7743: 0.13 seconds\n",
      "simplify 1 @ 1550: 0.13 seconds\n",
      "simplify 2 @ 311: 0.03 seconds\n",
      "time: 7.90\n"
     ]
    },
    {
     "name": "stdout",
     "output_type": "stream",
     "text": [
      "6N_L\n"
     ]
    },
    {
     "name": "stderr",
     "output_type": "stream",
     "text": [
      "marching cube: 8.86 seconds\n",
      "mesh_to_polydata: 0.00 seconds\n",
      "simplify 0 @ 713: 0.01 seconds\n",
      "time: 10.22\n"
     ]
    },
    {
     "name": "stdout",
     "output_type": "stream",
     "text": [
      "6N_R\n"
     ]
    },
    {
     "name": "stderr",
     "output_type": "stream",
     "text": [
      "marching cube: 7.70 seconds\n",
      "mesh_to_polydata: 0.00 seconds\n",
      "simplify 0 @ 710: 0.01 seconds\n",
      "time: 8.78\n"
     ]
    },
    {
     "name": "stdout",
     "output_type": "stream",
     "text": [
      "7N_L\n"
     ]
    },
    {
     "name": "stderr",
     "output_type": "stream",
     "text": [
      "marching cube: 6.33 seconds\n",
      "mesh_to_polydata: 0.02 seconds\n",
      "simplify 0 @ 13539: 0.12 seconds\n",
      "simplify 1 @ 2709: 0.14 seconds\n",
      "simplify 2 @ 543: 0.02 seconds\n",
      "time: 7.21\n"
     ]
    },
    {
     "name": "stdout",
     "output_type": "stream",
     "text": [
      "7N_R\n"
     ]
    },
    {
     "name": "stderr",
     "output_type": "stream",
     "text": [
      "marching cube: 6.30 seconds\n",
      "mesh_to_polydata: 0.02 seconds\n",
      "simplify 0 @ 13445: 0.11 seconds\n",
      "simplify 1 @ 2691: 0.11 seconds\n",
      "simplify 2 @ 539: 0.03 seconds\n",
      "time: 7.14\n"
     ]
    },
    {
     "name": "stdout",
     "output_type": "stream",
     "text": [
      "7n_L\n"
     ]
    },
    {
     "name": "stderr",
     "output_type": "stream",
     "text": [
      "marching cube: 6.12 seconds\n",
      "mesh_to_polydata: 0.01 seconds\n",
      "simplify 0 @ 9404: 0.07 seconds\n",
      "simplify 1 @ 1882: 0.07 seconds\n",
      "simplify 2 @ 378: 0.02 seconds\n",
      "time: 6.95\n"
     ]
    },
    {
     "name": "stdout",
     "output_type": "stream",
     "text": [
      "7n_R\n"
     ]
    },
    {
     "name": "stderr",
     "output_type": "stream",
     "text": [
      "marching cube: 6.11 seconds\n",
      "mesh_to_polydata: 0.01 seconds\n",
      "simplify 0 @ 9471: 0.08 seconds\n",
      "simplify 1 @ 1895: 0.08 seconds\n",
      "simplify 2 @ 380: 0.02 seconds\n",
      "time: 6.94\n"
     ]
    },
    {
     "name": "stdout",
     "output_type": "stream",
     "text": [
      "Amb_L\n"
     ]
    },
    {
     "name": "stderr",
     "output_type": "stream",
     "text": [
      "marching cube: 10.51 seconds\n",
      "mesh_to_polydata: 0.00 seconds\n",
      "simplify 0 @ 944: 0.01 seconds\n",
      "time: 11.17\n"
     ]
    },
    {
     "name": "stdout",
     "output_type": "stream",
     "text": [
      "Amb_R\n"
     ]
    },
    {
     "name": "stderr",
     "output_type": "stream",
     "text": [
      "marching cube: 6.14 seconds\n",
      "mesh_to_polydata: 0.00 seconds\n",
      "simplify 0 @ 955: 0.01 seconds\n",
      "time: 6.82\n"
     ]
    },
    {
     "name": "stdout",
     "output_type": "stream",
     "text": [
      "LC_L\n"
     ]
    },
    {
     "name": "stderr",
     "output_type": "stream",
     "text": [
      "marching cube: 6.23 seconds\n",
      "mesh_to_polydata: 0.00 seconds\n",
      "simplify 0 @ 3513: 0.03 seconds\n",
      "simplify 1 @ 704: 0.02 seconds\n",
      "time: 6.86\n"
     ]
    },
    {
     "name": "stdout",
     "output_type": "stream",
     "text": [
      "LC_R\n"
     ]
    },
    {
     "name": "stderr",
     "output_type": "stream",
     "text": [
      "marching cube: 6.28 seconds\n",
      "mesh_to_polydata: 0.00 seconds\n",
      "simplify 0 @ 3526: 0.03 seconds\n",
      "simplify 1 @ 707: 0.02 seconds\n",
      "time: 6.92\n"
     ]
    },
    {
     "name": "stdout",
     "output_type": "stream",
     "text": [
      "LRt_L\n"
     ]
    },
    {
     "name": "stderr",
     "output_type": "stream",
     "text": [
      "marching cube: 6.45 seconds\n",
      "mesh_to_polydata: 0.03 seconds\n",
      "simplify 0 @ 9316: 0.18 seconds\n",
      "simplify 1 @ 1862: 0.17 seconds\n",
      "simplify 2 @ 373: 0.03 seconds\n",
      "time: 7.44\n"
     ]
    },
    {
     "name": "stdout",
     "output_type": "stream",
     "text": [
      "LRt_R\n"
     ]
    },
    {
     "name": "stderr",
     "output_type": "stream",
     "text": [
      "marching cube: 9.33 seconds\n",
      "mesh_to_polydata: 0.02 seconds\n",
      "simplify 0 @ 12471: 0.10 seconds\n",
      "simplify 1 @ 2495: 0.11 seconds\n",
      "simplify 2 @ 500: 0.02 seconds\n",
      "time: 10.89\n"
     ]
    },
    {
     "name": "stdout",
     "output_type": "stream",
     "text": [
      "Pn_L\n"
     ]
    },
    {
     "name": "stderr",
     "output_type": "stream",
     "text": [
      "marching cube: 6.08 seconds\n",
      "mesh_to_polydata: 0.02 seconds\n",
      "simplify 0 @ 17000: 0.14 seconds\n",
      "simplify 1 @ 3401: 0.15 seconds\n",
      "simplify 2 @ 682: 0.03 seconds\n",
      "time: 7.04\n"
     ]
    },
    {
     "name": "stdout",
     "output_type": "stream",
     "text": [
      "Pn_R\n"
     ]
    },
    {
     "name": "stderr",
     "output_type": "stream",
     "text": [
      "marching cube: 6.22 seconds\n",
      "mesh_to_polydata: 0.02 seconds\n",
      "simplify 0 @ 17683: 0.15 seconds\n",
      "simplify 1 @ 3536: 0.16 seconds\n",
      "simplify 2 @ 709: 0.04 seconds\n",
      "time: 7.33\n"
     ]
    },
    {
     "name": "stdout",
     "output_type": "stream",
     "text": [
      "Tz_L\n"
     ]
    },
    {
     "name": "stderr",
     "output_type": "stream",
     "text": [
      "marching cube: 10.79 seconds\n",
      "mesh_to_polydata: 0.01 seconds\n",
      "simplify 0 @ 5741: 0.05 seconds\n",
      "simplify 1 @ 1149: 0.05 seconds\n",
      "simplify 2 @ 231: 0.01 seconds\n",
      "time: 11.56\n"
     ]
    },
    {
     "name": "stdout",
     "output_type": "stream",
     "text": [
      "Tz_R\n"
     ]
    },
    {
     "name": "stderr",
     "output_type": "stream",
     "text": [
      "marching cube: 8.36 seconds\n",
      "mesh_to_polydata: 0.01 seconds\n",
      "simplify 0 @ 5644: 0.05 seconds\n",
      "simplify 1 @ 1130: 0.05 seconds\n",
      "simplify 2 @ 227: 0.01 seconds\n",
      "time: 9.16\n"
     ]
    },
    {
     "name": "stdout",
     "output_type": "stream",
     "text": [
      "VLL_L\n"
     ]
    },
    {
     "name": "stderr",
     "output_type": "stream",
     "text": [
      "marching cube: 8.83 seconds\n",
      "mesh_to_polydata: 0.03 seconds\n",
      "simplify 0 @ 11022: 0.17 seconds\n",
      "simplify 1 @ 2204: 0.16 seconds\n",
      "simplify 2 @ 442: 0.05 seconds\n",
      "time: 9.88\n"
     ]
    },
    {
     "name": "stdout",
     "output_type": "stream",
     "text": [
      "VLL_R\n"
     ]
    },
    {
     "name": "stderr",
     "output_type": "stream",
     "text": [
      "marching cube: 7.41 seconds\n",
      "mesh_to_polydata: 0.01 seconds\n",
      "simplify 0 @ 12026: 0.09 seconds\n",
      "simplify 1 @ 2408: 0.10 seconds\n",
      "simplify 2 @ 482: 0.02 seconds\n",
      "time: 8.73\n"
     ]
    },
    {
     "name": "stdout",
     "output_type": "stream",
     "text": [
      "RMC_L\n"
     ]
    },
    {
     "name": "stderr",
     "output_type": "stream",
     "text": [
      "marching cube: 6.34 seconds\n",
      "mesh_to_polydata: 0.01 seconds\n",
      "simplify 0 @ 6200: 0.04 seconds\n",
      "simplify 1 @ 1241: 0.04 seconds\n",
      "simplify 2 @ 249: 0.01 seconds\n",
      "time: 7.02\n"
     ]
    },
    {
     "name": "stdout",
     "output_type": "stream",
     "text": [
      "RMC_R\n"
     ]
    },
    {
     "name": "stderr",
     "output_type": "stream",
     "text": [
      "marching cube: 6.22 seconds\n",
      "mesh_to_polydata: 0.01 seconds\n",
      "simplify 0 @ 6247: 0.05 seconds\n",
      "simplify 1 @ 1252: 0.05 seconds\n",
      "simplify 2 @ 251: 0.01 seconds\n",
      "time: 6.92\n"
     ]
    },
    {
     "name": "stdout",
     "output_type": "stream",
     "text": [
      "SNC_L\n"
     ]
    },
    {
     "name": "stderr",
     "output_type": "stream",
     "text": [
      "marching cube: 10.31 seconds\n",
      "mesh_to_polydata: 0.01 seconds\n",
      "simplify 0 @ 6639: 0.05 seconds\n",
      "simplify 1 @ 1328: 0.05 seconds\n",
      "simplify 2 @ 267: 0.01 seconds\n",
      "time: 11.39\n"
     ]
    },
    {
     "name": "stdout",
     "output_type": "stream",
     "text": [
      "SNC_R\n"
     ]
    },
    {
     "name": "stderr",
     "output_type": "stream",
     "text": [
      "marching cube: 8.40 seconds\n",
      "mesh_to_polydata: 0.01 seconds\n",
      "simplify 0 @ 6814: 0.09 seconds\n",
      "simplify 1 @ 1363: 0.09 seconds\n",
      "simplify 2 @ 274: 0.02 seconds\n",
      "time: 9.28\n"
     ]
    },
    {
     "name": "stdout",
     "output_type": "stream",
     "text": [
      "SNR_L\n"
     ]
    },
    {
     "name": "stderr",
     "output_type": "stream",
     "text": [
      "marching cube: 7.69 seconds\n",
      "mesh_to_polydata: 0.03 seconds\n",
      "simplify 0 @ 30768: 0.23 seconds\n",
      "simplify 1 @ 6157: 0.27 seconds\n",
      "simplify 2 @ 1232: 0.05 seconds\n",
      "time: 9.36\n"
     ]
    },
    {
     "name": "stdout",
     "output_type": "stream",
     "text": [
      "SNR_R\n"
     ]
    },
    {
     "name": "stderr",
     "output_type": "stream",
     "text": [
      "marching cube: 7.13 seconds\n",
      "mesh_to_polydata: 0.08 seconds\n",
      "simplify 0 @ 30144: 0.50 seconds\n",
      "simplify 1 @ 6032: 0.54 seconds\n",
      "simplify 2 @ 1207: 0.12 seconds\n",
      "time: 8.94\n"
     ]
    },
    {
     "name": "stdout",
     "output_type": "stream",
     "text": [
      "3N_L\n"
     ]
    },
    {
     "name": "stderr",
     "output_type": "stream",
     "text": [
      "marching cube: 8.63 seconds\n",
      "mesh_to_polydata: 0.00 seconds\n",
      "simplify 0 @ 2990: 0.02 seconds\n",
      "simplify 1 @ 599: 0.02 seconds\n",
      "time: 9.99\n"
     ]
    },
    {
     "name": "stdout",
     "output_type": "stream",
     "text": [
      "3N_R\n"
     ]
    },
    {
     "name": "stderr",
     "output_type": "stream",
     "text": [
      "marching cube: 6.16 seconds\n",
      "mesh_to_polydata: 0.00 seconds\n",
      "simplify 0 @ 3176: 0.02 seconds\n",
      "simplify 1 @ 637: 0.02 seconds\n",
      "time: 6.78\n"
     ]
    },
    {
     "name": "stdout",
     "output_type": "stream",
     "text": [
      "4N_L\n"
     ]
    },
    {
     "name": "stderr",
     "output_type": "stream",
     "text": [
      "marching cube: 6.24 seconds\n",
      "mesh_to_polydata: 0.00 seconds\n",
      "simplify 0 @ 334: 0.00 seconds\n",
      "time: 6.88\n"
     ]
    },
    {
     "name": "stdout",
     "output_type": "stream",
     "text": [
      "4N_R\n"
     ]
    },
    {
     "name": "stderr",
     "output_type": "stream",
     "text": [
      "marching cube: 6.01 seconds\n",
      "mesh_to_polydata: 0.00 seconds\n",
      "simplify 0 @ 357: 0.00 seconds\n",
      "time: 6.71\n"
     ]
    },
    {
     "name": "stdout",
     "output_type": "stream",
     "text": [
      "Sp5I_L\n"
     ]
    },
    {
     "name": "stderr",
     "output_type": "stream",
     "text": [
      "marching cube: 10.45 seconds\n",
      "mesh_to_polydata: 0.02 seconds\n",
      "simplify 0 @ 12225: 0.12 seconds\n",
      "simplify 1 @ 2443: 0.11 seconds\n",
      "simplify 2 @ 490: 0.02 seconds\n",
      "time: 11.37\n"
     ]
    },
    {
     "name": "stdout",
     "output_type": "stream",
     "text": [
      "Sp5I_R\n"
     ]
    },
    {
     "name": "stderr",
     "output_type": "stream",
     "text": [
      "marching cube: 6.21 seconds\n",
      "mesh_to_polydata: 0.01 seconds\n",
      "simplify 0 @ 11357: 0.10 seconds\n",
      "simplify 1 @ 2273: 0.08 seconds\n",
      "simplify 2 @ 456: 0.02 seconds\n",
      "time: 7.07\n"
     ]
    },
    {
     "name": "stdout",
     "output_type": "stream",
     "text": [
      "Sp5O_L\n"
     ]
    },
    {
     "name": "stderr",
     "output_type": "stream",
     "text": [
      "marching cube: 6.22 seconds\n",
      "mesh_to_polydata: 0.02 seconds\n",
      "simplify 0 @ 12156: 0.13 seconds\n",
      "simplify 1 @ 2429: 0.09 seconds\n",
      "simplify 2 @ 487: 0.02 seconds\n",
      "time: 7.05\n"
     ]
    },
    {
     "name": "stdout",
     "output_type": "stream",
     "text": [
      "Sp5O_R\n"
     ]
    },
    {
     "name": "stderr",
     "output_type": "stream",
     "text": [
      "marching cube: 8.53 seconds\n",
      "mesh_to_polydata: 0.04 seconds\n",
      "simplify 0 @ 12406: 0.27 seconds\n",
      "simplify 1 @ 2482: 0.17 seconds\n",
      "simplify 2 @ 498: 0.04 seconds\n",
      "time: 9.62\n"
     ]
    },
    {
     "name": "stdout",
     "output_type": "stream",
     "text": [
      "Sp5C_L\n"
     ]
    },
    {
     "name": "stderr",
     "output_type": "stream",
     "text": [
      "marching cube: 8.90 seconds\n",
      "mesh_to_polydata: 0.06 seconds\n",
      "simplify 0 @ 27985: 0.44 seconds\n",
      "simplify 1 @ 5600: 0.42 seconds\n",
      "simplify 2 @ 1121: 0.09 seconds\n",
      "time: 11.02\n"
     ]
    },
    {
     "name": "stdout",
     "output_type": "stream",
     "text": [
      "Sp5C_R\n"
     ]
    },
    {
     "name": "stderr",
     "output_type": "stream",
     "text": [
      "marching cube: 8.47 seconds\n",
      "mesh_to_polydata: 0.04 seconds\n",
      "simplify 0 @ 29406: 0.27 seconds\n",
      "simplify 1 @ 5884: 0.29 seconds\n",
      "simplify 2 @ 1178: 0.06 seconds\n",
      "time: 10.05\n"
     ]
    },
    {
     "name": "stdout",
     "output_type": "stream",
     "text": [
      "PBG_L\n"
     ]
    },
    {
     "name": "stderr",
     "output_type": "stream",
     "text": [
      "marching cube: 6.03 seconds\n",
      "mesh_to_polydata: 0.00 seconds\n",
      "simplify 0 @ 1710: 0.01 seconds\n",
      "simplify 1 @ 344: 0.01 seconds\n",
      "time: 6.72\n"
     ]
    },
    {
     "name": "stdout",
     "output_type": "stream",
     "text": [
      "PBG_R\n"
     ]
    },
    {
     "name": "stderr",
     "output_type": "stream",
     "text": [
      "marching cube: 6.22 seconds\n",
      "mesh_to_polydata: 0.00 seconds\n",
      "simplify 0 @ 1795: 0.01 seconds\n",
      "simplify 1 @ 360: 0.01 seconds\n",
      "time: 6.91\n"
     ]
    },
    {
     "name": "stdout",
     "output_type": "stream",
     "text": [
      "10N_L\n"
     ]
    },
    {
     "name": "stderr",
     "output_type": "stream",
     "text": [
      "marching cube: 6.27 seconds\n",
      "mesh_to_polydata: 0.00 seconds\n",
      "simplify 0 @ 3090: 0.02 seconds\n",
      "simplify 1 @ 618: 0.02 seconds\n",
      "time: 6.88\n"
     ]
    },
    {
     "name": "stdout",
     "output_type": "stream",
     "text": [
      "10N_R\n"
     ]
    },
    {
     "name": "stderr",
     "output_type": "stream",
     "text": [
      "marching cube: 6.35 seconds\n",
      "mesh_to_polydata: 0.00 seconds\n",
      "simplify 0 @ 3030: 0.02 seconds\n",
      "simplify 1 @ 608: 0.02 seconds\n",
      "time: 6.98\n"
     ]
    },
    {
     "name": "stdout",
     "output_type": "stream",
     "text": [
      "VCA_L\n"
     ]
    },
    {
     "name": "stderr",
     "output_type": "stream",
     "text": [
      "marching cube: 6.66 seconds\n",
      "mesh_to_polydata: 0.03 seconds\n",
      "simplify 0 @ 10093: 0.23 seconds\n",
      "simplify 1 @ 2020: 0.22 seconds\n",
      "simplify 2 @ 405: 0.05 seconds\n",
      "time: 7.78\n"
     ]
    },
    {
     "name": "stdout",
     "output_type": "stream",
     "text": [
      "VCA_R\n"
     ]
    },
    {
     "name": "stderr",
     "output_type": "stream",
     "text": [
      "marching cube: 9.44 seconds\n",
      "mesh_to_polydata: 0.02 seconds\n",
      "simplify 0 @ 12498: 0.10 seconds\n",
      "simplify 1 @ 2501: 0.11 seconds\n",
      "simplify 2 @ 501: 0.03 seconds\n",
      "time: 11.01\n"
     ]
    },
    {
     "name": "stdout",
     "output_type": "stream",
     "text": [
      "VCP_L\n"
     ]
    },
    {
     "name": "stderr",
     "output_type": "stream",
     "text": [
      "marching cube: 6.35 seconds\n",
      "mesh_to_polydata: 0.01 seconds\n",
      "simplify 0 @ 8188: 0.08 seconds\n",
      "simplify 1 @ 1639: 0.07 seconds\n",
      "simplify 2 @ 329: 0.01 seconds\n",
      "time: 7.11\n"
     ]
    },
    {
     "name": "stdout",
     "output_type": "stream",
     "text": [
      "VCP_R\n"
     ]
    },
    {
     "name": "stderr",
     "output_type": "stream",
     "text": [
      "marching cube: 10.73 seconds\n",
      "mesh_to_polydata: 0.01 seconds\n",
      "simplify 0 @ 8137: 0.07 seconds\n",
      "simplify 1 @ 1629: 0.07 seconds\n",
      "simplify 2 @ 327: 0.02 seconds\n",
      "time: 11.66\n"
     ]
    },
    {
     "name": "stdout",
     "output_type": "stream",
     "text": [
      "DC_L\n"
     ]
    },
    {
     "name": "stderr",
     "output_type": "stream",
     "text": [
      "marching cube: 8.55 seconds\n",
      "mesh_to_polydata: 0.01 seconds\n",
      "simplify 0 @ 11108: 0.08 seconds\n",
      "simplify 1 @ 2221: 0.08 seconds\n",
      "simplify 2 @ 445: 0.02 seconds\n",
      "time: 9.44\n"
     ]
    },
    {
     "name": "stdout",
     "output_type": "stream",
     "text": [
      "DC_R\n"
     ]
    },
    {
     "name": "stderr",
     "output_type": "stream",
     "text": [
      "marching cube: 6.34 seconds\n",
      "mesh_to_polydata: 0.02 seconds\n",
      "simplify 0 @ 11551: 0.10 seconds\n",
      "simplify 1 @ 2311: 0.09 seconds\n",
      "simplify 2 @ 463: 0.02 seconds\n",
      "time: 7.14\n"
     ]
    },
    {
     "name": "stdout",
     "output_type": "stream",
     "text": [
      "AP\n"
     ]
    },
    {
     "name": "stderr",
     "output_type": "stream",
     "text": [
      "marching cube: 10.29 seconds\n",
      "mesh_to_polydata: 0.00 seconds\n",
      "simplify 0 @ 3507: 0.03 seconds\n",
      "simplify 1 @ 703: 0.03 seconds\n",
      "time: 11.23\n"
     ]
    },
    {
     "name": "stdout",
     "output_type": "stream",
     "text": [
      "12N\n"
     ]
    },
    {
     "name": "stderr",
     "output_type": "stream",
     "text": [
      "marching cube: 8.91 seconds\n",
      "mesh_to_polydata: 0.03 seconds\n",
      "simplify 0 @ 13833: 0.19 seconds\n",
      "simplify 1 @ 2768: 0.19 seconds\n",
      "simplify 2 @ 555: 0.04 seconds\n",
      "time: 10.07\n"
     ]
    },
    {
     "name": "stdout",
     "output_type": "stream",
     "text": [
      "RtTg\n"
     ]
    },
    {
     "name": "stderr",
     "output_type": "stream",
     "text": [
      "marching cube: 7.49 seconds\n",
      "mesh_to_polydata: 0.03 seconds\n",
      "simplify 0 @ 26344: 0.23 seconds\n",
      "simplify 1 @ 5265: 0.23 seconds\n",
      "simplify 2 @ 1052: 0.04 seconds\n",
      "time: 9.13\n"
     ]
    },
    {
     "name": "stdout",
     "output_type": "stream",
     "text": [
      "SC\n"
     ]
    },
    {
     "name": "stderr",
     "output_type": "stream",
     "text": [
      "marching cube: 7.78 seconds\n",
      "mesh_to_polydata: 0.33 seconds\n",
      "simplify 0 @ 120918: 2.95 seconds\n",
      "simplify 1 @ 24185: 2.20 seconds\n",
      "simplify 2 @ 4837: 0.33 seconds\n",
      "time: 14.18\n"
     ]
    },
    {
     "name": "stdout",
     "output_type": "stream",
     "text": [
      "IC\n"
     ]
    },
    {
     "name": "stderr",
     "output_type": "stream",
     "text": [
      "marching cube: 8.50 seconds\n",
      "mesh_to_polydata: 0.12 seconds\n",
      "simplify 0 @ 73684: 1.08 seconds\n",
      "simplify 1 @ 14742: 0.82 seconds\n",
      "simplify 2 @ 2948: 0.17 seconds\n",
      "time: 11.45\n"
     ]
    }
   ],
   "source": [
    "# Render globally transformed atlas structures\n",
    "\n",
    "# stack = 'MD590'\n",
    "for stack in all_stacks:\n",
    "    \n",
    "    for name_s in structures_sided:\n",
    "    # for name_s in ['12N']:\n",
    "\n",
    "        print name_s\n",
    "\n",
    "        reversed_volume = \\\n",
    "        DataManager.load_transformed_volume(stack_m=atlas_name, type_m='score', \n",
    "                                            stack_f=stack, type_f='score',\n",
    "                                            downscale=32, \n",
    "                                            train_sample_scheme_f=train_sample_scheme,\n",
    "                                            global_transform_scheme=global_transform_scheme,\n",
    "                                            local_transform_scheme=local_transform_scheme,\n",
    "                                            label=name_s, transitive='by')\n",
    "\n",
    "    #     xmin, xmax, ymin, ymax, zmin, zmax = bbox_3d(reversed_volume)\n",
    "    #     vol = reversed_volume[ymin:ymax+1, xmin:xmax+1, zmin:zmax+1]\n",
    "\n",
    "    #     dense_vol = fill_sparse_score_volume(vol)\n",
    "\n",
    "        t = time.time()\n",
    "\n",
    "        polydata = volume_to_polydata(reversed_volume, origin=(0,0,0), num_simplify_iter=3, smooth=True, level=.5)\n",
    "\n",
    "        sys.stderr.write('time: %.2f\\n' % (time.time() - t))\n",
    "\n",
    "        mesh_fn = DataManager.get_transformed_volume_mesh_filepath(stack_m=atlas_name, type_m='score', \n",
    "                                                             stack_f=stack, type_f='score', \n",
    "                                                             downscale=32,\n",
    "                                                            train_sample_scheme_f=train_sample_scheme,\n",
    "                                                            global_transform_scheme=global_transform_scheme,\n",
    "                                                            local_transform_scheme=local_transform_scheme,\n",
    "                                                            label=name_s, transitive='by')     \n",
    "\n",
    "        save_mesh(polydata, mesh_fn)"
   ]
  },
  {
   "cell_type": "markdown",
   "metadata": {},
   "source": [
    "# Load"
   ]
  },
  {
   "cell_type": "code",
   "execution_count": 73,
   "metadata": {
    "collapsed": false
   },
   "outputs": [],
   "source": [
    "# Load locally transformed atlas structure meshes\n",
    "\n",
    "reversed_polydata_list = {}\n",
    "for stack in all_stacks:\n",
    "    reversed_polydata_list[stack] = DataManager.load_transformed_volume_meshes(stack_m=atlas_name, type_m='score', \n",
    "                                                         stack_f=stack, type_f='score', \n",
    "                                                         downscale=32,\n",
    "                                                        train_sample_scheme_f=train_sample_scheme,\n",
    "                                                        global_transform_scheme=global_transform_scheme,\n",
    "                                                        local_transform_scheme=local_transform_scheme,\n",
    "                                                        labels=structures_sided, transitive='by',\n",
    "                                                      return_polydata_only=True)"
   ]
  },
  {
   "cell_type": "code",
   "execution_count": 74,
   "metadata": {
    "collapsed": false
   },
   "outputs": [
    {
     "name": "stdout",
     "output_type": "stream",
     "text": [
      "annotation volume bbox : 622 1042 155 502 127 503\n"
     ]
    }
   ],
   "source": [
    "ann_vol_xmin, ann_vol_xmax, ann_vol_ymin, ann_vol_ymax, ann_vol_zmin, ann_vol_zmax = \\\n",
    "DataManager.load_volume_bbox(stack='MD589', type='annotation', downscale=32)\n",
    "\n",
    "print 'annotation volume bbox :', ann_vol_xmin, ann_vol_xmax, ann_vol_ymin, ann_vol_ymax, ann_vol_zmin, ann_vol_zmax"
   ]
  },
  {
   "cell_type": "code",
   "execution_count": 75,
   "metadata": {
    "collapsed": true
   },
   "outputs": [],
   "source": [
    "shell_polydata = DataManager.load_shell_mesh(stack='MD589', downscale=32)"
   ]
  },
  {
   "cell_type": "code",
   "execution_count": 76,
   "metadata": {
    "collapsed": true
   },
   "outputs": [],
   "source": [
    "# Load atlas meshes"
   ]
  },
  {
   "cell_type": "code",
   "execution_count": 77,
   "metadata": {
    "collapsed": false
   },
   "outputs": [],
   "source": [
    "# Load canonical info\n",
    "canonical_locations = read_dict_from_txt(os.path.join(MESH_ROOTDIR, atlas_name, 'canonical_locations.txt'))\n",
    "canonical_centroid = np.loadtxt(os.path.join(MESH_ROOTDIR, atlas_name, 'canonical_centroid.txt'))\n",
    "canonical_normal = np.loadtxt(os.path.join(MESH_ROOTDIR, atlas_name, 'canonical_normal.txt'))"
   ]
  },
  {
   "cell_type": "code",
   "execution_count": 78,
   "metadata": {
    "collapsed": false
   },
   "outputs": [],
   "source": [
    "# Load atlas meshes\n",
    "\n",
    "atlas_space_structure_meshes = DataManager.load_meshes(stack=atlas_name, labels=structures_sided)"
   ]
  },
  {
   "cell_type": "code",
   "execution_count": 79,
   "metadata": {
    "collapsed": false
   },
   "outputs": [],
   "source": [
    "# Load atlas structure surround meshes\n",
    "\n",
    "atlas_space_structure_surround_meshes = DataManager.load_meshes(stack=atlas_name, \\\n",
    "                                        labels=[n + '_surround' for n in structures_sided])"
   ]
  },
  {
   "cell_type": "code",
   "execution_count": 93,
   "metadata": {
    "collapsed": false
   },
   "outputs": [],
   "source": [
    "# Create actors\n",
    "\n",
    "all_atlas_structure_mesh_actors = {n: actor_mesh(polydata, (1.,1,1),\n",
    "                                             wireframe=False,\n",
    "                                                 opacity=.3,\n",
    "                                              origin=canonical_centroid) \n",
    "                                   for n, polydata in atlas_space_structure_meshes.iteritems()}\n",
    "\n",
    "all_atlas_structure_surround_mesh_actors = [actor_mesh(polydata, color=(0,1,0),\n",
    "                                                      wireframe=True,\n",
    "                                                      origin=canonical_centroid) \n",
    "                                            for n, polydata in atlas_space_structure_surround_meshes.iteritems()]\n",
    "    \n",
    "shell_actor = actor_mesh(shell_polydata, (1,1,1), opacity=.15, wireframe=False)"
   ]
  },
  {
   "cell_type": "code",
   "execution_count": 94,
   "metadata": {
    "collapsed": false
   },
   "outputs": [],
   "source": [
    "all_reversed_structure_actors = {st: [actor_mesh(p, \n",
    "                       wireframe=False, \n",
    "#                        color=structure_colors[convert_name_to_unsided(n)]/255., \n",
    "#                         color=(0,1,0), \n",
    "                        color=stack_colors[st]/255.,\n",
    "                       opacity=.3,\n",
    "                      origin=(ann_vol_xmin, \n",
    "                              ann_vol_ymin, \n",
    "                              ann_vol_zmin))\n",
    "                                      for n, p in ps.iteritems() if n not in outliers or st not in outliers[n]]\n",
    "            for st, ps in reversed_polydata_list.iteritems() }"
   ]
  },
  {
   "cell_type": "code",
   "execution_count": 82,
   "metadata": {
    "collapsed": false
   },
   "outputs": [
    {
     "ename": "TypeError",
     "evalue": "can only concatenate list (not \"dict\") to list",
     "output_type": "error",
     "traceback": [
      "\u001b[0;31m---------------------------------------------------------------------------\u001b[0m",
      "\u001b[0;31mTypeError\u001b[0m                                 Traceback (most recent call last)",
      "\u001b[0;32m<ipython-input-82-131e2f0642be>\u001b[0m in \u001b[0;36m<module>\u001b[0;34m()\u001b[0m\n\u001b[0;32m----> 1\u001b[0;31m \u001b[0mlaunch_vtk\u001b[0m\u001b[0;34m(\u001b[0m\u001b[0mall_atlas_structure_mesh_actors\u001b[0m\u001b[0;34m.\u001b[0m\u001b[0mvalues\u001b[0m\u001b[0;34m(\u001b[0m\u001b[0;34m)\u001b[0m \u001b[0;34m+\u001b[0m            \u001b[0;34m[\u001b[0m\u001b[0mshell_actor\u001b[0m\u001b[0;34m]\u001b[0m \u001b[0;34m+\u001b[0m            \u001b[0mall_reversed_structure_actors\u001b[0m\u001b[0;34m)\u001b[0m\u001b[0;34m\u001b[0m\u001b[0m\n\u001b[0m",
      "\u001b[0;31mTypeError\u001b[0m: can only concatenate list (not \"dict\") to list"
     ]
    }
   ],
   "source": [
    "launch_vtk(all_atlas_structure_mesh_actors.values() + \\\n",
    "           [shell_actor] + \\\n",
    "           all_reversed_structure_actors)"
   ]
  },
  {
   "cell_type": "code",
   "execution_count": null,
   "metadata": {
    "collapsed": true
   },
   "outputs": [],
   "source": []
  },
  {
   "cell_type": "code",
   "execution_count": 83,
   "metadata": {
    "collapsed": true
   },
   "outputs": [],
   "source": [
    "outliers = read_dict_from_txt('/home/yuncong/Brain/outliers.txt', converter=str)"
   ]
  },
  {
   "cell_type": "code",
   "execution_count": 44,
   "metadata": {
    "collapsed": false
   },
   "outputs": [
    {
     "name": "stdout",
     "output_type": "stream",
     "text": [
      "Outlier stack for 7n_L: ['MD591']\n"
     ]
    }
   ],
   "source": [
    "# names_of_interest = ['7N_L', '7N_R', '5N_L', '5N_R', '12N', 'Tz_L', 'Tz_R', '7n_L', '7n_R', 'LRt_L', 'LRt_R',\n",
    "#                     'Pn_L', 'Pn_R', 'SNR_L', 'SNR_R']\n",
    "\n",
    "names_of_interest = ['7n_L']\n",
    "\n",
    "# names_of_interest = [n for n in structures_sided \\\n",
    "#                      if '_L' not in n and \\\n",
    "#                      convert_name_to_unsided(n) not in ['AP', 'DC', 'Sp5O', 'Sp5I', 'Sp5C', 'RtTg', 'VCP', 'VCA']]\n",
    "\n",
    "\n",
    "particular_reversed_structure_actors_all = {}\n",
    "\n",
    "for name_s_interest in names_of_interest:\n",
    "\n",
    "    if name_s_interest in outliers:\n",
    "        print 'Outlier stack for %s:' % name_s_interest, outliers[name_s_interest]\n",
    "\n",
    "    particular_reversed_structure_actors = [actor_mesh(p, \n",
    "                           wireframe=True, \n",
    "    #                        color=structure_colors[convert_name_to_unsided(n)]/255., \n",
    "    #                         color=(0,1,0), \n",
    "                            color=stack_colors[st]/255.,\n",
    "                           opacity=1.,\n",
    "                          origin=(ann_vol_xmin, \n",
    "                                  ann_vol_ymin, \n",
    "                                  ann_vol_zmin))\n",
    "                for st, ps in reversed_polydata_list.iteritems() for n, p in ps.iteritems() \n",
    "                                            if n == name_s_interest and \\\n",
    "                                            (name_s_interest not in outliers or st not in outliers[name_s_interest])]\n",
    "    \n",
    "    particular_reversed_structure_actors_all[name_s_interest] = particular_reversed_structure_actors"
   ]
  },
  {
   "cell_type": "code",
   "execution_count": 45,
   "metadata": {
    "collapsed": false
   },
   "outputs": [],
   "source": [
    "launch_vtk([all_atlas_structure_mesh_actors[n] for n in names_of_interest] + \\\n",
    "           [shell_actor] + \\\n",
    "           sum(particular_reversed_structure_actors_all.values(), []), init_angle='horizontal_topDown')"
   ]
  },
  {
   "cell_type": "code",
   "execution_count": 95,
   "metadata": {
    "collapsed": false
   },
   "outputs": [],
   "source": [
    "launch_vtk(all_atlas_structure_mesh_actors.values() + all_reversed_structure_actors['MD589'] + \\\n",
    "           [shell_actor])"
   ]
  },
  {
   "cell_type": "code",
   "execution_count": 119,
   "metadata": {
    "collapsed": true
   },
   "outputs": [],
   "source": [
    "launch_vtk(all_atlas_structure_mesh_actors.values() + sum(all_reversed_structure_actors.values(), []) + \\\n",
    "           [shell_actor])"
   ]
  },
  {
   "cell_type": "code",
   "execution_count": null,
   "metadata": {
    "collapsed": true
   },
   "outputs": [],
   "source": []
  }
 ],
 "metadata": {
  "kernelspec": {
   "display_name": "Python 2",
   "language": "python",
   "name": "python2"
  },
  "language_info": {
   "codemirror_mode": {
    "name": "ipython",
    "version": 2
   },
   "file_extension": ".py",
   "mimetype": "text/x-python",
   "name": "python",
   "nbconvert_exporter": "python",
   "pygments_lexer": "ipython2",
   "version": "2.7.12"
  }
 },
 "nbformat": 4,
 "nbformat_minor": 1
}
