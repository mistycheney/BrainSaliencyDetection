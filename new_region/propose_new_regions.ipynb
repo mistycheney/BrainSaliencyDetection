{
 "cells": [
  {
   "cell_type": "code",
   "execution_count": 1,
   "metadata": {
    "collapsed": false
   },
   "outputs": [
    {
     "name": "stdout",
     "output_type": "stream",
     "text": [
      "Setting environment for Gordon\n"
     ]
    },
    {
     "name": "stderr",
     "output_type": "stream",
     "text": [
      "No vtk\n",
      "Cannot import mxnet.\n"
     ]
    }
   ],
   "source": [
    "%reload_ext autoreload\n",
    "%autoreload 2\n",
    "\n",
    "import os\n",
    "import sys\n",
    "import time\n",
    "\n",
    "sys.path.append(os.path.join(os.environ['REPO_DIR'], 'utilities'))\n",
    "from utilities2015 import *\n",
    "from data_manager import *\n",
    "from metadata import *\n",
    "\n",
    "import matplotlib.pyplot as plt\n",
    "%matplotlib inline\n",
    "\n",
    "from multiprocess import Pool\n",
    "\n",
    "from learning_utilities import *"
   ]
  },
  {
   "cell_type": "code",
   "execution_count": 2,
   "metadata": {
    "collapsed": true
   },
   "outputs": [],
   "source": [
    "stack = 'MD589'\n",
    "s2f = metadata_cache['sections_to_filenames'][stack]\n",
    "first_sec, last_sec = metadata_cache['section_limits'][stack]\n",
    "im_w, im_h = metadata_cache['image_shape'][stack]"
   ]
  },
  {
   "cell_type": "code",
   "execution_count": 3,
   "metadata": {
    "collapsed": true
   },
   "outputs": [],
   "source": [
    "x_spacing = 300\n",
    "y_spacing = 300\n",
    "superpixel_centers =  np.array([(x, y) \n",
    "                                for y in range(200, im_h-200, y_spacing) \n",
    "                                for x in range(200, im_w-200, x_spacing)])\n",
    "\n",
    "superpixel_xmins = superpixel_centers[:,0] - x_spacing/2\n",
    "superpixel_xmaxs = superpixel_centers[:,0] + x_spacing/2\n",
    "superpixel_ymins = superpixel_centers[:,1] - y_spacing/2\n",
    "superpixel_ymaxs = superpixel_centers[:,1] + y_spacing/2"
   ]
  },
  {
   "cell_type": "code",
   "execution_count": 4,
   "metadata": {
    "collapsed": true
   },
   "outputs": [],
   "source": [
    "NEWREGION_DIR = '/home/yuncong/csd395/CSHL_newRegions/'"
   ]
  },
  {
   "cell_type": "code",
   "execution_count": null,
   "metadata": {
    "collapsed": false,
    "scrolled": true
   },
   "outputs": [
    {
     "name": "stderr",
     "output_type": "stream",
     "text": [
      "Widget Javascript not detected.  It may not be installed properly. Did you enable the widgetsnbextension? If not, then run \"jupyter nbextension enable --py --sys-prefix widgetsnbextension\"\n"
     ]
    }
   ],
   "source": [
    "bar = show_progress_bar(first_sec, last_sec)\n",
    "\n",
    "for sec in range(first_sec, last_sec+1):\n",
    "    \n",
    "    bar.value = sec\n",
    "    \n",
    "    img_fn = s2f[sec]\n",
    "    if img_fn in ['Nonexisting', 'Rescan', 'Placeholder']:\n",
    "        continue\n",
    "        \n",
    "    mask_tb = DataManager.load_thumbnail_mask_v2(stack=stack, section=sec)\n",
    "    \n",
    "    patch_indices = [[(stack, sec, i) for i in locate_patches_v2(stack=stack, mask_tb=mask_tb, bbox_lossless=[xmin, ymin, xmax+1-xmin, ymax+1-ymin])]\n",
    "             for xmin, xmax, ymin, ymax in zip(superpixel_xmins, superpixel_xmaxs, superpixel_ymins, superpixel_ymaxs)]\n",
    "\n",
    "    features = apply_function_to_nested_list(addresses_to_features, patch_indices)\n",
    "    features = map(np.array, features)\n",
    "    \n",
    "    output_dir = os.path.join(NEWREGION_DIR, stack, img_fn)\n",
    "    \n",
    "    execute_command('mkdir -p ' + output_dir)\n",
    "    \n",
    "    save_hdf_v2(features, os.path.join(output_dir, '%(img_fn)s_features.hdf' % dict(img_fn=img_fn)))"
   ]
  },
  {
   "cell_type": "code",
   "execution_count": 29,
   "metadata": {
    "collapsed": true
   },
   "outputs": [],
   "source": [
    "# labelmap = slic(img[5000:6000, 5000:6000], n_segments=100, compactness=1., \n",
    "#                 max_iter=1000, sigma=2, convert2lab=False, \n",
    "#                 spacing=None, min_size_factor=0.5, max_size_factor=30)\n",
    "# labelmap_viz = mark_boundaries(img[5000:6000, 5000:6000], labelmap)\n",
    "# display_image(labelmap_viz)"
   ]
  }
 ],
 "metadata": {
  "kernelspec": {
   "display_name": "Python 2",
   "language": "python",
   "name": "python2"
  },
  "language_info": {
   "codemirror_mode": {
    "name": "ipython",
    "version": 2
   },
   "file_extension": ".py",
   "mimetype": "text/x-python",
   "name": "python",
   "nbconvert_exporter": "python",
   "pygments_lexer": "ipython2",
   "version": "2.7.3"
  }
 },
 "nbformat": 4,
 "nbformat_minor": 1
}
