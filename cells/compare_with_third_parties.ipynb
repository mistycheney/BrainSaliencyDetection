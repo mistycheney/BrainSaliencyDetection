{
 "cells": [
  {
   "cell_type": "code",
   "execution_count": 1,
   "metadata": {
    "collapsed": false
   },
   "outputs": [
    {
     "name": "stdout",
     "output_type": "stream",
     "text": [
      "Setting environment for Gordon\n"
     ]
    },
    {
     "name": "stderr",
     "output_type": "stream",
     "text": [
      "No vtk\n"
     ]
    }
   ],
   "source": [
    "import sys, os\n",
    "sys.path.append(os.path.join(os.environ['REPO_DIR'], 'utilities'))\n",
    "\n",
    "from registration_utilities import *\n",
    "from utilities2015 import *\n",
    "from data_manager import *\n",
    "from metadata import *\n",
    "\n",
    "from scipy.io import loadmat\n",
    "import numpy as np\n",
    "from skimage.measure import regionprops\n",
    "from skimage.color import label2rgb"
   ]
  },
  {
   "cell_type": "code",
   "execution_count": 2,
   "metadata": {
    "collapsed": false
   },
   "outputs": [],
   "source": [
    "stack = 'MD589'\n",
    "\n",
    "sections_to_filenames = metadata_cache['sections_to_filenames'][stack]\n",
    "first_bs_section, last_bs_section = metadata_cache['section_limits'][stack]"
   ]
  },
  {
   "cell_type": "code",
   "execution_count": 3,
   "metadata": {
    "collapsed": true
   },
   "outputs": [],
   "source": [
    "DETECTED_CELLS_DIR = '/oasis/projects/nsf/csd395/yuncong/CSHL_cells_v2/detected_cells'"
   ]
  },
  {
   "cell_type": "markdown",
   "metadata": {},
   "source": [
    "# Split image into tiles"
   ]
  },
  {
   "cell_type": "code",
   "execution_count": 6,
   "metadata": {
    "collapsed": false,
    "scrolled": true
   },
   "outputs": [
    {
     "name": "stdout",
     "output_type": "stream",
     "text": [
      "cp /oasis/projects/nsf/csd395/yuncong/CSHL_data_processed/MD589/MD589_lossless_unsorted_alignedTo_MD589-IHC31-2015.07.30-23.26.22_MD589_1_0091_cropped_saturation/MD589-N34-2015.07.30-18.20.43_MD589_2_0101_lossless_alignedTo_MD589-IHC31-2015.07.30-23.26.22_MD589_1_0091_cropped_saturation.jpg /oasis/projects/nsf/csd395/yuncong/CSHL_cells_v2/detected_cells/MD589/MD589-N34-2015.07.30-18.20.43_MD589_2_0101/MD589-N34-2015.07.30-18.20.43_MD589_2_0101_image_saturation.jpg\n",
      "convert /oasis/projects/nsf/csd395/yuncong/CSHL_cells_v2/detected_cells/MD589/MD589-N34-2015.07.30-18.20.43_MD589_2_0101/MD589-N34-2015.07.30-18.20.43_MD589_2_0101_image_saturation.jpg -negate -auto-level /oasis/projects/nsf/csd395/yuncong/CSHL_cells_v2/detected_cells/MD589/MD589-N34-2015.07.30-18.20.43_MD589_2_0101/MD589-N34-2015.07.30-18.20.43_MD589_2_0101_image_inverted.jpg\n"
     ]
    },
    {
     "name": "stderr",
     "output_type": "stream",
     "text": [
      "Child returned 0\n",
      "Child returned 0\n",
      "/oasis/projects/nsf/csd395/yuncong/brain_virtualenv/lib/python2.7/site-packages/PIL/Image.py:2246: DecompressionBombWarning: Image size (185246720 pixels) exceeds limit of 89478485 pixels, could be decompression bomb DOS attack.\n",
      "  DecompressionBombWarning)\n"
     ]
    },
    {
     "name": "stdout",
     "output_type": "stream",
     "text": [
      "convert /oasis/projects/nsf/csd395/yuncong/CSHL_cells_v2/detected_cells/MD589/MD589-N34-2015.07.30-18.20.43_MD589_2_0101/MD589-N34-2015.07.30-18.20.43_MD589_2_0101_image_inverted.jpg -crop 5000x5000+0+0 /oasis/projects/nsf/csd395/yuncong/CSHL_cells_v2/detected_cells/MD589/MD589-N34-2015.07.30-18.20.43_MD589_2_0101/MD589-N34-2015.07.30-18.20.43_MD589_2_0101_image_inverted_00.tif\n"
     ]
    },
    {
     "name": "stderr",
     "output_type": "stream",
     "text": [
      "Child returned 0\n"
     ]
    },
    {
     "name": "stdout",
     "output_type": "stream",
     "text": [
      "convert /oasis/projects/nsf/csd395/yuncong/CSHL_cells_v2/detected_cells/MD589/MD589-N34-2015.07.30-18.20.43_MD589_2_0101/MD589-N34-2015.07.30-18.20.43_MD589_2_0101_image_inverted.jpg -crop 5000x5000+5000+0 /oasis/projects/nsf/csd395/yuncong/CSHL_cells_v2/detected_cells/MD589/MD589-N34-2015.07.30-18.20.43_MD589_2_0101/MD589-N34-2015.07.30-18.20.43_MD589_2_0101_image_inverted_01.tif\n"
     ]
    },
    {
     "name": "stderr",
     "output_type": "stream",
     "text": [
      "Child returned 0\n"
     ]
    },
    {
     "name": "stdout",
     "output_type": "stream",
     "text": [
      "convert /oasis/projects/nsf/csd395/yuncong/CSHL_cells_v2/detected_cells/MD589/MD589-N34-2015.07.30-18.20.43_MD589_2_0101/MD589-N34-2015.07.30-18.20.43_MD589_2_0101_image_inverted.jpg -crop 5000x5000+10000+0 /oasis/projects/nsf/csd395/yuncong/CSHL_cells_v2/detected_cells/MD589/MD589-N34-2015.07.30-18.20.43_MD589_2_0101/MD589-N34-2015.07.30-18.20.43_MD589_2_0101_image_inverted_02.tif\n"
     ]
    },
    {
     "name": "stderr",
     "output_type": "stream",
     "text": [
      "Child returned 0\n"
     ]
    },
    {
     "name": "stdout",
     "output_type": "stream",
     "text": [
      "convert /oasis/projects/nsf/csd395/yuncong/CSHL_cells_v2/detected_cells/MD589/MD589-N34-2015.07.30-18.20.43_MD589_2_0101/MD589-N34-2015.07.30-18.20.43_MD589_2_0101_image_inverted.jpg -crop 5000x5000+15000+0 /oasis/projects/nsf/csd395/yuncong/CSHL_cells_v2/detected_cells/MD589/MD589-N34-2015.07.30-18.20.43_MD589_2_0101/MD589-N34-2015.07.30-18.20.43_MD589_2_0101_image_inverted_03.tif\n"
     ]
    },
    {
     "name": "stderr",
     "output_type": "stream",
     "text": [
      "Child returned 0\n"
     ]
    },
    {
     "name": "stdout",
     "output_type": "stream",
     "text": [
      "convert /oasis/projects/nsf/csd395/yuncong/CSHL_cells_v2/detected_cells/MD589/MD589-N34-2015.07.30-18.20.43_MD589_2_0101/MD589-N34-2015.07.30-18.20.43_MD589_2_0101_image_inverted.jpg -crop 5000x5000+0+5000 /oasis/projects/nsf/csd395/yuncong/CSHL_cells_v2/detected_cells/MD589/MD589-N34-2015.07.30-18.20.43_MD589_2_0101/MD589-N34-2015.07.30-18.20.43_MD589_2_0101_image_inverted_04.tif\n"
     ]
    },
    {
     "name": "stderr",
     "output_type": "stream",
     "text": [
      "Child returned 0\n"
     ]
    },
    {
     "name": "stdout",
     "output_type": "stream",
     "text": [
      "convert /oasis/projects/nsf/csd395/yuncong/CSHL_cells_v2/detected_cells/MD589/MD589-N34-2015.07.30-18.20.43_MD589_2_0101/MD589-N34-2015.07.30-18.20.43_MD589_2_0101_image_inverted.jpg -crop 5000x5000+5000+5000 /oasis/projects/nsf/csd395/yuncong/CSHL_cells_v2/detected_cells/MD589/MD589-N34-2015.07.30-18.20.43_MD589_2_0101/MD589-N34-2015.07.30-18.20.43_MD589_2_0101_image_inverted_05.tif\n"
     ]
    },
    {
     "name": "stderr",
     "output_type": "stream",
     "text": [
      "Child returned 0\n"
     ]
    },
    {
     "name": "stdout",
     "output_type": "stream",
     "text": [
      "convert /oasis/projects/nsf/csd395/yuncong/CSHL_cells_v2/detected_cells/MD589/MD589-N34-2015.07.30-18.20.43_MD589_2_0101/MD589-N34-2015.07.30-18.20.43_MD589_2_0101_image_inverted.jpg -crop 5000x5000+10000+5000 /oasis/projects/nsf/csd395/yuncong/CSHL_cells_v2/detected_cells/MD589/MD589-N34-2015.07.30-18.20.43_MD589_2_0101/MD589-N34-2015.07.30-18.20.43_MD589_2_0101_image_inverted_06.tif\n"
     ]
    },
    {
     "name": "stderr",
     "output_type": "stream",
     "text": [
      "Child returned 0\n"
     ]
    },
    {
     "name": "stdout",
     "output_type": "stream",
     "text": [
      "convert /oasis/projects/nsf/csd395/yuncong/CSHL_cells_v2/detected_cells/MD589/MD589-N34-2015.07.30-18.20.43_MD589_2_0101/MD589-N34-2015.07.30-18.20.43_MD589_2_0101_image_inverted.jpg -crop 5000x5000+15000+5000 /oasis/projects/nsf/csd395/yuncong/CSHL_cells_v2/detected_cells/MD589/MD589-N34-2015.07.30-18.20.43_MD589_2_0101/MD589-N34-2015.07.30-18.20.43_MD589_2_0101_image_inverted_07.tif\n"
     ]
    },
    {
     "name": "stderr",
     "output_type": "stream",
     "text": [
      "Child returned 0\n"
     ]
    },
    {
     "name": "stdout",
     "output_type": "stream",
     "text": [
      "convert /oasis/projects/nsf/csd395/yuncong/CSHL_cells_v2/detected_cells/MD589/MD589-N34-2015.07.30-18.20.43_MD589_2_0101/MD589-N34-2015.07.30-18.20.43_MD589_2_0101_image_inverted.jpg -crop 5000x5000+0+10000 /oasis/projects/nsf/csd395/yuncong/CSHL_cells_v2/detected_cells/MD589/MD589-N34-2015.07.30-18.20.43_MD589_2_0101/MD589-N34-2015.07.30-18.20.43_MD589_2_0101_image_inverted_08.tif\n"
     ]
    },
    {
     "name": "stderr",
     "output_type": "stream",
     "text": [
      "Child returned 0\n"
     ]
    },
    {
     "name": "stdout",
     "output_type": "stream",
     "text": [
      "convert /oasis/projects/nsf/csd395/yuncong/CSHL_cells_v2/detected_cells/MD589/MD589-N34-2015.07.30-18.20.43_MD589_2_0101/MD589-N34-2015.07.30-18.20.43_MD589_2_0101_image_inverted.jpg -crop 5000x5000+5000+10000 /oasis/projects/nsf/csd395/yuncong/CSHL_cells_v2/detected_cells/MD589/MD589-N34-2015.07.30-18.20.43_MD589_2_0101/MD589-N34-2015.07.30-18.20.43_MD589_2_0101_image_inverted_09.tif\n"
     ]
    },
    {
     "name": "stderr",
     "output_type": "stream",
     "text": [
      "Child returned 0\n"
     ]
    },
    {
     "name": "stdout",
     "output_type": "stream",
     "text": [
      "convert /oasis/projects/nsf/csd395/yuncong/CSHL_cells_v2/detected_cells/MD589/MD589-N34-2015.07.30-18.20.43_MD589_2_0101/MD589-N34-2015.07.30-18.20.43_MD589_2_0101_image_inverted.jpg -crop 5000x5000+10000+10000 /oasis/projects/nsf/csd395/yuncong/CSHL_cells_v2/detected_cells/MD589/MD589-N34-2015.07.30-18.20.43_MD589_2_0101/MD589-N34-2015.07.30-18.20.43_MD589_2_0101_image_inverted_10.tif\n"
     ]
    },
    {
     "name": "stderr",
     "output_type": "stream",
     "text": [
      "Child returned 0\n"
     ]
    },
    {
     "name": "stdout",
     "output_type": "stream",
     "text": [
      "convert /oasis/projects/nsf/csd395/yuncong/CSHL_cells_v2/detected_cells/MD589/MD589-N34-2015.07.30-18.20.43_MD589_2_0101/MD589-N34-2015.07.30-18.20.43_MD589_2_0101_image_inverted.jpg -crop 5000x5000+15000+10000 /oasis/projects/nsf/csd395/yuncong/CSHL_cells_v2/detected_cells/MD589/MD589-N34-2015.07.30-18.20.43_MD589_2_0101/MD589-N34-2015.07.30-18.20.43_MD589_2_0101_image_inverted_11.tif\n"
     ]
    },
    {
     "name": "stderr",
     "output_type": "stream",
     "text": [
      "Child returned 0\n",
      "Child returned 0\n"
     ]
    },
    {
     "name": "stdout",
     "output_type": "stream",
     "text": [
      "cp /oasis/projects/nsf/csd395/yuncong/CSHL_data_processed/MD589/MD589_lossless_unsorted_alignedTo_MD589-IHC31-2015.07.30-23.26.22_MD589_1_0091_cropped_saturation/MD589-N47-2015.07.30-19.12.19_MD589_1_0139_lossless_alignedTo_MD589-IHC31-2015.07.30-23.26.22_MD589_1_0091_cropped_saturation.jpg /oasis/projects/nsf/csd395/yuncong/CSHL_cells_v2/detected_cells/MD589/MD589-N47-2015.07.30-19.12.19_MD589_1_0139/MD589-N47-2015.07.30-19.12.19_MD589_1_0139_image_saturation.jpg\n",
      "convert /oasis/projects/nsf/csd395/yuncong/CSHL_cells_v2/detected_cells/MD589/MD589-N47-2015.07.30-19.12.19_MD589_1_0139/MD589-N47-2015.07.30-19.12.19_MD589_1_0139_image_saturation.jpg -negate -auto-level /oasis/projects/nsf/csd395/yuncong/CSHL_cells_v2/detected_cells/MD589/MD589-N47-2015.07.30-19.12.19_MD589_1_0139/MD589-N47-2015.07.30-19.12.19_MD589_1_0139_image_inverted.jpg\n"
     ]
    },
    {
     "name": "stderr",
     "output_type": "stream",
     "text": [
      "Child returned 0\n"
     ]
    },
    {
     "name": "stdout",
     "output_type": "stream",
     "text": [
      "convert /oasis/projects/nsf/csd395/yuncong/CSHL_cells_v2/detected_cells/MD589/MD589-N47-2015.07.30-19.12.19_MD589_1_0139/MD589-N47-2015.07.30-19.12.19_MD589_1_0139_image_inverted.jpg -crop 5000x5000+0+0 /oasis/projects/nsf/csd395/yuncong/CSHL_cells_v2/detected_cells/MD589/MD589-N47-2015.07.30-19.12.19_MD589_1_0139/MD589-N47-2015.07.30-19.12.19_MD589_1_0139_image_inverted_00.tif\n"
     ]
    },
    {
     "name": "stderr",
     "output_type": "stream",
     "text": [
      "Child returned 0\n"
     ]
    },
    {
     "name": "stdout",
     "output_type": "stream",
     "text": [
      "convert /oasis/projects/nsf/csd395/yuncong/CSHL_cells_v2/detected_cells/MD589/MD589-N47-2015.07.30-19.12.19_MD589_1_0139/MD589-N47-2015.07.30-19.12.19_MD589_1_0139_image_inverted.jpg -crop 5000x5000+5000+0 /oasis/projects/nsf/csd395/yuncong/CSHL_cells_v2/detected_cells/MD589/MD589-N47-2015.07.30-19.12.19_MD589_1_0139/MD589-N47-2015.07.30-19.12.19_MD589_1_0139_image_inverted_01.tif\n"
     ]
    },
    {
     "name": "stderr",
     "output_type": "stream",
     "text": [
      "Child returned 0\n"
     ]
    },
    {
     "name": "stdout",
     "output_type": "stream",
     "text": [
      "convert /oasis/projects/nsf/csd395/yuncong/CSHL_cells_v2/detected_cells/MD589/MD589-N47-2015.07.30-19.12.19_MD589_1_0139/MD589-N47-2015.07.30-19.12.19_MD589_1_0139_image_inverted.jpg -crop 5000x5000+10000+0 /oasis/projects/nsf/csd395/yuncong/CSHL_cells_v2/detected_cells/MD589/MD589-N47-2015.07.30-19.12.19_MD589_1_0139/MD589-N47-2015.07.30-19.12.19_MD589_1_0139_image_inverted_02.tif\n"
     ]
    },
    {
     "name": "stderr",
     "output_type": "stream",
     "text": [
      "Child returned 0\n"
     ]
    },
    {
     "name": "stdout",
     "output_type": "stream",
     "text": [
      "convert /oasis/projects/nsf/csd395/yuncong/CSHL_cells_v2/detected_cells/MD589/MD589-N47-2015.07.30-19.12.19_MD589_1_0139/MD589-N47-2015.07.30-19.12.19_MD589_1_0139_image_inverted.jpg -crop 5000x5000+15000+0 /oasis/projects/nsf/csd395/yuncong/CSHL_cells_v2/detected_cells/MD589/MD589-N47-2015.07.30-19.12.19_MD589_1_0139/MD589-N47-2015.07.30-19.12.19_MD589_1_0139_image_inverted_03.tif\n"
     ]
    },
    {
     "name": "stderr",
     "output_type": "stream",
     "text": [
      "Child returned 0\n"
     ]
    },
    {
     "name": "stdout",
     "output_type": "stream",
     "text": [
      "convert /oasis/projects/nsf/csd395/yuncong/CSHL_cells_v2/detected_cells/MD589/MD589-N47-2015.07.30-19.12.19_MD589_1_0139/MD589-N47-2015.07.30-19.12.19_MD589_1_0139_image_inverted.jpg -crop 5000x5000+0+5000 /oasis/projects/nsf/csd395/yuncong/CSHL_cells_v2/detected_cells/MD589/MD589-N47-2015.07.30-19.12.19_MD589_1_0139/MD589-N47-2015.07.30-19.12.19_MD589_1_0139_image_inverted_04.tif\n"
     ]
    },
    {
     "name": "stderr",
     "output_type": "stream",
     "text": [
      "Child returned 0\n"
     ]
    },
    {
     "name": "stdout",
     "output_type": "stream",
     "text": [
      "convert /oasis/projects/nsf/csd395/yuncong/CSHL_cells_v2/detected_cells/MD589/MD589-N47-2015.07.30-19.12.19_MD589_1_0139/MD589-N47-2015.07.30-19.12.19_MD589_1_0139_image_inverted.jpg -crop 5000x5000+5000+5000 /oasis/projects/nsf/csd395/yuncong/CSHL_cells_v2/detected_cells/MD589/MD589-N47-2015.07.30-19.12.19_MD589_1_0139/MD589-N47-2015.07.30-19.12.19_MD589_1_0139_image_inverted_05.tif\n"
     ]
    },
    {
     "name": "stderr",
     "output_type": "stream",
     "text": [
      "Child returned 0\n"
     ]
    },
    {
     "name": "stdout",
     "output_type": "stream",
     "text": [
      "convert /oasis/projects/nsf/csd395/yuncong/CSHL_cells_v2/detected_cells/MD589/MD589-N47-2015.07.30-19.12.19_MD589_1_0139/MD589-N47-2015.07.30-19.12.19_MD589_1_0139_image_inverted.jpg -crop 5000x5000+10000+5000 /oasis/projects/nsf/csd395/yuncong/CSHL_cells_v2/detected_cells/MD589/MD589-N47-2015.07.30-19.12.19_MD589_1_0139/MD589-N47-2015.07.30-19.12.19_MD589_1_0139_image_inverted_06.tif\n"
     ]
    },
    {
     "name": "stderr",
     "output_type": "stream",
     "text": [
      "Child returned 0\n"
     ]
    },
    {
     "name": "stdout",
     "output_type": "stream",
     "text": [
      "convert /oasis/projects/nsf/csd395/yuncong/CSHL_cells_v2/detected_cells/MD589/MD589-N47-2015.07.30-19.12.19_MD589_1_0139/MD589-N47-2015.07.30-19.12.19_MD589_1_0139_image_inverted.jpg -crop 5000x5000+15000+5000 /oasis/projects/nsf/csd395/yuncong/CSHL_cells_v2/detected_cells/MD589/MD589-N47-2015.07.30-19.12.19_MD589_1_0139/MD589-N47-2015.07.30-19.12.19_MD589_1_0139_image_inverted_07.tif\n"
     ]
    },
    {
     "name": "stderr",
     "output_type": "stream",
     "text": [
      "Child returned 0\n"
     ]
    },
    {
     "name": "stdout",
     "output_type": "stream",
     "text": [
      "convert /oasis/projects/nsf/csd395/yuncong/CSHL_cells_v2/detected_cells/MD589/MD589-N47-2015.07.30-19.12.19_MD589_1_0139/MD589-N47-2015.07.30-19.12.19_MD589_1_0139_image_inverted.jpg -crop 5000x5000+0+10000 /oasis/projects/nsf/csd395/yuncong/CSHL_cells_v2/detected_cells/MD589/MD589-N47-2015.07.30-19.12.19_MD589_1_0139/MD589-N47-2015.07.30-19.12.19_MD589_1_0139_image_inverted_08.tif\n"
     ]
    },
    {
     "name": "stderr",
     "output_type": "stream",
     "text": [
      "Child returned 0\n"
     ]
    },
    {
     "name": "stdout",
     "output_type": "stream",
     "text": [
      "convert /oasis/projects/nsf/csd395/yuncong/CSHL_cells_v2/detected_cells/MD589/MD589-N47-2015.07.30-19.12.19_MD589_1_0139/MD589-N47-2015.07.30-19.12.19_MD589_1_0139_image_inverted.jpg -crop 5000x5000+5000+10000 /oasis/projects/nsf/csd395/yuncong/CSHL_cells_v2/detected_cells/MD589/MD589-N47-2015.07.30-19.12.19_MD589_1_0139/MD589-N47-2015.07.30-19.12.19_MD589_1_0139_image_inverted_09.tif\n"
     ]
    },
    {
     "name": "stderr",
     "output_type": "stream",
     "text": [
      "Child returned 0\n"
     ]
    },
    {
     "name": "stdout",
     "output_type": "stream",
     "text": [
      "convert /oasis/projects/nsf/csd395/yuncong/CSHL_cells_v2/detected_cells/MD589/MD589-N47-2015.07.30-19.12.19_MD589_1_0139/MD589-N47-2015.07.30-19.12.19_MD589_1_0139_image_inverted.jpg -crop 5000x5000+10000+10000 /oasis/projects/nsf/csd395/yuncong/CSHL_cells_v2/detected_cells/MD589/MD589-N47-2015.07.30-19.12.19_MD589_1_0139/MD589-N47-2015.07.30-19.12.19_MD589_1_0139_image_inverted_10.tif\n"
     ]
    },
    {
     "name": "stderr",
     "output_type": "stream",
     "text": [
      "Child returned 0\n"
     ]
    },
    {
     "name": "stdout",
     "output_type": "stream",
     "text": [
      "convert /oasis/projects/nsf/csd395/yuncong/CSHL_cells_v2/detected_cells/MD589/MD589-N47-2015.07.30-19.12.19_MD589_1_0139/MD589-N47-2015.07.30-19.12.19_MD589_1_0139_image_inverted.jpg -crop 5000x5000+15000+10000 /oasis/projects/nsf/csd395/yuncong/CSHL_cells_v2/detected_cells/MD589/MD589-N47-2015.07.30-19.12.19_MD589_1_0139/MD589-N47-2015.07.30-19.12.19_MD589_1_0139_image_inverted_11.tif\n"
     ]
    },
    {
     "name": "stderr",
     "output_type": "stream",
     "text": [
      "Child returned 0\n"
     ]
    }
   ],
   "source": [
    "# Split image into tiles.\n",
    "\n",
    "for sec in [192, 242]:\n",
    "# for sec in range(first_bs_section, last_bs_section, 50):\n",
    "# for sec in range(242, last_bs_section, 50):\n",
    "\n",
    "    img_fn = sections_to_filenames[sec]\n",
    "    \n",
    "    sat_filename = DataManager.get_image_filepath(stack=stack, section=sec, resol='lossless', version='saturation')\n",
    "    copyto_sat_filename = DETECTED_CELLS_DIR + '/%(stack)s/%(fn)s/%(fn)s_image_saturation.jpg' % {'fn':img_fn, 'stack':stack}\n",
    "    execute_command(\"cp %s %s\" % (sat_filename, copyto_sat_filename))\n",
    "    \n",
    "    img_fp = os.path.join(DETECTED_CELLS_DIR, stack, img_fn, img_fn + '_image_inverted.jpg')\n",
    "\n",
    "    execute_command('convert %(img_orig_fp)s -negate -auto-level %(img_fp)s' % dict(img_orig_fp=copyto_sat_filename,\n",
    "                                                                   img_fp=img_fp))\n",
    "    \n",
    "    img = imread(img_fp)\n",
    "    img_h, img_w = img.shape[:2]\n",
    "    \n",
    "    ###\n",
    "    \n",
    "    tile_h, tile_w = (5000, 5000)\n",
    "\n",
    "    i = 0\n",
    "    for iy, y0 in enumerate(np.arange(0, img_h, 5000)):\n",
    "        for ix, x0 in enumerate(np.arange(0, img_w, 5000)):\n",
    "            tile_fp = os.path.join(DETECTED_CELLS_DIR, stack, img_fn, img_fn + '_image_inverted_%02d.tif') % i\n",
    "            execute_command(\"convert %(img_fp)s -crop %(tile_w)dx%(tile_h)d+%(x0)d+%(y0)d %(tile_fp)s\" % \\\n",
    "                            dict(img_fp=img_fp, x0=x0, y0=y0, tile_w=tile_w, tile_h=tile_h, tile_fp=tile_fp))\n",
    "            i += 1"
   ]
  },
  {
   "cell_type": "code",
   "execution_count": null,
   "metadata": {
    "collapsed": true
   },
   "outputs": [],
   "source": []
  },
  {
   "cell_type": "code",
   "execution_count": null,
   "metadata": {
    "collapsed": true
   },
   "outputs": [],
   "source": [
    "labeled_img = {}"
   ]
  },
  {
   "cell_type": "code",
   "execution_count": 7,
   "metadata": {
    "collapsed": false
   },
   "outputs": [],
   "source": [
    "# Farsight\n",
    "\n",
    "# farsight_result_fn = DETECTED_CELLS_DIR + '/MD589/MD589-N34-2015.07.30-18.20.43_MD589_2_0101/MD589-N34-2015.07.30-18.20.43_MD589_2_0101_image_cropped_inverted_seg_final.dat'\n",
    "# labeled_img['farsight'] = np.fromfile(farsight_result_fn, dtype=np.int16).reshape((h,w))[::-1,:]\n",
    "\n",
    "# ~/Farsight-0.4.4-Linux/bin/segment_nuclei MD589-N34-2015.07.30-18.20.43_MD589_2_0101_image_cropped_inverted.jpg MD589-N34-2015.07.30-18.20.43_MD589_2_0101_image_inverted_labeled_farsight.tif\n",
    "\n",
    "farsight_result_fn = DETECTED_CELLS_DIR + '/MD589/MD589-N34-2015.07.30-18.20.43_MD589_2_0101/MD589-N34-2015.07.30-18.20.43_MD589_2_0101_image_inverted_labeled_farsight.tif'\n",
    "labeled_img['farsight'] = imread(farsight_result_fn)"
   ]
  },
  {
   "cell_type": "code",
   "execution_count": 10,
   "metadata": {
    "collapsed": false
   },
   "outputs": [],
   "source": [
    "bp.pack_ndarray_file(labeled_img['farsight'], DETECTED_CELLS_DIR + '/MD589/MD589-N34-2015.07.30-18.20.43_MD589_2_0101/MD589-N34-2015.07.30-18.20.43_MD589_2_0101_image_inverted_labeled_farsight.bp')"
   ]
  },
  {
   "cell_type": "code",
   "execution_count": 12,
   "metadata": {
    "collapsed": true
   },
   "outputs": [],
   "source": [
    "# Cell Profiler\n",
    "\n",
    "# cellprofiler -c --file-list=test.txt -p CSHL_cells_v2/SegmentCells.cppipe\n",
    "\n",
    "cp_result_fn = DETECTED_CELLS_DIR + '/MD589/MD589-N34-2015.07.30-18.20.43_MD589_2_0101/MD589-N34-2015.07.30-18.20.43_MD589_2_0101_image_cropped_inverted_labeled.mat'\n",
    "labeled_img['cellprofiler'] = loadmat(cp_result_fn)['Image']"
   ]
  },
  {
   "cell_type": "code",
   "execution_count": 13,
   "metadata": {
    "collapsed": true
   },
   "outputs": [],
   "source": [
    "bp.pack_ndarray_file(labeled_img['cellprofiler'], DETECTED_CELLS_DIR + '/MD589/MD589-N34-2015.07.30-18.20.43_MD589_2_0101/MD589-N34-2015.07.30-18.20.43_MD589_2_0101_image_inverted_labeled_cellprofiler.bp')"
   ]
  },
  {
   "cell_type": "code",
   "execution_count": 11,
   "metadata": {
    "collapsed": false
   },
   "outputs": [
    {
     "name": "stdout",
     "output_type": "stream",
     "text": [
      "1885 cells\n",
      "1883 cells\n"
     ]
    }
   ],
   "source": [
    "# Generate cell contour overlay\n",
    "\n",
    "colors = dict(farsight=(0,0,255), cellprofiler=(0,255,0))\n",
    "\n",
    "for prog, label_img in labeled_img.iteritems():\n",
    "        \n",
    "    bg = np.zeros(label_img.shape[:2] + (4,), np.uint8)\n",
    "    \n",
    "    props = regionprops(label_img)\n",
    "    print len(props), \"cells\"\n",
    "    cell_contours = find_contour_points(label_img, sample_every=1)\n",
    "    for i, cnts in cell_contours.iteritems():\n",
    "        cnt = cnts[0]\n",
    "        xs = cnt[:,0]\n",
    "        ys = cnt[:,1]\n",
    "        bg[ys, xs] = colors[prog] + (255,)\n",
    "    \n",
    "    imsave(DETECTED_CELLS_DIR + '/MD589/MD589-N34-2015.07.30-18.20.43_MD589_2_0101/MD589-N34-2015.07.30-18.20.43_MD589_2_0101_image_cropped_inverted_contoured_%s.png' % prog, bg)"
   ]
  }
 ],
 "metadata": {
  "kernelspec": {
   "display_name": "Python 2",
   "language": "python",
   "name": "python2"
  },
  "language_info": {
   "codemirror_mode": {
    "name": "ipython",
    "version": 2
   },
   "file_extension": ".py",
   "mimetype": "text/x-python",
   "name": "python",
   "nbconvert_exporter": "python",
   "pygments_lexer": "ipython2",
   "version": "2.7.3"
  }
 },
 "nbformat": 4,
 "nbformat_minor": 1
}
