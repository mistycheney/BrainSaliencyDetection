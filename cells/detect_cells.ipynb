{
 "cells": [
  {
   "cell_type": "code",
   "execution_count": 1,
   "metadata": {
    "collapsed": false
   },
   "outputs": [
    {
     "name": "stdout",
     "output_type": "stream",
     "text": [
      "Setting environment for Gordon\n"
     ]
    }
   ],
   "source": [
    "%reload_ext autoreload\n",
    "%autoreload 2\n",
    "\n",
    "import os\n",
    "import sys\n",
    "import time\n",
    "import cv2\n",
    "\n",
    "from joblib import Parallel, delayed\n",
    "\n",
    "sys.path.append(os.path.join(os.environ['REPO_DIR'], 'utilities'))\n",
    "from utilities2015 import *\n",
    "from data_manager import *\n",
    "from metadata import *\n",
    "\n",
    "import matplotlib.pyplot as plt\n",
    "%matplotlib inline"
   ]
  },
  {
   "cell_type": "code",
   "execution_count": 2,
   "metadata": {
    "collapsed": true
   },
   "outputs": [],
   "source": [
    "from skimage.filters import threshold_otsu\n",
    "from scipy.ndimage.morphology import distance_transform_edt\n",
    "from skimage.feature import peak_local_max\n",
    "from skimage.morphology import watershed, binary_dilation, disk\n",
    "from skimage.segmentation import mark_boundaries, find_boundaries\n",
    "from skimage.measure import regionprops, label\n",
    "from sklearn.cluster import KMeans\n",
    "from skimage.transform import rotate, resize\n",
    "\n",
    "from annotation_utilities import *\n",
    "from registration_utilities import *"
   ]
  },
  {
   "cell_type": "code",
   "execution_count": 3,
   "metadata": {
    "collapsed": true
   },
   "outputs": [],
   "source": [
    "stack = 'MD589'"
   ]
  },
  {
   "cell_type": "code",
   "execution_count": 21,
   "metadata": {
    "collapsed": true
   },
   "outputs": [],
   "source": [
    "min_blob_area = 10\n",
    "max_blob_area = 10000"
   ]
  },
  {
   "cell_type": "code",
   "execution_count": 5,
   "metadata": {
    "collapsed": true
   },
   "outputs": [],
   "source": [
    "output_dir = create_if_not_exists('/home/yuncong/csd395/CSHL_cells_v2/detected_cells/' + stack)"
   ]
  },
  {
   "cell_type": "code",
   "execution_count": 7,
   "metadata": {
    "collapsed": true
   },
   "outputs": [],
   "source": [
    "sections_to_filenames = metadata_cache['sections_to_filenames'][stack]\n",
    "first_bs_section, last_bs_section = metadata_cache['section_limits'][stack]"
   ]
  },
  {
   "cell_type": "code",
   "execution_count": 27,
   "metadata": {
    "collapsed": false,
    "scrolled": true
   },
   "outputs": [
    {
     "name": "stderr",
     "output_type": "stream",
     "text": [
      "Processing section: 092\n",
      "Load image: 98.46\n",
      "Load mask: 9.52\n",
      "threshold: 4.50\n",
      "distance transform: 21.45\n",
      "local max: 15.72\n",
      "label: 2.36\n",
      "watershed: 40.30\n",
      "regionprops: 2.85\n",
      "117872 blobs identified.\n",
      "Compute blob properties, save: 143.88\n",
      "Save image: 20.66\n",
      "Processing section: 142\n",
      "Load image: 108.76\n",
      "Load mask: 9.50\n",
      "threshold: 4.74\n",
      "distance transform: 21.44\n",
      "local max: 15.68\n",
      "label: 2.36\n",
      "watershed: 34.21\n",
      "regionprops: 2.93\n",
      "115623 blobs identified.\n",
      "Compute blob properties, save: 127.81\n",
      "Save image: 20.60\n",
      "Processing section: 192\n",
      "Load image: 116.44\n",
      "Load mask: 9.53\n",
      "threshold: 3.94\n",
      "distance transform: 21.56\n",
      "local max: 15.93\n",
      "label: 2.36\n",
      "watershed: 46.84\n",
      "regionprops: 3.40\n",
      "175151 blobs identified.\n",
      "Compute blob properties, save: 196.37\n",
      "Save image: 22.70\n",
      "Processing section: 242\n",
      "Load image: 102.90\n",
      "Load mask: 9.61\n",
      "threshold: 3.89\n",
      "distance transform: 21.46\n",
      "local max: 15.83\n",
      "label: 2.36\n",
      "watershed: 39.86\n",
      "regionprops: 3.91\n",
      "154845 blobs identified.\n",
      "Compute blob properties, save: 169.66\n",
      "Save image: 21.72\n",
      "Processing section: 292\n",
      "Load image: 105.11\n",
      "Load mask: 9.51\n",
      "threshold: 4.07\n",
      "distance transform: 21.45\n",
      "local max: 15.81\n",
      "label: 2.36\n",
      "watershed: 43.20\n",
      "regionprops: 3.69\n",
      "146222 blobs identified.\n",
      "Compute blob properties, save: 171.75\n",
      "Save image: 21.96\n",
      "Processing section: 342\n",
      "Load image: 100.83\n",
      "Load mask: 9.54\n",
      "threshold: 4.13\n",
      "distance transform: 21.38\n",
      "local max: 15.72\n",
      "label: 2.35\n",
      "watershed: 42.19\n",
      "regionprops: 2.76\n",
      "117925 blobs identified.\n",
      "Compute blob properties, save: 155.67\n",
      "Save image: 20.72\n"
     ]
    }
   ],
   "source": [
    "bar = show_progress_bar(first_bs_section, last_bs_section)\n",
    "\n",
    "# for sec in [242]:\n",
    "for sec in range(first_bs_section, last_bs_section, 50):\n",
    "# sec = 242\n",
    "\n",
    "    fn = sections_to_filenames[sec]\n",
    "\n",
    "    bar.value = sec\n",
    "\n",
    "    sys.stderr.write('Processing section: %03d\\n' % sec)\n",
    "\n",
    "    t = time.time()\n",
    "\n",
    "    img = imread(DataManager.get_image_filepath(stack=stack, section=sec, resol='lossless', version='cropped'))\n",
    "    im = rgb2gray(img)\n",
    "\n",
    "    imsave('/home/yuncong/csd395/CSHL_cells_v2/detected_cells/MD589/%(fn)s/%(fn)s_gray.jpg' % {'fn':fn}, img_as_ubyte(im))\n",
    "\n",
    "    sys.stderr.write('Load image: %.2f\\n' % (time.time() - t) )\n",
    "\n",
    "    t = time.time()\n",
    "\n",
    "    mask_tb = DataManager.load_thumbnail_mask_v2(stack=stack, section=sec)\n",
    "    mask = resize(mask_tb, img.shape[:2]) > .5\n",
    "\n",
    "    sys.stderr.write('Load mask: %.2f\\n' % (time.time() - t) )\n",
    "\n",
    "    t = time.time()\n",
    "\n",
    "    thresh = threshold_otsu(im)\n",
    "    binary = im < thresh\n",
    "    binary[~mask] = 0\n",
    "\n",
    "    sys.stderr.write('threshold: %.2f\\n' % (time.time() - t) )\n",
    "    imsave('/home/yuncong/csd395/CSHL_cells_v2/detected_cells/MD589/%(fn)s/%(fn)s_otsu.jpg' % {'fn':fn}, binary.astype(np.uint8)*255)\n",
    "\n",
    "    # plt.imshow(binary, cmap=plt.cm.gray);\n",
    "    # plt.axis('off');\n",
    "    # plt.title('binary');\n",
    "\n",
    "    t = time.time()\n",
    "    dt = distance_transform_edt(binary)\n",
    "    sys.stderr.write('distance transform: %.2f\\n' % (time.time() - t) )\n",
    "\n",
    "    # plt.imshow(dt, cmap=plt.cm.gray);\n",
    "    # plt.axis('off');\n",
    "    # plt.title('distance tranform');\n",
    "\n",
    "    t = time.time()\n",
    "    local_maxi = peak_local_max(dt, labels=binary, footprint=np.ones((10, 10)), indices=False)\n",
    "    sys.stderr.write('local max: %.2f\\n' % (time.time() - t) )\n",
    "\n",
    "    # plt.imshow(local_maxi, cmap=plt.cm.gray);\n",
    "    # plt.axis('off');\n",
    "    # plt.title('local maxima');\n",
    "\n",
    "    t = time.time()\n",
    "    markers = label(local_maxi)\n",
    "    sys.stderr.write('label: %.2f\\n' % (time.time() - t) )\n",
    "\n",
    "    t = time.time()\n",
    "    labels = watershed(-dt, markers, mask=binary)\n",
    "    sys.stderr.write('watershed: %.2f\\n' % (time.time() - t) )\n",
    "\n",
    "    # plt.imshow(labels);\n",
    "    # plt.axis('off');\n",
    "    # plt.title('labels');\n",
    "\n",
    "    t = time.time()\n",
    "    props = regionprops(labels)\n",
    "    sys.stderr.write('regionprops: %.2f\\n' % (time.time() - t) )\n",
    "\n",
    "#     plt.hist([p.area for p in props], bins=100);\n",
    "#     plt.title('Area histograms');\n",
    "#     plt.show();\n",
    "\n",
    "    valid_blob_indices = [i for i, p in enumerate(props) if p.area > min_blob_area and p.area < max_blob_area]\n",
    "    sys.stderr.write('%d blobs identified.\\n' % len(valid_blob_indices))\n",
    "\n",
    "    fn_output_dir = create_if_not_exists(os.path.join(output_dir, fn))\n",
    "\n",
    "    t = time.time()\n",
    "\n",
    "    valid_blob_coords = [props[i].coords for i in valid_blob_indices] # r,c\n",
    "    valid_blob_orientations = np.array([props[i].orientation for i in valid_blob_indices])\n",
    "    valid_blob_centroids = np.array([props[i].centroid for i in valid_blob_indices]) # r,c\n",
    "    valid_blob_majorAxisLen = np.array([props[i].major_axis_length for i in valid_blob_indices])\n",
    "    valid_blob_minorAxisLen = np.array([props[i].minor_axis_length for i in valid_blob_indices])\n",
    "\n",
    "    #     valid_blob_bbox = [np.array(props[i].bbox) for i in valid_blob_indices]\n",
    "    blob_contours = find_contour_points(labels, sample_every=1)\n",
    "    valid_blob_contours = [blob_contours[i+1][0] for i in valid_blob_indices]\n",
    "    #     valid_blob_contours = [cnts[0] for i, cnts in enumerate(valid_blob_contours)]\n",
    "\n",
    "    pickle.dump(valid_blob_contours, open(fn_output_dir + '/%(fn)s_blobContours.pkl' % {'fn':fn}, 'w'))\n",
    "\n",
    "    pickle.dump(valid_blob_coords, open(fn_output_dir + '/%(fn)s_blobCoords.pkl' % {'fn':fn}, 'w'))\n",
    "    bp.pack_ndarray_file(valid_blob_orientations, fn_output_dir + '/%(fn)s_blobOrientations.bp' % {'fn':fn})\n",
    "    bp.pack_ndarray_file(valid_blob_centroids, fn_output_dir + '/%(fn)s_blobCentroids.bp' % {'fn':fn})\n",
    "    bp.pack_ndarray_file(valid_blob_majorAxisLen, fn_output_dir + '/%(fn)s_blobMajorAxisLen.bp' % {'fn':fn})\n",
    "    bp.pack_ndarray_file(valid_blob_minorAxisLen, fn_output_dir + '/%(fn)s_blobMinorAxisLen.bp' % {'fn':fn})\n",
    "\n",
    "    sys.stderr.write('Compute blob properties, save: %.2f\\n' % (time.time() - t) )\n",
    "\n",
    "\n",
    "    t = time.time()\n",
    "\n",
    "    h, w = img.shape[:2]\n",
    "    for cnt in valid_blob_contours:\n",
    "        img[np.minimum(h-1, np.maximum(cnt[:,1], 0)), np.minimum(w-1, np.maximum(cnt[:,0], 0))] = (255,0,0)\n",
    "\n",
    "    imsave('/home/yuncong/csd395/CSHL_cells_v2/detected_cells/MD589/%(fn)s/%(fn)s_detection_image.jpg' % {'fn':fn}, img)\n",
    "\n",
    "    sys.stderr.write('Save image: %.2f\\n' % (time.time() - t) )"
   ]
  }
 ],
 "metadata": {
  "kernelspec": {
   "display_name": "Python 2",
   "language": "python",
   "name": "python2"
  },
  "language_info": {
   "codemirror_mode": {
    "name": "ipython",
    "version": 2
   },
   "file_extension": ".py",
   "mimetype": "text/x-python",
   "name": "python",
   "nbconvert_exporter": "python",
   "pygments_lexer": "ipython2",
   "version": "2.7.3"
  }
 },
 "nbformat": 4,
 "nbformat_minor": 0
}
