{
 "cells": [
  {
   "cell_type": "code",
   "execution_count": 1,
   "metadata": {
    "collapsed": false
   },
   "outputs": [
    {
     "name": "stdout",
     "output_type": "stream",
     "text": [
      "Setting environment for Gordon\n"
     ]
    },
    {
     "name": "stderr",
     "output_type": "stream",
     "text": [
      "No vtk\n"
     ]
    }
   ],
   "source": [
    "%reload_ext autoreload\n",
    "%autoreload 2\n",
    "\n",
    "import os\n",
    "import sys\n",
    "import time\n",
    "import cv2\n",
    "\n",
    "# from joblib import Parallel, delayed\n",
    "\n",
    "sys.path.append(os.path.join(os.environ['REPO_DIR'], 'utilities'))\n",
    "from utilities2015 import *\n",
    "from data_manager import *\n",
    "from metadata import *\n",
    "\n",
    "import matplotlib.pyplot as plt\n",
    "%matplotlib inline"
   ]
  },
  {
   "cell_type": "code",
   "execution_count": 2,
   "metadata": {
    "collapsed": false
   },
   "outputs": [],
   "source": [
    "from skimage.filters import threshold_otsu\n",
    "from scipy.ndimage.morphology import distance_transform_edt\n",
    "from skimage.feature import peak_local_max\n",
    "from skimage.morphology import watershed\n",
    "from skimage.measure import regionprops, label, find_contours\n",
    "from skimage.transform import resize\n",
    "\n",
    "from annotation_utilities import *\n",
    "from registration_utilities import *\n",
    "\n",
    "import pandas"
   ]
  },
  {
   "cell_type": "code",
   "execution_count": 3,
   "metadata": {
    "collapsed": true
   },
   "outputs": [],
   "source": [
    "stack = 'MD589'"
   ]
  },
  {
   "cell_type": "code",
   "execution_count": 4,
   "metadata": {
    "collapsed": true
   },
   "outputs": [],
   "source": [
    "min_blob_area = 10\n",
    "max_blob_area = 10000"
   ]
  },
  {
   "cell_type": "code",
   "execution_count": 5,
   "metadata": {
    "collapsed": true
   },
   "outputs": [],
   "source": [
    "sections_to_filenames = metadata_cache['sections_to_filenames'][stack]\n",
    "first_bs_section, last_bs_section = metadata_cache['section_limits'][stack]"
   ]
  },
  {
   "cell_type": "code",
   "execution_count": 6,
   "metadata": {
    "collapsed": true
   },
   "outputs": [],
   "source": [
    "output_dir = create_if_not_exists('/home/yuncong/csd395/CSHL_cells_v2/detected_cells/' + stack)"
   ]
  },
  {
   "cell_type": "code",
   "execution_count": 7,
   "metadata": {
    "collapsed": true
   },
   "outputs": [],
   "source": [
    "alg = 'cellprofiler'\n",
    "# alg = 'farsight'\n",
    "# alg = 'myown'"
   ]
  },
  {
   "cell_type": "code",
   "execution_count": 9,
   "metadata": {
    "collapsed": false,
    "scrolled": true
   },
   "outputs": [
    {
     "name": "stderr",
     "output_type": "stream",
     "text": [
      "Processing section: 117\n"
     ]
    },
    {
     "name": "stdout",
     "output_type": "stream",
     "text": [
      "cp /oasis/projects/nsf/csd395/yuncong/CSHL_data_processed/MD589/MD589_lossless_unsorted_alignedTo_MD589-IHC31-2015.07.30-23.26.22_MD589_1_0091_cropped_compressed/MD589-IHC20-2015.07.30-22.36.03_MD589_3_0060_lossless_alignedTo_MD589-IHC31-2015.07.30-23.26.22_MD589_1_0091_cropped_compressed.jpg /home/yuncong/csd395/CSHL_cells_v2/detected_cells/MD589/MD589-IHC20-2015.07.30-22.36.03_MD589_3_0060/MD589-IHC20-2015.07.30-22.36.03_MD589_3_0060_image.jpg\n"
     ]
    },
    {
     "name": "stderr",
     "output_type": "stream",
     "text": [
      "Child returned 0\n",
      "Load mask: 10.55\n",
      "regionprops: 3.56\n",
      "47723 blobs identified.\n",
      "Save blob coords: 3.11\n",
      "Save blob masks: 5.24\n",
      "Save blob contours, save: 7.82\n",
      "Compute blob properties, save: 10.15\n",
      "Processing section: 119\n"
     ]
    },
    {
     "name": "stdout",
     "output_type": "stream",
     "text": [
      "cp /oasis/projects/nsf/csd395/yuncong/CSHL_data_processed/MD589/MD589_lossless_unsorted_alignedTo_MD589-IHC31-2015.07.30-23.26.22_MD589_1_0091_cropped_compressed/MD589-IHC21-2015.07.30-22.40.00_MD589_1_0061_lossless_alignedTo_MD589-IHC31-2015.07.30-23.26.22_MD589_1_0091_cropped_compressed.jpg /home/yuncong/csd395/CSHL_cells_v2/detected_cells/MD589/MD589-IHC21-2015.07.30-22.40.00_MD589_1_0061/MD589-IHC21-2015.07.30-22.40.00_MD589_1_0061_image.jpg\n"
     ]
    },
    {
     "name": "stderr",
     "output_type": "stream",
     "text": [
      "Child returned 0\n",
      "Load mask: 9.64\n",
      "regionprops: 2.06\n",
      "60303 blobs identified.\n",
      "Save blob coords: 3.15\n",
      "Save blob masks: 6.59\n",
      "Save blob contours, save: 9.84\n",
      "Compute blob properties, save: 13.14\n",
      "Processing section: 120\n"
     ]
    },
    {
     "name": "stdout",
     "output_type": "stream",
     "text": [
      "cp /oasis/projects/nsf/csd395/yuncong/CSHL_data_processed/MD589/MD589_lossless_unsorted_alignedTo_MD589-IHC31-2015.07.30-23.26.22_MD589_1_0091_cropped_compressed/MD589-N21-2015.07.30-17.23.23_MD589_2_0062_lossless_alignedTo_MD589-IHC31-2015.07.30-23.26.22_MD589_1_0091_cropped_compressed.jpg /home/yuncong/csd395/CSHL_cells_v2/detected_cells/MD589/MD589-N21-2015.07.30-17.23.23_MD589_2_0062/MD589-N21-2015.07.30-17.23.23_MD589_2_0062_image.jpg\n"
     ]
    },
    {
     "name": "stderr",
     "output_type": "stream",
     "text": [
      "Child returned 0\n",
      "Load mask: 9.66\n",
      "regionprops: 1.81\n",
      "48198 blobs identified.\n",
      "Save blob coords: 2.36\n",
      "Save blob masks: 5.33\n",
      "Save blob contours, save: 7.52\n",
      "Compute blob properties, save: 10.19\n",
      "Processing section: 121\n"
     ]
    },
    {
     "name": "stdout",
     "output_type": "stream",
     "text": [
      "cp /oasis/projects/nsf/csd395/yuncong/CSHL_data_processed/MD589/MD589_lossless_unsorted_alignedTo_MD589-IHC31-2015.07.30-23.26.22_MD589_1_0091_cropped_compressed/MD589-IHC21-2015.07.30-22.40.00_MD589_2_0062_lossless_alignedTo_MD589-IHC31-2015.07.30-23.26.22_MD589_1_0091_cropped_compressed.jpg /home/yuncong/csd395/CSHL_cells_v2/detected_cells/MD589/MD589-IHC21-2015.07.30-22.40.00_MD589_2_0062/MD589-IHC21-2015.07.30-22.40.00_MD589_2_0062_image.jpg\n"
     ]
    },
    {
     "name": "stderr",
     "output_type": "stream",
     "text": [
      "Child returned 0\n",
      "Load mask: 9.68\n",
      "regionprops: 2.11\n",
      "60346 blobs identified.\n",
      "Save blob coords: 2.97\n",
      "Save blob masks: 6.50\n",
      "Save blob contours, save: 9.59\n",
      "Compute blob properties, save: 12.62\n",
      "Processing section: 122\n"
     ]
    },
    {
     "name": "stdout",
     "output_type": "stream",
     "text": [
      "cp /oasis/projects/nsf/csd395/yuncong/CSHL_data_processed/MD589/MD589_lossless_unsorted_alignedTo_MD589-IHC31-2015.07.30-23.26.22_MD589_1_0091_cropped_compressed/MD589-N21-2015.07.30-17.23.23_MD589_3_0063_lossless_alignedTo_MD589-IHC31-2015.07.30-23.26.22_MD589_1_0091_cropped_compressed.jpg /home/yuncong/csd395/CSHL_cells_v2/detected_cells/MD589/MD589-N21-2015.07.30-17.23.23_MD589_3_0063/MD589-N21-2015.07.30-17.23.23_MD589_3_0063_image.jpg\n"
     ]
    },
    {
     "name": "stderr",
     "output_type": "stream",
     "text": [
      "Child returned 0\n",
      "Load mask: 9.64\n",
      "regionprops: 2.20\n",
      "60214 blobs identified.\n",
      "Save blob coords: 2.92\n",
      "Save blob masks: 6.50\n",
      "Save blob contours, save: 9.55\n",
      "Compute blob properties, save: 12.69\n",
      "Processing section: 123\n"
     ]
    },
    {
     "name": "stdout",
     "output_type": "stream",
     "text": [
      "cp /oasis/projects/nsf/csd395/yuncong/CSHL_data_processed/MD589/MD589_lossless_unsorted_alignedTo_MD589-IHC31-2015.07.30-23.26.22_MD589_1_0091_cropped_compressed/MD589-IHC21-2015.07.30-22.40.00_MD589_3_0063_lossless_alignedTo_MD589-IHC31-2015.07.30-23.26.22_MD589_1_0091_cropped_compressed.jpg /home/yuncong/csd395/CSHL_cells_v2/detected_cells/MD589/MD589-IHC21-2015.07.30-22.40.00_MD589_3_0063/MD589-IHC21-2015.07.30-22.40.00_MD589_3_0063_image.jpg\n"
     ]
    },
    {
     "name": "stderr",
     "output_type": "stream",
     "text": [
      "Child returned 0\n",
      "Load mask: 9.66\n",
      "regionprops: 2.15\n",
      "59355 blobs identified.\n",
      "Save blob coords: 2.86\n",
      "Save blob masks: 6.36\n",
      "Save blob contours, save: 9.49\n",
      "Compute blob properties, save: 12.61\n",
      "Processing section: 124\n"
     ]
    },
    {
     "name": "stdout",
     "output_type": "stream",
     "text": [
      "cp /oasis/projects/nsf/csd395/yuncong/CSHL_data_processed/MD589/MD589_lossless_unsorted_alignedTo_MD589-IHC31-2015.07.30-23.26.22_MD589_1_0091_cropped_compressed/MD589-N22-2015.07.30-17.27.26_MD589_1_0064_lossless_alignedTo_MD589-IHC31-2015.07.30-23.26.22_MD589_1_0091_cropped_compressed.jpg /home/yuncong/csd395/CSHL_cells_v2/detected_cells/MD589/MD589-N22-2015.07.30-17.27.26_MD589_1_0064/MD589-N22-2015.07.30-17.27.26_MD589_1_0064_image.jpg\n"
     ]
    },
    {
     "name": "stderr",
     "output_type": "stream",
     "text": [
      "Child returned 0\n",
      "Load mask: 9.64\n",
      "regionprops: 2.19\n",
      "60760 blobs identified.\n",
      "Save blob coords: 3.02\n",
      "Save blob masks: 6.62\n",
      "Save blob contours, save: 9.54\n",
      "Compute blob properties, save: 12.89\n",
      "Processing section: 125\n"
     ]
    },
    {
     "name": "stdout",
     "output_type": "stream",
     "text": [
      "cp /oasis/projects/nsf/csd395/yuncong/CSHL_data_processed/MD589/MD589_lossless_unsorted_alignedTo_MD589-IHC31-2015.07.30-23.26.22_MD589_1_0091_cropped_compressed/MD589-IHC22-2015.07.30-22.44.25_MD589_1_0064_lossless_alignedTo_MD589-IHC31-2015.07.30-23.26.22_MD589_1_0091_cropped_compressed.jpg /home/yuncong/csd395/CSHL_cells_v2/detected_cells/MD589/MD589-IHC22-2015.07.30-22.44.25_MD589_1_0064/MD589-IHC22-2015.07.30-22.44.25_MD589_1_0064_image.jpg\n"
     ]
    },
    {
     "name": "stderr",
     "output_type": "stream",
     "text": [
      "Child returned 0\n",
      "Load mask: 9.65\n",
      "regionprops: 2.22\n",
      "60917 blobs identified.\n",
      "Save blob coords: 3.07\n",
      "Save blob masks: 6.64\n",
      "Save blob contours, save: 9.84\n",
      "Compute blob properties, save: 13.12\n",
      "Processing section: 126\n"
     ]
    },
    {
     "name": "stdout",
     "output_type": "stream",
     "text": [
      "cp /oasis/projects/nsf/csd395/yuncong/CSHL_data_processed/MD589/MD589_lossless_unsorted_alignedTo_MD589-IHC31-2015.07.30-23.26.22_MD589_1_0091_cropped_compressed/MD589-N22-2015.07.30-17.27.26_MD589_2_0065_lossless_alignedTo_MD589-IHC31-2015.07.30-23.26.22_MD589_1_0091_cropped_compressed.jpg /home/yuncong/csd395/CSHL_cells_v2/detected_cells/MD589/MD589-N22-2015.07.30-17.27.26_MD589_2_0065/MD589-N22-2015.07.30-17.27.26_MD589_2_0065_image.jpg\n"
     ]
    },
    {
     "name": "stderr",
     "output_type": "stream",
     "text": [
      "Child returned 0\n",
      "Load mask: 9.62\n",
      "regionprops: 1.87\n",
      "61217 blobs identified.\n",
      "Save blob coords: 3.00\n",
      "Save blob masks: 6.72\n",
      "Save blob contours, save: 9.70\n",
      "Compute blob properties, save: 13.02\n",
      "Processing section: 127\n"
     ]
    },
    {
     "name": "stdout",
     "output_type": "stream",
     "text": [
      "cp /oasis/projects/nsf/csd395/yuncong/CSHL_data_processed/MD589/MD589_lossless_unsorted_alignedTo_MD589-IHC31-2015.07.30-23.26.22_MD589_1_0091_cropped_compressed/MD589-IHC22-2015.07.30-22.44.25_MD589_2_0065_lossless_alignedTo_MD589-IHC31-2015.07.30-23.26.22_MD589_1_0091_cropped_compressed.jpg /home/yuncong/csd395/CSHL_cells_v2/detected_cells/MD589/MD589-IHC22-2015.07.30-22.44.25_MD589_2_0065/MD589-IHC22-2015.07.30-22.44.25_MD589_2_0065_image.jpg\n"
     ]
    },
    {
     "name": "stderr",
     "output_type": "stream",
     "text": [
      "Child returned 0\n",
      "Load mask: 9.66\n",
      "regionprops: 2.26\n",
      "62034 blobs identified.\n",
      "Save blob coords: 3.11\n",
      "Save blob masks: 6.76\n",
      "Save blob contours, save: 9.91\n",
      "Compute blob properties, save: 13.10\n",
      "Processing section: 128\n"
     ]
    },
    {
     "name": "stdout",
     "output_type": "stream",
     "text": [
      "cp /oasis/projects/nsf/csd395/yuncong/CSHL_data_processed/MD589/MD589_lossless_unsorted_alignedTo_MD589-IHC31-2015.07.30-23.26.22_MD589_1_0091_cropped_compressed/MD589-N22-2015.07.30-17.27.26_MD589_3_0066_lossless_alignedTo_MD589-IHC31-2015.07.30-23.26.22_MD589_1_0091_cropped_compressed.jpg /home/yuncong/csd395/CSHL_cells_v2/detected_cells/MD589/MD589-N22-2015.07.30-17.27.26_MD589_3_0066/MD589-N22-2015.07.30-17.27.26_MD589_3_0066_image.jpg\n"
     ]
    },
    {
     "name": "stderr",
     "output_type": "stream",
     "text": [
      "Child returned 0\n",
      "Load mask: 9.64\n",
      "regionprops: 2.20\n",
      "61837 blobs identified.\n",
      "Save blob coords: 2.97\n",
      "Save blob masks: 6.63\n",
      "Save blob contours, save: 9.88\n",
      "Compute blob properties, save: 13.16\n",
      "Processing section: 129\n"
     ]
    },
    {
     "name": "stdout",
     "output_type": "stream",
     "text": [
      "cp /oasis/projects/nsf/csd395/yuncong/CSHL_data_processed/MD589/MD589_lossless_unsorted_alignedTo_MD589-IHC31-2015.07.30-23.26.22_MD589_1_0091_cropped_compressed/MD589-IHC22-2015.07.30-22.44.25_MD589_3_0066_lossless_alignedTo_MD589-IHC31-2015.07.30-23.26.22_MD589_1_0091_cropped_compressed.jpg /home/yuncong/csd395/CSHL_cells_v2/detected_cells/MD589/MD589-IHC22-2015.07.30-22.44.25_MD589_3_0066/MD589-IHC22-2015.07.30-22.44.25_MD589_3_0066_image.jpg\n"
     ]
    },
    {
     "name": "stderr",
     "output_type": "stream",
     "text": [
      "Child returned 0\n",
      "Load mask: 9.65\n",
      "regionprops: 1.87\n",
      "62757 blobs identified.\n",
      "Save blob coords: 3.09\n",
      "Save blob masks: 6.91\n",
      "Save blob contours, save: 9.88\n",
      "Compute blob properties, save: 13.21\n",
      "Processing section: 130\n"
     ]
    },
    {
     "name": "stdout",
     "output_type": "stream",
     "text": [
      "cp /oasis/projects/nsf/csd395/yuncong/CSHL_data_processed/MD589/MD589_lossless_unsorted_alignedTo_MD589-IHC31-2015.07.30-23.26.22_MD589_1_0091_cropped_compressed/MD589-N23-2015.07.30-17.31.29_MD589_1_0067_lossless_alignedTo_MD589-IHC31-2015.07.30-23.26.22_MD589_1_0091_cropped_compressed.jpg /home/yuncong/csd395/CSHL_cells_v2/detected_cells/MD589/MD589-N23-2015.07.30-17.31.29_MD589_1_0067/MD589-N23-2015.07.30-17.31.29_MD589_1_0067_image.jpg\n"
     ]
    },
    {
     "name": "stderr",
     "output_type": "stream",
     "text": [
      "Child returned 0\n",
      "Load mask: 9.65\n",
      "regionprops: 2.35\n",
      "68889 blobs identified.\n",
      "Save blob coords: 3.47\n",
      "Save blob masks: 7.49\n",
      "Save blob contours, save: 11.00\n",
      "Compute blob properties, save: 14.48\n",
      "Processing section: 131\n"
     ]
    },
    {
     "name": "stdout",
     "output_type": "stream",
     "text": [
      "cp /oasis/projects/nsf/csd395/yuncong/CSHL_data_processed/MD589/MD589_lossless_unsorted_alignedTo_MD589-IHC31-2015.07.30-23.26.22_MD589_1_0091_cropped_compressed/MD589-IHC23-2015.07.30-22.48.41_MD589_1_0067_lossless_alignedTo_MD589-IHC31-2015.07.30-23.26.22_MD589_1_0091_cropped_compressed.jpg /home/yuncong/csd395/CSHL_cells_v2/detected_cells/MD589/MD589-IHC23-2015.07.30-22.48.41_MD589_1_0067/MD589-IHC23-2015.07.30-22.48.41_MD589_1_0067_image.jpg\n"
     ]
    },
    {
     "name": "stderr",
     "output_type": "stream",
     "text": [
      "Child returned 0\n",
      "Load mask: 9.65\n",
      "regionprops: 2.34\n",
      "64450 blobs identified.\n",
      "Save blob coords: 3.20\n",
      "Save blob masks: 6.97\n",
      "Save blob contours, save: 10.48\n",
      "Compute blob properties, save: 13.67\n",
      "Processing section: 132\n"
     ]
    },
    {
     "name": "stdout",
     "output_type": "stream",
     "text": [
      "cp /oasis/projects/nsf/csd395/yuncong/CSHL_data_processed/MD589/MD589_lossless_unsorted_alignedTo_MD589-IHC31-2015.07.30-23.26.22_MD589_1_0091_cropped_compressed/MD589-N23-2015.07.30-17.31.29_MD589_2_0068_lossless_alignedTo_MD589-IHC31-2015.07.30-23.26.22_MD589_1_0091_cropped_compressed.jpg /home/yuncong/csd395/CSHL_cells_v2/detected_cells/MD589/MD589-N23-2015.07.30-17.31.29_MD589_2_0068/MD589-N23-2015.07.30-17.31.29_MD589_2_0068_image.jpg\n"
     ]
    },
    {
     "name": "stderr",
     "output_type": "stream",
     "text": [
      "Child returned 0\n",
      "Load mask: 9.64\n",
      "regionprops: 2.30\n",
      "65044 blobs identified.\n",
      "Save blob coords: 3.21\n",
      "Save blob masks: 7.07\n",
      "Save blob contours, save: 10.48\n",
      "Compute blob properties, save: 13.79\n",
      "Processing section: 133\n"
     ]
    },
    {
     "name": "stdout",
     "output_type": "stream",
     "text": [
      "cp /oasis/projects/nsf/csd395/yuncong/CSHL_data_processed/MD589/MD589_lossless_unsorted_alignedTo_MD589-IHC31-2015.07.30-23.26.22_MD589_1_0091_cropped_compressed/MD589-IHC23-2015.07.30-22.48.41_MD589_2_0068_lossless_alignedTo_MD589-IHC31-2015.07.30-23.26.22_MD589_1_0091_cropped_compressed.jpg /home/yuncong/csd395/CSHL_cells_v2/detected_cells/MD589/MD589-IHC23-2015.07.30-22.48.41_MD589_2_0068/MD589-IHC23-2015.07.30-22.48.41_MD589_2_0068_image.jpg\n"
     ]
    },
    {
     "name": "stderr",
     "output_type": "stream",
     "text": [
      "Child returned 0\n",
      "Load mask: 9.68\n",
      "regionprops: 1.92\n",
      "65482 blobs identified.\n",
      "Save blob coords: 3.28\n",
      "Save blob masks: 7.39\n",
      "Save blob contours, save: 10.42\n",
      "Compute blob properties, save: 13.90\n",
      "Processing section: 134\n"
     ]
    },
    {
     "name": "stdout",
     "output_type": "stream",
     "text": [
      "cp /oasis/projects/nsf/csd395/yuncong/CSHL_data_processed/MD589/MD589_lossless_unsorted_alignedTo_MD589-IHC31-2015.07.30-23.26.22_MD589_1_0091_cropped_compressed/MD589-N23-2015.07.30-17.31.29_MD589_3_0069_lossless_alignedTo_MD589-IHC31-2015.07.30-23.26.22_MD589_1_0091_cropped_compressed.jpg /home/yuncong/csd395/CSHL_cells_v2/detected_cells/MD589/MD589-N23-2015.07.30-17.31.29_MD589_3_0069/MD589-N23-2015.07.30-17.31.29_MD589_3_0069_image.jpg\n"
     ]
    },
    {
     "name": "stderr",
     "output_type": "stream",
     "text": [
      "Child returned 0\n",
      "Load mask: 9.64\n",
      "regionprops: 2.34\n",
      "66395 blobs identified.\n",
      "Save blob coords: 3.26\n",
      "Save blob masks: 7.21\n",
      "Save blob contours, save: 10.56\n",
      "Compute blob properties, save: 14.11\n",
      "Processing section: 135\n"
     ]
    },
    {
     "name": "stdout",
     "output_type": "stream",
     "text": [
      "cp /oasis/projects/nsf/csd395/yuncong/CSHL_data_processed/MD589/MD589_lossless_unsorted_alignedTo_MD589-IHC31-2015.07.30-23.26.22_MD589_1_0091_cropped_compressed/MD589-IHC23-2015.07.30-22.48.41_MD589_3_0069_lossless_alignedTo_MD589-IHC31-2015.07.30-23.26.22_MD589_1_0091_cropped_compressed.jpg /home/yuncong/csd395/CSHL_cells_v2/detected_cells/MD589/MD589-IHC23-2015.07.30-22.48.41_MD589_3_0069/MD589-IHC23-2015.07.30-22.48.41_MD589_3_0069_image.jpg\n"
     ]
    },
    {
     "name": "stderr",
     "output_type": "stream",
     "text": [
      "Child returned 0\n",
      "Load mask: 9.64\n",
      "regionprops: 2.26\n",
      "67369 blobs identified.\n",
      "Save blob coords: 3.33\n",
      "Save blob masks: 7.32\n",
      "Save blob contours, save: 10.88\n",
      "Compute blob properties, save: 14.14\n",
      "Processing section: 136\n"
     ]
    },
    {
     "name": "stdout",
     "output_type": "stream",
     "text": [
      "cp /oasis/projects/nsf/csd395/yuncong/CSHL_data_processed/MD589/MD589_lossless_unsorted_alignedTo_MD589-IHC31-2015.07.30-23.26.22_MD589_1_0091_cropped_compressed/MD589-N24-2015.07.30-17.35.51_MD589_1_0070_lossless_alignedTo_MD589-IHC31-2015.07.30-23.26.22_MD589_1_0091_cropped_compressed.jpg /home/yuncong/csd395/CSHL_cells_v2/detected_cells/MD589/MD589-N24-2015.07.30-17.35.51_MD589_1_0070/MD589-N24-2015.07.30-17.35.51_MD589_1_0070_image.jpg\n"
     ]
    },
    {
     "name": "stderr",
     "output_type": "stream",
     "text": [
      "Child returned 0\n",
      "Load mask: 9.64\n",
      "regionprops: 2.40\n",
      "72795 blobs identified.\n",
      "Save blob coords: 3.78\n",
      "Save blob masks: 8.04\n",
      "Save blob contours, save: 11.64\n",
      "Compute blob properties, save: 15.55\n",
      "Processing section: 137\n"
     ]
    },
    {
     "name": "stdout",
     "output_type": "stream",
     "text": [
      "cp /oasis/projects/nsf/csd395/yuncong/CSHL_data_processed/MD589/MD589_lossless_unsorted_alignedTo_MD589-IHC31-2015.07.30-23.26.22_MD589_1_0091_cropped_compressed/MD589-IHC24-2015.07.30-22.52.55_MD589_1_0070_lossless_alignedTo_MD589-IHC31-2015.07.30-23.26.22_MD589_1_0091_cropped_compressed.jpg /home/yuncong/csd395/CSHL_cells_v2/detected_cells/MD589/MD589-IHC24-2015.07.30-22.52.55_MD589_1_0070/MD589-IHC24-2015.07.30-22.52.55_MD589_1_0070_image.jpg\n"
     ]
    },
    {
     "name": "stderr",
     "output_type": "stream",
     "text": [
      "Child returned 0\n",
      "Load mask: 9.66\n",
      "regionprops: 2.34\n",
      "72529 blobs identified.\n",
      "Save blob coords: 3.67\n",
      "Save blob masks: 7.95\n",
      "Save blob contours, save: 11.92\n",
      "Compute blob properties, save: 15.54\n",
      "Processing section: 138\n"
     ]
    },
    {
     "name": "stdout",
     "output_type": "stream",
     "text": [
      "cp /oasis/projects/nsf/csd395/yuncong/CSHL_data_processed/MD589/MD589_lossless_unsorted_alignedTo_MD589-IHC31-2015.07.30-23.26.22_MD589_1_0091_cropped_compressed/MD589-N24-2015.07.30-17.35.51_MD589_2_0071_lossless_alignedTo_MD589-IHC31-2015.07.30-23.26.22_MD589_1_0091_cropped_compressed.jpg /home/yuncong/csd395/CSHL_cells_v2/detected_cells/MD589/MD589-N24-2015.07.30-17.35.51_MD589_2_0071/MD589-N24-2015.07.30-17.35.51_MD589_2_0071_image.jpg\n"
     ]
    },
    {
     "name": "stderr",
     "output_type": "stream",
     "text": [
      "Child returned 0\n",
      "Load mask: 9.65\n",
      "regionprops: 2.43\n",
      "68665 blobs identified.\n",
      "Save blob coords: 3.43\n",
      "Save blob masks: 7.46\n",
      "Save blob contours, save: 11.02\n",
      "Compute blob properties, save: 14.68\n",
      "Processing section: 139\n"
     ]
    },
    {
     "name": "stdout",
     "output_type": "stream",
     "text": [
      "cp /oasis/projects/nsf/csd395/yuncong/CSHL_data_processed/MD589/MD589_lossless_unsorted_alignedTo_MD589-IHC31-2015.07.30-23.26.22_MD589_1_0091_cropped_compressed/MD589-IHC24-2015.07.30-22.52.55_MD589_2_0071_lossless_alignedTo_MD589-IHC31-2015.07.30-23.26.22_MD589_1_0091_cropped_compressed.jpg /home/yuncong/csd395/CSHL_cells_v2/detected_cells/MD589/MD589-IHC24-2015.07.30-22.52.55_MD589_2_0071/MD589-IHC24-2015.07.30-22.52.55_MD589_2_0071_image.jpg\n"
     ]
    },
    {
     "name": "stderr",
     "output_type": "stream",
     "text": [
      "Child returned 0\n",
      "Load mask: 9.64\n",
      "regionprops: 2.40\n",
      "72610 blobs identified.\n",
      "Save blob coords: 3.67\n",
      "Save blob masks: 7.96\n",
      "Save blob contours, save: 11.62\n",
      "Compute blob properties, save: 15.48\n",
      "Processing section: 140\n"
     ]
    },
    {
     "name": "stdout",
     "output_type": "stream",
     "text": [
      "cp /oasis/projects/nsf/csd395/yuncong/CSHL_data_processed/MD589/MD589_lossless_unsorted_alignedTo_MD589-IHC31-2015.07.30-23.26.22_MD589_1_0091_cropped_compressed/MD589-N24-2015.07.30-17.35.51_MD589_3_0072_lossless_alignedTo_MD589-IHC31-2015.07.30-23.26.22_MD589_1_0091_cropped_compressed.jpg /home/yuncong/csd395/CSHL_cells_v2/detected_cells/MD589/MD589-N24-2015.07.30-17.35.51_MD589_3_0072/MD589-N24-2015.07.30-17.35.51_MD589_3_0072_image.jpg\n"
     ]
    },
    {
     "name": "stderr",
     "output_type": "stream",
     "text": [
      "Child returned 0\n",
      "Load mask: 9.65\n",
      "regionprops: 2.44\n",
      "66914 blobs identified.\n",
      "Save blob coords: 3.26\n",
      "Save blob masks: 7.16\n",
      "Save blob contours, save: 10.66\n",
      "Compute blob properties, save: 13.92\n",
      "Processing section: 141\n"
     ]
    },
    {
     "name": "stdout",
     "output_type": "stream",
     "text": [
      "cp /oasis/projects/nsf/csd395/yuncong/CSHL_data_processed/MD589/MD589_lossless_unsorted_alignedTo_MD589-IHC31-2015.07.30-23.26.22_MD589_1_0091_cropped_compressed/MD589-IHC24-2015.07.30-22.52.55_MD589_3_0072_lossless_alignedTo_MD589-IHC31-2015.07.30-23.26.22_MD589_1_0091_cropped_compressed.jpg /home/yuncong/csd395/CSHL_cells_v2/detected_cells/MD589/MD589-IHC24-2015.07.30-22.52.55_MD589_3_0072/MD589-IHC24-2015.07.30-22.52.55_MD589_3_0072_image.jpg\n"
     ]
    },
    {
     "name": "stderr",
     "output_type": "stream",
     "text": [
      "Child returned 0\n",
      "Load mask: 9.65\n",
      "regionprops: 1.91\n",
      "54394 blobs identified.\n",
      "Save blob coords: 2.67\n",
      "Save blob masks: 6.00\n",
      "Save blob contours, save: 8.81\n",
      "Compute blob properties, save: 11.43\n",
      "Processing section: 142\n"
     ]
    },
    {
     "name": "stdout",
     "output_type": "stream",
     "text": [
      "cp /oasis/projects/nsf/csd395/yuncong/CSHL_data_processed/MD589/MD589_lossless_unsorted_alignedTo_MD589-IHC31-2015.07.30-23.26.22_MD589_1_0091_cropped_compressed/MD589-N25-2015.07.30-17.40.16_MD589_1_0073_lossless_alignedTo_MD589-IHC31-2015.07.30-23.26.22_MD589_1_0091_cropped_compressed.jpg /home/yuncong/csd395/CSHL_cells_v2/detected_cells/MD589/MD589-N25-2015.07.30-17.40.16_MD589_1_0073/MD589-N25-2015.07.30-17.40.16_MD589_1_0073_image.jpg\n"
     ]
    },
    {
     "name": "stderr",
     "output_type": "stream",
     "text": [
      "Child returned 0\n",
      "Load mask: 9.65\n",
      "regionprops: 1.77\n",
      "53185 blobs identified.\n",
      "Save blob coords: 2.58\n",
      "Save blob masks: 5.81\n",
      "Save blob contours, save: 8.56\n",
      "Compute blob properties, save: 11.25\n",
      "Processing section: 143\n"
     ]
    },
    {
     "name": "stdout",
     "output_type": "stream",
     "text": [
      "cp /oasis/projects/nsf/csd395/yuncong/CSHL_data_processed/MD589/MD589_lossless_unsorted_alignedTo_MD589-IHC31-2015.07.30-23.26.22_MD589_1_0091_cropped_compressed/MD589-IHC25-2015.07.30-22.57.23_MD589_1_0073_lossless_alignedTo_MD589-IHC31-2015.07.30-23.26.22_MD589_1_0091_cropped_compressed.jpg /home/yuncong/csd395/CSHL_cells_v2/detected_cells/MD589/MD589-IHC25-2015.07.30-22.57.23_MD589_1_0073/MD589-IHC25-2015.07.30-22.57.23_MD589_1_0073_image.jpg\n"
     ]
    },
    {
     "name": "stderr",
     "output_type": "stream",
     "text": [
      "Child returned 0\n",
      "Load mask: 9.66\n",
      "regionprops: 2.21\n",
      "73395 blobs identified.\n",
      "Save blob coords: 3.65\n",
      "Save blob masks: 7.99\n",
      "Save blob contours, save: 11.63\n",
      "Compute blob properties, save: 15.71\n",
      "Processing section: 144\n"
     ]
    },
    {
     "name": "stdout",
     "output_type": "stream",
     "text": [
      "cp /oasis/projects/nsf/csd395/yuncong/CSHL_data_processed/MD589/MD589_lossless_unsorted_alignedTo_MD589-IHC31-2015.07.30-23.26.22_MD589_1_0091_cropped_compressed/MD589-N25-2015.07.30-17.40.16_MD589_2_0074_lossless_alignedTo_MD589-IHC31-2015.07.30-23.26.22_MD589_1_0091_cropped_compressed.jpg /home/yuncong/csd395/CSHL_cells_v2/detected_cells/MD589/MD589-N25-2015.07.30-17.40.16_MD589_2_0074/MD589-N25-2015.07.30-17.40.16_MD589_2_0074_image.jpg\n"
     ]
    },
    {
     "name": "stderr",
     "output_type": "stream",
     "text": [
      "Child returned 0\n",
      "Load mask: 9.63\n",
      "regionprops: 2.02\n",
      "74287 blobs identified.\n",
      "Save blob coords: 3.65\n",
      "Save blob masks: 8.14\n",
      "Save blob contours, save: 12.26\n",
      "Compute blob properties, save: 15.45\n",
      "Processing section: 145\n"
     ]
    },
    {
     "name": "stdout",
     "output_type": "stream",
     "text": [
      "cp /oasis/projects/nsf/csd395/yuncong/CSHL_data_processed/MD589/MD589_lossless_unsorted_alignedTo_MD589-IHC31-2015.07.30-23.26.22_MD589_1_0091_cropped_compressed/MD589-IHC25-2015.07.30-22.57.23_MD589_2_0074_lossless_alignedTo_MD589-IHC31-2015.07.30-23.26.22_MD589_1_0091_cropped_compressed.jpg /home/yuncong/csd395/CSHL_cells_v2/detected_cells/MD589/MD589-IHC25-2015.07.30-22.57.23_MD589_2_0074/MD589-IHC25-2015.07.30-22.57.23_MD589_2_0074_image.jpg\n"
     ]
    },
    {
     "name": "stderr",
     "output_type": "stream",
     "text": [
      "Child returned 0\n",
      "Load mask: 9.66\n",
      "regionprops: 2.46\n",
      "69647 blobs identified.\n",
      "Save blob coords: 3.45\n",
      "Save blob masks: 7.51\n",
      "Save blob contours, save: 11.19\n",
      "Compute blob properties, save: 14.54\n",
      "Processing section: 146\n"
     ]
    },
    {
     "name": "stdout",
     "output_type": "stream",
     "text": [
      "cp /oasis/projects/nsf/csd395/yuncong/CSHL_data_processed/MD589/MD589_lossless_unsorted_alignedTo_MD589-IHC31-2015.07.30-23.26.22_MD589_1_0091_cropped_compressed/MD589-N25-2015.07.30-17.40.16_MD589_3_0075_lossless_alignedTo_MD589-IHC31-2015.07.30-23.26.22_MD589_1_0091_cropped_compressed.jpg /home/yuncong/csd395/CSHL_cells_v2/detected_cells/MD589/MD589-N25-2015.07.30-17.40.16_MD589_3_0075/MD589-N25-2015.07.30-17.40.16_MD589_3_0075_image.jpg\n"
     ]
    },
    {
     "name": "stderr",
     "output_type": "stream",
     "text": [
      "Child returned 0\n",
      "Load mask: 9.65\n",
      "regionprops: 2.38\n",
      "75669 blobs identified.\n",
      "Save blob coords: 3.73\n",
      "Save blob masks: 8.19\n",
      "Save blob contours, save: 12.26\n",
      "Compute blob properties, save: 16.10\n",
      "Processing section: 147\n"
     ]
    },
    {
     "name": "stdout",
     "output_type": "stream",
     "text": [
      "cp /oasis/projects/nsf/csd395/yuncong/CSHL_data_processed/MD589/MD589_lossless_unsorted_alignedTo_MD589-IHC31-2015.07.30-23.26.22_MD589_1_0091_cropped_compressed/MD589-IHC25-2015.07.30-22.57.23_MD589_3_0075_lossless_alignedTo_MD589-IHC31-2015.07.30-23.26.22_MD589_1_0091_cropped_compressed.jpg /home/yuncong/csd395/CSHL_cells_v2/detected_cells/MD589/MD589-IHC25-2015.07.30-22.57.23_MD589_3_0075/MD589-IHC25-2015.07.30-22.57.23_MD589_3_0075_image.jpg\n"
     ]
    },
    {
     "name": "stderr",
     "output_type": "stream",
     "text": [
      "Child returned 0\n",
      "Load mask: 9.65\n",
      "regionprops: 2.02\n",
      "70740 blobs identified.\n",
      "Save blob coords: 3.53\n",
      "Save blob masks: 7.82\n",
      "Save blob contours, save: 11.36\n",
      "Compute blob properties, save: 15.26\n",
      "Processing section: 148\n"
     ]
    },
    {
     "name": "stdout",
     "output_type": "stream",
     "text": [
      "cp /oasis/projects/nsf/csd395/yuncong/CSHL_data_processed/MD589/MD589_lossless_unsorted_alignedTo_MD589-IHC31-2015.07.30-23.26.22_MD589_1_0091_cropped_compressed/MD589-N26-2015.07.30-17.44.37_MD589_1_0076_lossless_alignedTo_MD589-IHC31-2015.07.30-23.26.22_MD589_1_0091_cropped_compressed.jpg /home/yuncong/csd395/CSHL_cells_v2/detected_cells/MD589/MD589-N26-2015.07.30-17.44.37_MD589_1_0076/MD589-N26-2015.07.30-17.44.37_MD589_1_0076_image.jpg\n"
     ]
    },
    {
     "name": "stderr",
     "output_type": "stream",
     "text": [
      "Child returned 0\n",
      "Load mask: 9.64\n",
      "regionprops: 2.08\n",
      "73603 blobs identified.\n",
      "Save blob coords: 4.35\n",
      "Save blob masks: 8.62\n",
      "Save blob contours, save: 12.05\n",
      "Compute blob properties, save: 17.08\n",
      "Processing section: 149\n"
     ]
    },
    {
     "name": "stdout",
     "output_type": "stream",
     "text": [
      "cp /oasis/projects/nsf/csd395/yuncong/CSHL_data_processed/MD589/MD589_lossless_unsorted_alignedTo_MD589-IHC31-2015.07.30-23.26.22_MD589_1_0091_cropped_compressed/MD589-IHC26-2015.07.30-23.01.56_MD589_1_0076_lossless_alignedTo_MD589-IHC31-2015.07.30-23.26.22_MD589_1_0091_cropped_compressed.jpg /home/yuncong/csd395/CSHL_cells_v2/detected_cells/MD589/MD589-IHC26-2015.07.30-23.01.56_MD589_1_0076/MD589-IHC26-2015.07.30-23.01.56_MD589_1_0076_image.jpg\n"
     ]
    },
    {
     "name": "stderr",
     "output_type": "stream",
     "text": [
      "Child returned 0\n",
      "Load mask: 9.65\n",
      "regionprops: 2.00\n",
      "69303 blobs identified.\n",
      "Save blob coords: 3.33\n",
      "Save blob masks: 7.59\n",
      "Save blob contours, save: 11.24\n",
      "Compute blob properties, save: 14.36\n",
      "Processing section: 150\n"
     ]
    },
    {
     "name": "stdout",
     "output_type": "stream",
     "text": [
      "cp /oasis/projects/nsf/csd395/yuncong/CSHL_data_processed/MD589/MD589_lossless_unsorted_alignedTo_MD589-IHC31-2015.07.30-23.26.22_MD589_1_0091_cropped_compressed/MD589-N26-2015.07.30-17.44.37_MD589_2_0077_lossless_alignedTo_MD589-IHC31-2015.07.30-23.26.22_MD589_1_0091_cropped_compressed.jpg /home/yuncong/csd395/CSHL_cells_v2/detected_cells/MD589/MD589-N26-2015.07.30-17.44.37_MD589_2_0077/MD589-N26-2015.07.30-17.44.37_MD589_2_0077_image.jpg\n"
     ]
    },
    {
     "name": "stderr",
     "output_type": "stream",
     "text": [
      "Child returned 0\n",
      "Load mask: 9.64\n",
      "regionprops: 2.36\n",
      "76486 blobs identified.\n",
      "Save blob coords: 3.76\n",
      "Save blob masks: 8.39\n",
      "Save blob contours, save: 12.23\n",
      "Compute blob properties, save: 16.14\n",
      "Processing section: 151\n"
     ]
    },
    {
     "name": "stdout",
     "output_type": "stream",
     "text": [
      "cp /oasis/projects/nsf/csd395/yuncong/CSHL_data_processed/MD589/MD589_lossless_unsorted_alignedTo_MD589-IHC31-2015.07.30-23.26.22_MD589_1_0091_cropped_compressed/MD589-IHC26-2015.07.30-23.01.56_MD589_2_0077_lossless_alignedTo_MD589-IHC31-2015.07.30-23.26.22_MD589_1_0091_cropped_compressed.jpg /home/yuncong/csd395/CSHL_cells_v2/detected_cells/MD589/MD589-IHC26-2015.07.30-23.01.56_MD589_2_0077/MD589-IHC26-2015.07.30-23.01.56_MD589_2_0077_image.jpg\n"
     ]
    },
    {
     "name": "stderr",
     "output_type": "stream",
     "text": [
      "Child returned 0\n",
      "Load mask: 9.64\n",
      "regionprops: 2.43\n",
      "76751 blobs identified.\n",
      "Save blob coords: 3.74\n",
      "Save blob masks: 8.32\n",
      "Save blob contours, save: 12.28\n",
      "Compute blob properties, save: 16.09\n",
      "Processing section: 152\n"
     ]
    },
    {
     "name": "stdout",
     "output_type": "stream",
     "text": [
      "cp /oasis/projects/nsf/csd395/yuncong/CSHL_data_processed/MD589/MD589_lossless_unsorted_alignedTo_MD589-IHC31-2015.07.30-23.26.22_MD589_1_0091_cropped_compressed/MD589-N26-2015.07.30-17.44.37_MD589_3_0078_lossless_alignedTo_MD589-IHC31-2015.07.30-23.26.22_MD589_1_0091_cropped_compressed.jpg /home/yuncong/csd395/CSHL_cells_v2/detected_cells/MD589/MD589-N26-2015.07.30-17.44.37_MD589_3_0078/MD589-N26-2015.07.30-17.44.37_MD589_3_0078_image.jpg\n"
     ]
    },
    {
     "name": "stderr",
     "output_type": "stream",
     "text": [
      "Child returned 0\n",
      "Load mask: 9.65\n",
      "regionprops: 2.47\n",
      "75584 blobs identified.\n",
      "Save blob coords: 3.67\n",
      "Save blob masks: 8.18\n",
      "Save blob contours, save: 12.52\n",
      "Compute blob properties, save: 15.98\n",
      "Processing section: 153\n"
     ]
    },
    {
     "name": "stdout",
     "output_type": "stream",
     "text": [
      "cp /oasis/projects/nsf/csd395/yuncong/CSHL_data_processed/MD589/MD589_lossless_unsorted_alignedTo_MD589-IHC31-2015.07.30-23.26.22_MD589_1_0091_cropped_compressed/MD589-IHC26-2015.07.30-23.01.56_MD589_3_0078_lossless_alignedTo_MD589-IHC31-2015.07.30-23.26.22_MD589_1_0091_cropped_compressed.jpg /home/yuncong/csd395/CSHL_cells_v2/detected_cells/MD589/MD589-IHC26-2015.07.30-23.01.56_MD589_3_0078/MD589-IHC26-2015.07.30-23.01.56_MD589_3_0078_image.jpg\n"
     ]
    },
    {
     "name": "stderr",
     "output_type": "stream",
     "text": [
      "Child returned 0\n",
      "Load mask: 9.65\n",
      "regionprops: 2.43\n",
      "77393 blobs identified.\n",
      "Save blob coords: 3.82\n",
      "Save blob masks: 8.42\n",
      "Save blob contours, save: 12.75\n",
      "Compute blob properties, save: 16.46\n",
      "Processing section: 154\n"
     ]
    },
    {
     "name": "stdout",
     "output_type": "stream",
     "text": [
      "cp /oasis/projects/nsf/csd395/yuncong/CSHL_data_processed/MD589/MD589_lossless_unsorted_alignedTo_MD589-IHC31-2015.07.30-23.26.22_MD589_1_0091_cropped_compressed/MD589-N27-2015.07.30-17.49.06_MD589_1_0079_lossless_alignedTo_MD589-IHC31-2015.07.30-23.26.22_MD589_1_0091_cropped_compressed.jpg /home/yuncong/csd395/CSHL_cells_v2/detected_cells/MD589/MD589-N27-2015.07.30-17.49.06_MD589_1_0079/MD589-N27-2015.07.30-17.49.06_MD589_1_0079_image.jpg\n"
     ]
    },
    {
     "name": "stderr",
     "output_type": "stream",
     "text": [
      "Child returned 0\n",
      "Load mask: 9.65\n",
      "regionprops: 2.54\n",
      "77474 blobs identified.\n",
      "Save blob coords: 3.86\n",
      "Save blob masks: 8.35\n",
      "Save blob contours, save: 12.54\n",
      "Compute blob properties, save: 16.40\n",
      "Processing section: 155\n"
     ]
    },
    {
     "name": "stdout",
     "output_type": "stream",
     "text": [
      "cp /oasis/projects/nsf/csd395/yuncong/CSHL_data_processed/MD589/MD589_lossless_unsorted_alignedTo_MD589-IHC31-2015.07.30-23.26.22_MD589_1_0091_cropped_compressed/MD589-IHC27-2015.07.30-23.06.26_MD589_1_0079_lossless_alignedTo_MD589-IHC31-2015.07.30-23.26.22_MD589_1_0091_cropped_compressed.jpg /home/yuncong/csd395/CSHL_cells_v2/detected_cells/MD589/MD589-IHC27-2015.07.30-23.06.26_MD589_1_0079/MD589-IHC27-2015.07.30-23.06.26_MD589_1_0079_image.jpg\n"
     ]
    },
    {
     "name": "stderr",
     "output_type": "stream",
     "text": [
      "Child returned 0\n",
      "Load mask: 9.65\n",
      "regionprops: 2.07\n",
      "78167 blobs identified.\n",
      "Save blob coords: 3.87\n",
      "Save blob masks: 8.68\n",
      "Save blob contours, save: 12.67\n",
      "Compute blob properties, save: 16.65\n",
      "Processing section: 156\n"
     ]
    },
    {
     "name": "stdout",
     "output_type": "stream",
     "text": [
      "cp /oasis/projects/nsf/csd395/yuncong/CSHL_data_processed/MD589/MD589_lossless_unsorted_alignedTo_MD589-IHC31-2015.07.30-23.26.22_MD589_1_0091_cropped_compressed/MD589-N27-2015.07.30-17.49.06_MD589_2_0080_lossless_alignedTo_MD589-IHC31-2015.07.30-23.26.22_MD589_1_0091_cropped_compressed.jpg /home/yuncong/csd395/CSHL_cells_v2/detected_cells/MD589/MD589-N27-2015.07.30-17.49.06_MD589_2_0080/MD589-N27-2015.07.30-17.49.06_MD589_2_0080_image.jpg\n"
     ]
    },
    {
     "name": "stderr",
     "output_type": "stream",
     "text": [
      "Child returned 0\n",
      "Load mask: 9.64\n",
      "regionprops: 2.51\n",
      "79663 blobs identified.\n",
      "Save blob coords: 3.87\n",
      "Save blob masks: 8.54\n",
      "Save blob contours, save: 12.92\n",
      "Compute blob properties, save: 17.03\n",
      "Processing section: 157\n"
     ]
    },
    {
     "name": "stdout",
     "output_type": "stream",
     "text": [
      "cp /oasis/projects/nsf/csd395/yuncong/CSHL_data_processed/MD589/MD589_lossless_unsorted_alignedTo_MD589-IHC31-2015.07.30-23.26.22_MD589_1_0091_cropped_compressed/MD589-IHC27-2015.07.30-23.06.26_MD589_2_0080_lossless_alignedTo_MD589-IHC31-2015.07.30-23.26.22_MD589_1_0091_cropped_compressed.jpg /home/yuncong/csd395/CSHL_cells_v2/detected_cells/MD589/MD589-IHC27-2015.07.30-23.06.26_MD589_2_0080/MD589-IHC27-2015.07.30-23.06.26_MD589_2_0080_image.jpg\n"
     ]
    },
    {
     "name": "stderr",
     "output_type": "stream",
     "text": [
      "Child returned 0\n",
      "Load mask: 9.65\n",
      "regionprops: 2.07\n",
      "79351 blobs identified.\n",
      "Save blob coords: 3.87\n",
      "Save blob masks: 8.67\n",
      "Save blob contours, save: 12.85\n",
      "Compute blob properties, save: 16.82\n",
      "Processing section: 158\n"
     ]
    },
    {
     "name": "stdout",
     "output_type": "stream",
     "text": [
      "cp /oasis/projects/nsf/csd395/yuncong/CSHL_data_processed/MD589/MD589_lossless_unsorted_alignedTo_MD589-IHC31-2015.07.30-23.26.22_MD589_1_0091_cropped_compressed/MD589-N27-2015.07.30-17.49.06_MD589_3_0081_lossless_alignedTo_MD589-IHC31-2015.07.30-23.26.22_MD589_1_0091_cropped_compressed.jpg /home/yuncong/csd395/CSHL_cells_v2/detected_cells/MD589/MD589-N27-2015.07.30-17.49.06_MD589_3_0081/MD589-N27-2015.07.30-17.49.06_MD589_3_0081_image.jpg\n"
     ]
    },
    {
     "name": "stderr",
     "output_type": "stream",
     "text": [
      "Child returned 0\n",
      "Load mask: 9.65\n",
      "regionprops: 2.06\n",
      "80086 blobs identified.\n",
      "Save blob coords: 3.90\n",
      "Save blob masks: 8.71\n",
      "Save blob contours, save: 13.16\n",
      "Compute blob properties, save: 17.06\n",
      "Processing section: 159\n"
     ]
    },
    {
     "name": "stdout",
     "output_type": "stream",
     "text": [
      "cp /oasis/projects/nsf/csd395/yuncong/CSHL_data_processed/MD589/MD589_lossless_unsorted_alignedTo_MD589-IHC31-2015.07.30-23.26.22_MD589_1_0091_cropped_compressed/MD589-IHC27-2015.07.30-23.06.26_MD589_3_0081_lossless_alignedTo_MD589-IHC31-2015.07.30-23.26.22_MD589_1_0091_cropped_compressed.jpg /home/yuncong/csd395/CSHL_cells_v2/detected_cells/MD589/MD589-IHC27-2015.07.30-23.06.26_MD589_3_0081/MD589-IHC27-2015.07.30-23.06.26_MD589_3_0081_image.jpg\n"
     ]
    },
    {
     "name": "stderr",
     "output_type": "stream",
     "text": [
      "Child returned 0\n",
      "Load mask: 9.64\n",
      "regionprops: 2.50\n",
      "80047 blobs identified.\n",
      "Save blob coords: 3.97\n",
      "Save blob masks: 8.60\n",
      "Save blob contours, save: 12.72\n",
      "Compute blob properties, save: 16.94\n",
      "Processing section: 160\n"
     ]
    },
    {
     "name": "stdout",
     "output_type": "stream",
     "text": [
      "cp /oasis/projects/nsf/csd395/yuncong/CSHL_data_processed/MD589/MD589_lossless_unsorted_alignedTo_MD589-IHC31-2015.07.30-23.26.22_MD589_1_0091_cropped_compressed/MD589-N28-2015.07.30-17.53.43_MD589_1_0082_lossless_alignedTo_MD589-IHC31-2015.07.30-23.26.22_MD589_1_0091_cropped_compressed.jpg /home/yuncong/csd395/CSHL_cells_v2/detected_cells/MD589/MD589-N28-2015.07.30-17.53.43_MD589_1_0082/MD589-N28-2015.07.30-17.53.43_MD589_1_0082_image.jpg\n"
     ]
    },
    {
     "name": "stderr",
     "output_type": "stream",
     "text": [
      "Child returned 0\n",
      "Load mask: 9.64\n",
      "regionprops: 2.12\n",
      "80133 blobs identified.\n",
      "Save blob coords: 4.02\n",
      "Save blob masks: 8.85\n",
      "Save blob contours, save: 12.62\n",
      "Compute blob properties, save: 16.93\n",
      "Processing section: 161\n"
     ]
    },
    {
     "name": "stdout",
     "output_type": "stream",
     "text": [
      "cp /oasis/projects/nsf/csd395/yuncong/CSHL_data_processed/MD589/MD589_lossless_unsorted_alignedTo_MD589-IHC31-2015.07.30-23.26.22_MD589_1_0091_cropped_compressed/MD589-IHC28-2015.07.30-23.11.15_MD589_1_0082_lossless_alignedTo_MD589-IHC31-2015.07.30-23.26.22_MD589_1_0091_cropped_compressed.jpg /home/yuncong/csd395/CSHL_cells_v2/detected_cells/MD589/MD589-IHC28-2015.07.30-23.11.15_MD589_1_0082/MD589-IHC28-2015.07.30-23.11.15_MD589_1_0082_image.jpg\n"
     ]
    },
    {
     "name": "stderr",
     "output_type": "stream",
     "text": [
      "Child returned 0\n",
      "Load mask: 9.66\n",
      "regionprops: 2.06\n",
      "80170 blobs identified.\n",
      "Save blob coords: 4.00\n",
      "Save blob masks: 8.86\n",
      "Save blob contours, save: 12.94\n",
      "Compute blob properties, save: 16.85\n",
      "Processing section: 162\n"
     ]
    },
    {
     "name": "stdout",
     "output_type": "stream",
     "text": [
      "cp /oasis/projects/nsf/csd395/yuncong/CSHL_data_processed/MD589/MD589_lossless_unsorted_alignedTo_MD589-IHC31-2015.07.30-23.26.22_MD589_1_0091_cropped_compressed/MD589-N28-2015.07.30-17.53.43_MD589_2_0083_lossless_alignedTo_MD589-IHC31-2015.07.30-23.26.22_MD589_1_0091_cropped_compressed.jpg /home/yuncong/csd395/CSHL_cells_v2/detected_cells/MD589/MD589-N28-2015.07.30-17.53.43_MD589_2_0083/MD589-N28-2015.07.30-17.53.43_MD589_2_0083_image.jpg\n"
     ]
    },
    {
     "name": "stderr",
     "output_type": "stream",
     "text": [
      "Child returned 0\n",
      "Load mask: 9.65\n",
      "regionprops: 2.53\n",
      "82016 blobs identified.\n",
      "Save blob coords: 4.12\n",
      "Save blob masks: 8.79\n",
      "Save blob contours, save: 13.31\n",
      "Compute blob properties, save: 17.35\n",
      "Processing section: 163\n"
     ]
    },
    {
     "name": "stdout",
     "output_type": "stream",
     "text": [
      "cp /oasis/projects/nsf/csd395/yuncong/CSHL_data_processed/MD589/MD589_lossless_unsorted_alignedTo_MD589-IHC31-2015.07.30-23.26.22_MD589_1_0091_cropped_compressed/MD589-IHC28-2015.07.30-23.11.15_MD589_2_0083_lossless_alignedTo_MD589-IHC31-2015.07.30-23.26.22_MD589_1_0091_cropped_compressed.jpg /home/yuncong/csd395/CSHL_cells_v2/detected_cells/MD589/MD589-IHC28-2015.07.30-23.11.15_MD589_2_0083/MD589-IHC28-2015.07.30-23.11.15_MD589_2_0083_image.jpg\n"
     ]
    },
    {
     "name": "stderr",
     "output_type": "stream",
     "text": [
      "Child returned 0\n",
      "Load mask: 9.82\n",
      "regionprops: 2.58\n",
      "81563 blobs identified.\n",
      "Save blob coords: 4.13\n",
      "Save blob masks: 8.88\n",
      "Save blob contours, save: 13.17\n",
      "Compute blob properties, save: 17.16\n",
      "Processing section: 164\n"
     ]
    },
    {
     "name": "stdout",
     "output_type": "stream",
     "text": [
      "cp /oasis/projects/nsf/csd395/yuncong/CSHL_data_processed/MD589/MD589_lossless_unsorted_alignedTo_MD589-IHC31-2015.07.30-23.26.22_MD589_1_0091_cropped_compressed/MD589-N28-2015.07.30-17.53.43_MD589_3_0084_lossless_alignedTo_MD589-IHC31-2015.07.30-23.26.22_MD589_1_0091_cropped_compressed.jpg /home/yuncong/csd395/CSHL_cells_v2/detected_cells/MD589/MD589-N28-2015.07.30-17.53.43_MD589_3_0084/MD589-N28-2015.07.30-17.53.43_MD589_3_0084_image.jpg\n"
     ]
    },
    {
     "name": "stderr",
     "output_type": "stream",
     "text": [
      "Child returned 0\n",
      "Load mask: 9.66\n",
      "regionprops: 2.56\n",
      "83298 blobs identified.\n",
      "Save blob coords: 4.10\n",
      "Save blob masks: 9.04\n",
      "Save blob contours, save: 13.49\n",
      "Compute blob properties, save: 17.50\n",
      "Processing section: 165\n"
     ]
    },
    {
     "name": "stdout",
     "output_type": "stream",
     "text": [
      "cp /oasis/projects/nsf/csd395/yuncong/CSHL_data_processed/MD589/MD589_lossless_unsorted_alignedTo_MD589-IHC31-2015.07.30-23.26.22_MD589_1_0091_cropped_compressed/MD589-IHC28-2015.07.30-23.11.15_MD589_3_0084_lossless_alignedTo_MD589-IHC31-2015.07.30-23.26.22_MD589_1_0091_cropped_compressed.jpg /home/yuncong/csd395/CSHL_cells_v2/detected_cells/MD589/MD589-IHC28-2015.07.30-23.11.15_MD589_3_0084/MD589-IHC28-2015.07.30-23.11.15_MD589_3_0084_image.jpg\n"
     ]
    },
    {
     "name": "stderr",
     "output_type": "stream",
     "text": [
      "Child returned 0\n",
      "Load mask: 9.64\n",
      "regionprops: 2.59\n",
      "85335 blobs identified.\n",
      "Save blob coords: 4.38\n",
      "Save blob masks: 9.41\n",
      "Save blob contours, save: 13.78\n",
      "Compute blob properties, save: 18.30\n",
      "Processing section: 166\n"
     ]
    },
    {
     "name": "stdout",
     "output_type": "stream",
     "text": [
      "cp /oasis/projects/nsf/csd395/yuncong/CSHL_data_processed/MD589/MD589_lossless_unsorted_alignedTo_MD589-IHC31-2015.07.30-23.26.22_MD589_1_0091_cropped_compressed/MD589-N29-2015.07.30-17.58.29_MD589_1_0085_lossless_alignedTo_MD589-IHC31-2015.07.30-23.26.22_MD589_1_0091_cropped_compressed.jpg /home/yuncong/csd395/CSHL_cells_v2/detected_cells/MD589/MD589-N29-2015.07.30-17.58.29_MD589_1_0085/MD589-N29-2015.07.30-17.58.29_MD589_1_0085_image.jpg\n"
     ]
    },
    {
     "name": "stderr",
     "output_type": "stream",
     "text": [
      "Child returned 0\n",
      "Load mask: 9.64\n",
      "regionprops: 2.63\n",
      "85894 blobs identified.\n",
      "Save blob coords: 4.41\n",
      "Save blob masks: 9.55\n",
      "Save blob contours, save: 13.57\n",
      "Compute blob properties, save: 18.42\n",
      "Processing section: 167\n"
     ]
    },
    {
     "name": "stdout",
     "output_type": "stream",
     "text": [
      "cp /oasis/projects/nsf/csd395/yuncong/CSHL_data_processed/MD589/MD589_lossless_unsorted_alignedTo_MD589-IHC31-2015.07.30-23.26.22_MD589_1_0091_cropped_compressed/MD589-IHC29-2015.07.30-23.16.01_MD589_1_0085_lossless_alignedTo_MD589-IHC31-2015.07.30-23.26.22_MD589_1_0091_cropped_compressed.jpg /home/yuncong/csd395/CSHL_cells_v2/detected_cells/MD589/MD589-IHC29-2015.07.30-23.16.01_MD589_1_0085/MD589-IHC29-2015.07.30-23.16.01_MD589_1_0085_image.jpg\n"
     ]
    },
    {
     "name": "stderr",
     "output_type": "stream",
     "text": [
      "Child returned 0\n",
      "Load mask: 9.64\n",
      "regionprops: 2.08\n",
      "74075 blobs identified.\n",
      "Save blob coords: 3.63\n",
      "Save blob masks: 8.20\n",
      "Save blob contours, save: 11.88\n",
      "Compute blob properties, save: 15.65\n",
      "Processing section: 168\n"
     ]
    },
    {
     "name": "stdout",
     "output_type": "stream",
     "text": [
      "cp /oasis/projects/nsf/csd395/yuncong/CSHL_data_processed/MD589/MD589_lossless_unsorted_alignedTo_MD589-IHC31-2015.07.30-23.26.22_MD589_1_0091_cropped_compressed/MD589-N29-2015.07.30-17.58.29_MD589_2_0086_lossless_alignedTo_MD589-IHC31-2015.07.30-23.26.22_MD589_1_0091_cropped_compressed.jpg /home/yuncong/csd395/CSHL_cells_v2/detected_cells/MD589/MD589-N29-2015.07.30-17.58.29_MD589_2_0086/MD589-N29-2015.07.30-17.58.29_MD589_2_0086_image.jpg\n"
     ]
    },
    {
     "name": "stderr",
     "output_type": "stream",
     "text": [
      "Child returned 0\n",
      "Load mask: 9.65\n",
      "regionprops: 2.49\n",
      "76434 blobs identified.\n",
      "Save blob coords: 3.74\n",
      "Save blob masks: 8.26\n",
      "Save blob contours, save: 12.14\n",
      "Compute blob properties, save: 16.32\n",
      "Processing section: 169\n"
     ]
    },
    {
     "name": "stdout",
     "output_type": "stream",
     "text": [
      "cp /oasis/projects/nsf/csd395/yuncong/CSHL_data_processed/MD589/MD589_lossless_unsorted_alignedTo_MD589-IHC31-2015.07.30-23.26.22_MD589_1_0091_cropped_compressed/MD589-IHC29-2015.07.30-23.16.01_MD589_2_0086_lossless_alignedTo_MD589-IHC31-2015.07.30-23.26.22_MD589_1_0091_cropped_compressed.jpg /home/yuncong/csd395/CSHL_cells_v2/detected_cells/MD589/MD589-IHC29-2015.07.30-23.16.01_MD589_2_0086/MD589-IHC29-2015.07.30-23.16.01_MD589_2_0086_image.jpg\n"
     ]
    },
    {
     "name": "stderr",
     "output_type": "stream",
     "text": [
      "Child returned 0\n",
      "Load mask: 9.64\n",
      "regionprops: 2.57\n",
      "83054 blobs identified.\n",
      "Save blob coords: 4.13\n",
      "Save blob masks: 9.08\n",
      "Save blob contours, save: 13.42\n",
      "Compute blob properties, save: 17.78\n",
      "Processing section: 170\n"
     ]
    },
    {
     "name": "stdout",
     "output_type": "stream",
     "text": [
      "cp /oasis/projects/nsf/csd395/yuncong/CSHL_data_processed/MD589/MD589_lossless_unsorted_alignedTo_MD589-IHC31-2015.07.30-23.26.22_MD589_1_0091_cropped_compressed/MD589-N29-2015.07.30-17.58.29_MD589_3_0087_lossless_alignedTo_MD589-IHC31-2015.07.30-23.26.22_MD589_1_0091_cropped_compressed.jpg /home/yuncong/csd395/CSHL_cells_v2/detected_cells/MD589/MD589-N29-2015.07.30-17.58.29_MD589_3_0087/MD589-N29-2015.07.30-17.58.29_MD589_3_0087_image.jpg\n"
     ]
    },
    {
     "name": "stderr",
     "output_type": "stream",
     "text": [
      "Child returned 0\n",
      "Load mask: 9.64\n",
      "regionprops: 2.10\n",
      "82679 blobs identified.\n",
      "Save blob coords: 4.07\n",
      "Save blob masks: 9.14\n",
      "Save blob contours, save: 13.73\n",
      "Compute blob properties, save: 17.41\n",
      "Processing section: 171\n"
     ]
    },
    {
     "name": "stdout",
     "output_type": "stream",
     "text": [
      "cp /oasis/projects/nsf/csd395/yuncong/CSHL_data_processed/MD589/MD589_lossless_unsorted_alignedTo_MD589-IHC31-2015.07.30-23.26.22_MD589_1_0091_cropped_compressed/MD589-IHC29-2015.07.30-23.16.01_MD589_3_0087_lossless_alignedTo_MD589-IHC31-2015.07.30-23.26.22_MD589_1_0091_cropped_compressed.jpg /home/yuncong/csd395/CSHL_cells_v2/detected_cells/MD589/MD589-IHC29-2015.07.30-23.16.01_MD589_3_0087/MD589-IHC29-2015.07.30-23.16.01_MD589_3_0087_image.jpg\n"
     ]
    },
    {
     "name": "stderr",
     "output_type": "stream",
     "text": [
      "Child returned 0\n",
      "Load mask: 9.64\n",
      "regionprops: 2.64\n",
      "86158 blobs identified.\n",
      "Save blob coords: 4.37\n",
      "Save blob masks: 9.36\n",
      "Save blob contours, save: 13.59\n",
      "Compute blob properties, save: 18.36\n",
      "Processing section: 172\n"
     ]
    },
    {
     "name": "stdout",
     "output_type": "stream",
     "text": [
      "cp /oasis/projects/nsf/csd395/yuncong/CSHL_data_processed/MD589/MD589_lossless_unsorted_alignedTo_MD589-IHC31-2015.07.30-23.26.22_MD589_1_0091_cropped_compressed/MD589-N30-2015.07.30-18.03.11_MD589_1_0088_lossless_alignedTo_MD589-IHC31-2015.07.30-23.26.22_MD589_1_0091_cropped_compressed.jpg /home/yuncong/csd395/CSHL_cells_v2/detected_cells/MD589/MD589-N30-2015.07.30-18.03.11_MD589_1_0088/MD589-N30-2015.07.30-18.03.11_MD589_1_0088_image.jpg\n"
     ]
    },
    {
     "name": "stderr",
     "output_type": "stream",
     "text": [
      "Child returned 0\n",
      "Load mask: 9.79\n",
      "regionprops: 2.75\n",
      "87137 blobs identified.\n",
      "Save blob coords: 4.41\n",
      "Save blob masks: 9.54\n",
      "Save blob contours, save: 13.83\n",
      "Compute blob properties, save: 18.17\n",
      "Processing section: 173\n"
     ]
    },
    {
     "name": "stdout",
     "output_type": "stream",
     "text": [
      "cp /oasis/projects/nsf/csd395/yuncong/CSHL_data_processed/MD589/MD589_lossless_unsorted_alignedTo_MD589-IHC31-2015.07.30-23.26.22_MD589_1_0091_cropped_compressed/MD589-IHC30-2015.07.30-23.20.46_MD589_1_0088_lossless_alignedTo_MD589-IHC31-2015.07.30-23.26.22_MD589_1_0091_cropped_compressed.jpg /home/yuncong/csd395/CSHL_cells_v2/detected_cells/MD589/MD589-IHC30-2015.07.30-23.20.46_MD589_1_0088/MD589-IHC30-2015.07.30-23.20.46_MD589_1_0088_image.jpg\n"
     ]
    },
    {
     "name": "stderr",
     "output_type": "stream",
     "text": [
      "Child returned 0\n",
      "Load mask: 9.64\n",
      "regionprops: 2.64\n",
      "84036 blobs identified.\n",
      "Save blob coords: 4.14\n",
      "Save blob masks: 9.06\n",
      "Save blob contours, save: 13.70\n",
      "Compute blob properties, save: 17.49\n",
      "Processing section: 174\n"
     ]
    },
    {
     "name": "stdout",
     "output_type": "stream",
     "text": [
      "cp /oasis/projects/nsf/csd395/yuncong/CSHL_data_processed/MD589/MD589_lossless_unsorted_alignedTo_MD589-IHC31-2015.07.30-23.26.22_MD589_1_0091_cropped_compressed/MD589-N30-2015.07.30-18.03.11_MD589_2_0089_lossless_alignedTo_MD589-IHC31-2015.07.30-23.26.22_MD589_1_0091_cropped_compressed.jpg /home/yuncong/csd395/CSHL_cells_v2/detected_cells/MD589/MD589-N30-2015.07.30-18.03.11_MD589_2_0089/MD589-N30-2015.07.30-18.03.11_MD589_2_0089_image.jpg\n"
     ]
    },
    {
     "name": "stderr",
     "output_type": "stream",
     "text": [
      "Child returned 0\n",
      "Load mask: 9.65\n",
      "regionprops: 2.73\n",
      "86875 blobs identified.\n",
      "Save blob coords: 4.27\n",
      "Save blob masks: 9.41\n",
      "Save blob contours, save: 13.89\n",
      "Compute blob properties, save: 18.50\n",
      "Processing section: 175\n"
     ]
    },
    {
     "name": "stdout",
     "output_type": "stream",
     "text": [
      "cp /oasis/projects/nsf/csd395/yuncong/CSHL_data_processed/MD589/MD589_lossless_unsorted_alignedTo_MD589-IHC31-2015.07.30-23.26.22_MD589_1_0091_cropped_compressed/MD589-IHC30-2015.07.30-23.20.46_MD589_2_0089_lossless_alignedTo_MD589-IHC31-2015.07.30-23.26.22_MD589_1_0091_cropped_compressed.jpg /home/yuncong/csd395/CSHL_cells_v2/detected_cells/MD589/MD589-IHC30-2015.07.30-23.20.46_MD589_2_0089/MD589-IHC30-2015.07.30-23.20.46_MD589_2_0089_image.jpg\n"
     ]
    },
    {
     "name": "stderr",
     "output_type": "stream",
     "text": [
      "Child returned 0\n",
      "Load mask: 9.64\n",
      "regionprops: 2.74\n",
      "86331 blobs identified.\n",
      "Save blob coords: 4.22\n",
      "Save blob masks: 9.29\n",
      "Save blob contours, save: 13.72\n",
      "Compute blob properties, save: 18.38\n",
      "Processing section: 176\n"
     ]
    },
    {
     "name": "stdout",
     "output_type": "stream",
     "text": [
      "cp /oasis/projects/nsf/csd395/yuncong/CSHL_data_processed/MD589/MD589_lossless_unsorted_alignedTo_MD589-IHC31-2015.07.30-23.26.22_MD589_1_0091_cropped_compressed/MD589-N30-2015.07.30-18.03.11_MD589_3_0090_lossless_alignedTo_MD589-IHC31-2015.07.30-23.26.22_MD589_1_0091_cropped_compressed.jpg /home/yuncong/csd395/CSHL_cells_v2/detected_cells/MD589/MD589-N30-2015.07.30-18.03.11_MD589_3_0090/MD589-N30-2015.07.30-18.03.11_MD589_3_0090_image.jpg\n"
     ]
    },
    {
     "name": "stderr",
     "output_type": "stream",
     "text": [
      "Child returned 0\n",
      "Load mask: 9.64\n",
      "regionprops: 2.19\n",
      "86760 blobs identified.\n",
      "Save blob coords: 4.23\n",
      "Save blob masks: 9.47\n",
      "Save blob contours, save: 13.81\n",
      "Compute blob properties, save: 18.36\n",
      "Processing section: 177\n"
     ]
    },
    {
     "name": "stdout",
     "output_type": "stream",
     "text": [
      "cp /oasis/projects/nsf/csd395/yuncong/CSHL_data_processed/MD589/MD589_lossless_unsorted_alignedTo_MD589-IHC31-2015.07.30-23.26.22_MD589_1_0091_cropped_compressed/MD589-IHC30-2015.07.30-23.20.46_MD589_3_0090_lossless_alignedTo_MD589-IHC31-2015.07.30-23.26.22_MD589_1_0091_cropped_compressed.jpg /home/yuncong/csd395/CSHL_cells_v2/detected_cells/MD589/MD589-IHC30-2015.07.30-23.20.46_MD589_3_0090/MD589-IHC30-2015.07.30-23.20.46_MD589_3_0090_image.jpg\n"
     ]
    },
    {
     "name": "stderr",
     "output_type": "stream",
     "text": [
      "Child returned 0\n",
      "Load mask: 9.65\n",
      "regionprops: 2.68\n",
      "86044 blobs identified.\n",
      "Save blob coords: 4.33\n",
      "Save blob masks: 9.25\n",
      "Save blob contours, save: 13.64\n",
      "Compute blob properties, save: 17.85\n",
      "Processing section: 178\n"
     ]
    },
    {
     "name": "stdout",
     "output_type": "stream",
     "text": [
      "cp /oasis/projects/nsf/csd395/yuncong/CSHL_data_processed/MD589/MD589_lossless_unsorted_alignedTo_MD589-IHC31-2015.07.30-23.26.22_MD589_1_0091_cropped_compressed/MD589-N31-2015.07.30-18.08.35_MD589_1_0091_lossless_alignedTo_MD589-IHC31-2015.07.30-23.26.22_MD589_1_0091_cropped_compressed.jpg /home/yuncong/csd395/CSHL_cells_v2/detected_cells/MD589/MD589-N31-2015.07.30-18.08.35_MD589_1_0091/MD589-N31-2015.07.30-18.08.35_MD589_1_0091_image.jpg\n"
     ]
    },
    {
     "name": "stderr",
     "output_type": "stream",
     "text": [
      "Child returned 0\n",
      "Load mask: 9.64\n",
      "regionprops: 2.69\n",
      "88133 blobs identified.\n",
      "Save blob coords: 4.53\n",
      "Save blob masks: 9.53\n",
      "Save blob contours, save: 14.15\n",
      "Compute blob properties, save: 18.27\n",
      "Processing section: 179\n"
     ]
    },
    {
     "name": "stdout",
     "output_type": "stream",
     "text": [
      "cp /oasis/projects/nsf/csd395/yuncong/CSHL_data_processed/MD589/MD589_lossless_unsorted_alignedTo_MD589-IHC31-2015.07.30-23.26.22_MD589_1_0091_cropped_compressed/MD589-IHC31-2015.07.30-23.26.22_MD589_1_0091_lossless_alignedTo_MD589-IHC31-2015.07.30-23.26.22_MD589_1_0091_cropped_compressed.jpg /home/yuncong/csd395/CSHL_cells_v2/detected_cells/MD589/MD589-IHC31-2015.07.30-23.26.22_MD589_1_0091/MD589-IHC31-2015.07.30-23.26.22_MD589_1_0091_image.jpg\n"
     ]
    },
    {
     "name": "stderr",
     "output_type": "stream",
     "text": [
      "Child returned 0\n",
      "Load mask: 9.64\n",
      "regionprops: 2.69\n",
      "86720 blobs identified.\n",
      "Save blob coords: 4.29\n",
      "Save blob masks: 9.32\n",
      "Save blob contours, save: 13.99\n",
      "Compute blob properties, save: 18.27\n",
      "Processing section: 180\n"
     ]
    },
    {
     "name": "stdout",
     "output_type": "stream",
     "text": [
      "cp /oasis/projects/nsf/csd395/yuncong/CSHL_data_processed/MD589/MD589_lossless_unsorted_alignedTo_MD589-IHC31-2015.07.30-23.26.22_MD589_1_0091_cropped_compressed/MD589-N31-2015.07.30-18.08.35_MD589_2_0092_lossless_alignedTo_MD589-IHC31-2015.07.30-23.26.22_MD589_1_0091_cropped_compressed.jpg /home/yuncong/csd395/CSHL_cells_v2/detected_cells/MD589/MD589-N31-2015.07.30-18.08.35_MD589_2_0092/MD589-N31-2015.07.30-18.08.35_MD589_2_0092_image.jpg\n"
     ]
    },
    {
     "name": "stderr",
     "output_type": "stream",
     "text": [
      "Child returned 0\n",
      "Load mask: 9.64\n",
      "regionprops: 2.74\n",
      "87098 blobs identified.\n",
      "Save blob coords: 4.21\n",
      "Save blob masks: 9.37\n",
      "Save blob contours, save: 13.72\n",
      "Compute blob properties, save: 18.41\n",
      "Processing section: 181\n"
     ]
    },
    {
     "name": "stdout",
     "output_type": "stream",
     "text": [
      "cp /oasis/projects/nsf/csd395/yuncong/CSHL_data_processed/MD589/MD589_lossless_unsorted_alignedTo_MD589-IHC31-2015.07.30-23.26.22_MD589_1_0091_cropped_compressed/MD589-IHC31-2015.07.30-23.26.22_MD589_2_0092_lossless_alignedTo_MD589-IHC31-2015.07.30-23.26.22_MD589_1_0091_cropped_compressed.jpg /home/yuncong/csd395/CSHL_cells_v2/detected_cells/MD589/MD589-IHC31-2015.07.30-23.26.22_MD589_2_0092/MD589-IHC31-2015.07.30-23.26.22_MD589_2_0092_image.jpg\n"
     ]
    },
    {
     "name": "stderr",
     "output_type": "stream",
     "text": [
      "Child returned 0\n",
      "Load mask: 9.64\n",
      "regionprops: 2.72\n",
      "87982 blobs identified.\n",
      "Save blob coords: 4.33\n",
      "Save blob masks: 9.58\n",
      "Save blob contours, save: 14.44\n",
      "Compute blob properties, save: 18.49\n",
      "Processing section: 182\n"
     ]
    },
    {
     "name": "stdout",
     "output_type": "stream",
     "text": [
      "cp /oasis/projects/nsf/csd395/yuncong/CSHL_data_processed/MD589/MD589_lossless_unsorted_alignedTo_MD589-IHC31-2015.07.30-23.26.22_MD589_1_0091_cropped_compressed/MD589-N32-2015.07.30-18.12.36_MD589_1_0094_lossless_alignedTo_MD589-IHC31-2015.07.30-23.26.22_MD589_1_0091_cropped_compressed.jpg /home/yuncong/csd395/CSHL_cells_v2/detected_cells/MD589/MD589-N32-2015.07.30-18.12.36_MD589_1_0094/MD589-N32-2015.07.30-18.12.36_MD589_1_0094_image.jpg\n"
     ]
    },
    {
     "name": "stderr",
     "output_type": "stream",
     "text": [
      "Child returned 0\n",
      "Load mask: 9.65\n",
      "regionprops: 2.24\n",
      "86600 blobs identified.\n",
      "Save blob coords: 4.26\n",
      "Save blob masks: 9.54\n",
      "Save blob contours, save: 14.03\n",
      "Compute blob properties, save: 18.01\n",
      "Processing section: 183\n"
     ]
    },
    {
     "name": "stdout",
     "output_type": "stream",
     "text": [
      "cp /oasis/projects/nsf/csd395/yuncong/CSHL_data_processed/MD589/MD589_lossless_unsorted_alignedTo_MD589-IHC31-2015.07.30-23.26.22_MD589_1_0091_cropped_compressed/MD589-IHC32-2015.07.30-23.30.34_MD589_1_0094_lossless_alignedTo_MD589-IHC31-2015.07.30-23.26.22_MD589_1_0091_cropped_compressed.jpg /home/yuncong/csd395/CSHL_cells_v2/detected_cells/MD589/MD589-IHC32-2015.07.30-23.30.34_MD589_1_0094/MD589-IHC32-2015.07.30-23.30.34_MD589_1_0094_image.jpg\n"
     ]
    },
    {
     "name": "stderr",
     "output_type": "stream",
     "text": [
      "Child returned 0\n",
      "Load mask: 9.65\n",
      "regionprops: 2.53\n",
      "60680 blobs identified.\n",
      "Save blob coords: 3.43\n",
      "Save blob masks: 6.91\n",
      "Save blob contours, save: 9.98\n",
      "Compute blob properties, save: 13.30\n",
      "Processing section: 184\n"
     ]
    },
    {
     "name": "stdout",
     "output_type": "stream",
     "text": [
      "cp /oasis/projects/nsf/csd395/yuncong/CSHL_data_processed/MD589/MD589_lossless_unsorted_alignedTo_MD589-IHC31-2015.07.30-23.26.22_MD589_1_0091_cropped_compressed/MD589-N32-2015.07.30-18.12.36_MD589_2_0095_lossless_alignedTo_MD589-IHC31-2015.07.30-23.26.22_MD589_1_0091_cropped_compressed.jpg /home/yuncong/csd395/CSHL_cells_v2/detected_cells/MD589/MD589-N32-2015.07.30-18.12.36_MD589_2_0095/MD589-N32-2015.07.30-18.12.36_MD589_2_0095_image.jpg\n"
     ]
    },
    {
     "name": "stderr",
     "output_type": "stream",
     "text": [
      "Child returned 0\n",
      "Load mask: 9.65\n",
      "regionprops: 2.43\n",
      "87758 blobs identified.\n",
      "Save blob coords: 4.18\n",
      "Save blob masks: 9.35\n",
      "Save blob contours, save: 14.00\n",
      "Compute blob properties, save: 18.10\n",
      "Processing section: 185\n"
     ]
    },
    {
     "name": "stdout",
     "output_type": "stream",
     "text": [
      "cp /oasis/projects/nsf/csd395/yuncong/CSHL_data_processed/MD589/MD589_lossless_unsorted_alignedTo_MD589-IHC31-2015.07.30-23.26.22_MD589_1_0091_cropped_compressed/MD589-IHC32-2015.07.30-23.30.34_MD589_2_0095_lossless_alignedTo_MD589-IHC31-2015.07.30-23.26.22_MD589_1_0091_cropped_compressed.jpg /home/yuncong/csd395/CSHL_cells_v2/detected_cells/MD589/MD589-IHC32-2015.07.30-23.30.34_MD589_2_0095/MD589-IHC32-2015.07.30-23.30.34_MD589_2_0095_image.jpg\n"
     ]
    },
    {
     "name": "stderr",
     "output_type": "stream",
     "text": [
      "Child returned 0\n",
      "Load mask: 9.65\n",
      "regionprops: 2.58\n",
      "87102 blobs identified.\n",
      "Save blob coords: 4.28\n",
      "Save blob masks: 9.44\n",
      "Save blob contours, save: 13.96\n",
      "Compute blob properties, save: 18.94\n",
      "Processing section: 186\n"
     ]
    },
    {
     "name": "stdout",
     "output_type": "stream",
     "text": [
      "cp /oasis/projects/nsf/csd395/yuncong/CSHL_data_processed/MD589/MD589_lossless_unsorted_alignedTo_MD589-IHC31-2015.07.30-23.26.22_MD589_1_0091_cropped_compressed/MD589-N33-2015.07.30-18.16.40_MD589_1_0097_lossless_alignedTo_MD589-IHC31-2015.07.30-23.26.22_MD589_1_0091_cropped_compressed.jpg /home/yuncong/csd395/CSHL_cells_v2/detected_cells/MD589/MD589-N33-2015.07.30-18.16.40_MD589_1_0097/MD589-N33-2015.07.30-18.16.40_MD589_1_0097_image.jpg\n"
     ]
    },
    {
     "name": "stderr",
     "output_type": "stream",
     "text": [
      "Child returned 0\n",
      "Load mask: 9.64\n",
      "regionprops: 2.62\n",
      "87793 blobs identified.\n",
      "Save blob coords: 4.30\n",
      "Save blob masks: 9.43\n",
      "Save blob contours, save: 13.95\n",
      "Compute blob properties, save: 18.40\n",
      "Processing section: 187\n"
     ]
    },
    {
     "name": "stdout",
     "output_type": "stream",
     "text": [
      "cp /oasis/projects/nsf/csd395/yuncong/CSHL_data_processed/MD589/MD589_lossless_unsorted_alignedTo_MD589-IHC31-2015.07.30-23.26.22_MD589_1_0091_cropped_compressed/MD589-IHC33-2015.07.30-23.34.35_MD589_1_0097_lossless_alignedTo_MD589-IHC31-2015.07.30-23.26.22_MD589_1_0091_cropped_compressed.jpg /home/yuncong/csd395/CSHL_cells_v2/detected_cells/MD589/MD589-IHC33-2015.07.30-23.34.35_MD589_1_0097/MD589-IHC33-2015.07.30-23.34.35_MD589_1_0097_image.jpg\n"
     ]
    },
    {
     "name": "stderr",
     "output_type": "stream",
     "text": [
      "Child returned 0\n",
      "Load mask: 9.64\n",
      "regionprops: 2.55\n",
      "86446 blobs identified.\n",
      "Save blob coords: 4.26\n",
      "Save blob masks: 9.66\n",
      "Save blob contours, save: 14.22\n",
      "Compute blob properties, save: 18.03\n",
      "Processing section: 188\n"
     ]
    },
    {
     "name": "stdout",
     "output_type": "stream",
     "text": [
      "cp /oasis/projects/nsf/csd395/yuncong/CSHL_data_processed/MD589/MD589_lossless_unsorted_alignedTo_MD589-IHC31-2015.07.30-23.26.22_MD589_1_0091_cropped_compressed/MD589-N33-2015.07.30-18.16.40_MD589_2_0098_lossless_alignedTo_MD589-IHC31-2015.07.30-23.26.22_MD589_1_0091_cropped_compressed.jpg /home/yuncong/csd395/CSHL_cells_v2/detected_cells/MD589/MD589-N33-2015.07.30-18.16.40_MD589_2_0098/MD589-N33-2015.07.30-18.16.40_MD589_2_0098_image.jpg\n"
     ]
    },
    {
     "name": "stderr",
     "output_type": "stream",
     "text": [
      "Child returned 0\n",
      "Load mask: 9.71\n",
      "regionprops: 2.59\n",
      "88193 blobs identified.\n",
      "Save blob coords: 4.27\n",
      "Save blob masks: 9.48\n",
      "Save blob contours, save: 14.19\n",
      "Compute blob properties, save: 20.49\n",
      "Processing section: 189\n"
     ]
    },
    {
     "name": "stdout",
     "output_type": "stream",
     "text": [
      "cp /oasis/projects/nsf/csd395/yuncong/CSHL_data_processed/MD589/MD589_lossless_unsorted_alignedTo_MD589-IHC31-2015.07.30-23.26.22_MD589_1_0091_cropped_compressed/MD589-IHC33-2015.07.30-23.34.35_MD589_2_0098_lossless_alignedTo_MD589-IHC31-2015.07.30-23.26.22_MD589_1_0091_cropped_compressed.jpg /home/yuncong/csd395/CSHL_cells_v2/detected_cells/MD589/MD589-IHC33-2015.07.30-23.34.35_MD589_2_0098/MD589-IHC33-2015.07.30-23.34.35_MD589_2_0098_image.jpg\n"
     ]
    },
    {
     "name": "stderr",
     "output_type": "stream",
     "text": [
      "Child returned 0\n",
      "Load mask: 10.37\n",
      "regionprops: 2.69\n",
      "87491 blobs identified.\n",
      "Save blob coords: 4.31\n",
      "Save blob masks: 9.62\n",
      "Save blob contours, save: 14.00\n",
      "Compute blob properties, save: 18.91\n",
      "Processing section: 190\n"
     ]
    },
    {
     "name": "stdout",
     "output_type": "stream",
     "text": [
      "cp /oasis/projects/nsf/csd395/yuncong/CSHL_data_processed/MD589/MD589_lossless_unsorted_alignedTo_MD589-IHC31-2015.07.30-23.26.22_MD589_1_0091_cropped_compressed/MD589-N34-2015.07.30-18.20.43_MD589_1_0100_lossless_alignedTo_MD589-IHC31-2015.07.30-23.26.22_MD589_1_0091_cropped_compressed.jpg /home/yuncong/csd395/CSHL_cells_v2/detected_cells/MD589/MD589-N34-2015.07.30-18.20.43_MD589_1_0100/MD589-N34-2015.07.30-18.20.43_MD589_1_0100_image.jpg\n"
     ]
    },
    {
     "name": "stderr",
     "output_type": "stream",
     "text": [
      "Child returned 0\n",
      "Load mask: 9.65\n",
      "regionprops: 2.14\n",
      "86280 blobs identified.\n",
      "Save blob coords: 4.20\n",
      "Save blob masks: 9.61\n",
      "Save blob contours, save: 13.77\n",
      "Compute blob properties, save: 18.21\n",
      "Processing section: 191\n"
     ]
    },
    {
     "name": "stdout",
     "output_type": "stream",
     "text": [
      "cp /oasis/projects/nsf/csd395/yuncong/CSHL_data_processed/MD589/MD589_lossless_unsorted_alignedTo_MD589-IHC31-2015.07.30-23.26.22_MD589_1_0091_cropped_compressed/MD589-IHC34-2015.07.30-23.38.35_MD589_1_0100_lossless_alignedTo_MD589-IHC31-2015.07.30-23.26.22_MD589_1_0091_cropped_compressed.jpg /home/yuncong/csd395/CSHL_cells_v2/detected_cells/MD589/MD589-IHC34-2015.07.30-23.38.35_MD589_1_0100/MD589-IHC34-2015.07.30-23.38.35_MD589_1_0100_image.jpg\n"
     ]
    },
    {
     "name": "stderr",
     "output_type": "stream",
     "text": [
      "Child returned 0\n",
      "Load mask: 9.64\n",
      "regionprops: 2.61\n",
      "85908 blobs identified.\n",
      "Save blob coords: 4.16\n",
      "Save blob masks: 9.28\n",
      "Save blob contours, save: 13.80\n",
      "Compute blob properties, save: 18.40\n",
      "Processing section: 192\n"
     ]
    },
    {
     "name": "stdout",
     "output_type": "stream",
     "text": [
      "cp /oasis/projects/nsf/csd395/yuncong/CSHL_data_processed/MD589/MD589_lossless_unsorted_alignedTo_MD589-IHC31-2015.07.30-23.26.22_MD589_1_0091_cropped_compressed/MD589-N34-2015.07.30-18.20.43_MD589_2_0101_lossless_alignedTo_MD589-IHC31-2015.07.30-23.26.22_MD589_1_0091_cropped_compressed.jpg /home/yuncong/csd395/CSHL_cells_v2/detected_cells/MD589/MD589-N34-2015.07.30-18.20.43_MD589_2_0101/MD589-N34-2015.07.30-18.20.43_MD589_2_0101_image.jpg\n"
     ]
    },
    {
     "name": "stderr",
     "output_type": "stream",
     "text": [
      "Child returned 0\n",
      "Load mask: 9.64\n",
      "regionprops: 2.61\n",
      "88598 blobs identified.\n",
      "Save blob coords: 4.31\n",
      "Save blob masks: 9.66\n",
      "Save blob contours, save: 14.28\n",
      "Compute blob properties, save: 18.18\n",
      "Processing section: 193\n"
     ]
    },
    {
     "name": "stdout",
     "output_type": "stream",
     "text": [
      "cp /oasis/projects/nsf/csd395/yuncong/CSHL_data_processed/MD589/MD589_lossless_unsorted_alignedTo_MD589-IHC31-2015.07.30-23.26.22_MD589_1_0091_cropped_compressed/MD589-IHC34-2015.07.30-23.38.35_MD589_2_0101_lossless_alignedTo_MD589-IHC31-2015.07.30-23.26.22_MD589_1_0091_cropped_compressed.jpg /home/yuncong/csd395/CSHL_cells_v2/detected_cells/MD589/MD589-IHC34-2015.07.30-23.38.35_MD589_2_0101/MD589-IHC34-2015.07.30-23.38.35_MD589_2_0101_image.jpg\n"
     ]
    },
    {
     "name": "stderr",
     "output_type": "stream",
     "text": [
      "Child returned 0\n",
      "Load mask: 9.66\n",
      "regionprops: 2.54\n",
      "86408 blobs identified.\n",
      "Save blob coords: 4.11\n",
      "Save blob masks: 9.38\n",
      "Save blob contours, save: 14.15\n",
      "Compute blob properties, save: 18.47\n",
      "Processing section: 194\n"
     ]
    },
    {
     "name": "stdout",
     "output_type": "stream",
     "text": [
      "cp /oasis/projects/nsf/csd395/yuncong/CSHL_data_processed/MD589/MD589_lossless_unsorted_alignedTo_MD589-IHC31-2015.07.30-23.26.22_MD589_1_0091_cropped_compressed/MD589-N35-2015.07.30-18.24.53_MD589_1_0103_lossless_alignedTo_MD589-IHC31-2015.07.30-23.26.22_MD589_1_0091_cropped_compressed.jpg /home/yuncong/csd395/CSHL_cells_v2/detected_cells/MD589/MD589-N35-2015.07.30-18.24.53_MD589_1_0103/MD589-N35-2015.07.30-18.24.53_MD589_1_0103_image.jpg\n"
     ]
    },
    {
     "name": "stderr",
     "output_type": "stream",
     "text": [
      "Child returned 0\n",
      "Load mask: 9.63\n",
      "regionprops: 2.68\n",
      "86829 blobs identified.\n",
      "Save blob coords: 4.26\n",
      "Save blob masks: 9.50\n",
      "Save blob contours, save: 13.88\n",
      "Compute blob properties, save: 18.75\n",
      "Processing section: 195\n"
     ]
    },
    {
     "name": "stdout",
     "output_type": "stream",
     "text": [
      "cp /oasis/projects/nsf/csd395/yuncong/CSHL_data_processed/MD589/MD589_lossless_unsorted_alignedTo_MD589-IHC31-2015.07.30-23.26.22_MD589_1_0091_cropped_compressed/MD589-IHC35-2015.07.30-23.42.32_MD589_1_0103_lossless_alignedTo_MD589-IHC31-2015.07.30-23.26.22_MD589_1_0091_cropped_compressed.jpg /home/yuncong/csd395/CSHL_cells_v2/detected_cells/MD589/MD589-IHC35-2015.07.30-23.42.32_MD589_1_0103/MD589-IHC35-2015.07.30-23.42.32_MD589_1_0103_image.jpg\n"
     ]
    },
    {
     "name": "stderr",
     "output_type": "stream",
     "text": [
      "Child returned 0\n",
      "Load mask: 9.65\n",
      "regionprops: 2.18\n",
      "86530 blobs identified.\n",
      "Save blob coords: 4.22\n",
      "Save blob masks: 9.55\n",
      "Save blob contours, save: 13.71\n",
      "Compute blob properties, save: 18.69\n",
      "Processing section: 196\n"
     ]
    },
    {
     "name": "stdout",
     "output_type": "stream",
     "text": [
      "cp /oasis/projects/nsf/csd395/yuncong/CSHL_data_processed/MD589/MD589_lossless_unsorted_alignedTo_MD589-IHC31-2015.07.30-23.26.22_MD589_1_0091_cropped_compressed/MD589-N35-2015.07.30-18.24.53_MD589_2_0104_lossless_alignedTo_MD589-IHC31-2015.07.30-23.26.22_MD589_1_0091_cropped_compressed.jpg /home/yuncong/csd395/CSHL_cells_v2/detected_cells/MD589/MD589-N35-2015.07.30-18.24.53_MD589_2_0104/MD589-N35-2015.07.30-18.24.53_MD589_2_0104_image.jpg\n"
     ]
    },
    {
     "name": "stderr",
     "output_type": "stream",
     "text": [
      "Child returned 0\n",
      "Load mask: 9.64\n",
      "regionprops: 2.66\n",
      "87988 blobs identified.\n",
      "Save blob coords: 4.25\n",
      "Save blob masks: 9.39\n",
      "Save blob contours, save: 14.23\n",
      "Compute blob properties, save: 18.97\n",
      "Processing section: 197\n"
     ]
    },
    {
     "name": "stdout",
     "output_type": "stream",
     "text": [
      "cp /oasis/projects/nsf/csd395/yuncong/CSHL_data_processed/MD589/MD589_lossless_unsorted_alignedTo_MD589-IHC31-2015.07.30-23.26.22_MD589_1_0091_cropped_compressed/MD589-IHC35-2015.07.30-23.42.32_MD589_2_0104_lossless_alignedTo_MD589-IHC31-2015.07.30-23.26.22_MD589_1_0091_cropped_compressed.jpg /home/yuncong/csd395/CSHL_cells_v2/detected_cells/MD589/MD589-IHC35-2015.07.30-23.42.32_MD589_2_0104/MD589-IHC35-2015.07.30-23.42.32_MD589_2_0104_image.jpg\n"
     ]
    },
    {
     "name": "stderr",
     "output_type": "stream",
     "text": [
      "Child returned 0\n",
      "Load mask: 9.64\n",
      "regionprops: 2.20\n",
      "86308 blobs identified.\n",
      "Save blob coords: 4.18\n",
      "Save blob masks: 9.32\n",
      "Save blob contours, save: 14.00\n",
      "Compute blob properties, save: 18.15\n",
      "Processing section: 198\n"
     ]
    },
    {
     "name": "stdout",
     "output_type": "stream",
     "text": [
      "cp /oasis/projects/nsf/csd395/yuncong/CSHL_data_processed/MD589/MD589_lossless_unsorted_alignedTo_MD589-IHC31-2015.07.30-23.26.22_MD589_1_0091_cropped_compressed/MD589-N36-2015.07.30-18.28.52_MD589_1_0106_lossless_alignedTo_MD589-IHC31-2015.07.30-23.26.22_MD589_1_0091_cropped_compressed.jpg /home/yuncong/csd395/CSHL_cells_v2/detected_cells/MD589/MD589-N36-2015.07.30-18.28.52_MD589_1_0106/MD589-N36-2015.07.30-18.28.52_MD589_1_0106_image.jpg\n"
     ]
    },
    {
     "name": "stderr",
     "output_type": "stream",
     "text": [
      "Child returned 0\n",
      "Load mask: 9.63\n",
      "regionprops: 2.70\n",
      "87004 blobs identified.\n",
      "Save blob coords: 4.26\n",
      "Save blob masks: 9.41\n",
      "Save blob contours, save: 13.87\n",
      "Compute blob properties, save: 18.58\n",
      "Processing section: 199\n"
     ]
    },
    {
     "name": "stdout",
     "output_type": "stream",
     "text": [
      "cp /oasis/projects/nsf/csd395/yuncong/CSHL_data_processed/MD589/MD589_lossless_unsorted_alignedTo_MD589-IHC31-2015.07.30-23.26.22_MD589_1_0091_cropped_compressed/MD589-IHC36-2015.07.30-23.46.36_MD589_1_0106_lossless_alignedTo_MD589-IHC31-2015.07.30-23.26.22_MD589_1_0091_cropped_compressed.jpg /home/yuncong/csd395/CSHL_cells_v2/detected_cells/MD589/MD589-IHC36-2015.07.30-23.46.36_MD589_1_0106/MD589-IHC36-2015.07.30-23.46.36_MD589_1_0106_image.jpg\n"
     ]
    },
    {
     "name": "stderr",
     "output_type": "stream",
     "text": [
      "Child returned 0\n",
      "Load mask: 9.64\n",
      "regionprops: 2.21\n",
      "85023 blobs identified.\n",
      "Save blob coords: 4.29\n",
      "Save blob masks: 9.46\n",
      "Save blob contours, save: 13.54\n",
      "Compute blob properties, save: 18.23\n",
      "Processing section: 200\n"
     ]
    },
    {
     "name": "stdout",
     "output_type": "stream",
     "text": [
      "cp /oasis/projects/nsf/csd395/yuncong/CSHL_data_processed/MD589/MD589_lossless_unsorted_alignedTo_MD589-IHC31-2015.07.30-23.26.22_MD589_1_0091_cropped_compressed/MD589-N36-2015.07.30-18.28.52_MD589_2_0107_lossless_alignedTo_MD589-IHC31-2015.07.30-23.26.22_MD589_1_0091_cropped_compressed.jpg /home/yuncong/csd395/CSHL_cells_v2/detected_cells/MD589/MD589-N36-2015.07.30-18.28.52_MD589_2_0107/MD589-N36-2015.07.30-18.28.52_MD589_2_0107_image.jpg\n"
     ]
    },
    {
     "name": "stderr",
     "output_type": "stream",
     "text": [
      "Child returned 0\n",
      "Load mask: 9.65\n",
      "regionprops: 2.65\n",
      "87831 blobs identified.\n",
      "Save blob coords: 4.27\n",
      "Save blob masks: 9.39\n",
      "Save blob contours, save: 13.97\n",
      "Compute blob properties, save: 18.77\n",
      "Processing section: 201\n"
     ]
    },
    {
     "name": "stdout",
     "output_type": "stream",
     "text": [
      "cp /oasis/projects/nsf/csd395/yuncong/CSHL_data_processed/MD589/MD589_lossless_unsorted_alignedTo_MD589-IHC31-2015.07.30-23.26.22_MD589_1_0091_cropped_compressed/MD589-IHC36-2015.07.30-23.46.36_MD589_2_0107_lossless_alignedTo_MD589-IHC31-2015.07.30-23.26.22_MD589_1_0091_cropped_compressed.jpg /home/yuncong/csd395/CSHL_cells_v2/detected_cells/MD589/MD589-IHC36-2015.07.30-23.46.36_MD589_2_0107/MD589-IHC36-2015.07.30-23.46.36_MD589_2_0107_image.jpg\n"
     ]
    },
    {
     "name": "stderr",
     "output_type": "stream",
     "text": [
      "Child returned 0\n",
      "Load mask: 9.65\n",
      "regionprops: 2.22\n",
      "87123 blobs identified.\n",
      "Save blob coords: 4.32\n",
      "Save blob masks: 9.62\n",
      "Save blob contours, save: 13.97\n",
      "Compute blob properties, save: 18.58\n",
      "Processing section: 202\n"
     ]
    },
    {
     "name": "stdout",
     "output_type": "stream",
     "text": [
      "cp /oasis/projects/nsf/csd395/yuncong/CSHL_data_processed/MD589/MD589_lossless_unsorted_alignedTo_MD589-IHC31-2015.07.30-23.26.22_MD589_1_0091_cropped_compressed/MD589-N37-2015.07.30-18.32.51_MD589_1_0109_lossless_alignedTo_MD589-IHC31-2015.07.30-23.26.22_MD589_1_0091_cropped_compressed.jpg /home/yuncong/csd395/CSHL_cells_v2/detected_cells/MD589/MD589-N37-2015.07.30-18.32.51_MD589_1_0109/MD589-N37-2015.07.30-18.32.51_MD589_1_0109_image.jpg\n"
     ]
    },
    {
     "name": "stderr",
     "output_type": "stream",
     "text": [
      "Child returned 0\n",
      "Load mask: 9.64\n",
      "regionprops: 2.66\n",
      "85020 blobs identified.\n",
      "Save blob coords: 4.36\n",
      "Save blob masks: 9.41\n",
      "Save blob contours, save: 13.55\n",
      "Compute blob properties, save: 18.47\n",
      "Processing section: 203\n"
     ]
    },
    {
     "name": "stdout",
     "output_type": "stream",
     "text": [
      "cp /oasis/projects/nsf/csd395/yuncong/CSHL_data_processed/MD589/MD589_lossless_unsorted_alignedTo_MD589-IHC31-2015.07.30-23.26.22_MD589_1_0091_cropped_compressed/MD589-IHC37-2015.07.30-23.50.39_MD589_1_0109_lossless_alignedTo_MD589-IHC31-2015.07.30-23.26.22_MD589_1_0091_cropped_compressed.jpg /home/yuncong/csd395/CSHL_cells_v2/detected_cells/MD589/MD589-IHC37-2015.07.30-23.50.39_MD589_1_0109/MD589-IHC37-2015.07.30-23.50.39_MD589_1_0109_image.jpg\n"
     ]
    },
    {
     "name": "stderr",
     "output_type": "stream",
     "text": [
      "Child returned 0\n",
      "Load mask: 9.77\n",
      "regionprops: 2.68\n",
      "87367 blobs identified.\n",
      "Save blob coords: 4.34\n",
      "Save blob masks: 9.52\n",
      "Save blob contours, save: 13.91\n",
      "Compute blob properties, save: 18.71\n",
      "Processing section: 204\n"
     ]
    },
    {
     "name": "stdout",
     "output_type": "stream",
     "text": [
      "cp /oasis/projects/nsf/csd395/yuncong/CSHL_data_processed/MD589/MD589_lossless_unsorted_alignedTo_MD589-IHC31-2015.07.30-23.26.22_MD589_1_0091_cropped_compressed/MD589-N37-2015.07.30-18.32.51_MD589_2_0110_lossless_alignedTo_MD589-IHC31-2015.07.30-23.26.22_MD589_1_0091_cropped_compressed.jpg /home/yuncong/csd395/CSHL_cells_v2/detected_cells/MD589/MD589-N37-2015.07.30-18.32.51_MD589_2_0110/MD589-N37-2015.07.30-18.32.51_MD589_2_0110_image.jpg\n"
     ]
    },
    {
     "name": "stderr",
     "output_type": "stream",
     "text": [
      "Child returned 0\n",
      "Load mask: 9.64\n",
      "regionprops: 2.27\n",
      "87629 blobs identified.\n",
      "Save blob coords: 4.55\n",
      "Save blob masks: 9.90\n",
      "Save blob contours, save: 14.03\n",
      "Compute blob properties, save: 18.95\n",
      "Processing section: 205\n"
     ]
    },
    {
     "name": "stdout",
     "output_type": "stream",
     "text": [
      "cp /oasis/projects/nsf/csd395/yuncong/CSHL_data_processed/MD589/MD589_lossless_unsorted_alignedTo_MD589-IHC31-2015.07.30-23.26.22_MD589_1_0091_cropped_compressed/MD589-IHC37-2015.07.30-23.50.39_MD589_2_0110_lossless_alignedTo_MD589-IHC31-2015.07.30-23.26.22_MD589_1_0091_cropped_compressed.jpg /home/yuncong/csd395/CSHL_cells_v2/detected_cells/MD589/MD589-IHC37-2015.07.30-23.50.39_MD589_2_0110/MD589-IHC37-2015.07.30-23.50.39_MD589_2_0110_image.jpg\n"
     ]
    },
    {
     "name": "stderr",
     "output_type": "stream",
     "text": [
      "Child returned 0\n",
      "Load mask: 9.64\n",
      "regionprops: 2.20\n",
      "81970 blobs identified.\n",
      "Save blob coords: 4.09\n",
      "Save blob masks: 9.05\n",
      "Save blob contours, save: 13.57\n",
      "Compute blob properties, save: 17.47\n",
      "Processing section: 206\n"
     ]
    },
    {
     "name": "stdout",
     "output_type": "stream",
     "text": [
      "cp /oasis/projects/nsf/csd395/yuncong/CSHL_data_processed/MD589/MD589_lossless_unsorted_alignedTo_MD589-IHC31-2015.07.30-23.26.22_MD589_1_0091_cropped_compressed/MD589-N38-2015.07.30-18.36.50_MD589_1_0112_lossless_alignedTo_MD589-IHC31-2015.07.30-23.26.22_MD589_1_0091_cropped_compressed.jpg /home/yuncong/csd395/CSHL_cells_v2/detected_cells/MD589/MD589-N38-2015.07.30-18.36.50_MD589_1_0112/MD589-N38-2015.07.30-18.36.50_MD589_1_0112_image.jpg\n"
     ]
    },
    {
     "name": "stderr",
     "output_type": "stream",
     "text": [
      "Child returned 0\n",
      "Load mask: 9.64\n",
      "regionprops: 2.59\n",
      "82573 blobs identified.\n",
      "Save blob coords: 4.24\n",
      "Save blob masks: 9.15\n",
      "Save blob contours, save: 13.39\n",
      "Compute blob properties, save: 17.86\n",
      "Processing section: 207\n"
     ]
    },
    {
     "name": "stdout",
     "output_type": "stream",
     "text": [
      "cp /oasis/projects/nsf/csd395/yuncong/CSHL_data_processed/MD589/MD589_lossless_unsorted_alignedTo_MD589-IHC31-2015.07.30-23.26.22_MD589_1_0091_cropped_compressed/MD589-IHC38-2015.07.30-23.54.24_MD589_1_0112_lossless_alignedTo_MD589-IHC31-2015.07.30-23.26.22_MD589_1_0091_cropped_compressed.jpg /home/yuncong/csd395/CSHL_cells_v2/detected_cells/MD589/MD589-IHC38-2015.07.30-23.54.24_MD589_1_0112/MD589-IHC38-2015.07.30-23.54.24_MD589_1_0112_image.jpg\n"
     ]
    },
    {
     "name": "stderr",
     "output_type": "stream",
     "text": [
      "Child returned 0\n",
      "Load mask: 9.64\n",
      "regionprops: 2.69\n",
      "83663 blobs identified.\n",
      "Save blob coords: 4.28\n",
      "Save blob masks: 9.23\n",
      "Save blob contours, save: 13.61\n",
      "Compute blob properties, save: 17.92\n",
      "Processing section: 208\n"
     ]
    },
    {
     "name": "stdout",
     "output_type": "stream",
     "text": [
      "cp /oasis/projects/nsf/csd395/yuncong/CSHL_data_processed/MD589/MD589_lossless_unsorted_alignedTo_MD589-IHC31-2015.07.30-23.26.22_MD589_1_0091_cropped_compressed/MD589-N38-2015.07.30-18.36.50_MD589_2_0113_lossless_alignedTo_MD589-IHC31-2015.07.30-23.26.22_MD589_1_0091_cropped_compressed.jpg /home/yuncong/csd395/CSHL_cells_v2/detected_cells/MD589/MD589-N38-2015.07.30-18.36.50_MD589_2_0113/MD589-N38-2015.07.30-18.36.50_MD589_2_0113_image.jpg\n"
     ]
    },
    {
     "name": "stderr",
     "output_type": "stream",
     "text": [
      "Child returned 0\n",
      "Load mask: 9.64\n",
      "regionprops: 2.14\n",
      "81206 blobs identified.\n",
      "Save blob coords: 4.04\n",
      "Save blob masks: 9.06\n",
      "Save blob contours, save: 13.19\n",
      "Compute blob properties, save: 17.54\n",
      "Processing section: 209\n"
     ]
    },
    {
     "name": "stdout",
     "output_type": "stream",
     "text": [
      "cp /oasis/projects/nsf/csd395/yuncong/CSHL_data_processed/MD589/MD589_lossless_unsorted_alignedTo_MD589-IHC31-2015.07.30-23.26.22_MD589_1_0091_cropped_compressed/MD589-IHC38-2015.07.30-23.54.24_MD589_2_0113_lossless_alignedTo_MD589-IHC31-2015.07.30-23.26.22_MD589_1_0091_cropped_compressed.jpg /home/yuncong/csd395/CSHL_cells_v2/detected_cells/MD589/MD589-IHC38-2015.07.30-23.54.24_MD589_2_0113/MD589-IHC38-2015.07.30-23.54.24_MD589_2_0113_image.jpg\n"
     ]
    },
    {
     "name": "stderr",
     "output_type": "stream",
     "text": [
      "Child returned 0\n",
      "Load mask: 9.64\n",
      "regionprops: 2.57\n",
      "83132 blobs identified.\n",
      "Save blob coords: 4.28\n",
      "Save blob masks: 9.18\n",
      "Save blob contours, save: 13.42\n",
      "Compute blob properties, save: 18.20\n",
      "Processing section: 210\n"
     ]
    },
    {
     "name": "stdout",
     "output_type": "stream",
     "text": [
      "cp /oasis/projects/nsf/csd395/yuncong/CSHL_data_processed/MD589/MD589_lossless_unsorted_alignedTo_MD589-IHC31-2015.07.30-23.26.22_MD589_1_0091_cropped_compressed/MD589-N39-2015.07.30-18.40.43_MD589_1_0115_lossless_alignedTo_MD589-IHC31-2015.07.30-23.26.22_MD589_1_0091_cropped_compressed.jpg /home/yuncong/csd395/CSHL_cells_v2/detected_cells/MD589/MD589-N39-2015.07.30-18.40.43_MD589_1_0115/MD589-N39-2015.07.30-18.40.43_MD589_1_0115_image.jpg\n"
     ]
    },
    {
     "name": "stderr",
     "output_type": "stream",
     "text": [
      "Child returned 0\n",
      "Load mask: 9.64\n",
      "regionprops: 2.51\n",
      "64567 blobs identified.\n",
      "Save blob coords: 3.38\n",
      "Save blob masks: 7.31\n",
      "Save blob contours, save: 10.76\n",
      "Compute blob properties, save: 13.86\n",
      "Processing section: 211\n"
     ]
    },
    {
     "name": "stdout",
     "output_type": "stream",
     "text": [
      "cp /oasis/projects/nsf/csd395/yuncong/CSHL_data_processed/MD589/MD589_lossless_unsorted_alignedTo_MD589-IHC31-2015.07.30-23.26.22_MD589_1_0091_cropped_compressed/MD589-IHC39-2015.07.30-23.58.27_MD589_1_0115_lossless_alignedTo_MD589-IHC31-2015.07.30-23.26.22_MD589_1_0091_cropped_compressed.jpg /home/yuncong/csd395/CSHL_cells_v2/detected_cells/MD589/MD589-IHC39-2015.07.30-23.58.27_MD589_1_0115/MD589-IHC39-2015.07.30-23.58.27_MD589_1_0115_image.jpg\n"
     ]
    },
    {
     "name": "stderr",
     "output_type": "stream",
     "text": [
      "Child returned 0\n",
      "Load mask: 9.64\n",
      "regionprops: 2.33\n",
      "80909 blobs identified.\n",
      "Save blob coords: 3.96\n",
      "Save blob masks: 8.90\n",
      "Save blob contours, save: 12.89\n",
      "Compute blob properties, save: 17.14\n",
      "Processing section: 212\n"
     ]
    },
    {
     "name": "stdout",
     "output_type": "stream",
     "text": [
      "cp /oasis/projects/nsf/csd395/yuncong/CSHL_data_processed/MD589/MD589_lossless_unsorted_alignedTo_MD589-IHC31-2015.07.30-23.26.22_MD589_1_0091_cropped_compressed/MD589-N39-2015.07.30-18.40.43_MD589_2_0116_lossless_alignedTo_MD589-IHC31-2015.07.30-23.26.22_MD589_1_0091_cropped_compressed.jpg /home/yuncong/csd395/CSHL_cells_v2/detected_cells/MD589/MD589-N39-2015.07.30-18.40.43_MD589_2_0116/MD589-N39-2015.07.30-18.40.43_MD589_2_0116_image.jpg\n"
     ]
    },
    {
     "name": "stderr",
     "output_type": "stream",
     "text": [
      "Child returned 0\n",
      "Load mask: 9.65\n",
      "regionprops: 2.02\n",
      "66133 blobs identified.\n",
      "Save blob coords: 3.35\n",
      "Save blob masks: 7.41\n",
      "Save blob contours, save: 10.66\n",
      "Compute blob properties, save: 14.33\n",
      "Processing section: 213\n"
     ]
    },
    {
     "name": "stdout",
     "output_type": "stream",
     "text": [
      "cp /oasis/projects/nsf/csd395/yuncong/CSHL_data_processed/MD589/MD589_lossless_unsorted_alignedTo_MD589-IHC31-2015.07.30-23.26.22_MD589_1_0091_cropped_compressed/MD589-IHC39-2015.07.30-23.58.27_MD589_2_0116_lossless_alignedTo_MD589-IHC31-2015.07.30-23.26.22_MD589_1_0091_cropped_compressed.jpg /home/yuncong/csd395/CSHL_cells_v2/detected_cells/MD589/MD589-IHC39-2015.07.30-23.58.27_MD589_2_0116/MD589-IHC39-2015.07.30-23.58.27_MD589_2_0116_image.jpg\n"
     ]
    },
    {
     "name": "stderr",
     "output_type": "stream",
     "text": [
      "Child returned 0\n",
      "Load mask: 9.64\n",
      "regionprops: 2.39\n",
      "77486 blobs identified.\n",
      "Save blob coords: 4.34\n",
      "Save blob masks: 8.53\n",
      "Save blob contours, save: 12.49\n",
      "Compute blob properties, save: 16.58\n",
      "Processing section: 214\n"
     ]
    },
    {
     "name": "stdout",
     "output_type": "stream",
     "text": [
      "cp /oasis/projects/nsf/csd395/yuncong/CSHL_data_processed/MD589/MD589_lossless_unsorted_alignedTo_MD589-IHC31-2015.07.30-23.26.22_MD589_1_0091_cropped_compressed/MD589-N40-2015.07.30-18.44.48_MD589_1_0118_lossless_alignedTo_MD589-IHC31-2015.07.30-23.26.22_MD589_1_0091_cropped_compressed.jpg /home/yuncong/csd395/CSHL_cells_v2/detected_cells/MD589/MD589-N40-2015.07.30-18.44.48_MD589_1_0118/MD589-N40-2015.07.30-18.44.48_MD589_1_0118_image.jpg\n"
     ]
    },
    {
     "name": "stderr",
     "output_type": "stream",
     "text": [
      "Child returned 0\n",
      "Load mask: 9.66\n",
      "regionprops: 2.01\n",
      "65534 blobs identified.\n",
      "Save blob coords: 3.40\n",
      "Save blob masks: 7.43\n",
      "Save blob contours, save: 10.87\n",
      "Compute blob properties, save: 14.52\n",
      "Processing section: 215\n"
     ]
    },
    {
     "name": "stdout",
     "output_type": "stream",
     "text": [
      "cp /oasis/projects/nsf/csd395/yuncong/CSHL_data_processed/MD589/MD589_lossless_unsorted_alignedTo_MD589-IHC31-2015.07.30-23.26.22_MD589_1_0091_cropped_compressed/MD589-IHC40-2015.07.31-00.02.21_MD589_1_0118_lossless_alignedTo_MD589-IHC31-2015.07.30-23.26.22_MD589_1_0091_cropped_compressed.jpg /home/yuncong/csd395/CSHL_cells_v2/detected_cells/MD589/MD589-IHC40-2015.07.31-00.02.21_MD589_1_0118/MD589-IHC40-2015.07.31-00.02.21_MD589_1_0118_image.jpg\n"
     ]
    },
    {
     "name": "stderr",
     "output_type": "stream",
     "text": [
      "Child returned 0\n",
      "Load mask: 9.65\n",
      "regionprops: 2.28\n",
      "64957 blobs identified.\n",
      "Save blob coords: 3.27\n",
      "Save blob masks: 7.07\n",
      "Save blob contours, save: 10.39\n",
      "Compute blob properties, save: 13.77\n",
      "Processing section: 216\n"
     ]
    },
    {
     "name": "stdout",
     "output_type": "stream",
     "text": [
      "cp /oasis/projects/nsf/csd395/yuncong/CSHL_data_processed/MD589/MD589_lossless_unsorted_alignedTo_MD589-IHC31-2015.07.30-23.26.22_MD589_1_0091_cropped_compressed/MD589-N40-2015.07.30-18.44.48_MD589_2_0119_lossless_alignedTo_MD589-IHC31-2015.07.30-23.26.22_MD589_1_0091_cropped_compressed.jpg /home/yuncong/csd395/CSHL_cells_v2/detected_cells/MD589/MD589-N40-2015.07.30-18.44.48_MD589_2_0119/MD589-N40-2015.07.30-18.44.48_MD589_2_0119_image.jpg\n"
     ]
    },
    {
     "name": "stderr",
     "output_type": "stream",
     "text": [
      "Child returned 0\n",
      "Load mask: 9.66\n",
      "regionprops: 2.31\n",
      "65431 blobs identified.\n",
      "Save blob coords: 3.32\n",
      "Save blob masks: 7.18\n",
      "Save blob contours, save: 10.63\n",
      "Compute blob properties, save: 14.31\n",
      "Processing section: 217\n"
     ]
    },
    {
     "name": "stdout",
     "output_type": "stream",
     "text": [
      "cp /oasis/projects/nsf/csd395/yuncong/CSHL_data_processed/MD589/MD589_lossless_unsorted_alignedTo_MD589-IHC31-2015.07.30-23.26.22_MD589_1_0091_cropped_compressed/MD589-IHC40-2015.07.31-00.02.21_MD589_2_0119_lossless_alignedTo_MD589-IHC31-2015.07.30-23.26.22_MD589_1_0091_cropped_compressed.jpg /home/yuncong/csd395/CSHL_cells_v2/detected_cells/MD589/MD589-IHC40-2015.07.31-00.02.21_MD589_2_0119/MD589-IHC40-2015.07.31-00.02.21_MD589_2_0119_image.jpg\n"
     ]
    },
    {
     "name": "stderr",
     "output_type": "stream",
     "text": [
      "Child returned 0\n",
      "Load mask: 9.64\n",
      "regionprops: 1.91\n",
      "64931 blobs identified.\n",
      "Save blob coords: 3.26\n",
      "Save blob masks: 7.35\n",
      "Save blob contours, save: 10.43\n",
      "Compute blob properties, save: 13.78\n",
      "Processing section: 218\n"
     ]
    },
    {
     "name": "stdout",
     "output_type": "stream",
     "text": [
      "cp /oasis/projects/nsf/csd395/yuncong/CSHL_data_processed/MD589/MD589_lossless_unsorted_alignedTo_MD589-IHC31-2015.07.30-23.26.22_MD589_1_0091_cropped_compressed/MD589-N41-2015.07.30-18.48.44_MD589_1_0121_lossless_alignedTo_MD589-IHC31-2015.07.30-23.26.22_MD589_1_0091_cropped_compressed.jpg /home/yuncong/csd395/CSHL_cells_v2/detected_cells/MD589/MD589-N41-2015.07.30-18.48.44_MD589_1_0121/MD589-N41-2015.07.30-18.48.44_MD589_1_0121_image.jpg\n"
     ]
    },
    {
     "name": "stderr",
     "output_type": "stream",
     "text": [
      "Child returned 0\n",
      "Load mask: 9.64\n",
      "regionprops: 2.26\n",
      "65237 blobs identified.\n",
      "Save blob coords: 3.77\n",
      "Save blob masks: 7.62\n",
      "Save blob contours, save: 10.60\n",
      "Compute blob properties, save: 15.03\n",
      "Processing section: 219\n"
     ]
    },
    {
     "name": "stdout",
     "output_type": "stream",
     "text": [
      "cp /oasis/projects/nsf/csd395/yuncong/CSHL_data_processed/MD589/MD589_lossless_unsorted_alignedTo_MD589-IHC31-2015.07.30-23.26.22_MD589_1_0091_cropped_compressed/MD589-IHC41-2015.07.31-00.06.24_MD589_1_0121_lossless_alignedTo_MD589-IHC31-2015.07.30-23.26.22_MD589_1_0091_cropped_compressed.jpg /home/yuncong/csd395/CSHL_cells_v2/detected_cells/MD589/MD589-IHC41-2015.07.31-00.06.24_MD589_1_0121/MD589-IHC41-2015.07.31-00.06.24_MD589_1_0121_image.jpg\n"
     ]
    },
    {
     "name": "stderr",
     "output_type": "stream",
     "text": [
      "Child returned 0\n",
      "Load mask: 9.65\n",
      "regionprops: 2.32\n",
      "77207 blobs identified.\n",
      "Save blob coords: 4.01\n",
      "Save blob masks: 8.56\n",
      "Save blob contours, save: 12.27\n",
      "Compute blob properties, save: 16.52\n",
      "Processing section: 220\n"
     ]
    },
    {
     "name": "stdout",
     "output_type": "stream",
     "text": [
      "cp /oasis/projects/nsf/csd395/yuncong/CSHL_data_processed/MD589/MD589_lossless_unsorted_alignedTo_MD589-IHC31-2015.07.30-23.26.22_MD589_1_0091_cropped_compressed/MD589-N41-2015.07.30-18.48.44_MD589_2_0122_lossless_alignedTo_MD589-IHC31-2015.07.30-23.26.22_MD589_1_0091_cropped_compressed.jpg /home/yuncong/csd395/CSHL_cells_v2/detected_cells/MD589/MD589-N41-2015.07.30-18.48.44_MD589_2_0122/MD589-N41-2015.07.30-18.48.44_MD589_2_0122_image.jpg\n"
     ]
    },
    {
     "name": "stderr",
     "output_type": "stream",
     "text": [
      "Child returned 0\n",
      "Load mask: 9.64\n",
      "regionprops: 2.39\n",
      "61232 blobs identified.\n",
      "Save blob coords: 3.13\n",
      "Save blob masks: 6.74\n",
      "Save blob contours, save: 9.96\n",
      "Compute blob properties, save: 13.31\n",
      "Processing section: 222\n"
     ]
    },
    {
     "name": "stdout",
     "output_type": "stream",
     "text": [
      "cp /oasis/projects/nsf/csd395/yuncong/CSHL_data_processed/MD589/MD589_lossless_unsorted_alignedTo_MD589-IHC31-2015.07.30-23.26.22_MD589_1_0091_cropped_compressed/MD589-N42-2015.07.30-18.52.37_MD589_1_0124_lossless_alignedTo_MD589-IHC31-2015.07.30-23.26.22_MD589_1_0091_cropped_compressed.jpg /home/yuncong/csd395/CSHL_cells_v2/detected_cells/MD589/MD589-N42-2015.07.30-18.52.37_MD589_1_0124/MD589-N42-2015.07.30-18.52.37_MD589_1_0124_image.jpg\n"
     ]
    },
    {
     "name": "stderr",
     "output_type": "stream",
     "text": [
      "Child returned 0\n",
      "Load mask: 9.64\n",
      "regionprops: 2.23\n",
      "62552 blobs identified.\n",
      "Save blob coords: 3.24\n",
      "Save blob masks: 7.02\n",
      "Save blob contours, save: 10.32\n",
      "Compute blob properties, save: 13.74\n",
      "Processing section: 223\n"
     ]
    },
    {
     "name": "stdout",
     "output_type": "stream",
     "text": [
      "cp /oasis/projects/nsf/csd395/yuncong/CSHL_data_processed/MD589/MD589_lossless_unsorted_alignedTo_MD589-IHC31-2015.07.30-23.26.22_MD589_1_0091_cropped_compressed/MD589-IHC42-2015.07.31-00.10.45_MD589_1_0124_lossless_alignedTo_MD589-IHC31-2015.07.30-23.26.22_MD589_1_0091_cropped_compressed.jpg /home/yuncong/csd395/CSHL_cells_v2/detected_cells/MD589/MD589-IHC42-2015.07.31-00.10.45_MD589_1_0124/MD589-IHC42-2015.07.31-00.10.45_MD589_1_0124_image.jpg\n"
     ]
    },
    {
     "name": "stderr",
     "output_type": "stream",
     "text": [
      "Child returned 0\n",
      "Load mask: 9.65\n",
      "regionprops: 2.47\n",
      "81447 blobs identified.\n",
      "Save blob coords: 4.27\n",
      "Save blob masks: 9.56\n",
      "Save blob contours, save: 12.99\n",
      "Compute blob properties, save: 17.82\n",
      "Processing section: 224\n"
     ]
    },
    {
     "name": "stdout",
     "output_type": "stream",
     "text": [
      "cp /oasis/projects/nsf/csd395/yuncong/CSHL_data_processed/MD589/MD589_lossless_unsorted_alignedTo_MD589-IHC31-2015.07.30-23.26.22_MD589_1_0091_cropped_compressed/MD589-N42-2015.07.30-18.52.37_MD589_2_0125_lossless_alignedTo_MD589-IHC31-2015.07.30-23.26.22_MD589_1_0091_cropped_compressed.jpg /home/yuncong/csd395/CSHL_cells_v2/detected_cells/MD589/MD589-N42-2015.07.30-18.52.37_MD589_2_0125/MD589-N42-2015.07.30-18.52.37_MD589_2_0125_image.jpg\n"
     ]
    },
    {
     "name": "stderr",
     "output_type": "stream",
     "text": [
      "Child returned 0\n",
      "Load mask: 9.64\n",
      "regionprops: 2.65\n",
      "80520 blobs identified.\n",
      "Save blob coords: 4.24\n",
      "Save blob masks: 9.02\n",
      "Save blob contours, save: 12.74\n",
      "Compute blob properties, save: 17.51\n",
      "Processing section: 225\n"
     ]
    },
    {
     "name": "stdout",
     "output_type": "stream",
     "text": [
      "cp /oasis/projects/nsf/csd395/yuncong/CSHL_data_processed/MD589/MD589_lossless_unsorted_alignedTo_MD589-IHC31-2015.07.30-23.26.22_MD589_1_0091_cropped_compressed/MD589-IHC42-2015.07.31-00.10.45_MD589_2_0125_lossless_alignedTo_MD589-IHC31-2015.07.30-23.26.22_MD589_1_0091_cropped_compressed.jpg /home/yuncong/csd395/CSHL_cells_v2/detected_cells/MD589/MD589-IHC42-2015.07.31-00.10.45_MD589_2_0125/MD589-IHC42-2015.07.31-00.10.45_MD589_2_0125_image.jpg\n"
     ]
    },
    {
     "name": "stderr",
     "output_type": "stream",
     "text": [
      "Child returned 0\n",
      "Load mask: 9.66\n",
      "regionprops: 2.54\n",
      "79823 blobs identified.\n",
      "Save blob coords: 4.16\n",
      "Save blob masks: 8.96\n",
      "Save blob contours, save: 12.90\n",
      "Compute blob properties, save: 17.40\n",
      "Processing section: 226\n"
     ]
    },
    {
     "name": "stdout",
     "output_type": "stream",
     "text": [
      "cp /oasis/projects/nsf/csd395/yuncong/CSHL_data_processed/MD589/MD589_lossless_unsorted_alignedTo_MD589-IHC31-2015.07.30-23.26.22_MD589_1_0091_cropped_compressed/MD589-N43-2015.07.30-18.56.33_MD589_1_0127_lossless_alignedTo_MD589-IHC31-2015.07.30-23.26.22_MD589_1_0091_cropped_compressed.jpg /home/yuncong/csd395/CSHL_cells_v2/detected_cells/MD589/MD589-N43-2015.07.30-18.56.33_MD589_1_0127/MD589-N43-2015.07.30-18.56.33_MD589_1_0127_image.jpg\n"
     ]
    },
    {
     "name": "stderr",
     "output_type": "stream",
     "text": [
      "Child returned 0\n",
      "Load mask: 9.64\n",
      "regionprops: 2.59\n",
      "79663 blobs identified.\n",
      "Save blob coords: 4.26\n",
      "Save blob masks: 9.03\n",
      "Save blob contours, save: 12.70\n",
      "Compute blob properties, save: 17.73\n",
      "Processing section: 227\n"
     ]
    },
    {
     "name": "stdout",
     "output_type": "stream",
     "text": [
      "cp /oasis/projects/nsf/csd395/yuncong/CSHL_data_processed/MD589/MD589_lossless_unsorted_alignedTo_MD589-IHC31-2015.07.30-23.26.22_MD589_1_0091_cropped_compressed/MD589-IHC43-2015.07.31-00.14.56_MD589_1_0127_lossless_alignedTo_MD589-IHC31-2015.07.30-23.26.22_MD589_1_0091_cropped_compressed.jpg /home/yuncong/csd395/CSHL_cells_v2/detected_cells/MD589/MD589-IHC43-2015.07.31-00.14.56_MD589_1_0127/MD589-IHC43-2015.07.31-00.14.56_MD589_1_0127_image.jpg\n"
     ]
    },
    {
     "name": "stderr",
     "output_type": "stream",
     "text": [
      "Child returned 0\n",
      "Load mask: 9.64\n",
      "regionprops: 2.57\n",
      "80865 blobs identified.\n",
      "Save blob coords: 4.26\n",
      "Save blob masks: 9.08\n",
      "Save blob contours, save: 12.93\n",
      "Compute blob properties, save: 17.65\n",
      "Processing section: 228\n"
     ]
    },
    {
     "name": "stdout",
     "output_type": "stream",
     "text": [
      "cp /oasis/projects/nsf/csd395/yuncong/CSHL_data_processed/MD589/MD589_lossless_unsorted_alignedTo_MD589-IHC31-2015.07.30-23.26.22_MD589_1_0091_cropped_compressed/MD589-N43-2015.07.30-18.56.33_MD589_2_0128_lossless_alignedTo_MD589-IHC31-2015.07.30-23.26.22_MD589_1_0091_cropped_compressed.jpg /home/yuncong/csd395/CSHL_cells_v2/detected_cells/MD589/MD589-N43-2015.07.30-18.56.33_MD589_2_0128/MD589-N43-2015.07.30-18.56.33_MD589_2_0128_image.jpg\n"
     ]
    },
    {
     "name": "stderr",
     "output_type": "stream",
     "text": [
      "Child returned 0\n",
      "Load mask: 9.64\n",
      "regionprops: 2.11\n",
      "79691 blobs identified.\n",
      "Save blob coords: 4.04\n",
      "Save blob masks: 9.01\n",
      "Save blob contours, save: 12.66\n",
      "Compute blob properties, save: 17.06\n",
      "Processing section: 229\n"
     ]
    },
    {
     "name": "stdout",
     "output_type": "stream",
     "text": [
      "cp /oasis/projects/nsf/csd395/yuncong/CSHL_data_processed/MD589/MD589_lossless_unsorted_alignedTo_MD589-IHC31-2015.07.30-23.26.22_MD589_1_0091_cropped_compressed/MD589-IHC43-2015.07.31-00.14.56_MD589_2_0128_lossless_alignedTo_MD589-IHC31-2015.07.30-23.26.22_MD589_1_0091_cropped_compressed.jpg /home/yuncong/csd395/CSHL_cells_v2/detected_cells/MD589/MD589-IHC43-2015.07.31-00.14.56_MD589_2_0128/MD589-IHC43-2015.07.31-00.14.56_MD589_2_0128_image.jpg\n"
     ]
    },
    {
     "name": "stderr",
     "output_type": "stream",
     "text": [
      "Child returned 0\n",
      "Load mask: 9.64\n",
      "regionprops: 2.51\n",
      "80130 blobs identified.\n",
      "Save blob coords: 4.06\n",
      "Save blob masks: 8.80\n",
      "Save blob contours, save: 12.62\n",
      "Compute blob properties, save: 17.14\n",
      "Processing section: 230\n"
     ]
    },
    {
     "name": "stdout",
     "output_type": "stream",
     "text": [
      "cp /oasis/projects/nsf/csd395/yuncong/CSHL_data_processed/MD589/MD589_lossless_unsorted_alignedTo_MD589-IHC31-2015.07.30-23.26.22_MD589_1_0091_cropped_compressed/MD589-N44-2015.07.30-19.00.35_MD589_1_0130_lossless_alignedTo_MD589-IHC31-2015.07.30-23.26.22_MD589_1_0091_cropped_compressed.jpg /home/yuncong/csd395/CSHL_cells_v2/detected_cells/MD589/MD589-N44-2015.07.30-19.00.35_MD589_1_0130/MD589-N44-2015.07.30-19.00.35_MD589_1_0130_image.jpg\n"
     ]
    },
    {
     "name": "stderr",
     "output_type": "stream",
     "text": [
      "Child returned 0\n",
      "Load mask: 9.65\n",
      "regionprops: 2.53\n",
      "78156 blobs identified.\n",
      "Save blob coords: 4.10\n",
      "Save blob masks: 8.87\n",
      "Save blob contours, save: 12.63\n",
      "Compute blob properties, save: 17.30\n",
      "Processing section: 231\n"
     ]
    },
    {
     "name": "stdout",
     "output_type": "stream",
     "text": [
      "cp /oasis/projects/nsf/csd395/yuncong/CSHL_data_processed/MD589/MD589_lossless_unsorted_alignedTo_MD589-IHC31-2015.07.30-23.26.22_MD589_1_0091_cropped_compressed/MD589-IHC44-2015.07.31-00.18.50_MD589_1_0130_lossless_alignedTo_MD589-IHC31-2015.07.30-23.26.22_MD589_1_0091_cropped_compressed.jpg /home/yuncong/csd395/CSHL_cells_v2/detected_cells/MD589/MD589-IHC44-2015.07.31-00.18.50_MD589_1_0130/MD589-IHC44-2015.07.31-00.18.50_MD589_1_0130_image.jpg\n"
     ]
    },
    {
     "name": "stderr",
     "output_type": "stream",
     "text": [
      "Child returned 0\n",
      "Load mask: 9.65\n",
      "regionprops: 2.11\n",
      "84064 blobs identified.\n",
      "Save blob coords: 4.29\n",
      "Save blob masks: 9.47\n",
      "Save blob contours, save: 13.63\n",
      "Compute blob properties, save: 18.09\n",
      "Processing section: 232\n"
     ]
    },
    {
     "name": "stdout",
     "output_type": "stream",
     "text": [
      "cp /oasis/projects/nsf/csd395/yuncong/CSHL_data_processed/MD589/MD589_lossless_unsorted_alignedTo_MD589-IHC31-2015.07.30-23.26.22_MD589_1_0091_cropped_compressed/MD589-N44-2015.07.30-19.00.35_MD589_2_0131_lossless_alignedTo_MD589-IHC31-2015.07.30-23.26.22_MD589_1_0091_cropped_compressed.jpg /home/yuncong/csd395/CSHL_cells_v2/detected_cells/MD589/MD589-N44-2015.07.30-19.00.35_MD589_2_0131/MD589-N44-2015.07.30-19.00.35_MD589_2_0131_image.jpg\n"
     ]
    },
    {
     "name": "stderr",
     "output_type": "stream",
     "text": [
      "Child returned 0\n",
      "Load mask: 9.64\n",
      "regionprops: 2.17\n",
      "83732 blobs identified.\n",
      "Save blob coords: 4.23\n",
      "Save blob masks: 9.33\n",
      "Save blob contours, save: 13.54\n",
      "Compute blob properties, save: 18.04\n",
      "Processing section: 233\n"
     ]
    },
    {
     "name": "stdout",
     "output_type": "stream",
     "text": [
      "cp /oasis/projects/nsf/csd395/yuncong/CSHL_data_processed/MD589/MD589_lossless_unsorted_alignedTo_MD589-IHC31-2015.07.30-23.26.22_MD589_1_0091_cropped_compressed/MD589-IHC44-2015.07.31-00.18.50_MD589_2_0131_lossless_alignedTo_MD589-IHC31-2015.07.30-23.26.22_MD589_1_0091_cropped_compressed.jpg /home/yuncong/csd395/CSHL_cells_v2/detected_cells/MD589/MD589-IHC44-2015.07.31-00.18.50_MD589_2_0131/MD589-IHC44-2015.07.31-00.18.50_MD589_2_0131_image.jpg\n"
     ]
    },
    {
     "name": "stderr",
     "output_type": "stream",
     "text": [
      "Child returned 0\n",
      "Load mask: 9.65\n",
      "regionprops: 2.71\n",
      "83895 blobs identified.\n",
      "Save blob coords: 4.30\n",
      "Save blob masks: 9.18\n",
      "Save blob contours, save: 13.28\n",
      "Compute blob properties, save: 18.54\n",
      "Processing section: 234\n"
     ]
    },
    {
     "name": "stdout",
     "output_type": "stream",
     "text": [
      "cp /oasis/projects/nsf/csd395/yuncong/CSHL_data_processed/MD589/MD589_lossless_unsorted_alignedTo_MD589-IHC31-2015.07.30-23.26.22_MD589_1_0091_cropped_compressed/MD589-N45-2015.07.30-19.04.31_MD589_1_0133_lossless_alignedTo_MD589-IHC31-2015.07.30-23.26.22_MD589_1_0091_cropped_compressed.jpg /home/yuncong/csd395/CSHL_cells_v2/detected_cells/MD589/MD589-N45-2015.07.30-19.04.31_MD589_1_0133/MD589-N45-2015.07.30-19.04.31_MD589_1_0133_image.jpg\n"
     ]
    },
    {
     "name": "stderr",
     "output_type": "stream",
     "text": [
      "Child returned 0\n",
      "Load mask: 9.64\n",
      "regionprops: 2.17\n",
      "81490 blobs identified.\n",
      "Save blob coords: 4.20\n",
      "Save blob masks: 9.11\n",
      "Save blob contours, save: 13.54\n",
      "Compute blob properties, save: 17.17\n",
      "Processing section: 235\n"
     ]
    },
    {
     "name": "stdout",
     "output_type": "stream",
     "text": [
      "cp /oasis/projects/nsf/csd395/yuncong/CSHL_data_processed/MD589/MD589_lossless_unsorted_alignedTo_MD589-IHC31-2015.07.30-23.26.22_MD589_1_0091_cropped_compressed/MD589-IHC45-2015.07.31-00.23.02_MD589_1_0133_lossless_alignedTo_MD589-IHC31-2015.07.30-23.26.22_MD589_1_0091_cropped_compressed.jpg /home/yuncong/csd395/CSHL_cells_v2/detected_cells/MD589/MD589-IHC45-2015.07.31-00.23.02_MD589_1_0133/MD589-IHC45-2015.07.31-00.23.02_MD589_1_0133_image.jpg\n"
     ]
    },
    {
     "name": "stderr",
     "output_type": "stream",
     "text": [
      "Child returned 0\n",
      "Load mask: 9.65\n",
      "regionprops: 2.45\n",
      "83438 blobs identified.\n",
      "Save blob coords: 4.17\n",
      "Save blob masks: 9.16\n",
      "Save blob contours, save: 13.38\n",
      "Compute blob properties, save: 17.51\n",
      "Processing section: 236\n"
     ]
    },
    {
     "name": "stdout",
     "output_type": "stream",
     "text": [
      "cp /oasis/projects/nsf/csd395/yuncong/CSHL_data_processed/MD589/MD589_lossless_unsorted_alignedTo_MD589-IHC31-2015.07.30-23.26.22_MD589_1_0091_cropped_compressed/MD589-N45-2015.07.30-19.04.31_MD589_2_0134_lossless_alignedTo_MD589-IHC31-2015.07.30-23.26.22_MD589_1_0091_cropped_compressed.jpg /home/yuncong/csd395/CSHL_cells_v2/detected_cells/MD589/MD589-N45-2015.07.30-19.04.31_MD589_2_0134/MD589-N45-2015.07.30-19.04.31_MD589_2_0134_image.jpg\n"
     ]
    },
    {
     "name": "stderr",
     "output_type": "stream",
     "text": [
      "Child returned 0\n",
      "Load mask: 9.64\n",
      "regionprops: 2.60\n",
      "82942 blobs identified.\n",
      "Save blob coords: 4.10\n",
      "Save blob masks: 9.29\n",
      "Save blob contours, save: 13.26\n",
      "Compute blob properties, save: 17.84\n",
      "Processing section: 237\n"
     ]
    },
    {
     "name": "stdout",
     "output_type": "stream",
     "text": [
      "cp /oasis/projects/nsf/csd395/yuncong/CSHL_data_processed/MD589/MD589_lossless_unsorted_alignedTo_MD589-IHC31-2015.07.30-23.26.22_MD589_1_0091_cropped_compressed/MD589-IHC45-2015.07.31-00.23.02_MD589_2_0134_lossless_alignedTo_MD589-IHC31-2015.07.30-23.26.22_MD589_1_0091_cropped_compressed.jpg /home/yuncong/csd395/CSHL_cells_v2/detected_cells/MD589/MD589-IHC45-2015.07.31-00.23.02_MD589_2_0134/MD589-IHC45-2015.07.31-00.23.02_MD589_2_0134_image.jpg\n"
     ]
    },
    {
     "name": "stderr",
     "output_type": "stream",
     "text": [
      "Child returned 0\n",
      "Load mask: 9.65\n",
      "regionprops: 2.57\n",
      "85003 blobs identified.\n",
      "Save blob coords: 4.27\n",
      "Save blob masks: 9.48\n",
      "Save blob contours, save: 13.38\n",
      "Compute blob properties, save: 18.26\n",
      "Processing section: 238\n"
     ]
    },
    {
     "name": "stdout",
     "output_type": "stream",
     "text": [
      "cp /oasis/projects/nsf/csd395/yuncong/CSHL_data_processed/MD589/MD589_lossless_unsorted_alignedTo_MD589-IHC31-2015.07.30-23.26.22_MD589_1_0091_cropped_compressed/MD589-N46-2015.07.30-19.08.29_MD589_1_0136_lossless_alignedTo_MD589-IHC31-2015.07.30-23.26.22_MD589_1_0091_cropped_compressed.jpg /home/yuncong/csd395/CSHL_cells_v2/detected_cells/MD589/MD589-N46-2015.07.30-19.08.29_MD589_1_0136/MD589-N46-2015.07.30-19.08.29_MD589_1_0136_image.jpg\n"
     ]
    },
    {
     "name": "stderr",
     "output_type": "stream",
     "text": [
      "Child returned 0\n",
      "Load mask: 9.65\n",
      "regionprops: 2.68\n",
      "84299 blobs identified.\n",
      "Save blob coords: 4.73\n",
      "Save blob masks: 9.71\n",
      "Save blob contours, save: 13.60\n",
      "Compute blob properties, save: 18.67\n",
      "Processing section: 239\n"
     ]
    },
    {
     "name": "stdout",
     "output_type": "stream",
     "text": [
      "cp /oasis/projects/nsf/csd395/yuncong/CSHL_data_processed/MD589/MD589_lossless_unsorted_alignedTo_MD589-IHC31-2015.07.30-23.26.22_MD589_1_0091_cropped_compressed/MD589-IHC46-2015.07.31-00.27.07_MD589_1_0136_lossless_alignedTo_MD589-IHC31-2015.07.30-23.26.22_MD589_1_0091_cropped_compressed.jpg /home/yuncong/csd395/CSHL_cells_v2/detected_cells/MD589/MD589-IHC46-2015.07.31-00.27.07_MD589_1_0136/MD589-IHC46-2015.07.31-00.27.07_MD589_1_0136_image.jpg\n"
     ]
    },
    {
     "name": "stderr",
     "output_type": "stream",
     "text": [
      "Child returned 0\n",
      "Load mask: 9.64\n",
      "regionprops: 2.05\n",
      "81680 blobs identified.\n",
      "Save blob coords: 3.94\n",
      "Save blob masks: 8.97\n",
      "Save blob contours, save: 13.04\n",
      "Compute blob properties, save: 17.32\n",
      "Processing section: 240\n"
     ]
    },
    {
     "name": "stdout",
     "output_type": "stream",
     "text": [
      "cp /oasis/projects/nsf/csd395/yuncong/CSHL_data_processed/MD589/MD589_lossless_unsorted_alignedTo_MD589-IHC31-2015.07.30-23.26.22_MD589_1_0091_cropped_compressed/MD589-N46-2015.07.30-19.08.29_MD589_2_0137_lossless_alignedTo_MD589-IHC31-2015.07.30-23.26.22_MD589_1_0091_cropped_compressed.jpg /home/yuncong/csd395/CSHL_cells_v2/detected_cells/MD589/MD589-N46-2015.07.30-19.08.29_MD589_2_0137/MD589-N46-2015.07.30-19.08.29_MD589_2_0137_image.jpg\n"
     ]
    },
    {
     "name": "stderr",
     "output_type": "stream",
     "text": [
      "Child returned 0\n",
      "Load mask: 9.89\n",
      "regionprops: 2.54\n",
      "82159 blobs identified.\n",
      "Save blob coords: 4.07\n",
      "Save blob masks: 8.88\n",
      "Save blob contours, save: 13.56\n",
      "Compute blob properties, save: 16.93\n",
      "Processing section: 241\n"
     ]
    },
    {
     "name": "stdout",
     "output_type": "stream",
     "text": [
      "cp /oasis/projects/nsf/csd395/yuncong/CSHL_data_processed/MD589/MD589_lossless_unsorted_alignedTo_MD589-IHC31-2015.07.30-23.26.22_MD589_1_0091_cropped_compressed/MD589-IHC46-2015.07.31-00.27.07_MD589_2_0137_lossless_alignedTo_MD589-IHC31-2015.07.30-23.26.22_MD589_1_0091_cropped_compressed.jpg /home/yuncong/csd395/CSHL_cells_v2/detected_cells/MD589/MD589-IHC46-2015.07.31-00.27.07_MD589_2_0137/MD589-IHC46-2015.07.31-00.27.07_MD589_2_0137_image.jpg\n"
     ]
    },
    {
     "name": "stderr",
     "output_type": "stream",
     "text": [
      "Child returned 0\n",
      "Load mask: 9.93\n",
      "regionprops: 2.53\n",
      "80469 blobs identified.\n",
      "Save blob coords: 3.93\n",
      "Save blob masks: 8.76\n",
      "Save blob contours, save: 12.87\n",
      "Compute blob properties, save: 17.10\n",
      "Processing section: 242\n"
     ]
    },
    {
     "name": "stdout",
     "output_type": "stream",
     "text": [
      "cp /oasis/projects/nsf/csd395/yuncong/CSHL_data_processed/MD589/MD589_lossless_unsorted_alignedTo_MD589-IHC31-2015.07.30-23.26.22_MD589_1_0091_cropped_compressed/MD589-N47-2015.07.30-19.12.19_MD589_1_0139_lossless_alignedTo_MD589-IHC31-2015.07.30-23.26.22_MD589_1_0091_cropped_compressed.jpg /home/yuncong/csd395/CSHL_cells_v2/detected_cells/MD589/MD589-N47-2015.07.30-19.12.19_MD589_1_0139/MD589-N47-2015.07.30-19.12.19_MD589_1_0139_image.jpg\n"
     ]
    },
    {
     "name": "stderr",
     "output_type": "stream",
     "text": [
      "Child returned 0\n",
      "Load mask: 9.72\n",
      "regionprops: 2.13\n",
      "80587 blobs identified.\n",
      "Save blob coords: 3.91\n",
      "Save blob masks: 8.96\n",
      "Save blob contours, save: 12.44\n",
      "Compute blob properties, save: 17.60\n",
      "Processing section: 243\n"
     ]
    },
    {
     "name": "stdout",
     "output_type": "stream",
     "text": [
      "cp /oasis/projects/nsf/csd395/yuncong/CSHL_data_processed/MD589/MD589_lossless_unsorted_alignedTo_MD589-IHC31-2015.07.30-23.26.22_MD589_1_0091_cropped_compressed/MD589-IHC47-2015.07.31-00.31.08_MD589_1_0139_lossless_alignedTo_MD589-IHC31-2015.07.30-23.26.22_MD589_1_0091_cropped_compressed.jpg /home/yuncong/csd395/CSHL_cells_v2/detected_cells/MD589/MD589-IHC47-2015.07.31-00.31.08_MD589_1_0139/MD589-IHC47-2015.07.31-00.31.08_MD589_1_0139_image.jpg\n"
     ]
    },
    {
     "name": "stderr",
     "output_type": "stream",
     "text": [
      "Child returned 0\n",
      "Load mask: 9.63\n",
      "regionprops: 2.12\n",
      "86025 blobs identified.\n",
      "Save blob coords: 4.17\n",
      "Save blob masks: 9.44\n",
      "Save blob contours, save: 13.71\n",
      "Compute blob properties, save: 18.14\n",
      "Processing section: 244\n"
     ]
    },
    {
     "name": "stdout",
     "output_type": "stream",
     "text": [
      "cp /oasis/projects/nsf/csd395/yuncong/CSHL_data_processed/MD589/MD589_lossless_unsorted_alignedTo_MD589-IHC31-2015.07.30-23.26.22_MD589_1_0091_cropped_compressed/MD589-N47-2015.07.30-19.12.19_MD589_2_0140_lossless_alignedTo_MD589-IHC31-2015.07.30-23.26.22_MD589_1_0091_cropped_compressed.jpg /home/yuncong/csd395/CSHL_cells_v2/detected_cells/MD589/MD589-N47-2015.07.30-19.12.19_MD589_2_0140/MD589-N47-2015.07.30-19.12.19_MD589_2_0140_image.jpg\n"
     ]
    },
    {
     "name": "stderr",
     "output_type": "stream",
     "text": [
      "Child returned 0\n",
      "Load mask: 9.65\n",
      "regionprops: 2.67\n",
      "87532 blobs identified.\n",
      "Save blob coords: 4.24\n",
      "Save blob masks: 9.39\n",
      "Save blob contours, save: 14.13\n",
      "Compute blob properties, save: 17.98\n",
      "Processing section: 245\n"
     ]
    },
    {
     "name": "stdout",
     "output_type": "stream",
     "text": [
      "cp /oasis/projects/nsf/csd395/yuncong/CSHL_data_processed/MD589/MD589_lossless_unsorted_alignedTo_MD589-IHC31-2015.07.30-23.26.22_MD589_1_0091_cropped_compressed/MD589-IHC47-2015.07.31-00.31.08_MD589_2_0140_lossless_alignedTo_MD589-IHC31-2015.07.30-23.26.22_MD589_1_0091_cropped_compressed.jpg /home/yuncong/csd395/CSHL_cells_v2/detected_cells/MD589/MD589-IHC47-2015.07.31-00.31.08_MD589_2_0140/MD589-IHC47-2015.07.31-00.31.08_MD589_2_0140_image.jpg\n"
     ]
    },
    {
     "name": "stderr",
     "output_type": "stream",
     "text": [
      "Child returned 0\n",
      "Load mask: 9.65\n",
      "regionprops: 2.67\n",
      "85753 blobs identified.\n",
      "Save blob coords: 4.16\n",
      "Save blob masks: 9.23\n",
      "Save blob contours, save: 13.68\n",
      "Compute blob properties, save: 18.58\n",
      "Processing section: 246\n"
     ]
    },
    {
     "name": "stdout",
     "output_type": "stream",
     "text": [
      "cp /oasis/projects/nsf/csd395/yuncong/CSHL_data_processed/MD589/MD589_lossless_unsorted_alignedTo_MD589-IHC31-2015.07.30-23.26.22_MD589_1_0091_cropped_compressed/MD589-N48-2015.07.30-19.16.21_MD589_1_0142_lossless_alignedTo_MD589-IHC31-2015.07.30-23.26.22_MD589_1_0091_cropped_compressed.jpg /home/yuncong/csd395/CSHL_cells_v2/detected_cells/MD589/MD589-N48-2015.07.30-19.16.21_MD589_1_0142/MD589-N48-2015.07.30-19.16.21_MD589_1_0142_image.jpg\n"
     ]
    },
    {
     "name": "stderr",
     "output_type": "stream",
     "text": [
      "Child returned 0\n",
      "Load mask: 9.64\n",
      "regionprops: 2.56\n",
      "87949 blobs identified.\n",
      "Save blob coords: 4.29\n",
      "Save blob masks: 9.52\n",
      "Save blob contours, save: 13.99\n",
      "Compute blob properties, save: 18.15\n",
      "Processing section: 247\n"
     ]
    },
    {
     "name": "stdout",
     "output_type": "stream",
     "text": [
      "cp /oasis/projects/nsf/csd395/yuncong/CSHL_data_processed/MD589/MD589_lossless_unsorted_alignedTo_MD589-IHC31-2015.07.30-23.26.22_MD589_1_0091_cropped_compressed/MD589-IHC48-2015.07.31-00.35.14_MD589_1_0142_lossless_alignedTo_MD589-IHC31-2015.07.30-23.26.22_MD589_1_0091_cropped_compressed.jpg /home/yuncong/csd395/CSHL_cells_v2/detected_cells/MD589/MD589-IHC48-2015.07.31-00.35.14_MD589_1_0142/MD589-IHC48-2015.07.31-00.35.14_MD589_1_0142_image.jpg\n"
     ]
    },
    {
     "name": "stderr",
     "output_type": "stream",
     "text": [
      "Child returned 0\n",
      "Load mask: 9.64\n",
      "regionprops: 2.62\n",
      "86647 blobs identified.\n",
      "Save blob coords: 4.17\n",
      "Save blob masks: 9.37\n",
      "Save blob contours, save: 13.77\n",
      "Compute blob properties, save: 18.58\n",
      "Processing section: 248\n"
     ]
    },
    {
     "name": "stdout",
     "output_type": "stream",
     "text": [
      "cp /oasis/projects/nsf/csd395/yuncong/CSHL_data_processed/MD589/MD589_lossless_unsorted_alignedTo_MD589-IHC31-2015.07.30-23.26.22_MD589_1_0091_cropped_compressed/MD589-N48-2015.07.30-19.16.21_MD589_2_0143_lossless_alignedTo_MD589-IHC31-2015.07.30-23.26.22_MD589_1_0091_cropped_compressed.jpg /home/yuncong/csd395/CSHL_cells_v2/detected_cells/MD589/MD589-N48-2015.07.30-19.16.21_MD589_2_0143/MD589-N48-2015.07.30-19.16.21_MD589_2_0143_image.jpg\n"
     ]
    },
    {
     "name": "stderr",
     "output_type": "stream",
     "text": [
      "Child returned 0\n",
      "Load mask: 9.65\n",
      "regionprops: 2.12\n",
      "87529 blobs identified.\n",
      "Save blob coords: 4.18\n",
      "Save blob masks: 9.75\n",
      "Save blob contours, save: 13.71\n",
      "Compute blob properties, save: 18.84\n",
      "Processing section: 249\n"
     ]
    },
    {
     "name": "stdout",
     "output_type": "stream",
     "text": [
      "cp /oasis/projects/nsf/csd395/yuncong/CSHL_data_processed/MD589/MD589_lossless_unsorted_alignedTo_MD589-IHC31-2015.07.30-23.26.22_MD589_1_0091_cropped_compressed/MD589-IHC48-2015.07.31-00.35.14_MD589_2_0143_lossless_alignedTo_MD589-IHC31-2015.07.30-23.26.22_MD589_1_0091_cropped_compressed.jpg /home/yuncong/csd395/CSHL_cells_v2/detected_cells/MD589/MD589-IHC48-2015.07.31-00.35.14_MD589_2_0143/MD589-IHC48-2015.07.31-00.35.14_MD589_2_0143_image.jpg\n"
     ]
    },
    {
     "name": "stderr",
     "output_type": "stream",
     "text": [
      "Child returned 0\n",
      "Load mask: 9.65\n",
      "regionprops: 2.12\n",
      "86316 blobs identified.\n",
      "Save blob coords: 4.13\n",
      "Save blob masks: 9.38\n",
      "Save blob contours, save: 13.62\n",
      "Compute blob properties, save: 18.51\n",
      "Processing section: 250\n"
     ]
    },
    {
     "name": "stdout",
     "output_type": "stream",
     "text": [
      "cp /oasis/projects/nsf/csd395/yuncong/CSHL_data_processed/MD589/MD589_lossless_unsorted_alignedTo_MD589-IHC31-2015.07.30-23.26.22_MD589_1_0091_cropped_compressed/MD589-N49-2015.07.30-19.20.15_MD589_1_0145_lossless_alignedTo_MD589-IHC31-2015.07.30-23.26.22_MD589_1_0091_cropped_compressed.jpg /home/yuncong/csd395/CSHL_cells_v2/detected_cells/MD589/MD589-N49-2015.07.30-19.20.15_MD589_1_0145/MD589-N49-2015.07.30-19.20.15_MD589_1_0145_image.jpg\n"
     ]
    },
    {
     "name": "stderr",
     "output_type": "stream",
     "text": [
      "Child returned 0\n",
      "Load mask: 9.64\n",
      "regionprops: 2.56\n",
      "86993 blobs identified.\n",
      "Save blob coords: 4.21\n",
      "Save blob masks: 9.36\n",
      "Save blob contours, save: 14.02\n",
      "Compute blob properties, save: 18.69\n",
      "Processing section: 251\n"
     ]
    },
    {
     "name": "stdout",
     "output_type": "stream",
     "text": [
      "cp /oasis/projects/nsf/csd395/yuncong/CSHL_data_processed/MD589/MD589_lossless_unsorted_alignedTo_MD589-IHC31-2015.07.30-23.26.22_MD589_1_0091_cropped_compressed/MD589-IHC49-2015.07.31-00.39.15_MD589_1_0145_lossless_alignedTo_MD589-IHC31-2015.07.30-23.26.22_MD589_1_0091_cropped_compressed.jpg /home/yuncong/csd395/CSHL_cells_v2/detected_cells/MD589/MD589-IHC49-2015.07.31-00.39.15_MD589_1_0145/MD589-IHC49-2015.07.31-00.39.15_MD589_1_0145_image.jpg\n"
     ]
    },
    {
     "name": "stderr",
     "output_type": "stream",
     "text": [
      "Child returned 0\n",
      "Load mask: 9.64\n",
      "regionprops: 2.17\n",
      "86371 blobs identified.\n",
      "Save blob coords: 4.21\n",
      "Save blob masks: 9.31\n",
      "Save blob contours, save: 13.85\n",
      "Compute blob properties, save: 18.39\n",
      "Processing section: 252\n"
     ]
    },
    {
     "name": "stdout",
     "output_type": "stream",
     "text": [
      "cp /oasis/projects/nsf/csd395/yuncong/CSHL_data_processed/MD589/MD589_lossless_unsorted_alignedTo_MD589-IHC31-2015.07.30-23.26.22_MD589_1_0091_cropped_compressed/MD589-N49-2015.07.30-19.20.15_MD589_2_0146_lossless_alignedTo_MD589-IHC31-2015.07.30-23.26.22_MD589_1_0091_cropped_compressed.jpg /home/yuncong/csd395/CSHL_cells_v2/detected_cells/MD589/MD589-N49-2015.07.30-19.20.15_MD589_2_0146/MD589-N49-2015.07.30-19.20.15_MD589_2_0146_image.jpg\n"
     ]
    },
    {
     "name": "stderr",
     "output_type": "stream",
     "text": [
      "Child returned 0\n",
      "Load mask: 9.69\n",
      "regionprops: 2.45\n",
      "87405 blobs identified.\n",
      "Save blob coords: 4.29\n",
      "Save blob masks: 9.50\n",
      "Save blob contours, save: 13.92\n",
      "Compute blob properties, save: 18.70\n",
      "Processing section: 253\n"
     ]
    },
    {
     "name": "stdout",
     "output_type": "stream",
     "text": [
      "cp /oasis/projects/nsf/csd395/yuncong/CSHL_data_processed/MD589/MD589_lossless_unsorted_alignedTo_MD589-IHC31-2015.07.30-23.26.22_MD589_1_0091_cropped_compressed/MD589-IHC49-2015.07.31-00.39.15_MD589_2_0146_lossless_alignedTo_MD589-IHC31-2015.07.30-23.26.22_MD589_1_0091_cropped_compressed.jpg /home/yuncong/csd395/CSHL_cells_v2/detected_cells/MD589/MD589-IHC49-2015.07.31-00.39.15_MD589_2_0146/MD589-IHC49-2015.07.31-00.39.15_MD589_2_0146_image.jpg\n"
     ]
    },
    {
     "name": "stderr",
     "output_type": "stream",
     "text": [
      "Child returned 0\n",
      "Load mask: 9.64\n",
      "regionprops: 2.21\n",
      "85220 blobs identified.\n",
      "Save blob coords: 4.17\n",
      "Save blob masks: 9.40\n",
      "Save blob contours, save: 13.91\n",
      "Compute blob properties, save: 18.14\n",
      "Processing section: 254\n"
     ]
    },
    {
     "name": "stdout",
     "output_type": "stream",
     "text": [
      "cp /oasis/projects/nsf/csd395/yuncong/CSHL_data_processed/MD589/MD589_lossless_unsorted_alignedTo_MD589-IHC31-2015.07.30-23.26.22_MD589_1_0091_cropped_compressed/MD589-N50-2015.07.30-19.24.13_MD589_1_0148_lossless_alignedTo_MD589-IHC31-2015.07.30-23.26.22_MD589_1_0091_cropped_compressed.jpg /home/yuncong/csd395/CSHL_cells_v2/detected_cells/MD589/MD589-N50-2015.07.30-19.24.13_MD589_1_0148/MD589-N50-2015.07.30-19.24.13_MD589_1_0148_image.jpg\n"
     ]
    },
    {
     "name": "stderr",
     "output_type": "stream",
     "text": [
      "Child returned 0\n",
      "Load mask: 9.67\n",
      "regionprops: 2.80\n",
      "87735 blobs identified.\n",
      "Save blob coords: 4.38\n",
      "Save blob masks: 9.54\n",
      "Save blob contours, save: 14.13\n",
      "Compute blob properties, save: 18.56\n",
      "Processing section: 255\n"
     ]
    },
    {
     "name": "stdout",
     "output_type": "stream",
     "text": [
      "cp /oasis/projects/nsf/csd395/yuncong/CSHL_data_processed/MD589/MD589_lossless_unsorted_alignedTo_MD589-IHC31-2015.07.30-23.26.22_MD589_1_0091_cropped_compressed/MD589-IHC50-2015.07.31-00.43.12_MD589_1_0148_lossless_alignedTo_MD589-IHC31-2015.07.30-23.26.22_MD589_1_0091_cropped_compressed.jpg /home/yuncong/csd395/CSHL_cells_v2/detected_cells/MD589/MD589-IHC50-2015.07.31-00.43.12_MD589_1_0148/MD589-IHC50-2015.07.31-00.43.12_MD589_1_0148_image.jpg\n"
     ]
    },
    {
     "name": "stderr",
     "output_type": "stream",
     "text": [
      "Child returned 0\n",
      "Load mask: 9.63\n",
      "regionprops: 2.86\n",
      "86632 blobs identified.\n",
      "Save blob coords: 4.20\n",
      "Save blob masks: 10.06\n",
      "Save blob contours, save: 13.94\n",
      "Compute blob properties, save: 18.50\n",
      "Processing section: 256\n"
     ]
    },
    {
     "name": "stdout",
     "output_type": "stream",
     "text": [
      "cp /oasis/projects/nsf/csd395/yuncong/CSHL_data_processed/MD589/MD589_lossless_unsorted_alignedTo_MD589-IHC31-2015.07.30-23.26.22_MD589_1_0091_cropped_compressed/MD589-N50-2015.07.30-19.24.13_MD589_2_0149_lossless_alignedTo_MD589-IHC31-2015.07.30-23.26.22_MD589_1_0091_cropped_compressed.jpg /home/yuncong/csd395/CSHL_cells_v2/detected_cells/MD589/MD589-N50-2015.07.30-19.24.13_MD589_2_0149/MD589-N50-2015.07.30-19.24.13_MD589_2_0149_image.jpg\n"
     ]
    },
    {
     "name": "stderr",
     "output_type": "stream",
     "text": [
      "Child returned 0\n",
      "Load mask: 9.67\n",
      "regionprops: 2.23\n",
      "88011 blobs identified.\n",
      "Save blob coords: 4.40\n",
      "Save blob masks: 9.89\n",
      "Save blob contours, save: 14.39\n",
      "Compute blob properties, save: 18.42\n",
      "Processing section: 257\n"
     ]
    },
    {
     "name": "stdout",
     "output_type": "stream",
     "text": [
      "cp /oasis/projects/nsf/csd395/yuncong/CSHL_data_processed/MD589/MD589_lossless_unsorted_alignedTo_MD589-IHC31-2015.07.30-23.26.22_MD589_1_0091_cropped_compressed/MD589-IHC50-2015.07.31-00.43.12_MD589_2_0149_lossless_alignedTo_MD589-IHC31-2015.07.30-23.26.22_MD589_1_0091_cropped_compressed.jpg /home/yuncong/csd395/CSHL_cells_v2/detected_cells/MD589/MD589-IHC50-2015.07.31-00.43.12_MD589_2_0149/MD589-IHC50-2015.07.31-00.43.12_MD589_2_0149_image.jpg\n"
     ]
    },
    {
     "name": "stderr",
     "output_type": "stream",
     "text": [
      "Child returned 0\n",
      "Load mask: 9.63\n",
      "regionprops: 2.64\n",
      "87441 blobs identified.\n",
      "Save blob coords: 4.21\n",
      "Save blob masks: 9.40\n",
      "Save blob contours, save: 14.19\n",
      "Compute blob properties, save: 18.66\n",
      "Processing section: 258\n"
     ]
    },
    {
     "name": "stdout",
     "output_type": "stream",
     "text": [
      "cp /oasis/projects/nsf/csd395/yuncong/CSHL_data_processed/MD589/MD589_lossless_unsorted_alignedTo_MD589-IHC31-2015.07.30-23.26.22_MD589_1_0091_cropped_compressed/MD589-N51-2015.07.30-19.28.17_MD589_1_0151_lossless_alignedTo_MD589-IHC31-2015.07.30-23.26.22_MD589_1_0091_cropped_compressed.jpg /home/yuncong/csd395/CSHL_cells_v2/detected_cells/MD589/MD589-N51-2015.07.30-19.28.17_MD589_1_0151/MD589-N51-2015.07.30-19.28.17_MD589_1_0151_image.jpg\n"
     ]
    },
    {
     "name": "stderr",
     "output_type": "stream",
     "text": [
      "Child returned 0\n",
      "Load mask: 9.78\n",
      "regionprops: 2.17\n",
      "87073 blobs identified.\n",
      "Save blob coords: 4.35\n",
      "Save blob masks: 9.77\n",
      "Save blob contours, save: 13.90\n",
      "Compute blob properties, save: 18.60\n",
      "Processing section: 259\n"
     ]
    },
    {
     "name": "stdout",
     "output_type": "stream",
     "text": [
      "cp /oasis/projects/nsf/csd395/yuncong/CSHL_data_processed/MD589/MD589_lossless_unsorted_alignedTo_MD589-IHC31-2015.07.30-23.26.22_MD589_1_0091_cropped_compressed/MD589-IHC51-2015.07.31-00.47.11_MD589_1_0151_lossless_alignedTo_MD589-IHC31-2015.07.30-23.26.22_MD589_1_0091_cropped_compressed.jpg /home/yuncong/csd395/CSHL_cells_v2/detected_cells/MD589/MD589-IHC51-2015.07.31-00.47.11_MD589_1_0151/MD589-IHC51-2015.07.31-00.47.11_MD589_1_0151_image.jpg\n"
     ]
    },
    {
     "name": "stderr",
     "output_type": "stream",
     "text": [
      "Child returned 0\n",
      "Load mask: 9.65\n",
      "regionprops: 2.74\n",
      "88457 blobs identified.\n",
      "Save blob coords: 4.32\n",
      "Save blob masks: 9.55\n",
      "Save blob contours, save: 14.35\n",
      "Compute blob properties, save: 18.53\n",
      "Processing section: 260\n"
     ]
    },
    {
     "name": "stdout",
     "output_type": "stream",
     "text": [
      "cp /oasis/projects/nsf/csd395/yuncong/CSHL_data_processed/MD589/MD589_lossless_unsorted_alignedTo_MD589-IHC31-2015.07.30-23.26.22_MD589_1_0091_cropped_compressed/MD589-N51-2015.07.30-19.28.17_MD589_2_0152_lossless_alignedTo_MD589-IHC31-2015.07.30-23.26.22_MD589_1_0091_cropped_compressed.jpg /home/yuncong/csd395/CSHL_cells_v2/detected_cells/MD589/MD589-N51-2015.07.30-19.28.17_MD589_2_0152/MD589-N51-2015.07.30-19.28.17_MD589_2_0152_image.jpg\n"
     ]
    },
    {
     "name": "stderr",
     "output_type": "stream",
     "text": [
      "Child returned 0\n",
      "Load mask: 9.64\n",
      "regionprops: 2.60\n",
      "86669 blobs identified.\n",
      "Save blob coords: 4.26\n",
      "Save blob masks: 9.44\n",
      "Save blob contours, save: 14.11\n",
      "Compute blob properties, save: 18.70\n",
      "Processing section: 261\n"
     ]
    },
    {
     "name": "stdout",
     "output_type": "stream",
     "text": [
      "cp /oasis/projects/nsf/csd395/yuncong/CSHL_data_processed/MD589/MD589_lossless_unsorted_alignedTo_MD589-IHC31-2015.07.30-23.26.22_MD589_1_0091_cropped_compressed/MD589-IHC51-2015.07.31-00.47.11_MD589_2_0152_lossless_alignedTo_MD589-IHC31-2015.07.30-23.26.22_MD589_1_0091_cropped_compressed.jpg /home/yuncong/csd395/CSHL_cells_v2/detected_cells/MD589/MD589-IHC51-2015.07.31-00.47.11_MD589_2_0152/MD589-IHC51-2015.07.31-00.47.11_MD589_2_0152_image.jpg\n"
     ]
    },
    {
     "name": "stderr",
     "output_type": "stream",
     "text": [
      "Child returned 0\n",
      "Load mask: 9.64\n",
      "regionprops: 2.62\n",
      "86974 blobs identified.\n",
      "Save blob coords: 4.27\n",
      "Save blob masks: 9.46\n",
      "Save blob contours, save: 13.76\n",
      "Compute blob properties, save: 18.17\n",
      "Processing section: 262\n"
     ]
    },
    {
     "name": "stdout",
     "output_type": "stream",
     "text": [
      "cp /oasis/projects/nsf/csd395/yuncong/CSHL_data_processed/MD589/MD589_lossless_unsorted_alignedTo_MD589-IHC31-2015.07.30-23.26.22_MD589_1_0091_cropped_compressed/MD589-N51-2015.07.30-19.28.17_MD589_3_0153_lossless_alignedTo_MD589-IHC31-2015.07.30-23.26.22_MD589_1_0091_cropped_compressed.jpg /home/yuncong/csd395/CSHL_cells_v2/detected_cells/MD589/MD589-N51-2015.07.30-19.28.17_MD589_3_0153/MD589-N51-2015.07.30-19.28.17_MD589_3_0153_image.jpg\n"
     ]
    },
    {
     "name": "stderr",
     "output_type": "stream",
     "text": [
      "Child returned 0\n",
      "Load mask: 9.65\n",
      "regionprops: 2.67\n",
      "86719 blobs identified.\n",
      "Save blob coords: 4.24\n",
      "Save blob masks: 9.42\n",
      "Save blob contours, save: 14.20\n",
      "Compute blob properties, save: 18.10\n",
      "Processing section: 263\n"
     ]
    },
    {
     "name": "stdout",
     "output_type": "stream",
     "text": [
      "cp /oasis/projects/nsf/csd395/yuncong/CSHL_data_processed/MD589/MD589_lossless_unsorted_alignedTo_MD589-IHC31-2015.07.30-23.26.22_MD589_1_0091_cropped_compressed/MD589-IHC51-2015.07.31-00.47.11_MD589_3_0153_lossless_alignedTo_MD589-IHC31-2015.07.30-23.26.22_MD589_1_0091_cropped_compressed.jpg /home/yuncong/csd395/CSHL_cells_v2/detected_cells/MD589/MD589-IHC51-2015.07.31-00.47.11_MD589_3_0153/MD589-IHC51-2015.07.31-00.47.11_MD589_3_0153_image.jpg\n"
     ]
    },
    {
     "name": "stderr",
     "output_type": "stream",
     "text": [
      "Child returned 0\n",
      "Load mask: 9.64\n",
      "regionprops: 2.60\n",
      "88167 blobs identified.\n",
      "Save blob coords: 4.36\n",
      "Save blob masks: 9.58\n",
      "Save blob contours, save: 14.17\n",
      "Compute blob properties, save: 19.13\n",
      "Processing section: 264\n"
     ]
    },
    {
     "name": "stdout",
     "output_type": "stream",
     "text": [
      "cp /oasis/projects/nsf/csd395/yuncong/CSHL_data_processed/MD589/MD589_lossless_unsorted_alignedTo_MD589-IHC31-2015.07.30-23.26.22_MD589_1_0091_cropped_compressed/MD589-N52-2015.07.30-19.33.44_MD589_1_0154_lossless_alignedTo_MD589-IHC31-2015.07.30-23.26.22_MD589_1_0091_cropped_compressed.jpg /home/yuncong/csd395/CSHL_cells_v2/detected_cells/MD589/MD589-N52-2015.07.30-19.33.44_MD589_1_0154/MD589-N52-2015.07.30-19.33.44_MD589_1_0154_image.jpg\n"
     ]
    },
    {
     "name": "stderr",
     "output_type": "stream",
     "text": [
      "Child returned 0\n",
      "Load mask: 9.67\n",
      "regionprops: 2.19\n",
      "86066 blobs identified.\n",
      "Save blob coords: 4.28\n",
      "Save blob masks: 9.37\n",
      "Save blob contours, save: 17.08\n",
      "Compute blob properties, save: 18.14\n",
      "Processing section: 265\n"
     ]
    },
    {
     "name": "stdout",
     "output_type": "stream",
     "text": [
      "cp /oasis/projects/nsf/csd395/yuncong/CSHL_data_processed/MD589/MD589_lossless_unsorted_alignedTo_MD589-IHC31-2015.07.30-23.26.22_MD589_1_0091_cropped_compressed/MD589-IHC52-2015.07.31-00.52.41_MD589_1_0154_lossless_alignedTo_MD589-IHC31-2015.07.30-23.26.22_MD589_1_0091_cropped_compressed.jpg /home/yuncong/csd395/CSHL_cells_v2/detected_cells/MD589/MD589-IHC52-2015.07.31-00.52.41_MD589_1_0154/MD589-IHC52-2015.07.31-00.52.41_MD589_1_0154_image.jpg\n"
     ]
    },
    {
     "name": "stderr",
     "output_type": "stream",
     "text": [
      "Child returned 0\n",
      "Load mask: 9.65\n",
      "regionprops: 2.65\n",
      "87571 blobs identified.\n",
      "Save blob coords: 4.28\n",
      "Save blob masks: 9.46\n",
      "Save blob contours, save: 14.37\n",
      "Compute blob properties, save: 18.59\n",
      "Processing section: 266\n"
     ]
    },
    {
     "name": "stdout",
     "output_type": "stream",
     "text": [
      "cp /oasis/projects/nsf/csd395/yuncong/CSHL_data_processed/MD589/MD589_lossless_unsorted_alignedTo_MD589-IHC31-2015.07.30-23.26.22_MD589_1_0091_cropped_compressed/MD589-N52-2015.07.30-19.33.44_MD589_2_0155_lossless_alignedTo_MD589-IHC31-2015.07.30-23.26.22_MD589_1_0091_cropped_compressed.jpg /home/yuncong/csd395/CSHL_cells_v2/detected_cells/MD589/MD589-N52-2015.07.30-19.33.44_MD589_2_0155/MD589-N52-2015.07.30-19.33.44_MD589_2_0155_image.jpg\n"
     ]
    },
    {
     "name": "stderr",
     "output_type": "stream",
     "text": [
      "Child returned 0\n",
      "Load mask: 9.64\n",
      "regionprops: 2.19\n",
      "86650 blobs identified.\n",
      "Save blob coords: 4.38\n",
      "Save blob masks: 9.75\n",
      "Save blob contours, save: 14.13\n",
      "Compute blob properties, save: 18.52\n",
      "Processing section: 267\n"
     ]
    },
    {
     "name": "stdout",
     "output_type": "stream",
     "text": [
      "cp /oasis/projects/nsf/csd395/yuncong/CSHL_data_processed/MD589/MD589_lossless_unsorted_alignedTo_MD589-IHC31-2015.07.30-23.26.22_MD589_1_0091_cropped_compressed/MD589-IHC52-2015.07.31-00.52.41_MD589_2_0155_lossless_alignedTo_MD589-IHC31-2015.07.30-23.26.22_MD589_1_0091_cropped_compressed.jpg /home/yuncong/csd395/CSHL_cells_v2/detected_cells/MD589/MD589-IHC52-2015.07.31-00.52.41_MD589_2_0155/MD589-IHC52-2015.07.31-00.52.41_MD589_2_0155_image.jpg\n"
     ]
    },
    {
     "name": "stderr",
     "output_type": "stream",
     "text": [
      "Child returned 0\n",
      "Load mask: 9.69\n",
      "regionprops: 2.67\n",
      "82849 blobs identified.\n",
      "Save blob coords: 4.13\n",
      "Save blob masks: 9.04\n",
      "Save blob contours, save: 13.31\n",
      "Compute blob properties, save: 17.52\n",
      "Processing section: 268\n"
     ]
    },
    {
     "name": "stdout",
     "output_type": "stream",
     "text": [
      "cp /oasis/projects/nsf/csd395/yuncong/CSHL_data_processed/MD589/MD589_lossless_unsorted_alignedTo_MD589-IHC31-2015.07.30-23.26.22_MD589_1_0091_cropped_compressed/MD589-N52-2015.07.30-19.33.44_MD589_3_0156_lossless_alignedTo_MD589-IHC31-2015.07.30-23.26.22_MD589_1_0091_cropped_compressed.jpg /home/yuncong/csd395/CSHL_cells_v2/detected_cells/MD589/MD589-N52-2015.07.30-19.33.44_MD589_3_0156/MD589-N52-2015.07.30-19.33.44_MD589_3_0156_image.jpg\n"
     ]
    },
    {
     "name": "stderr",
     "output_type": "stream",
     "text": [
      "Child returned 0\n",
      "Load mask: 9.64\n",
      "regionprops: 2.58\n",
      "86729 blobs identified.\n",
      "Save blob coords: 4.32\n",
      "Save blob masks: 9.53\n",
      "Save blob contours, save: 14.07\n",
      "Compute blob properties, save: 18.38\n",
      "Processing section: 269\n"
     ]
    },
    {
     "name": "stdout",
     "output_type": "stream",
     "text": [
      "cp /oasis/projects/nsf/csd395/yuncong/CSHL_data_processed/MD589/MD589_lossless_unsorted_alignedTo_MD589-IHC31-2015.07.30-23.26.22_MD589_1_0091_cropped_compressed/MD589-IHC52-2015.07.31-00.52.41_MD589_3_0156_lossless_alignedTo_MD589-IHC31-2015.07.30-23.26.22_MD589_1_0091_cropped_compressed.jpg /home/yuncong/csd395/CSHL_cells_v2/detected_cells/MD589/MD589-IHC52-2015.07.31-00.52.41_MD589_3_0156/MD589-IHC52-2015.07.31-00.52.41_MD589_3_0156_image.jpg\n"
     ]
    },
    {
     "name": "stderr",
     "output_type": "stream",
     "text": [
      "Child returned 0\n",
      "Load mask: 9.64\n",
      "regionprops: 2.66\n",
      "81390 blobs identified.\n",
      "Save blob coords: 3.99\n",
      "Save blob masks: 8.89\n",
      "Save blob contours, save: 13.36\n",
      "Compute blob properties, save: 17.42\n",
      "Processing section: 270\n"
     ]
    },
    {
     "name": "stdout",
     "output_type": "stream",
     "text": [
      "cp /oasis/projects/nsf/csd395/yuncong/CSHL_data_processed/MD589/MD589_lossless_unsorted_alignedTo_MD589-IHC31-2015.07.30-23.26.22_MD589_1_0091_cropped_compressed/MD589-N53-2015.07.30-19.39.11_MD589_1_0157_lossless_alignedTo_MD589-IHC31-2015.07.30-23.26.22_MD589_1_0091_cropped_compressed.jpg /home/yuncong/csd395/CSHL_cells_v2/detected_cells/MD589/MD589-N53-2015.07.30-19.39.11_MD589_1_0157/MD589-N53-2015.07.30-19.39.11_MD589_1_0157_image.jpg\n"
     ]
    },
    {
     "name": "stderr",
     "output_type": "stream",
     "text": [
      "Child returned 0\n",
      "Load mask: 9.64\n",
      "regionprops: 2.63\n",
      "87998 blobs identified.\n",
      "Save blob coords: 4.48\n",
      "Save blob masks: 9.72\n",
      "Save blob contours, save: 14.41\n",
      "Compute blob properties, save: 18.65\n",
      "Processing section: 271\n"
     ]
    },
    {
     "name": "stdout",
     "output_type": "stream",
     "text": [
      "cp /oasis/projects/nsf/csd395/yuncong/CSHL_data_processed/MD589/MD589_lossless_unsorted_alignedTo_MD589-IHC31-2015.07.30-23.26.22_MD589_1_0091_cropped_compressed/MD589-IHC53-2015.07.31-00.58.06_MD589_1_0157_lossless_alignedTo_MD589-IHC31-2015.07.30-23.26.22_MD589_1_0091_cropped_compressed.jpg /home/yuncong/csd395/CSHL_cells_v2/detected_cells/MD589/MD589-IHC53-2015.07.31-00.58.06_MD589_1_0157/MD589-IHC53-2015.07.31-00.58.06_MD589_1_0157_image.jpg\n"
     ]
    },
    {
     "name": "stderr",
     "output_type": "stream",
     "text": [
      "Child returned 0\n",
      "Load mask: 9.66\n",
      "regionprops: 2.59\n",
      "85329 blobs identified.\n",
      "Save blob coords: 4.11\n",
      "Save blob masks: 9.18\n",
      "Save blob contours, save: 13.55\n",
      "Compute blob properties, save: 18.06\n",
      "Processing section: 272\n"
     ]
    },
    {
     "name": "stdout",
     "output_type": "stream",
     "text": [
      "cp /oasis/projects/nsf/csd395/yuncong/CSHL_data_processed/MD589/MD589_lossless_unsorted_alignedTo_MD589-IHC31-2015.07.30-23.26.22_MD589_1_0091_cropped_compressed/MD589-N53-2015.07.30-19.39.11_MD589_2_0158_lossless_alignedTo_MD589-IHC31-2015.07.30-23.26.22_MD589_1_0091_cropped_compressed.jpg /home/yuncong/csd395/CSHL_cells_v2/detected_cells/MD589/MD589-N53-2015.07.30-19.39.11_MD589_2_0158/MD589-N53-2015.07.30-19.39.11_MD589_2_0158_image.jpg\n"
     ]
    },
    {
     "name": "stderr",
     "output_type": "stream",
     "text": [
      "Child returned 0\n",
      "Load mask: 9.64\n",
      "regionprops: 2.72\n",
      "87023 blobs identified.\n",
      "Save blob coords: 4.38\n",
      "Save blob masks: 9.72\n",
      "Save blob contours, save: 14.07\n",
      "Compute blob properties, save: 18.26\n",
      "Processing section: 273\n"
     ]
    },
    {
     "name": "stdout",
     "output_type": "stream",
     "text": [
      "cp /oasis/projects/nsf/csd395/yuncong/CSHL_data_processed/MD589/MD589_lossless_unsorted_alignedTo_MD589-IHC31-2015.07.30-23.26.22_MD589_1_0091_cropped_compressed/MD589-IHC53-2015.07.31-00.58.06_MD589_2_0158_lossless_alignedTo_MD589-IHC31-2015.07.30-23.26.22_MD589_1_0091_cropped_compressed.jpg /home/yuncong/csd395/CSHL_cells_v2/detected_cells/MD589/MD589-IHC53-2015.07.31-00.58.06_MD589_2_0158/MD589-IHC53-2015.07.31-00.58.06_MD589_2_0158_image.jpg\n"
     ]
    },
    {
     "name": "stderr",
     "output_type": "stream",
     "text": [
      "Child returned 0\n",
      "Load mask: 9.64\n",
      "regionprops: 2.60\n",
      "82033 blobs identified.\n",
      "Save blob coords: 4.13\n",
      "Save blob masks: 8.98\n",
      "Save blob contours, save: 13.39\n",
      "Compute blob properties, save: 18.10\n",
      "Processing section: 274\n"
     ]
    },
    {
     "name": "stdout",
     "output_type": "stream",
     "text": [
      "cp /oasis/projects/nsf/csd395/yuncong/CSHL_data_processed/MD589/MD589_lossless_unsorted_alignedTo_MD589-IHC31-2015.07.30-23.26.22_MD589_1_0091_cropped_compressed/MD589-N53-2015.07.30-19.39.11_MD589_3_0159_lossless_alignedTo_MD589-IHC31-2015.07.30-23.26.22_MD589_1_0091_cropped_compressed.jpg /home/yuncong/csd395/CSHL_cells_v2/detected_cells/MD589/MD589-N53-2015.07.30-19.39.11_MD589_3_0159/MD589-N53-2015.07.30-19.39.11_MD589_3_0159_image.jpg\n"
     ]
    },
    {
     "name": "stderr",
     "output_type": "stream",
     "text": [
      "Child returned 0\n",
      "Load mask: 9.64\n",
      "regionprops: 2.63\n",
      "86481 blobs identified.\n",
      "Save blob coords: 4.24\n",
      "Save blob masks: 9.38\n",
      "Save blob contours, save: 13.99\n",
      "Compute blob properties, save: 18.19\n",
      "Processing section: 275\n"
     ]
    },
    {
     "name": "stdout",
     "output_type": "stream",
     "text": [
      "cp /oasis/projects/nsf/csd395/yuncong/CSHL_data_processed/MD589/MD589_lossless_unsorted_alignedTo_MD589-IHC31-2015.07.30-23.26.22_MD589_1_0091_cropped_compressed/MD589-IHC53-2015.07.31-00.58.06_MD589_3_0159_lossless_alignedTo_MD589-IHC31-2015.07.30-23.26.22_MD589_1_0091_cropped_compressed.jpg /home/yuncong/csd395/CSHL_cells_v2/detected_cells/MD589/MD589-IHC53-2015.07.31-00.58.06_MD589_3_0159/MD589-IHC53-2015.07.31-00.58.06_MD589_3_0159_image.jpg\n"
     ]
    },
    {
     "name": "stderr",
     "output_type": "stream",
     "text": [
      "Child returned 0\n",
      "Load mask: 9.65\n",
      "regionprops: 2.67\n",
      "81131 blobs identified.\n",
      "Save blob coords: 4.03\n",
      "Save blob masks: 8.87\n",
      "Save blob contours, save: 13.12\n",
      "Compute blob properties, save: 17.47\n",
      "Processing section: 276\n"
     ]
    },
    {
     "name": "stdout",
     "output_type": "stream",
     "text": [
      "cp /oasis/projects/nsf/csd395/yuncong/CSHL_data_processed/MD589/MD589_lossless_unsorted_alignedTo_MD589-IHC31-2015.07.30-23.26.22_MD589_1_0091_cropped_compressed/MD589-N54-2015.07.30-19.44.32_MD589_1_0160_lossless_alignedTo_MD589-IHC31-2015.07.30-23.26.22_MD589_1_0091_cropped_compressed.jpg /home/yuncong/csd395/CSHL_cells_v2/detected_cells/MD589/MD589-N54-2015.07.30-19.44.32_MD589_1_0160/MD589-N54-2015.07.30-19.44.32_MD589_1_0160_image.jpg\n"
     ]
    },
    {
     "name": "stderr",
     "output_type": "stream",
     "text": [
      "Child returned 0\n",
      "Load mask: 9.65\n",
      "regionprops: 2.56\n",
      "86094 blobs identified.\n",
      "Save blob coords: 4.29\n",
      "Save blob masks: 9.36\n",
      "Save blob contours, save: 13.85\n",
      "Compute blob properties, save: 18.74\n",
      "Processing section: 277\n"
     ]
    },
    {
     "name": "stdout",
     "output_type": "stream",
     "text": [
      "cp /oasis/projects/nsf/csd395/yuncong/CSHL_data_processed/MD589/MD589_lossless_unsorted_alignedTo_MD589-IHC31-2015.07.30-23.26.22_MD589_1_0091_cropped_compressed/MD589-IHC54-2015.07.31-01.03.25_MD589_1_0160_lossless_alignedTo_MD589-IHC31-2015.07.30-23.26.22_MD589_1_0091_cropped_compressed.jpg /home/yuncong/csd395/CSHL_cells_v2/detected_cells/MD589/MD589-IHC54-2015.07.31-01.03.25_MD589_1_0160/MD589-IHC54-2015.07.31-01.03.25_MD589_1_0160_image.jpg\n"
     ]
    },
    {
     "name": "stderr",
     "output_type": "stream",
     "text": [
      "Child returned 0\n",
      "Load mask: 9.70\n",
      "regionprops: 2.15\n",
      "81583 blobs identified.\n",
      "Save blob coords: 4.23\n",
      "Save blob masks: 8.90\n",
      "Save blob contours, save: 13.31\n",
      "Compute blob properties, save: 17.22\n",
      "Processing section: 278\n"
     ]
    },
    {
     "name": "stdout",
     "output_type": "stream",
     "text": [
      "cp /oasis/projects/nsf/csd395/yuncong/CSHL_data_processed/MD589/MD589_lossless_unsorted_alignedTo_MD589-IHC31-2015.07.30-23.26.22_MD589_1_0091_cropped_compressed/MD589-N54-2015.07.30-19.44.32_MD589_2_0161_lossless_alignedTo_MD589-IHC31-2015.07.30-23.26.22_MD589_1_0091_cropped_compressed.jpg /home/yuncong/csd395/CSHL_cells_v2/detected_cells/MD589/MD589-N54-2015.07.30-19.44.32_MD589_2_0161/MD589-N54-2015.07.30-19.44.32_MD589_2_0161_image.jpg\n"
     ]
    },
    {
     "name": "stderr",
     "output_type": "stream",
     "text": [
      "Child returned 0\n",
      "Load mask: 9.64\n",
      "regionprops: 2.65\n",
      "85382 blobs identified.\n",
      "Save blob coords: 4.23\n",
      "Save blob masks: 9.30\n",
      "Save blob contours, save: 13.73\n",
      "Compute blob properties, save: 18.03\n",
      "Processing section: 279\n"
     ]
    },
    {
     "name": "stdout",
     "output_type": "stream",
     "text": [
      "cp /oasis/projects/nsf/csd395/yuncong/CSHL_data_processed/MD589/MD589_lossless_unsorted_alignedTo_MD589-IHC31-2015.07.30-23.26.22_MD589_1_0091_cropped_compressed/MD589-IHC54-2015.07.31-01.03.25_MD589_2_0161_lossless_alignedTo_MD589-IHC31-2015.07.30-23.26.22_MD589_1_0091_cropped_compressed.jpg /home/yuncong/csd395/CSHL_cells_v2/detected_cells/MD589/MD589-IHC54-2015.07.31-01.03.25_MD589_2_0161/MD589-IHC54-2015.07.31-01.03.25_MD589_2_0161_image.jpg\n"
     ]
    },
    {
     "name": "stderr",
     "output_type": "stream",
     "text": [
      "Child returned 0\n",
      "Load mask: 9.63\n",
      "regionprops: 2.70\n",
      "85768 blobs identified.\n",
      "Save blob coords: 4.27\n",
      "Save blob masks: 9.33\n",
      "Save blob contours, save: 13.72\n",
      "Compute blob properties, save: 18.30\n",
      "Processing section: 280\n"
     ]
    },
    {
     "name": "stdout",
     "output_type": "stream",
     "text": [
      "cp /oasis/projects/nsf/csd395/yuncong/CSHL_data_processed/MD589/MD589_lossless_unsorted_alignedTo_MD589-IHC31-2015.07.30-23.26.22_MD589_1_0091_cropped_compressed/MD589-N54-2015.07.30-19.44.32_MD589_3_0162_lossless_alignedTo_MD589-IHC31-2015.07.30-23.26.22_MD589_1_0091_cropped_compressed.jpg /home/yuncong/csd395/CSHL_cells_v2/detected_cells/MD589/MD589-N54-2015.07.30-19.44.32_MD589_3_0162/MD589-N54-2015.07.30-19.44.32_MD589_3_0162_image.jpg\n"
     ]
    },
    {
     "name": "stderr",
     "output_type": "stream",
     "text": [
      "Child returned 0\n",
      "Load mask: 9.66\n",
      "regionprops: 2.62\n",
      "80550 blobs identified.\n",
      "Save blob coords: 4.01\n",
      "Save blob masks: 8.82\n",
      "Save blob contours, save: 13.30\n",
      "Compute blob properties, save: 17.22\n",
      "Processing section: 281\n"
     ]
    },
    {
     "name": "stdout",
     "output_type": "stream",
     "text": [
      "cp /oasis/projects/nsf/csd395/yuncong/CSHL_data_processed/MD589/MD589_lossless_unsorted_alignedTo_MD589-IHC31-2015.07.30-23.26.22_MD589_1_0091_cropped_compressed/MD589-IHC54-2015.07.31-01.03.25_MD589_3_0162_lossless_alignedTo_MD589-IHC31-2015.07.30-23.26.22_MD589_1_0091_cropped_compressed.jpg /home/yuncong/csd395/CSHL_cells_v2/detected_cells/MD589/MD589-IHC54-2015.07.31-01.03.25_MD589_3_0162/MD589-IHC54-2015.07.31-01.03.25_MD589_3_0162_image.jpg\n"
     ]
    },
    {
     "name": "stderr",
     "output_type": "stream",
     "text": [
      "Child returned 0\n",
      "Load mask: 9.69\n",
      "regionprops: 2.69\n",
      "81685 blobs identified.\n",
      "Save blob coords: 4.10\n",
      "Save blob masks: 8.95\n",
      "Save blob contours, save: 13.34\n",
      "Compute blob properties, save: 17.36\n",
      "Processing section: 282\n"
     ]
    },
    {
     "name": "stdout",
     "output_type": "stream",
     "text": [
      "cp /oasis/projects/nsf/csd395/yuncong/CSHL_data_processed/MD589/MD589_lossless_unsorted_alignedTo_MD589-IHC31-2015.07.30-23.26.22_MD589_1_0091_cropped_compressed/MD589-N55-2015.07.30-19.49.42_MD589_1_0163_lossless_alignedTo_MD589-IHC31-2015.07.30-23.26.22_MD589_1_0091_cropped_compressed.jpg /home/yuncong/csd395/CSHL_cells_v2/detected_cells/MD589/MD589-N55-2015.07.30-19.49.42_MD589_1_0163/MD589-N55-2015.07.30-19.49.42_MD589_1_0163_image.jpg\n"
     ]
    },
    {
     "name": "stderr",
     "output_type": "stream",
     "text": [
      "Child returned 0\n",
      "Load mask: 9.94\n",
      "regionprops: 2.56\n",
      "80477 blobs identified.\n",
      "Save blob coords: 4.05\n",
      "Save blob masks: 8.82\n",
      "Save blob contours, save: 13.20\n",
      "Compute blob properties, save: 17.43\n",
      "Processing section: 283\n"
     ]
    },
    {
     "name": "stdout",
     "output_type": "stream",
     "text": [
      "cp /oasis/projects/nsf/csd395/yuncong/CSHL_data_processed/MD589/MD589_lossless_unsorted_alignedTo_MD589-IHC31-2015.07.30-23.26.22_MD589_1_0091_cropped_compressed/MD589-IHC55-2015.07.31-01.08.44_MD589_1_0163_lossless_alignedTo_MD589-IHC31-2015.07.30-23.26.22_MD589_1_0091_cropped_compressed.jpg /home/yuncong/csd395/CSHL_cells_v2/detected_cells/MD589/MD589-IHC55-2015.07.31-01.08.44_MD589_1_0163/MD589-IHC55-2015.07.31-01.08.44_MD589_1_0163_image.jpg\n"
     ]
    },
    {
     "name": "stderr",
     "output_type": "stream",
     "text": [
      "Child returned 0\n",
      "Load mask: 9.68\n",
      "regionprops: 2.09\n",
      "79923 blobs identified.\n",
      "Save blob coords: 3.96\n",
      "Save blob masks: 8.91\n",
      "Save blob contours, save: 13.02\n",
      "Compute blob properties, save: 17.08\n",
      "Processing section: 284\n"
     ]
    },
    {
     "name": "stdout",
     "output_type": "stream",
     "text": [
      "cp /oasis/projects/nsf/csd395/yuncong/CSHL_data_processed/MD589/MD589_lossless_unsorted_alignedTo_MD589-IHC31-2015.07.30-23.26.22_MD589_1_0091_cropped_compressed/MD589-N55-2015.07.30-19.49.42_MD589_2_0164_lossless_alignedTo_MD589-IHC31-2015.07.30-23.26.22_MD589_1_0091_cropped_compressed.jpg /home/yuncong/csd395/CSHL_cells_v2/detected_cells/MD589/MD589-N55-2015.07.30-19.49.42_MD589_2_0164/MD589-N55-2015.07.30-19.49.42_MD589_2_0164_image.jpg\n"
     ]
    },
    {
     "name": "stderr",
     "output_type": "stream",
     "text": [
      "Child returned 0\n",
      "Load mask: 9.66\n",
      "regionprops: 2.46\n",
      "80213 blobs identified.\n",
      "Save blob coords: 3.99\n",
      "Save blob masks: 8.64\n",
      "Save blob contours, save: 12.93\n",
      "Compute blob properties, save: 17.16\n",
      "Processing section: 285\n"
     ]
    },
    {
     "name": "stdout",
     "output_type": "stream",
     "text": [
      "cp /oasis/projects/nsf/csd395/yuncong/CSHL_data_processed/MD589/MD589_lossless_unsorted_alignedTo_MD589-IHC31-2015.07.30-23.26.22_MD589_1_0091_cropped_compressed/MD589-IHC55-2015.07.31-01.08.44_MD589_2_0164_lossless_alignedTo_MD589-IHC31-2015.07.30-23.26.22_MD589_1_0091_cropped_compressed.jpg /home/yuncong/csd395/CSHL_cells_v2/detected_cells/MD589/MD589-IHC55-2015.07.31-01.08.44_MD589_2_0164/MD589-IHC55-2015.07.31-01.08.44_MD589_2_0164_image.jpg\n"
     ]
    },
    {
     "name": "stderr",
     "output_type": "stream",
     "text": [
      "Child returned 0\n",
      "Load mask: 9.64\n",
      "regionprops: 2.63\n",
      "83113 blobs identified.\n",
      "Save blob coords: 4.14\n",
      "Save blob masks: 9.10\n",
      "Save blob contours, save: 13.47\n",
      "Compute blob properties, save: 17.75\n",
      "Processing section: 286\n"
     ]
    },
    {
     "name": "stdout",
     "output_type": "stream",
     "text": [
      "cp /oasis/projects/nsf/csd395/yuncong/CSHL_data_processed/MD589/MD589_lossless_unsorted_alignedTo_MD589-IHC31-2015.07.30-23.26.22_MD589_1_0091_cropped_compressed/MD589-N55-2015.07.30-19.49.42_MD589_3_0165_lossless_alignedTo_MD589-IHC31-2015.07.30-23.26.22_MD589_1_0091_cropped_compressed.jpg /home/yuncong/csd395/CSHL_cells_v2/detected_cells/MD589/MD589-N55-2015.07.30-19.49.42_MD589_3_0165/MD589-N55-2015.07.30-19.49.42_MD589_3_0165_image.jpg\n"
     ]
    },
    {
     "name": "stderr",
     "output_type": "stream",
     "text": [
      "Child returned 0\n",
      "Load mask: 9.65\n",
      "regionprops: 2.68\n",
      "77689 blobs identified.\n",
      "Save blob coords: 3.89\n",
      "Save blob masks: 8.46\n",
      "Save blob contours, save: 12.96\n",
      "Compute blob properties, save: 16.62\n",
      "Processing section: 287\n"
     ]
    },
    {
     "name": "stdout",
     "output_type": "stream",
     "text": [
      "cp /oasis/projects/nsf/csd395/yuncong/CSHL_data_processed/MD589/MD589_lossless_unsorted_alignedTo_MD589-IHC31-2015.07.30-23.26.22_MD589_1_0091_cropped_compressed/MD589-IHC55-2015.07.31-01.08.44_MD589_3_0165_lossless_alignedTo_MD589-IHC31-2015.07.30-23.26.22_MD589_1_0091_cropped_compressed.jpg /home/yuncong/csd395/CSHL_cells_v2/detected_cells/MD589/MD589-IHC55-2015.07.31-01.08.44_MD589_3_0165/MD589-IHC55-2015.07.31-01.08.44_MD589_3_0165_image.jpg\n"
     ]
    },
    {
     "name": "stderr",
     "output_type": "stream",
     "text": [
      "Child returned 0\n",
      "Load mask: 9.66\n",
      "regionprops: 2.08\n",
      "78708 blobs identified.\n",
      "Save blob coords: 3.94\n",
      "Save blob masks: 8.80\n",
      "Save blob contours, save: 13.15\n",
      "Compute blob properties, save: 17.01\n",
      "Processing section: 288\n"
     ]
    },
    {
     "name": "stdout",
     "output_type": "stream",
     "text": [
      "cp /oasis/projects/nsf/csd395/yuncong/CSHL_data_processed/MD589/MD589_lossless_unsorted_alignedTo_MD589-IHC31-2015.07.30-23.26.22_MD589_1_0091_cropped_compressed/MD589-N56-2015.07.30-19.54.42_MD589_1_0166_lossless_alignedTo_MD589-IHC31-2015.07.30-23.26.22_MD589_1_0091_cropped_compressed.jpg /home/yuncong/csd395/CSHL_cells_v2/detected_cells/MD589/MD589-N56-2015.07.30-19.54.42_MD589_1_0166/MD589-N56-2015.07.30-19.54.42_MD589_1_0166_image.jpg\n"
     ]
    },
    {
     "name": "stderr",
     "output_type": "stream",
     "text": [
      "Child returned 0\n",
      "Load mask: 9.66\n",
      "regionprops: 2.58\n",
      "77550 blobs identified.\n",
      "Save blob coords: 3.87\n",
      "Save blob masks: 8.43\n",
      "Save blob contours, save: 12.79\n",
      "Compute blob properties, save: 16.92\n",
      "Processing section: 289\n"
     ]
    },
    {
     "name": "stdout",
     "output_type": "stream",
     "text": [
      "cp /oasis/projects/nsf/csd395/yuncong/CSHL_data_processed/MD589/MD589_lossless_unsorted_alignedTo_MD589-IHC31-2015.07.30-23.26.22_MD589_1_0091_cropped_compressed/MD589-IHC56-2015.07.31-01.13.31_MD589_1_0166_lossless_alignedTo_MD589-IHC31-2015.07.30-23.26.22_MD589_1_0091_cropped_compressed.jpg /home/yuncong/csd395/CSHL_cells_v2/detected_cells/MD589/MD589-IHC56-2015.07.31-01.13.31_MD589_1_0166/MD589-IHC56-2015.07.31-01.13.31_MD589_1_0166_image.jpg\n"
     ]
    },
    {
     "name": "stderr",
     "output_type": "stream",
     "text": [
      "Child returned 0\n",
      "Load mask: 9.66\n",
      "regionprops: 2.08\n",
      "75939 blobs identified.\n",
      "Save blob coords: 3.79\n",
      "Save blob masks: 8.24\n",
      "Save blob contours, save: 14.46\n",
      "Compute blob properties, save: 15.88\n",
      "Processing section: 290\n"
     ]
    },
    {
     "name": "stdout",
     "output_type": "stream",
     "text": [
      "cp /oasis/projects/nsf/csd395/yuncong/CSHL_data_processed/MD589/MD589_lossless_unsorted_alignedTo_MD589-IHC31-2015.07.30-23.26.22_MD589_1_0091_cropped_compressed/MD589-N56-2015.07.30-19.54.42_MD589_2_0167_lossless_alignedTo_MD589-IHC31-2015.07.30-23.26.22_MD589_1_0091_cropped_compressed.jpg /home/yuncong/csd395/CSHL_cells_v2/detected_cells/MD589/MD589-N56-2015.07.30-19.54.42_MD589_2_0167/MD589-N56-2015.07.30-19.54.42_MD589_2_0167_image.jpg\n"
     ]
    },
    {
     "name": "stderr",
     "output_type": "stream",
     "text": [
      "Child returned 0\n",
      "Load mask: 9.64\n",
      "regionprops: 2.52\n",
      "78241 blobs identified.\n",
      "Save blob coords: 3.94\n",
      "Save blob masks: 8.59\n",
      "Save blob contours, save: 12.67\n",
      "Compute blob properties, save: 17.09\n",
      "Processing section: 291\n"
     ]
    },
    {
     "name": "stdout",
     "output_type": "stream",
     "text": [
      "cp /oasis/projects/nsf/csd395/yuncong/CSHL_data_processed/MD589/MD589_lossless_unsorted_alignedTo_MD589-IHC31-2015.07.30-23.26.22_MD589_1_0091_cropped_compressed/MD589-IHC56-2015.07.31-01.13.31_MD589_2_0167_lossless_alignedTo_MD589-IHC31-2015.07.30-23.26.22_MD589_1_0091_cropped_compressed.jpg /home/yuncong/csd395/CSHL_cells_v2/detected_cells/MD589/MD589-IHC56-2015.07.31-01.13.31_MD589_2_0167/MD589-IHC56-2015.07.31-01.13.31_MD589_2_0167_image.jpg\n"
     ]
    },
    {
     "name": "stderr",
     "output_type": "stream",
     "text": [
      "Child returned 0\n",
      "Load mask: 9.64\n",
      "regionprops: 2.52\n",
      "76822 blobs identified.\n",
      "Save blob coords: 3.81\n",
      "Save blob masks: 8.31\n",
      "Save blob contours, save: 12.52\n",
      "Compute blob properties, save: 16.14\n",
      "Processing section: 292\n"
     ]
    },
    {
     "name": "stdout",
     "output_type": "stream",
     "text": [
      "cp /oasis/projects/nsf/csd395/yuncong/CSHL_data_processed/MD589/MD589_lossless_unsorted_alignedTo_MD589-IHC31-2015.07.30-23.26.22_MD589_1_0091_cropped_compressed/MD589-N56-2015.07.30-19.54.42_MD589_3_0168_lossless_alignedTo_MD589-IHC31-2015.07.30-23.26.22_MD589_1_0091_cropped_compressed.jpg /home/yuncong/csd395/CSHL_cells_v2/detected_cells/MD589/MD589-N56-2015.07.30-19.54.42_MD589_3_0168/MD589-N56-2015.07.30-19.54.42_MD589_3_0168_image.jpg\n"
     ]
    },
    {
     "name": "stderr",
     "output_type": "stream",
     "text": [
      "Child returned 0\n",
      "Load mask: 9.64\n",
      "regionprops: 2.53\n",
      "76889 blobs identified.\n",
      "Save blob coords: 3.91\n",
      "Save blob masks: 8.51\n",
      "Save blob contours, save: 12.65\n",
      "Compute blob properties, save: 16.90\n",
      "Processing section: 293\n"
     ]
    },
    {
     "name": "stdout",
     "output_type": "stream",
     "text": [
      "cp /oasis/projects/nsf/csd395/yuncong/CSHL_data_processed/MD589/MD589_lossless_unsorted_alignedTo_MD589-IHC31-2015.07.30-23.26.22_MD589_1_0091_cropped_compressed/MD589-IHC56-2015.07.31-01.13.31_MD589_3_0168_lossless_alignedTo_MD589-IHC31-2015.07.30-23.26.22_MD589_1_0091_cropped_compressed.jpg /home/yuncong/csd395/CSHL_cells_v2/detected_cells/MD589/MD589-IHC56-2015.07.31-01.13.31_MD589_3_0168/MD589-IHC56-2015.07.31-01.13.31_MD589_3_0168_image.jpg\n"
     ]
    },
    {
     "name": "stderr",
     "output_type": "stream",
     "text": [
      "Child returned 0\n",
      "Load mask: 9.66\n",
      "regionprops: 2.49\n",
      "74907 blobs identified.\n",
      "Save blob coords: 3.73\n",
      "Save blob masks: 8.11\n",
      "Save blob contours, save: 12.13\n",
      "Compute blob properties, save: 15.49\n",
      "Processing section: 294\n"
     ]
    },
    {
     "name": "stdout",
     "output_type": "stream",
     "text": [
      "cp /oasis/projects/nsf/csd395/yuncong/CSHL_data_processed/MD589/MD589_lossless_unsorted_alignedTo_MD589-IHC31-2015.07.30-23.26.22_MD589_1_0091_cropped_compressed/MD589-N57-2015.07.30-19.59.14_MD589_1_0169_lossless_alignedTo_MD589-IHC31-2015.07.30-23.26.22_MD589_1_0091_cropped_compressed.jpg /home/yuncong/csd395/CSHL_cells_v2/detected_cells/MD589/MD589-N57-2015.07.30-19.59.14_MD589_1_0169/MD589-N57-2015.07.30-19.59.14_MD589_1_0169_image.jpg\n"
     ]
    },
    {
     "name": "stderr",
     "output_type": "stream",
     "text": [
      "Child returned 0\n",
      "Load mask: 9.66\n",
      "regionprops: 2.51\n",
      "82575 blobs identified.\n",
      "Save blob coords: 4.34\n",
      "Save blob masks: 9.21\n",
      "Save blob contours, save: 13.43\n",
      "Compute blob properties, save: 18.15\n",
      "Processing section: 295\n"
     ]
    },
    {
     "name": "stdout",
     "output_type": "stream",
     "text": [
      "cp /oasis/projects/nsf/csd395/yuncong/CSHL_data_processed/MD589/MD589_lossless_unsorted_alignedTo_MD589-IHC31-2015.07.30-23.26.22_MD589_1_0091_cropped_compressed/MD589-IHC57-2015.07.31-01.18.16_MD589_1_0169_lossless_alignedTo_MD589-IHC31-2015.07.30-23.26.22_MD589_1_0091_cropped_compressed.jpg /home/yuncong/csd395/CSHL_cells_v2/detected_cells/MD589/MD589-IHC57-2015.07.31-01.18.16_MD589_1_0169/MD589-IHC57-2015.07.31-01.18.16_MD589_1_0169_image.jpg\n"
     ]
    },
    {
     "name": "stderr",
     "output_type": "stream",
     "text": [
      "Child returned 0\n",
      "Load mask: 9.64\n",
      "regionprops: 2.66\n",
      "80656 blobs identified.\n",
      "Save blob coords: 4.23\n",
      "Save blob masks: 8.96\n",
      "Save blob contours, save: 12.96\n",
      "Compute blob properties, save: 17.65\n",
      "Processing section: 296\n"
     ]
    },
    {
     "name": "stdout",
     "output_type": "stream",
     "text": [
      "cp /oasis/projects/nsf/csd395/yuncong/CSHL_data_processed/MD589/MD589_lossless_unsorted_alignedTo_MD589-IHC31-2015.07.30-23.26.22_MD589_1_0091_cropped_compressed/MD589-N57-2015.07.30-19.59.14_MD589_2_0170_lossless_alignedTo_MD589-IHC31-2015.07.30-23.26.22_MD589_1_0091_cropped_compressed.jpg /home/yuncong/csd395/CSHL_cells_v2/detected_cells/MD589/MD589-N57-2015.07.30-19.59.14_MD589_2_0170/MD589-N57-2015.07.30-19.59.14_MD589_2_0170_image.jpg\n"
     ]
    },
    {
     "name": "stderr",
     "output_type": "stream",
     "text": [
      "Child returned 0\n",
      "Load mask: 9.77\n",
      "regionprops: 2.04\n",
      "74924 blobs identified.\n",
      "Save blob coords: 3.87\n",
      "Save blob masks: 8.51\n",
      "Save blob contours, save: 12.12\n",
      "Compute blob properties, save: 15.88\n",
      "Processing section: 297\n"
     ]
    },
    {
     "name": "stdout",
     "output_type": "stream",
     "text": [
      "cp /oasis/projects/nsf/csd395/yuncong/CSHL_data_processed/MD589/MD589_lossless_unsorted_alignedTo_MD589-IHC31-2015.07.30-23.26.22_MD589_1_0091_cropped_compressed/MD589-IHC57-2015.07.31-01.18.16_MD589_2_0170_lossless_alignedTo_MD589-IHC31-2015.07.30-23.26.22_MD589_1_0091_cropped_compressed.jpg /home/yuncong/csd395/CSHL_cells_v2/detected_cells/MD589/MD589-IHC57-2015.07.31-01.18.16_MD589_2_0170/MD589-IHC57-2015.07.31-01.18.16_MD589_2_0170_image.jpg\n"
     ]
    },
    {
     "name": "stderr",
     "output_type": "stream",
     "text": [
      "Child returned 0\n",
      "Load mask: 9.64\n",
      "regionprops: 2.58\n",
      "75372 blobs identified.\n",
      "Save blob coords: 3.96\n",
      "Save blob masks: 8.33\n",
      "Save blob contours, save: 12.58\n",
      "Compute blob properties, save: 16.21\n",
      "Processing section: 298\n"
     ]
    },
    {
     "name": "stdout",
     "output_type": "stream",
     "text": [
      "cp /oasis/projects/nsf/csd395/yuncong/CSHL_data_processed/MD589/MD589_lossless_unsorted_alignedTo_MD589-IHC31-2015.07.30-23.26.22_MD589_1_0091_cropped_compressed/MD589-N57-2015.07.30-19.59.14_MD589_3_0171_lossless_alignedTo_MD589-IHC31-2015.07.30-23.26.22_MD589_1_0091_cropped_compressed.jpg /home/yuncong/csd395/CSHL_cells_v2/detected_cells/MD589/MD589-N57-2015.07.30-19.59.14_MD589_3_0171/MD589-N57-2015.07.30-19.59.14_MD589_3_0171_image.jpg\n"
     ]
    },
    {
     "name": "stderr",
     "output_type": "stream",
     "text": [
      "Child returned 0\n",
      "Load mask: 9.64\n",
      "regionprops: 2.44\n",
      "73982 blobs identified.\n",
      "Save blob coords: 3.75\n",
      "Save blob masks: 8.03\n",
      "Save blob contours, save: 12.43\n",
      "Compute blob properties, save: 15.72\n",
      "Processing section: 299\n"
     ]
    },
    {
     "name": "stdout",
     "output_type": "stream",
     "text": [
      "cp /oasis/projects/nsf/csd395/yuncong/CSHL_data_processed/MD589/MD589_lossless_unsorted_alignedTo_MD589-IHC31-2015.07.30-23.26.22_MD589_1_0091_cropped_compressed/MD589-IHC57-2015.07.31-01.18.16_MD589_3_0171_lossless_alignedTo_MD589-IHC31-2015.07.30-23.26.22_MD589_1_0091_cropped_compressed.jpg /home/yuncong/csd395/CSHL_cells_v2/detected_cells/MD589/MD589-IHC57-2015.07.31-01.18.16_MD589_3_0171/MD589-IHC57-2015.07.31-01.18.16_MD589_3_0171_image.jpg\n"
     ]
    },
    {
     "name": "stderr",
     "output_type": "stream",
     "text": [
      "Child returned 0\n",
      "Load mask: 9.66\n",
      "regionprops: 2.50\n",
      "72715 blobs identified.\n",
      "Save blob coords: 3.69\n",
      "Save blob masks: 7.94\n",
      "Save blob contours, save: 11.85\n",
      "Compute blob properties, save: 15.55\n",
      "Processing section: 301\n"
     ]
    },
    {
     "name": "stdout",
     "output_type": "stream",
     "text": [
      "cp /oasis/projects/nsf/csd395/yuncong/CSHL_data_processed/MD589/MD589_lossless_unsorted_alignedTo_MD589-IHC31-2015.07.30-23.26.22_MD589_1_0091_cropped_compressed/MD589-IHC58-2015.07.31-01.22.39_MD589_1_0172_lossless_alignedTo_MD589-IHC31-2015.07.30-23.26.22_MD589_1_0091_cropped_compressed.jpg /home/yuncong/csd395/CSHL_cells_v2/detected_cells/MD589/MD589-IHC58-2015.07.31-01.22.39_MD589_1_0172/MD589-IHC58-2015.07.31-01.22.39_MD589_1_0172_image.jpg\n"
     ]
    },
    {
     "name": "stderr",
     "output_type": "stream",
     "text": [
      "Child returned 0\n",
      "Load mask: 9.64\n",
      "regionprops: 2.12\n",
      "74906 blobs identified.\n",
      "Save blob coords: 3.96\n",
      "Save blob masks: 8.60\n",
      "Save blob contours, save: 12.49\n",
      "Compute blob properties, save: 16.14\n",
      "Processing section: 302\n"
     ]
    },
    {
     "name": "stdout",
     "output_type": "stream",
     "text": [
      "cp /oasis/projects/nsf/csd395/yuncong/CSHL_data_processed/MD589/MD589_lossless_unsorted_alignedTo_MD589-IHC31-2015.07.30-23.26.22_MD589_1_0091_cropped_compressed/MD589-N58-2015.07.30-20.03.53_MD589_1_0172_lossless_alignedTo_MD589-IHC31-2015.07.30-23.26.22_MD589_1_0091_cropped_compressed.jpg /home/yuncong/csd395/CSHL_cells_v2/detected_cells/MD589/MD589-N58-2015.07.30-20.03.53_MD589_1_0172/MD589-N58-2015.07.30-20.03.53_MD589_1_0172_image.jpg\n"
     ]
    },
    {
     "name": "stderr",
     "output_type": "stream",
     "text": [
      "Child returned 0\n",
      "Load mask: 9.69\n",
      "regionprops: 2.43\n",
      "70901 blobs identified.\n",
      "Save blob coords: 3.58\n",
      "Save blob masks: 7.76\n",
      "Save blob contours, save: 11.65\n",
      "Compute blob properties, save: 15.22\n",
      "Processing section: 303\n"
     ]
    },
    {
     "name": "stdout",
     "output_type": "stream",
     "text": [
      "cp /oasis/projects/nsf/csd395/yuncong/CSHL_data_processed/MD589/MD589_lossless_unsorted_alignedTo_MD589-IHC31-2015.07.30-23.26.22_MD589_1_0091_cropped_compressed/MD589-IHC58-2015.07.31-01.22.39_MD589_2_0173_lossless_alignedTo_MD589-IHC31-2015.07.30-23.26.22_MD589_1_0091_cropped_compressed.jpg /home/yuncong/csd395/CSHL_cells_v2/detected_cells/MD589/MD589-IHC58-2015.07.31-01.22.39_MD589_2_0173/MD589-IHC58-2015.07.31-01.22.39_MD589_2_0173_image.jpg\n"
     ]
    },
    {
     "name": "stderr",
     "output_type": "stream",
     "text": [
      "Child returned 0\n",
      "Load mask: 9.64\n",
      "regionprops: 2.38\n",
      "72020 blobs identified.\n",
      "Save blob coords: 3.69\n",
      "Save blob masks: 8.00\n",
      "Save blob contours, save: 11.81\n",
      "Compute blob properties, save: 15.27\n",
      "Processing section: 304\n"
     ]
    },
    {
     "name": "stdout",
     "output_type": "stream",
     "text": [
      "cp /oasis/projects/nsf/csd395/yuncong/CSHL_data_processed/MD589/MD589_lossless_unsorted_alignedTo_MD589-IHC31-2015.07.30-23.26.22_MD589_1_0091_cropped_compressed/MD589-N58-2015.07.30-20.03.53_MD589_2_0173_lossless_alignedTo_MD589-IHC31-2015.07.30-23.26.22_MD589_1_0091_cropped_compressed.jpg /home/yuncong/csd395/CSHL_cells_v2/detected_cells/MD589/MD589-N58-2015.07.30-20.03.53_MD589_2_0173/MD589-N58-2015.07.30-20.03.53_MD589_2_0173_image.jpg\n"
     ]
    },
    {
     "name": "stderr",
     "output_type": "stream",
     "text": [
      "Child returned 0\n",
      "Load mask: 9.64\n",
      "regionprops: 2.30\n",
      "70825 blobs identified.\n",
      "Save blob coords: 3.51\n",
      "Save blob masks: 7.65\n",
      "Save blob contours, save: 11.63\n",
      "Compute blob properties, save: 15.39\n",
      "Processing section: 305\n"
     ]
    },
    {
     "name": "stdout",
     "output_type": "stream",
     "text": [
      "cp /oasis/projects/nsf/csd395/yuncong/CSHL_data_processed/MD589/MD589_lossless_unsorted_alignedTo_MD589-IHC31-2015.07.30-23.26.22_MD589_1_0091_cropped_compressed/MD589-IHC58-2015.07.31-01.22.39_MD589_3_0174_lossless_alignedTo_MD589-IHC31-2015.07.30-23.26.22_MD589_1_0091_cropped_compressed.jpg /home/yuncong/csd395/CSHL_cells_v2/detected_cells/MD589/MD589-IHC58-2015.07.31-01.22.39_MD589_3_0174/MD589-IHC58-2015.07.31-01.22.39_MD589_3_0174_image.jpg\n"
     ]
    },
    {
     "name": "stderr",
     "output_type": "stream",
     "text": [
      "Child returned 0\n",
      "Load mask: 9.64\n",
      "regionprops: 2.00\n",
      "69854 blobs identified.\n",
      "Save blob coords: 3.59\n",
      "Save blob masks: 7.71\n",
      "Save blob contours, save: 11.85\n",
      "Compute blob properties, save: 14.90\n",
      "Processing section: 306\n"
     ]
    },
    {
     "name": "stdout",
     "output_type": "stream",
     "text": [
      "cp /oasis/projects/nsf/csd395/yuncong/CSHL_data_processed/MD589/MD589_lossless_unsorted_alignedTo_MD589-IHC31-2015.07.30-23.26.22_MD589_1_0091_cropped_compressed/MD589-N59-2015.07.30-20.07.00_MD589_1_0175_lossless_alignedTo_MD589-IHC31-2015.07.30-23.26.22_MD589_1_0091_cropped_compressed.jpg /home/yuncong/csd395/CSHL_cells_v2/detected_cells/MD589/MD589-N59-2015.07.30-20.07.00_MD589_1_0175/MD589-N59-2015.07.30-20.07.00_MD589_1_0175_image.jpg\n"
     ]
    },
    {
     "name": "stderr",
     "output_type": "stream",
     "text": [
      "Child returned 0\n",
      "Load mask: 9.65\n",
      "regionprops: 2.48\n",
      "70396 blobs identified.\n",
      "Save blob coords: 3.60\n",
      "Save blob masks: 7.71\n",
      "Save blob contours, save: 11.49\n",
      "Compute blob properties, save: 15.13\n",
      "Processing section: 307\n"
     ]
    },
    {
     "name": "stdout",
     "output_type": "stream",
     "text": [
      "cp /oasis/projects/nsf/csd395/yuncong/CSHL_data_processed/MD589/MD589_lossless_unsorted_alignedTo_MD589-IHC31-2015.07.30-23.26.22_MD589_1_0091_cropped_compressed/MD589-IHC59-2015.07.31-01.26.55_MD589_1_0175_lossless_alignedTo_MD589-IHC31-2015.07.30-23.26.22_MD589_1_0091_cropped_compressed.jpg /home/yuncong/csd395/CSHL_cells_v2/detected_cells/MD589/MD589-IHC59-2015.07.31-01.26.55_MD589_1_0175/MD589-IHC59-2015.07.31-01.26.55_MD589_1_0175_image.jpg\n"
     ]
    },
    {
     "name": "stderr",
     "output_type": "stream",
     "text": [
      "Child returned 0\n",
      "Load mask: 9.64\n",
      "regionprops: 2.49\n",
      "69598 blobs identified.\n",
      "Save blob coords: 3.61\n",
      "Save blob masks: 7.72\n",
      "Save blob contours, save: 11.48\n",
      "Compute blob properties, save: 14.90\n",
      "Processing section: 308\n"
     ]
    },
    {
     "name": "stdout",
     "output_type": "stream",
     "text": [
      "cp /oasis/projects/nsf/csd395/yuncong/CSHL_data_processed/MD589/MD589_lossless_unsorted_alignedTo_MD589-IHC31-2015.07.30-23.26.22_MD589_1_0091_cropped_compressed/MD589-N59-2015.07.30-20.07.00_MD589_2_0176_lossless_alignedTo_MD589-IHC31-2015.07.30-23.26.22_MD589_1_0091_cropped_compressed.jpg /home/yuncong/csd395/CSHL_cells_v2/detected_cells/MD589/MD589-N59-2015.07.30-20.07.00_MD589_2_0176/MD589-N59-2015.07.30-20.07.00_MD589_2_0176_image.jpg\n"
     ]
    },
    {
     "name": "stderr",
     "output_type": "stream",
     "text": [
      "Child returned 0\n",
      "Load mask: 9.64\n",
      "regionprops: 2.47\n",
      "68958 blobs identified.\n",
      "Save blob coords: 3.51\n",
      "Save blob masks: 7.77\n",
      "Save blob contours, save: 11.45\n",
      "Compute blob properties, save: 14.92\n",
      "Processing section: 309\n"
     ]
    },
    {
     "name": "stdout",
     "output_type": "stream",
     "text": [
      "cp /oasis/projects/nsf/csd395/yuncong/CSHL_data_processed/MD589/MD589_lossless_unsorted_alignedTo_MD589-IHC31-2015.07.30-23.26.22_MD589_1_0091_cropped_compressed/MD589-IHC59-2015.07.31-01.26.55_MD589_2_0176_lossless_alignedTo_MD589-IHC31-2015.07.30-23.26.22_MD589_1_0091_cropped_compressed.jpg /home/yuncong/csd395/CSHL_cells_v2/detected_cells/MD589/MD589-IHC59-2015.07.31-01.26.55_MD589_2_0176/MD589-IHC59-2015.07.31-01.26.55_MD589_2_0176_image.jpg\n"
     ]
    },
    {
     "name": "stderr",
     "output_type": "stream",
     "text": [
      "Child returned 0\n",
      "Load mask: 9.64\n",
      "regionprops: 1.99\n",
      "68056 blobs identified.\n",
      "Save blob coords: 3.49\n",
      "Save blob masks: 7.69\n",
      "Save blob contours, save: 10.91\n",
      "Compute blob properties, save: 14.68\n",
      "Processing section: 310\n"
     ]
    },
    {
     "name": "stdout",
     "output_type": "stream",
     "text": [
      "cp /oasis/projects/nsf/csd395/yuncong/CSHL_data_processed/MD589/MD589_lossless_unsorted_alignedTo_MD589-IHC31-2015.07.30-23.26.22_MD589_1_0091_cropped_compressed/MD589-N59-2015.07.30-20.07.00_MD589_3_0177_lossless_alignedTo_MD589-IHC31-2015.07.30-23.26.22_MD589_1_0091_cropped_compressed.jpg /home/yuncong/csd395/CSHL_cells_v2/detected_cells/MD589/MD589-N59-2015.07.30-20.07.00_MD589_3_0177/MD589-N59-2015.07.30-20.07.00_MD589_3_0177_image.jpg\n"
     ]
    },
    {
     "name": "stderr",
     "output_type": "stream",
     "text": [
      "Child returned 0\n",
      "Load mask: 9.64\n",
      "regionprops: 1.95\n",
      "67203 blobs identified.\n",
      "Save blob coords: 3.36\n",
      "Save blob masks: 7.28\n",
      "Save blob contours, save: 11.15\n",
      "Compute blob properties, save: 14.00\n",
      "Processing section: 311\n"
     ]
    },
    {
     "name": "stdout",
     "output_type": "stream",
     "text": [
      "cp /oasis/projects/nsf/csd395/yuncong/CSHL_data_processed/MD589/MD589_lossless_unsorted_alignedTo_MD589-IHC31-2015.07.30-23.26.22_MD589_1_0091_cropped_compressed/MD589-IHC59-2015.07.31-01.26.55_MD589_3_0177_lossless_alignedTo_MD589-IHC31-2015.07.30-23.26.22_MD589_1_0091_cropped_compressed.jpg /home/yuncong/csd395/CSHL_cells_v2/detected_cells/MD589/MD589-IHC59-2015.07.31-01.26.55_MD589_3_0177/MD589-IHC59-2015.07.31-01.26.55_MD589_3_0177_image.jpg\n"
     ]
    },
    {
     "name": "stderr",
     "output_type": "stream",
     "text": [
      "Child returned 0\n",
      "Load mask: 9.65\n",
      "regionprops: 2.26\n",
      "67380 blobs identified.\n",
      "Save blob coords: 3.32\n",
      "Save blob masks: 7.34\n",
      "Save blob contours, save: 11.08\n",
      "Compute blob properties, save: 14.11\n",
      "Processing section: 312\n"
     ]
    },
    {
     "name": "stdout",
     "output_type": "stream",
     "text": [
      "cp /oasis/projects/nsf/csd395/yuncong/CSHL_data_processed/MD589/MD589_lossless_unsorted_alignedTo_MD589-IHC31-2015.07.30-23.26.22_MD589_1_0091_cropped_compressed/MD589-N60-2015.07.30-20.11.20_MD589_1_0178_lossless_alignedTo_MD589-IHC31-2015.07.30-23.26.22_MD589_1_0091_cropped_compressed.jpg /home/yuncong/csd395/CSHL_cells_v2/detected_cells/MD589/MD589-N60-2015.07.30-20.11.20_MD589_1_0178/MD589-N60-2015.07.30-20.11.20_MD589_1_0178_image.jpg\n"
     ]
    },
    {
     "name": "stderr",
     "output_type": "stream",
     "text": [
      "Child returned 0\n",
      "Load mask: 9.65\n",
      "regionprops: 2.30\n",
      "66127 blobs identified.\n",
      "Save blob coords: 3.32\n",
      "Save blob masks: 7.20\n",
      "Save blob contours, save: 11.06\n",
      "Compute blob properties, save: 14.22\n",
      "Processing section: 313\n"
     ]
    },
    {
     "name": "stdout",
     "output_type": "stream",
     "text": [
      "cp /oasis/projects/nsf/csd395/yuncong/CSHL_data_processed/MD589/MD589_lossless_unsorted_alignedTo_MD589-IHC31-2015.07.30-23.26.22_MD589_1_0091_cropped_compressed/MD589-IHC60-2015.07.31-01.31.11_MD589_1_0178_lossless_alignedTo_MD589-IHC31-2015.07.30-23.26.22_MD589_1_0091_cropped_compressed.jpg /home/yuncong/csd395/CSHL_cells_v2/detected_cells/MD589/MD589-IHC60-2015.07.31-01.31.11_MD589_1_0178/MD589-IHC60-2015.07.31-01.31.11_MD589_1_0178_image.jpg\n"
     ]
    },
    {
     "name": "stderr",
     "output_type": "stream",
     "text": [
      "Child returned 0\n",
      "Load mask: 9.64\n",
      "regionprops: 2.38\n",
      "66157 blobs identified.\n",
      "Save blob coords: 3.35\n",
      "Save blob masks: 7.31\n",
      "Save blob contours, save: 10.90\n",
      "Compute blob properties, save: 14.17\n",
      "Processing section: 314\n"
     ]
    },
    {
     "name": "stdout",
     "output_type": "stream",
     "text": [
      "cp /oasis/projects/nsf/csd395/yuncong/CSHL_data_processed/MD589/MD589_lossless_unsorted_alignedTo_MD589-IHC31-2015.07.30-23.26.22_MD589_1_0091_cropped_compressed/MD589-N60-2015.07.30-20.11.20_MD589_2_0179_lossless_alignedTo_MD589-IHC31-2015.07.30-23.26.22_MD589_1_0091_cropped_compressed.jpg /home/yuncong/csd395/CSHL_cells_v2/detected_cells/MD589/MD589-N60-2015.07.30-20.11.20_MD589_2_0179/MD589-N60-2015.07.30-20.11.20_MD589_2_0179_image.jpg\n"
     ]
    },
    {
     "name": "stderr",
     "output_type": "stream",
     "text": [
      "Child returned 0\n",
      "Load mask: 9.64\n",
      "regionprops: 2.14\n",
      "54830 blobs identified.\n",
      "Save blob coords: 2.70\n",
      "Save blob masks: 5.96\n",
      "Save blob contours, save: 9.15\n",
      "Compute blob properties, save: 11.63\n",
      "Processing section: 315\n"
     ]
    },
    {
     "name": "stdout",
     "output_type": "stream",
     "text": [
      "cp /oasis/projects/nsf/csd395/yuncong/CSHL_data_processed/MD589/MD589_lossless_unsorted_alignedTo_MD589-IHC31-2015.07.30-23.26.22_MD589_1_0091_cropped_compressed/MD589-IHC60-2015.07.31-01.31.11_MD589_2_0179_lossless_alignedTo_MD589-IHC31-2015.07.30-23.26.22_MD589_1_0091_cropped_compressed.jpg /home/yuncong/csd395/CSHL_cells_v2/detected_cells/MD589/MD589-IHC60-2015.07.31-01.31.11_MD589_2_0179/MD589-IHC60-2015.07.31-01.31.11_MD589_2_0179_image.jpg\n"
     ]
    },
    {
     "name": "stderr",
     "output_type": "stream",
     "text": [
      "Child returned 0\n",
      "Load mask: 9.64\n",
      "regionprops: 2.21\n",
      "65658 blobs identified.\n",
      "Save blob coords: 3.32\n",
      "Save blob masks: 7.15\n",
      "Save blob contours, save: 10.67\n",
      "Compute blob properties, save: 14.28\n",
      "Processing section: 316\n"
     ]
    },
    {
     "name": "stdout",
     "output_type": "stream",
     "text": [
      "cp /oasis/projects/nsf/csd395/yuncong/CSHL_data_processed/MD589/MD589_lossless_unsorted_alignedTo_MD589-IHC31-2015.07.30-23.26.22_MD589_1_0091_cropped_compressed/MD589-N60-2015.07.30-20.11.20_MD589_3_0180_lossless_alignedTo_MD589-IHC31-2015.07.30-23.26.22_MD589_1_0091_cropped_compressed.jpg /home/yuncong/csd395/CSHL_cells_v2/detected_cells/MD589/MD589-N60-2015.07.30-20.11.20_MD589_3_0180/MD589-N60-2015.07.30-20.11.20_MD589_3_0180_image.jpg\n"
     ]
    },
    {
     "name": "stderr",
     "output_type": "stream",
     "text": [
      "Child returned 0\n",
      "Load mask: 9.65\n",
      "regionprops: 2.23\n",
      "64483 blobs identified.\n",
      "Save blob coords: 3.16\n",
      "Save blob masks: 7.01\n",
      "Save blob contours, save: 10.61\n",
      "Compute blob properties, save: 13.67\n",
      "Processing section: 317\n"
     ]
    },
    {
     "name": "stdout",
     "output_type": "stream",
     "text": [
      "cp /oasis/projects/nsf/csd395/yuncong/CSHL_data_processed/MD589/MD589_lossless_unsorted_alignedTo_MD589-IHC31-2015.07.30-23.26.22_MD589_1_0091_cropped_compressed/MD589-IHC60-2015.07.31-01.31.11_MD589_3_0180_lossless_alignedTo_MD589-IHC31-2015.07.30-23.26.22_MD589_1_0091_cropped_compressed.jpg /home/yuncong/csd395/CSHL_cells_v2/detected_cells/MD589/MD589-IHC60-2015.07.31-01.31.11_MD589_3_0180/MD589-IHC60-2015.07.31-01.31.11_MD589_3_0180_image.jpg\n"
     ]
    },
    {
     "name": "stderr",
     "output_type": "stream",
     "text": [
      "Child returned 0\n",
      "Load mask: 9.65\n",
      "regionprops: 2.23\n",
      "65177 blobs identified.\n",
      "Save blob coords: 3.26\n",
      "Save blob masks: 7.09\n",
      "Save blob contours, save: 10.81\n",
      "Compute blob properties, save: 13.77\n",
      "Processing section: 318\n"
     ]
    },
    {
     "name": "stdout",
     "output_type": "stream",
     "text": [
      "cp /oasis/projects/nsf/csd395/yuncong/CSHL_data_processed/MD589/MD589_lossless_unsorted_alignedTo_MD589-IHC31-2015.07.30-23.26.22_MD589_1_0091_cropped_compressed/MD589-N61-2015.07.30-20.15.47_MD589_1_0181_lossless_alignedTo_MD589-IHC31-2015.07.30-23.26.22_MD589_1_0091_cropped_compressed.jpg /home/yuncong/csd395/CSHL_cells_v2/detected_cells/MD589/MD589-N61-2015.07.30-20.15.47_MD589_1_0181/MD589-N61-2015.07.30-20.15.47_MD589_1_0181_image.jpg\n"
     ]
    },
    {
     "name": "stderr",
     "output_type": "stream",
     "text": [
      "Child returned 0\n",
      "Load mask: 9.65\n",
      "regionprops: 2.36\n",
      "64498 blobs identified.\n",
      "Save blob coords: 3.54\n",
      "Save blob masks: 7.25\n",
      "Save blob contours, save: 10.81\n",
      "Compute blob properties, save: 13.96\n",
      "Processing section: 319\n"
     ]
    },
    {
     "name": "stdout",
     "output_type": "stream",
     "text": [
      "cp /oasis/projects/nsf/csd395/yuncong/CSHL_data_processed/MD589/MD589_lossless_unsorted_alignedTo_MD589-IHC31-2015.07.30-23.26.22_MD589_1_0091_cropped_compressed/MD589-IHC61-2015.07.31-01.35.17_MD589_1_0181_lossless_alignedTo_MD589-IHC31-2015.07.30-23.26.22_MD589_1_0091_cropped_compressed.jpg /home/yuncong/csd395/CSHL_cells_v2/detected_cells/MD589/MD589-IHC61-2015.07.31-01.35.17_MD589_1_0181/MD589-IHC61-2015.07.31-01.35.17_MD589_1_0181_image.jpg\n"
     ]
    },
    {
     "name": "stderr",
     "output_type": "stream",
     "text": [
      "Child returned 0\n",
      "Load mask: 9.65\n",
      "regionprops: 2.20\n",
      "64463 blobs identified.\n",
      "Save blob coords: 3.26\n",
      "Save blob masks: 7.07\n",
      "Save blob contours, save: 10.94\n",
      "Compute blob properties, save: 13.73\n",
      "Processing section: 320\n"
     ]
    },
    {
     "name": "stdout",
     "output_type": "stream",
     "text": [
      "cp /oasis/projects/nsf/csd395/yuncong/CSHL_data_processed/MD589/MD589_lossless_unsorted_alignedTo_MD589-IHC31-2015.07.30-23.26.22_MD589_1_0091_cropped_compressed/MD589-N61-2015.07.30-20.15.47_MD589_2_0182_lossless_alignedTo_MD589-IHC31-2015.07.30-23.26.22_MD589_1_0091_cropped_compressed.jpg /home/yuncong/csd395/CSHL_cells_v2/detected_cells/MD589/MD589-N61-2015.07.30-20.15.47_MD589_2_0182/MD589-N61-2015.07.30-20.15.47_MD589_2_0182_image.jpg\n"
     ]
    },
    {
     "name": "stderr",
     "output_type": "stream",
     "text": [
      "Child returned 0\n",
      "Load mask: 9.66\n",
      "regionprops: 1.88\n",
      "62128 blobs identified.\n",
      "Save blob coords: 3.17\n",
      "Save blob masks: 6.94\n",
      "Save blob contours, save: 10.24\n",
      "Compute blob properties, save: 13.49\n",
      "Processing section: 321\n"
     ]
    },
    {
     "name": "stdout",
     "output_type": "stream",
     "text": [
      "cp /oasis/projects/nsf/csd395/yuncong/CSHL_data_processed/MD589/MD589_lossless_unsorted_alignedTo_MD589-IHC31-2015.07.30-23.26.22_MD589_1_0091_cropped_compressed/MD589-IHC61-2015.07.31-01.35.17_MD589_2_0182_lossless_alignedTo_MD589-IHC31-2015.07.30-23.26.22_MD589_1_0091_cropped_compressed.jpg /home/yuncong/csd395/CSHL_cells_v2/detected_cells/MD589/MD589-IHC61-2015.07.31-01.35.17_MD589_2_0182/MD589-IHC61-2015.07.31-01.35.17_MD589_2_0182_image.jpg\n"
     ]
    },
    {
     "name": "stderr",
     "output_type": "stream",
     "text": [
      "Child returned 0\n",
      "Load mask: 9.64\n",
      "regionprops: 2.34\n",
      "64228 blobs identified.\n",
      "Save blob coords: 3.33\n",
      "Save blob masks: 7.08\n",
      "Save blob contours, save: 10.74\n",
      "Compute blob properties, save: 13.53\n",
      "Processing section: 322\n"
     ]
    },
    {
     "name": "stdout",
     "output_type": "stream",
     "text": [
      "cp /oasis/projects/nsf/csd395/yuncong/CSHL_data_processed/MD589/MD589_lossless_unsorted_alignedTo_MD589-IHC31-2015.07.30-23.26.22_MD589_1_0091_cropped_compressed/MD589-N61-2015.07.30-20.15.47_MD589_3_0183_lossless_alignedTo_MD589-IHC31-2015.07.30-23.26.22_MD589_1_0091_cropped_compressed.jpg /home/yuncong/csd395/CSHL_cells_v2/detected_cells/MD589/MD589-N61-2015.07.30-20.15.47_MD589_3_0183/MD589-N61-2015.07.30-20.15.47_MD589_3_0183_image.jpg\n"
     ]
    },
    {
     "name": "stderr",
     "output_type": "stream",
     "text": [
      "Child returned 0\n",
      "Load mask: 9.64\n",
      "regionprops: 2.14\n",
      "53352 blobs identified.\n",
      "Save blob coords: 2.65\n",
      "Save blob masks: 5.81\n",
      "Save blob contours, save: 8.84\n",
      "Compute blob properties, save: 11.64\n",
      "Processing section: 323\n"
     ]
    },
    {
     "name": "stdout",
     "output_type": "stream",
     "text": [
      "cp /oasis/projects/nsf/csd395/yuncong/CSHL_data_processed/MD589/MD589_lossless_unsorted_alignedTo_MD589-IHC31-2015.07.30-23.26.22_MD589_1_0091_cropped_compressed/MD589-IHC61-2015.07.31-01.35.17_MD589_3_0183_lossless_alignedTo_MD589-IHC31-2015.07.30-23.26.22_MD589_1_0091_cropped_compressed.jpg /home/yuncong/csd395/CSHL_cells_v2/detected_cells/MD589/MD589-IHC61-2015.07.31-01.35.17_MD589_3_0183/MD589-IHC61-2015.07.31-01.35.17_MD589_3_0183_image.jpg\n"
     ]
    },
    {
     "name": "stderr",
     "output_type": "stream",
     "text": [
      "Child returned 0\n",
      "Load mask: 9.64\n",
      "regionprops: 1.69\n",
      "52986 blobs identified.\n",
      "Save blob coords: 2.63\n",
      "Save blob masks: 5.75\n",
      "Save blob contours, save: 9.05\n",
      "Compute blob properties, save: 11.39\n",
      "Processing section: 325\n"
     ]
    },
    {
     "name": "stdout",
     "output_type": "stream",
     "text": [
      "cp /oasis/projects/nsf/csd395/yuncong/CSHL_data_processed/MD589/MD589_lossless_unsorted_alignedTo_MD589-IHC31-2015.07.30-23.26.22_MD589_1_0091_cropped_compressed/MD589-IHC62-2015.07.31-01.39.26_MD589_1_0184_lossless_alignedTo_MD589-IHC31-2015.07.30-23.26.22_MD589_1_0091_cropped_compressed.jpg /home/yuncong/csd395/CSHL_cells_v2/detected_cells/MD589/MD589-IHC62-2015.07.31-01.39.26_MD589_1_0184/MD589-IHC62-2015.07.31-01.39.26_MD589_1_0184_image.jpg\n"
     ]
    },
    {
     "name": "stderr",
     "output_type": "stream",
     "text": [
      "Child returned 0\n",
      "Load mask: 9.79\n",
      "regionprops: 1.86\n",
      "62290 blobs identified.\n",
      "Save blob coords: 3.21\n",
      "Save blob masks: 7.14\n",
      "Save blob contours, save: 10.28\n",
      "Compute blob properties, save: 13.38\n",
      "Processing section: 326\n"
     ]
    },
    {
     "name": "stdout",
     "output_type": "stream",
     "text": [
      "cp /oasis/projects/nsf/csd395/yuncong/CSHL_data_processed/MD589/MD589_lossless_unsorted_alignedTo_MD589-IHC31-2015.07.30-23.26.22_MD589_1_0091_cropped_compressed/MD589-N62-2015.07.30-20.20.08_MD589_1_0184_lossless_alignedTo_MD589-IHC31-2015.07.30-23.26.22_MD589_1_0091_cropped_compressed.jpg /home/yuncong/csd395/CSHL_cells_v2/detected_cells/MD589/MD589-N62-2015.07.30-20.20.08_MD589_1_0184/MD589-N62-2015.07.30-20.20.08_MD589_1_0184_image.jpg\n"
     ]
    },
    {
     "name": "stderr",
     "output_type": "stream",
     "text": [
      "Child returned 0\n",
      "Load mask: 9.65\n",
      "regionprops: 2.17\n",
      "61021 blobs identified.\n",
      "Save blob coords: 3.07\n",
      "Save blob masks: 6.63\n",
      "Save blob contours, save: 9.99\n",
      "Compute blob properties, save: 13.10\n",
      "Processing section: 327\n"
     ]
    },
    {
     "name": "stdout",
     "output_type": "stream",
     "text": [
      "cp /oasis/projects/nsf/csd395/yuncong/CSHL_data_processed/MD589/MD589_lossless_unsorted_alignedTo_MD589-IHC31-2015.07.30-23.26.22_MD589_1_0091_cropped_compressed/MD589-IHC62-2015.07.31-01.39.26_MD589_2_0185_lossless_alignedTo_MD589-IHC31-2015.07.30-23.26.22_MD589_1_0091_cropped_compressed.jpg /home/yuncong/csd395/CSHL_cells_v2/detected_cells/MD589/MD589-IHC62-2015.07.31-01.39.26_MD589_2_0185/MD589-IHC62-2015.07.31-01.39.26_MD589_2_0185_image.jpg\n"
     ]
    },
    {
     "name": "stderr",
     "output_type": "stream",
     "text": [
      "Child returned 0\n",
      "Load mask: 9.70\n",
      "regionprops: 2.07\n",
      "51010 blobs identified.\n",
      "Save blob coords: 2.56\n",
      "Save blob masks: 5.63\n",
      "Save blob contours, save: 8.55\n",
      "Compute blob properties, save: 10.88\n",
      "Processing section: 328\n"
     ]
    },
    {
     "name": "stdout",
     "output_type": "stream",
     "text": [
      "cp /oasis/projects/nsf/csd395/yuncong/CSHL_data_processed/MD589/MD589_lossless_unsorted_alignedTo_MD589-IHC31-2015.07.30-23.26.22_MD589_1_0091_cropped_compressed/MD589-N62-2015.07.30-20.20.08_MD589_2_0185_lossless_alignedTo_MD589-IHC31-2015.07.30-23.26.22_MD589_1_0091_cropped_compressed.jpg /home/yuncong/csd395/CSHL_cells_v2/detected_cells/MD589/MD589-N62-2015.07.30-20.20.08_MD589_2_0185/MD589-N62-2015.07.30-20.20.08_MD589_2_0185_image.jpg\n"
     ]
    },
    {
     "name": "stderr",
     "output_type": "stream",
     "text": [
      "Child returned 0\n",
      "Load mask: 9.66\n",
      "regionprops: 2.05\n",
      "50858 blobs identified.\n",
      "Save blob coords: 2.52\n",
      "Save blob masks: 5.52\n",
      "Save blob contours, save: 8.58\n",
      "Compute blob properties, save: 10.72\n",
      "Processing section: 329\n"
     ]
    },
    {
     "name": "stdout",
     "output_type": "stream",
     "text": [
      "cp /oasis/projects/nsf/csd395/yuncong/CSHL_data_processed/MD589/MD589_lossless_unsorted_alignedTo_MD589-IHC31-2015.07.30-23.26.22_MD589_1_0091_cropped_compressed/MD589-IHC62-2015.07.31-01.39.26_MD589_3_0186_lossless_alignedTo_MD589-IHC31-2015.07.30-23.26.22_MD589_1_0091_cropped_compressed.jpg /home/yuncong/csd395/CSHL_cells_v2/detected_cells/MD589/MD589-IHC62-2015.07.31-01.39.26_MD589_3_0186/MD589-IHC62-2015.07.31-01.39.26_MD589_3_0186_image.jpg\n"
     ]
    },
    {
     "name": "stderr",
     "output_type": "stream",
     "text": [
      "Child returned 0\n",
      "Load mask: 9.66\n",
      "regionprops: 1.80\n",
      "59723 blobs identified.\n",
      "Save blob coords: 3.00\n",
      "Save blob masks: 6.68\n",
      "Save blob contours, save: 10.03\n",
      "Compute blob properties, save: 12.88\n",
      "Processing section: 330\n"
     ]
    },
    {
     "name": "stdout",
     "output_type": "stream",
     "text": [
      "cp /oasis/projects/nsf/csd395/yuncong/CSHL_data_processed/MD589/MD589_lossless_unsorted_alignedTo_MD589-IHC31-2015.07.30-23.26.22_MD589_1_0091_cropped_compressed/MD589-N63-2015.07.30-20.23.12_MD589_1_0187_lossless_alignedTo_MD589-IHC31-2015.07.30-23.26.22_MD589_1_0091_cropped_compressed.jpg /home/yuncong/csd395/CSHL_cells_v2/detected_cells/MD589/MD589-N63-2015.07.30-20.23.12_MD589_1_0187/MD589-N63-2015.07.30-20.23.12_MD589_1_0187_image.jpg\n"
     ]
    },
    {
     "name": "stderr",
     "output_type": "stream",
     "text": [
      "Child returned 0\n",
      "Load mask: 9.64\n",
      "regionprops: 1.81\n",
      "58215 blobs identified.\n",
      "Save blob coords: 2.97\n",
      "Save blob masks: 6.54\n",
      "Save blob contours, save: 9.70\n",
      "Compute blob properties, save: 12.52\n",
      "Processing section: 331\n"
     ]
    },
    {
     "name": "stdout",
     "output_type": "stream",
     "text": [
      "cp /oasis/projects/nsf/csd395/yuncong/CSHL_data_processed/MD589/MD589_lossless_unsorted_alignedTo_MD589-IHC31-2015.07.30-23.26.22_MD589_1_0091_cropped_compressed/MD589-IHC63-2015.07.31-01.43.31_MD589_1_0187_lossless_alignedTo_MD589-IHC31-2015.07.30-23.26.22_MD589_1_0091_cropped_compressed.jpg /home/yuncong/csd395/CSHL_cells_v2/detected_cells/MD589/MD589-IHC63-2015.07.31-01.43.31_MD589_1_0187/MD589-IHC63-2015.07.31-01.43.31_MD589_1_0187_image.jpg\n"
     ]
    },
    {
     "name": "stderr",
     "output_type": "stream",
     "text": [
      "Child returned 0\n",
      "Load mask: 9.65\n",
      "regionprops: 2.17\n",
      "49581 blobs identified.\n",
      "Save blob coords: 2.49\n",
      "Save blob masks: 5.44\n",
      "Save blob contours, save: 8.26\n",
      "Compute blob properties, save: 10.56\n",
      "Processing section: 332\n"
     ]
    },
    {
     "name": "stdout",
     "output_type": "stream",
     "text": [
      "cp /oasis/projects/nsf/csd395/yuncong/CSHL_data_processed/MD589/MD589_lossless_unsorted_alignedTo_MD589-IHC31-2015.07.30-23.26.22_MD589_1_0091_cropped_compressed/MD589-N63-2015.07.30-20.23.12_MD589_2_0188_lossless_alignedTo_MD589-IHC31-2015.07.30-23.26.22_MD589_1_0091_cropped_compressed.jpg /home/yuncong/csd395/CSHL_cells_v2/detected_cells/MD589/MD589-N63-2015.07.30-20.23.12_MD589_2_0188/MD589-N63-2015.07.30-20.23.12_MD589_2_0188_image.jpg\n"
     ]
    },
    {
     "name": "stderr",
     "output_type": "stream",
     "text": [
      "Child returned 0\n",
      "Load mask: 9.66\n",
      "regionprops: 1.71\n",
      "56101 blobs identified.\n",
      "Save blob coords: 2.98\n",
      "Save blob masks: 6.14\n",
      "Save blob contours, save: 9.46\n",
      "Compute blob properties, save: 11.99\n",
      "Processing section: 333\n"
     ]
    },
    {
     "name": "stdout",
     "output_type": "stream",
     "text": [
      "cp /oasis/projects/nsf/csd395/yuncong/CSHL_data_processed/MD589/MD589_lossless_unsorted_alignedTo_MD589-IHC31-2015.07.30-23.26.22_MD589_1_0091_cropped_compressed/MD589-IHC63-2015.07.31-01.43.31_MD589_2_0188_lossless_alignedTo_MD589-IHC31-2015.07.30-23.26.22_MD589_1_0091_cropped_compressed.jpg /home/yuncong/csd395/CSHL_cells_v2/detected_cells/MD589/MD589-IHC63-2015.07.31-01.43.31_MD589_2_0188/MD589-IHC63-2015.07.31-01.43.31_MD589_2_0188_image.jpg\n"
     ]
    },
    {
     "name": "stderr",
     "output_type": "stream",
     "text": [
      "Child returned 0\n",
      "Load mask: 9.65\n",
      "regionprops: 1.68\n",
      "48216 blobs identified.\n",
      "Save blob coords: 2.42\n",
      "Save blob masks: 5.22\n",
      "Save blob contours, save: 10.28\n",
      "Compute blob properties, save: 10.34\n",
      "Processing section: 334\n"
     ]
    },
    {
     "name": "stdout",
     "output_type": "stream",
     "text": [
      "cp /oasis/projects/nsf/csd395/yuncong/CSHL_data_processed/MD589/MD589_lossless_unsorted_alignedTo_MD589-IHC31-2015.07.30-23.26.22_MD589_1_0091_cropped_compressed/MD589-N63-2015.07.30-20.23.12_MD589_3_0189_lossless_alignedTo_MD589-IHC31-2015.07.30-23.26.22_MD589_1_0091_cropped_compressed.jpg /home/yuncong/csd395/CSHL_cells_v2/detected_cells/MD589/MD589-N63-2015.07.30-20.23.12_MD589_3_0189/MD589-N63-2015.07.30-20.23.12_MD589_3_0189_image.jpg\n"
     ]
    },
    {
     "name": "stderr",
     "output_type": "stream",
     "text": [
      "Child returned 0\n",
      "Load mask: 9.64\n",
      "regionprops: 1.60\n",
      "46930 blobs identified.\n",
      "Save blob coords: 2.30\n",
      "Save blob masks: 5.04\n",
      "Save blob contours, save: 8.10\n",
      "Compute blob properties, save: 9.75\n",
      "Processing section: 335\n"
     ]
    },
    {
     "name": "stdout",
     "output_type": "stream",
     "text": [
      "cp /oasis/projects/nsf/csd395/yuncong/CSHL_data_processed/MD589/MD589_lossless_unsorted_alignedTo_MD589-IHC31-2015.07.30-23.26.22_MD589_1_0091_cropped_compressed/MD589-IHC63-2015.07.31-01.43.31_MD589_3_0189_lossless_alignedTo_MD589-IHC31-2015.07.30-23.26.22_MD589_1_0091_cropped_compressed.jpg /home/yuncong/csd395/CSHL_cells_v2/detected_cells/MD589/MD589-IHC63-2015.07.31-01.43.31_MD589_3_0189/MD589-IHC63-2015.07.31-01.43.31_MD589_3_0189_image.jpg\n"
     ]
    },
    {
     "name": "stderr",
     "output_type": "stream",
     "text": [
      "Child returned 0\n",
      "Load mask: 9.70\n",
      "regionprops: 1.94\n",
      "55649 blobs identified.\n",
      "Save blob coords: 2.79\n",
      "Save blob masks: 6.10\n",
      "Save blob contours, save: 9.07\n",
      "Compute blob properties, save: 11.80\n",
      "Processing section: 336\n"
     ]
    },
    {
     "name": "stdout",
     "output_type": "stream",
     "text": [
      "cp /oasis/projects/nsf/csd395/yuncong/CSHL_data_processed/MD589/MD589_lossless_unsorted_alignedTo_MD589-IHC31-2015.07.30-23.26.22_MD589_1_0091_cropped_compressed/MD589-N64-2015.07.30-20.27.19_MD589_1_0190_lossless_alignedTo_MD589-IHC31-2015.07.30-23.26.22_MD589_1_0091_cropped_compressed.jpg /home/yuncong/csd395/CSHL_cells_v2/detected_cells/MD589/MD589-N64-2015.07.30-20.27.19_MD589_1_0190/MD589-N64-2015.07.30-20.27.19_MD589_1_0190_image.jpg\n"
     ]
    },
    {
     "name": "stderr",
     "output_type": "stream",
     "text": [
      "Child returned 0\n",
      "Load mask: 9.64\n",
      "regionprops: 1.97\n",
      "45942 blobs identified.\n",
      "Save blob coords: 2.29\n",
      "Save blob masks: 4.99\n",
      "Save blob contours, save: 7.66\n",
      "Compute blob properties, save: 9.63\n",
      "Processing section: 337\n"
     ]
    },
    {
     "name": "stdout",
     "output_type": "stream",
     "text": [
      "cp /oasis/projects/nsf/csd395/yuncong/CSHL_data_processed/MD589/MD589_lossless_unsorted_alignedTo_MD589-IHC31-2015.07.30-23.26.22_MD589_1_0091_cropped_compressed/MD589-IHC64-2015.07.31-01.47.28_MD589_1_0190_lossless_alignedTo_MD589-IHC31-2015.07.30-23.26.22_MD589_1_0091_cropped_compressed.jpg /home/yuncong/csd395/CSHL_cells_v2/detected_cells/MD589/MD589-IHC64-2015.07.31-01.47.28_MD589_1_0190/MD589-IHC64-2015.07.31-01.47.28_MD589_1_0190_image.jpg\n"
     ]
    },
    {
     "name": "stderr",
     "output_type": "stream",
     "text": [
      "Child returned 0\n",
      "Load mask: 9.64\n",
      "regionprops: 1.94\n",
      "54856 blobs identified.\n",
      "Save blob coords: 3.11\n",
      "Save blob masks: 6.05\n",
      "Save blob contours, save: 8.98\n",
      "Compute blob properties, save: 11.64\n",
      "Processing section: 338\n"
     ]
    },
    {
     "name": "stdout",
     "output_type": "stream",
     "text": [
      "cp /oasis/projects/nsf/csd395/yuncong/CSHL_data_processed/MD589/MD589_lossless_unsorted_alignedTo_MD589-IHC31-2015.07.30-23.26.22_MD589_1_0091_cropped_compressed/MD589-N64-2015.07.30-20.27.19_MD589_2_0191_lossless_alignedTo_MD589-IHC31-2015.07.30-23.26.22_MD589_1_0091_cropped_compressed.jpg /home/yuncong/csd395/CSHL_cells_v2/detected_cells/MD589/MD589-N64-2015.07.30-20.27.19_MD589_2_0191/MD589-N64-2015.07.30-20.27.19_MD589_2_0191_image.jpg\n"
     ]
    },
    {
     "name": "stderr",
     "output_type": "stream",
     "text": [
      "Child returned 0\n",
      "Load mask: 9.65\n",
      "regionprops: 1.92\n",
      "44987 blobs identified.\n",
      "Save blob coords: 2.20\n",
      "Save blob masks: 4.88\n",
      "Save blob contours, save: 7.57\n",
      "Compute blob properties, save: 9.39\n",
      "Processing section: 339\n"
     ]
    },
    {
     "name": "stdout",
     "output_type": "stream",
     "text": [
      "cp /oasis/projects/nsf/csd395/yuncong/CSHL_data_processed/MD589/MD589_lossless_unsorted_alignedTo_MD589-IHC31-2015.07.30-23.26.22_MD589_1_0091_cropped_compressed/MD589-IHC64-2015.07.31-01.47.28_MD589_2_0191_lossless_alignedTo_MD589-IHC31-2015.07.30-23.26.22_MD589_1_0091_cropped_compressed.jpg /home/yuncong/csd395/CSHL_cells_v2/detected_cells/MD589/MD589-IHC64-2015.07.31-01.47.28_MD589_2_0191/MD589-IHC64-2015.07.31-01.47.28_MD589_2_0191_image.jpg\n"
     ]
    },
    {
     "name": "stderr",
     "output_type": "stream",
     "text": [
      "Child returned 0\n",
      "Load mask: 9.66\n",
      "regionprops: 1.89\n",
      "45146 blobs identified.\n",
      "Save blob coords: 2.22\n",
      "Save blob masks: 4.94\n",
      "Save blob contours, save: 7.58\n",
      "Compute blob properties, save: 9.71\n",
      "Processing section: 340\n"
     ]
    },
    {
     "name": "stdout",
     "output_type": "stream",
     "text": [
      "cp /oasis/projects/nsf/csd395/yuncong/CSHL_data_processed/MD589/MD589_lossless_unsorted_alignedTo_MD589-IHC31-2015.07.30-23.26.22_MD589_1_0091_cropped_compressed/MD589-N64-2015.07.30-20.27.19_MD589_3_0192_lossless_alignedTo_MD589-IHC31-2015.07.30-23.26.22_MD589_1_0091_cropped_compressed.jpg /home/yuncong/csd395/CSHL_cells_v2/detected_cells/MD589/MD589-N64-2015.07.30-20.27.19_MD589_3_0192/MD589-N64-2015.07.30-20.27.19_MD589_3_0192_image.jpg\n"
     ]
    },
    {
     "name": "stderr",
     "output_type": "stream",
     "text": [
      "Child returned 0\n",
      "Load mask: 9.64\n",
      "regionprops: 1.85\n",
      "43861 blobs identified.\n",
      "Save blob coords: 2.14\n",
      "Save blob masks: 4.77\n",
      "Save blob contours, save: 7.15\n",
      "Compute blob properties, save: 9.09\n",
      "Processing section: 341\n"
     ]
    },
    {
     "name": "stdout",
     "output_type": "stream",
     "text": [
      "cp /oasis/projects/nsf/csd395/yuncong/CSHL_data_processed/MD589/MD589_lossless_unsorted_alignedTo_MD589-IHC31-2015.07.30-23.26.22_MD589_1_0091_cropped_compressed/MD589-IHC64-2015.07.31-01.47.28_MD589_3_0192_lossless_alignedTo_MD589-IHC31-2015.07.30-23.26.22_MD589_1_0091_cropped_compressed.jpg /home/yuncong/csd395/CSHL_cells_v2/detected_cells/MD589/MD589-IHC64-2015.07.31-01.47.28_MD589_3_0192/MD589-IHC64-2015.07.31-01.47.28_MD589_3_0192_image.jpg\n"
     ]
    },
    {
     "name": "stderr",
     "output_type": "stream",
     "text": [
      "Child returned 0\n",
      "Load mask: 9.64\n",
      "regionprops: 1.83\n",
      "44650 blobs identified.\n",
      "Save blob coords: 2.17\n",
      "Save blob masks: 4.81\n",
      "Save blob contours, save: 7.52\n",
      "Compute blob properties, save: 9.34\n",
      "Processing section: 342\n"
     ]
    },
    {
     "name": "stdout",
     "output_type": "stream",
     "text": [
      "cp /oasis/projects/nsf/csd395/yuncong/CSHL_data_processed/MD589/MD589_lossless_unsorted_alignedTo_MD589-IHC31-2015.07.30-23.26.22_MD589_1_0091_cropped_compressed/MD589-N65-2015.07.30-20.31.20_MD589_1_0193_lossless_alignedTo_MD589-IHC31-2015.07.30-23.26.22_MD589_1_0091_cropped_compressed.jpg /home/yuncong/csd395/CSHL_cells_v2/detected_cells/MD589/MD589-N65-2015.07.30-20.31.20_MD589_1_0193/MD589-N65-2015.07.30-20.31.20_MD589_1_0193_image.jpg\n"
     ]
    },
    {
     "name": "stderr",
     "output_type": "stream",
     "text": [
      "Child returned 0\n",
      "Load mask: 9.63\n",
      "regionprops: 1.57\n",
      "44374 blobs identified.\n",
      "Save blob coords: 2.15\n",
      "Save blob masks: 4.89\n",
      "Save blob contours, save: 7.20\n",
      "Compute blob properties, save: 9.50\n",
      "Processing section: 343\n"
     ]
    },
    {
     "name": "stdout",
     "output_type": "stream",
     "text": [
      "cp /oasis/projects/nsf/csd395/yuncong/CSHL_data_processed/MD589/MD589_lossless_unsorted_alignedTo_MD589-IHC31-2015.07.30-23.26.22_MD589_1_0091_cropped_compressed/MD589-IHC65-2015.07.31-01.51.22_MD589_1_0193_lossless_alignedTo_MD589-IHC31-2015.07.30-23.26.22_MD589_1_0091_cropped_compressed.jpg /home/yuncong/csd395/CSHL_cells_v2/detected_cells/MD589/MD589-IHC65-2015.07.31-01.51.22_MD589_1_0193/MD589-IHC65-2015.07.31-01.51.22_MD589_1_0193_image.jpg\n"
     ]
    },
    {
     "name": "stderr",
     "output_type": "stream",
     "text": [
      "Child returned 0\n",
      "Load mask: 9.66\n",
      "regionprops: 2.06\n",
      "53750 blobs identified.\n",
      "Save blob coords: 2.70\n",
      "Save blob masks: 5.84\n",
      "Save blob contours, save: 8.83\n",
      "Compute blob properties, save: 11.28\n",
      "Processing section: 344\n"
     ]
    },
    {
     "name": "stdout",
     "output_type": "stream",
     "text": [
      "cp /oasis/projects/nsf/csd395/yuncong/CSHL_data_processed/MD589/MD589_lossless_unsorted_alignedTo_MD589-IHC31-2015.07.30-23.26.22_MD589_1_0091_cropped_compressed/MD589-N65-2015.07.30-20.31.20_MD589_2_0194_lossless_alignedTo_MD589-IHC31-2015.07.30-23.26.22_MD589_1_0091_cropped_compressed.jpg /home/yuncong/csd395/CSHL_cells_v2/detected_cells/MD589/MD589-N65-2015.07.30-20.31.20_MD589_2_0194/MD589-N65-2015.07.30-20.31.20_MD589_2_0194_image.jpg\n"
     ]
    },
    {
     "name": "stderr",
     "output_type": "stream",
     "text": [
      "Child returned 0\n",
      "Load mask: 9.64\n",
      "regionprops: 1.99\n",
      "44063 blobs identified.\n",
      "Save blob coords: 2.21\n",
      "Save blob masks: 4.80\n",
      "Save blob contours, save: 7.35\n",
      "Compute blob properties, save: 9.23\n",
      "Processing section: 345\n"
     ]
    },
    {
     "name": "stdout",
     "output_type": "stream",
     "text": [
      "cp /oasis/projects/nsf/csd395/yuncong/CSHL_data_processed/MD589/MD589_lossless_unsorted_alignedTo_MD589-IHC31-2015.07.30-23.26.22_MD589_1_0091_cropped_compressed/MD589-IHC65-2015.07.31-01.51.22_MD589_2_0194_lossless_alignedTo_MD589-IHC31-2015.07.30-23.26.22_MD589_1_0091_cropped_compressed.jpg /home/yuncong/csd395/CSHL_cells_v2/detected_cells/MD589/MD589-IHC65-2015.07.31-01.51.22_MD589_2_0194/MD589-IHC65-2015.07.31-01.51.22_MD589_2_0194_image.jpg\n"
     ]
    },
    {
     "name": "stderr",
     "output_type": "stream",
     "text": [
      "Child returned 0\n",
      "Load mask: 9.66\n",
      "regionprops: 1.97\n",
      "43911 blobs identified.\n",
      "Save blob coords: 2.18\n",
      "Save blob masks: 4.81\n",
      "Save blob contours, save: 7.23\n",
      "Compute blob properties, save: 9.15\n",
      "Processing section: 346\n"
     ]
    },
    {
     "name": "stdout",
     "output_type": "stream",
     "text": [
      "cp /oasis/projects/nsf/csd395/yuncong/CSHL_data_processed/MD589/MD589_lossless_unsorted_alignedTo_MD589-IHC31-2015.07.30-23.26.22_MD589_1_0091_cropped_compressed/MD589-N65-2015.07.30-20.31.20_MD589_3_0195_lossless_alignedTo_MD589-IHC31-2015.07.30-23.26.22_MD589_1_0091_cropped_compressed.jpg /home/yuncong/csd395/CSHL_cells_v2/detected_cells/MD589/MD589-N65-2015.07.30-20.31.20_MD589_3_0195/MD589-N65-2015.07.30-20.31.20_MD589_3_0195_image.jpg\n"
     ]
    },
    {
     "name": "stderr",
     "output_type": "stream",
     "text": [
      "Child returned 0\n",
      "Load mask: 9.65\n",
      "regionprops: 1.54\n",
      "42111 blobs identified.\n",
      "Save blob coords: 2.04\n",
      "Save blob masks: 4.64\n",
      "Save blob contours, save: 6.78\n",
      "Compute blob properties, save: 8.95\n",
      "Processing section: 347\n"
     ]
    },
    {
     "name": "stdout",
     "output_type": "stream",
     "text": [
      "cp /oasis/projects/nsf/csd395/yuncong/CSHL_data_processed/MD589/MD589_lossless_unsorted_alignedTo_MD589-IHC31-2015.07.30-23.26.22_MD589_1_0091_cropped_compressed/MD589-IHC65-2015.07.31-01.51.22_MD589_3_0195_lossless_alignedTo_MD589-IHC31-2015.07.30-23.26.22_MD589_1_0091_cropped_compressed.jpg /home/yuncong/csd395/CSHL_cells_v2/detected_cells/MD589/MD589-IHC65-2015.07.31-01.51.22_MD589_3_0195/MD589-IHC65-2015.07.31-01.51.22_MD589_3_0195_image.jpg\n"
     ]
    },
    {
     "name": "stderr",
     "output_type": "stream",
     "text": [
      "Child returned 0\n",
      "Load mask: 9.64\n",
      "regionprops: 1.55\n",
      "43063 blobs identified.\n",
      "Save blob coords: 2.09\n",
      "Save blob masks: 4.61\n",
      "Save blob contours, save: 7.29\n",
      "Compute blob properties, save: 8.90\n",
      "Processing section: 348\n"
     ]
    },
    {
     "name": "stdout",
     "output_type": "stream",
     "text": [
      "cp /oasis/projects/nsf/csd395/yuncong/CSHL_data_processed/MD589/MD589_lossless_unsorted_alignedTo_MD589-IHC31-2015.07.30-23.26.22_MD589_1_0091_cropped_compressed/MD589-N66-2015.07.30-20.35.16_MD589_1_0196_lossless_alignedTo_MD589-IHC31-2015.07.30-23.26.22_MD589_1_0091_cropped_compressed.jpg /home/yuncong/csd395/CSHL_cells_v2/detected_cells/MD589/MD589-N66-2015.07.30-20.35.16_MD589_1_0196/MD589-N66-2015.07.30-20.35.16_MD589_1_0196_image.jpg\n"
     ]
    },
    {
     "name": "stderr",
     "output_type": "stream",
     "text": [
      "Child returned 0\n",
      "Load mask: 9.64\n",
      "regionprops: 1.86\n",
      "42910 blobs identified.\n",
      "Save blob coords: 2.15\n",
      "Save blob masks: 4.74\n",
      "Save blob contours, save: 7.15\n",
      "Compute blob properties, save: 9.09\n",
      "Processing section: 349\n"
     ]
    },
    {
     "name": "stdout",
     "output_type": "stream",
     "text": [
      "cp /oasis/projects/nsf/csd395/yuncong/CSHL_data_processed/MD589/MD589_lossless_unsorted_alignedTo_MD589-IHC31-2015.07.30-23.26.22_MD589_1_0091_cropped_compressed/MD589-IHC66-2015.07.31-01.55.14_MD589_1_0196_lossless_alignedTo_MD589-IHC31-2015.07.30-23.26.22_MD589_1_0091_cropped_compressed.jpg /home/yuncong/csd395/CSHL_cells_v2/detected_cells/MD589/MD589-IHC66-2015.07.31-01.55.14_MD589_1_0196/MD589-IHC66-2015.07.31-01.55.14_MD589_1_0196_image.jpg\n"
     ]
    },
    {
     "name": "stderr",
     "output_type": "stream",
     "text": [
      "Child returned 0\n",
      "Load mask: 9.65\n",
      "regionprops: 1.84\n",
      "42559 blobs identified.\n",
      "Save blob coords: 2.13\n",
      "Save blob masks: 4.66\n",
      "Save blob contours, save: 7.22\n",
      "Compute blob properties, save: 8.94\n",
      "Processing section: 350\n"
     ]
    },
    {
     "name": "stdout",
     "output_type": "stream",
     "text": [
      "cp /oasis/projects/nsf/csd395/yuncong/CSHL_data_processed/MD589/MD589_lossless_unsorted_alignedTo_MD589-IHC31-2015.07.30-23.26.22_MD589_1_0091_cropped_compressed/MD589-N66-2015.07.30-20.35.16_MD589_2_0197_lossless_alignedTo_MD589-IHC31-2015.07.30-23.26.22_MD589_1_0091_cropped_compressed.jpg /home/yuncong/csd395/CSHL_cells_v2/detected_cells/MD589/MD589-N66-2015.07.30-20.35.16_MD589_2_0197/MD589-N66-2015.07.30-20.35.16_MD589_2_0197_image.jpg\n"
     ]
    },
    {
     "name": "stderr",
     "output_type": "stream",
     "text": [
      "Child returned 0\n",
      "Load mask: 9.64\n",
      "regionprops: 1.79\n",
      "42460 blobs identified.\n",
      "Save blob coords: 2.12\n",
      "Save blob masks: 4.64\n",
      "Save blob contours, save: 7.09\n",
      "Compute blob properties, save: 9.14\n",
      "Processing section: 351\n"
     ]
    },
    {
     "name": "stdout",
     "output_type": "stream",
     "text": [
      "cp /oasis/projects/nsf/csd395/yuncong/CSHL_data_processed/MD589/MD589_lossless_unsorted_alignedTo_MD589-IHC31-2015.07.30-23.26.22_MD589_1_0091_cropped_compressed/MD589-IHC66-2015.07.31-01.55.14_MD589_2_0197_lossless_alignedTo_MD589-IHC31-2015.07.30-23.26.22_MD589_1_0091_cropped_compressed.jpg /home/yuncong/csd395/CSHL_cells_v2/detected_cells/MD589/MD589-IHC66-2015.07.31-01.55.14_MD589_2_0197/MD589-IHC66-2015.07.31-01.55.14_MD589_2_0197_image.jpg\n"
     ]
    },
    {
     "name": "stderr",
     "output_type": "stream",
     "text": [
      "Child returned 0\n",
      "Load mask: 9.64\n",
      "regionprops: 1.60\n",
      "52244 blobs identified.\n",
      "Save blob coords: 2.70\n",
      "Save blob masks: 5.94\n",
      "Save blob contours, save: 8.64\n",
      "Compute blob properties, save: 11.35\n",
      "Processing section: 352\n"
     ]
    },
    {
     "name": "stdout",
     "output_type": "stream",
     "text": [
      "cp /oasis/projects/nsf/csd395/yuncong/CSHL_data_processed/MD589/MD589_lossless_unsorted_alignedTo_MD589-IHC31-2015.07.30-23.26.22_MD589_1_0091_cropped_compressed/MD589-N66-2015.07.30-20.35.16_MD589_3_0198_lossless_alignedTo_MD589-IHC31-2015.07.30-23.26.22_MD589_1_0091_cropped_compressed.jpg /home/yuncong/csd395/CSHL_cells_v2/detected_cells/MD589/MD589-N66-2015.07.30-20.35.16_MD589_3_0198/MD589-N66-2015.07.30-20.35.16_MD589_3_0198_image.jpg\n"
     ]
    },
    {
     "name": "stderr",
     "output_type": "stream",
     "text": [
      "Child returned 0\n",
      "Load mask: 9.65\n",
      "regionprops: 1.93\n",
      "42298 blobs identified.\n",
      "Save blob coords: 2.13\n",
      "Save blob masks: 4.58\n",
      "Save blob contours, save: 7.27\n",
      "Compute blob properties, save: 8.96\n",
      "Processing section: 353\n"
     ]
    },
    {
     "name": "stdout",
     "output_type": "stream",
     "text": [
      "cp /oasis/projects/nsf/csd395/yuncong/CSHL_data_processed/MD589/MD589_lossless_unsorted_alignedTo_MD589-IHC31-2015.07.30-23.26.22_MD589_1_0091_cropped_compressed/MD589-IHC66-2015.07.31-01.55.14_MD589_3_0198_lossless_alignedTo_MD589-IHC31-2015.07.30-23.26.22_MD589_1_0091_cropped_compressed.jpg /home/yuncong/csd395/CSHL_cells_v2/detected_cells/MD589/MD589-IHC66-2015.07.31-01.55.14_MD589_3_0198/MD589-IHC66-2015.07.31-01.55.14_MD589_3_0198_image.jpg\n"
     ]
    },
    {
     "name": "stderr",
     "output_type": "stream",
     "text": [
      "Child returned 0\n",
      "Load mask: 9.65\n",
      "regionprops: 1.65\n",
      "42372 blobs identified.\n",
      "Save blob coords: 2.19\n",
      "Save blob masks: 4.87\n",
      "Save blob contours, save: 7.27\n",
      "Compute blob properties, save: 9.12\n",
      "Processing section: 354\n"
     ]
    },
    {
     "name": "stdout",
     "output_type": "stream",
     "text": [
      "cp /oasis/projects/nsf/csd395/yuncong/CSHL_data_processed/MD589/MD589_lossless_unsorted_alignedTo_MD589-IHC31-2015.07.30-23.26.22_MD589_1_0091_cropped_compressed/MD589-N67-2015.07.30-20.39.13_MD589_1_0199_lossless_alignedTo_MD589-IHC31-2015.07.30-23.26.22_MD589_1_0091_cropped_compressed.jpg /home/yuncong/csd395/CSHL_cells_v2/detected_cells/MD589/MD589-N67-2015.07.30-20.39.13_MD589_1_0199/MD589-N67-2015.07.30-20.39.13_MD589_1_0199_image.jpg\n"
     ]
    },
    {
     "name": "stderr",
     "output_type": "stream",
     "text": [
      "Child returned 0\n",
      "Load mask: 9.64\n",
      "regionprops: 1.83\n",
      "42105 blobs identified.\n",
      "Save blob coords: 2.19\n",
      "Save blob masks: 4.66\n",
      "Save blob contours, save: 7.15\n",
      "Compute blob properties, save: 9.00\n",
      "Processing section: 355\n"
     ]
    },
    {
     "name": "stdout",
     "output_type": "stream",
     "text": [
      "cp /oasis/projects/nsf/csd395/yuncong/CSHL_data_processed/MD589/MD589_lossless_unsorted_alignedTo_MD589-IHC31-2015.07.30-23.26.22_MD589_1_0091_cropped_compressed/MD589-IHC67-2015.07.31-01.59.20_MD589_1_0199_lossless_alignedTo_MD589-IHC31-2015.07.30-23.26.22_MD589_1_0091_cropped_compressed.jpg /home/yuncong/csd395/CSHL_cells_v2/detected_cells/MD589/MD589-IHC67-2015.07.31-01.59.20_MD589_1_0199/MD589-IHC67-2015.07.31-01.59.20_MD589_1_0199_image.jpg\n"
     ]
    },
    {
     "name": "stderr",
     "output_type": "stream",
     "text": [
      "Child returned 0\n",
      "Load mask: 9.71\n",
      "regionprops: 1.99\n",
      "52058 blobs identified.\n",
      "Save blob coords: 2.77\n",
      "Save blob masks: 5.85\n",
      "Save blob contours, save: 8.79\n",
      "Compute blob properties, save: 11.53\n",
      "Processing section: 356\n"
     ]
    },
    {
     "name": "stdout",
     "output_type": "stream",
     "text": [
      "cp /oasis/projects/nsf/csd395/yuncong/CSHL_data_processed/MD589/MD589_lossless_unsorted_alignedTo_MD589-IHC31-2015.07.30-23.26.22_MD589_1_0091_cropped_compressed/MD589-N67-2015.07.30-20.39.13_MD589_2_0200_lossless_alignedTo_MD589-IHC31-2015.07.30-23.26.22_MD589_1_0091_cropped_compressed.jpg /home/yuncong/csd395/CSHL_cells_v2/detected_cells/MD589/MD589-N67-2015.07.30-20.39.13_MD589_2_0200/MD589-N67-2015.07.30-20.39.13_MD589_2_0200_image.jpg\n"
     ]
    },
    {
     "name": "stderr",
     "output_type": "stream",
     "text": [
      "Child returned 0\n",
      "Load mask: 9.64\n",
      "regionprops: 1.92\n",
      "41703 blobs identified.\n",
      "Save blob coords: 2.17\n",
      "Save blob masks: 4.63\n",
      "Save blob contours, save: 7.03\n",
      "Compute blob properties, save: 9.01\n",
      "Processing section: 357\n"
     ]
    },
    {
     "name": "stdout",
     "output_type": "stream",
     "text": [
      "cp /oasis/projects/nsf/csd395/yuncong/CSHL_data_processed/MD589/MD589_lossless_unsorted_alignedTo_MD589-IHC31-2015.07.30-23.26.22_MD589_1_0091_cropped_compressed/MD589-IHC67-2015.07.31-01.59.20_MD589_2_0200_lossless_alignedTo_MD589-IHC31-2015.07.30-23.26.22_MD589_1_0091_cropped_compressed.jpg /home/yuncong/csd395/CSHL_cells_v2/detected_cells/MD589/MD589-IHC67-2015.07.31-01.59.20_MD589_2_0200/MD589-IHC67-2015.07.31-01.59.20_MD589_2_0200_image.jpg\n"
     ]
    },
    {
     "name": "stderr",
     "output_type": "stream",
     "text": [
      "Child returned 0\n",
      "Load mask: 9.66\n",
      "regionprops: 1.54\n",
      "41501 blobs identified.\n",
      "Save blob coords: 2.13\n",
      "Save blob masks: 4.60\n",
      "Save blob contours, save: 7.14\n",
      "Compute blob properties, save: 8.89\n",
      "Processing section: 358\n"
     ]
    },
    {
     "name": "stdout",
     "output_type": "stream",
     "text": [
      "cp /oasis/projects/nsf/csd395/yuncong/CSHL_data_processed/MD589/MD589_lossless_unsorted_alignedTo_MD589-IHC31-2015.07.30-23.26.22_MD589_1_0091_cropped_compressed/MD589-N67-2015.07.30-20.39.13_MD589_3_0201_lossless_alignedTo_MD589-IHC31-2015.07.30-23.26.22_MD589_1_0091_cropped_compressed.jpg /home/yuncong/csd395/CSHL_cells_v2/detected_cells/MD589/MD589-N67-2015.07.30-20.39.13_MD589_3_0201/MD589-N67-2015.07.30-20.39.13_MD589_3_0201_image.jpg\n"
     ]
    },
    {
     "name": "stderr",
     "output_type": "stream",
     "text": [
      "Child returned 0\n",
      "Load mask: 9.65\n",
      "regionprops: 1.79\n",
      "41529 blobs identified.\n",
      "Save blob coords: 2.12\n",
      "Save blob masks: 4.53\n",
      "Save blob contours, save: 7.11\n",
      "Compute blob properties, save: 8.89\n",
      "Processing section: 359\n"
     ]
    },
    {
     "name": "stdout",
     "output_type": "stream",
     "text": [
      "cp /oasis/projects/nsf/csd395/yuncong/CSHL_data_processed/MD589/MD589_lossless_unsorted_alignedTo_MD589-IHC31-2015.07.30-23.26.22_MD589_1_0091_cropped_compressed/MD589-IHC67-2015.07.31-01.59.20_MD589_3_0201_lossless_alignedTo_MD589-IHC31-2015.07.30-23.26.22_MD589_1_0091_cropped_compressed.jpg /home/yuncong/csd395/CSHL_cells_v2/detected_cells/MD589/MD589-IHC67-2015.07.31-01.59.20_MD589_3_0201/MD589-IHC67-2015.07.31-01.59.20_MD589_3_0201_image.jpg\n"
     ]
    },
    {
     "name": "stderr",
     "output_type": "stream",
     "text": [
      "Child returned 0\n",
      "Load mask: 9.65\n",
      "regionprops: 1.94\n",
      "51124 blobs identified.\n",
      "Save blob coords: 2.77\n",
      "Save blob masks: 5.77\n",
      "Save blob contours, save: 8.67\n",
      "Compute blob properties, save: 11.39\n",
      "Processing section: 360\n"
     ]
    },
    {
     "name": "stdout",
     "output_type": "stream",
     "text": [
      "cp /oasis/projects/nsf/csd395/yuncong/CSHL_data_processed/MD589/MD589_lossless_unsorted_alignedTo_MD589-IHC31-2015.07.30-23.26.22_MD589_1_0091_cropped_compressed/MD589-N68-2015.07.30-20.43.04_MD589_1_0202_lossless_alignedTo_MD589-IHC31-2015.07.30-23.26.22_MD589_1_0091_cropped_compressed.jpg /home/yuncong/csd395/CSHL_cells_v2/detected_cells/MD589/MD589-N68-2015.07.30-20.43.04_MD589_1_0202/MD589-N68-2015.07.30-20.43.04_MD589_1_0202_image.jpg\n"
     ]
    },
    {
     "name": "stderr",
     "output_type": "stream",
     "text": [
      "Child returned 0\n",
      "Load mask: 9.64\n",
      "regionprops: 1.70\n",
      "49408 blobs identified.\n",
      "Save blob coords: 2.88\n",
      "Save blob masks: 5.86\n",
      "Save blob contours, save: 8.33\n",
      "Compute blob properties, save: 11.22\n",
      "Processing section: 361\n"
     ]
    },
    {
     "name": "stdout",
     "output_type": "stream",
     "text": [
      "cp /oasis/projects/nsf/csd395/yuncong/CSHL_data_processed/MD589/MD589_lossless_unsorted_alignedTo_MD589-IHC31-2015.07.30-23.26.22_MD589_1_0091_cropped_compressed/MD589-IHC68-2015.07.31-02.03.18_MD589_1_0202_lossless_alignedTo_MD589-IHC31-2015.07.30-23.26.22_MD589_1_0091_cropped_compressed.jpg /home/yuncong/csd395/CSHL_cells_v2/detected_cells/MD589/MD589-IHC68-2015.07.31-02.03.18_MD589_1_0202/MD589-IHC68-2015.07.31-02.03.18_MD589_1_0202_image.jpg\n"
     ]
    },
    {
     "name": "stderr",
     "output_type": "stream",
     "text": [
      "Child returned 0\n",
      "Load mask: 9.65\n",
      "regionprops: 1.64\n",
      "40218 blobs identified.\n",
      "Save blob coords: 2.12\n",
      "Save blob masks: 4.62\n",
      "Save blob contours, save: 6.95\n",
      "Compute blob properties, save: 8.70\n",
      "Processing section: 362\n"
     ]
    },
    {
     "name": "stdout",
     "output_type": "stream",
     "text": [
      "cp /oasis/projects/nsf/csd395/yuncong/CSHL_data_processed/MD589/MD589_lossless_unsorted_alignedTo_MD589-IHC31-2015.07.30-23.26.22_MD589_1_0091_cropped_compressed/MD589-N68-2015.07.30-20.43.04_MD589_2_0203_lossless_alignedTo_MD589-IHC31-2015.07.30-23.26.22_MD589_1_0091_cropped_compressed.jpg /home/yuncong/csd395/CSHL_cells_v2/detected_cells/MD589/MD589-N68-2015.07.30-20.43.04_MD589_2_0203/MD589-N68-2015.07.30-20.43.04_MD589_2_0203_image.jpg\n"
     ]
    },
    {
     "name": "stderr",
     "output_type": "stream",
     "text": [
      "Child returned 0\n",
      "Load mask: 9.64\n",
      "regionprops: 1.80\n",
      "39753 blobs identified.\n",
      "Save blob coords: 2.08\n",
      "Save blob masks: 4.42\n",
      "Save blob contours, save: 6.85\n",
      "Compute blob properties, save: 8.53\n",
      "Processing section: 363\n"
     ]
    },
    {
     "name": "stdout",
     "output_type": "stream",
     "text": [
      "cp /oasis/projects/nsf/csd395/yuncong/CSHL_data_processed/MD589/MD589_lossless_unsorted_alignedTo_MD589-IHC31-2015.07.30-23.26.22_MD589_1_0091_cropped_compressed/MD589-IHC68-2015.07.31-02.03.18_MD589_2_0203_lossless_alignedTo_MD589-IHC31-2015.07.30-23.26.22_MD589_1_0091_cropped_compressed.jpg /home/yuncong/csd395/CSHL_cells_v2/detected_cells/MD589/MD589-IHC68-2015.07.31-02.03.18_MD589_2_0203/MD589-IHC68-2015.07.31-02.03.18_MD589_2_0203_image.jpg\n"
     ]
    },
    {
     "name": "stderr",
     "output_type": "stream",
     "text": [
      "Child returned 0\n",
      "Load mask: 9.79\n",
      "regionprops: 1.96\n",
      "40113 blobs identified.\n",
      "Save blob coords: 2.11\n",
      "Save blob masks: 4.45\n",
      "Save blob contours, save: 6.93\n",
      "Compute blob properties, save: 8.69\n",
      "Processing section: 364\n"
     ]
    },
    {
     "name": "stdout",
     "output_type": "stream",
     "text": [
      "cp /oasis/projects/nsf/csd395/yuncong/CSHL_data_processed/MD589/MD589_lossless_unsorted_alignedTo_MD589-IHC31-2015.07.30-23.26.22_MD589_1_0091_cropped_compressed/MD589-N68-2015.07.30-20.43.04_MD589_3_0204_lossless_alignedTo_MD589-IHC31-2015.07.30-23.26.22_MD589_1_0091_cropped_compressed.jpg /home/yuncong/csd395/CSHL_cells_v2/detected_cells/MD589/MD589-N68-2015.07.30-20.43.04_MD589_3_0204/MD589-N68-2015.07.30-20.43.04_MD589_3_0204_image.jpg\n"
     ]
    },
    {
     "name": "stderr",
     "output_type": "stream",
     "text": [
      "Child returned 0\n",
      "Load mask: 9.64\n",
      "regionprops: 1.78\n",
      "40055 blobs identified.\n",
      "Save blob coords: 2.09\n",
      "Save blob masks: 4.41\n",
      "Save blob contours, save: 6.94\n",
      "Compute blob properties, save: 8.68\n",
      "Processing section: 365\n"
     ]
    },
    {
     "name": "stdout",
     "output_type": "stream",
     "text": [
      "cp /oasis/projects/nsf/csd395/yuncong/CSHL_data_processed/MD589/MD589_lossless_unsorted_alignedTo_MD589-IHC31-2015.07.30-23.26.22_MD589_1_0091_cropped_compressed/MD589-IHC68-2015.07.31-02.03.18_MD589_3_0204_lossless_alignedTo_MD589-IHC31-2015.07.30-23.26.22_MD589_1_0091_cropped_compressed.jpg /home/yuncong/csd395/CSHL_cells_v2/detected_cells/MD589/MD589-IHC68-2015.07.31-02.03.18_MD589_3_0204/MD589-IHC68-2015.07.31-02.03.18_MD589_3_0204_image.jpg\n"
     ]
    },
    {
     "name": "stderr",
     "output_type": "stream",
     "text": [
      "Child returned 0\n",
      "Load mask: 9.65\n",
      "regionprops: 1.62\n",
      "39848 blobs identified.\n",
      "Save blob coords: 2.11\n",
      "Save blob masks: 4.54\n",
      "Save blob contours, save: 6.72\n",
      "Compute blob properties, save: 8.54\n",
      "Processing section: 366\n"
     ]
    },
    {
     "name": "stdout",
     "output_type": "stream",
     "text": [
      "cp /oasis/projects/nsf/csd395/yuncong/CSHL_data_processed/MD589/MD589_lossless_unsorted_alignedTo_MD589-IHC31-2015.07.30-23.26.22_MD589_1_0091_cropped_compressed/MD589-N69-2015.07.30-20.46.59_MD589_1_0205_lossless_alignedTo_MD589-IHC31-2015.07.30-23.26.22_MD589_1_0091_cropped_compressed.jpg /home/yuncong/csd395/CSHL_cells_v2/detected_cells/MD589/MD589-N69-2015.07.30-20.46.59_MD589_1_0205/MD589-N69-2015.07.30-20.46.59_MD589_1_0205_image.jpg\n"
     ]
    },
    {
     "name": "stderr",
     "output_type": "stream",
     "text": [
      "Child returned 0\n",
      "Load mask: 9.64\n",
      "regionprops: 1.86\n",
      "39815 blobs identified.\n",
      "Save blob coords: 2.12\n",
      "Save blob masks: 4.44\n",
      "Save blob contours, save: 6.58\n",
      "Compute blob properties, save: 8.66\n",
      "Processing section: 367\n"
     ]
    },
    {
     "name": "stdout",
     "output_type": "stream",
     "text": [
      "cp /oasis/projects/nsf/csd395/yuncong/CSHL_data_processed/MD589/MD589_lossless_unsorted_alignedTo_MD589-IHC31-2015.07.30-23.26.22_MD589_1_0091_cropped_compressed/MD589-IHC69-2015.07.31-02.07.15_MD589_1_0205_lossless_alignedTo_MD589-IHC31-2015.07.30-23.26.22_MD589_1_0091_cropped_compressed.jpg /home/yuncong/csd395/CSHL_cells_v2/detected_cells/MD589/MD589-IHC69-2015.07.31-02.07.15_MD589_1_0205/MD589-IHC69-2015.07.31-02.07.15_MD589_1_0205_image.jpg\n"
     ]
    },
    {
     "name": "stderr",
     "output_type": "stream",
     "text": [
      "Child returned 0\n",
      "Load mask: 9.65\n",
      "regionprops: 1.83\n",
      "39219 blobs identified.\n",
      "Save blob coords: 2.11\n",
      "Save blob masks: 4.37\n",
      "Save blob contours, save: 6.70\n",
      "Compute blob properties, save: 8.57\n",
      "Processing section: 368\n"
     ]
    },
    {
     "name": "stdout",
     "output_type": "stream",
     "text": [
      "cp /oasis/projects/nsf/csd395/yuncong/CSHL_data_processed/MD589/MD589_lossless_unsorted_alignedTo_MD589-IHC31-2015.07.30-23.26.22_MD589_1_0091_cropped_compressed/MD589-N69-2015.07.30-20.46.59_MD589_2_0206_lossless_alignedTo_MD589-IHC31-2015.07.30-23.26.22_MD589_1_0091_cropped_compressed.jpg /home/yuncong/csd395/CSHL_cells_v2/detected_cells/MD589/MD589-N69-2015.07.30-20.46.59_MD589_2_0206/MD589-N69-2015.07.30-20.46.59_MD589_2_0206_image.jpg\n"
     ]
    },
    {
     "name": "stderr",
     "output_type": "stream",
     "text": [
      "Child returned 0\n",
      "Load mask: 9.64\n",
      "regionprops: 1.54\n",
      "39370 blobs identified.\n",
      "Save blob coords: 2.11\n",
      "Save blob masks: 4.53\n",
      "Save blob contours, save: 6.68\n",
      "Compute blob properties, save: 8.50\n",
      "Processing section: 369\n"
     ]
    },
    {
     "name": "stdout",
     "output_type": "stream",
     "text": [
      "cp /oasis/projects/nsf/csd395/yuncong/CSHL_data_processed/MD589/MD589_lossless_unsorted_alignedTo_MD589-IHC31-2015.07.30-23.26.22_MD589_1_0091_cropped_compressed/MD589-IHC69-2015.07.31-02.07.15_MD589_2_0206_lossless_alignedTo_MD589-IHC31-2015.07.30-23.26.22_MD589_1_0091_cropped_compressed.jpg /home/yuncong/csd395/CSHL_cells_v2/detected_cells/MD589/MD589-IHC69-2015.07.31-02.07.15_MD589_2_0206/MD589-IHC69-2015.07.31-02.07.15_MD589_2_0206_image.jpg\n"
     ]
    },
    {
     "name": "stderr",
     "output_type": "stream",
     "text": [
      "Child returned 0\n",
      "Load mask: 9.65\n",
      "regionprops: 1.77\n",
      "39134 blobs identified.\n",
      "Save blob coords: 2.10\n",
      "Save blob masks: 4.36\n",
      "Save blob contours, save: 6.91\n",
      "Compute blob properties, save: 8.45\n",
      "Processing section: 370\n"
     ]
    },
    {
     "name": "stdout",
     "output_type": "stream",
     "text": [
      "cp /oasis/projects/nsf/csd395/yuncong/CSHL_data_processed/MD589/MD589_lossless_unsorted_alignedTo_MD589-IHC31-2015.07.30-23.26.22_MD589_1_0091_cropped_compressed/MD589-N69-2015.07.30-20.46.59_MD589_3_0207_lossless_alignedTo_MD589-IHC31-2015.07.30-23.26.22_MD589_1_0091_cropped_compressed.jpg /home/yuncong/csd395/CSHL_cells_v2/detected_cells/MD589/MD589-N69-2015.07.30-20.46.59_MD589_3_0207/MD589-N69-2015.07.30-20.46.59_MD589_3_0207_image.jpg\n"
     ]
    },
    {
     "name": "stderr",
     "output_type": "stream",
     "text": [
      "Child returned 0\n",
      "Load mask: 9.65\n",
      "regionprops: 1.80\n",
      "38891 blobs identified.\n",
      "Save blob coords: 2.05\n",
      "Save blob masks: 4.39\n",
      "Save blob contours, save: 6.74\n",
      "Compute blob properties, save: 8.34\n"
     ]
    }
   ],
   "source": [
    "# for sec in [192, 242]:\n",
    "# for sec in range(first_bs_section, last_bs_section+1):\n",
    "for sec in range(117, last_bs_section+1):\n",
    "\n",
    "    fn = sections_to_filenames[sec]\n",
    "    if fn in ['Placeholder', 'Rescan', 'Nonexisting']:\n",
    "        continue\n",
    "        \n",
    "    fn_output_dir = create_if_not_exists(os.path.join(output_dir, fn))\n",
    "\n",
    "    sys.stderr.write('Processing section: %03d\\n' % sec)\n",
    "\n",
    "    jpeg_filename = DataManager.get_image_filepath(stack=stack, section=sec, resol='lossless', version='compressed')\n",
    "    copyto_filename ='/home/yuncong/csd395/CSHL_cells_v2/detected_cells/MD589/%(fn)s/%(fn)s_image.jpg' % {'fn':fn}\n",
    "    execute_command(\"cp %s %s\" % (jpeg_filename, copyto_filename))\n",
    "    \n",
    "    # Load mask\n",
    "    t = time.time()\n",
    "    mask_tb = DataManager.load_thumbnail_mask_v2(stack=stack, section=sec)\n",
    "    mask = resize(mask_tb, metadata_cache['image_shape'][stack][::-1]) > .5\n",
    "    sys.stderr.write('Load mask: %.2f\\n' % (time.time() - t) )\n",
    "\n",
    "    \n",
    "    if alg == 'myown':\n",
    "        \n",
    "        img_filename = DataManager.get_image_filepath(stack=stack, section=sec, resol='lossless', version='cropped')\n",
    "\n",
    "        img = imread(img_filename)\n",
    "        sys.stderr.write('Load image: %.2f\\n' % (time.time() - t) )\n",
    "\n",
    "        t = time.time()\n",
    "        im = rgb2gray(img)\n",
    "        sys.stderr.write('Convert to gray: %.2f\\n' % (time.time() - t) )\n",
    "\n",
    "        t = time.time()\n",
    "\n",
    "        thresh = threshold_otsu(im)\n",
    "        binary = im < thresh\n",
    "        binary[~mask] = 0\n",
    "\n",
    "        sys.stderr.write('threshold: %.2f\\n' % (time.time() - t) )\n",
    "    #     imsave(fn_output_dir + '/%(fn)s_otsu.png' % {'fn':fn}, binary.astype(np.uint8)*255)\n",
    "\n",
    "        # plt.imshow(binary, cmap=plt.cm.gray);\n",
    "        # plt.axis('off');\n",
    "        # plt.title('binary');\n",
    "\n",
    "        t = time.time()\n",
    "        dt = distance_transform_edt(binary)\n",
    "        sys.stderr.write('distance transform: %.2f\\n' % (time.time() - t) )\n",
    "\n",
    "    #     imsave(fn_output_dir + '/%(fn)s_dt.png' % {'fn':fn}, img_as_ubyte(plt.cm.jet(dt/dt.max())))\n",
    "\n",
    "        # plt.imshow(dt, cmap=plt.cm.gray);\n",
    "        # plt.axis('off');\n",
    "        # plt.title('distance tranform');\n",
    "\n",
    "        t = time.time()\n",
    "        local_maxi = peak_local_max(dt, labels=binary, footprint=np.ones((10, 10)), indices=False)\n",
    "        sys.stderr.write('local max: %.2f\\n' % (time.time() - t) )\n",
    "\n",
    "        # plt.imshow(local_maxi, cmap=plt.cm.gray);\n",
    "        # plt.axis('off');\n",
    "        # plt.title('local maxima');\n",
    "\n",
    "        t = time.time()\n",
    "        markers = label(local_maxi)\n",
    "        sys.stderr.write('label: %.2f\\n' % (time.time() - t) )\n",
    "\n",
    "        t = time.time()\n",
    "        labels = watershed(-dt, markers, mask=binary)\n",
    "        sys.stderr.write('watershed: %.2f\\n' % (time.time() - t) )\n",
    "        \n",
    "    elif alg == 'cellprofiler':\n",
    "        labels = bp.unpack_ndarray_file(output_dir + '/%(fn)s/%(fn)s_image_inverted_labelmap_cellprofiler.bp' % \\\n",
    "                                        dict(fn=fn))\n",
    "        labels[~mask] = 0\n",
    "    \n",
    "    elif alg == 'farsight':\n",
    "        labels = bp.unpack_ndarray_file(output_dir + '/%(fn)s/%(fn)s_image_inverted_labelmap_farsight.bp' % \\\n",
    "                                       dict(fn=fn))\n",
    "        labels[~mask] = 0\n",
    "    \n",
    "    else:\n",
    "        raise 'Algorithm not recognized.'\n",
    "    \n",
    "    # plt.imshow(labels);\n",
    "    # plt.axis('off');\n",
    "    # plt.title('labels');\n",
    "\n",
    "    t = time.time()\n",
    "    props = regionprops(labels)\n",
    "    sys.stderr.write('regionprops: %.2f\\n' % (time.time() - t) )\n",
    "\n",
    "#     plt.hist([p.area for p in props], bins=100);\n",
    "#     plt.title('Area histograms');\n",
    "#     plt.show();\n",
    "\n",
    "    valid_blob_indices = [i for i, p in enumerate(props) if p.area > min_blob_area and p.area < max_blob_area]\n",
    "    sys.stderr.write('%d blobs identified.\\n' % len(valid_blob_indices))\n",
    "    \n",
    "    # Get blobs\n",
    "    t = time.time()\n",
    "    valid_blob_coords = [props[i].coords for i in valid_blob_indices] # r,c\n",
    "    #     pickle.dump(valid_blob_coords, open(fn_output_dir + '/%(fn)s_blobCoords.pkl' % {'fn':fn}, 'w'))\n",
    "    pandas.Series(data=valid_blob_coords).to_hdf(fn_output_dir + '/%(fn)s_blobCoords.hdf' % {'fn': fn}, 'data', mode='w')\n",
    "    sys.stderr.write('Save blob coords: %.2f\\n' % (time.time() - t) )\n",
    "    \n",
    "    # Generate masks\n",
    "    t = time.time()\n",
    "#     bar = show_progress_bar(first_bs_section, last_bs_section)\n",
    "\n",
    "    cell_masks = []\n",
    "    cell_mask_centers = []\n",
    "    for i, coords in enumerate(valid_blob_coords):\n",
    "#         bar.value = i\n",
    "        ymin, xmin = coords.min(axis=0)\n",
    "        ymax, xmax = coords.max(axis=0)\n",
    "        cell_mask = np.zeros((ymax+1-ymin, xmax+1-xmin), np.bool)\n",
    "        cell_mask[coords[:,0]-ymin, coords[:,1]-xmin] = 1\n",
    "        yc, xc = np.mean(np.where(cell_mask), axis=1)\n",
    "        cell_masks.append(cell_mask)\n",
    "        cell_mask_centers.append([xc, yc])\n",
    "    \n",
    "    pandas.Series(data=cell_masks).to_hdf(fn_output_dir + '/%(fn)s_blobMasks.hdf' % {'fn': fn}, 'data', mode='w')    \n",
    "    bp.pack_ndarray_file(np.array(cell_mask_centers), fn_output_dir + '/%(fn)s_blobMaskCenters.bp' % {'fn':fn})\n",
    "\n",
    "    sys.stderr.write('Save blob masks: %.2f\\n' % (time.time() - t) )\n",
    "    \n",
    "    # Other blob attributes\n",
    "    t = time.time()\n",
    "\n",
    "#     valid_blob_contours = [find_contour_points(msk, sample_every=1)[1][0] for msk in cell_masks]\n",
    "\n",
    "    def find_contour_worker(msk):\n",
    "        if msk.shape[0] == 1:\n",
    "            # if mask is a straight line, append another line to it.\n",
    "            msk = np.vstack([msk, np.ones((msk.shape[1],))])\n",
    "        elif msk.shape[1] == 1:\n",
    "            msk = np.c_[msk, np.ones((msk.shape[0],))]\n",
    "        return find_contour_points(msk, sample_every=1)[1][0]\n",
    "        \n",
    "    pool = Pool(16)\n",
    "    valid_blob_contours = pool.map(lambda msk: find_contour_worker(msk), cell_masks)\n",
    "    pool.terminate()\n",
    "    pool.join()\n",
    "\n",
    "#     pickle.dump(valid_blob_contours, open(fn_output_dir + '/%(fn)s_blobContours.pkl' % {'fn':fn}, 'w'))\n",
    "    pandas.Series(data=valid_blob_contours).to_hdf(fn_output_dir + '/%(fn)s_blobContours.hdf' % {'fn': fn}, 'data', mode='w')\n",
    "      \n",
    "    sys.stderr.write('Save blob contours, save: %.2f\\n' % (time.time() - t) )\n",
    "    \n",
    "    t = time.time()\n",
    "\n",
    "    valid_blob_orientations = np.array([props[i].orientation for i in valid_blob_indices])\n",
    "    valid_blob_centroids = np.array([props[i].centroid for i in valid_blob_indices])[:,::-1] # r,c -> x,y\n",
    "    valid_blob_majorAxisLen = np.array([props[i].major_axis_length for i in valid_blob_indices])\n",
    "    valid_blob_minorAxisLen = np.array([props[i].minor_axis_length for i in valid_blob_indices])\n",
    "\n",
    "    bp.pack_ndarray_file(valid_blob_orientations, fn_output_dir + '/%(fn)s_blobOrientations.bp' % {'fn':fn})\n",
    "    bp.pack_ndarray_file(valid_blob_centroids, fn_output_dir + '/%(fn)s_blobCentroids.bp' % {'fn':fn})\n",
    "    bp.pack_ndarray_file(valid_blob_majorAxisLen, fn_output_dir + '/%(fn)s_blobMajorAxisLen.bp' % {'fn':fn})\n",
    "    bp.pack_ndarray_file(valid_blob_minorAxisLen, fn_output_dir + '/%(fn)s_blobMinorAxisLen.bp' % {'fn':fn})\n",
    "\n",
    "    blob_contours_global = [(valid_blob_contours[i] - cell_mask_centers[i] + valid_blob_centroids[i]).astype(np.int)\n",
    "                            for i in range(len(valid_blob_coords))]\n",
    "    pandas.Series(data=blob_contours_global).to_hdf(fn_output_dir + '/%(fn)s_blobContoursGlobal_%(alg)s.hdf' % {'fn': fn, 'alg':alg}, \n",
    "                                                    'data', mode='w')\n",
    "    \n",
    "    sys.stderr.write('Compute blob properties, save: %.2f\\n' % (time.time() - t) )"
   ]
  },
  {
   "cell_type": "markdown",
   "metadata": {},
   "source": [
    "# Visualize"
   ]
  },
  {
   "cell_type": "code",
   "execution_count": 10,
   "metadata": {
    "collapsed": false
   },
   "outputs": [
    {
     "name": "stderr",
     "output_type": "stream",
     "text": [
      "Save image: 37.84\n",
      "Save image: 35.43\n"
     ]
    }
   ],
   "source": [
    "# Visualize\n",
    "\n",
    "for sec in [192, 242]:\n",
    "# for sec in range(first_bs_section, last_bs_section, 50):\n",
    "\n",
    "    t = time.time()\n",
    "    \n",
    "    fn = sections_to_filenames[sec]\n",
    "    fn_output_dir = create_if_not_exists(os.path.join(output_dir, fn))\n",
    "\n",
    "    blob_contours = pandas.read_hdf(fn_output_dir + '/%(fn)s_blobContoursGlobal_%(alg)s.hdf' % {'fn': fn, 'alg': alg}, 'data')\n",
    "    \n",
    "    w, h = metadata_cache['image_shape'][stack]\n",
    "    \n",
    "    n_blobs = len(blob_contours)\n",
    "    \n",
    "    blob_contour_viz = np.zeros((h, w, 4), np.uint8)\n",
    "    \n",
    "    bar = show_progress_bar(first_bs_section, last_bs_section)\n",
    "    for i in range(n_blobs):\n",
    "        bar.value = i\n",
    "        cnt = blob_contours[i]\n",
    "        blob_contour_viz[np.minimum(h-1, np.maximum(cnt[:,1], 0)), \n",
    "                         np.minimum(w-1, np.maximum(cnt[:,0], 0))] = (255,0,0,255)\n",
    "#         img[np.minimum(h-1, np.maximum(cnt[:,1], 0)), np.minimum(w-1, np.maximum(cnt[:,0], 0))] = (255,0,0)\n",
    "\n",
    "    imsave('/home/yuncong/csd395/CSHL_cells_v2/detected_cells/MD589/%(fn)s/%(fn)s_blobContours_viz_%(alg)s.png' % {'fn':fn, 'alg': alg}, \n",
    "           blob_contour_viz)\n",
    "\n",
    "#     imsave('/home/yuncong/csd395/CSHL_cells_v2/detected_cells/MD589/%(fn)s/%(fn)s_detection_image.jpg' % {'fn':fn}, img)\n",
    "    sys.stderr.write('Save image: %.2f\\n' % (time.time() - t) )"
   ]
  },
  {
   "cell_type": "code",
   "execution_count": null,
   "metadata": {
    "collapsed": true
   },
   "outputs": [],
   "source": []
  }
 ],
 "metadata": {
  "kernelspec": {
   "display_name": "Python 2",
   "language": "python",
   "name": "python2"
  },
  "language_info": {
   "codemirror_mode": {
    "name": "ipython",
    "version": 2
   },
   "file_extension": ".py",
   "mimetype": "text/x-python",
   "name": "python",
   "nbconvert_exporter": "python",
   "pygments_lexer": "ipython2",
   "version": "2.7.3"
  }
 },
 "nbformat": 4,
 "nbformat_minor": 0
}
