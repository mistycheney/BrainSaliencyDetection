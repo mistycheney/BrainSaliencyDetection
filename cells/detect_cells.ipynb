{
 "cells": [
  {
   "cell_type": "code",
   "execution_count": 1,
   "metadata": {
    "collapsed": false
   },
   "outputs": [
    {
     "name": "stdout",
     "output_type": "stream",
     "text": [
      "Setting environment for Gordon\n"
     ]
    },
    {
     "name": "stderr",
     "output_type": "stream",
     "text": [
      "No vtk\n"
     ]
    }
   ],
   "source": [
    "%reload_ext autoreload\n",
    "%autoreload 2\n",
    "\n",
    "import os\n",
    "import sys\n",
    "import time\n",
    "import cv2\n",
    "\n",
    "# from joblib import Parallel, delayed\n",
    "\n",
    "sys.path.append(os.path.join(os.environ['REPO_DIR'], 'utilities'))\n",
    "from utilities2015 import *\n",
    "from data_manager import *\n",
    "from metadata import *\n",
    "\n",
    "import matplotlib.pyplot as plt\n",
    "%matplotlib inline"
   ]
  },
  {
   "cell_type": "code",
   "execution_count": 2,
   "metadata": {
    "collapsed": false
   },
   "outputs": [],
   "source": [
    "from skimage.filters import threshold_otsu\n",
    "from scipy.ndimage.morphology import distance_transform_edt\n",
    "from skimage.feature import peak_local_max\n",
    "from skimage.morphology import watershed\n",
    "from skimage.measure import regionprops, label, find_contours\n",
    "from skimage.transform import resize\n",
    "\n",
    "from annotation_utilities import *\n",
    "from registration_utilities import *\n",
    "\n",
    "import pandas"
   ]
  },
  {
   "cell_type": "code",
   "execution_count": 3,
   "metadata": {
    "collapsed": true
   },
   "outputs": [],
   "source": [
    "stack = 'MD589'"
   ]
  },
  {
   "cell_type": "code",
   "execution_count": 4,
   "metadata": {
    "collapsed": true
   },
   "outputs": [],
   "source": [
    "min_blob_area = 10\n",
    "max_blob_area = 10000"
   ]
  },
  {
   "cell_type": "code",
   "execution_count": 5,
   "metadata": {
    "collapsed": true
   },
   "outputs": [],
   "source": [
    "sections_to_filenames = metadata_cache['sections_to_filenames'][stack]\n",
    "first_bs_section, last_bs_section = metadata_cache['section_limits'][stack]"
   ]
  },
  {
   "cell_type": "code",
   "execution_count": 6,
   "metadata": {
    "collapsed": true
   },
   "outputs": [],
   "source": [
    "output_dir = create_if_not_exists('/home/yuncong/csd395/CSHL_cells_v2/detected_cells/' + stack)"
   ]
  },
  {
   "cell_type": "code",
   "execution_count": 7,
   "metadata": {
    "collapsed": true
   },
   "outputs": [],
   "source": [
    "alg = 'cellprofiler'\n",
    "# alg = 'farsight'\n",
    "# alg = 'myown'"
   ]
  },
  {
   "cell_type": "code",
   "execution_count": 9,
   "metadata": {
    "collapsed": false,
    "scrolled": true
   },
   "outputs": [
    {
     "name": "stderr",
     "output_type": "stream",
     "text": [
      "Processing section: 192\n"
     ]
    },
    {
     "name": "stdout",
     "output_type": "stream",
     "text": [
      "cp /oasis/projects/nsf/csd395/yuncong/CSHL_data_processed/MD589/MD589_lossless_unsorted_alignedTo_MD589-IHC31-2015.07.30-23.26.22_MD589_1_0091_cropped_compressed/MD589-N34-2015.07.30-18.20.43_MD589_2_0101_lossless_alignedTo_MD589-IHC31-2015.07.30-23.26.22_MD589_1_0091_cropped_compressed.jpg /home/yuncong/csd395/CSHL_cells_v2/detected_cells/MD589/MD589-N34-2015.07.30-18.20.43_MD589_2_0101/MD589-N34-2015.07.30-18.20.43_MD589_2_0101_image.jpg\n"
     ]
    },
    {
     "name": "stderr",
     "output_type": "stream",
     "text": [
      "Child returned 0\n",
      "/oasis/projects/nsf/csd395/yuncong/brain_virtualenv/lib/python2.7/site-packages/skimage/external/tifffile/tifffile.py:1794: RuntimeWarning: py_decodelzw encountered unexpected end of stream\n",
      "  strip = decompress(strip)\n",
      "Load image: 56.61\n",
      "Convert to gray: 8.36\n",
      "Load mask: 10.81\n",
      "regionprops: 3.24\n",
      "92351 blobs identified.\n",
      "/oasis/projects/nsf/csd395/yuncong/brain_virtualenv/lib/python2.7/site-packages/pandas/core/generic.py:1101: PerformanceWarning: \n",
      "your performance may suffer as PyTables will pickle object types that it cannot\n",
      "map directly to c-types [inferred_type->mixed,key->values] [items->None]\n",
      "\n",
      "  return pytables.to_hdf(path_or_buf, key, self, **kwargs)\n",
      "Save blob coords: 5.19\n",
      "Save blob masks: 11.61\n",
      "Save blob contours, save: 14.28\n",
      "Compute blob properties, save: 15.01\n",
      "Processing section: 242\n"
     ]
    },
    {
     "name": "stdout",
     "output_type": "stream",
     "text": [
      "cp /oasis/projects/nsf/csd395/yuncong/CSHL_data_processed/MD589/MD589_lossless_unsorted_alignedTo_MD589-IHC31-2015.07.30-23.26.22_MD589_1_0091_cropped_compressed/MD589-N47-2015.07.30-19.12.19_MD589_1_0139_lossless_alignedTo_MD589-IHC31-2015.07.30-23.26.22_MD589_1_0091_cropped_compressed.jpg /home/yuncong/csd395/CSHL_cells_v2/detected_cells/MD589/MD589-N47-2015.07.30-19.12.19_MD589_1_0139/MD589-N47-2015.07.30-19.12.19_MD589_1_0139_image.jpg\n"
     ]
    },
    {
     "name": "stderr",
     "output_type": "stream",
     "text": [
      "Child returned 0\n",
      "Load image: 54.34\n",
      "Convert to gray: 8.33\n",
      "Load mask: 9.52\n",
      "regionprops: 2.74\n",
      "80647 blobs identified.\n",
      "Save blob coords: 3.98\n",
      "Save blob masks: 10.19\n",
      "Save blob contours, save: 12.63\n",
      "Compute blob properties, save: 13.85\n"
     ]
    }
   ],
   "source": [
    "for sec in [192, 242]:\n",
    "# for sec in range(first_bs_section, last_bs_section, 50):\n",
    "# for sec in range(242, last_bs_section, 50):\n",
    "\n",
    "    fn = sections_to_filenames[sec]\n",
    "    fn_output_dir = create_if_not_exists(os.path.join(output_dir, fn))\n",
    "\n",
    "    sys.stderr.write('Processing section: %03d\\n' % sec)\n",
    "\n",
    "    jpeg_filename = DataManager.get_image_filepath(stack=stack, section=sec, resol='lossless', version='compressed')\n",
    "    copyto_filename ='/home/yuncong/csd395/CSHL_cells_v2/detected_cells/MD589/%(fn)s/%(fn)s_image.jpg' % {'fn':fn}\n",
    "    execute_command(\"cp %s %s\" % (jpeg_filename, copyto_filename))\n",
    "    \n",
    "    if alg == 'myown':\n",
    "        \n",
    "        img_filename = DataManager.get_image_filepath(stack=stack, section=sec, resol='lossless', version='cropped')\n",
    "\n",
    "        img = imread(img_filename)\n",
    "        sys.stderr.write('Load image: %.2f\\n' % (time.time() - t) )\n",
    "\n",
    "        t = time.time()\n",
    "        im = rgb2gray(img)\n",
    "        sys.stderr.write('Convert to gray: %.2f\\n' % (time.time() - t) )\n",
    "\n",
    "        \n",
    "        t = time.time()\n",
    "\n",
    "        mask_tb = DataManager.load_thumbnail_mask_v2(stack=stack, section=sec)\n",
    "        mask = resize(mask_tb, img.shape[:2]) > .5\n",
    "\n",
    "        sys.stderr.write('Load mask: %.2f\\n' % (time.time() - t) )\n",
    "\n",
    "\n",
    "        t = time.time()\n",
    "\n",
    "        thresh = threshold_otsu(im)\n",
    "        binary = im < thresh\n",
    "        binary[~mask] = 0\n",
    "\n",
    "        sys.stderr.write('threshold: %.2f\\n' % (time.time() - t) )\n",
    "    #     imsave(fn_output_dir + '/%(fn)s_otsu.png' % {'fn':fn}, binary.astype(np.uint8)*255)\n",
    "\n",
    "        # plt.imshow(binary, cmap=plt.cm.gray);\n",
    "        # plt.axis('off');\n",
    "        # plt.title('binary');\n",
    "\n",
    "        t = time.time()\n",
    "        dt = distance_transform_edt(binary)\n",
    "        sys.stderr.write('distance transform: %.2f\\n' % (time.time() - t) )\n",
    "\n",
    "    #     imsave(fn_output_dir + '/%(fn)s_dt.png' % {'fn':fn}, img_as_ubyte(plt.cm.jet(dt/dt.max())))\n",
    "\n",
    "        # plt.imshow(dt, cmap=plt.cm.gray);\n",
    "        # plt.axis('off');\n",
    "        # plt.title('distance tranform');\n",
    "\n",
    "        t = time.time()\n",
    "        local_maxi = peak_local_max(dt, labels=binary, footprint=np.ones((10, 10)), indices=False)\n",
    "        sys.stderr.write('local max: %.2f\\n' % (time.time() - t) )\n",
    "\n",
    "        # plt.imshow(local_maxi, cmap=plt.cm.gray);\n",
    "        # plt.axis('off');\n",
    "        # plt.title('local maxima');\n",
    "\n",
    "        t = time.time()\n",
    "        markers = label(local_maxi)\n",
    "        sys.stderr.write('label: %.2f\\n' % (time.time() - t) )\n",
    "\n",
    "        t = time.time()\n",
    "        labels = watershed(-dt, markers, mask=binary)\n",
    "        sys.stderr.write('watershed: %.2f\\n' % (time.time() - t) )\n",
    "        \n",
    "    elif alg == 'cellprofiler':\n",
    "        labels = bp.unpack_ndarray_file(output_dir + '/%(fn)s/%(fn)s_image_inverted_labelmap_cellprofiler.bp' % \\\n",
    "                                        dict(fn=fn))\n",
    "        labels[~mask] = 0\n",
    "    \n",
    "    elif alg == 'farsight':\n",
    "        labels = bp.unpack_ndarray_file(output_dir + '/%(fn)s/%(fn)s_image_inverted_labelmap_farsight.bp' % \\\n",
    "                                       dict(fn=fn))\n",
    "        labels[~mask] = 0\n",
    "    \n",
    "    else:\n",
    "        raise 'Algorithm not recognized.'\n",
    "    \n",
    "    # plt.imshow(labels);\n",
    "    # plt.axis('off');\n",
    "    # plt.title('labels');\n",
    "\n",
    "    t = time.time()\n",
    "    props = regionprops(labels)\n",
    "    sys.stderr.write('regionprops: %.2f\\n' % (time.time() - t) )\n",
    "\n",
    "#     plt.hist([p.area for p in props], bins=100);\n",
    "#     plt.title('Area histograms');\n",
    "#     plt.show();\n",
    "\n",
    "    valid_blob_indices = [i for i, p in enumerate(props) if p.area > min_blob_area and p.area < max_blob_area]\n",
    "    sys.stderr.write('%d blobs identified.\\n' % len(valid_blob_indices))\n",
    "    \n",
    "    # Get blobs\n",
    "    t = time.time()\n",
    "    valid_blob_coords = [props[i].coords for i in valid_blob_indices] # r,c\n",
    "    #     pickle.dump(valid_blob_coords, open(fn_output_dir + '/%(fn)s_blobCoords.pkl' % {'fn':fn}, 'w'))\n",
    "    pandas.Series(data=valid_blob_coords).to_hdf(fn_output_dir + '/%(fn)s_blobCoords.hdf' % {'fn': fn}, 'data', mode='w')\n",
    "    sys.stderr.write('Save blob coords: %.2f\\n' % (time.time() - t) )\n",
    "    \n",
    "    # Generate masks\n",
    "    t = time.time()\n",
    "    bar = show_progress_bar(first_bs_section, last_bs_section)\n",
    "\n",
    "    cell_masks = []\n",
    "    cell_mask_centers = []\n",
    "    for i, coords in enumerate(valid_blob_coords):\n",
    "        bar.value = i\n",
    "        ymin, xmin = coords.min(axis=0)\n",
    "        ymax, xmax = coords.max(axis=0)\n",
    "        cell_mask = np.zeros((ymax+1-ymin, xmax+1-xmin), np.bool)\n",
    "        cell_mask[coords[:,0]-ymin, coords[:,1]-xmin] = 1\n",
    "        yc, xc = np.mean(np.where(cell_mask), axis=1)\n",
    "        cell_masks.append(cell_mask)\n",
    "        cell_mask_centers.append([xc, yc])\n",
    "    \n",
    "    pandas.Series(data=cell_masks).to_hdf(fn_output_dir + '/%(fn)s_blobMasks.hdf' % {'fn': fn}, 'data', mode='w')    \n",
    "    bp.pack_ndarray_file(np.array(cell_mask_centers), fn_output_dir + '/%(fn)s_blobMaskCenters.bp' % {'fn':fn})\n",
    "\n",
    "    sys.stderr.write('Save blob masks: %.2f\\n' % (time.time() - t) )\n",
    "    \n",
    "    # Other blob attributes\n",
    "    t = time.time()\n",
    "\n",
    "#     valid_blob_contours = [find_contour_points(msk, sample_every=1)[1][0] for msk in cell_masks]\n",
    "\n",
    "    def find_contour_worker(msk):\n",
    "        if msk.shape[0] == 1:\n",
    "            # if mask is a straight line, append another line to it.\n",
    "            msk = np.vstack([msk, np.ones((msk.shape[1],))])\n",
    "        elif msk.shape[1] == 1:\n",
    "            msk = np.c_[msk, np.ones((msk.shape[0],))]\n",
    "        return find_contour_points(msk, sample_every=1)[1][0]\n",
    "        \n",
    "    pool = Pool(16)\n",
    "    valid_blob_contours = pool.map(lambda msk: find_contour_worker(msk), cell_masks)\n",
    "    pool.terminate()\n",
    "    pool.join()\n",
    "\n",
    "#     pickle.dump(valid_blob_contours, open(fn_output_dir + '/%(fn)s_blobContours.pkl' % {'fn':fn}, 'w'))\n",
    "    pandas.Series(data=valid_blob_contours).to_hdf(fn_output_dir + '/%(fn)s_blobContours.hdf' % {'fn': fn}, 'data', mode='w')\n",
    "      \n",
    "    sys.stderr.write('Save blob contours, save: %.2f\\n' % (time.time() - t) )\n",
    "    \n",
    "    t = time.time()\n",
    "\n",
    "    valid_blob_orientations = np.array([props[i].orientation for i in valid_blob_indices])\n",
    "    valid_blob_centroids = np.array([props[i].centroid for i in valid_blob_indices])[:,::-1] # r,c -> x,y\n",
    "    valid_blob_majorAxisLen = np.array([props[i].major_axis_length for i in valid_blob_indices])\n",
    "    valid_blob_minorAxisLen = np.array([props[i].minor_axis_length for i in valid_blob_indices])\n",
    "\n",
    "    bp.pack_ndarray_file(valid_blob_orientations, fn_output_dir + '/%(fn)s_blobOrientations.bp' % {'fn':fn})\n",
    "    bp.pack_ndarray_file(valid_blob_centroids, fn_output_dir + '/%(fn)s_blobCentroids.bp' % {'fn':fn})\n",
    "    bp.pack_ndarray_file(valid_blob_majorAxisLen, fn_output_dir + '/%(fn)s_blobMajorAxisLen.bp' % {'fn':fn})\n",
    "    bp.pack_ndarray_file(valid_blob_minorAxisLen, fn_output_dir + '/%(fn)s_blobMinorAxisLen.bp' % {'fn':fn})\n",
    "\n",
    "    blob_contours_global = [(valid_blob_contours[i] - cell_mask_centers[i] + valid_blob_centroids[i]).astype(np.int)\n",
    "                            for i in range(len(valid_blob_coords))]\n",
    "    pandas.Series(data=blob_contours_global).to_hdf(fn_output_dir + '/%(fn)s_blobContoursGlobal_%(alg)s.hdf' % {'fn': fn, 'alg':alg}, \n",
    "                                                    'data', mode='w')\n",
    "    \n",
    "    sys.stderr.write('Compute blob properties, save: %.2f\\n' % (time.time() - t) )"
   ]
  },
  {
   "cell_type": "markdown",
   "metadata": {},
   "source": [
    "# Visualize"
   ]
  },
  {
   "cell_type": "code",
   "execution_count": 10,
   "metadata": {
    "collapsed": false
   },
   "outputs": [
    {
     "name": "stderr",
     "output_type": "stream",
     "text": [
      "Save image: 37.84\n",
      "Save image: 35.43\n"
     ]
    }
   ],
   "source": [
    "# Visualize\n",
    "\n",
    "for sec in [192, 242]:\n",
    "# for sec in range(first_bs_section, last_bs_section, 50):\n",
    "\n",
    "    t = time.time()\n",
    "    \n",
    "    fn = sections_to_filenames[sec]\n",
    "    fn_output_dir = create_if_not_exists(os.path.join(output_dir, fn))\n",
    "\n",
    "    blob_contours = pandas.read_hdf(fn_output_dir + '/%(fn)s_blobContoursGlobal_%(alg)s.hdf' % {'fn': fn, 'alg': alg}, 'data')\n",
    "    \n",
    "    w, h = metadata_cache['image_shape'][stack]\n",
    "    \n",
    "    n_blobs = len(blob_contours)\n",
    "    \n",
    "    blob_contour_viz = np.zeros((h, w, 4), np.uint8)\n",
    "    \n",
    "    bar = show_progress_bar(first_bs_section, last_bs_section)\n",
    "    for i in range(n_blobs):\n",
    "        bar.value = i\n",
    "        cnt = blob_contours[i]\n",
    "        blob_contour_viz[np.minimum(h-1, np.maximum(cnt[:,1], 0)), \n",
    "                         np.minimum(w-1, np.maximum(cnt[:,0], 0))] = (255,0,0,255)\n",
    "#         img[np.minimum(h-1, np.maximum(cnt[:,1], 0)), np.minimum(w-1, np.maximum(cnt[:,0], 0))] = (255,0,0)\n",
    "\n",
    "    imsave('/home/yuncong/csd395/CSHL_cells_v2/detected_cells/MD589/%(fn)s/%(fn)s_blobContours_viz_%(alg)s.png' % {'fn':fn, 'alg': alg}, \n",
    "           blob_contour_viz)\n",
    "\n",
    "#     imsave('/home/yuncong/csd395/CSHL_cells_v2/detected_cells/MD589/%(fn)s/%(fn)s_detection_image.jpg' % {'fn':fn}, img)\n",
    "    sys.stderr.write('Save image: %.2f\\n' % (time.time() - t) )"
   ]
  },
  {
   "cell_type": "code",
   "execution_count": null,
   "metadata": {
    "collapsed": true
   },
   "outputs": [],
   "source": []
  }
 ],
 "metadata": {
  "kernelspec": {
   "display_name": "Python 2",
   "language": "python",
   "name": "python2"
  },
  "language_info": {
   "codemirror_mode": {
    "name": "ipython",
    "version": 2
   },
   "file_extension": ".py",
   "mimetype": "text/x-python",
   "name": "python",
   "nbconvert_exporter": "python",
   "pygments_lexer": "ipython2",
   "version": "2.7.3"
  }
 },
 "nbformat": 4,
 "nbformat_minor": 0
}
