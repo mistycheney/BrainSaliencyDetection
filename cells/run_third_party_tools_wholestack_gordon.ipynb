{
 "cells": [
  {
   "cell_type": "code",
   "execution_count": 1,
   "metadata": {
    "collapsed": false
   },
   "outputs": [
    {
     "name": "stdout",
     "output_type": "stream",
     "text": [
      "Setting environment for Gordon\n"
     ]
    },
    {
     "name": "stderr",
     "output_type": "stream",
     "text": [
      "No vtk\n"
     ]
    }
   ],
   "source": [
    "%reload_ext autoreload\n",
    "%autoreload 2\n",
    "\n",
    "import os\n",
    "import sys\n",
    "import time\n",
    "import cv2\n",
    "\n",
    "# from joblib import Parallel, delayed\n",
    "\n",
    "sys.path.append(os.path.join(os.environ['REPO_DIR'], 'utilities'))\n",
    "from utilities2015 import *\n",
    "from data_manager import *\n",
    "from metadata import *\n",
    "\n",
    "import matplotlib.pyplot as plt\n",
    "%matplotlib inline\n",
    "\n",
    "from multiprocess import Pool"
   ]
  },
  {
   "cell_type": "code",
   "execution_count": 2,
   "metadata": {
    "collapsed": true
   },
   "outputs": [],
   "source": [
    "DETECTED_CELLS_DIR = '/home/yuncong/csd395/CSHL_cells_v2/detected_cells'\n",
    "\n",
    "stack = 'MD589'\n",
    "img_w, img_h = metadata_cache['image_shape'][stack]"
   ]
  },
  {
   "cell_type": "code",
   "execution_count": 3,
   "metadata": {
    "collapsed": false
   },
   "outputs": [],
   "source": [
    "first_sec, last_sec = metadata_cache['section_limits'][stack]\n",
    "s2f = metadata_cache['sections_to_filenames'][stack]"
   ]
  },
  {
   "cell_type": "markdown",
   "metadata": {},
   "source": [
    "# Parallel"
   ]
  },
  {
   "cell_type": "code",
   "execution_count": 12,
   "metadata": {
    "collapsed": false
   },
   "outputs": [],
   "source": [
    "def detect_cells(sec):\n",
    "    \n",
    "    img_fn = s2f[sec]\n",
    "\n",
    "    if img_fn in ['Nonexisting', 'Rescan', 'Placeholder']:\n",
    "        return\n",
    "\n",
    "#     input_img_fp = DETECTED_CELLS_DIR + '/%(stack)s/%(img_fn)s/%(img_fn)s_image_inverted.jpg' % dict(stack=stack, img_fn=img_fn)\n",
    "    input_img_fp = os.path.join(DETECTED_CELLS_DIR, stack, img_fn, img_fn + '_image_inverted.jpg')\n",
    "    \n",
    "    ##########################\n",
    "    # Split image into tiles\n",
    "    ##########################\n",
    "\n",
    "    sat_filename = DataManager.get_image_filepath(stack=stack, section=sec, resol='lossless', version='saturation')\n",
    "    copyto_sat_filename = DETECTED_CELLS_DIR + '/%(stack)s/%(fn)s/%(fn)s_image_saturation.jpg' % {'fn':img_fn, 'stack':stack}\n",
    "\n",
    "    create_if_not_exists(os.path.dirname(copyto_sat_filename))\n",
    "\n",
    "    execute_command(\"cp %s %s\" % (sat_filename, copyto_sat_filename))\n",
    "\n",
    "    execute_command('convert %(img_orig_fp)s -negate -auto-level %(img_fp)s' % dict(img_orig_fp=copyto_sat_filename,\n",
    "                                                                   img_fp=input_img_fp))\n",
    "\n",
    "    tile_h, tile_w = (5000, 5000)\n",
    "\n",
    "    i = 0\n",
    "    for iy, y0 in enumerate(np.arange(0, img_h, 5000)):\n",
    "        for ix, x0 in enumerate(np.arange(0, img_w, 5000)):\n",
    "            tile_fp = os.path.join(DETECTED_CELLS_DIR, stack, img_fn, img_fn + '_image_inverted_%02d.tif') % i\n",
    "            execute_command(\"convert %(img_fp)s -crop %(tile_w)dx%(tile_h)d+%(x0)d+%(y0)d %(tile_fp)s\" % \\\n",
    "                            dict(img_fp=input_img_fp, x0=x0, y0=y0, tile_w=tile_w, tile_h=tile_h, tile_fp=tile_fp))\n",
    "            i += 1\n",
    "            \n",
    "    ##################################\n",
    "    \n",
    "    input_fps = [os.path.splitext(input_img_fp)[0] + '_%02d.tif' % tile_idx for tile_idx in range(12)]\n",
    "    \n",
    "    #############\n",
    "    # Farsight\n",
    "    #############\n",
    "\n",
    "    output_fps = [os.path.splitext(input_fp)[0] + '_labeled_farsight.tif' for input_fp in input_fps]\n",
    "\n",
    "    FARSIGHT_EXEC = '/home/yuncong/csd395/Farsight-0.4.4-Linux/bin/segment_nuclei'\n",
    "\n",
    "    # # Use without parameters\n",
    "\n",
    "    # for input_fp, output_fp in zip(input_fps, output_fps):\n",
    "    #     execute_command(FARSIGHT_EXEC + ' %(input_fp)s %(output_fp)s' % \\\n",
    "    #                    dict(input_fp=input_fp,\n",
    "    #                         output_fp=output_fp))\n",
    "\n",
    "    # Use with parameters\n",
    "\n",
    "    FARSIGHT_PARAMS_FP = '/home/yuncong/csd395/CSHL_cells_v2/farsight_parameters.txt'\n",
    "\n",
    "    with open(FARSIGHT_PARAMS_FP, 'w') as f:\n",
    "        f.write('! Segmentation parameters File\\n! All parameters are case sensitive\\n')\n",
    "        f.write('min_object_size 100\\n')\n",
    "\n",
    "    for input_fp, output_fp in zip(input_fps, output_fps):\n",
    "\n",
    "        execute_command(FARSIGHT_EXEC + ' %(input_fp)s %(output_fp)s %(params)s' % \\\n",
    "                   dict(input_fp=input_fp,\n",
    "                        output_fp=output_fp,\n",
    "                        params=FARSIGHT_PARAMS_FP))\n",
    "\n",
    "    labelmap_alltiles = []\n",
    "    for input_fp in input_fps:\n",
    "        prefix = os.path.splitext(input_fp)[0]\n",
    "        labelmap = imread(prefix + '_labeled_farsight.tif')\n",
    "        labelmap_alltiles.append(labelmap)\n",
    "#         bp.pack_ndarray_file(labelmap, prefix + '_labelmap_farsight.bp')\n",
    "        execute_command('rm ' + prefix + '_seg_final.dat')\n",
    "        execute_command('rm ' + prefix + '_seedPoints.txt')\n",
    "        execute_command('rm ' + prefix + '_labeled_farsight.tif')\n",
    "                \n",
    "    ######################\n",
    "    # Mosaic for farsight\n",
    "    ######################\n",
    "    \n",
    "    origins = []\n",
    "    for iy, y0 in enumerate(np.arange(0, img_h, 5000)):\n",
    "        for ix, x0 in enumerate(np.arange(0, img_w, 5000)):\n",
    "            origins.append((x0, y0))\n",
    "    \n",
    "    alg = 'farsight'\n",
    "\n",
    "    big_labelmap = np.zeros((img_h, img_w), dtype=np.int64)\n",
    "\n",
    "    n = 0\n",
    "\n",
    "    for i, input_fp in enumerate(input_fps):\n",
    "        prefix = os.path.splitext(input_fp)[0]\n",
    "#         labelmap = bp.unpack_ndarray_file(prefix + '_labelmap_%(alg)s.bp' % dict(alg=alg)).astype(np.int64)\n",
    "        labelmap = labelmap_alltiles[i]\n",
    "\n",
    "        x0, y0 = origins[i]\n",
    "        big_labelmap[y0:y0+5000, x0:x0+5000][labelmap != 0] = labelmap[labelmap != 0] + n\n",
    "        n += labelmap.max()\n",
    "    \n",
    "    labelmap_fp = os.path.splitext(input_img_fp)[0] + '_labelmap_%(alg)s.bp' % dict(alg=alg)\n",
    "\n",
    "    bp.pack_ndarray_file(big_labelmap, labelmap_fp)\n",
    "    \n",
    "#     for tile_i in range(12):\n",
    "#         execute_command('rm %(DETECTED_CELLS_DIR)s/%(stack)s/%(img_fn)s/%(img_fn)s_image_inverted_%(tile_i)02d.tif' % \\\n",
    "#                         dict(DETECTED_CELLS_DIR=DETECTED_CELLS_DIR, stack=stack, img_fn=img_fn, tile_i=tile_i))\n",
    "#         execute_command('rm %(DETECTED_CELLS_DIR)s/%(stack)s/%(img_fn)s/%(img_fn)s_image_inverted_%(tile_i)02d_labelmap_cellprofiler.bp' % \\\n",
    "#                         dict(DETECTED_CELLS_DIR=DETECTED_CELLS_DIR, stack=stack, img_fn=img_fn, tile_i=tile_i))\n",
    "\n",
    "    # Generate labelmap viz\n",
    "    t = time.time()\n",
    "    \n",
    "    viz = img_as_ubyte(label2rgb(big_labelmap, bg_label=0, bg_color=(0, 0, 0)))\n",
    "    cv2.imwrite(os.path.splitext(input_img_fp)[0] + '_labelmap_%(alg)s.png' % dict(alg=alg), viz);\n",
    "    \n",
    "    sys.stderr.write('Generate labelmap viz: %.2f seconds.\\n' % (time.time()-t)) # 60s\n",
    "    \n",
    "    ###############\n",
    "    # CellProfiler\n",
    "    ###############\n",
    "\n",
    "    CELLPROFILER_EXEC = 'cellprofiler' # /usr/local/bin/cellprofiler\n",
    "    CELLPROFILER_PIPELINE_FP = '/home/yuncong/csd395/CSHL_cells_v2/SegmentCells.cppipe'\n",
    "\n",
    "#     import uuid\n",
    "#     uid = uuid.uuid4()\n",
    "    with open('/tmp/cellprofiler_filelist_%04d.txt' % sec, 'w') as f:\n",
    "        for input_fp in input_fps:\n",
    "            f.write(input_fp + '\\n')\n",
    "\n",
    "    t = time.time()\n",
    "\n",
    "    execute_command(CELLPROFILER_EXEC + ' -c --file-list=/tmp/cellprofiler_filelist_%(sec)04d.txt -p %(pipeline_fp)s' % \\\n",
    "                    dict(pipeline_fp=CELLPROFILER_PIPELINE_FP, sec=sec))\n",
    "\n",
    "    sys.stderr.write('Cell profiler: %.2f seconds.\\n' % (time.time()-t)) # 300s\n",
    "\n",
    "    from scipy.io import loadmat\n",
    "\n",
    "    labelmap_alltiles = []\n",
    "    for input_fp in input_fps:\n",
    "        prefix = os.path.splitext(input_fp)[0]\n",
    "        labelmap = loadmat(prefix + '_labeled.mat')['Image']\n",
    "#         bp.pack_ndarray_file(labelmap, prefix + '_labelmap_cellprofiler.bp')\n",
    "        execute_command('rm ' + prefix + '_labeled.mat')\n",
    "        labelmap_alltiles.append(labelmap)\n",
    "    \n",
    "    ###########################\n",
    "    # Mosaic for cell profiler\n",
    "    ###########################\n",
    "    \n",
    "    origins = []\n",
    "    for iy, y0 in enumerate(np.arange(0, img_h, 5000)):\n",
    "        for ix, x0 in enumerate(np.arange(0, img_w, 5000)):\n",
    "            origins.append((x0, y0))\n",
    "\n",
    "    alg = 'cellprofiler'\n",
    "\n",
    "    big_labelmap = np.zeros((img_h, img_w), dtype=np.int64)\n",
    "\n",
    "    n = 0\n",
    "\n",
    "    for i, input_fp in enumerate(input_fps):\n",
    "        prefix = os.path.splitext(input_fp)[0]\n",
    "#         labelmap = bp.unpack_ndarray_file(prefix + '_labelmap_%(alg)s.bp' % dict(alg=alg)).astype(np.int64)\n",
    "        labelmap = labelmap_alltiles[i]\n",
    "\n",
    "        x0, y0 = origins[i]\n",
    "        big_labelmap[y0:y0+5000, x0:x0+5000][labelmap != 0] = labelmap[labelmap != 0] + n\n",
    "        n += labelmap.max()\n",
    "    \n",
    "    labelmap_fp = os.path.splitext(input_img_fp)[0] + '_labelmap_%(alg)s.bp' % dict(alg=alg)\n",
    "\n",
    "    bp.pack_ndarray_file(big_labelmap, labelmap_fp)\n",
    "    \n",
    "#     for tile_i in range(12):\n",
    "#         execute_command('rm %(DETECTED_CELLS_DIR)s/%(stack)s/%(img_fn)s/%(img_fn)s_image_inverted_%(tile_i)02d.tif' % \\\n",
    "#                         dict(DETECTED_CELLS_DIR=DETECTED_CELLS_DIR, stack=stack, img_fn=img_fn, tile_i=tile_i))\n",
    "#         execute_command('rm %(DETECTED_CELLS_DIR)s/%(stack)s/%(img_fn)s/%(img_fn)s_image_inverted_%(tile_i)02d_labelmap_cellprofiler.bp' % \\\n",
    "#                         dict(DETECTED_CELLS_DIR=DETECTED_CELLS_DIR, stack=stack, img_fn=img_fn, tile_i=tile_i))\n",
    "\n",
    "    # Generate labelmap viz\n",
    "    t = time.time()\n",
    "    \n",
    "    viz = img_as_ubyte(label2rgb(big_labelmap, bg_label=0, bg_color=(0, 0, 0)))\n",
    "    cv2.imwrite(os.path.splitext(input_img_fp)[0] + '_labelmap_%(alg)s.png' % dict(alg=alg), viz);\n",
    "    \n",
    "    sys.stderr.write('Generate labelmap viz: %.2f seconds.\\n' % (time.time()-t)) # 60s"
   ]
  },
  {
   "cell_type": "code",
   "execution_count": null,
   "metadata": {
    "collapsed": false
   },
   "outputs": [
    {
     "name": "stdout",
     "output_type": "stream",
     "text": [
      "cp /oasis/projects/nsf/csd395/yuncong/CSHL_data_processed/MD589/MD589_lossless_unsorted_alignedTo_MD589-IHC31-2015.07.30-23.26.22_MD589_1_0091_cropped_saturation/MD589-N18-2015.07.30-17.11.24_MD589_3_0054_lossless_alignedTo_MD589-IHC31-2015.07.30-23.26.22_MD589_1_0091_cropped_saturation.jpg /home/yuncong/csd395/CSHL_cells_v2/detected_cells/MD589/MD589-N18-2015.07.30-17.11.24_MD589_3_0054/MD589-N18-2015.07.30-17.11.24_MD589_3_0054_image_saturation.jpg\n",
      "cp /oasis/projects/nsf/csd395/yuncong/CSHL_data_processed/MD589/MD589_lossless_unsorted_alignedTo_MD589-IHC31-2015.07.30-23.26.22_MD589_1_0091_cropped_saturation/MD589-IHC17-2015.07.30-22.23.59_MD589_2_0050_lossless_alignedTo_MD589-IHC31-2015.07.30-23.26.22_MD589_1_0091_cropped_saturation.jpg /home/yuncong/csd395/CSHL_cells_v2/detected_cells/MD589/MD589-IHC17-2015.07.30-22.23.59_MD589_2_0050/MD589-IHC17-2015.07.30-22.23.59_MD589_2_0050_image_saturation.jpg\n",
      "cp /oasis/projects/nsf/csd395/yuncong/CSHL_data_processed/MD589/MD589_lossless_unsorted_alignedTo_MD589-IHC31-2015.07.30-23.26.22_MD589_1_0091_cropped_saturation/MD589-N19-2015.07.30-17.15.15_MD589_1_0055_lossless_alignedTo_MD589-IHC31-2015.07.30-23.26.22_MD589_1_0091_cropped_saturation.jpg /home/yuncong/csd395/CSHL_cells_v2/detected_cells/MD589/MD589-N19-2015.07.30-17.15.15_MD589_1_0055/MD589-N19-2015.07.30-17.15.15_MD589_1_0055_image_saturation.jpg\n",
      "cp /oasis/projects/nsf/csd395/yuncong/CSHL_data_processed/MD589/MD589_lossless_unsorted_alignedTo_MD589-IHC31-2015.07.30-23.26.22_MD589_1_0091_cropped_saturation/MD589-N18-2015.07.30-17.11.24_MD589_1_0052_lossless_alignedTo_MD589-IHC31-2015.07.30-23.26.22_MD589_1_0091_cropped_saturation.jpg /home/yuncong/csd395/CSHL_cells_v2/detected_cells/MD589/MD589-N18-2015.07.30-17.11.24_MD589_1_0052/MD589-N18-2015.07.30-17.11.24_MD589_1_0052_image_saturation.jpg\n",
      "cp /oasis/projects/nsf/csd395/yuncong/CSHL_data_processed/MD589/MD589_lossless_unsorted_alignedTo_MD589-IHC31-2015.07.30-23.26.22_MD589_1_0091_cropped_saturation/MD589-IHC18-2015.07.30-22.27.59_MD589_1_0052_lossless_alignedTo_MD589-IHC31-2015.07.30-23.26.22_MD589_1_0091_cropped_saturation.jpg /home/yuncong/csd395/CSHL_cells_v2/detected_cells/MD589/MD589-IHC18-2015.07.30-22.27.59_MD589_1_0052/MD589-IHC18-2015.07.30-22.27.59_MD589_1_0052_image_saturation.jpg\n",
      "cp /oasis/projects/nsf/csd395/yuncong/CSHL_data_processed/MD589/MD589_lossless_unsorted_alignedTo_MD589-IHC31-2015.07.30-23.26.22_MD589_1_0091_cropped_saturation/MD589-N17-2015.07.30-17.07.32_MD589_3_0051_lossless_alignedTo_MD589-IHC31-2015.07.30-23.26.22_MD589_1_0091_cropped_saturation.jpg /home/yuncong/csd395/CSHL_cells_v2/detected_cells/MD589/MD589-N17-2015.07.30-17.07.32_MD589_3_0051/MD589-N17-2015.07.30-17.07.32_MD589_3_0051_image_saturation.jpg\n",
      "cp /oasis/projects/nsf/csd395/yuncong/CSHL_data_processed/MD589/MD589_lossless_unsorted_alignedTo_MD589-IHC31-2015.07.30-23.26.22_MD589_1_0091_cropped_saturation/MD589-IHC17-2015.07.30-22.23.59_MD589_3_0051_lossless_alignedTo_MD589-IHC31-2015.07.30-23.26.22_MD589_1_0091_cropped_saturation.jpg /home/yuncong/csd395/CSHL_cells_v2/detected_cells/MD589/MD589-IHC17-2015.07.30-22.23.59_MD589_3_0051/MD589-IHC17-2015.07.30-22.23.59_MD589_3_0051_image_saturation.jpg\n",
      "cp /oasis/projects/nsf/csd395/yuncong/CSHL_data_processed/MD589/MD589_lossless_unsorted_alignedTo_MD589-IHC31-2015.07.30-23.26.22_MD589_1_0091_cropped_saturation/MD589-IHC17-2015.07.30-22.23.59_MD589_1_0049_lossless_alignedTo_MD589-IHC31-2015.07.30-23.26.22_MD589_1_0091_cropped_saturation.jpg /home/yuncong/csd395/CSHL_cells_v2/detected_cells/MD589/MD589-IHC17-2015.07.30-22.23.59_MD589_1_0049/MD589-IHC17-2015.07.30-22.23.59_MD589_1_0049_image_saturation.jpg\n",
      "cp /oasis/projects/nsf/csd395/yuncong/CSHL_data_processed/MD589/MD589_lossless_unsorted_alignedTo_MD589-IHC31-2015.07.30-23.26.22_MD589_1_0091_cropped_saturation/MD589-IHC18-2015.07.30-22.27.59_MD589_3_0054_lossless_alignedTo_MD589-IHC31-2015.07.30-23.26.22_MD589_1_0091_cropped_saturation.jpg /home/yuncong/csd395/CSHL_cells_v2/detected_cells/MD589/MD589-IHC18-2015.07.30-22.27.59_MD589_3_0054/MD589-IHC18-2015.07.30-22.27.59_MD589_3_0054_image_saturation.jpg\n",
      "cp /oasis/projects/nsf/csd395/yuncong/CSHL_data_processed/MD589/MD589_lossless_unsorted_alignedTo_MD589-IHC31-2015.07.30-23.26.22_MD589_1_0091_cropped_saturation/MD589-N18-2015.07.30-17.11.24_MD589_2_0053_lossless_alignedTo_MD589-IHC31-2015.07.30-23.26.22_MD589_1_0091_cropped_saturation.jpg /home/yuncong/csd395/CSHL_cells_v2/detected_cells/MD589/MD589-N18-2015.07.30-17.11.24_MD589_2_0053/MD589-N18-2015.07.30-17.11.24_MD589_2_0053_image_saturation.jpg\n",
      "cp /oasis/projects/nsf/csd395/yuncong/CSHL_data_processed/MD589/MD589_lossless_unsorted_alignedTo_MD589-IHC31-2015.07.30-23.26.22_MD589_1_0091_cropped_saturation/MD589-IHC18-2015.07.30-22.27.59_MD589_2_0053_lossless_alignedTo_MD589-IHC31-2015.07.30-23.26.22_MD589_1_0091_cropped_saturation.jpg /home/yuncong/csd395/CSHL_cells_v2/detected_cells/MD589/MD589-IHC18-2015.07.30-22.27.59_MD589_2_0053/MD589-IHC18-2015.07.30-22.27.59_MD589_2_0053_image_saturation.jpg\n",
      "cp /oasis/projects/nsf/csd395/yuncong/CSHL_data_processed/MD589/MD589_lossless_unsorted_alignedTo_MD589-IHC31-2015.07.30-23.26.22_MD589_1_0091_cropped_saturation/MD589-N19-2015.07.30-17.15.15_MD589_2_0056_lossless_alignedTo_MD589-IHC31-2015.07.30-23.26.22_MD589_1_0091_cropped_saturation.jpg /home/yuncong/csd395/CSHL_cells_v2/detected_cells/MD589/MD589-N19-2015.07.30-17.15.15_MD589_2_0056/MD589-N19-2015.07.30-17.15.15_MD589_2_0056_image_saturation.jpg\n",
      "cp /oasis/projects/nsf/csd395/yuncong/CSHL_data_processed/MD589/MD589_lossless_unsorted_alignedTo_MD589-IHC31-2015.07.30-23.26.22_MD589_1_0091_cropped_saturation/MD589-IHC19-2015.07.30-22.32.05_MD589_1_0055_lossless_alignedTo_MD589-IHC31-2015.07.30-23.26.22_MD589_1_0091_cropped_saturation.jpg /home/yuncong/csd395/CSHL_cells_v2/detected_cells/MD589/MD589-IHC19-2015.07.30-22.32.05_MD589_1_0055/MD589-IHC19-2015.07.30-22.32.05_MD589_1_0055_image_saturation.jpg\n",
      "cp /oasis/projects/nsf/csd395/yuncong/CSHL_data_processed/MD589/MD589_lossless_unsorted_alignedTo_MD589-IHC31-2015.07.30-23.26.22_MD589_1_0091_cropped_saturation/MD589-N17-2015.07.30-17.07.32_MD589_2_0050_lossless_alignedTo_MD589-IHC31-2015.07.30-23.26.22_MD589_1_0091_cropped_saturation.jpg /home/yuncong/csd395/CSHL_cells_v2/detected_cells/MD589/MD589-N17-2015.07.30-17.07.32_MD589_2_0050/MD589-N17-2015.07.30-17.07.32_MD589_2_0050_image_saturation.jpg\n"
     ]
    },
    {
     "name": "stderr",
     "output_type": "stream",
     "text": [
      "Child returned 0\n"
     ]
    },
    {
     "name": "stdout",
     "output_type": "stream",
     "text": [
      "convert /home/yuncong/csd395/CSHL_cells_v2/detected_cells/MD589/MD589-N19-2015.07.30-17.15.15_MD589_1_0055/MD589-N19-2015.07.30-17.15.15_MD589_1_0055_image_saturation.jpg -negate -auto-level /home/yuncong/csd395/CSHL_cells_v2/detected_cells/MD589/MD589-N19-2015.07.30-17.15.15_MD589_1_0055/MD589-N19-2015.07.30-17.15.15_MD589_1_0055_image_inverted.jpg\n"
     ]
    },
    {
     "name": "stderr",
     "output_type": "stream",
     "text": [
      "Child returned 0\n"
     ]
    },
    {
     "name": "stdout",
     "output_type": "stream",
     "text": [
      "convert /home/yuncong/csd395/CSHL_cells_v2/detected_cells/MD589/MD589-IHC17-2015.07.30-22.23.59_MD589_1_0049/MD589-IHC17-2015.07.30-22.23.59_MD589_1_0049_image_saturation.jpg -negate -auto-level /home/yuncong/csd395/CSHL_cells_v2/detected_cells/MD589/MD589-IHC17-2015.07.30-22.23.59_MD589_1_0049/MD589-IHC17-2015.07.30-22.23.59_MD589_1_0049_image_inverted.jpg\n"
     ]
    },
    {
     "name": "stderr",
     "output_type": "stream",
     "text": [
      "Child returned 0\n"
     ]
    },
    {
     "name": "stdout",
     "output_type": "stream",
     "text": [
      "convert /home/yuncong/csd395/CSHL_cells_v2/detected_cells/MD589/MD589-IHC17-2015.07.30-22.23.59_MD589_3_0051/MD589-IHC17-2015.07.30-22.23.59_MD589_3_0051_image_saturation.jpg -negate -auto-level /home/yuncong/csd395/CSHL_cells_v2/detected_cells/MD589/MD589-IHC17-2015.07.30-22.23.59_MD589_3_0051/MD589-IHC17-2015.07.30-22.23.59_MD589_3_0051_image_inverted.jpg\n"
     ]
    },
    {
     "name": "stderr",
     "output_type": "stream",
     "text": [
      "Child returned 0\n",
      "Child returned 0\n"
     ]
    },
    {
     "name": "stdout",
     "output_type": "stream",
     "text": [
      "convert /home/yuncong/csd395/CSHL_cells_v2/detected_cells/MD589/MD589-N19-2015.07.30-17.15.15_MD589_2_0056/MD589-N19-2015.07.30-17.15.15_MD589_2_0056_image_saturation.jpg -negate -auto-level /home/yuncong/csd395/CSHL_cells_v2/detected_cells/MD589/MD589-N19-2015.07.30-17.15.15_MD589_2_0056/MD589-N19-2015.07.30-17.15.15_MD589_2_0056_image_inverted.jpg\n",
      "convert /home/yuncong/csd395/CSHL_cells_v2/detected_cells/MD589/MD589-N18-2015.07.30-17.11.24_MD589_3_0054/MD589-N18-2015.07.30-17.11.24_MD589_3_0054_image_saturation.jpg -negate -auto-level /home/yuncong/csd395/CSHL_cells_v2/detected_cells/MD589/MD589-N18-2015.07.30-17.11.24_MD589_3_0054/MD589-N18-2015.07.30-17.11.24_MD589_3_0054_image_inverted.jpg\n"
     ]
    },
    {
     "name": "stderr",
     "output_type": "stream",
     "text": [
      "Child returned 0\n"
     ]
    },
    {
     "name": "stdout",
     "output_type": "stream",
     "text": [
      "convert /home/yuncong/csd395/CSHL_cells_v2/detected_cells/MD589/MD589-IHC17-2015.07.30-22.23.59_MD589_2_0050/MD589-IHC17-2015.07.30-22.23.59_MD589_2_0050_image_saturation.jpg -negate -auto-level /home/yuncong/csd395/CSHL_cells_v2/detected_cells/MD589/MD589-IHC17-2015.07.30-22.23.59_MD589_2_0050/MD589-IHC17-2015.07.30-22.23.59_MD589_2_0050_image_inverted.jpg\n"
     ]
    },
    {
     "name": "stderr",
     "output_type": "stream",
     "text": [
      "Child returned 0\n"
     ]
    },
    {
     "name": "stdout",
     "output_type": "stream",
     "text": [
      "convert /home/yuncong/csd395/CSHL_cells_v2/detected_cells/MD589/MD589-N18-2015.07.30-17.11.24_MD589_2_0053/MD589-N18-2015.07.30-17.11.24_MD589_2_0053_image_saturation.jpg -negate -auto-level /home/yuncong/csd395/CSHL_cells_v2/detected_cells/MD589/MD589-N18-2015.07.30-17.11.24_MD589_2_0053/MD589-N18-2015.07.30-17.11.24_MD589_2_0053_image_inverted.jpg\n"
     ]
    },
    {
     "name": "stderr",
     "output_type": "stream",
     "text": [
      "Child returned 0\n"
     ]
    },
    {
     "name": "stdout",
     "output_type": "stream",
     "text": [
      "convert /home/yuncong/csd395/CSHL_cells_v2/detected_cells/MD589/MD589-IHC18-2015.07.30-22.27.59_MD589_2_0053/MD589-IHC18-2015.07.30-22.27.59_MD589_2_0053_image_saturation.jpg -negate -auto-level /home/yuncong/csd395/CSHL_cells_v2/detected_cells/MD589/MD589-IHC18-2015.07.30-22.27.59_MD589_2_0053/MD589-IHC18-2015.07.30-22.27.59_MD589_2_0053_image_inverted.jpg\n"
     ]
    },
    {
     "name": "stderr",
     "output_type": "stream",
     "text": [
      "Child returned 0\n"
     ]
    },
    {
     "name": "stdout",
     "output_type": "stream",
     "text": [
      "convert /home/yuncong/csd395/CSHL_cells_v2/detected_cells/MD589/MD589-IHC19-2015.07.30-22.32.05_MD589_1_0055/MD589-IHC19-2015.07.30-22.32.05_MD589_1_0055_image_saturation.jpg -negate -auto-level /home/yuncong/csd395/CSHL_cells_v2/detected_cells/MD589/MD589-IHC19-2015.07.30-22.32.05_MD589_1_0055/MD589-IHC19-2015.07.30-22.32.05_MD589_1_0055_image_inverted.jpg\n"
     ]
    },
    {
     "name": "stderr",
     "output_type": "stream",
     "text": [
      "Child returned 0\n"
     ]
    },
    {
     "name": "stdout",
     "output_type": "stream",
     "text": [
      "convert /home/yuncong/csd395/CSHL_cells_v2/detected_cells/MD589/MD589-IHC18-2015.07.30-22.27.59_MD589_3_0054/MD589-IHC18-2015.07.30-22.27.59_MD589_3_0054_image_saturation.jpg -negate -auto-level /home/yuncong/csd395/CSHL_cells_v2/detected_cells/MD589/MD589-IHC18-2015.07.30-22.27.59_MD589_3_0054/MD589-IHC18-2015.07.30-22.27.59_MD589_3_0054_image_inverted.jpg\n"
     ]
    },
    {
     "name": "stderr",
     "output_type": "stream",
     "text": [
      "Child returned 0\n"
     ]
    },
    {
     "name": "stdout",
     "output_type": "stream",
     "text": [
      "convert /home/yuncong/csd395/CSHL_cells_v2/detected_cells/MD589/MD589-IHC18-2015.07.30-22.27.59_MD589_1_0052/MD589-IHC18-2015.07.30-22.27.59_MD589_1_0052_image_saturation.jpg -negate -auto-level /home/yuncong/csd395/CSHL_cells_v2/detected_cells/MD589/MD589-IHC18-2015.07.30-22.27.59_MD589_1_0052/MD589-IHC18-2015.07.30-22.27.59_MD589_1_0052_image_inverted.jpg\n"
     ]
    },
    {
     "name": "stderr",
     "output_type": "stream",
     "text": [
      "Child returned 0\n"
     ]
    },
    {
     "name": "stdout",
     "output_type": "stream",
     "text": [
      "convert /home/yuncong/csd395/CSHL_cells_v2/detected_cells/MD589/MD589-N17-2015.07.30-17.07.32_MD589_3_0051/MD589-N17-2015.07.30-17.07.32_MD589_3_0051_image_saturation.jpg -negate -auto-level /home/yuncong/csd395/CSHL_cells_v2/detected_cells/MD589/MD589-N17-2015.07.30-17.07.32_MD589_3_0051/MD589-N17-2015.07.30-17.07.32_MD589_3_0051_image_inverted.jpg\n"
     ]
    },
    {
     "name": "stderr",
     "output_type": "stream",
     "text": [
      "Child returned 0\n"
     ]
    },
    {
     "name": "stdout",
     "output_type": "stream",
     "text": [
      "convert /home/yuncong/csd395/CSHL_cells_v2/detected_cells/MD589/MD589-N18-2015.07.30-17.11.24_MD589_1_0052/MD589-N18-2015.07.30-17.11.24_MD589_1_0052_image_saturation.jpg -negate -auto-level /home/yuncong/csd395/CSHL_cells_v2/detected_cells/MD589/MD589-N18-2015.07.30-17.11.24_MD589_1_0052/MD589-N18-2015.07.30-17.11.24_MD589_1_0052_image_inverted.jpg\n"
     ]
    },
    {
     "name": "stderr",
     "output_type": "stream",
     "text": [
      "Child returned 0\n"
     ]
    },
    {
     "name": "stdout",
     "output_type": "stream",
     "text": [
      "convert /home/yuncong/csd395/CSHL_cells_v2/detected_cells/MD589/MD589-N17-2015.07.30-17.07.32_MD589_2_0050/MD589-N17-2015.07.30-17.07.32_MD589_2_0050_image_saturation.jpg -negate -auto-level /home/yuncong/csd395/CSHL_cells_v2/detected_cells/MD589/MD589-N17-2015.07.30-17.07.32_MD589_2_0050/MD589-N17-2015.07.30-17.07.32_MD589_2_0050_image_inverted.jpg\n"
     ]
    },
    {
     "name": "stderr",
     "output_type": "stream",
     "text": [
      "Child returned 0\n"
     ]
    },
    {
     "name": "stdout",
     "output_type": "stream",
     "text": [
      "convert /home/yuncong/csd395/CSHL_cells_v2/detected_cells/MD589/MD589-IHC17-2015.07.30-22.23.59_MD589_3_0051/MD589-IHC17-2015.07.30-22.23.59_MD589_3_0051_image_inverted.jpg -crop 5000x5000+0+0 /home/yuncong/csd395/CSHL_cells_v2/detected_cells/MD589/MD589-IHC17-2015.07.30-22.23.59_MD589_3_0051/MD589-IHC17-2015.07.30-22.23.59_MD589_3_0051_image_inverted_00.tif\n"
     ]
    },
    {
     "name": "stderr",
     "output_type": "stream",
     "text": [
      "Child returned 0\n"
     ]
    },
    {
     "name": "stdout",
     "output_type": "stream",
     "text": [
      "convert /home/yuncong/csd395/CSHL_cells_v2/detected_cells/MD589/MD589-N18-2015.07.30-17.11.24_MD589_3_0054/MD589-N18-2015.07.30-17.11.24_MD589_3_0054_image_inverted.jpg -crop 5000x5000+0+0 /home/yuncong/csd395/CSHL_cells_v2/detected_cells/MD589/MD589-N18-2015.07.30-17.11.24_MD589_3_0054/MD589-N18-2015.07.30-17.11.24_MD589_3_0054_image_inverted_00.tif\n"
     ]
    },
    {
     "name": "stderr",
     "output_type": "stream",
     "text": [
      "Child returned 0\n"
     ]
    },
    {
     "name": "stdout",
     "output_type": "stream",
     "text": [
      "convert /home/yuncong/csd395/CSHL_cells_v2/detected_cells/MD589/MD589-N17-2015.07.30-17.07.32_MD589_2_0050/MD589-N17-2015.07.30-17.07.32_MD589_2_0050_image_inverted.jpg -crop 5000x5000+0+0 /home/yuncong/csd395/CSHL_cells_v2/detected_cells/MD589/MD589-N17-2015.07.30-17.07.32_MD589_2_0050/MD589-N17-2015.07.30-17.07.32_MD589_2_0050_image_inverted_00.tif\n"
     ]
    },
    {
     "name": "stderr",
     "output_type": "stream",
     "text": [
      "Child returned 0\n",
      "Child returned 0\n",
      "Child returned 0\n"
     ]
    },
    {
     "name": "stdout",
     "output_type": "stream",
     "text": [
      "convert /home/yuncong/csd395/CSHL_cells_v2/detected_cells/MD589/MD589-IHC17-2015.07.30-22.23.59_MD589_2_0050/MD589-IHC17-2015.07.30-22.23.59_MD589_2_0050_image_inverted.jpg -crop 5000x5000+0+0 /home/yuncong/csd395/CSHL_cells_v2/detected_cells/MD589/MD589-IHC17-2015.07.30-22.23.59_MD589_2_0050/MD589-IHC17-2015.07.30-22.23.59_MD589_2_0050_image_inverted_00.tif\n",
      "convert /home/yuncong/csd395/CSHL_cells_v2/detected_cells/MD589/MD589-IHC17-2015.07.30-22.23.59_MD589_1_0049/MD589-IHC17-2015.07.30-22.23.59_MD589_1_0049_image_inverted.jpg -crop 5000x5000+0+0 /home/yuncong/csd395/CSHL_cells_v2/detected_cells/MD589/MD589-IHC17-2015.07.30-22.23.59_MD589_1_0049/MD589-IHC17-2015.07.30-22.23.59_MD589_1_0049_image_inverted_00.tif\n",
      "convert /home/yuncong/csd395/CSHL_cells_v2/detected_cells/MD589/MD589-N19-2015.07.30-17.15.15_MD589_1_0055/MD589-N19-2015.07.30-17.15.15_MD589_1_0055_image_inverted.jpg -crop 5000x5000+0+0 /home/yuncong/csd395/CSHL_cells_v2/detected_cells/MD589/MD589-N19-2015.07.30-17.15.15_MD589_1_0055/MD589-N19-2015.07.30-17.15.15_MD589_1_0055_image_inverted_00.tif\n"
     ]
    },
    {
     "name": "stderr",
     "output_type": "stream",
     "text": [
      "Child returned 0\n"
     ]
    },
    {
     "name": "stdout",
     "output_type": "stream",
     "text": [
      "convert /home/yuncong/csd395/CSHL_cells_v2/detected_cells/MD589/MD589-N18-2015.07.30-17.11.24_MD589_1_0052/MD589-N18-2015.07.30-17.11.24_MD589_1_0052_image_inverted.jpg -crop 5000x5000+0+0 /home/yuncong/csd395/CSHL_cells_v2/detected_cells/MD589/MD589-N18-2015.07.30-17.11.24_MD589_1_0052/MD589-N18-2015.07.30-17.11.24_MD589_1_0052_image_inverted_00.tif\n"
     ]
    },
    {
     "name": "stderr",
     "output_type": "stream",
     "text": [
      "Child returned 0\n"
     ]
    },
    {
     "name": "stdout",
     "output_type": "stream",
     "text": [
      "convert /home/yuncong/csd395/CSHL_cells_v2/detected_cells/MD589/MD589-N19-2015.07.30-17.15.15_MD589_2_0056/MD589-N19-2015.07.30-17.15.15_MD589_2_0056_image_inverted.jpg -crop 5000x5000+0+0 /home/yuncong/csd395/CSHL_cells_v2/detected_cells/MD589/MD589-N19-2015.07.30-17.15.15_MD589_2_0056/MD589-N19-2015.07.30-17.15.15_MD589_2_0056_image_inverted_00.tif\n"
     ]
    },
    {
     "name": "stderr",
     "output_type": "stream",
     "text": [
      "Child returned 0\n",
      "Child returned 0\n"
     ]
    },
    {
     "name": "stdout",
     "output_type": "stream",
     "text": [
      "convert /home/yuncong/csd395/CSHL_cells_v2/detected_cells/MD589/MD589-N18-2015.07.30-17.11.24_MD589_2_0053/MD589-N18-2015.07.30-17.11.24_MD589_2_0053_image_inverted.jpg -crop 5000x5000+0+0 /home/yuncong/csd395/CSHL_cells_v2/detected_cells/MD589/MD589-N18-2015.07.30-17.11.24_MD589_2_0053/MD589-N18-2015.07.30-17.11.24_MD589_2_0053_image_inverted_00.tif\n",
      "convert /home/yuncong/csd395/CSHL_cells_v2/detected_cells/MD589/MD589-IHC19-2015.07.30-22.32.05_MD589_1_0055/MD589-IHC19-2015.07.30-22.32.05_MD589_1_0055_image_inverted.jpg -crop 5000x5000+0+0 /home/yuncong/csd395/CSHL_cells_v2/detected_cells/MD589/MD589-IHC19-2015.07.30-22.32.05_MD589_1_0055/MD589-IHC19-2015.07.30-22.32.05_MD589_1_0055_image_inverted_00.tif\n"
     ]
    },
    {
     "name": "stderr",
     "output_type": "stream",
     "text": [
      "Child returned 0\n"
     ]
    },
    {
     "name": "stdout",
     "output_type": "stream",
     "text": [
      "convert /home/yuncong/csd395/CSHL_cells_v2/detected_cells/MD589/MD589-N17-2015.07.30-17.07.32_MD589_3_0051/MD589-N17-2015.07.30-17.07.32_MD589_3_0051_image_inverted.jpg -crop 5000x5000+0+0 /home/yuncong/csd395/CSHL_cells_v2/detected_cells/MD589/MD589-N17-2015.07.30-17.07.32_MD589_3_0051/MD589-N17-2015.07.30-17.07.32_MD589_3_0051_image_inverted_00.tif\n"
     ]
    },
    {
     "name": "stderr",
     "output_type": "stream",
     "text": [
      "Child returned 0\n"
     ]
    },
    {
     "name": "stdout",
     "output_type": "stream",
     "text": [
      "convert /home/yuncong/csd395/CSHL_cells_v2/detected_cells/MD589/MD589-IHC18-2015.07.30-22.27.59_MD589_3_0054/MD589-IHC18-2015.07.30-22.27.59_MD589_3_0054_image_inverted.jpg -crop 5000x5000+0+0 /home/yuncong/csd395/CSHL_cells_v2/detected_cells/MD589/MD589-IHC18-2015.07.30-22.27.59_MD589_3_0054/MD589-IHC18-2015.07.30-22.27.59_MD589_3_0054_image_inverted_00.tif\n"
     ]
    },
    {
     "name": "stderr",
     "output_type": "stream",
     "text": [
      "Child returned 0\n"
     ]
    },
    {
     "name": "stdout",
     "output_type": "stream",
     "text": [
      "convert /home/yuncong/csd395/CSHL_cells_v2/detected_cells/MD589/MD589-IHC18-2015.07.30-22.27.59_MD589_2_0053/MD589-IHC18-2015.07.30-22.27.59_MD589_2_0053_image_inverted.jpg -crop 5000x5000+0+0 /home/yuncong/csd395/CSHL_cells_v2/detected_cells/MD589/MD589-IHC18-2015.07.30-22.27.59_MD589_2_0053/MD589-IHC18-2015.07.30-22.27.59_MD589_2_0053_image_inverted_00.tif\n"
     ]
    },
    {
     "name": "stderr",
     "output_type": "stream",
     "text": [
      "Child returned 0\n"
     ]
    },
    {
     "name": "stdout",
     "output_type": "stream",
     "text": [
      "convert /home/yuncong/csd395/CSHL_cells_v2/detected_cells/MD589/MD589-IHC18-2015.07.30-22.27.59_MD589_1_0052/MD589-IHC18-2015.07.30-22.27.59_MD589_1_0052_image_inverted.jpg -crop 5000x5000+0+0 /home/yuncong/csd395/CSHL_cells_v2/detected_cells/MD589/MD589-IHC18-2015.07.30-22.27.59_MD589_1_0052/MD589-IHC18-2015.07.30-22.27.59_MD589_1_0052_image_inverted_00.tif\n"
     ]
    },
    {
     "name": "stderr",
     "output_type": "stream",
     "text": [
      "Child returned 0\n"
     ]
    },
    {
     "name": "stdout",
     "output_type": "stream",
     "text": [
      "convert /home/yuncong/csd395/CSHL_cells_v2/detected_cells/MD589/MD589-N18-2015.07.30-17.11.24_MD589_3_0054/MD589-N18-2015.07.30-17.11.24_MD589_3_0054_image_inverted.jpg -crop 5000x5000+5000+0 /home/yuncong/csd395/CSHL_cells_v2/detected_cells/MD589/MD589-N18-2015.07.30-17.11.24_MD589_3_0054/MD589-N18-2015.07.30-17.11.24_MD589_3_0054_image_inverted_01.tif\n"
     ]
    },
    {
     "name": "stderr",
     "output_type": "stream",
     "text": [
      "Child returned 0\n"
     ]
    },
    {
     "name": "stdout",
     "output_type": "stream",
     "text": [
      "convert /home/yuncong/csd395/CSHL_cells_v2/detected_cells/MD589/MD589-N17-2015.07.30-17.07.32_MD589_2_0050/MD589-N17-2015.07.30-17.07.32_MD589_2_0050_image_inverted.jpg -crop 5000x5000+5000+0 /home/yuncong/csd395/CSHL_cells_v2/detected_cells/MD589/MD589-N17-2015.07.30-17.07.32_MD589_2_0050/MD589-N17-2015.07.30-17.07.32_MD589_2_0050_image_inverted_01.tif\n"
     ]
    },
    {
     "name": "stderr",
     "output_type": "stream",
     "text": [
      "Child returned 0\n"
     ]
    },
    {
     "name": "stdout",
     "output_type": "stream",
     "text": [
      "convert /home/yuncong/csd395/CSHL_cells_v2/detected_cells/MD589/MD589-IHC17-2015.07.30-22.23.59_MD589_1_0049/MD589-IHC17-2015.07.30-22.23.59_MD589_1_0049_image_inverted.jpg -crop 5000x5000+5000+0 /home/yuncong/csd395/CSHL_cells_v2/detected_cells/MD589/MD589-IHC17-2015.07.30-22.23.59_MD589_1_0049/MD589-IHC17-2015.07.30-22.23.59_MD589_1_0049_image_inverted_01.tif\n"
     ]
    },
    {
     "name": "stderr",
     "output_type": "stream",
     "text": [
      "Child returned 0\n"
     ]
    },
    {
     "name": "stdout",
     "output_type": "stream",
     "text": [
      "convert /home/yuncong/csd395/CSHL_cells_v2/detected_cells/MD589/MD589-IHC17-2015.07.30-22.23.59_MD589_3_0051/MD589-IHC17-2015.07.30-22.23.59_MD589_3_0051_image_inverted.jpg -crop 5000x5000+5000+0 /home/yuncong/csd395/CSHL_cells_v2/detected_cells/MD589/MD589-IHC17-2015.07.30-22.23.59_MD589_3_0051/MD589-IHC17-2015.07.30-22.23.59_MD589_3_0051_image_inverted_01.tif\n"
     ]
    },
    {
     "name": "stderr",
     "output_type": "stream",
     "text": [
      "Child returned 0\n"
     ]
    },
    {
     "name": "stdout",
     "output_type": "stream",
     "text": [
      "convert /home/yuncong/csd395/CSHL_cells_v2/detected_cells/MD589/MD589-IHC17-2015.07.30-22.23.59_MD589_2_0050/MD589-IHC17-2015.07.30-22.23.59_MD589_2_0050_image_inverted.jpg -crop 5000x5000+5000+0 /home/yuncong/csd395/CSHL_cells_v2/detected_cells/MD589/MD589-IHC17-2015.07.30-22.23.59_MD589_2_0050/MD589-IHC17-2015.07.30-22.23.59_MD589_2_0050_image_inverted_01.tif\n"
     ]
    },
    {
     "name": "stderr",
     "output_type": "stream",
     "text": [
      "Child returned 0\n"
     ]
    },
    {
     "name": "stdout",
     "output_type": "stream",
     "text": [
      "convert /home/yuncong/csd395/CSHL_cells_v2/detected_cells/MD589/MD589-N19-2015.07.30-17.15.15_MD589_1_0055/MD589-N19-2015.07.30-17.15.15_MD589_1_0055_image_inverted.jpg -crop 5000x5000+5000+0 /home/yuncong/csd395/CSHL_cells_v2/detected_cells/MD589/MD589-N19-2015.07.30-17.15.15_MD589_1_0055/MD589-N19-2015.07.30-17.15.15_MD589_1_0055_image_inverted_01.tif\n"
     ]
    },
    {
     "name": "stderr",
     "output_type": "stream",
     "text": [
      "Child returned 0\n"
     ]
    },
    {
     "name": "stdout",
     "output_type": "stream",
     "text": [
      "convert /home/yuncong/csd395/CSHL_cells_v2/detected_cells/MD589/MD589-IHC19-2015.07.30-22.32.05_MD589_1_0055/MD589-IHC19-2015.07.30-22.32.05_MD589_1_0055_image_inverted.jpg -crop 5000x5000+5000+0 /home/yuncong/csd395/CSHL_cells_v2/detected_cells/MD589/MD589-IHC19-2015.07.30-22.32.05_MD589_1_0055/MD589-IHC19-2015.07.30-22.32.05_MD589_1_0055_image_inverted_01.tif\n"
     ]
    },
    {
     "name": "stderr",
     "output_type": "stream",
     "text": [
      "Child returned 0\n"
     ]
    },
    {
     "name": "stdout",
     "output_type": "stream",
     "text": [
      "convert /home/yuncong/csd395/CSHL_cells_v2/detected_cells/MD589/MD589-N18-2015.07.30-17.11.24_MD589_1_0052/MD589-N18-2015.07.30-17.11.24_MD589_1_0052_image_inverted.jpg -crop 5000x5000+5000+0 /home/yuncong/csd395/CSHL_cells_v2/detected_cells/MD589/MD589-N18-2015.07.30-17.11.24_MD589_1_0052/MD589-N18-2015.07.30-17.11.24_MD589_1_0052_image_inverted_01.tif\n"
     ]
    },
    {
     "name": "stderr",
     "output_type": "stream",
     "text": [
      "Child returned 0\n"
     ]
    },
    {
     "name": "stdout",
     "output_type": "stream",
     "text": [
      "convert /home/yuncong/csd395/CSHL_cells_v2/detected_cells/MD589/MD589-N18-2015.07.30-17.11.24_MD589_2_0053/MD589-N18-2015.07.30-17.11.24_MD589_2_0053_image_inverted.jpg -crop 5000x5000+5000+0 /home/yuncong/csd395/CSHL_cells_v2/detected_cells/MD589/MD589-N18-2015.07.30-17.11.24_MD589_2_0053/MD589-N18-2015.07.30-17.11.24_MD589_2_0053_image_inverted_01.tif\n"
     ]
    },
    {
     "name": "stderr",
     "output_type": "stream",
     "text": [
      "Child returned 0\n"
     ]
    },
    {
     "name": "stdout",
     "output_type": "stream",
     "text": [
      "convert /home/yuncong/csd395/CSHL_cells_v2/detected_cells/MD589/MD589-IHC18-2015.07.30-22.27.59_MD589_1_0052/MD589-IHC18-2015.07.30-22.27.59_MD589_1_0052_image_inverted.jpg -crop 5000x5000+5000+0 /home/yuncong/csd395/CSHL_cells_v2/detected_cells/MD589/MD589-IHC18-2015.07.30-22.27.59_MD589_1_0052/MD589-IHC18-2015.07.30-22.27.59_MD589_1_0052_image_inverted_01.tif\n"
     ]
    },
    {
     "name": "stderr",
     "output_type": "stream",
     "text": [
      "Child returned 0\n"
     ]
    },
    {
     "name": "stdout",
     "output_type": "stream",
     "text": [
      "convert /home/yuncong/csd395/CSHL_cells_v2/detected_cells/MD589/MD589-N17-2015.07.30-17.07.32_MD589_3_0051/MD589-N17-2015.07.30-17.07.32_MD589_3_0051_image_inverted.jpg -crop 5000x5000+5000+0 /home/yuncong/csd395/CSHL_cells_v2/detected_cells/MD589/MD589-N17-2015.07.30-17.07.32_MD589_3_0051/MD589-N17-2015.07.30-17.07.32_MD589_3_0051_image_inverted_01.tif\n"
     ]
    },
    {
     "name": "stderr",
     "output_type": "stream",
     "text": [
      "Child returned 0\n"
     ]
    },
    {
     "name": "stdout",
     "output_type": "stream",
     "text": [
      "convert /home/yuncong/csd395/CSHL_cells_v2/detected_cells/MD589/MD589-N19-2015.07.30-17.15.15_MD589_2_0056/MD589-N19-2015.07.30-17.15.15_MD589_2_0056_image_inverted.jpg -crop 5000x5000+5000+0 /home/yuncong/csd395/CSHL_cells_v2/detected_cells/MD589/MD589-N19-2015.07.30-17.15.15_MD589_2_0056/MD589-N19-2015.07.30-17.15.15_MD589_2_0056_image_inverted_01.tif\n"
     ]
    },
    {
     "name": "stderr",
     "output_type": "stream",
     "text": [
      "Child returned 0\n"
     ]
    },
    {
     "name": "stdout",
     "output_type": "stream",
     "text": [
      "convert /home/yuncong/csd395/CSHL_cells_v2/detected_cells/MD589/MD589-IHC18-2015.07.30-22.27.59_MD589_2_0053/MD589-IHC18-2015.07.30-22.27.59_MD589_2_0053_image_inverted.jpg -crop 5000x5000+5000+0 /home/yuncong/csd395/CSHL_cells_v2/detected_cells/MD589/MD589-IHC18-2015.07.30-22.27.59_MD589_2_0053/MD589-IHC18-2015.07.30-22.27.59_MD589_2_0053_image_inverted_01.tif\n"
     ]
    }
   ],
   "source": [
    "t = time.time()\n",
    "\n",
    "pool = Pool(15)\n",
    "pool.map(detect_cells, range(95, 109))\n",
    "pool.close()\n",
    "pool.join()\n",
    "\n",
    "sys.stderr.write('Overall time: %.2f seconds.\\n' % (time.time()-t))"
   ]
  },
  {
   "cell_type": "markdown",
   "metadata": {},
   "source": [
    "# Sequential"
   ]
  },
  {
   "cell_type": "code",
   "execution_count": 11,
   "metadata": {
    "collapsed": false,
    "scrolled": true
   },
   "outputs": [
    {
     "name": "stdout",
     "output_type": "stream",
     "text": [
      "cp /oasis/projects/nsf/csd395/yuncong/CSHL_data_processed/MD589/MD589_lossless_unsorted_alignedTo_MD589-IHC31-2015.07.30-23.26.22_MD589_1_0091_cropped_saturation/MD589-IHC47-2015.07.31-00.31.08_MD589_1_0139_lossless_alignedTo_MD589-IHC31-2015.07.30-23.26.22_MD589_1_0091_cropped_saturation.jpg /home/yuncong/csd395/CSHL_cells_v2/detected_cells/MD589/MD589-IHC47-2015.07.31-00.31.08_MD589_1_0139/MD589-IHC47-2015.07.31-00.31.08_MD589_1_0139_image_saturation.jpg\n"
     ]
    },
    {
     "name": "stderr",
     "output_type": "stream",
     "text": [
      "Child returned 0\n"
     ]
    },
    {
     "name": "stdout",
     "output_type": "stream",
     "text": [
      "convert /home/yuncong/csd395/CSHL_cells_v2/detected_cells/MD589/MD589-IHC47-2015.07.31-00.31.08_MD589_1_0139/MD589-IHC47-2015.07.31-00.31.08_MD589_1_0139_image_saturation.jpg -negate -auto-level /home/yuncong/csd395/CSHL_cells_v2/detected_cells/MD589/MD589-IHC47-2015.07.31-00.31.08_MD589_1_0139/MD589-IHC47-2015.07.31-00.31.08_MD589_1_0139_image_inverted.jpg\n"
     ]
    },
    {
     "name": "stderr",
     "output_type": "stream",
     "text": [
      "Child returned 0\n"
     ]
    },
    {
     "name": "stdout",
     "output_type": "stream",
     "text": [
      "convert /home/yuncong/csd395/CSHL_cells_v2/detected_cells/MD589/MD589-IHC47-2015.07.31-00.31.08_MD589_1_0139/MD589-IHC47-2015.07.31-00.31.08_MD589_1_0139_image_inverted.jpg -crop 5000x5000+0+0 /home/yuncong/csd395/CSHL_cells_v2/detected_cells/MD589/MD589-IHC47-2015.07.31-00.31.08_MD589_1_0139/MD589-IHC47-2015.07.31-00.31.08_MD589_1_0139_image_inverted_00.tif\n"
     ]
    },
    {
     "name": "stderr",
     "output_type": "stream",
     "text": [
      "Child returned 0\n"
     ]
    },
    {
     "name": "stdout",
     "output_type": "stream",
     "text": [
      "convert /home/yuncong/csd395/CSHL_cells_v2/detected_cells/MD589/MD589-IHC47-2015.07.31-00.31.08_MD589_1_0139/MD589-IHC47-2015.07.31-00.31.08_MD589_1_0139_image_inverted.jpg -crop 5000x5000+5000+0 /home/yuncong/csd395/CSHL_cells_v2/detected_cells/MD589/MD589-IHC47-2015.07.31-00.31.08_MD589_1_0139/MD589-IHC47-2015.07.31-00.31.08_MD589_1_0139_image_inverted_01.tif\n"
     ]
    },
    {
     "name": "stderr",
     "output_type": "stream",
     "text": [
      "Child returned 0\n"
     ]
    },
    {
     "name": "stdout",
     "output_type": "stream",
     "text": [
      "convert /home/yuncong/csd395/CSHL_cells_v2/detected_cells/MD589/MD589-IHC47-2015.07.31-00.31.08_MD589_1_0139/MD589-IHC47-2015.07.31-00.31.08_MD589_1_0139_image_inverted.jpg -crop 5000x5000+10000+0 /home/yuncong/csd395/CSHL_cells_v2/detected_cells/MD589/MD589-IHC47-2015.07.31-00.31.08_MD589_1_0139/MD589-IHC47-2015.07.31-00.31.08_MD589_1_0139_image_inverted_02.tif\n"
     ]
    },
    {
     "name": "stderr",
     "output_type": "stream",
     "text": [
      "Child returned 0\n"
     ]
    },
    {
     "name": "stdout",
     "output_type": "stream",
     "text": [
      "convert /home/yuncong/csd395/CSHL_cells_v2/detected_cells/MD589/MD589-IHC47-2015.07.31-00.31.08_MD589_1_0139/MD589-IHC47-2015.07.31-00.31.08_MD589_1_0139_image_inverted.jpg -crop 5000x5000+15000+0 /home/yuncong/csd395/CSHL_cells_v2/detected_cells/MD589/MD589-IHC47-2015.07.31-00.31.08_MD589_1_0139/MD589-IHC47-2015.07.31-00.31.08_MD589_1_0139_image_inverted_03.tif\n"
     ]
    },
    {
     "name": "stderr",
     "output_type": "stream",
     "text": [
      "Child returned 0\n"
     ]
    },
    {
     "name": "stdout",
     "output_type": "stream",
     "text": [
      "convert /home/yuncong/csd395/CSHL_cells_v2/detected_cells/MD589/MD589-IHC47-2015.07.31-00.31.08_MD589_1_0139/MD589-IHC47-2015.07.31-00.31.08_MD589_1_0139_image_inverted.jpg -crop 5000x5000+0+5000 /home/yuncong/csd395/CSHL_cells_v2/detected_cells/MD589/MD589-IHC47-2015.07.31-00.31.08_MD589_1_0139/MD589-IHC47-2015.07.31-00.31.08_MD589_1_0139_image_inverted_04.tif\n"
     ]
    },
    {
     "name": "stderr",
     "output_type": "stream",
     "text": [
      "Child returned 0\n"
     ]
    },
    {
     "name": "stdout",
     "output_type": "stream",
     "text": [
      "convert /home/yuncong/csd395/CSHL_cells_v2/detected_cells/MD589/MD589-IHC47-2015.07.31-00.31.08_MD589_1_0139/MD589-IHC47-2015.07.31-00.31.08_MD589_1_0139_image_inverted.jpg -crop 5000x5000+5000+5000 /home/yuncong/csd395/CSHL_cells_v2/detected_cells/MD589/MD589-IHC47-2015.07.31-00.31.08_MD589_1_0139/MD589-IHC47-2015.07.31-00.31.08_MD589_1_0139_image_inverted_05.tif\n"
     ]
    },
    {
     "name": "stderr",
     "output_type": "stream",
     "text": [
      "Child returned 0\n"
     ]
    },
    {
     "name": "stdout",
     "output_type": "stream",
     "text": [
      "convert /home/yuncong/csd395/CSHL_cells_v2/detected_cells/MD589/MD589-IHC47-2015.07.31-00.31.08_MD589_1_0139/MD589-IHC47-2015.07.31-00.31.08_MD589_1_0139_image_inverted.jpg -crop 5000x5000+10000+5000 /home/yuncong/csd395/CSHL_cells_v2/detected_cells/MD589/MD589-IHC47-2015.07.31-00.31.08_MD589_1_0139/MD589-IHC47-2015.07.31-00.31.08_MD589_1_0139_image_inverted_06.tif\n"
     ]
    },
    {
     "name": "stderr",
     "output_type": "stream",
     "text": [
      "Child returned 0\n"
     ]
    },
    {
     "name": "stdout",
     "output_type": "stream",
     "text": [
      "convert /home/yuncong/csd395/CSHL_cells_v2/detected_cells/MD589/MD589-IHC47-2015.07.31-00.31.08_MD589_1_0139/MD589-IHC47-2015.07.31-00.31.08_MD589_1_0139_image_inverted.jpg -crop 5000x5000+15000+5000 /home/yuncong/csd395/CSHL_cells_v2/detected_cells/MD589/MD589-IHC47-2015.07.31-00.31.08_MD589_1_0139/MD589-IHC47-2015.07.31-00.31.08_MD589_1_0139_image_inverted_07.tif\n"
     ]
    },
    {
     "name": "stderr",
     "output_type": "stream",
     "text": [
      "Child returned 0\n"
     ]
    },
    {
     "name": "stdout",
     "output_type": "stream",
     "text": [
      "convert /home/yuncong/csd395/CSHL_cells_v2/detected_cells/MD589/MD589-IHC47-2015.07.31-00.31.08_MD589_1_0139/MD589-IHC47-2015.07.31-00.31.08_MD589_1_0139_image_inverted.jpg -crop 5000x5000+0+10000 /home/yuncong/csd395/CSHL_cells_v2/detected_cells/MD589/MD589-IHC47-2015.07.31-00.31.08_MD589_1_0139/MD589-IHC47-2015.07.31-00.31.08_MD589_1_0139_image_inverted_08.tif\n"
     ]
    },
    {
     "name": "stderr",
     "output_type": "stream",
     "text": [
      "Child returned 0\n"
     ]
    },
    {
     "name": "stdout",
     "output_type": "stream",
     "text": [
      "convert /home/yuncong/csd395/CSHL_cells_v2/detected_cells/MD589/MD589-IHC47-2015.07.31-00.31.08_MD589_1_0139/MD589-IHC47-2015.07.31-00.31.08_MD589_1_0139_image_inverted.jpg -crop 5000x5000+5000+10000 /home/yuncong/csd395/CSHL_cells_v2/detected_cells/MD589/MD589-IHC47-2015.07.31-00.31.08_MD589_1_0139/MD589-IHC47-2015.07.31-00.31.08_MD589_1_0139_image_inverted_09.tif\n"
     ]
    },
    {
     "name": "stderr",
     "output_type": "stream",
     "text": [
      "Child returned 0\n"
     ]
    },
    {
     "name": "stdout",
     "output_type": "stream",
     "text": [
      "convert /home/yuncong/csd395/CSHL_cells_v2/detected_cells/MD589/MD589-IHC47-2015.07.31-00.31.08_MD589_1_0139/MD589-IHC47-2015.07.31-00.31.08_MD589_1_0139_image_inverted.jpg -crop 5000x5000+10000+10000 /home/yuncong/csd395/CSHL_cells_v2/detected_cells/MD589/MD589-IHC47-2015.07.31-00.31.08_MD589_1_0139/MD589-IHC47-2015.07.31-00.31.08_MD589_1_0139_image_inverted_10.tif\n"
     ]
    },
    {
     "name": "stderr",
     "output_type": "stream",
     "text": [
      "Child returned 0\n"
     ]
    },
    {
     "name": "stdout",
     "output_type": "stream",
     "text": [
      "convert /home/yuncong/csd395/CSHL_cells_v2/detected_cells/MD589/MD589-IHC47-2015.07.31-00.31.08_MD589_1_0139/MD589-IHC47-2015.07.31-00.31.08_MD589_1_0139_image_inverted.jpg -crop 5000x5000+15000+10000 /home/yuncong/csd395/CSHL_cells_v2/detected_cells/MD589/MD589-IHC47-2015.07.31-00.31.08_MD589_1_0139/MD589-IHC47-2015.07.31-00.31.08_MD589_1_0139_image_inverted_11.tif\n"
     ]
    },
    {
     "name": "stderr",
     "output_type": "stream",
     "text": [
      "Child returned 0\n"
     ]
    },
    {
     "name": "stdout",
     "output_type": "stream",
     "text": [
      "/home/yuncong/csd395/Farsight-0.4.4-Linux/bin/segment_nuclei /home/yuncong/csd395/CSHL_cells_v2/detected_cells/MD589/MD589-IHC47-2015.07.31-00.31.08_MD589_1_0139/MD589-IHC47-2015.07.31-00.31.08_MD589_1_0139_image_inverted_00.tif /home/yuncong/csd395/CSHL_cells_v2/detected_cells/MD589/MD589-IHC47-2015.07.31-00.31.08_MD589_1_0139/MD589-IHC47-2015.07.31-00.31.08_MD589_1_0139_image_inverted_00_labeled_farsight.tif /home/yuncong/csd395/CSHL_cells_v2/farsight_parameters.txt\n"
     ]
    },
    {
     "name": "stderr",
     "output_type": "stream",
     "text": [
      "Child returned 0\n"
     ]
    },
    {
     "name": "stdout",
     "output_type": "stream",
     "text": [
      "/home/yuncong/csd395/Farsight-0.4.4-Linux/bin/segment_nuclei /home/yuncong/csd395/CSHL_cells_v2/detected_cells/MD589/MD589-IHC47-2015.07.31-00.31.08_MD589_1_0139/MD589-IHC47-2015.07.31-00.31.08_MD589_1_0139_image_inverted_01.tif /home/yuncong/csd395/CSHL_cells_v2/detected_cells/MD589/MD589-IHC47-2015.07.31-00.31.08_MD589_1_0139/MD589-IHC47-2015.07.31-00.31.08_MD589_1_0139_image_inverted_01_labeled_farsight.tif /home/yuncong/csd395/CSHL_cells_v2/farsight_parameters.txt\n"
     ]
    },
    {
     "name": "stderr",
     "output_type": "stream",
     "text": [
      "Child returned 0\n"
     ]
    },
    {
     "name": "stdout",
     "output_type": "stream",
     "text": [
      "/home/yuncong/csd395/Farsight-0.4.4-Linux/bin/segment_nuclei /home/yuncong/csd395/CSHL_cells_v2/detected_cells/MD589/MD589-IHC47-2015.07.31-00.31.08_MD589_1_0139/MD589-IHC47-2015.07.31-00.31.08_MD589_1_0139_image_inverted_02.tif /home/yuncong/csd395/CSHL_cells_v2/detected_cells/MD589/MD589-IHC47-2015.07.31-00.31.08_MD589_1_0139/MD589-IHC47-2015.07.31-00.31.08_MD589_1_0139_image_inverted_02_labeled_farsight.tif /home/yuncong/csd395/CSHL_cells_v2/farsight_parameters.txt\n"
     ]
    },
    {
     "name": "stderr",
     "output_type": "stream",
     "text": [
      "Child returned 0\n"
     ]
    },
    {
     "name": "stdout",
     "output_type": "stream",
     "text": [
      "/home/yuncong/csd395/Farsight-0.4.4-Linux/bin/segment_nuclei /home/yuncong/csd395/CSHL_cells_v2/detected_cells/MD589/MD589-IHC47-2015.07.31-00.31.08_MD589_1_0139/MD589-IHC47-2015.07.31-00.31.08_MD589_1_0139_image_inverted_03.tif /home/yuncong/csd395/CSHL_cells_v2/detected_cells/MD589/MD589-IHC47-2015.07.31-00.31.08_MD589_1_0139/MD589-IHC47-2015.07.31-00.31.08_MD589_1_0139_image_inverted_03_labeled_farsight.tif /home/yuncong/csd395/CSHL_cells_v2/farsight_parameters.txt\n"
     ]
    },
    {
     "name": "stderr",
     "output_type": "stream",
     "text": [
      "Child returned 0\n"
     ]
    },
    {
     "name": "stdout",
     "output_type": "stream",
     "text": [
      "/home/yuncong/csd395/Farsight-0.4.4-Linux/bin/segment_nuclei /home/yuncong/csd395/CSHL_cells_v2/detected_cells/MD589/MD589-IHC47-2015.07.31-00.31.08_MD589_1_0139/MD589-IHC47-2015.07.31-00.31.08_MD589_1_0139_image_inverted_04.tif /home/yuncong/csd395/CSHL_cells_v2/detected_cells/MD589/MD589-IHC47-2015.07.31-00.31.08_MD589_1_0139/MD589-IHC47-2015.07.31-00.31.08_MD589_1_0139_image_inverted_04_labeled_farsight.tif /home/yuncong/csd395/CSHL_cells_v2/farsight_parameters.txt\n"
     ]
    },
    {
     "name": "stderr",
     "output_type": "stream",
     "text": [
      "Child returned 0\n"
     ]
    },
    {
     "name": "stdout",
     "output_type": "stream",
     "text": [
      "/home/yuncong/csd395/Farsight-0.4.4-Linux/bin/segment_nuclei /home/yuncong/csd395/CSHL_cells_v2/detected_cells/MD589/MD589-IHC47-2015.07.31-00.31.08_MD589_1_0139/MD589-IHC47-2015.07.31-00.31.08_MD589_1_0139_image_inverted_05.tif /home/yuncong/csd395/CSHL_cells_v2/detected_cells/MD589/MD589-IHC47-2015.07.31-00.31.08_MD589_1_0139/MD589-IHC47-2015.07.31-00.31.08_MD589_1_0139_image_inverted_05_labeled_farsight.tif /home/yuncong/csd395/CSHL_cells_v2/farsight_parameters.txt\n"
     ]
    },
    {
     "name": "stderr",
     "output_type": "stream",
     "text": [
      "Child returned 0\n"
     ]
    },
    {
     "name": "stdout",
     "output_type": "stream",
     "text": [
      "/home/yuncong/csd395/Farsight-0.4.4-Linux/bin/segment_nuclei /home/yuncong/csd395/CSHL_cells_v2/detected_cells/MD589/MD589-IHC47-2015.07.31-00.31.08_MD589_1_0139/MD589-IHC47-2015.07.31-00.31.08_MD589_1_0139_image_inverted_06.tif /home/yuncong/csd395/CSHL_cells_v2/detected_cells/MD589/MD589-IHC47-2015.07.31-00.31.08_MD589_1_0139/MD589-IHC47-2015.07.31-00.31.08_MD589_1_0139_image_inverted_06_labeled_farsight.tif /home/yuncong/csd395/CSHL_cells_v2/farsight_parameters.txt\n"
     ]
    },
    {
     "name": "stderr",
     "output_type": "stream",
     "text": [
      "Child returned 0\n"
     ]
    },
    {
     "name": "stdout",
     "output_type": "stream",
     "text": [
      "/home/yuncong/csd395/Farsight-0.4.4-Linux/bin/segment_nuclei /home/yuncong/csd395/CSHL_cells_v2/detected_cells/MD589/MD589-IHC47-2015.07.31-00.31.08_MD589_1_0139/MD589-IHC47-2015.07.31-00.31.08_MD589_1_0139_image_inverted_07.tif /home/yuncong/csd395/CSHL_cells_v2/detected_cells/MD589/MD589-IHC47-2015.07.31-00.31.08_MD589_1_0139/MD589-IHC47-2015.07.31-00.31.08_MD589_1_0139_image_inverted_07_labeled_farsight.tif /home/yuncong/csd395/CSHL_cells_v2/farsight_parameters.txt\n"
     ]
    },
    {
     "name": "stderr",
     "output_type": "stream",
     "text": [
      "Child returned 0\n"
     ]
    },
    {
     "name": "stdout",
     "output_type": "stream",
     "text": [
      "/home/yuncong/csd395/Farsight-0.4.4-Linux/bin/segment_nuclei /home/yuncong/csd395/CSHL_cells_v2/detected_cells/MD589/MD589-IHC47-2015.07.31-00.31.08_MD589_1_0139/MD589-IHC47-2015.07.31-00.31.08_MD589_1_0139_image_inverted_08.tif /home/yuncong/csd395/CSHL_cells_v2/detected_cells/MD589/MD589-IHC47-2015.07.31-00.31.08_MD589_1_0139/MD589-IHC47-2015.07.31-00.31.08_MD589_1_0139_image_inverted_08_labeled_farsight.tif /home/yuncong/csd395/CSHL_cells_v2/farsight_parameters.txt\n"
     ]
    },
    {
     "name": "stderr",
     "output_type": "stream",
     "text": [
      "Child returned 0\n"
     ]
    },
    {
     "name": "stdout",
     "output_type": "stream",
     "text": [
      "/home/yuncong/csd395/Farsight-0.4.4-Linux/bin/segment_nuclei /home/yuncong/csd395/CSHL_cells_v2/detected_cells/MD589/MD589-IHC47-2015.07.31-00.31.08_MD589_1_0139/MD589-IHC47-2015.07.31-00.31.08_MD589_1_0139_image_inverted_09.tif /home/yuncong/csd395/CSHL_cells_v2/detected_cells/MD589/MD589-IHC47-2015.07.31-00.31.08_MD589_1_0139/MD589-IHC47-2015.07.31-00.31.08_MD589_1_0139_image_inverted_09_labeled_farsight.tif /home/yuncong/csd395/CSHL_cells_v2/farsight_parameters.txt\n"
     ]
    },
    {
     "name": "stderr",
     "output_type": "stream",
     "text": [
      "Child returned 0\n"
     ]
    },
    {
     "name": "stdout",
     "output_type": "stream",
     "text": [
      "/home/yuncong/csd395/Farsight-0.4.4-Linux/bin/segment_nuclei /home/yuncong/csd395/CSHL_cells_v2/detected_cells/MD589/MD589-IHC47-2015.07.31-00.31.08_MD589_1_0139/MD589-IHC47-2015.07.31-00.31.08_MD589_1_0139_image_inverted_10.tif /home/yuncong/csd395/CSHL_cells_v2/detected_cells/MD589/MD589-IHC47-2015.07.31-00.31.08_MD589_1_0139/MD589-IHC47-2015.07.31-00.31.08_MD589_1_0139_image_inverted_10_labeled_farsight.tif /home/yuncong/csd395/CSHL_cells_v2/farsight_parameters.txt\n"
     ]
    },
    {
     "name": "stderr",
     "output_type": "stream",
     "text": [
      "Child returned 0\n"
     ]
    },
    {
     "name": "stdout",
     "output_type": "stream",
     "text": [
      "/home/yuncong/csd395/Farsight-0.4.4-Linux/bin/segment_nuclei /home/yuncong/csd395/CSHL_cells_v2/detected_cells/MD589/MD589-IHC47-2015.07.31-00.31.08_MD589_1_0139/MD589-IHC47-2015.07.31-00.31.08_MD589_1_0139_image_inverted_11.tif /home/yuncong/csd395/CSHL_cells_v2/detected_cells/MD589/MD589-IHC47-2015.07.31-00.31.08_MD589_1_0139/MD589-IHC47-2015.07.31-00.31.08_MD589_1_0139_image_inverted_11_labeled_farsight.tif /home/yuncong/csd395/CSHL_cells_v2/farsight_parameters.txt\n"
     ]
    },
    {
     "name": "stderr",
     "output_type": "stream",
     "text": [
      "Child returned 0\n",
      "Child returned 0\n",
      "Child returned 0\n",
      "Child returned 0\n"
     ]
    },
    {
     "name": "stdout",
     "output_type": "stream",
     "text": [
      "rm /home/yuncong/csd395/CSHL_cells_v2/detected_cells/MD589/MD589-IHC47-2015.07.31-00.31.08_MD589_1_0139/MD589-IHC47-2015.07.31-00.31.08_MD589_1_0139_image_inverted_00_seg_final.dat\n",
      "rm /home/yuncong/csd395/CSHL_cells_v2/detected_cells/MD589/MD589-IHC47-2015.07.31-00.31.08_MD589_1_0139/MD589-IHC47-2015.07.31-00.31.08_MD589_1_0139_image_inverted_00_seedPoints.txt\n",
      "rm /home/yuncong/csd395/CSHL_cells_v2/detected_cells/MD589/MD589-IHC47-2015.07.31-00.31.08_MD589_1_0139/MD589-IHC47-2015.07.31-00.31.08_MD589_1_0139_image_inverted_00_labeled_farsight.tif\n",
      "rm /home/yuncong/csd395/CSHL_cells_v2/detected_cells/MD589/MD589-IHC47-2015.07.31-00.31.08_MD589_1_0139/MD589-IHC47-2015.07.31-00.31.08_MD589_1_0139_image_inverted_01_seg_final.dat\n",
      "rm /home/yuncong/csd395/CSHL_cells_v2/detected_cells/MD589/MD589-IHC47-2015.07.31-00.31.08_MD589_1_0139/MD589-IHC47-2015.07.31-00.31.08_MD589_1_0139_image_inverted_01_seedPoints.txt\n",
      "rm /home/yuncong/csd395/CSHL_cells_v2/detected_cells/MD589/MD589-IHC47-2015.07.31-00.31.08_MD589_1_0139/MD589-IHC47-2015.07.31-00.31.08_MD589_1_0139_image_inverted_01_labeled_farsight.tif\n"
     ]
    },
    {
     "name": "stderr",
     "output_type": "stream",
     "text": [
      "Child returned 0\n",
      "Child returned 0\n",
      "Child returned 0\n",
      "Child returned 0\n",
      "Child returned 0\n",
      "Child returned 0\n",
      "Child returned 0\n"
     ]
    },
    {
     "name": "stdout",
     "output_type": "stream",
     "text": [
      "rm /home/yuncong/csd395/CSHL_cells_v2/detected_cells/MD589/MD589-IHC47-2015.07.31-00.31.08_MD589_1_0139/MD589-IHC47-2015.07.31-00.31.08_MD589_1_0139_image_inverted_02_seg_final.dat\n",
      "rm /home/yuncong/csd395/CSHL_cells_v2/detected_cells/MD589/MD589-IHC47-2015.07.31-00.31.08_MD589_1_0139/MD589-IHC47-2015.07.31-00.31.08_MD589_1_0139_image_inverted_02_seedPoints.txt\n",
      "rm /home/yuncong/csd395/CSHL_cells_v2/detected_cells/MD589/MD589-IHC47-2015.07.31-00.31.08_MD589_1_0139/MD589-IHC47-2015.07.31-00.31.08_MD589_1_0139_image_inverted_02_labeled_farsight.tif\n",
      "rm /home/yuncong/csd395/CSHL_cells_v2/detected_cells/MD589/MD589-IHC47-2015.07.31-00.31.08_MD589_1_0139/MD589-IHC47-2015.07.31-00.31.08_MD589_1_0139_image_inverted_03_seg_final.dat\n",
      "rm /home/yuncong/csd395/CSHL_cells_v2/detected_cells/MD589/MD589-IHC47-2015.07.31-00.31.08_MD589_1_0139/MD589-IHC47-2015.07.31-00.31.08_MD589_1_0139_image_inverted_03_seedPoints.txt\n",
      "rm /home/yuncong/csd395/CSHL_cells_v2/detected_cells/MD589/MD589-IHC47-2015.07.31-00.31.08_MD589_1_0139/MD589-IHC47-2015.07.31-00.31.08_MD589_1_0139_image_inverted_03_labeled_farsight.tif\n",
      "rm /home/yuncong/csd395/CSHL_cells_v2/detected_cells/MD589/MD589-IHC47-2015.07.31-00.31.08_MD589_1_0139/MD589-IHC47-2015.07.31-00.31.08_MD589_1_0139_image_inverted_04_seg_final.dat\n"
     ]
    },
    {
     "name": "stderr",
     "output_type": "stream",
     "text": [
      "Child returned 1\n",
      "Child returned 0\n",
      "Child returned 0\n",
      "Child returned 0\n",
      "Child returned 0\n"
     ]
    },
    {
     "name": "stdout",
     "output_type": "stream",
     "text": [
      "rm /home/yuncong/csd395/CSHL_cells_v2/detected_cells/MD589/MD589-IHC47-2015.07.31-00.31.08_MD589_1_0139/MD589-IHC47-2015.07.31-00.31.08_MD589_1_0139_image_inverted_04_seedPoints.txt\n",
      "rm /home/yuncong/csd395/CSHL_cells_v2/detected_cells/MD589/MD589-IHC47-2015.07.31-00.31.08_MD589_1_0139/MD589-IHC47-2015.07.31-00.31.08_MD589_1_0139_image_inverted_04_labeled_farsight.tif\n",
      "rm /home/yuncong/csd395/CSHL_cells_v2/detected_cells/MD589/MD589-IHC47-2015.07.31-00.31.08_MD589_1_0139/MD589-IHC47-2015.07.31-00.31.08_MD589_1_0139_image_inverted_05_seg_final.dat\n",
      "rm /home/yuncong/csd395/CSHL_cells_v2/detected_cells/MD589/MD589-IHC47-2015.07.31-00.31.08_MD589_1_0139/MD589-IHC47-2015.07.31-00.31.08_MD589_1_0139_image_inverted_05_seedPoints.txt\n",
      "rm /home/yuncong/csd395/CSHL_cells_v2/detected_cells/MD589/MD589-IHC47-2015.07.31-00.31.08_MD589_1_0139/MD589-IHC47-2015.07.31-00.31.08_MD589_1_0139_image_inverted_05_labeled_farsight.tif\n"
     ]
    },
    {
     "name": "stderr",
     "output_type": "stream",
     "text": [
      "Child returned 0\n",
      "Child returned 0\n",
      "Child returned 0\n",
      "Child returned 0\n",
      "Child returned 0\n",
      "Child returned 0\n",
      "Child returned 0\n",
      "Child returned 1\n"
     ]
    },
    {
     "name": "stdout",
     "output_type": "stream",
     "text": [
      "rm /home/yuncong/csd395/CSHL_cells_v2/detected_cells/MD589/MD589-IHC47-2015.07.31-00.31.08_MD589_1_0139/MD589-IHC47-2015.07.31-00.31.08_MD589_1_0139_image_inverted_06_seg_final.dat\n",
      "rm /home/yuncong/csd395/CSHL_cells_v2/detected_cells/MD589/MD589-IHC47-2015.07.31-00.31.08_MD589_1_0139/MD589-IHC47-2015.07.31-00.31.08_MD589_1_0139_image_inverted_06_seedPoints.txt\n",
      "rm /home/yuncong/csd395/CSHL_cells_v2/detected_cells/MD589/MD589-IHC47-2015.07.31-00.31.08_MD589_1_0139/MD589-IHC47-2015.07.31-00.31.08_MD589_1_0139_image_inverted_06_labeled_farsight.tif\n",
      "rm /home/yuncong/csd395/CSHL_cells_v2/detected_cells/MD589/MD589-IHC47-2015.07.31-00.31.08_MD589_1_0139/MD589-IHC47-2015.07.31-00.31.08_MD589_1_0139_image_inverted_07_seg_final.dat\n",
      "rm /home/yuncong/csd395/CSHL_cells_v2/detected_cells/MD589/MD589-IHC47-2015.07.31-00.31.08_MD589_1_0139/MD589-IHC47-2015.07.31-00.31.08_MD589_1_0139_image_inverted_07_seedPoints.txt\n",
      "rm /home/yuncong/csd395/CSHL_cells_v2/detected_cells/MD589/MD589-IHC47-2015.07.31-00.31.08_MD589_1_0139/MD589-IHC47-2015.07.31-00.31.08_MD589_1_0139_image_inverted_07_labeled_farsight.tif\n",
      "rm /home/yuncong/csd395/CSHL_cells_v2/detected_cells/MD589/MD589-IHC47-2015.07.31-00.31.08_MD589_1_0139/MD589-IHC47-2015.07.31-00.31.08_MD589_1_0139_image_inverted_08_seg_final.dat\n",
      "rm /home/yuncong/csd395/CSHL_cells_v2/detected_cells/MD589/MD589-IHC47-2015.07.31-00.31.08_MD589_1_0139/MD589-IHC47-2015.07.31-00.31.08_MD589_1_0139_image_inverted_08_seedPoints.txt\n",
      "rm /home/yuncong/csd395/CSHL_cells_v2/detected_cells/MD589/MD589-IHC47-2015.07.31-00.31.08_MD589_1_0139/MD589-IHC47-2015.07.31-00.31.08_MD589_1_0139_image_inverted_08_labeled_farsight.tif\n"
     ]
    },
    {
     "name": "stderr",
     "output_type": "stream",
     "text": [
      "Child returned 0\n",
      "Child returned 0\n",
      "Child returned 0\n",
      "Child returned 0\n",
      "Child returned 0\n",
      "Child returned 0\n",
      "Child returned 0\n",
      "Child returned 0\n"
     ]
    },
    {
     "name": "stdout",
     "output_type": "stream",
     "text": [
      "rm /home/yuncong/csd395/CSHL_cells_v2/detected_cells/MD589/MD589-IHC47-2015.07.31-00.31.08_MD589_1_0139/MD589-IHC47-2015.07.31-00.31.08_MD589_1_0139_image_inverted_09_seg_final.dat\n",
      "rm /home/yuncong/csd395/CSHL_cells_v2/detected_cells/MD589/MD589-IHC47-2015.07.31-00.31.08_MD589_1_0139/MD589-IHC47-2015.07.31-00.31.08_MD589_1_0139_image_inverted_09_seedPoints.txt\n",
      "rm /home/yuncong/csd395/CSHL_cells_v2/detected_cells/MD589/MD589-IHC47-2015.07.31-00.31.08_MD589_1_0139/MD589-IHC47-2015.07.31-00.31.08_MD589_1_0139_image_inverted_09_labeled_farsight.tif\n",
      "rm /home/yuncong/csd395/CSHL_cells_v2/detected_cells/MD589/MD589-IHC47-2015.07.31-00.31.08_MD589_1_0139/MD589-IHC47-2015.07.31-00.31.08_MD589_1_0139_image_inverted_10_seg_final.dat\n",
      "rm /home/yuncong/csd395/CSHL_cells_v2/detected_cells/MD589/MD589-IHC47-2015.07.31-00.31.08_MD589_1_0139/MD589-IHC47-2015.07.31-00.31.08_MD589_1_0139_image_inverted_10_seedPoints.txt\n",
      "rm /home/yuncong/csd395/CSHL_cells_v2/detected_cells/MD589/MD589-IHC47-2015.07.31-00.31.08_MD589_1_0139/MD589-IHC47-2015.07.31-00.31.08_MD589_1_0139_image_inverted_10_labeled_farsight.tif\n",
      "rm /home/yuncong/csd395/CSHL_cells_v2/detected_cells/MD589/MD589-IHC47-2015.07.31-00.31.08_MD589_1_0139/MD589-IHC47-2015.07.31-00.31.08_MD589_1_0139_image_inverted_11_seg_final.dat\n",
      "rm /home/yuncong/csd395/CSHL_cells_v2/detected_cells/MD589/MD589-IHC47-2015.07.31-00.31.08_MD589_1_0139/MD589-IHC47-2015.07.31-00.31.08_MD589_1_0139_image_inverted_11_seedPoints.txt\n",
      "rm /home/yuncong/csd395/CSHL_cells_v2/detected_cells/MD589/MD589-IHC47-2015.07.31-00.31.08_MD589_1_0139/MD589-IHC47-2015.07.31-00.31.08_MD589_1_0139_image_inverted_11_labeled_farsight.tif\n"
     ]
    },
    {
     "name": "stderr",
     "output_type": "stream",
     "text": [
      "Child returned 0\n",
      "Child returned 0\n",
      "Child returned 0\n",
      "Child returned 0\n",
      "Child returned 0\n",
      "/oasis/projects/nsf/csd395/yuncong/brain_virtualenv/lib/python2.7/site-packages/skimage/util/dtype.py:122: UserWarning: Possible precision loss when converting from float64 to uint8\n",
      "  .format(dtypeobj_in, dtypeobj_out))\n",
      "Generate labelmap viz: 52.72 seconds.\n"
     ]
    }
   ],
   "source": [
    "detect_cells(243)"
   ]
  }
 ],
 "metadata": {
  "kernelspec": {
   "display_name": "Python 2",
   "language": "python",
   "name": "python2"
  },
  "language_info": {
   "codemirror_mode": {
    "name": "ipython",
    "version": 2
   },
   "file_extension": ".py",
   "mimetype": "text/x-python",
   "name": "python",
   "nbconvert_exporter": "python",
   "pygments_lexer": "ipython2",
   "version": "2.7.3"
  }
 },
 "nbformat": 4,
 "nbformat_minor": 1
}
