{
 "cells": [
  {
   "cell_type": "code",
   "execution_count": 2,
   "metadata": {
    "collapsed": false
   },
   "outputs": [
    {
     "name": "stdout",
     "output_type": "stream",
     "text": [
      "Setting environment for Local Macbook Pro\n"
     ]
    }
   ],
   "source": [
    "%reload_ext autoreload\n",
    "%autoreload 2\n",
    "\n",
    "import os\n",
    "import sys\n",
    "import time\n",
    "import cv2\n",
    "\n",
    "# from joblib import Parallel, delayed\n",
    "\n",
    "sys.path.append(os.path.join(os.environ['REPO_DIR'], 'utilities'))\n",
    "from utilities2015 import *\n",
    "from data_manager import *\n",
    "from metadata import *\n",
    "\n",
    "import matplotlib.pyplot as plt\n",
    "%matplotlib inline"
   ]
  },
  {
   "cell_type": "code",
   "execution_count": 3,
   "metadata": {
    "collapsed": false
   },
   "outputs": [
    {
     "name": "stderr",
     "output_type": "stream",
     "text": [
      "/usr/local/lib/python2.7/dist-packages/PIL/Image.py:2244: DecompressionBombWarning: Image size (185246720 pixels) exceeds limit of 89478485 pixels, could be decompression bomb DOS attack.\n",
      "  DecompressionBombWarning)\n"
     ]
    }
   ],
   "source": [
    "DETECTED_CELLS_DIR = '/home/yuncong/CSHL_cells_v2/detected_cells'\n",
    "\n",
    "stack = 'MD589'\n",
    "# img_fn = 'MD589-N34-2015.07.30-18.20.43_MD589_2_0101'\n",
    "img_fn = 'MD589-N47-2015.07.30-19.12.19_MD589_1_0139'\n",
    "\n",
    "input_img_fp = DETECTED_CELLS_DIR + '/%(stack)s/%(img_fn)s/%(img_fn)s_image_inverted.jpg' % dict(stack=stack, img_fn=img_fn)\n",
    "img = imread(input_img_fp)\n",
    "img_h, img_w = img.shape[:2]"
   ]
  },
  {
   "cell_type": "code",
   "execution_count": 4,
   "metadata": {
    "collapsed": true
   },
   "outputs": [],
   "source": [
    "input_fps = [os.path.splitext(input_img_fp)[0] + '_%02d.tif' % tile_idx for tile_idx in range(12)]"
   ]
  },
  {
   "cell_type": "markdown",
   "metadata": {},
   "source": [
    "# Farsight"
   ]
  },
  {
   "cell_type": "code",
   "execution_count": 4,
   "metadata": {
    "collapsed": false
   },
   "outputs": [],
   "source": [
    "# output_fps = [os.path.splitext(input_fp)[0] + '_labeled_farsight.tif' for input_fp in input_fps]"
   ]
  },
  {
   "cell_type": "code",
   "execution_count": 5,
   "metadata": {
    "collapsed": true
   },
   "outputs": [],
   "source": [
    "FARSIGHT_EXEC = '/home/yuncong/Farsight-0.4.4-Linux/bin/segment_nuclei'"
   ]
  },
  {
   "cell_type": "code",
   "execution_count": 6,
   "metadata": {
    "collapsed": false,
    "scrolled": true
   },
   "outputs": [
    {
     "name": "stdout",
     "output_type": "stream",
     "text": [
      "/home/yuncong/Farsight-0.4.4-Linux/bin/segment_nuclei /home/yuncong/CSHL_cells_v2/detected_cells/MD589/MD589-N34-2015.07.30-18.20.43_MD589_2_0101/MD589-N34-2015.07.30-18.20.43_MD589_2_0101_image_inverted_00.tif /home/yuncong/CSHL_cells_v2/detected_cells/MD589/MD589-N34-2015.07.30-18.20.43_MD589_2_0101/MD589-N34-2015.07.30-18.20.43_MD589_2_0101_image_inverted_00_labeled_farsight.tif\n"
     ]
    },
    {
     "name": "stderr",
     "output_type": "stream",
     "text": [
      "Child returned 0\n"
     ]
    },
    {
     "name": "stdout",
     "output_type": "stream",
     "text": [
      "/home/yuncong/Farsight-0.4.4-Linux/bin/segment_nuclei /home/yuncong/CSHL_cells_v2/detected_cells/MD589/MD589-N34-2015.07.30-18.20.43_MD589_2_0101/MD589-N34-2015.07.30-18.20.43_MD589_2_0101_image_inverted_01.tif /home/yuncong/CSHL_cells_v2/detected_cells/MD589/MD589-N34-2015.07.30-18.20.43_MD589_2_0101/MD589-N34-2015.07.30-18.20.43_MD589_2_0101_image_inverted_01_labeled_farsight.tif\n"
     ]
    },
    {
     "name": "stderr",
     "output_type": "stream",
     "text": [
      "Child returned 0\n"
     ]
    },
    {
     "name": "stdout",
     "output_type": "stream",
     "text": [
      "/home/yuncong/Farsight-0.4.4-Linux/bin/segment_nuclei /home/yuncong/CSHL_cells_v2/detected_cells/MD589/MD589-N34-2015.07.30-18.20.43_MD589_2_0101/MD589-N34-2015.07.30-18.20.43_MD589_2_0101_image_inverted_02.tif /home/yuncong/CSHL_cells_v2/detected_cells/MD589/MD589-N34-2015.07.30-18.20.43_MD589_2_0101/MD589-N34-2015.07.30-18.20.43_MD589_2_0101_image_inverted_02_labeled_farsight.tif\n"
     ]
    },
    {
     "name": "stderr",
     "output_type": "stream",
     "text": [
      "Child returned 0\n"
     ]
    },
    {
     "name": "stdout",
     "output_type": "stream",
     "text": [
      "/home/yuncong/Farsight-0.4.4-Linux/bin/segment_nuclei /home/yuncong/CSHL_cells_v2/detected_cells/MD589/MD589-N34-2015.07.30-18.20.43_MD589_2_0101/MD589-N34-2015.07.30-18.20.43_MD589_2_0101_image_inverted_03.tif /home/yuncong/CSHL_cells_v2/detected_cells/MD589/MD589-N34-2015.07.30-18.20.43_MD589_2_0101/MD589-N34-2015.07.30-18.20.43_MD589_2_0101_image_inverted_03_labeled_farsight.tif\n"
     ]
    },
    {
     "name": "stderr",
     "output_type": "stream",
     "text": [
      "Child returned 0\n"
     ]
    },
    {
     "name": "stdout",
     "output_type": "stream",
     "text": [
      "/home/yuncong/Farsight-0.4.4-Linux/bin/segment_nuclei /home/yuncong/CSHL_cells_v2/detected_cells/MD589/MD589-N34-2015.07.30-18.20.43_MD589_2_0101/MD589-N34-2015.07.30-18.20.43_MD589_2_0101_image_inverted_04.tif /home/yuncong/CSHL_cells_v2/detected_cells/MD589/MD589-N34-2015.07.30-18.20.43_MD589_2_0101/MD589-N34-2015.07.30-18.20.43_MD589_2_0101_image_inverted_04_labeled_farsight.tif\n"
     ]
    },
    {
     "name": "stderr",
     "output_type": "stream",
     "text": [
      "Child returned 0\n"
     ]
    },
    {
     "name": "stdout",
     "output_type": "stream",
     "text": [
      "/home/yuncong/Farsight-0.4.4-Linux/bin/segment_nuclei /home/yuncong/CSHL_cells_v2/detected_cells/MD589/MD589-N34-2015.07.30-18.20.43_MD589_2_0101/MD589-N34-2015.07.30-18.20.43_MD589_2_0101_image_inverted_05.tif /home/yuncong/CSHL_cells_v2/detected_cells/MD589/MD589-N34-2015.07.30-18.20.43_MD589_2_0101/MD589-N34-2015.07.30-18.20.43_MD589_2_0101_image_inverted_05_labeled_farsight.tif\n"
     ]
    },
    {
     "name": "stderr",
     "output_type": "stream",
     "text": [
      "Child returned 0\n"
     ]
    },
    {
     "name": "stdout",
     "output_type": "stream",
     "text": [
      "/home/yuncong/Farsight-0.4.4-Linux/bin/segment_nuclei /home/yuncong/CSHL_cells_v2/detected_cells/MD589/MD589-N34-2015.07.30-18.20.43_MD589_2_0101/MD589-N34-2015.07.30-18.20.43_MD589_2_0101_image_inverted_06.tif /home/yuncong/CSHL_cells_v2/detected_cells/MD589/MD589-N34-2015.07.30-18.20.43_MD589_2_0101/MD589-N34-2015.07.30-18.20.43_MD589_2_0101_image_inverted_06_labeled_farsight.tif\n"
     ]
    },
    {
     "name": "stderr",
     "output_type": "stream",
     "text": [
      "Child returned 0\n"
     ]
    },
    {
     "name": "stdout",
     "output_type": "stream",
     "text": [
      "/home/yuncong/Farsight-0.4.4-Linux/bin/segment_nuclei /home/yuncong/CSHL_cells_v2/detected_cells/MD589/MD589-N34-2015.07.30-18.20.43_MD589_2_0101/MD589-N34-2015.07.30-18.20.43_MD589_2_0101_image_inverted_07.tif /home/yuncong/CSHL_cells_v2/detected_cells/MD589/MD589-N34-2015.07.30-18.20.43_MD589_2_0101/MD589-N34-2015.07.30-18.20.43_MD589_2_0101_image_inverted_07_labeled_farsight.tif\n"
     ]
    },
    {
     "name": "stderr",
     "output_type": "stream",
     "text": [
      "Child returned 0\n"
     ]
    },
    {
     "name": "stdout",
     "output_type": "stream",
     "text": [
      "/home/yuncong/Farsight-0.4.4-Linux/bin/segment_nuclei /home/yuncong/CSHL_cells_v2/detected_cells/MD589/MD589-N34-2015.07.30-18.20.43_MD589_2_0101/MD589-N34-2015.07.30-18.20.43_MD589_2_0101_image_inverted_08.tif /home/yuncong/CSHL_cells_v2/detected_cells/MD589/MD589-N34-2015.07.30-18.20.43_MD589_2_0101/MD589-N34-2015.07.30-18.20.43_MD589_2_0101_image_inverted_08_labeled_farsight.tif\n"
     ]
    },
    {
     "name": "stderr",
     "output_type": "stream",
     "text": [
      "Child returned 0\n"
     ]
    },
    {
     "name": "stdout",
     "output_type": "stream",
     "text": [
      "/home/yuncong/Farsight-0.4.4-Linux/bin/segment_nuclei /home/yuncong/CSHL_cells_v2/detected_cells/MD589/MD589-N34-2015.07.30-18.20.43_MD589_2_0101/MD589-N34-2015.07.30-18.20.43_MD589_2_0101_image_inverted_09.tif /home/yuncong/CSHL_cells_v2/detected_cells/MD589/MD589-N34-2015.07.30-18.20.43_MD589_2_0101/MD589-N34-2015.07.30-18.20.43_MD589_2_0101_image_inverted_09_labeled_farsight.tif\n"
     ]
    },
    {
     "name": "stderr",
     "output_type": "stream",
     "text": [
      "Child returned 0\n"
     ]
    },
    {
     "name": "stdout",
     "output_type": "stream",
     "text": [
      "/home/yuncong/Farsight-0.4.4-Linux/bin/segment_nuclei /home/yuncong/CSHL_cells_v2/detected_cells/MD589/MD589-N34-2015.07.30-18.20.43_MD589_2_0101/MD589-N34-2015.07.30-18.20.43_MD589_2_0101_image_inverted_10.tif /home/yuncong/CSHL_cells_v2/detected_cells/MD589/MD589-N34-2015.07.30-18.20.43_MD589_2_0101/MD589-N34-2015.07.30-18.20.43_MD589_2_0101_image_inverted_10_labeled_farsight.tif\n"
     ]
    },
    {
     "name": "stderr",
     "output_type": "stream",
     "text": [
      "Child returned 0\n"
     ]
    },
    {
     "name": "stdout",
     "output_type": "stream",
     "text": [
      "/home/yuncong/Farsight-0.4.4-Linux/bin/segment_nuclei /home/yuncong/CSHL_cells_v2/detected_cells/MD589/MD589-N34-2015.07.30-18.20.43_MD589_2_0101/MD589-N34-2015.07.30-18.20.43_MD589_2_0101_image_inverted_11.tif /home/yuncong/CSHL_cells_v2/detected_cells/MD589/MD589-N34-2015.07.30-18.20.43_MD589_2_0101/MD589-N34-2015.07.30-18.20.43_MD589_2_0101_image_inverted_11_labeled_farsight.tif\n"
     ]
    },
    {
     "name": "stderr",
     "output_type": "stream",
     "text": [
      "Child returned 0\n"
     ]
    }
   ],
   "source": [
    "# Use without parameters\n",
    "\n",
    "for input_fp, output_fp in zip(input_fps, output_fps):\n",
    "    execute_command(FARSIGHT_EXEC + ' %(input_fp)s %(output_fp)s' % \\\n",
    "                   dict(input_fp=input_fp,\n",
    "                        output_fp=output_fp))"
   ]
  },
  {
   "cell_type": "code",
   "execution_count": null,
   "metadata": {
    "collapsed": false,
    "scrolled": true
   },
   "outputs": [],
   "source": [
    "# Use with parameters\n",
    "\n",
    "FARSIGHT_PARAMS_FP = '/home/yuncong/CSHL_cells_v2/farsight_parameters.txt'\n",
    "\n",
    "with open(FARSIGHT_PARAMS_FP, 'w') as f:\n",
    "    f.write('! Segmentation parameters File\\n! All parameters are case sensitive\\n')\n",
    "    f.write('min_object_size 100\\n')\n",
    "\n",
    "for input_fp, output_fp in zip(input_fps, output_fps):\n",
    "\n",
    "    execute_command(FARSIGHT_EXEC + ' %(input_fp)s %(output_fp)s %(params)s' % \\\n",
    "               dict(input_fp=input_fp,\n",
    "                    output_fp=output_fp,\n",
    "                    params=FARSIGHT_PARAMS_FP))"
   ]
  },
  {
   "cell_type": "code",
   "execution_count": 8,
   "metadata": {
    "collapsed": false,
    "scrolled": true
   },
   "outputs": [
    {
     "name": "stdout",
     "output_type": "stream",
     "text": [
      "rm /home/yuncong/CSHL_cells_v2/detected_cells/MD589/MD589-N34-2015.07.30-18.20.43_MD589_2_0101/MD589-N34-2015.07.30-18.20.43_MD589_2_0101_image_inverted_00_seg_final.dat\n",
      "rm /home/yuncong/CSHL_cells_v2/detected_cells/MD589/MD589-N34-2015.07.30-18.20.43_MD589_2_0101/MD589-N34-2015.07.30-18.20.43_MD589_2_0101_image_inverted_00_seedPoints.txt\n",
      "rm /home/yuncong/CSHL_cells_v2/detected_cells/MD589/MD589-N34-2015.07.30-18.20.43_MD589_2_0101/MD589-N34-2015.07.30-18.20.43_MD589_2_0101_image_inverted_00_labeled_farsight.tif\n",
      "rm /home/yuncong/CSHL_cells_v2/detected_cells/MD589/MD589-N34-2015.07.30-18.20.43_MD589_2_0101/MD589-N34-2015.07.30-18.20.43_MD589_2_0101_image_inverted_01_seg_final.dat\n",
      "rm /home/yuncong/CSHL_cells_v2/detected_cells/MD589/MD589-N34-2015.07.30-18.20.43_MD589_2_0101/MD589-N34-2015.07.30-18.20.43_MD589_2_0101_image_inverted_01_seedPoints.txt\n",
      "rm /home/yuncong/CSHL_cells_v2/detected_cells/MD589/MD589-N34-2015.07.30-18.20.43_MD589_2_0101/MD589-N34-2015.07.30-18.20.43_MD589_2_0101_image_inverted_01_labeled_farsight.tif\n",
      "rm /home/yuncong/CSHL_cells_v2/detected_cells/MD589/MD589-N34-2015.07.30-18.20.43_MD589_2_0101/MD589-N34-2015.07.30-18.20.43_MD589_2_0101_image_inverted_02_seg_final.dat\n",
      "rm /home/yuncong/CSHL_cells_v2/detected_cells/MD589/MD589-N34-2015.07.30-18.20.43_MD589_2_0101/MD589-N34-2015.07.30-18.20.43_MD589_2_0101_image_inverted_02_seedPoints.txt\n"
     ]
    },
    {
     "name": "stderr",
     "output_type": "stream",
     "text": [
      "Child returned 0\n",
      "Child returned 0\n",
      "Child returned 0\n",
      "Child returned 0\n",
      "Child returned 0\n",
      "Child returned 0\n",
      "Child returned 0\n",
      "Child returned 0\n",
      "Child returned 0\n"
     ]
    },
    {
     "name": "stdout",
     "output_type": "stream",
     "text": [
      "rm /home/yuncong/CSHL_cells_v2/detected_cells/MD589/MD589-N34-2015.07.30-18.20.43_MD589_2_0101/MD589-N34-2015.07.30-18.20.43_MD589_2_0101_image_inverted_02_labeled_farsight.tif\n",
      "rm /home/yuncong/CSHL_cells_v2/detected_cells/MD589/MD589-N34-2015.07.30-18.20.43_MD589_2_0101/MD589-N34-2015.07.30-18.20.43_MD589_2_0101_image_inverted_03_seg_final.dat\n",
      "rm /home/yuncong/CSHL_cells_v2/detected_cells/MD589/MD589-N34-2015.07.30-18.20.43_MD589_2_0101/MD589-N34-2015.07.30-18.20.43_MD589_2_0101_image_inverted_03_seedPoints.txt\n",
      "rm /home/yuncong/CSHL_cells_v2/detected_cells/MD589/MD589-N34-2015.07.30-18.20.43_MD589_2_0101/MD589-N34-2015.07.30-18.20.43_MD589_2_0101_image_inverted_03_labeled_farsight.tif\n",
      "rm /home/yuncong/CSHL_cells_v2/detected_cells/MD589/MD589-N34-2015.07.30-18.20.43_MD589_2_0101/MD589-N34-2015.07.30-18.20.43_MD589_2_0101_image_inverted_04_seg_final.dat\n",
      "rm /home/yuncong/CSHL_cells_v2/detected_cells/MD589/MD589-N34-2015.07.30-18.20.43_MD589_2_0101/MD589-N34-2015.07.30-18.20.43_MD589_2_0101_image_inverted_04_seedPoints.txt\n",
      "rm /home/yuncong/CSHL_cells_v2/detected_cells/MD589/MD589-N34-2015.07.30-18.20.43_MD589_2_0101/MD589-N34-2015.07.30-18.20.43_MD589_2_0101_image_inverted_04_labeled_farsight.tif\n",
      "rm /home/yuncong/CSHL_cells_v2/detected_cells/MD589/MD589-N34-2015.07.30-18.20.43_MD589_2_0101/MD589-N34-2015.07.30-18.20.43_MD589_2_0101_image_inverted_05_seg_final.dat\n",
      "rm /home/yuncong/CSHL_cells_v2/detected_cells/MD589/MD589-N34-2015.07.30-18.20.43_MD589_2_0101/MD589-N34-2015.07.30-18.20.43_MD589_2_0101_image_inverted_05_seedPoints.txt\n"
     ]
    },
    {
     "name": "stderr",
     "output_type": "stream",
     "text": [
      "Child returned 0\n",
      "Child returned 1\n",
      "Child returned 0\n",
      "Child returned 0\n",
      "Child returned 0\n",
      "Child returned 0\n",
      "Child returned 0\n",
      "Child returned 0\n",
      "Child returned 0\n"
     ]
    },
    {
     "name": "stdout",
     "output_type": "stream",
     "text": [
      "rm /home/yuncong/CSHL_cells_v2/detected_cells/MD589/MD589-N34-2015.07.30-18.20.43_MD589_2_0101/MD589-N34-2015.07.30-18.20.43_MD589_2_0101_image_inverted_05_labeled_farsight.tif\n",
      "rm /home/yuncong/CSHL_cells_v2/detected_cells/MD589/MD589-N34-2015.07.30-18.20.43_MD589_2_0101/MD589-N34-2015.07.30-18.20.43_MD589_2_0101_image_inverted_06_seg_final.dat\n",
      "rm /home/yuncong/CSHL_cells_v2/detected_cells/MD589/MD589-N34-2015.07.30-18.20.43_MD589_2_0101/MD589-N34-2015.07.30-18.20.43_MD589_2_0101_image_inverted_06_seedPoints.txt\n",
      "rm /home/yuncong/CSHL_cells_v2/detected_cells/MD589/MD589-N34-2015.07.30-18.20.43_MD589_2_0101/MD589-N34-2015.07.30-18.20.43_MD589_2_0101_image_inverted_06_labeled_farsight.tif\n",
      "rm /home/yuncong/CSHL_cells_v2/detected_cells/MD589/MD589-N34-2015.07.30-18.20.43_MD589_2_0101/MD589-N34-2015.07.30-18.20.43_MD589_2_0101_image_inverted_07_seg_final.dat\n",
      "rm /home/yuncong/CSHL_cells_v2/detected_cells/MD589/MD589-N34-2015.07.30-18.20.43_MD589_2_0101/MD589-N34-2015.07.30-18.20.43_MD589_2_0101_image_inverted_07_seedPoints.txt\n",
      "rm /home/yuncong/CSHL_cells_v2/detected_cells/MD589/MD589-N34-2015.07.30-18.20.43_MD589_2_0101/MD589-N34-2015.07.30-18.20.43_MD589_2_0101_image_inverted_07_labeled_farsight.tif\n",
      "rm /home/yuncong/CSHL_cells_v2/detected_cells/MD589/MD589-N34-2015.07.30-18.20.43_MD589_2_0101/MD589-N34-2015.07.30-18.20.43_MD589_2_0101_image_inverted_08_seg_final.dat\n",
      "rm /home/yuncong/CSHL_cells_v2/detected_cells/MD589/MD589-N34-2015.07.30-18.20.43_MD589_2_0101/MD589-N34-2015.07.30-18.20.43_MD589_2_0101_image_inverted_08_seedPoints.txt\n",
      "rm /home/yuncong/CSHL_cells_v2/detected_cells/MD589/MD589-N34-2015.07.30-18.20.43_MD589_2_0101/MD589-N34-2015.07.30-18.20.43_MD589_2_0101_image_inverted_08_labeled_farsight.tif\n",
      "rm /home/yuncong/CSHL_cells_v2/detected_cells/MD589/MD589-N34-2015.07.30-18.20.43_MD589_2_0101/MD589-N34-2015.07.30-18.20.43_MD589_2_0101_image_inverted_09_seg_final.dat\n",
      "rm /home/yuncong/CSHL_cells_v2/detected_cells/MD589/MD589-N34-2015.07.30-18.20.43_MD589_2_0101/MD589-N34-2015.07.30-18.20.43_MD589_2_0101_image_inverted_09_seedPoints.txt\n"
     ]
    },
    {
     "name": "stderr",
     "output_type": "stream",
     "text": [
      "Child returned 0\n",
      "Child returned 0\n",
      "Child returned 0\n",
      "Child returned 0\n",
      "Child returned 1\n",
      "Child returned 0\n",
      "Child returned 0\n",
      "Child returned 0\n",
      "Child returned 0\n",
      "Child returned 0\n",
      "Child returned 0\n",
      "Child returned 0\n",
      "Child returned 0\n",
      "Child returned 0\n",
      "Child returned 0\n"
     ]
    },
    {
     "name": "stdout",
     "output_type": "stream",
     "text": [
      "rm /home/yuncong/CSHL_cells_v2/detected_cells/MD589/MD589-N34-2015.07.30-18.20.43_MD589_2_0101/MD589-N34-2015.07.30-18.20.43_MD589_2_0101_image_inverted_09_labeled_farsight.tif\n",
      "rm /home/yuncong/CSHL_cells_v2/detected_cells/MD589/MD589-N34-2015.07.30-18.20.43_MD589_2_0101/MD589-N34-2015.07.30-18.20.43_MD589_2_0101_image_inverted_10_seg_final.dat\n",
      "rm /home/yuncong/CSHL_cells_v2/detected_cells/MD589/MD589-N34-2015.07.30-18.20.43_MD589_2_0101/MD589-N34-2015.07.30-18.20.43_MD589_2_0101_image_inverted_10_seedPoints.txt\n",
      "rm /home/yuncong/CSHL_cells_v2/detected_cells/MD589/MD589-N34-2015.07.30-18.20.43_MD589_2_0101/MD589-N34-2015.07.30-18.20.43_MD589_2_0101_image_inverted_10_labeled_farsight.tif\n",
      "rm /home/yuncong/CSHL_cells_v2/detected_cells/MD589/MD589-N34-2015.07.30-18.20.43_MD589_2_0101/MD589-N34-2015.07.30-18.20.43_MD589_2_0101_image_inverted_11_seg_final.dat\n",
      "rm /home/yuncong/CSHL_cells_v2/detected_cells/MD589/MD589-N34-2015.07.30-18.20.43_MD589_2_0101/MD589-N34-2015.07.30-18.20.43_MD589_2_0101_image_inverted_11_seedPoints.txt\n",
      "rm /home/yuncong/CSHL_cells_v2/detected_cells/MD589/MD589-N34-2015.07.30-18.20.43_MD589_2_0101/MD589-N34-2015.07.30-18.20.43_MD589_2_0101_image_inverted_11_labeled_farsight.tif\n"
     ]
    },
    {
     "name": "stderr",
     "output_type": "stream",
     "text": [
      "Child returned 0\n",
      "Child returned 0\n",
      "Child returned 0\n"
     ]
    }
   ],
   "source": [
    "for input_fp in input_fps:\n",
    "    prefix = os.path.splitext(input_fp)[0]\n",
    "    labelmap = imread(prefix + '_labeled_farsight.tif')\n",
    "    bp.pack_ndarray_file(labelmap, prefix + '_labelmap_farsight.bp')\n",
    "    execute_command('rm ' + prefix + '_seg_final.dat')\n",
    "    execute_command('rm ' + prefix + '_seedPoints.txt')\n",
    "    execute_command('rm ' + prefix + '_labeled_farsight.tif')"
   ]
  },
  {
   "cell_type": "markdown",
   "metadata": {},
   "source": [
    "# Cell Profiler"
   ]
  },
  {
   "cell_type": "code",
   "execution_count": 5,
   "metadata": {
    "collapsed": true
   },
   "outputs": [],
   "source": [
    "CELLPROFILER_EXEC = 'cellprofiler' # /usr/local/bin/cellprofiler"
   ]
  },
  {
   "cell_type": "code",
   "execution_count": 6,
   "metadata": {
    "collapsed": true
   },
   "outputs": [],
   "source": [
    "CELLPROFILER_PIPELINE_FP = '/home/yuncong/CSHL_cells_v2/SegmentCells.cppipe'"
   ]
  },
  {
   "cell_type": "code",
   "execution_count": 7,
   "metadata": {
    "collapsed": true
   },
   "outputs": [],
   "source": [
    "with open('/tmp/cellprofiler_filelist.txt', 'w') as f:\n",
    "    for input_fp in input_fps:\n",
    "        f.write(input_fp + '\\n')"
   ]
  },
  {
   "cell_type": "code",
   "execution_count": 8,
   "metadata": {
    "collapsed": false
   },
   "outputs": [
    {
     "name": "stdout",
     "output_type": "stream",
     "text": [
      "cellprofiler -c --file-list=/tmp/cellprofiler_filelist.txt -p /home/yuncong/CSHL_cells_v2/SegmentCells.cppipe\n"
     ]
    },
    {
     "name": "stderr",
     "output_type": "stream",
     "text": [
      "Child returned 0\n"
     ]
    }
   ],
   "source": [
    "t = time.time()\n",
    "\n",
    "execute_command(CELLPROFILER_EXEC + ' -c --file-list=/tmp/cellprofiler_filelist.txt -p %(pipeline_fp)s' % dict(pipeline_fp=CELLPROFILER_PIPELINE_FP))\n",
    "\n",
    "sys.stderr.write('Cell profiler: %.2f seconds.\\n' % (time.time()-t))"
   ]
  },
  {
   "cell_type": "code",
   "execution_count": 9,
   "metadata": {
    "collapsed": false,
    "scrolled": true
   },
   "outputs": [
    {
     "name": "stderr",
     "output_type": "stream",
     "text": [
      "Child returned 0\n"
     ]
    },
    {
     "name": "stdout",
     "output_type": "stream",
     "text": [
      "rm /home/yuncong/CSHL_cells_v2/detected_cells/MD589/MD589-N47-2015.07.30-19.12.19_MD589_1_0139/MD589-N47-2015.07.30-19.12.19_MD589_1_0139_image_inverted_00_labeled.mat\n",
      "rm /home/yuncong/CSHL_cells_v2/detected_cells/MD589/MD589-N47-2015.07.30-19.12.19_MD589_1_0139/MD589-N47-2015.07.30-19.12.19_MD589_1_0139_image_inverted_01_labeled.mat\n",
      "rm /home/yuncong/CSHL_cells_v2/detected_cells/MD589/MD589-N47-2015.07.30-19.12.19_MD589_1_0139/MD589-N47-2015.07.30-19.12.19_MD589_1_0139_image_inverted_02_labeled.mat\n"
     ]
    },
    {
     "name": "stderr",
     "output_type": "stream",
     "text": [
      "Child returned 0\n",
      "Child returned 0\n",
      "Child returned 0\n"
     ]
    },
    {
     "name": "stdout",
     "output_type": "stream",
     "text": [
      "rm /home/yuncong/CSHL_cells_v2/detected_cells/MD589/MD589-N47-2015.07.30-19.12.19_MD589_1_0139/MD589-N47-2015.07.30-19.12.19_MD589_1_0139_image_inverted_03_labeled.mat\n",
      "rm /home/yuncong/CSHL_cells_v2/detected_cells/MD589/MD589-N47-2015.07.30-19.12.19_MD589_1_0139/MD589-N47-2015.07.30-19.12.19_MD589_1_0139_image_inverted_04_labeled.mat\n"
     ]
    },
    {
     "name": "stderr",
     "output_type": "stream",
     "text": [
      "Child returned 0\n",
      "Child returned 0\n",
      "Child returned 0\n",
      "Child returned 0\n"
     ]
    },
    {
     "name": "stdout",
     "output_type": "stream",
     "text": [
      "rm /home/yuncong/CSHL_cells_v2/detected_cells/MD589/MD589-N47-2015.07.30-19.12.19_MD589_1_0139/MD589-N47-2015.07.30-19.12.19_MD589_1_0139_image_inverted_05_labeled.mat\n",
      "rm /home/yuncong/CSHL_cells_v2/detected_cells/MD589/MD589-N47-2015.07.30-19.12.19_MD589_1_0139/MD589-N47-2015.07.30-19.12.19_MD589_1_0139_image_inverted_06_labeled.mat\n",
      "rm /home/yuncong/CSHL_cells_v2/detected_cells/MD589/MD589-N47-2015.07.30-19.12.19_MD589_1_0139/MD589-N47-2015.07.30-19.12.19_MD589_1_0139_image_inverted_07_labeled.mat\n",
      "rm /home/yuncong/CSHL_cells_v2/detected_cells/MD589/MD589-N47-2015.07.30-19.12.19_MD589_1_0139/MD589-N47-2015.07.30-19.12.19_MD589_1_0139_image_inverted_08_labeled.mat\n",
      "rm /home/yuncong/CSHL_cells_v2/detected_cells/MD589/MD589-N47-2015.07.30-19.12.19_MD589_1_0139/MD589-N47-2015.07.30-19.12.19_MD589_1_0139_image_inverted_09_labeled.mat\n"
     ]
    },
    {
     "name": "stderr",
     "output_type": "stream",
     "text": [
      "Child returned 0\n",
      "Child returned 0\n",
      "Child returned 0\n"
     ]
    },
    {
     "name": "stdout",
     "output_type": "stream",
     "text": [
      "rm /home/yuncong/CSHL_cells_v2/detected_cells/MD589/MD589-N47-2015.07.30-19.12.19_MD589_1_0139/MD589-N47-2015.07.30-19.12.19_MD589_1_0139_image_inverted_10_labeled.mat\n",
      "rm /home/yuncong/CSHL_cells_v2/detected_cells/MD589/MD589-N47-2015.07.30-19.12.19_MD589_1_0139/MD589-N47-2015.07.30-19.12.19_MD589_1_0139_image_inverted_11_labeled.mat\n"
     ]
    },
    {
     "name": "stderr",
     "output_type": "stream",
     "text": [
      "Child returned 0\n"
     ]
    }
   ],
   "source": [
    "from scipy.io import loadmat\n",
    "\n",
    "for input_fp in input_fps:\n",
    "    prefix = os.path.splitext(input_fp)[0]\n",
    "    labelmap = loadmat(prefix + '_labeled.mat')['Image']\n",
    "    bp.pack_ndarray_file(labelmap, prefix + '_labelmap_cellprofiler.bp')\n",
    "    execute_command('rm ' + prefix + '_labeled.mat')"
   ]
  },
  {
   "cell_type": "markdown",
   "metadata": {},
   "source": [
    "# Mosaic"
   ]
  },
  {
   "cell_type": "code",
   "execution_count": 10,
   "metadata": {
    "collapsed": false
   },
   "outputs": [],
   "source": [
    "# tile_h, tile_w = (5000, 5000)\n",
    "\n",
    "origins = []\n",
    "for iy, y0 in enumerate(np.arange(0, img_h, 5000)):\n",
    "    for ix, x0 in enumerate(np.arange(0, img_w, 5000)):\n",
    "        origins.append((x0, y0))"
   ]
  },
  {
   "cell_type": "code",
   "execution_count": 11,
   "metadata": {
    "collapsed": true
   },
   "outputs": [],
   "source": [
    "alg = 'cellprofiler'\n",
    "# alg = 'farsight'"
   ]
  },
  {
   "cell_type": "code",
   "execution_count": 12,
   "metadata": {
    "collapsed": false
   },
   "outputs": [],
   "source": [
    "big_labelmap = np.zeros((img_h, img_w), dtype=np.int64)\n",
    "\n",
    "n = 0\n",
    "\n",
    "for i, input_fp in enumerate(input_fps):\n",
    "    prefix = os.path.splitext(input_fp)[0]\n",
    "    labelmap = bp.unpack_ndarray_file(prefix + '_labelmap_%(alg)s.bp' % dict(alg=alg)).astype(np.int64)\n",
    "    \n",
    "    x0, y0 = origins[i]\n",
    "    big_labelmap[y0:y0+5000, x0:x0+5000][labelmap != 0] = labelmap[labelmap != 0] + n\n",
    "    n += labelmap.max()"
   ]
  },
  {
   "cell_type": "code",
   "execution_count": 13,
   "metadata": {
    "collapsed": true
   },
   "outputs": [],
   "source": [
    "bp.pack_ndarray_file(big_labelmap, os.path.splitext(input_img_fp)[0] + '_labelmap_%(alg)s.bp' % dict(alg=alg))"
   ]
  },
  {
   "cell_type": "code",
   "execution_count": 14,
   "metadata": {
    "collapsed": false
   },
   "outputs": [
    {
     "name": "stderr",
     "output_type": "stream",
     "text": [
      "/usr/local/lib/python2.7/dist-packages/skimage/util/dtype.py:110: UserWarning: Possible precision loss when converting from float64 to uint8\n",
      "  \"%s to %s\" % (dtypeobj_in, dtypeobj))\n"
     ]
    }
   ],
   "source": [
    "viz = img_as_ubyte(label2rgb(big_labelmap, bg_label=0, bg_color=(0, 0, 0)))"
   ]
  },
  {
   "cell_type": "code",
   "execution_count": 15,
   "metadata": {
    "collapsed": false
   },
   "outputs": [],
   "source": [
    "cv2.imwrite(os.path.splitext(input_img_fp)[0] + '_labelmap_%(alg)s.png' % dict(alg=alg), viz);"
   ]
  },
  {
   "cell_type": "code",
   "execution_count": null,
   "metadata": {
    "collapsed": true
   },
   "outputs": [],
   "source": []
  }
 ],
 "metadata": {
  "kernelspec": {
   "display_name": "Python 2",
   "language": "python",
   "name": "python2"
  },
  "language_info": {
   "codemirror_mode": {
    "name": "ipython",
    "version": 2
   },
   "file_extension": ".py",
   "mimetype": "text/x-python",
   "name": "python",
   "nbconvert_exporter": "python",
   "pygments_lexer": "ipython2",
   "version": "2.7.12"
  }
 },
 "nbformat": 4,
 "nbformat_minor": 1
}
